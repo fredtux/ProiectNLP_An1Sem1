{
 "cells": [
  {
   "cell_type": "markdown",
   "metadata": {},
   "source": [
    "**References**\n",
    "\n",
    "[Tutorial: Working with Hugging Face Models and Datasets](https://github.com/anyuanay/medium/blob/main/src/working_huggingface/Working_with_HuggingFace_ch4_Fine_Tuning_Pretrained_Model_for_Question_Answering.ipynb)\n",
    "\n",
    "[Fine-Tuning-for-Question-Answering-SQuAD-IndoQA](https://github.com/PrasetyoWidyantoro/Fine-Tuning-for-Question-Answering-SQuAD-IndoQA/blob/master/fine-tune-squad-dataset.ipynb)"
   ]
  },
  {
   "cell_type": "markdown",
   "metadata": {},
   "source": [
    "# Import libraries"
   ]
  },
  {
   "cell_type": "code",
   "execution_count": 1,
   "metadata": {
    "execution": {
     "iopub.execute_input": "2025-01-05T12:48:52.463036Z",
     "iopub.status.busy": "2025-01-05T12:48:52.462783Z",
     "iopub.status.idle": "2025-01-05T12:48:58.058302Z",
     "shell.execute_reply": "2025-01-05T12:48:58.057301Z",
     "shell.execute_reply.started": "2025-01-05T12:48:52.463007Z"
    },
    "trusted": true
   },
   "outputs": [
    {
     "name": "stdout",
     "output_type": "stream",
     "text": [
      "Collecting evaluate\n",
      "  Downloading evaluate-0.4.3-py3-none-any.whl.metadata (9.2 kB)\n",
      "Collecting sentence-transformers\n",
      "  Downloading sentence_transformers-3.3.1-py3-none-any.whl.metadata (10 kB)\n",
      "Requirement already satisfied: datasets>=2.0.0 in /usr/local/lib/python3.10/dist-packages (from evaluate) (3.2.0)\n",
      "Requirement already satisfied: numpy>=1.17 in /usr/local/lib/python3.10/dist-packages (from evaluate) (1.26.4)\n",
      "Requirement already satisfied: dill in /usr/local/lib/python3.10/dist-packages (from evaluate) (0.3.8)\n",
      "Requirement already satisfied: pandas in /usr/local/lib/python3.10/dist-packages (from evaluate) (2.1.4)\n",
      "Requirement already satisfied: requests>=2.19.0 in /usr/local/lib/python3.10/dist-packages (from evaluate) (2.32.3)\n",
      "Requirement already satisfied: tqdm>=4.62.1 in /usr/local/lib/python3.10/dist-packages (from evaluate) (4.66.5)\n",
      "Requirement already satisfied: xxhash in /usr/local/lib/python3.10/dist-packages (from evaluate) (3.5.0)\n",
      "Requirement already satisfied: multiprocess in /usr/local/lib/python3.10/dist-packages (from evaluate) (0.70.16)\n",
      "Requirement already satisfied: fsspec>=2021.05.0 in /usr/local/lib/python3.10/dist-packages (from fsspec[http]>=2021.05.0->evaluate) (2024.6.1)\n",
      "Requirement already satisfied: huggingface-hub>=0.7.0 in /usr/local/lib/python3.10/dist-packages (from evaluate) (0.24.7)\n",
      "Requirement already satisfied: packaging in /usr/local/lib/python3.10/dist-packages (from evaluate) (24.1)\n",
      "Requirement already satisfied: transformers<5.0.0,>=4.41.0 in /usr/local/lib/python3.10/dist-packages (from sentence-transformers) (4.44.2)\n",
      "Requirement already satisfied: torch>=1.11.0 in /usr/local/lib/python3.10/dist-packages (from sentence-transformers) (2.4.1+cu121)\n",
      "Requirement already satisfied: scikit-learn in /usr/local/lib/python3.10/dist-packages (from sentence-transformers) (1.2.2)\n",
      "Requirement already satisfied: scipy in /usr/local/lib/python3.10/dist-packages (from sentence-transformers) (1.13.1)\n",
      "Requirement already satisfied: Pillow in /usr/local/lib/python3.10/dist-packages (from sentence-transformers) (10.4.0)\n",
      "Requirement already satisfied: filelock in /usr/local/lib/python3.10/dist-packages (from datasets>=2.0.0->evaluate) (3.16.1)\n",
      "Requirement already satisfied: pyarrow>=15.0.0 in /usr/local/lib/python3.10/dist-packages (from datasets>=2.0.0->evaluate) (18.1.0)\n",
      "Requirement already satisfied: aiohttp in /usr/local/lib/python3.10/dist-packages (from datasets>=2.0.0->evaluate) (3.10.5)\n",
      "Requirement already satisfied: pyyaml>=5.1 in /usr/local/lib/python3.10/dist-packages (from datasets>=2.0.0->evaluate) (6.0.2)\n",
      "Requirement already satisfied: typing-extensions>=3.7.4.3 in /usr/local/lib/python3.10/dist-packages (from huggingface-hub>=0.7.0->evaluate) (4.12.2)\n",
      "Requirement already satisfied: charset-normalizer<4,>=2 in /usr/local/lib/python3.10/dist-packages (from requests>=2.19.0->evaluate) (3.3.2)\n",
      "Requirement already satisfied: idna<4,>=2.5 in /usr/local/lib/python3.10/dist-packages (from requests>=2.19.0->evaluate) (3.10)\n",
      "Requirement already satisfied: urllib3<3,>=1.21.1 in /usr/local/lib/python3.10/dist-packages (from requests>=2.19.0->evaluate) (2.2.3)\n",
      "Requirement already satisfied: certifi>=2017.4.17 in /usr/local/lib/python3.10/dist-packages (from requests>=2.19.0->evaluate) (2024.8.30)\n",
      "Requirement already satisfied: sympy in /usr/local/lib/python3.10/dist-packages (from torch>=1.11.0->sentence-transformers) (1.13.3)\n",
      "Requirement already satisfied: networkx in /usr/local/lib/python3.10/dist-packages (from torch>=1.11.0->sentence-transformers) (3.3)\n",
      "Requirement already satisfied: jinja2 in /usr/local/lib/python3.10/dist-packages (from torch>=1.11.0->sentence-transformers) (3.1.4)\n",
      "Requirement already satisfied: regex!=2019.12.17 in /usr/local/lib/python3.10/dist-packages (from transformers<5.0.0,>=4.41.0->sentence-transformers) (2024.9.11)\n",
      "Requirement already satisfied: safetensors>=0.4.1 in /usr/local/lib/python3.10/dist-packages (from transformers<5.0.0,>=4.41.0->sentence-transformers) (0.4.5)\n",
      "Requirement already satisfied: tokenizers<0.20,>=0.19 in /usr/local/lib/python3.10/dist-packages (from transformers<5.0.0,>=4.41.0->sentence-transformers) (0.19.1)\n",
      "Requirement already satisfied: python-dateutil>=2.8.2 in /usr/local/lib/python3.10/dist-packages (from pandas->evaluate) (2.8.2)\n",
      "Requirement already satisfied: pytz>=2020.1 in /usr/local/lib/python3.10/dist-packages (from pandas->evaluate) (2024.2)\n",
      "Requirement already satisfied: tzdata>=2022.1 in /usr/local/lib/python3.10/dist-packages (from pandas->evaluate) (2024.1)\n",
      "Requirement already satisfied: joblib>=1.1.1 in /usr/local/lib/python3.10/dist-packages (from scikit-learn->sentence-transformers) (1.4.2)\n",
      "Requirement already satisfied: threadpoolctl>=2.0.0 in /usr/local/lib/python3.10/dist-packages (from scikit-learn->sentence-transformers) (3.5.0)\n",
      "Requirement already satisfied: aiohappyeyeballs>=2.3.0 in /usr/local/lib/python3.10/dist-packages (from aiohttp->datasets>=2.0.0->evaluate) (2.4.0)\n",
      "Requirement already satisfied: aiosignal>=1.1.2 in /usr/local/lib/python3.10/dist-packages (from aiohttp->datasets>=2.0.0->evaluate) (1.3.1)\n",
      "Requirement already satisfied: attrs>=17.3.0 in /usr/local/lib/python3.10/dist-packages (from aiohttp->datasets>=2.0.0->evaluate) (24.2.0)\n",
      "Requirement already satisfied: frozenlist>=1.1.1 in /usr/local/lib/python3.10/dist-packages (from aiohttp->datasets>=2.0.0->evaluate) (1.4.1)\n",
      "Requirement already satisfied: multidict<7.0,>=4.5 in /usr/local/lib/python3.10/dist-packages (from aiohttp->datasets>=2.0.0->evaluate) (6.1.0)\n",
      "Requirement already satisfied: yarl<2.0,>=1.0 in /usr/local/lib/python3.10/dist-packages (from aiohttp->datasets>=2.0.0->evaluate) (1.11.1)\n",
      "Requirement already satisfied: async-timeout<5.0,>=4.0 in /usr/local/lib/python3.10/dist-packages (from aiohttp->datasets>=2.0.0->evaluate) (4.0.3)\n",
      "Requirement already satisfied: six>=1.5 in /usr/local/lib/python3.10/dist-packages (from python-dateutil>=2.8.2->pandas->evaluate) (1.16.0)\n",
      "Requirement already satisfied: MarkupSafe>=2.0 in /usr/local/lib/python3.10/dist-packages (from jinja2->torch>=1.11.0->sentence-transformers) (2.1.5)\n",
      "Requirement already satisfied: mpmath<1.4,>=1.1.0 in /usr/local/lib/python3.10/dist-packages (from sympy->torch>=1.11.0->sentence-transformers) (1.3.0)\n",
      "Downloading evaluate-0.4.3-py3-none-any.whl (84 kB)\n",
      "\u001b[2K   \u001b[90m━━━━━━━━━━━━━━━━━━━━━━━━━━━━━━━━━━━━━━━━\u001b[0m \u001b[32m84.0/84.0 kB\u001b[0m \u001b[31m2.6 MB/s\u001b[0m eta \u001b[36m0:00:00\u001b[0m\n",
      "\u001b[?25hDownloading sentence_transformers-3.3.1-py3-none-any.whl (268 kB)\n",
      "\u001b[2K   \u001b[90m━━━━━━━━━━━━━━━━━━━━━━━━━━━━━━━━━━━━━━━━\u001b[0m \u001b[32m268.8/268.8 kB\u001b[0m \u001b[31m10.1 MB/s\u001b[0m eta \u001b[36m0:00:00\u001b[0m\n",
      "\u001b[?25hInstalling collected packages: sentence-transformers, evaluate\n",
      "Successfully installed evaluate-0.4.3 sentence-transformers-3.3.1\n",
      "Note: you may need to restart the kernel to use updated packages.\n"
     ]
    }
   ],
   "source": [
    "%pip install evaluate sentence-transformers"
   ]
  },
  {
   "cell_type": "code",
   "execution_count": 2,
   "metadata": {
    "execution": {
     "iopub.execute_input": "2025-01-05T12:48:58.059488Z",
     "iopub.status.busy": "2025-01-05T12:48:58.059218Z",
     "iopub.status.idle": "2025-01-05T12:49:13.636090Z",
     "shell.execute_reply": "2025-01-05T12:49:13.635097Z",
     "shell.execute_reply.started": "2025-01-05T12:48:58.059468Z"
    },
    "trusted": true
   },
   "outputs": [],
   "source": [
    "from datasets import load_dataset, Dataset\n",
    "from transformers import AutoTokenizer, AutoModelForQuestionAnswering, TrainingArguments, Trainer\n",
    "from tqdm.auto import tqdm\n",
    "import evaluate\n",
    "import numpy as np\n",
    "import os\n",
    "import json\n",
    "from sentence_transformers import SentenceTransformer, util"
   ]
  },
  {
   "cell_type": "markdown",
   "metadata": {},
   "source": [
    "# Global variables"
   ]
  },
  {
   "cell_type": "code",
   "execution_count": 3,
   "metadata": {
    "execution": {
     "iopub.execute_input": "2025-01-05T12:49:13.637769Z",
     "iopub.status.busy": "2025-01-05T12:49:13.637066Z",
     "iopub.status.idle": "2025-01-05T12:49:13.642219Z",
     "shell.execute_reply": "2025-01-05T12:49:13.641335Z",
     "shell.execute_reply.started": "2025-01-05T12:49:13.637739Z"
    },
    "trusted": true
   },
   "outputs": [],
   "source": [
    "random_seed = 42\n",
    "\n",
    "kaggle = True\n",
    "\n",
    "model_name = \"distilbert-base-multilingual-cased\"\n",
    "model_short_name = \"distilbert-multilingual\"\n",
    "\n",
    "dataset_name = (\"xquad\", \"xquad.ro\")\n",
    "dataset_short_name = \"xquad\""
   ]
  },
  {
   "cell_type": "markdown",
   "metadata": {},
   "source": [
    "# Import model and tokenizer"
   ]
  },
  {
   "cell_type": "code",
   "execution_count": 4,
   "metadata": {
    "execution": {
     "iopub.execute_input": "2025-01-05T12:49:13.644880Z",
     "iopub.status.busy": "2025-01-05T12:49:13.644660Z",
     "iopub.status.idle": "2025-01-05T12:49:14.812826Z",
     "shell.execute_reply": "2025-01-05T12:49:14.811608Z",
     "shell.execute_reply.started": "2025-01-05T12:49:13.644861Z"
    },
    "trusted": true
   },
   "outputs": [
    {
     "data": {
      "application/vnd.jupyter.widget-view+json": {
       "model_id": "e5d67a0886fd4b3db589864cd4cb8ef6",
       "version_major": 2,
       "version_minor": 0
      },
      "text/plain": [
       "tokenizer_config.json:   0%|          | 0.00/49.0 [00:00<?, ?B/s]"
      ]
     },
     "metadata": {},
     "output_type": "display_data"
    },
    {
     "data": {
      "application/vnd.jupyter.widget-view+json": {
       "model_id": "9184dda41b644f3a831d1ef69733a7db",
       "version_major": 2,
       "version_minor": 0
      },
      "text/plain": [
       "config.json:   0%|          | 0.00/466 [00:00<?, ?B/s]"
      ]
     },
     "metadata": {},
     "output_type": "display_data"
    },
    {
     "data": {
      "application/vnd.jupyter.widget-view+json": {
       "model_id": "6ac5aa64d6b340919c717c87710c2404",
       "version_major": 2,
       "version_minor": 0
      },
      "text/plain": [
       "vocab.txt:   0%|          | 0.00/996k [00:00<?, ?B/s]"
      ]
     },
     "metadata": {},
     "output_type": "display_data"
    },
    {
     "data": {
      "application/vnd.jupyter.widget-view+json": {
       "model_id": "c59124d0a53140b2b5a4eb34ea74db6d",
       "version_major": 2,
       "version_minor": 0
      },
      "text/plain": [
       "tokenizer.json:   0%|          | 0.00/1.96M [00:00<?, ?B/s]"
      ]
     },
     "metadata": {},
     "output_type": "display_data"
    },
    {
     "name": "stderr",
     "output_type": "stream",
     "text": [
      "/usr/local/lib/python3.10/dist-packages/transformers/tokenization_utils_base.py:1601: FutureWarning: `clean_up_tokenization_spaces` was not set. It will be set to `True` by default. This behavior will be depracted in transformers v4.45, and will be then set to `False` by default. For more details check this issue: https://github.com/huggingface/transformers/issues/31884\n",
      "  warnings.warn(\n"
     ]
    }
   ],
   "source": [
    "tokenizer = AutoTokenizer.from_pretrained(model_name)\n",
    "# model = AutoModelForQuestionAnswering.from_pretrained(model_name)"
   ]
  },
  {
   "cell_type": "markdown",
   "metadata": {},
   "source": [
    "# Split the dataset into train, validation and test"
   ]
  },
  {
   "cell_type": "code",
   "execution_count": 5,
   "metadata": {
    "execution": {
     "iopub.execute_input": "2025-01-05T12:49:14.815043Z",
     "iopub.status.busy": "2025-01-05T12:49:14.814669Z",
     "iopub.status.idle": "2025-01-05T12:49:16.907654Z",
     "shell.execute_reply": "2025-01-05T12:49:16.906735Z",
     "shell.execute_reply.started": "2025-01-05T12:49:14.815005Z"
    },
    "trusted": true
   },
   "outputs": [
    {
     "data": {
      "application/vnd.jupyter.widget-view+json": {
       "model_id": "bdcb1c438e3943ef8d261fd6f939fe75",
       "version_major": 2,
       "version_minor": 0
      },
      "text/plain": [
       "README.md:   0%|          | 0.00/15.6k [00:00<?, ?B/s]"
      ]
     },
     "metadata": {},
     "output_type": "display_data"
    },
    {
     "data": {
      "application/vnd.jupyter.widget-view+json": {
       "model_id": "f087b1e0454f4b948b480993f09094dd",
       "version_major": 2,
       "version_minor": 0
      },
      "text/plain": [
       "validation-00000-of-00001.parquet:   0%|          | 0.00/244k [00:00<?, ?B/s]"
      ]
     },
     "metadata": {},
     "output_type": "display_data"
    },
    {
     "data": {
      "application/vnd.jupyter.widget-view+json": {
       "model_id": "a38c073d94f94cd4b372bbc8ab277def",
       "version_major": 2,
       "version_minor": 0
      },
      "text/plain": [
       "Generating validation split:   0%|          | 0/1190 [00:00<?, ? examples/s]"
      ]
     },
     "metadata": {},
     "output_type": "display_data"
    },
    {
     "name": "stdout",
     "output_type": "stream",
     "text": [
      "952 119 119\n"
     ]
    }
   ],
   "source": [
    "ds = load_dataset(dataset_name[0], dataset_name[1])\n",
    "\n",
    "ds = ds['validation'].train_test_split(test_size=0.2)\n",
    "ds_train = ds['train']\n",
    "ds_test = ds['test']\n",
    "\n",
    "ds_test = ds_test.train_test_split(test_size=0.5)\n",
    "ds_val = ds_test['train']\n",
    "ds_test = ds_test['test']\n",
    "\n",
    "print(len(ds_train), len(ds_val), len(ds_test))"
   ]
  },
  {
   "cell_type": "markdown",
   "metadata": {},
   "source": [
    "# Process the dataset"
   ]
  },
  {
   "cell_type": "markdown",
   "metadata": {},
   "source": [
    "## Train dataset"
   ]
  },
  {
   "cell_type": "code",
   "execution_count": 6,
   "metadata": {
    "execution": {
     "iopub.execute_input": "2025-01-05T12:49:16.909047Z",
     "iopub.status.busy": "2025-01-05T12:49:16.908715Z",
     "iopub.status.idle": "2025-01-05T12:49:16.924849Z",
     "shell.execute_reply": "2025-01-05T12:49:16.923842Z",
     "shell.execute_reply.started": "2025-01-05T12:49:16.909014Z"
    },
    "trusted": true
   },
   "outputs": [],
   "source": [
    "def standardize(text: str):\n",
    "    return text\n",
    "    # return text.replace(\"ţ\", \"ț\").replace(\"ş\", \"ș\").replace(\"Ţ\", \"Ț\").replace(\"Ş\", \"Ș\")\n",
    "\n",
    "def process_and_tokenize(dataset: Dataset, tokenizer: AutoTokenizer) -> dict:\n",
    "    # Extract from the dataset and standardize where possible\n",
    "    questions = [standardize(q).strip() for q in dataset[\"question\"]]\n",
    "    contexts = [standardize(c) for c in dataset[\"context\"]]\n",
    "    answers = dataset[\"answers\"]\n",
    "    \n",
    "    \n",
    "    inputs = tokenizer(\n",
    "        questions,\n",
    "        contexts,\n",
    "        max_length=384,\n",
    "        truncation=\"only_second\",\n",
    "        stride=128,\n",
    "        return_overflowing_tokens=True,\n",
    "        return_offsets_mapping=True,\n",
    "        padding=\"max_length\",\n",
    "    )\n",
    "\n",
    "    sample_mapping = inputs[\"overflow_to_sample_mapping\"]\n",
    "    offset_mapping = inputs[\"offset_mapping\"]\n",
    "    \n",
    "    start_pos = []\n",
    "    end_pos = []\n",
    "\n",
    "    for i, ofs in enumerate(offset_mapping):\n",
    "        # Get the sample\n",
    "        sample_i = sample_mapping[i]\n",
    "        \n",
    "        # Get the answer for the sample\n",
    "        answer = answers[sample_i]\n",
    "        \n",
    "        # Get the start and end character of the answer\n",
    "        start = answer[\"answer_start\"][0]\n",
    "        end = answer[\"answer_start\"][0] + len(answer[\"text\"][0])\n",
    "        \n",
    "        # Get the sequence ids\n",
    "        seq_ids = inputs.sequence_ids(i)\n",
    "\n",
    "        # Get the start and end token positions\n",
    "        start_context = seq_ids.index(1)\n",
    "        end_context = next(j - 1 for j in range(start_context, len(seq_ids)) if seq_ids[j] != 1)\n",
    "\n",
    "        if ofs[start_context][0] > start or ofs[end_context][1] < end: # If it's impossible\n",
    "            start_pos.append(0)\n",
    "            end_pos.append(0)\n",
    "        else: # Get and append start and end position\n",
    "            start_pos.append(next((j - 1 for j in range(start_context, end_context + 1) if ofs[j][0] > start), end_context))\n",
    "            end_pos.append(next((j + 1 for j in range(end_context, start_context - 1, -1) if ofs[j][1] < end), start_context))\n",
    "            \n",
    "            # if i < len(dataset['id']) and dataset['id'][i] == '56d6f3500d65d21400198292':\n",
    "            #     print(start_context, end_context, end_pos[-1], end_pos[-1])\n",
    "\n",
    "    inputs[\"start_positions\"] = start_pos\n",
    "    inputs[\"end_positions\"] = end_pos\n",
    "        \n",
    "    inputs.pop(\"overflow_to_sample_mapping\")\n",
    "    inputs.pop(\"offset_mapping\")\n",
    "    \n",
    "    return inputs\n"
   ]
  },
  {
   "cell_type": "code",
   "execution_count": 7,
   "metadata": {
    "execution": {
     "iopub.execute_input": "2025-01-05T12:49:16.926080Z",
     "iopub.status.busy": "2025-01-05T12:49:16.925760Z",
     "iopub.status.idle": "2025-01-05T12:49:17.654662Z",
     "shell.execute_reply": "2025-01-05T12:49:17.653897Z",
     "shell.execute_reply.started": "2025-01-05T12:49:16.926058Z"
    },
    "trusted": true
   },
   "outputs": [
    {
     "data": {
      "application/vnd.jupyter.widget-view+json": {
       "model_id": "d12c1c76c40349528cd241c43b2e5e43",
       "version_major": 2,
       "version_minor": 0
      },
      "text/plain": [
       "Map:   0%|          | 0/952 [00:00<?, ? examples/s]"
      ]
     },
     "metadata": {},
     "output_type": "display_data"
    },
    {
     "name": "stdout",
     "output_type": "stream",
     "text": [
      "['Troika Design Group']\n",
      "['515 milioane de ani']\n",
      "['fără echipaj uman']\n",
      "['comportamentale și demografice']\n",
      "['James Dewar']\n",
      "['traiectoria balistică']\n",
      "['traiectoria balistică']\n",
      "['tentacule']\n",
      "['nu încalcă drepturile celorlalți']\n",
      "['angajează farmaciști consultanți și/sau oferă servicii de consultanță']\n",
      "['E.I. du Pont']\n",
      "['Generalul-Maior Louis-Joseph de Montcalm']\n",
      "['academii de segregare']\n",
      "['136']\n",
      "['136']\n",
      "['realitățile pieței și pe cele tehnologice']\n",
      "['regiunea arctică']\n",
      "['unitatea SI pentru densitatea de fluxul magnetic']\n",
      "['orientalismului']\n",
      "['dorința de a preveni lucrurile care sunt incontestabil rele']\n",
      "['camera de altitudine']\n",
      "['Dynasty']\n",
      "['7.000.000 kilometri pătrați (2.700.000 mile pătrate)']\n",
      "['Afranji']\n",
      "['Legea școlilor din Africa de Sud']\n",
      "['1817']\n",
      "['cască cu vizieră']\n",
      "['Comisia']\n",
      "['Comisia']\n",
      "['Comisia']\n",
      "['Comisia']\n",
      "['bacteriile anaerobe']\n",
      "['Curții Europene a Drepturilor Omului']\n",
      "['Curții Europene a Drepturilor Omului']\n",
      "['Pittsburgh Steelers']\n",
      "['Bătălia de la Jumonville Glen']\n",
      "['Ismail El Gizouli']\n",
      "['11']\n",
      "['2005']\n",
      "['1950']\n",
      "['Niciuna']\n",
      "['Niciuna']\n",
      "['1996']\n",
      "['Y. p. orientalis și Y. p. medievalis']\n",
      "['Y. p. orientalis și Y. p. medievalis']\n",
      "['crichet, raliu, fotbal, rugby, și box']\n",
      "['William Smith']\n",
      "['„O mașină care să pună capăt războiului”']\n",
      "['Districtul Inferior Norfolk']\n",
      "['afro-americani']\n",
      "['Percy Shelley']\n",
      "['Patrulaterele Principale']\n",
      "['cili']\n",
      "['Marlee Matlin']\n",
      "['vest']\n",
      "['Bryan Davies']\n",
      "['Imperialismul cultural']\n",
      "['8.8']\n",
      "['majoritate de două treimi']\n",
      "['majoritate de două treimi']\n",
      "['majoritate de două treimi']\n",
      "['majoritate de două treimi']\n",
      "['Broncos']\n",
      "['Lowry Digital']\n",
      "['solidaritate']\n",
      "['acestea sunt judecate „greșit” de o conștiință individuală']\n",
      "['Fortului Caroline']\n",
      "['deoarece, în mod arbitrar, se pot include multe exemple cu 1 în orice factorizare']\n",
      "['25']\n",
      "['25']\n",
      "['Lady Gaga']\n",
      "['discuri statice']\n",
      "['discuri statice']\n",
      "['cea mai mică submulțime']\n",
      "['Astra 2A']\n",
      "['notație binară']\n",
      "['număr compus']\n",
      "['7 până la 10 procente']\n",
      "['peste 70.000']\n",
      "['peste 70.000']\n",
      "['New England Patriots']\n",
      "['Hadrian']\n",
      "['a instalat sisteme de iluminat pe bază de arc electric']\n",
      "['aproximativ un milion de ani']\n",
      "['Virgin Media']\n",
      "['reducerea sărăciei']\n",
      "['armatei germane']\n",
      "['o colecție de protocoale de rețea creată de Digital Equipment Corporation']\n",
      "['1936']\n",
      "['lucrarea sa a fost publicată prima']\n",
      "['între 2005 și 2010']\n",
      "['Mork & Mindy']\n",
      "['Mork & Mindy']\n",
      "[', cu scopul de a contribui la dezvoltarea educațională și economică a statului']\n",
      "[', cu scopul de a contribui la dezvoltarea educațională și economică a statului']\n",
      "['2007']\n",
      "['substanțe combustibile în ardere']\n",
      "['geografie imaginativă']\n",
      "['reduse semnificativ']\n",
      "['18 mai 1756']\n",
      "['No Child Left Behind (Nu lăsăm niciun copil în urmă)']\n",
      "['perechi de numere prime care diferă între ele cu o valoare de 2']\n",
      "['„aplicarea deficitară a procedurilor IPCC bine stabilite în acest caz”']\n",
      "['Lady Gaga']\n",
      "['22']\n",
      "['ciclului carbonului']\n",
      "['receptori limfocitari variabili']\n",
      "['plastom']\n",
      "['Clasificarea Standard a Industriei și recentul Sistem Nord-American de Clasificare a Industriei']\n",
      "['Frontul Național Islamic']\n",
      "['Liga Engleză de Fotbal Premier League']\n",
      "['februarie 2015']\n",
      "['1835']\n",
      "['pentru coordonarea consecințelor embargo-ului']\n",
      "['legislației farmaceutice']\n",
      "['până la sfârșitul mandatului actual sau dacă oricare dintre partide se retrăgea din acord înainte de acea dată']\n",
      "['profesionale']\n",
      "['100–150']\n",
      "['100–150']\n",
      "['sfârșitul anilor 1980']\n",
      "['războaiele și „șocurile economice și politice puternice”']\n",
      "['infecții recurente, amenințătoare de viață']\n",
      "['două treimi din populație']\n",
      "['Manned Spacecraft Center (Centrul pentru nave spațiale cu echipaj uman la bord)']\n",
      "['regimuri islamice non-liberale']\n",
      "['anului 1521']\n",
      "['Întrucât, în general, nu a supraviețuit îmbrăcămintea de zi cu zi din erele anterioare']\n",
      "['cinci milioane']\n",
      "['tentilla']\n",
      "['tentilla']\n",
      "['2008']\n",
      "['2008']\n",
      "['Paul Samuelson']\n",
      "['două']\n",
      "['Bătălia de la Dalan Balzhut']\n",
      "['Bătălia de la Dalan Balzhut']\n",
      "['alegerii Partidului Laburist din Regatul Unit la guvernare']\n",
      "['NBA']\n",
      "['Partidul Popular European']\n",
      "['Partidul Popular European']\n",
      "['Partidul Popular European']\n",
      "['Partidul Popular European']\n",
      "['Imunologia']\n",
      "['numere întregi']\n",
      "['Nesupunerea civilă nerevoluționară']\n",
      "['multe dintre genele sale au fost pierdute sau transferate în nucleul gazdei']\n",
      "['Centrul de Zbor Spațial Marshall']\n",
      "['Fresno']\n",
      "['Isaac Newton']\n",
      "['Isaac Newton']\n",
      "['BSkyB']\n",
      "['1954']\n",
      "['Lume și Imagini']\n",
      "['Aristotel']\n",
      "['Aristotel']\n",
      "['râului St. Johns']\n",
      "['două']\n",
      "['două']\n",
      "['ctene']\n",
      "['dificultate']\n",
      "['1288']\n",
      "['1288']\n",
      "['al treilea']\n",
      "['religioase']\n",
      "['Alpha Repertory Television Service (ARTS)']\n",
      "['Tratatul de la Roma din 1957 și Tratatul de la Maastricht din 1992 (în prezent: TFEU)']\n",
      "['peste 37 de milioane']\n",
      "['adesea dăunător']\n",
      "['nouă']\n",
      "['Dudley Simpson']\n",
      "['antigenelor']\n",
      "['consultarea forței de muncă în întreprinderi']\n",
      "['zonele montane']\n",
      "['iulie']\n",
      "['tradiții culturale, obiceiuri sociale, credințe religioase']\n",
      "['chișcarul și mixina']\n",
      "['Parlamentul European și Consiliul Uniunii Europene']\n",
      "['Parlamentul European și Consiliul Uniunii Europene']\n",
      "['Parlamentul European și Consiliul Uniunii Europene']\n",
      "['Parlamentul European și Consiliul Uniunii Europene']\n",
      "['William Braț de Fier']\n",
      "['68.511']\n",
      "['specialităților care erau anterior separate']\n",
      "['1795']\n",
      "['să renască']\n",
      "['phowa și siddhi']\n",
      "['când Germania a început să își clădească propriul imperiu colonial']\n",
      "['Un avocat']\n",
      "['Nicholas E. Golovin']\n",
      "['este în descreștere']\n",
      "['de două ori']\n",
      "['Theodor Fontane']\n",
      "['canalele prin care inegalitatea poate afecta creșterea economică']\n",
      "['8.646 mile pătrate']\n",
      "['17']\n",
      "['11']\n",
      "['Strada Fresno și Bulevardul Thorne']\n",
      "['18%']\n",
      "['șoseaua Secundară 99']\n",
      "['serviciului militar']\n",
      "['cuaternară']\n",
      "['Planet of Giants']\n",
      "['trei epicentre']\n",
      "['Principiul succesiunii faunelor']\n",
      "['Galeria T. T. Tsui']\n",
      "['Galeria T. T. Tsui']\n",
      "['20']\n",
      "['20']\n",
      "['Jean Cauvin']\n",
      "['Miller']\n",
      "['Welfare Cash Card (Card de ajutor social)']\n",
      "['2012']\n",
      "['evita cererile de zestre prohibitive']\n",
      "['după 1279']\n",
      "['după 1279']\n",
      "['Harvard Yard']\n",
      "['relativitatea generală']\n",
      "['proiecte de lege private']\n",
      "['mesajul/informația originală este reasamblată în ordinea corectă, în funcție de numărul de ordine al pachetului']\n",
      "['Peyton Manning']\n",
      "['Trevor Martin']\n",
      "['rareori']\n",
      "['1991']\n",
      "['1991']\n",
      "['Groenlanda']\n",
      "['esențiale']\n",
      "['1970']\n",
      "['1970']\n",
      "['José María Figueres']\n",
      "['100–150']\n",
      "['100–150']\n",
      "['agricultură']\n",
      "['geofizice']\n",
      "['nu fie condamnați la închisoare']\n",
      "['nouă']\n",
      "['Super Bowl XXXIII']\n",
      "['1946']\n",
      "['Flung to the Heedless Winds']\n",
      "['ceruri']\n",
      "['2020']\n",
      "['Franța']\n",
      "['Novgorod și Pskov']\n",
      "['numeroși canadieni, inclusiv pe comandantul acestora, Joseph Coulon de Jumonville']\n",
      "['complex']\n",
      "['teoriei flogisticului referitoare la combustie și coroziune']\n",
      "['sudul']\n",
      "['sigla circulară']\n",
      "['Politehnica s-a transformat în universități noi']\n",
      "['MPEG-4']\n",
      "['matricele adiacente']\n",
      "['Doctor Who – The Ultimate Adventure']\n",
      "['40.000']\n",
      "['în vest']\n",
      "['27-30%']\n",
      "['Dolby Digital']\n",
      "['șase']\n",
      "['1999']\n",
      "['1999']\n",
      "['macroeconomice']\n",
      "['0,3 până la 0,6 °C']\n",
      "['1970']\n",
      "['În sistemul virtual de apelare, rețeaua asigură o livrare secvențială a informației la gazdă']\n",
      "['Defileul Rinului']\n",
      "['Pădurea Amazoniană']\n",
      "['între 30 și 50 de mii']\n",
      "['Merkit']\n",
      "['Ciuma din Italia']\n",
      "['medicamente citotoxice sau imunosupresive']\n",
      "['aristocrația tradițională mongolă']\n",
      "['aristocrația tradițională mongolă']\n",
      "['Furtuna Tropicală Berly']\n",
      "['Furtuna Tropicală Berly']\n",
      "['Teoria Pământului']\n",
      "['patru']\n",
      "['patru']\n",
      "['Teorema fundamentală a aritmeticii']\n",
      "['confesiunea și dezlegarea individuală de păcate']\n",
      "['peste 5100']\n",
      "['Satyagraha']\n",
      "['linia cloroplastelor verzi']\n",
      "['1891']\n",
      "['a instalat sisteme de iluminat pe bază de arc electric concepute de Tesla']\n",
      "['Cracovia']\n",
      "['3600 rotații pe minut']\n",
      "['3600 rotații pe minut']\n",
      "['constituției coloniale din 1855']\n",
      "['moara de praf de pușcă Eleutherian Mills']\n",
      "['patru']\n",
      "['Partidul Liberal']\n",
      "['1940']\n",
      "['1940']\n",
      "['campusul Universității din Chicago']\n",
      "['2010']\n",
      "['pe suprafața pământului']\n",
      "['pe suprafața pământului']\n",
      "['se credea că dezavantajează candidații cu venituri reduse și minoritățile subreprezentate']\n",
      "['gestionare a departamentului farmaceutic și a zonelor de specialitate din practica farmaceutică']\n",
      "['a-și putea prezenta problemele']\n",
      "['Reconstrucția gândirii religioase în islam']\n",
      "['monofiletice']\n",
      "['Faptul că ciuma a fost provocată de aerul rău']\n",
      "['M. Theo Kearney']\n",
      "['10%']\n",
      "['Ferenc Deák']\n",
      "['Ferenc Deák']\n",
      "['565 °C']\n",
      "['când sistemul imunitar este mai puțin activ decât normal']\n",
      "['susținătorii săi']\n",
      "['aerul condiționat']\n",
      "['Doilea Război Mondial']\n",
      "['ABC']\n",
      "['Kurt Coleman']\n",
      "['Kurt Coleman']\n",
      "['creșterea numărului de așezări și a defrișărilor']\n",
      "['situației sale financiare dezastruoase']\n",
      "['Iranul']\n",
      "['Edinburgh']\n",
      "['ciuma este posibil să fi intrat în Europa în două valuri']\n",
      "['ciuma este posibil să fi intrat în Europa în două valuri']\n",
      "['30']\n",
      "['Centrul StubHub']\n",
      "['sud-vest']\n",
      "['brevete']\n",
      "['The Talons of Weng-Chiang']\n",
      "['515 milioane de ani']\n",
      "['1971']\n",
      "['1950']\n",
      "['DTIME(f(n))']\n",
      "['1969']\n",
      "['San Mateo']\n",
      "['valoarea absolută']\n",
      "['1981']\n",
      "['Zona Medicală și Academică Longwood']\n",
      "['Eurobird-ul Eutelsat 1']\n",
      "['o combinație de antrax și alte pandemii']\n",
      "['o combinație de antrax și alte pandemii']\n",
      "['Abu al-Rayhan al-Biruni']\n",
      "['Ligii Musulmane din Întreaga Indie']\n",
      "['„business as usual” (BAU) [„tot așa mai departe”]']\n",
      "['Uraganul Dora']\n",
      "['Uraganul Dora']\n",
      "['i-au luat prin surprindere pe canadieni pe 28 mai']\n",
      "['tentacule']\n",
      "['aziluri pentru bătrâni']\n",
      "['planificare, [adăugați citarea] proiectare și finanțare']\n",
      "['16.000']\n",
      "['evenimente din viața lui']\n",
      "['independente']\n",
      "['Autostrada Sierra']\n",
      "['între P și PSPACE']\n",
      "['dreptul și filozofia']\n",
      "['24']\n",
      "['Pittsburgh Steelers']\n",
      "['Gandhi']\n",
      "['1520']\n",
      "['Conjectura lui Polignac']\n",
      "['Rin-Meuse']\n",
      "['Curtea de Justiție']\n",
      "['Curtea de Justiție']\n",
      "['Curtea de Justiție']\n",
      "['Curtea de Justiție']\n",
      "['Gărzile Roșii']\n",
      "['13.000 BP']\n",
      "['monofiletice']\n",
      "['Paleoclimatologii']\n",
      "['Ducele Kent-Brown']\n",
      "['1186']\n",
      "['1186']\n",
      "['gradele de privilegii']\n",
      "['suburbane']\n",
      "['informații complete de adresare']\n",
      "['tentacule']\n",
      "['tentacule']\n",
      "['octombrie 2016']\n",
      "['CBSE']\n",
      "['Embargoul']\n",
      "['multicultural']\n",
      "['cinci']\n",
      "['indicatorul motorului cu aburi']\n",
      "['Președintele Statelor Unite Barack Obama']\n",
      "['Congresului Național Indian naționalist și laic de referință din India']\n",
      "['instanță a problemei']\n",
      "['de-al doilea cel mai mare producător mondial']\n",
      "['o platformă de satelit']\n",
      "['tablou']\n",
      "['1263']\n",
      "['erau standarde deschise cu specificații publicate, iar pe lângă DEC s-au dezvoltat mai multe implementări, inclusiv una pentru Linux']\n",
      "['roman']\n",
      "['cred în validitatea contractului social']\n",
      "['Rollo']\n",
      "['după 1850']\n",
      "['un număr de calificări']\n",
      "['P ⊆ NP ⊆ PP ⊆ PSPACE']\n",
      "['Larry Ellison']\n",
      "['24']\n",
      "['24']\n",
      "['Hoesung Lee']\n",
      "['mai puternic']\n",
      "['687 și 760 nm']\n",
      "['2,8%']\n",
      "['India liberă']\n",
      "['230 milioane $']\n",
      "['Louis al XIV-lea']\n",
      "['Două diferențe fundamentale includeau împărțirea funcțiilor și a sarcinilor între gazdele de la marginea rețelei și cele din centrul rețelei']\n",
      "['cadou']\n",
      "['sindicate']\n",
      "['Jochi']\n",
      "['Susan Foreman']\n",
      "['ADNct sau ADNcp']\n",
      "['Tulku']\n",
      "['Regiunea Graniței Sudice']\n",
      "['„irațional și înapoiat”']\n",
      "['DVB-S2']\n",
      "['linia cloroplastelor verzi']\n",
      "['Michael E. Mann, Raymond S. Bradley, și Malcolm K. Hughes']\n",
      "['Michael E. Mann, Raymond S. Bradley, și Malcolm K. Hughes']\n",
      "['oxigen-18']\n",
      "['1349']\n",
      "['1349']\n",
      "['o dată la cinci ani']\n",
      "['o dată la cinci ani']\n",
      "['o dată la cinci ani']\n",
      "['o dată la cinci ani']\n",
      "['zece milioane']\n",
      "['Directiva Comitetului de Întreprindere']\n",
      "['1979']\n",
      "['1979']\n",
      "['1979']\n",
      "['1979']\n",
      "['automatizare']\n",
      "['1997']\n",
      "['Gegeen Han']\n",
      "['extincția din Cretacic-Paleogen']\n",
      "['4:51']\n",
      "['mai multă egalitate în distribuția venitului']\n",
      "['Eero Saarinen']\n",
      "['Eero Saarinen']\n",
      "['Satya Nadella']\n",
      "['zone vaste']\n",
      "['1985']\n",
      "['Qara Khitai']\n",
      "['Qara Khitai']\n",
      "['setul de triplete']\n",
      "['Iisus Interpretul']\n",
      "['incendiu electric']\n",
      "['recunoașterea']\n",
      "['creșterii rapide a populației și a traficului în orașele de pe marginea șoselei Secundare 99, precum și a dorinței de finanțare federală']\n",
      "['sisteme de iluminat pe bază de arc electric']\n",
      "['folk rock']\n",
      "['Protocolul de la Montreal']\n",
      "['șiruri de biți (bitstrings)']\n",
      "['Cel de-al Unsprezecelea Doctor']\n",
      "['comitet']\n",
      "['2011 și 2012']\n",
      "['118']\n",
      "['118']\n",
      "['Omnicare, Kindred Healthcare și PharMerica']\n",
      "['1999']\n",
      "['1999']\n",
      "['nonviolent']\n",
      "['cloroplast']\n",
      "['statele și guvernele']\n",
      "['rețetele pacienților și siguranța pacientului']\n",
      "['timpurie']\n",
      "['20%']\n",
      "['Brookhaven']\n",
      "['Ford']\n",
      "['politici']\n",
      "['1654']\n",
      "['politic']\n",
      "['Robert Lane și Benjamin Vail']\n",
      "['Economistul']\n",
      "['universitate și academia militară']\n",
      "['Pământul trebuie să fie mult mai bătrân decât s-a presupus anterior']\n",
      "['Ogród Saski']\n",
      "['cunoscută în limba engleză drept Amazonia sau Jungla Amazoniană,']\n",
      "['Partidul Muncii']\n",
      "['Jean Ribault']\n",
      "['The Tyne and Wear Metro']\n",
      "['Parlamentul European și Consiliul Uniunii Europene']\n",
      "['Parlamentul European și Consiliul Uniunii Europene']\n",
      "['Parlamentul European și Consiliul Uniunii Europene']\n",
      "['Parlamentul European și Consiliul Uniunii Europene']\n",
      "['feminin']\n",
      "['NFL']\n",
      "['3:08']\n",
      "['Milton Friedman']\n",
      "['32,9%']\n",
      "['1960 și 1970']\n",
      "['sindicate']\n",
      "['registrul Consiliului Farmaceutic General']\n",
      "['John C. Messenger']\n",
      "['Fort Caroline']\n",
      "['legitimitatea unei anumite legi']\n",
      "['91%']\n",
      "['We Love TV']\n",
      "['We Love TV']\n",
      "['presupune că nu ar fi egale']\n",
      "['latină']\n",
      "['de unificare']\n",
      "['de unificare']\n",
      "['înlăturarea fundamentului său economic']\n",
      "['ministerele Guvernului Regatului Unit']\n",
      "['1279']\n",
      "['firme care gestionează proiecte de construcții fără a-și asuma vreo răspundere financiară directă pentru finalizarea proiectului de construire']\n",
      "['17 secunde']\n",
      "['16.000']\n",
      "['1,5 giga tone']\n",
      "['nou costum spațial Apollo']\n",
      "['Comisie și Consiliu']\n",
      "['Comisie și Consiliu']\n",
      "['Comisie și Consiliu']\n",
      "['Comisie și Consiliu']\n",
      "['1937']\n",
      "['celulele citotoxice Natural Killer și CTLs (limfocite T citotoxice)']\n",
      "['războaielor']\n",
      "['William Tyndale']\n",
      "['guvernele incompetente, ineficiente și neglijente']\n",
      "['Construirea']\n",
      "['britanici']\n",
      "['~74.000 (BP = Before Present [înainte de prezent])']\n",
      "['Al-Muwaffaq']\n",
      "['Al-Muwaffaq']\n",
      "['Al-Muwaffaq']\n",
      "['Aeroportul Internațional San Diego']\n",
      "['Grădina Saxonă']\n",
      "['ABC-DuMont']\n",
      "['trei']\n",
      "['trei']\n",
      "['9000 BP']\n",
      "['Rețeaua de Televiziune Dumont']\n",
      "['lichidul de lucru']\n",
      "['Brown vs. Consiliul de Educație al Topeka']\n",
      "['prin portul Marseille în jurul lunii noiembrie 1347']\n",
      "['prin portul Marseille în jurul lunii noiembrie 1347']\n",
      "['Universitatea Northumbria']\n",
      "['25']\n",
      "['25']\n",
      "['aprilie 1991']\n",
      "['Tang, Song, precum și dinastiile Khitan Liao și Jurchen Jin']\n",
      "['Tang, Song, precum și dinastiile Khitan Liao și Jurchen Jin']\n",
      "['Rin']\n",
      "['390']\n",
      "['Kawann Short']\n",
      "['Kawann Short']\n",
      "['boli autoimune']\n",
      "['termeni de presiune']\n",
      "['Partidul Muncii din Australia (ALP)']\n",
      "['Manning']\n",
      "['puterea deținută de fiecare partid în parlament']\n",
      "['David Banks']\n",
      "['majoritatea electoratului']\n",
      "['Venom']\n",
      "['orice obiect se poate descompune, în general în mod unic, între componentele sale prime']\n",
      "['adresă de destinație, adresă sursă, și numere de port']\n",
      "['Baiju']\n",
      "['Germania']\n",
      "['1964']\n",
      "['1964']\n",
      "['1964']\n",
      "['peste 14.000']\n",
      "['2018']\n",
      "['1886']\n",
      "['Porifera']\n",
      "['Porifera']\n",
      "['Conjectura lui Brocard']\n",
      "['nu se poate scrie drept suma a două noduri netriviale']\n",
      "['boli genetice']\n",
      "['35']\n",
      "['Piața Măcelarului']\n",
      "['construirea de clădiri, construcții civile și industriale, și contractanți comerciali de specialitate']\n",
      "['2005']\n",
      "['patru']\n",
      "['patru']\n",
      "['Jamukha, și protectorul acestuia, Toghrul Han']\n",
      "['sistemul său umoral']\n",
      "['Joseph Shea']\n",
      "['Bert Bolin']\n",
      "['transportul, canalizarea, deșeurile periculoase și apa']\n",
      "['Pilot Modul Lunar']\n",
      "['Legea pentru sănătate mintală (îngrijire și tratament) (Scoția) din 2003']\n",
      "['întrucât legea națională era din anul 1962, iar tratatul a intrat în vigoare în anul 1958, cererea lui Costa nu era fondată']\n",
      "['întrucât legea națională era din anul 1962, iar tratatul a intrat în vigoare în anul 1958, cererea lui Costa nu era fondată']\n",
      "['întrucât legea națională era din anul 1962, iar tratatul a intrat în vigoare în anul 1958, cererea lui Costa nu era fondată']\n",
      "['întrucât legea națională era din anul 1962, iar tratatul a intrat în vigoare în anul 1958, cererea lui Costa nu era fondată']\n",
      "['la un nivel profund']\n",
      "['linii cu ecartament îngust de 760 mm (2 ft 6 in)']\n",
      "['dezghețe']\n",
      "['New England Patriots']\n",
      "['pentru viziuni luterane']\n",
      "['condamnat drept idolatrie']\n",
      "['English Heritage']\n",
      "['Edison']\n",
      "['Lama']\n",
      "['sute']\n",
      "['înregistrări cu cinescop']\n",
      "['Economistul']\n",
      "['Universitatea din Paris,']\n",
      "['139']\n",
      "['lucruri care reprezintă o chestiune de obișnuință sau așteptări']\n",
      "['MPEG-2 compatibil DVB']\n",
      "['strada Konwiktorska']\n",
      "['Regele Franței']\n",
      "['tiroida Hashimoto']\n",
      "['tentacule']\n",
      "['tentacule']\n",
      "['Sydney']\n",
      "['unitatea SI pentru densitatea de fluxul magnetic']\n",
      "['limitarea cererii agregate']\n",
      "['treilea']\n",
      "['șoseaua Secundară 41']\n",
      "['Quest']\n",
      "['cortizolul și catecolaminele']\n",
      "['Abilene']\n",
      "['primarului W. Haydon Burns']\n",
      "['Testul de primalitate Miller–Rabin']\n",
      "['Nesupunerea civilă revoluționară']\n",
      "['Nesupunerea civilă revoluționară']\n",
      "['două']\n",
      "['islamice']\n",
      "['programe de calculator']\n",
      "['înainte de Primul Război Mondial']\n",
      "['regenerare']\n",
      "['1774']\n",
      "['în incinta farmaciei/preparând medicamente']\n",
      "['s-a realizat o conexiune interactivă gazdă-gazdă între sistemele de calculatoare cu mare putere de calcul IBM ale Universității Michigan din Anna Arbor și Universitatea de Stat Wayne']\n",
      "['s-a realizat o conexiune interactivă gazdă-gazdă între sistemele de calculatoare cu mare putere de calcul IBM ale Universității Michigan din Anna Arbor și Universitatea de Stat Wayne']\n",
      "['Antoine Lavoisier']\n",
      "['mișcarea de cumpătare']\n",
      "['11.600 BP']\n",
      "['Timucua']\n",
      "['patru școli publice semi-autonome']\n",
      "['firmele care prestează servicii în domeniul construcțiilor (spre exemplu ingineri, arhitecți) și manageri în construcții']\n",
      "['James O. McKinsey']\n",
      "['patru']\n",
      "['cloroplast derivat din algele roșii']\n",
      "['global']\n",
      "['diplomă de licență']\n",
      "['existenței cloroplastului pierdut']\n",
      "['Ming și Qing']\n",
      "['Ming și Qing']\n",
      "['Bennie Fowler']\n",
      "['1901']\n",
      "['o formă de antrax']\n",
      "['o formă de antrax']\n",
      "['private tradiționale']\n",
      "['negocierea pedepsei']\n",
      "[', fără a se distruge legitimitatea istorică']\n",
      "['1973']\n",
      "['schimbărilor climatice']\n",
      "['exod al albilor']\n",
      "['New Holland']\n",
      "['Oursel']\n",
      "['dovezi']\n",
      "['îngrijorare']\n",
      "['Jones et al. 1998, Pollack, Huang & Shen 1998, Crowley & Lowery 2000 și Briffa 2000']\n",
      "['Jones et al. 1998, Pollack, Huang & Shen 1998, Crowley & Lowery 2000 și Briffa 2000']\n",
      "['Districtului Duval']\n",
      "['adăpost, asistență educațională, clinici medicale gratuite sau la tarife reduse, asistență legată de locuințe']\n",
      "['zece']\n",
      "['Iranul']\n",
      "['Catherine Tate']\n",
      "['arabi suniți']\n",
      "['1962']\n",
      "['55,1%']\n",
      "['rațional și progresiv']\n",
      "['Ministrul Federal de Interne']\n",
      "['linia cloroplastelor algelor roșii']\n",
      "['233']\n",
      "['sistem formal']\n",
      "['companii complet diferite']\n",
      "['mai bune']\n",
      "['volumul de pasageri']\n",
      "['un client cunoscut']\n",
      "['Tesla Electric Light & Manufacturing']\n",
      "['Virgin Media']\n",
      "['Premiile Academiei Americane de Film']\n",
      "['s-au alăturat în cele din urmă altor secte protestante']\n",
      "['școlile de Laborator ale Universității din Chicago']\n",
      "['gazde atașate la ethernet, iar în cele din urmă TCP/IP și alte universități publice din Michigan s-au alăturat rețelei']\n",
      "['gazde atașate la ethernet, iar în cele din urmă TCP/IP și alte universități publice din Michigan s-au alăturat rețelei']\n",
      "['filosofia yin-yang și wuxing']\n",
      "['Toyota Corona Mark II']\n",
      "['electric']\n",
      "['Jacques Lefevre']\n",
      "['anarhiștii']\n",
      "['„Suntem cerșetori”']\n",
      "['63%']\n",
      "['Cobb, Shepley, Rutan și Coolidge, Holabird & Roche, și alte firme de arhitectură']\n",
      "['facturile Sky TV']\n",
      "['1857']\n",
      "['punctul']\n",
      "['Teatrul Wojciech Bogusławski']\n",
      "['islamul']\n",
      "['Muzeul Producătorilor']\n",
      "['Guglielmo Marconi']\n",
      "['zece ani']\n",
      "['confecționarea']\n",
      "['20 la 1']\n",
      "['patru']\n",
      "['patru']\n",
      "['1964 și 1968']\n",
      "['1964 și 1968']\n",
      "['1964 și 1968']\n",
      "['1964 și 1968']\n",
      "['solară']\n",
      "['de mai multe ori']\n",
      "['40']\n",
      "['Limbajul American al Semnelor']\n",
      "['Peyton Manning']\n",
      "['ciclosporina']\n",
      "['coreean']\n",
      "['forțelor de poliție și armate']\n",
      "['două membrane lipidice dublu stratificate interioare']\n",
      "['conecta două mini computere PDP-11']\n",
      "['Ögedei Han']\n",
      "['38']\n",
      "['soia']\n",
      "['340 de mile']\n",
      "['Orașul Manakin']\n",
      "['n2 + 1']\n",
      "['a urcat']\n",
      "['Gottfried Semper']\n",
      "['39']\n",
      "['albi']\n",
      "['90%']\n",
      "['90%']\n",
      "['Boala de decompresie']\n",
      "['numărătoare inversă la lansare']\n",
      "['producția de radicali liberi']\n",
      "['încălzire suplimentară a suprafeței Pământului']\n",
      "['38']\n",
      "['militantă jihadistă Wahhabi/Salafi extremistă']\n",
      "['New England Patriots']\n",
      "['374']\n",
      "['Marlee Matlin']\n",
      "['110 mile/h']\n",
      "['110 mile/h']\n",
      "['5']\n",
      "['John Elway']\n",
      "['asfixiat']\n",
      "['Zone Statistice Metropolitane']\n",
      "['Imunodeficiența']\n",
      "['Tesla Electric Light & Manufacturing']\n",
      "['711.988']\n",
      "['Generalul-Maior James Abercrombie']\n",
      "['Pearl Mackie ca și Bill']\n",
      "['Subdiviziunea izolată']\n",
      "['1975']\n",
      "['Grupul Operativ al Metodiștilor Uniți privind Avortul și Sexualitatea']\n",
      "['Rinul romantic']\n",
      "['Națiunilor Unite']\n",
      "['curentului electric']\n",
      "['Kokochu']\n",
      "['Kokochu']\n",
      "['415.000']\n",
      "['alb și negru']\n",
      "['blocarea porților cu lacăte']\n",
      "['1935']\n",
      "['Lord al Timpului']\n",
      "['pădure umedă cu frunze largi']\n",
      "['Curtea de Justiție a Uniunii Europene cât și Înaltele Curți Naționale']\n",
      "['Curtea de Justiție a Uniunii Europene cât și Înaltele Curți Naționale']\n",
      "['Curtea de Justiție a Uniunii Europene cât și Înaltele Curți Naționale']\n",
      "['Curtea de Justiție a Uniunii Europene cât și Înaltele Curți Naționale']\n",
      "['PNU cât și din cea a ODM']\n",
      "['Teoria complexității computaționale']\n",
      "['Casa Somerset']\n",
      "['19,3%']\n",
      "['Lothar de Maizière']\n",
      "['„aprovizionare universală”']\n",
      "['oxigen 100%']\n",
      "['peste 18 ani']\n",
      "['30 °C']\n",
      "['imnul național']\n",
      "['mai mult de jumătate']\n",
      "['timp']\n",
      "['autostrăzilor']\n",
      "['guru']\n",
      "['2015']\n",
      "['2015']\n",
      "['aristocrație']\n",
      "['1992']\n",
      "['termeni de presiune']\n",
      "['reguli comune pentru cărbune și oțel și ulterior pentru energia atomică']\n",
      "['reguli comune pentru cărbune și oțel și ulterior pentru energia atomică']\n",
      "['Millingen aan de Rijn']\n",
      "['hidrocarburi']\n",
      "['limita de deformare a oțelului inoxidabil']\n",
      "['HIV']\n",
      "['12-lea']\n",
      "['șapte ani']\n",
      "['șapte ani']\n",
      "['1993']\n",
      "['puterii subtile']\n",
      "['alți tehnicieni de farmacie principali']\n",
      "['22.338.618']\n",
      "['importanța în creștere a capitalului uman în dezvoltare']\n",
      "['1985']\n",
      "['Defileul Rinului']\n",
      "['ABC on Demand']\n",
      "['ABC on Demand']\n",
      "['îndoielnice']\n",
      "['patru']\n",
      "['patru']\n",
      "['Charles Porter']\n",
      "['Scara Saffir-Simpson']\n",
      "['Scara Saffir-Simpson']\n",
      "['Tesla']\n",
      "['1908']\n",
      "['fie judecați de un judecător']\n",
      "['Maistru']\n",
      "['școala de Administrare a Serviciilor Sociale']\n",
      "['școala de Administrare a Serviciilor Sociale']\n",
      "['Liu Bingzhong și Yao Shu']\n",
      "['Liu Bingzhong și Yao Shu']\n",
      "['2014']\n",
      "['Curții Supreme a Statelor Unite']\n",
      "['reluare a ostilităților în cadrul conflictului israeliano-arab']\n",
      "['imnul național']\n",
      "['56,2%']\n",
      "['nivelul existent al inegalității']\n",
      "['încălca jurămintele']\n",
      "['revizii ale regimului de medicamente']\n",
      "['Sportivii kenyeni (în special Kalenjin)']\n",
      "['refuzul de a plăti taxe']\n",
      "['examinării învelișurilor animale fosilizate']\n",
      "['27 ianuarie 1967']\n",
      "['coercitive']\n",
      "['Henry Cole']\n",
      "['12 mai 1705']\n",
      "['școlile alternative (charter schools)']\n",
      "['17.786.419']\n",
      "['Mickey Smith (Noel Clarke) și Jack Harkness (John Barrowman)']\n",
      "['organismele']\n",
      "['necesară']\n",
      "['Gandhi']\n",
      "['Eugene Fama']\n",
      "['în cadrul Bisericii Anglicane']\n",
      "['sistemului imunitar adaptiv']\n",
      "['musulmană']\n",
      "['Curtea Penală Internațională']\n",
      "['palmieri înalți']\n",
      "['ipoteza curbei Kuznets']\n",
      "['28 februarie 2008']\n",
      "['Lucas Cranach']\n",
      "['Despre libertatea unui creștin']\n",
      "['Westminster']\n",
      "['Rețeaua Internet2']\n",
      "['20–18']\n",
      "['sub forma unor probleme de decizie']\n",
      "['Podul John W. Weeks']\n",
      "['prevederi „adânc înrădăcinate”']\n",
      "['William E. Simon']\n",
      "['mijlocul secolului 18']\n",
      "['Rinul romantic']\n",
      "['discipolilor săi']\n",
      "['Utilitatea Banilor']\n",
      "['1986']\n",
      "['poziția sa dominantă la probele de atletism pe distanță medie și lungă']\n",
      "['Africii']\n",
      "['Anderson']\n",
      "['cinci']\n",
      "['pedeapsa']\n",
      "['mai 2013']\n",
      "['Ward']\n",
      "['binar']\n",
      "['purtător de piepteni']\n",
      "['nu pot iniția legi împotriva dorințelor Comisiei']\n",
      "['nu pot iniția legi împotriva dorințelor Comisiei']\n",
      "['nu pot iniția legi împotriva dorințelor Comisiei']\n",
      "['nu pot iniția legi împotriva dorințelor Comisiei']\n",
      "['Dongshan Dafo Dian']\n",
      "['blocarea porților cu lacăte']\n",
      "['Marea Caspică']\n",
      "['Jacksonville']\n",
      "['de la Noua Scoție și Newfoundland în nord, până la Georgia în sud']\n",
      "['Tensorul de stres']\n",
      "['Robert Kintner']\n",
      "['fertilității']\n",
      "['Gandhi']\n",
      "['Charles Darwin']\n",
      "['carbonului conținut în vegetație']\n",
      "['graficul crosa de hochei']\n",
      "['graficul crosa de hochei']\n",
      "['John Elway']\n",
      "['biodiversității']\n",
      "['1,1 × 1011']\n",
      "['rezervate']\n",
      "['Broncos']\n",
      "['Muzeul Horniman']\n",
      "['1500 și 1850']\n",
      "['mare parte din secolul al nouăsprezecelea']\n",
      "['forțe electromagnetice unificate']\n",
      "['„Variații ale stratului de zăpadă și gheață în trecut și în prezent la nivel global și regional”']\n",
      "['distrugerea pădurii']\n",
      "['primalitate']\n",
      "['șase']\n",
      "['Brevetele sale']\n",
      "['Edictul din Fontainebleau']\n",
      "['sărăcia, lipsa accesului la educație și instituțiile guvernamentale fără putere']\n",
      "['problemelor computaționale']\n",
      "['minimal sau indecompozabil']\n",
      "['Anderson']\n",
      "['mijloc de deplasare']\n",
      "['taifun ostil']\n",
      "['taifun ostil']\n",
      "['corupției în sectorul public']\n",
      "['sume conectate a unor noduri prime']\n",
      "['arbore motor']\n",
      "['arbore motor']\n",
      "['distrusă']\n",
      "['Rev. Paul T. Stallsworth']\n",
      "['Charles Richard']\n",
      "['Brazilia']\n",
      "['Onggirat']\n",
      "['New England Patriots']\n",
      "['Smith and Jones']\n",
      "['Lexus']\n",
      "['de unificare auto-consistente']\n",
      "['de unificare auto-consistente']\n",
      "['Curții Supreme ale Statelor Unite']\n",
      "['Jon Corzine']\n",
      "['bibliei']\n",
      "['canalele de bază']\n",
      "['James Hutton']\n",
      "['carbonatul de sodiu și carbonatul de potasiu']\n",
      "['carbonatul de sodiu și carbonatul de potasiu']\n",
      "['carbonatul de sodiu și carbonatul de potasiu']\n",
      "['ecartamentul standard de 1.435 mm (4 ft 8 1⁄2 in)']\n",
      "['Trypanosoma brucei']\n",
      "['melatoninei']\n",
      "['Expoziției din Londra']\n",
      "['înconjurate de o membrană dublă']\n",
      "['Amazoneregenwoud']\n",
      "['unsprezece']\n",
      "['1685']\n",
      "['39']\n",
      "['Abu al-Qasim al-Zahrawi']\n",
      "['Abu al-Qasim al-Zahrawi']\n",
      "['Abu al-Qasim al-Zahrawi']\n",
      "['cerințele privind codul zonal și de construire']\n",
      "['24']\n",
      "['24']\n",
      "['22.000']\n",
      "['Newton']\n",
      "['Maroc și Etiopia']\n",
      "['Allston']\n",
      "['100–150 specii']\n",
      "['100–150 specii']\n",
      "['Marea Japoniei']\n",
      "['nouăsprezece']\n",
      "['Robert Lane și Benjamin Vail']\n",
      "['el însuși']\n",
      "['autoimunitatea']\n",
      "['Hmong sau Laos']\n",
      "['cresc semnificativ concentrațiile atmosferice']\n",
      "['Hulagu Khan']\n",
      "['șoseaua Secundară 99']\n",
      "['The Horns of Nimon']\n",
      "['al Doilea Război Mondial']\n",
      "['sfârșitul Primului Război Mondial']\n",
      "['înființarea unei Comisii de Etică și Anticorupție noi și independente']\n",
      "['cinci până la zece ani']\n",
      "['2014']\n",
      "['stratigrafii']\n",
      "['2017']\n",
      "['dificultatea lor inerentă']\n",
      "['12%']\n",
      "['Drogo']\n",
      "['MLB']\n",
      "['variație antigenică']\n",
      "['Cuaternarul']\n",
      "['comitete']\n",
      "['miros ciudat în costume']\n",
      "['instituțiile comprehensive ale Marelui Yuan']\n",
      "['omoloage']\n",
      "['două']\n",
      "['Partidului Uniunii Muncitorilor din Polonia']\n",
      "['Duran Duran']\n",
      "['formele nedrepte de autoritate']\n",
      "['un parteneriat cu Level 3 Communications pentru lansarea unei noi rețele naționale']\n",
      "['Shen Kuo']\n",
      "['2000']\n",
      "['talentul său de bun animator']\n",
      "['de jos']\n",
      "['durere fizică']\n",
      "['Suedia']\n",
      "['The Hay Wain']\n",
      "['The Hay Wain']\n",
      "['Nafzger']\n",
      "['£30m']\n",
      "['Hassan al-Turabi']\n",
      "['Protocolul Datagramelor Utilizator']\n",
      "['Majoritatea țărilor vestice']\n",
      "['peste jumătate']\n",
      "['o dată la cinci ani']\n",
      "['o dată la cinci ani']\n",
      "['o dată la cinci ani']\n",
      "['o dată la cinci ani']\n",
      "['Vicepreședintele Executiv pentru Operațiuni de Fotbal și Managerul General']\n",
      "['1185']\n",
      "['ecartamentul de 1.600 mm (5 ft 3 in)']\n",
      "['1530']\n",
      "['1.160.000']\n",
      "['cameră de combustie']\n",
      "['calea acțiunii militare']\n",
      "['5 milioane de dolari în numerar']\n",
      "['5 milioane de dolari în numerar']\n",
      "['forța gravitațională']\n",
      "['forța gravitațională']\n",
      "['1981']\n",
      "['reglementează meseria de farmacist și tehnician de farmacie']\n",
      "['1990s']\n",
      "['Ban Ki-moon']\n",
      "['1760']\n",
      "['1773']\n",
      "['doar farmaciștii']\n",
      "['meduză pieptene']\n",
      "['meduză pieptene']\n",
      "['Persia']\n",
      "['Benjamin Netanyahu']\n",
      "['pășune pentru vite']\n",
      "['recâștige autoritatea asupra poporului său. Aceștia tindeau să îi sprijine pe francezi, cu care aveau de multă vreme relații comerciale']\n",
      "['Skyclad']\n",
      "['coerciție limitată']\n",
      "['Amazonul reprezintă peste jumătate din pădurile tropicale rămase ale planetei']\n",
      "['metropolitană internațională']\n",
      "['Momus']\n",
      "['două']\n",
      "['Legea Constituției Victoriene din 1855']\n",
      "['ramuri genetice']\n",
      "['ramuri genetice']\n",
      "['Juan Manuel Santos']\n",
      "['cererea redusă a consumatorilor']\n",
      "['cererea redusă a consumatorilor']\n",
      "['botanică și chimie']\n",
      "['botanică și chimie']\n",
      "['botanică și chimie']\n",
      "['războiului']\n",
      "['fagozomale']\n",
      "['3,62']\n",
      "['câmpurile completate (sau locale)']\n",
      "['Pons Aelius']\n",
      "['1519']\n",
      "['1830']\n",
      "['Muhammad ibn Zakarīya Rāzi']\n",
      "['Muhammad ibn Zakarīya Rāzi']\n",
      "['Muhammad ibn Zakarīya Rāzi']\n",
      "['boala']\n",
      "['1900']\n",
      "['Los Angeles Kings']\n",
      "['șase până la nouă procente']\n",
      "['comuna']\n",
      "['afro-americane']\n",
      "['educarea la scara largă']\n",
      "['nu există indicii']\n",
      "['Nesupunerea civilă revoluționară']\n",
      "['Josh Norman']\n",
      "['școli independente']\n",
      "['Ergänzungsschulen']\n",
      "['Frederick W. Mote']\n",
      "['turcilor Seljuk']\n",
      "['Newton']\n",
      "['Virginia']\n",
      "['protest nonviolent']\n",
      "['Rinul Mijlociu']\n",
      "['Criza energetică']\n",
      "['deoarece erau metodici și foarte amănunțiți când venea vorba de studiul Bibliei']\n",
      "['Kony Ealy']\n",
      "['Kony Ealy']\n",
      "['Annam']\n",
      "['Annam']\n",
      "['OpenTV']\n",
      "['legea UE']\n",
      "['legea UE']\n",
      "['legea UE']\n",
      "['legea UE']\n",
      "['LA Galaxy']\n",
      "['auto']\n",
      "['1943']\n",
      "['1870 și 1939']\n",
      "['Marea Expoziție din 1851']\n",
      "['produsul membranei celulare a gazdei care se pliază pentru a forma o veziculă care înconjoară cianobacteria ancestrală']\n",
      "['iulie 1961']\n",
      "['suc nefermentat de struguri']\n",
      "['cili rigidizați']\n",
      "['cili rigidizați']\n",
      "['cercetător nebun']\n",
      "['Edsen Khoroo']\n",
      "['forma parteneriate de afaceri cu medici sau să le dea plăți sub formă de „mită”']\n",
      "['două echipe de cercetători japonezi']\n",
      "['51,6%']\n",
      "['teledetecția']\n",
      "['Harrods']\n",
      "['China']\n",
      "['instabile politic și social']\n",
      "1097\n"
     ]
    }
   ],
   "source": [
    "ds_tok_train = ds_train.map(lambda x: process_and_tokenize(dataset=x, tokenizer=tokenizer), batched=True, batch_size=64, remove_columns=ds_train.column_names)\n",
    " \n",
    "print(len(ds_tok_train))"
   ]
  },
  {
   "cell_type": "markdown",
   "metadata": {},
   "source": [
    "## Validation and test datasets"
   ]
  },
  {
   "cell_type": "code",
   "execution_count": 8,
   "metadata": {
    "execution": {
     "iopub.execute_input": "2025-01-05T12:49:17.655717Z",
     "iopub.status.busy": "2025-01-05T12:49:17.655453Z",
     "iopub.status.idle": "2025-01-05T12:49:17.661249Z",
     "shell.execute_reply": "2025-01-05T12:49:17.660390Z",
     "shell.execute_reply.started": "2025-01-05T12:49:17.655694Z"
    },
    "trusted": true
   },
   "outputs": [],
   "source": [
    "def process_and_tokenize_val_test(dataset: Dataset, tokenizer: AutoTokenizer) -> dict:\n",
    "    # Extract from the dataset and standardize where possible\n",
    "    questions = [standardize(q).strip() for q in dataset[\"question\"]]\n",
    "    contexts = [standardize(c) for c in dataset[\"context\"]]\n",
    "    \n",
    "    inputs = tokenizer(\n",
    "        questions,\n",
    "        contexts,\n",
    "        max_length=384,\n",
    "        truncation=\"only_second\",\n",
    "        stride=128,\n",
    "        return_overflowing_tokens=True,\n",
    "        return_offsets_mapping=True,\n",
    "        padding=\"max_length\",\n",
    "    )\n",
    "\n",
    "    sample_mapping = inputs[\"overflow_to_sample_mapping\"]\n",
    "    example_ids = []\n",
    "\n",
    "    for i in range(len(inputs[\"input_ids\"])):\n",
    "        sample_i = sample_mapping[i]\n",
    "        example_ids.append(dataset[\"id\"][sample_i])\n",
    "\n",
    "        seq_ids = inputs.sequence_ids(i)\n",
    "        offset = inputs[\"offset_mapping\"][i]\n",
    "        \n",
    "        for j, ofs in enumerate(offset):\n",
    "            inputs['offset_mapping'][i][j] = ofs if seq_ids[j] == 1 else None\n",
    "\n",
    "    inputs[\"example_id\"] = example_ids\n",
    "    \n",
    "    inputs.pop(\"overflow_to_sample_mapping\")\n",
    "    \n",
    "    return inputs"
   ]
  },
  {
   "cell_type": "code",
   "execution_count": 9,
   "metadata": {
    "execution": {
     "iopub.execute_input": "2025-01-05T12:49:17.662544Z",
     "iopub.status.busy": "2025-01-05T12:49:17.662274Z",
     "iopub.status.idle": "2025-01-05T12:49:18.250498Z",
     "shell.execute_reply": "2025-01-05T12:49:18.249799Z",
     "shell.execute_reply.started": "2025-01-05T12:49:17.662524Z"
    },
    "trusted": true
   },
   "outputs": [
    {
     "data": {
      "application/vnd.jupyter.widget-view+json": {
       "model_id": "99de8bf4107b461d9c4628eb1eeea503",
       "version_major": 2,
       "version_minor": 0
      },
      "text/plain": [
       "Map:   0%|          | 0/119 [00:00<?, ? examples/s]"
      ]
     },
     "metadata": {},
     "output_type": "display_data"
    },
    {
     "data": {
      "application/vnd.jupyter.widget-view+json": {
       "model_id": "83c7761c5e8247af995afd3c7b5183ee",
       "version_major": 2,
       "version_minor": 0
      },
      "text/plain": [
       "Map:   0%|          | 0/119 [00:00<?, ? examples/s]"
      ]
     },
     "metadata": {},
     "output_type": "display_data"
    },
    {
     "name": "stdout",
     "output_type": "stream",
     "text": [
      "134 132\n"
     ]
    }
   ],
   "source": [
    "ds_tok_val = ds_val.map(lambda x: process_and_tokenize_val_test(dataset=x, tokenizer=tokenizer), batched=True, batch_size=64, remove_columns=ds_val.column_names)\n",
    "ds_tok_test = ds_test.map(lambda x: process_and_tokenize_val_test(dataset=x, tokenizer=tokenizer), batched=True, batch_size=64, remove_columns=ds_test.column_names)\n",
    " \n",
    "print(len(ds_tok_val), len(ds_tok_test))"
   ]
  },
  {
   "cell_type": "markdown",
   "metadata": {},
   "source": [
    "# Make metrics"
   ]
  },
  {
   "cell_type": "code",
   "execution_count": 10,
   "metadata": {
    "execution": {
     "iopub.execute_input": "2025-01-05T12:49:18.251653Z",
     "iopub.status.busy": "2025-01-05T12:49:18.251358Z",
     "iopub.status.idle": "2025-01-05T12:49:23.353592Z",
     "shell.execute_reply": "2025-01-05T12:49:23.352669Z",
     "shell.execute_reply.started": "2025-01-05T12:49:18.251605Z"
    },
    "trusted": true
   },
   "outputs": [
    {
     "name": "stderr",
     "output_type": "stream",
     "text": [
      "/usr/lib/python3.10/pty.py:89: RuntimeWarning: os.fork() was called. os.fork() is incompatible with multithreaded code, and JAX is multithreaded, so this will likely lead to a deadlock.\n",
      "  pid, fd = os.forkpty()\n"
     ]
    },
    {
     "name": "stdout",
     "output_type": "stream",
     "text": [
      "Collecting rouge_score\n",
      "  Downloading rouge_score-0.1.2.tar.gz (17 kB)\n",
      "  Preparing metadata (setup.py) ... \u001b[?25l\u001b[?25hdone\n",
      "Requirement already satisfied: absl-py in /usr/local/lib/python3.10/dist-packages (from rouge_score) (1.4.0)\n",
      "Requirement already satisfied: nltk in /usr/local/lib/python3.10/dist-packages (from rouge_score) (3.2.4)\n",
      "Requirement already satisfied: numpy in /usr/local/lib/python3.10/dist-packages (from rouge_score) (1.26.4)\n",
      "Requirement already satisfied: six>=1.14.0 in /usr/local/lib/python3.10/dist-packages (from rouge_score) (1.16.0)\n",
      "Building wheels for collected packages: rouge_score\n",
      "  Building wheel for rouge_score (setup.py) ... \u001b[?25l\u001b[?25hdone\n",
      "  Created wheel for rouge_score: filename=rouge_score-0.1.2-py3-none-any.whl size=24935 sha256=4f70b40d9629c089a3feec13e515191382e990184463c342fa25fb9a9cfd7fc8\n",
      "  Stored in directory: /root/.cache/pip/wheels/5f/dd/89/461065a73be61a532ff8599a28e9beef17985c9e9c31e541b4\n",
      "Successfully built rouge_score\n",
      "Installing collected packages: rouge_score\n",
      "Successfully installed rouge_score-0.1.2\n",
      "Note: you may need to restart the kernel to use updated packages.\n"
     ]
    }
   ],
   "source": [
    "%pip install rouge_score"
   ]
  },
  {
   "cell_type": "code",
   "execution_count": 11,
   "metadata": {
    "execution": {
     "iopub.execute_input": "2025-01-05T12:49:23.354862Z",
     "iopub.status.busy": "2025-01-05T12:49:23.354605Z",
     "iopub.status.idle": "2025-01-05T12:49:25.547564Z",
     "shell.execute_reply": "2025-01-05T12:49:25.546673Z",
     "shell.execute_reply.started": "2025-01-05T12:49:23.354841Z"
    },
    "trusted": true
   },
   "outputs": [
    {
     "data": {
      "application/vnd.jupyter.widget-view+json": {
       "model_id": "f1ae74caaaf14f5990985c056ea95359",
       "version_major": 2,
       "version_minor": 0
      },
      "text/plain": [
       "Downloading builder script:   0%|          | 0.00/4.53k [00:00<?, ?B/s]"
      ]
     },
     "metadata": {},
     "output_type": "display_data"
    },
    {
     "data": {
      "application/vnd.jupyter.widget-view+json": {
       "model_id": "fe1d1b7739db48bcbdd833f95ee8ad69",
       "version_major": 2,
       "version_minor": 0
      },
      "text/plain": [
       "Downloading extra modules:   0%|          | 0.00/3.32k [00:00<?, ?B/s]"
      ]
     },
     "metadata": {},
     "output_type": "display_data"
    },
    {
     "data": {
      "application/vnd.jupyter.widget-view+json": {
       "model_id": "28988f04360a478db7db3c8ecdb04d62",
       "version_major": 2,
       "version_minor": 0
      },
      "text/plain": [
       "Downloading builder script:   0%|          | 0.00/5.94k [00:00<?, ?B/s]"
      ]
     },
     "metadata": {},
     "output_type": "display_data"
    },
    {
     "data": {
      "application/vnd.jupyter.widget-view+json": {
       "model_id": "8889a25bab084136b31eaeb81c038830",
       "version_major": 2,
       "version_minor": 0
      },
      "text/plain": [
       "Downloading extra modules:   0%|          | 0.00/1.55k [00:00<?, ?B/s]"
      ]
     },
     "metadata": {},
     "output_type": "display_data"
    },
    {
     "data": {
      "application/vnd.jupyter.widget-view+json": {
       "model_id": "8a4ef722d3344133a5e7d8a85d4d3336",
       "version_major": 2,
       "version_minor": 0
      },
      "text/plain": [
       "Downloading extra modules:   0%|          | 0.00/3.34k [00:00<?, ?B/s]"
      ]
     },
     "metadata": {},
     "output_type": "display_data"
    },
    {
     "data": {
      "application/vnd.jupyter.widget-view+json": {
       "model_id": "dff92614687848fcb1c542b34f6af018",
       "version_major": 2,
       "version_minor": 0
      },
      "text/plain": [
       "Downloading builder script:   0%|          | 0.00/6.27k [00:00<?, ?B/s]"
      ]
     },
     "metadata": {},
     "output_type": "display_data"
    }
   ],
   "source": [
    "squad_metric = evaluate.load(\"squad\")\n",
    "bleu_metric = evaluate.load(\"bleu\")\n",
    "rouge_metric = evaluate.load(\"rouge\")"
   ]
  },
  {
   "cell_type": "code",
   "execution_count": 12,
   "metadata": {
    "execution": {
     "iopub.execute_input": "2025-01-05T12:49:25.548991Z",
     "iopub.status.busy": "2025-01-05T12:49:25.548719Z",
     "iopub.status.idle": "2025-01-05T12:49:34.634192Z",
     "shell.execute_reply": "2025-01-05T12:49:34.633399Z",
     "shell.execute_reply.started": "2025-01-05T12:49:25.548968Z"
    },
    "trusted": true
   },
   "outputs": [
    {
     "data": {
      "application/vnd.jupyter.widget-view+json": {
       "model_id": "21073c4775524c918ccf8434d5dbd74a",
       "version_major": 2,
       "version_minor": 0
      },
      "text/plain": [
       "modules.json:   0%|          | 0.00/229 [00:00<?, ?B/s]"
      ]
     },
     "metadata": {},
     "output_type": "display_data"
    },
    {
     "data": {
      "application/vnd.jupyter.widget-view+json": {
       "model_id": "0b119e2fbc9b440eaaac28a188e7d685",
       "version_major": 2,
       "version_minor": 0
      },
      "text/plain": [
       "config_sentence_transformers.json:   0%|          | 0.00/122 [00:00<?, ?B/s]"
      ]
     },
     "metadata": {},
     "output_type": "display_data"
    },
    {
     "data": {
      "application/vnd.jupyter.widget-view+json": {
       "model_id": "13f49d22ad0e4c02889086d7af318b6e",
       "version_major": 2,
       "version_minor": 0
      },
      "text/plain": [
       "README.md:   0%|          | 0.00/3.68k [00:00<?, ?B/s]"
      ]
     },
     "metadata": {},
     "output_type": "display_data"
    },
    {
     "data": {
      "application/vnd.jupyter.widget-view+json": {
       "model_id": "599fde1aa59c4aa6b014db310b14d11a",
       "version_major": 2,
       "version_minor": 0
      },
      "text/plain": [
       "sentence_bert_config.json:   0%|          | 0.00/53.0 [00:00<?, ?B/s]"
      ]
     },
     "metadata": {},
     "output_type": "display_data"
    },
    {
     "data": {
      "application/vnd.jupyter.widget-view+json": {
       "model_id": "c9b14cc4dff14677935d02ed1c07fb2b",
       "version_major": 2,
       "version_minor": 0
      },
      "text/plain": [
       "config.json:   0%|          | 0.00/748 [00:00<?, ?B/s]"
      ]
     },
     "metadata": {},
     "output_type": "display_data"
    },
    {
     "data": {
      "application/vnd.jupyter.widget-view+json": {
       "model_id": "77803c3488ca4aa2af3cbf0ccad4dabb",
       "version_major": 2,
       "version_minor": 0
      },
      "text/plain": [
       "model.safetensors:   0%|          | 0.00/1.11G [00:00<?, ?B/s]"
      ]
     },
     "metadata": {},
     "output_type": "display_data"
    },
    {
     "data": {
      "application/vnd.jupyter.widget-view+json": {
       "model_id": "f5e9a8e18f58452599db959638176aab",
       "version_major": 2,
       "version_minor": 0
      },
      "text/plain": [
       "tokenizer_config.json:   0%|          | 0.00/527 [00:00<?, ?B/s]"
      ]
     },
     "metadata": {},
     "output_type": "display_data"
    },
    {
     "data": {
      "application/vnd.jupyter.widget-view+json": {
       "model_id": "7b9a2d6b479e4a7494265bb2f9af52c3",
       "version_major": 2,
       "version_minor": 0
      },
      "text/plain": [
       "sentencepiece.bpe.model:   0%|          | 0.00/5.07M [00:00<?, ?B/s]"
      ]
     },
     "metadata": {},
     "output_type": "display_data"
    },
    {
     "data": {
      "application/vnd.jupyter.widget-view+json": {
       "model_id": "315e80b4af8a4956b4cf5cbacd741fcc",
       "version_major": 2,
       "version_minor": 0
      },
      "text/plain": [
       "tokenizer.json:   0%|          | 0.00/17.1M [00:00<?, ?B/s]"
      ]
     },
     "metadata": {},
     "output_type": "display_data"
    },
    {
     "data": {
      "application/vnd.jupyter.widget-view+json": {
       "model_id": "43198b030e044ecaa214f71b013d6958",
       "version_major": 2,
       "version_minor": 0
      },
      "text/plain": [
       "special_tokens_map.json:   0%|          | 0.00/150 [00:00<?, ?B/s]"
      ]
     },
     "metadata": {},
     "output_type": "display_data"
    },
    {
     "data": {
      "application/vnd.jupyter.widget-view+json": {
       "model_id": "fda0823fd77b45398bdedb270a3f97a5",
       "version_major": 2,
       "version_minor": 0
      },
      "text/plain": [
       "1_Pooling/config.json:   0%|          | 0.00/190 [00:00<?, ?B/s]"
      ]
     },
     "metadata": {},
     "output_type": "display_data"
    }
   ],
   "source": [
    "def compute_metrics(start_logits: list, end_logits: list, tok: dict, dataset: Dataset, max_answer_length: int = 30, eval_answer: SentenceTransformer = SentenceTransformer(\"BlackKakapo/stsb-xlm-r-multilingual-ro\")) -> dict:\n",
    "    extracted_features = {}\n",
    "    \n",
    "    # Group extracted features by ids\n",
    "    for i, feature in enumerate(tok):\n",
    "        if feature[\"example_id\"] not in extracted_features:\n",
    "            extracted_features[feature[\"example_id\"]] = [i]\n",
    "        else:\n",
    "            extracted_features[feature[\"example_id\"]].append(i)\n",
    "    \n",
    "    golds_squad = [{\"id\": data[\"id\"], \"answers\": data[\"answers\"]} for data in dataset]\n",
    "    preds_squad = []\n",
    "    \n",
    "    golds_bleu = []\n",
    "    preds_bleu = []\n",
    "    \n",
    "    for data in tqdm(dataset):\n",
    "        answers = []\n",
    "\n",
    "        # Iterate over all the extracted features\n",
    "        for i in extracted_features[data[\"id\"]]:\n",
    "            start_logit = start_logits[i]\n",
    "            end_logit = end_logits[i]\n",
    "            offs = tok[i][\"offset_mapping\"]\n",
    "\n",
    "            # Get all combinations of start and end positions\n",
    "            for start_i in range(len(start_logit)):\n",
    "                for end_i in range(len(end_logit)):\n",
    "                    # Continue on wrong answers\n",
    "                    if offs[start_i] is None \\\n",
    "                        or offs[end_i] is None \\\n",
    "                        or end_i < start_i \\\n",
    "                        or end_i - start_i + 1 > max_answer_length:\n",
    "                        continue\n",
    "                    \n",
    "                    # Add text and score\n",
    "                    answer = {\n",
    "                        \"answer\": data[\"context\"][offs[start_i][0] : offs[end_i][1]],\n",
    "                        \"score\": start_logit[start_i] + end_logit[end_i]\n",
    "                    }\n",
    "                    answers.append(answer)\n",
    "                    \n",
    "        preds_squad.append(\n",
    "            {\"id\": data['id'], \"prediction_text\": max(answers, key=lambda x: x[\"score\"])['answer']} \n",
    "                if len(answers) > 0 else \n",
    "                {\"id\": data['id'], \"prediction_text\": \"\"}\n",
    "        )\n",
    "        \n",
    "        preds_bleu.append(\n",
    "            max(answers, key=lambda x: x[\"score\"])['answer']\n",
    "                if len(answers) > 0 else \n",
    "                \"\"\n",
    "        )\n",
    "        \n",
    "        max_i = 0\n",
    "        max_len = len(data[\"answers\"][\"text\"][max_i])\n",
    "        for i in range(1, len(data[\"answers\"]['text'])):\n",
    "            if len(data[\"answers\"][\"text\"][i]) > max_len:\n",
    "                max_len = len(data[\"answers\"][\"text\"][i])\n",
    "                max_i = i\n",
    "        \n",
    "        golds_bleu.append(data[\"answers\"]['text'][max_i])\n",
    "        \n",
    "    return {\n",
    "        \"squad\": squad_metric.compute(predictions=preds_squad, references=golds_squad),\n",
    "        \"bleu\": bleu_metric.compute(predictions=preds_bleu, references=golds_bleu),\n",
    "        \"rouge\": rouge_metric.compute(predictions=preds_bleu, references=golds_bleu),\n",
    "        \"semantic_similarity\": util.pytorch_cos_sim(eval_answer.encode(preds_bleu, convert_to_tensor=True), eval_answer.encode(golds_bleu, convert_to_tensor=True)).mean().item() * 100\n",
    "    }"
   ]
  },
  {
   "cell_type": "markdown",
   "metadata": {},
   "source": [
    "# Training, evaluation and testing loop for hyperparameters"
   ]
  },
  {
   "cell_type": "code",
   "execution_count": 13,
   "metadata": {
    "execution": {
     "iopub.execute_input": "2025-01-05T12:49:34.636848Z",
     "iopub.status.busy": "2025-01-05T12:49:34.636583Z",
     "iopub.status.idle": "2025-01-05T12:49:34.642938Z",
     "shell.execute_reply": "2025-01-05T12:49:34.642043Z",
     "shell.execute_reply.started": "2025-01-05T12:49:34.636827Z"
    },
    "trusted": true
   },
   "outputs": [],
   "source": [
    "def output_metrics_to_file(metrics: dict, metric_type: str = None, lr: float = None, epoch: int = None):\n",
    "    filename = os.path.join(\"/kaggle/working/\" if kaggle else \".\", \"results\", f\"{model_short_name}-{dataset_short_name}-type_{metric_type}-lr_{lr}-epoch_{epoch:02}.json\" if lr is not None and epoch is not None and metric_type is not None else f\"{model_short_name}-{dataset_short_name}.json\")\n",
    "    with open(filename, \"w\") as f:\n",
    "        json.dump(metrics, f, indent=4)\n",
    "        \n",
    "def save_model(trainer: Trainer, lr: float, epoch: int):\n",
    "    trainer.save_model(os.path.join(\"/kaggle/working/\" if kaggle else \".\", \"results\", \"models\", f\"{model_short_name}-{dataset_short_name}-{lr}-{epoch}\"))\n",
    "    \n",
    "def load_model(lr: float, epoch: int) -> AutoModelForQuestionAnswering:\n",
    "    return AutoModelForQuestionAnswering.from_pretrained(os.path.join(\"/kaggle/working/\" if kaggle else \".\", \"results\", \"models\", f\"{model_short_name}-{dataset_short_name}-{lr}-{epoch}\"))"
   ]
  },
  {
   "cell_type": "markdown",
   "metadata": {},
   "source": [
    "## Get maximum answer length within 2 standard deviations from the mean of the training dataset"
   ]
  },
  {
   "cell_type": "code",
   "execution_count": 14,
   "metadata": {
    "execution": {
     "iopub.execute_input": "2025-01-05T12:49:34.644509Z",
     "iopub.status.busy": "2025-01-05T12:49:34.644263Z",
     "iopub.status.idle": "2025-01-05T12:49:34.671667Z",
     "shell.execute_reply": "2025-01-05T12:49:34.670866Z",
     "shell.execute_reply.started": "2025-01-05T12:49:34.644478Z"
    },
    "trusted": true
   },
   "outputs": [],
   "source": [
    "# mean_answer_length = np.mean([len(a[\"text\"][0]) for a in ds_train[\"answers\"]])\n",
    "# std_dev_answer_length = np.std([len(a[\"text\"][0]) for a in ds_train[\"answers\"]])\n",
    "\n",
    "# two_std_devs_above = mean_answer_length + 2 * std_dev_answer_length"
   ]
  },
  {
   "cell_type": "code",
   "execution_count": 15,
   "metadata": {
    "execution": {
     "iopub.execute_input": "2025-01-05T12:49:34.672751Z",
     "iopub.status.busy": "2025-01-05T12:49:34.672461Z",
     "iopub.status.idle": "2025-01-05T12:49:34.689866Z",
     "shell.execute_reply": "2025-01-05T12:49:34.688967Z",
     "shell.execute_reply.started": "2025-01-05T12:49:34.672718Z"
    },
    "trusted": true
   },
   "outputs": [],
   "source": [
    "all_models_eval = None\n",
    "\n",
    "def tet_loop(lr_list: list, epochs: int, batch_size: int) -> None:\n",
    "    global all_models_eval\n",
    "    all_models_eval = {\"validation\": {lr:{epoch:[] for epoch in range(1, epochs + 1)} for lr in lr_list}, \"test\": {lr:{epoch:[] for epoch in range(1, epochs + 1)} for lr in lr_list}}\n",
    "    \n",
    "    eval_answer = SentenceTransformer(\"BlackKakapo/stsb-xlm-r-multilingual-ro\")\n",
    "    \n",
    "    for lr in lr_list:\n",
    "        model = AutoModelForQuestionAnswering.from_pretrained(model_name)\n",
    "\n",
    "        warmup_steps = int(len(ds_tok_train) / batch_size * 1 / 10)\n",
    "        args = TrainingArguments(\n",
    "                output_dir=\"./results\",\n",
    "                eval_strategy=\"no\",\n",
    "                save_strategy=\"epoch\",\n",
    "                learning_rate=lr,\n",
    "                num_train_epochs=1,\n",
    "                weight_decay=0.01,\n",
    "                per_device_train_batch_size=batch_size, \n",
    "                report_to=\"none\",\n",
    "                save_total_limit=1,\n",
    "                warmup_steps=warmup_steps\n",
    "            )\n",
    "        trainer = Trainer(\n",
    "            model=model,\n",
    "            args=args,\n",
    "            train_dataset=ds_tok_train,\n",
    "            eval_dataset=ds_tok_val,\n",
    "            tokenizer=tokenizer\n",
    "        )\n",
    "        \n",
    "        for epoch in range(1, epochs + 1):\n",
    "            print(f\"Training with lr={lr} and epoch={epoch}\")\n",
    "            \n",
    "            trainer.train()\n",
    "            \n",
    "            preds = trainer.predict(ds_tok_val)\n",
    "            start_logits, end_logits = preds[0][0], preds[0][1]\n",
    "            computed_metrics = compute_metrics(start_logits, end_logits, ds_tok_val, ds_val, 30, eval_answer)\n",
    "            \n",
    "            # output_metrics_to_file(computed_metrics, metric_type='validation', lr=lr, epoch=epoch)\n",
    "            print(f\"Validation for lr {lr} epoch {epoch}: \")\n",
    "            # print(computed_metrics)\n",
    "            print(computed_metrics['squad'])\n",
    "            print(computed_metrics['semantic_similarity'])\n",
    "            \n",
    "            all_models_eval['validation'][lr][epoch] = computed_metrics\n",
    "            \n",
    "            preds = trainer.predict(ds_tok_test)\n",
    "            start_logits2, end_logits2 = preds[0][0], preds[0][1]\n",
    "            computed_metrics = compute_metrics(start_logits2, end_logits2, ds_tok_test, ds_test, 30, eval_answer)\n",
    "            \n",
    "            \n",
    "            # output_metrics_to_file(computed_metrics, metric_type='test', lr=lr, epoch=epoch)\n",
    "            all_models_eval['test'][lr][epoch] = computed_metrics\n",
    "            \n",
    "\n",
    "            print(f\"Test for lr {lr} epoch {epoch}: \")\n",
    "            print(computed_metrics['squad'])\n",
    "            print(computed_metrics['semantic_similarity'])\n",
    "            \n",
    "            # save_model(trainer, lr, epoch)\n",
    "            \n",
    "        try:\n",
    "            del trainer\n",
    "            del model\n",
    "            # device = cuda.get_current_device()\n",
    "            # device.reset()\n",
    "        except Exception as e:\n",
    "            print(e)\n",
    "            \n",
    "            print(f\"Finished training, validating and testing with lr={lr} and epochs={epochs}\")"
   ]
  },
  {
   "cell_type": "code",
   "execution_count": 16,
   "metadata": {
    "execution": {
     "iopub.execute_input": "2025-01-05T12:49:34.691162Z",
     "iopub.status.busy": "2025-01-05T12:49:34.690867Z",
     "iopub.status.idle": "2025-01-05T13:22:56.238383Z",
     "shell.execute_reply": "2025-01-05T13:22:56.237671Z",
     "shell.execute_reply.started": "2025-01-05T12:49:34.691131Z"
    },
    "trusted": true
   },
   "outputs": [
    {
     "data": {
      "application/vnd.jupyter.widget-view+json": {
       "model_id": "f6bd0b6e2fba44b3965930861cbd766b",
       "version_major": 2,
       "version_minor": 0
      },
      "text/plain": [
       "model.safetensors:   0%|          | 0.00/542M [00:00<?, ?B/s]"
      ]
     },
     "metadata": {},
     "output_type": "display_data"
    },
    {
     "name": "stderr",
     "output_type": "stream",
     "text": [
      "Some weights of DistilBertForQuestionAnswering were not initialized from the model checkpoint at distilbert-base-multilingual-cased and are newly initialized: ['qa_outputs.bias', 'qa_outputs.weight']\n",
      "You should probably TRAIN this model on a down-stream task to be able to use it for predictions and inference.\n"
     ]
    },
    {
     "name": "stdout",
     "output_type": "stream",
     "text": [
      "Training with lr=0.0001 and epoch=1\n"
     ]
    },
    {
     "data": {
      "text/html": [
       "\n",
       "    <div>\n",
       "      \n",
       "      <progress value='69' max='69' style='width:300px; height:20px; vertical-align: middle;'></progress>\n",
       "      [69/69 00:30, Epoch 1/1]\n",
       "    </div>\n",
       "    <table border=\"1\" class=\"dataframe\">\n",
       "  <thead>\n",
       " <tr style=\"text-align: left;\">\n",
       "      <th>Step</th>\n",
       "      <th>Training Loss</th>\n",
       "    </tr>\n",
       "  </thead>\n",
       "  <tbody>\n",
       "  </tbody>\n",
       "</table><p>"
      ],
      "text/plain": [
       "<IPython.core.display.HTML object>"
      ]
     },
     "metadata": {},
     "output_type": "display_data"
    },
    {
     "data": {
      "text/html": [],
      "text/plain": [
       "<IPython.core.display.HTML object>"
      ]
     },
     "metadata": {},
     "output_type": "display_data"
    },
    {
     "data": {
      "application/vnd.jupyter.widget-view+json": {
       "model_id": "18af140ad7954201a52bf5f3059f3a16",
       "version_major": 2,
       "version_minor": 0
      },
      "text/plain": [
       "  0%|          | 0/119 [00:00<?, ?it/s]"
      ]
     },
     "metadata": {},
     "output_type": "display_data"
    },
    {
     "data": {
      "application/vnd.jupyter.widget-view+json": {
       "model_id": "5445a6600ffe40ff93c09c09381bac72",
       "version_major": 2,
       "version_minor": 0
      },
      "text/plain": [
       "Batches:   0%|          | 0/4 [00:00<?, ?it/s]"
      ]
     },
     "metadata": {},
     "output_type": "display_data"
    },
    {
     "data": {
      "application/vnd.jupyter.widget-view+json": {
       "model_id": "ce7c5d59d1dd4da796481539d8d97e95",
       "version_major": 2,
       "version_minor": 0
      },
      "text/plain": [
       "Batches:   0%|          | 0/4 [00:00<?, ?it/s]"
      ]
     },
     "metadata": {},
     "output_type": "display_data"
    },
    {
     "name": "stdout",
     "output_type": "stream",
     "text": [
      "Validation for lr 0.0001 epoch 1: \n",
      "{'exact_match': 7.563025210084033, 'f1': 11.440245095707278}\n",
      "18.74781996011734\n"
     ]
    },
    {
     "data": {
      "text/html": [],
      "text/plain": [
       "<IPython.core.display.HTML object>"
      ]
     },
     "metadata": {},
     "output_type": "display_data"
    },
    {
     "data": {
      "application/vnd.jupyter.widget-view+json": {
       "model_id": "a8f2a6093a25496c9b0ffbaefc5ac326",
       "version_major": 2,
       "version_minor": 0
      },
      "text/plain": [
       "  0%|          | 0/119 [00:00<?, ?it/s]"
      ]
     },
     "metadata": {},
     "output_type": "display_data"
    },
    {
     "data": {
      "application/vnd.jupyter.widget-view+json": {
       "model_id": "80b80cb5d6d448e388ee3ba47911e756",
       "version_major": 2,
       "version_minor": 0
      },
      "text/plain": [
       "Batches:   0%|          | 0/4 [00:00<?, ?it/s]"
      ]
     },
     "metadata": {},
     "output_type": "display_data"
    },
    {
     "data": {
      "application/vnd.jupyter.widget-view+json": {
       "model_id": "eb3032f4743e463198a3773fcc2c2070",
       "version_major": 2,
       "version_minor": 0
      },
      "text/plain": [
       "Batches:   0%|          | 0/4 [00:00<?, ?it/s]"
      ]
     },
     "metadata": {},
     "output_type": "display_data"
    },
    {
     "name": "stdout",
     "output_type": "stream",
     "text": [
      "Test for lr 0.0001 epoch 1: \n",
      "{'exact_match': 10.084033613445378, 'f1': 16.133195633937106}\n",
      "18.24822723865509\n",
      "Training with lr=0.0001 and epoch=2\n"
     ]
    },
    {
     "data": {
      "text/html": [
       "\n",
       "    <div>\n",
       "      \n",
       "      <progress value='69' max='69' style='width:300px; height:20px; vertical-align: middle;'></progress>\n",
       "      [69/69 00:32, Epoch 1/1]\n",
       "    </div>\n",
       "    <table border=\"1\" class=\"dataframe\">\n",
       "  <thead>\n",
       " <tr style=\"text-align: left;\">\n",
       "      <th>Step</th>\n",
       "      <th>Training Loss</th>\n",
       "    </tr>\n",
       "  </thead>\n",
       "  <tbody>\n",
       "  </tbody>\n",
       "</table><p>"
      ],
      "text/plain": [
       "<IPython.core.display.HTML object>"
      ]
     },
     "metadata": {},
     "output_type": "display_data"
    },
    {
     "data": {
      "text/html": [],
      "text/plain": [
       "<IPython.core.display.HTML object>"
      ]
     },
     "metadata": {},
     "output_type": "display_data"
    },
    {
     "data": {
      "application/vnd.jupyter.widget-view+json": {
       "model_id": "0a503190978c48928f60642d4d41ef65",
       "version_major": 2,
       "version_minor": 0
      },
      "text/plain": [
       "  0%|          | 0/119 [00:00<?, ?it/s]"
      ]
     },
     "metadata": {},
     "output_type": "display_data"
    },
    {
     "data": {
      "application/vnd.jupyter.widget-view+json": {
       "model_id": "a4c538545e674a3882b9ae5a6337f3fb",
       "version_major": 2,
       "version_minor": 0
      },
      "text/plain": [
       "Batches:   0%|          | 0/4 [00:00<?, ?it/s]"
      ]
     },
     "metadata": {},
     "output_type": "display_data"
    },
    {
     "data": {
      "application/vnd.jupyter.widget-view+json": {
       "model_id": "b0ce4938098c40cd881195a752a68390",
       "version_major": 2,
       "version_minor": 0
      },
      "text/plain": [
       "Batches:   0%|          | 0/4 [00:00<?, ?it/s]"
      ]
     },
     "metadata": {},
     "output_type": "display_data"
    },
    {
     "name": "stdout",
     "output_type": "stream",
     "text": [
      "Validation for lr 0.0001 epoch 2: \n",
      "{'exact_match': 24.369747899159663, 'f1': 33.40200096723759}\n",
      "19.079862534999847\n"
     ]
    },
    {
     "data": {
      "text/html": [],
      "text/plain": [
       "<IPython.core.display.HTML object>"
      ]
     },
     "metadata": {},
     "output_type": "display_data"
    },
    {
     "data": {
      "application/vnd.jupyter.widget-view+json": {
       "model_id": "9c5825f0714a429eacc741ed5256c787",
       "version_major": 2,
       "version_minor": 0
      },
      "text/plain": [
       "  0%|          | 0/119 [00:00<?, ?it/s]"
      ]
     },
     "metadata": {},
     "output_type": "display_data"
    },
    {
     "data": {
      "application/vnd.jupyter.widget-view+json": {
       "model_id": "0414400ebec54c878a5734e8143053e5",
       "version_major": 2,
       "version_minor": 0
      },
      "text/plain": [
       "Batches:   0%|          | 0/4 [00:00<?, ?it/s]"
      ]
     },
     "metadata": {},
     "output_type": "display_data"
    },
    {
     "data": {
      "application/vnd.jupyter.widget-view+json": {
       "model_id": "cb8a99ea381b4d9598f82e4cf4c9629a",
       "version_major": 2,
       "version_minor": 0
      },
      "text/plain": [
       "Batches:   0%|          | 0/4 [00:00<?, ?it/s]"
      ]
     },
     "metadata": {},
     "output_type": "display_data"
    },
    {
     "name": "stdout",
     "output_type": "stream",
     "text": [
      "Test for lr 0.0001 epoch 2: \n",
      "{'exact_match': 26.050420168067227, 'f1': 36.063097253161516}\n",
      "19.00547742843628\n",
      "Training with lr=0.0001 and epoch=3\n"
     ]
    },
    {
     "data": {
      "text/html": [
       "\n",
       "    <div>\n",
       "      \n",
       "      <progress value='69' max='69' style='width:300px; height:20px; vertical-align: middle;'></progress>\n",
       "      [69/69 00:32, Epoch 1/1]\n",
       "    </div>\n",
       "    <table border=\"1\" class=\"dataframe\">\n",
       "  <thead>\n",
       " <tr style=\"text-align: left;\">\n",
       "      <th>Step</th>\n",
       "      <th>Training Loss</th>\n",
       "    </tr>\n",
       "  </thead>\n",
       "  <tbody>\n",
       "  </tbody>\n",
       "</table><p>"
      ],
      "text/plain": [
       "<IPython.core.display.HTML object>"
      ]
     },
     "metadata": {},
     "output_type": "display_data"
    },
    {
     "data": {
      "text/html": [],
      "text/plain": [
       "<IPython.core.display.HTML object>"
      ]
     },
     "metadata": {},
     "output_type": "display_data"
    },
    {
     "data": {
      "application/vnd.jupyter.widget-view+json": {
       "model_id": "8ba4279fe3b34be88b6438c5f358efb5",
       "version_major": 2,
       "version_minor": 0
      },
      "text/plain": [
       "  0%|          | 0/119 [00:00<?, ?it/s]"
      ]
     },
     "metadata": {},
     "output_type": "display_data"
    },
    {
     "data": {
      "application/vnd.jupyter.widget-view+json": {
       "model_id": "4c4eb25554ba453e91ed03e568f5ad47",
       "version_major": 2,
       "version_minor": 0
      },
      "text/plain": [
       "Batches:   0%|          | 0/4 [00:00<?, ?it/s]"
      ]
     },
     "metadata": {},
     "output_type": "display_data"
    },
    {
     "data": {
      "application/vnd.jupyter.widget-view+json": {
       "model_id": "a95aebcd7f1745858f98f8240d3ff6df",
       "version_major": 2,
       "version_minor": 0
      },
      "text/plain": [
       "Batches:   0%|          | 0/4 [00:00<?, ?it/s]"
      ]
     },
     "metadata": {},
     "output_type": "display_data"
    },
    {
     "name": "stdout",
     "output_type": "stream",
     "text": [
      "Validation for lr 0.0001 epoch 3: \n",
      "{'exact_match': 22.689075630252102, 'f1': 33.170442280414456}\n",
      "18.44789683818817\n"
     ]
    },
    {
     "data": {
      "text/html": [],
      "text/plain": [
       "<IPython.core.display.HTML object>"
      ]
     },
     "metadata": {},
     "output_type": "display_data"
    },
    {
     "data": {
      "application/vnd.jupyter.widget-view+json": {
       "model_id": "3d35ff46e7b843a69796c04d6555482b",
       "version_major": 2,
       "version_minor": 0
      },
      "text/plain": [
       "  0%|          | 0/119 [00:00<?, ?it/s]"
      ]
     },
     "metadata": {},
     "output_type": "display_data"
    },
    {
     "data": {
      "application/vnd.jupyter.widget-view+json": {
       "model_id": "91c1d93ffdc04e9496f82fbdcd0de09e",
       "version_major": 2,
       "version_minor": 0
      },
      "text/plain": [
       "Batches:   0%|          | 0/4 [00:00<?, ?it/s]"
      ]
     },
     "metadata": {},
     "output_type": "display_data"
    },
    {
     "data": {
      "application/vnd.jupyter.widget-view+json": {
       "model_id": "f6dab63a196a4a4f83f1ae651c6bc971",
       "version_major": 2,
       "version_minor": 0
      },
      "text/plain": [
       "Batches:   0%|          | 0/4 [00:00<?, ?it/s]"
      ]
     },
     "metadata": {},
     "output_type": "display_data"
    },
    {
     "name": "stdout",
     "output_type": "stream",
     "text": [
      "Test for lr 0.0001 epoch 3: \n",
      "{'exact_match': 21.008403361344538, 'f1': 29.74696377934143}\n",
      "18.70218962430954\n",
      "Training with lr=0.0001 and epoch=4\n"
     ]
    },
    {
     "data": {
      "text/html": [
       "\n",
       "    <div>\n",
       "      \n",
       "      <progress value='69' max='69' style='width:300px; height:20px; vertical-align: middle;'></progress>\n",
       "      [69/69 00:32, Epoch 1/1]\n",
       "    </div>\n",
       "    <table border=\"1\" class=\"dataframe\">\n",
       "  <thead>\n",
       " <tr style=\"text-align: left;\">\n",
       "      <th>Step</th>\n",
       "      <th>Training Loss</th>\n",
       "    </tr>\n",
       "  </thead>\n",
       "  <tbody>\n",
       "  </tbody>\n",
       "</table><p>"
      ],
      "text/plain": [
       "<IPython.core.display.HTML object>"
      ]
     },
     "metadata": {},
     "output_type": "display_data"
    },
    {
     "data": {
      "text/html": [],
      "text/plain": [
       "<IPython.core.display.HTML object>"
      ]
     },
     "metadata": {},
     "output_type": "display_data"
    },
    {
     "data": {
      "application/vnd.jupyter.widget-view+json": {
       "model_id": "df8ca323662c464ca302389d4534e73d",
       "version_major": 2,
       "version_minor": 0
      },
      "text/plain": [
       "  0%|          | 0/119 [00:00<?, ?it/s]"
      ]
     },
     "metadata": {},
     "output_type": "display_data"
    },
    {
     "data": {
      "application/vnd.jupyter.widget-view+json": {
       "model_id": "ed2c9967c5814fd78b7586c9921fcc64",
       "version_major": 2,
       "version_minor": 0
      },
      "text/plain": [
       "Batches:   0%|          | 0/4 [00:00<?, ?it/s]"
      ]
     },
     "metadata": {},
     "output_type": "display_data"
    },
    {
     "data": {
      "application/vnd.jupyter.widget-view+json": {
       "model_id": "4be43b61a1e0479e93c55ffe5397ab6f",
       "version_major": 2,
       "version_minor": 0
      },
      "text/plain": [
       "Batches:   0%|          | 0/4 [00:00<?, ?it/s]"
      ]
     },
     "metadata": {},
     "output_type": "display_data"
    },
    {
     "name": "stdout",
     "output_type": "stream",
     "text": [
      "Validation for lr 0.0001 epoch 4: \n",
      "{'exact_match': 21.84873949579832, 'f1': 31.07757469323148}\n",
      "18.370285630226135\n"
     ]
    },
    {
     "data": {
      "text/html": [],
      "text/plain": [
       "<IPython.core.display.HTML object>"
      ]
     },
     "metadata": {},
     "output_type": "display_data"
    },
    {
     "data": {
      "application/vnd.jupyter.widget-view+json": {
       "model_id": "2c526ce3a9ff4bdeb5ead0f0b5b3f2f4",
       "version_major": 2,
       "version_minor": 0
      },
      "text/plain": [
       "  0%|          | 0/119 [00:00<?, ?it/s]"
      ]
     },
     "metadata": {},
     "output_type": "display_data"
    },
    {
     "data": {
      "application/vnd.jupyter.widget-view+json": {
       "model_id": "9b1e3e0ab648496f9b949dd0075b72c1",
       "version_major": 2,
       "version_minor": 0
      },
      "text/plain": [
       "Batches:   0%|          | 0/4 [00:00<?, ?it/s]"
      ]
     },
     "metadata": {},
     "output_type": "display_data"
    },
    {
     "data": {
      "application/vnd.jupyter.widget-view+json": {
       "model_id": "89d19444fb47478cbdd998b4c0cfba6b",
       "version_major": 2,
       "version_minor": 0
      },
      "text/plain": [
       "Batches:   0%|          | 0/4 [00:00<?, ?it/s]"
      ]
     },
     "metadata": {},
     "output_type": "display_data"
    },
    {
     "name": "stdout",
     "output_type": "stream",
     "text": [
      "Test for lr 0.0001 epoch 4: \n",
      "{'exact_match': 21.84873949579832, 'f1': 31.37041013696318}\n",
      "18.482841551303864\n",
      "Training with lr=0.0001 and epoch=5\n"
     ]
    },
    {
     "data": {
      "text/html": [
       "\n",
       "    <div>\n",
       "      \n",
       "      <progress value='69' max='69' style='width:300px; height:20px; vertical-align: middle;'></progress>\n",
       "      [69/69 00:32, Epoch 1/1]\n",
       "    </div>\n",
       "    <table border=\"1\" class=\"dataframe\">\n",
       "  <thead>\n",
       " <tr style=\"text-align: left;\">\n",
       "      <th>Step</th>\n",
       "      <th>Training Loss</th>\n",
       "    </tr>\n",
       "  </thead>\n",
       "  <tbody>\n",
       "  </tbody>\n",
       "</table><p>"
      ],
      "text/plain": [
       "<IPython.core.display.HTML object>"
      ]
     },
     "metadata": {},
     "output_type": "display_data"
    },
    {
     "data": {
      "text/html": [],
      "text/plain": [
       "<IPython.core.display.HTML object>"
      ]
     },
     "metadata": {},
     "output_type": "display_data"
    },
    {
     "data": {
      "application/vnd.jupyter.widget-view+json": {
       "model_id": "ee5419e69e7847a88fc451e505d04acf",
       "version_major": 2,
       "version_minor": 0
      },
      "text/plain": [
       "  0%|          | 0/119 [00:00<?, ?it/s]"
      ]
     },
     "metadata": {},
     "output_type": "display_data"
    },
    {
     "data": {
      "application/vnd.jupyter.widget-view+json": {
       "model_id": "368e608c8daa4546bdb62c943deba81b",
       "version_major": 2,
       "version_minor": 0
      },
      "text/plain": [
       "Batches:   0%|          | 0/4 [00:00<?, ?it/s]"
      ]
     },
     "metadata": {},
     "output_type": "display_data"
    },
    {
     "data": {
      "application/vnd.jupyter.widget-view+json": {
       "model_id": "1e2ff279d4744eba82ede0d0730e4855",
       "version_major": 2,
       "version_minor": 0
      },
      "text/plain": [
       "Batches:   0%|          | 0/4 [00:00<?, ?it/s]"
      ]
     },
     "metadata": {},
     "output_type": "display_data"
    },
    {
     "name": "stdout",
     "output_type": "stream",
     "text": [
      "Validation for lr 0.0001 epoch 5: \n",
      "{'exact_match': 18.48739495798319, 'f1': 28.83903187087618}\n",
      "18.211407959461212\n"
     ]
    },
    {
     "data": {
      "text/html": [],
      "text/plain": [
       "<IPython.core.display.HTML object>"
      ]
     },
     "metadata": {},
     "output_type": "display_data"
    },
    {
     "data": {
      "application/vnd.jupyter.widget-view+json": {
       "model_id": "b75650b4e2bd49ab81b664a46c202e76",
       "version_major": 2,
       "version_minor": 0
      },
      "text/plain": [
       "  0%|          | 0/119 [00:00<?, ?it/s]"
      ]
     },
     "metadata": {},
     "output_type": "display_data"
    },
    {
     "data": {
      "application/vnd.jupyter.widget-view+json": {
       "model_id": "c74d93810e5b42fdbd8a191681d5dbb0",
       "version_major": 2,
       "version_minor": 0
      },
      "text/plain": [
       "Batches:   0%|          | 0/4 [00:00<?, ?it/s]"
      ]
     },
     "metadata": {},
     "output_type": "display_data"
    },
    {
     "data": {
      "application/vnd.jupyter.widget-view+json": {
       "model_id": "c64fa704bf4e4355a2ad88a23efba97b",
       "version_major": 2,
       "version_minor": 0
      },
      "text/plain": [
       "Batches:   0%|          | 0/4 [00:00<?, ?it/s]"
      ]
     },
     "metadata": {},
     "output_type": "display_data"
    },
    {
     "name": "stdout",
     "output_type": "stream",
     "text": [
      "Test for lr 0.0001 epoch 5: \n",
      "{'exact_match': 14.285714285714286, 'f1': 24.707614352617856}\n",
      "18.84462535381317\n",
      "Training with lr=0.0001 and epoch=6\n"
     ]
    },
    {
     "data": {
      "text/html": [
       "\n",
       "    <div>\n",
       "      \n",
       "      <progress value='69' max='69' style='width:300px; height:20px; vertical-align: middle;'></progress>\n",
       "      [69/69 00:32, Epoch 1/1]\n",
       "    </div>\n",
       "    <table border=\"1\" class=\"dataframe\">\n",
       "  <thead>\n",
       " <tr style=\"text-align: left;\">\n",
       "      <th>Step</th>\n",
       "      <th>Training Loss</th>\n",
       "    </tr>\n",
       "  </thead>\n",
       "  <tbody>\n",
       "  </tbody>\n",
       "</table><p>"
      ],
      "text/plain": [
       "<IPython.core.display.HTML object>"
      ]
     },
     "metadata": {},
     "output_type": "display_data"
    },
    {
     "data": {
      "text/html": [],
      "text/plain": [
       "<IPython.core.display.HTML object>"
      ]
     },
     "metadata": {},
     "output_type": "display_data"
    },
    {
     "data": {
      "application/vnd.jupyter.widget-view+json": {
       "model_id": "40d749bc689e483ab254b8cb188e2b03",
       "version_major": 2,
       "version_minor": 0
      },
      "text/plain": [
       "  0%|          | 0/119 [00:00<?, ?it/s]"
      ]
     },
     "metadata": {},
     "output_type": "display_data"
    },
    {
     "data": {
      "application/vnd.jupyter.widget-view+json": {
       "model_id": "297ba6909c8944508b1f653e31ecc7bd",
       "version_major": 2,
       "version_minor": 0
      },
      "text/plain": [
       "Batches:   0%|          | 0/4 [00:00<?, ?it/s]"
      ]
     },
     "metadata": {},
     "output_type": "display_data"
    },
    {
     "data": {
      "application/vnd.jupyter.widget-view+json": {
       "model_id": "d65f85ad3a3041e3bec06541017cd18b",
       "version_major": 2,
       "version_minor": 0
      },
      "text/plain": [
       "Batches:   0%|          | 0/4 [00:00<?, ?it/s]"
      ]
     },
     "metadata": {},
     "output_type": "display_data"
    },
    {
     "name": "stdout",
     "output_type": "stream",
     "text": [
      "Validation for lr 0.0001 epoch 6: \n",
      "{'exact_match': 17.647058823529413, 'f1': 26.930154959787867}\n",
      "18.998606503009796\n"
     ]
    },
    {
     "data": {
      "text/html": [],
      "text/plain": [
       "<IPython.core.display.HTML object>"
      ]
     },
     "metadata": {},
     "output_type": "display_data"
    },
    {
     "data": {
      "application/vnd.jupyter.widget-view+json": {
       "model_id": "8e9cc9bc4a174dea893f791efc9561fa",
       "version_major": 2,
       "version_minor": 0
      },
      "text/plain": [
       "  0%|          | 0/119 [00:00<?, ?it/s]"
      ]
     },
     "metadata": {},
     "output_type": "display_data"
    },
    {
     "data": {
      "application/vnd.jupyter.widget-view+json": {
       "model_id": "407a473c4046486e86fdf58a0c07bdaf",
       "version_major": 2,
       "version_minor": 0
      },
      "text/plain": [
       "Batches:   0%|          | 0/4 [00:00<?, ?it/s]"
      ]
     },
     "metadata": {},
     "output_type": "display_data"
    },
    {
     "data": {
      "application/vnd.jupyter.widget-view+json": {
       "model_id": "93bb6132d1b14089bd7c4caa092d9e52",
       "version_major": 2,
       "version_minor": 0
      },
      "text/plain": [
       "Batches:   0%|          | 0/4 [00:00<?, ?it/s]"
      ]
     },
     "metadata": {},
     "output_type": "display_data"
    },
    {
     "name": "stdout",
     "output_type": "stream",
     "text": [
      "Test for lr 0.0001 epoch 6: \n",
      "{'exact_match': 18.48739495798319, 'f1': 25.06433411154123}\n",
      "18.58246773481369\n",
      "Training with lr=0.0001 and epoch=7\n"
     ]
    },
    {
     "data": {
      "text/html": [
       "\n",
       "    <div>\n",
       "      \n",
       "      <progress value='69' max='69' style='width:300px; height:20px; vertical-align: middle;'></progress>\n",
       "      [69/69 00:32, Epoch 1/1]\n",
       "    </div>\n",
       "    <table border=\"1\" class=\"dataframe\">\n",
       "  <thead>\n",
       " <tr style=\"text-align: left;\">\n",
       "      <th>Step</th>\n",
       "      <th>Training Loss</th>\n",
       "    </tr>\n",
       "  </thead>\n",
       "  <tbody>\n",
       "  </tbody>\n",
       "</table><p>"
      ],
      "text/plain": [
       "<IPython.core.display.HTML object>"
      ]
     },
     "metadata": {},
     "output_type": "display_data"
    },
    {
     "data": {
      "text/html": [],
      "text/plain": [
       "<IPython.core.display.HTML object>"
      ]
     },
     "metadata": {},
     "output_type": "display_data"
    },
    {
     "data": {
      "application/vnd.jupyter.widget-view+json": {
       "model_id": "0a9e14d9e0714baa84454e1c2c38de2e",
       "version_major": 2,
       "version_minor": 0
      },
      "text/plain": [
       "  0%|          | 0/119 [00:00<?, ?it/s]"
      ]
     },
     "metadata": {},
     "output_type": "display_data"
    },
    {
     "data": {
      "application/vnd.jupyter.widget-view+json": {
       "model_id": "fdf82e64f9334e69b0d5ca1553765bc2",
       "version_major": 2,
       "version_minor": 0
      },
      "text/plain": [
       "Batches:   0%|          | 0/4 [00:00<?, ?it/s]"
      ]
     },
     "metadata": {},
     "output_type": "display_data"
    },
    {
     "data": {
      "application/vnd.jupyter.widget-view+json": {
       "model_id": "4703d8ee627242fb911dff6939f64aa9",
       "version_major": 2,
       "version_minor": 0
      },
      "text/plain": [
       "Batches:   0%|          | 0/4 [00:00<?, ?it/s]"
      ]
     },
     "metadata": {},
     "output_type": "display_data"
    },
    {
     "name": "stdout",
     "output_type": "stream",
     "text": [
      "Validation for lr 0.0001 epoch 7: \n",
      "{'exact_match': 15.966386554621849, 'f1': 24.656056509218825}\n",
      "19.051170349121094\n"
     ]
    },
    {
     "data": {
      "text/html": [],
      "text/plain": [
       "<IPython.core.display.HTML object>"
      ]
     },
     "metadata": {},
     "output_type": "display_data"
    },
    {
     "data": {
      "application/vnd.jupyter.widget-view+json": {
       "model_id": "63787974be2e4d2e916d432ceee7e6b5",
       "version_major": 2,
       "version_minor": 0
      },
      "text/plain": [
       "  0%|          | 0/119 [00:00<?, ?it/s]"
      ]
     },
     "metadata": {},
     "output_type": "display_data"
    },
    {
     "data": {
      "application/vnd.jupyter.widget-view+json": {
       "model_id": "1a4232d56e074b19b26a1fe0b1a1cdc8",
       "version_major": 2,
       "version_minor": 0
      },
      "text/plain": [
       "Batches:   0%|          | 0/4 [00:00<?, ?it/s]"
      ]
     },
     "metadata": {},
     "output_type": "display_data"
    },
    {
     "data": {
      "application/vnd.jupyter.widget-view+json": {
       "model_id": "5162140d6c3c4fc6b200fc4bfed20894",
       "version_major": 2,
       "version_minor": 0
      },
      "text/plain": [
       "Batches:   0%|          | 0/4 [00:00<?, ?it/s]"
      ]
     },
     "metadata": {},
     "output_type": "display_data"
    },
    {
     "name": "stdout",
     "output_type": "stream",
     "text": [
      "Test for lr 0.0001 epoch 7: \n",
      "{'exact_match': 15.126050420168067, 'f1': 22.073072338766853}\n",
      "18.5798242688179\n",
      "Training with lr=0.0001 and epoch=8\n"
     ]
    },
    {
     "data": {
      "text/html": [
       "\n",
       "    <div>\n",
       "      \n",
       "      <progress value='69' max='69' style='width:300px; height:20px; vertical-align: middle;'></progress>\n",
       "      [69/69 00:31, Epoch 1/1]\n",
       "    </div>\n",
       "    <table border=\"1\" class=\"dataframe\">\n",
       "  <thead>\n",
       " <tr style=\"text-align: left;\">\n",
       "      <th>Step</th>\n",
       "      <th>Training Loss</th>\n",
       "    </tr>\n",
       "  </thead>\n",
       "  <tbody>\n",
       "  </tbody>\n",
       "</table><p>"
      ],
      "text/plain": [
       "<IPython.core.display.HTML object>"
      ]
     },
     "metadata": {},
     "output_type": "display_data"
    },
    {
     "data": {
      "text/html": [],
      "text/plain": [
       "<IPython.core.display.HTML object>"
      ]
     },
     "metadata": {},
     "output_type": "display_data"
    },
    {
     "data": {
      "application/vnd.jupyter.widget-view+json": {
       "model_id": "4c2f0e72633d45a5b7c8da38d94287f1",
       "version_major": 2,
       "version_minor": 0
      },
      "text/plain": [
       "  0%|          | 0/119 [00:00<?, ?it/s]"
      ]
     },
     "metadata": {},
     "output_type": "display_data"
    },
    {
     "data": {
      "application/vnd.jupyter.widget-view+json": {
       "model_id": "8f4a5762a2b5409a96f543d2aefb3800",
       "version_major": 2,
       "version_minor": 0
      },
      "text/plain": [
       "Batches:   0%|          | 0/4 [00:00<?, ?it/s]"
      ]
     },
     "metadata": {},
     "output_type": "display_data"
    },
    {
     "data": {
      "application/vnd.jupyter.widget-view+json": {
       "model_id": "f6788538a5d347419bfcc36c136f22da",
       "version_major": 2,
       "version_minor": 0
      },
      "text/plain": [
       "Batches:   0%|          | 0/4 [00:00<?, ?it/s]"
      ]
     },
     "metadata": {},
     "output_type": "display_data"
    },
    {
     "name": "stdout",
     "output_type": "stream",
     "text": [
      "Validation for lr 0.0001 epoch 8: \n",
      "{'exact_match': 19.327731092436974, 'f1': 28.179133164303703}\n",
      "18.436820805072784\n"
     ]
    },
    {
     "data": {
      "text/html": [],
      "text/plain": [
       "<IPython.core.display.HTML object>"
      ]
     },
     "metadata": {},
     "output_type": "display_data"
    },
    {
     "data": {
      "application/vnd.jupyter.widget-view+json": {
       "model_id": "13a63c4377e64c78839d1ee9ccdd4670",
       "version_major": 2,
       "version_minor": 0
      },
      "text/plain": [
       "  0%|          | 0/119 [00:00<?, ?it/s]"
      ]
     },
     "metadata": {},
     "output_type": "display_data"
    },
    {
     "data": {
      "application/vnd.jupyter.widget-view+json": {
       "model_id": "faf1a8e52b0f4649b8eeea494f23da74",
       "version_major": 2,
       "version_minor": 0
      },
      "text/plain": [
       "Batches:   0%|          | 0/4 [00:00<?, ?it/s]"
      ]
     },
     "metadata": {},
     "output_type": "display_data"
    },
    {
     "data": {
      "application/vnd.jupyter.widget-view+json": {
       "model_id": "f26313ba9c2f4d95aabdd6e28a5b180a",
       "version_major": 2,
       "version_minor": 0
      },
      "text/plain": [
       "Batches:   0%|          | 0/4 [00:00<?, ?it/s]"
      ]
     },
     "metadata": {},
     "output_type": "display_data"
    },
    {
     "name": "stdout",
     "output_type": "stream",
     "text": [
      "Test for lr 0.0001 epoch 8: \n",
      "{'exact_match': 18.48739495798319, 'f1': 25.604634833502846}\n",
      "18.31582933664322\n",
      "Training with lr=0.0001 and epoch=9\n"
     ]
    },
    {
     "data": {
      "text/html": [
       "\n",
       "    <div>\n",
       "      \n",
       "      <progress value='69' max='69' style='width:300px; height:20px; vertical-align: middle;'></progress>\n",
       "      [69/69 00:34, Epoch 1/1]\n",
       "    </div>\n",
       "    <table border=\"1\" class=\"dataframe\">\n",
       "  <thead>\n",
       " <tr style=\"text-align: left;\">\n",
       "      <th>Step</th>\n",
       "      <th>Training Loss</th>\n",
       "    </tr>\n",
       "  </thead>\n",
       "  <tbody>\n",
       "  </tbody>\n",
       "</table><p>"
      ],
      "text/plain": [
       "<IPython.core.display.HTML object>"
      ]
     },
     "metadata": {},
     "output_type": "display_data"
    },
    {
     "data": {
      "text/html": [],
      "text/plain": [
       "<IPython.core.display.HTML object>"
      ]
     },
     "metadata": {},
     "output_type": "display_data"
    },
    {
     "data": {
      "application/vnd.jupyter.widget-view+json": {
       "model_id": "e656c20d48c34ab39f5e1b555cc61529",
       "version_major": 2,
       "version_minor": 0
      },
      "text/plain": [
       "  0%|          | 0/119 [00:00<?, ?it/s]"
      ]
     },
     "metadata": {},
     "output_type": "display_data"
    },
    {
     "data": {
      "application/vnd.jupyter.widget-view+json": {
       "model_id": "66d636a320a04a39abef80ae7a0251b1",
       "version_major": 2,
       "version_minor": 0
      },
      "text/plain": [
       "Batches:   0%|          | 0/4 [00:00<?, ?it/s]"
      ]
     },
     "metadata": {},
     "output_type": "display_data"
    },
    {
     "data": {
      "application/vnd.jupyter.widget-view+json": {
       "model_id": "bbcaaf5c8a604d5cb25feb89078c234c",
       "version_major": 2,
       "version_minor": 0
      },
      "text/plain": [
       "Batches:   0%|          | 0/4 [00:00<?, ?it/s]"
      ]
     },
     "metadata": {},
     "output_type": "display_data"
    },
    {
     "name": "stdout",
     "output_type": "stream",
     "text": [
      "Validation for lr 0.0001 epoch 9: \n",
      "{'exact_match': 22.689075630252102, 'f1': 33.75478231879616}\n",
      "18.983127176761627\n"
     ]
    },
    {
     "data": {
      "text/html": [],
      "text/plain": [
       "<IPython.core.display.HTML object>"
      ]
     },
     "metadata": {},
     "output_type": "display_data"
    },
    {
     "data": {
      "application/vnd.jupyter.widget-view+json": {
       "model_id": "d05392b7c96647069d88d72a1b6c7dc1",
       "version_major": 2,
       "version_minor": 0
      },
      "text/plain": [
       "  0%|          | 0/119 [00:00<?, ?it/s]"
      ]
     },
     "metadata": {},
     "output_type": "display_data"
    },
    {
     "data": {
      "application/vnd.jupyter.widget-view+json": {
       "model_id": "b5663f6d0faf46699dca4ee961856037",
       "version_major": 2,
       "version_minor": 0
      },
      "text/plain": [
       "Batches:   0%|          | 0/4 [00:00<?, ?it/s]"
      ]
     },
     "metadata": {},
     "output_type": "display_data"
    },
    {
     "data": {
      "application/vnd.jupyter.widget-view+json": {
       "model_id": "06edd018d1e44c229d457043ec9052a0",
       "version_major": 2,
       "version_minor": 0
      },
      "text/plain": [
       "Batches:   0%|          | 0/4 [00:00<?, ?it/s]"
      ]
     },
     "metadata": {},
     "output_type": "display_data"
    },
    {
     "name": "stdout",
     "output_type": "stream",
     "text": [
      "Test for lr 0.0001 epoch 9: \n",
      "{'exact_match': 21.008403361344538, 'f1': 28.50882477739412}\n",
      "18.288421630859375\n",
      "Training with lr=0.0001 and epoch=10\n"
     ]
    },
    {
     "data": {
      "text/html": [
       "\n",
       "    <div>\n",
       "      \n",
       "      <progress value='69' max='69' style='width:300px; height:20px; vertical-align: middle;'></progress>\n",
       "      [69/69 00:31, Epoch 1/1]\n",
       "    </div>\n",
       "    <table border=\"1\" class=\"dataframe\">\n",
       "  <thead>\n",
       " <tr style=\"text-align: left;\">\n",
       "      <th>Step</th>\n",
       "      <th>Training Loss</th>\n",
       "    </tr>\n",
       "  </thead>\n",
       "  <tbody>\n",
       "  </tbody>\n",
       "</table><p>"
      ],
      "text/plain": [
       "<IPython.core.display.HTML object>"
      ]
     },
     "metadata": {},
     "output_type": "display_data"
    },
    {
     "data": {
      "text/html": [],
      "text/plain": [
       "<IPython.core.display.HTML object>"
      ]
     },
     "metadata": {},
     "output_type": "display_data"
    },
    {
     "data": {
      "application/vnd.jupyter.widget-view+json": {
       "model_id": "835fe6ed74f642acbdaa9ee252d9cb85",
       "version_major": 2,
       "version_minor": 0
      },
      "text/plain": [
       "  0%|          | 0/119 [00:00<?, ?it/s]"
      ]
     },
     "metadata": {},
     "output_type": "display_data"
    },
    {
     "data": {
      "application/vnd.jupyter.widget-view+json": {
       "model_id": "81ea9c1daab54a759c20dea1849ce984",
       "version_major": 2,
       "version_minor": 0
      },
      "text/plain": [
       "Batches:   0%|          | 0/4 [00:00<?, ?it/s]"
      ]
     },
     "metadata": {},
     "output_type": "display_data"
    },
    {
     "data": {
      "application/vnd.jupyter.widget-view+json": {
       "model_id": "51b221165be044ffa7ac84b6745fb8ed",
       "version_major": 2,
       "version_minor": 0
      },
      "text/plain": [
       "Batches:   0%|          | 0/4 [00:00<?, ?it/s]"
      ]
     },
     "metadata": {},
     "output_type": "display_data"
    },
    {
     "name": "stdout",
     "output_type": "stream",
     "text": [
      "Validation for lr 0.0001 epoch 10: \n",
      "{'exact_match': 19.327731092436974, 'f1': 29.00845186559471}\n",
      "18.34762543439865\n"
     ]
    },
    {
     "data": {
      "text/html": [],
      "text/plain": [
       "<IPython.core.display.HTML object>"
      ]
     },
     "metadata": {},
     "output_type": "display_data"
    },
    {
     "data": {
      "application/vnd.jupyter.widget-view+json": {
       "model_id": "1cfdb0b492ba4ca4bbef8d03d0454a0f",
       "version_major": 2,
       "version_minor": 0
      },
      "text/plain": [
       "  0%|          | 0/119 [00:00<?, ?it/s]"
      ]
     },
     "metadata": {},
     "output_type": "display_data"
    },
    {
     "data": {
      "application/vnd.jupyter.widget-view+json": {
       "model_id": "d477bb7663d94477a75c8640359f3e9a",
       "version_major": 2,
       "version_minor": 0
      },
      "text/plain": [
       "Batches:   0%|          | 0/4 [00:00<?, ?it/s]"
      ]
     },
     "metadata": {},
     "output_type": "display_data"
    },
    {
     "data": {
      "application/vnd.jupyter.widget-view+json": {
       "model_id": "7a5905a62be44defb8ee22a5ed15c34d",
       "version_major": 2,
       "version_minor": 0
      },
      "text/plain": [
       "Batches:   0%|          | 0/4 [00:00<?, ?it/s]"
      ]
     },
     "metadata": {},
     "output_type": "display_data"
    },
    {
     "name": "stdout",
     "output_type": "stream",
     "text": [
      "Test for lr 0.0001 epoch 10: \n",
      "{'exact_match': 21.008403361344538, 'f1': 27.601867191531696}\n",
      "18.533222377300262\n",
      "Training with lr=0.0001 and epoch=11\n"
     ]
    },
    {
     "data": {
      "text/html": [
       "\n",
       "    <div>\n",
       "      \n",
       "      <progress value='69' max='69' style='width:300px; height:20px; vertical-align: middle;'></progress>\n",
       "      [69/69 00:31, Epoch 1/1]\n",
       "    </div>\n",
       "    <table border=\"1\" class=\"dataframe\">\n",
       "  <thead>\n",
       " <tr style=\"text-align: left;\">\n",
       "      <th>Step</th>\n",
       "      <th>Training Loss</th>\n",
       "    </tr>\n",
       "  </thead>\n",
       "  <tbody>\n",
       "  </tbody>\n",
       "</table><p>"
      ],
      "text/plain": [
       "<IPython.core.display.HTML object>"
      ]
     },
     "metadata": {},
     "output_type": "display_data"
    },
    {
     "data": {
      "text/html": [],
      "text/plain": [
       "<IPython.core.display.HTML object>"
      ]
     },
     "metadata": {},
     "output_type": "display_data"
    },
    {
     "data": {
      "application/vnd.jupyter.widget-view+json": {
       "model_id": "c464442694e54be3adb9e8f5967989a4",
       "version_major": 2,
       "version_minor": 0
      },
      "text/plain": [
       "  0%|          | 0/119 [00:00<?, ?it/s]"
      ]
     },
     "metadata": {},
     "output_type": "display_data"
    },
    {
     "data": {
      "application/vnd.jupyter.widget-view+json": {
       "model_id": "f28a52e53c434f808a39e66b1dacfee5",
       "version_major": 2,
       "version_minor": 0
      },
      "text/plain": [
       "Batches:   0%|          | 0/4 [00:00<?, ?it/s]"
      ]
     },
     "metadata": {},
     "output_type": "display_data"
    },
    {
     "data": {
      "application/vnd.jupyter.widget-view+json": {
       "model_id": "833f2437867c47ffa636e4f458a49f0a",
       "version_major": 2,
       "version_minor": 0
      },
      "text/plain": [
       "Batches:   0%|          | 0/4 [00:00<?, ?it/s]"
      ]
     },
     "metadata": {},
     "output_type": "display_data"
    },
    {
     "name": "stdout",
     "output_type": "stream",
     "text": [
      "Validation for lr 0.0001 epoch 11: \n",
      "{'exact_match': 21.008403361344538, 'f1': 31.194468463376023}\n",
      "18.54916512966156\n"
     ]
    },
    {
     "data": {
      "text/html": [],
      "text/plain": [
       "<IPython.core.display.HTML object>"
      ]
     },
     "metadata": {},
     "output_type": "display_data"
    },
    {
     "data": {
      "application/vnd.jupyter.widget-view+json": {
       "model_id": "1e0d916f19434e9da55990a4dcdcd6ad",
       "version_major": 2,
       "version_minor": 0
      },
      "text/plain": [
       "  0%|          | 0/119 [00:00<?, ?it/s]"
      ]
     },
     "metadata": {},
     "output_type": "display_data"
    },
    {
     "data": {
      "application/vnd.jupyter.widget-view+json": {
       "model_id": "a59e69c74d484d67aaa4f39d474e48be",
       "version_major": 2,
       "version_minor": 0
      },
      "text/plain": [
       "Batches:   0%|          | 0/4 [00:00<?, ?it/s]"
      ]
     },
     "metadata": {},
     "output_type": "display_data"
    },
    {
     "data": {
      "application/vnd.jupyter.widget-view+json": {
       "model_id": "8c5335cd5591483fa72a42386f3f2af6",
       "version_major": 2,
       "version_minor": 0
      },
      "text/plain": [
       "Batches:   0%|          | 0/4 [00:00<?, ?it/s]"
      ]
     },
     "metadata": {},
     "output_type": "display_data"
    },
    {
     "name": "stdout",
     "output_type": "stream",
     "text": [
      "Test for lr 0.0001 epoch 11: \n",
      "{'exact_match': 22.689075630252102, 'f1': 29.22514388999807}\n",
      "18.93848329782486\n",
      "Training with lr=0.0001 and epoch=12\n"
     ]
    },
    {
     "data": {
      "text/html": [
       "\n",
       "    <div>\n",
       "      \n",
       "      <progress value='69' max='69' style='width:300px; height:20px; vertical-align: middle;'></progress>\n",
       "      [69/69 00:32, Epoch 1/1]\n",
       "    </div>\n",
       "    <table border=\"1\" class=\"dataframe\">\n",
       "  <thead>\n",
       " <tr style=\"text-align: left;\">\n",
       "      <th>Step</th>\n",
       "      <th>Training Loss</th>\n",
       "    </tr>\n",
       "  </thead>\n",
       "  <tbody>\n",
       "  </tbody>\n",
       "</table><p>"
      ],
      "text/plain": [
       "<IPython.core.display.HTML object>"
      ]
     },
     "metadata": {},
     "output_type": "display_data"
    },
    {
     "data": {
      "text/html": [],
      "text/plain": [
       "<IPython.core.display.HTML object>"
      ]
     },
     "metadata": {},
     "output_type": "display_data"
    },
    {
     "data": {
      "application/vnd.jupyter.widget-view+json": {
       "model_id": "a83310fdc96e4930b3494e9a4179e29d",
       "version_major": 2,
       "version_minor": 0
      },
      "text/plain": [
       "  0%|          | 0/119 [00:00<?, ?it/s]"
      ]
     },
     "metadata": {},
     "output_type": "display_data"
    },
    {
     "data": {
      "application/vnd.jupyter.widget-view+json": {
       "model_id": "c898af4fbdda4d34a9eb2cb90b24f235",
       "version_major": 2,
       "version_minor": 0
      },
      "text/plain": [
       "Batches:   0%|          | 0/4 [00:00<?, ?it/s]"
      ]
     },
     "metadata": {},
     "output_type": "display_data"
    },
    {
     "data": {
      "application/vnd.jupyter.widget-view+json": {
       "model_id": "19a1e4b3c7a44d1a8057cfeaa477b735",
       "version_major": 2,
       "version_minor": 0
      },
      "text/plain": [
       "Batches:   0%|          | 0/4 [00:00<?, ?it/s]"
      ]
     },
     "metadata": {},
     "output_type": "display_data"
    },
    {
     "name": "stdout",
     "output_type": "stream",
     "text": [
      "Validation for lr 0.0001 epoch 12: \n",
      "{'exact_match': 22.689075630252102, 'f1': 32.36558163646645}\n",
      "17.994089424610138\n"
     ]
    },
    {
     "data": {
      "text/html": [],
      "text/plain": [
       "<IPython.core.display.HTML object>"
      ]
     },
     "metadata": {},
     "output_type": "display_data"
    },
    {
     "data": {
      "application/vnd.jupyter.widget-view+json": {
       "model_id": "8417bb687cf24901b1eb0ab755c31297",
       "version_major": 2,
       "version_minor": 0
      },
      "text/plain": [
       "  0%|          | 0/119 [00:00<?, ?it/s]"
      ]
     },
     "metadata": {},
     "output_type": "display_data"
    },
    {
     "data": {
      "application/vnd.jupyter.widget-view+json": {
       "model_id": "70c2e1e9c98e45829af9bf177b95de51",
       "version_major": 2,
       "version_minor": 0
      },
      "text/plain": [
       "Batches:   0%|          | 0/4 [00:00<?, ?it/s]"
      ]
     },
     "metadata": {},
     "output_type": "display_data"
    },
    {
     "data": {
      "application/vnd.jupyter.widget-view+json": {
       "model_id": "9dd20d0a4e7546e7ae1b180cbb76be8a",
       "version_major": 2,
       "version_minor": 0
      },
      "text/plain": [
       "Batches:   0%|          | 0/4 [00:00<?, ?it/s]"
      ]
     },
     "metadata": {},
     "output_type": "display_data"
    },
    {
     "name": "stdout",
     "output_type": "stream",
     "text": [
      "Test for lr 0.0001 epoch 12: \n",
      "{'exact_match': 20.168067226890756, 'f1': 27.685729989239626}\n",
      "18.583863973617554\n",
      "Training with lr=0.0001 and epoch=13\n"
     ]
    },
    {
     "data": {
      "text/html": [
       "\n",
       "    <div>\n",
       "      \n",
       "      <progress value='69' max='69' style='width:300px; height:20px; vertical-align: middle;'></progress>\n",
       "      [69/69 00:31, Epoch 1/1]\n",
       "    </div>\n",
       "    <table border=\"1\" class=\"dataframe\">\n",
       "  <thead>\n",
       " <tr style=\"text-align: left;\">\n",
       "      <th>Step</th>\n",
       "      <th>Training Loss</th>\n",
       "    </tr>\n",
       "  </thead>\n",
       "  <tbody>\n",
       "  </tbody>\n",
       "</table><p>"
      ],
      "text/plain": [
       "<IPython.core.display.HTML object>"
      ]
     },
     "metadata": {},
     "output_type": "display_data"
    },
    {
     "data": {
      "text/html": [],
      "text/plain": [
       "<IPython.core.display.HTML object>"
      ]
     },
     "metadata": {},
     "output_type": "display_data"
    },
    {
     "data": {
      "application/vnd.jupyter.widget-view+json": {
       "model_id": "714d4fa57c5b4b96bbfaee8b3f042b28",
       "version_major": 2,
       "version_minor": 0
      },
      "text/plain": [
       "  0%|          | 0/119 [00:00<?, ?it/s]"
      ]
     },
     "metadata": {},
     "output_type": "display_data"
    },
    {
     "data": {
      "application/vnd.jupyter.widget-view+json": {
       "model_id": "8102ef302d3847f9a20c2b2918792ac7",
       "version_major": 2,
       "version_minor": 0
      },
      "text/plain": [
       "Batches:   0%|          | 0/4 [00:00<?, ?it/s]"
      ]
     },
     "metadata": {},
     "output_type": "display_data"
    },
    {
     "data": {
      "application/vnd.jupyter.widget-view+json": {
       "model_id": "fbfc979437994e1ea697f0bb2384f66f",
       "version_major": 2,
       "version_minor": 0
      },
      "text/plain": [
       "Batches:   0%|          | 0/4 [00:00<?, ?it/s]"
      ]
     },
     "metadata": {},
     "output_type": "display_data"
    },
    {
     "name": "stdout",
     "output_type": "stream",
     "text": [
      "Validation for lr 0.0001 epoch 13: \n",
      "{'exact_match': 20.168067226890756, 'f1': 31.138752223774464}\n",
      "18.32251101732254\n"
     ]
    },
    {
     "data": {
      "text/html": [],
      "text/plain": [
       "<IPython.core.display.HTML object>"
      ]
     },
     "metadata": {},
     "output_type": "display_data"
    },
    {
     "data": {
      "application/vnd.jupyter.widget-view+json": {
       "model_id": "a56fecd6a78b476aa692525672e7cc90",
       "version_major": 2,
       "version_minor": 0
      },
      "text/plain": [
       "  0%|          | 0/119 [00:00<?, ?it/s]"
      ]
     },
     "metadata": {},
     "output_type": "display_data"
    },
    {
     "data": {
      "application/vnd.jupyter.widget-view+json": {
       "model_id": "e0966a28efda4c2db2bdd1458e53d5e5",
       "version_major": 2,
       "version_minor": 0
      },
      "text/plain": [
       "Batches:   0%|          | 0/4 [00:00<?, ?it/s]"
      ]
     },
     "metadata": {},
     "output_type": "display_data"
    },
    {
     "data": {
      "application/vnd.jupyter.widget-view+json": {
       "model_id": "84c8875cf6c34f3280113add9f9fa931",
       "version_major": 2,
       "version_minor": 0
      },
      "text/plain": [
       "Batches:   0%|          | 0/4 [00:00<?, ?it/s]"
      ]
     },
     "metadata": {},
     "output_type": "display_data"
    },
    {
     "name": "stdout",
     "output_type": "stream",
     "text": [
      "Test for lr 0.0001 epoch 13: \n",
      "{'exact_match': 21.84873949579832, 'f1': 28.825377676094433}\n",
      "19.1885769367218\n",
      "Training with lr=0.0001 and epoch=14\n"
     ]
    },
    {
     "data": {
      "text/html": [
       "\n",
       "    <div>\n",
       "      \n",
       "      <progress value='69' max='69' style='width:300px; height:20px; vertical-align: middle;'></progress>\n",
       "      [69/69 00:31, Epoch 1/1]\n",
       "    </div>\n",
       "    <table border=\"1\" class=\"dataframe\">\n",
       "  <thead>\n",
       " <tr style=\"text-align: left;\">\n",
       "      <th>Step</th>\n",
       "      <th>Training Loss</th>\n",
       "    </tr>\n",
       "  </thead>\n",
       "  <tbody>\n",
       "  </tbody>\n",
       "</table><p>"
      ],
      "text/plain": [
       "<IPython.core.display.HTML object>"
      ]
     },
     "metadata": {},
     "output_type": "display_data"
    },
    {
     "data": {
      "text/html": [],
      "text/plain": [
       "<IPython.core.display.HTML object>"
      ]
     },
     "metadata": {},
     "output_type": "display_data"
    },
    {
     "data": {
      "application/vnd.jupyter.widget-view+json": {
       "model_id": "5214a33db2ff4fa08fda074f2d86a9e4",
       "version_major": 2,
       "version_minor": 0
      },
      "text/plain": [
       "  0%|          | 0/119 [00:00<?, ?it/s]"
      ]
     },
     "metadata": {},
     "output_type": "display_data"
    },
    {
     "data": {
      "application/vnd.jupyter.widget-view+json": {
       "model_id": "369c06dc2a814822a2c74190e30a527a",
       "version_major": 2,
       "version_minor": 0
      },
      "text/plain": [
       "Batches:   0%|          | 0/4 [00:00<?, ?it/s]"
      ]
     },
     "metadata": {},
     "output_type": "display_data"
    },
    {
     "data": {
      "application/vnd.jupyter.widget-view+json": {
       "model_id": "4dd11b061c0b498bb4bfe79698932457",
       "version_major": 2,
       "version_minor": 0
      },
      "text/plain": [
       "Batches:   0%|          | 0/4 [00:00<?, ?it/s]"
      ]
     },
     "metadata": {},
     "output_type": "display_data"
    },
    {
     "name": "stdout",
     "output_type": "stream",
     "text": [
      "Validation for lr 0.0001 epoch 14: \n",
      "{'exact_match': 22.689075630252102, 'f1': 31.42451989708539}\n",
      "18.330103158950806\n"
     ]
    },
    {
     "data": {
      "text/html": [],
      "text/plain": [
       "<IPython.core.display.HTML object>"
      ]
     },
     "metadata": {},
     "output_type": "display_data"
    },
    {
     "data": {
      "application/vnd.jupyter.widget-view+json": {
       "model_id": "78892b08096240c7b5248d465a0acf8c",
       "version_major": 2,
       "version_minor": 0
      },
      "text/plain": [
       "  0%|          | 0/119 [00:00<?, ?it/s]"
      ]
     },
     "metadata": {},
     "output_type": "display_data"
    },
    {
     "data": {
      "application/vnd.jupyter.widget-view+json": {
       "model_id": "3567ab3c47cd4aef8aad1e2e3723467a",
       "version_major": 2,
       "version_minor": 0
      },
      "text/plain": [
       "Batches:   0%|          | 0/4 [00:00<?, ?it/s]"
      ]
     },
     "metadata": {},
     "output_type": "display_data"
    },
    {
     "data": {
      "application/vnd.jupyter.widget-view+json": {
       "model_id": "0f542cf2225b43e6bdbddb1e4ed3757d",
       "version_major": 2,
       "version_minor": 0
      },
      "text/plain": [
       "Batches:   0%|          | 0/4 [00:00<?, ?it/s]"
      ]
     },
     "metadata": {},
     "output_type": "display_data"
    },
    {
     "name": "stdout",
     "output_type": "stream",
     "text": [
      "Test for lr 0.0001 epoch 14: \n",
      "{'exact_match': 17.647058823529413, 'f1': 24.450864947651898}\n",
      "18.845587968826294\n",
      "Training with lr=0.0001 and epoch=15\n"
     ]
    },
    {
     "data": {
      "text/html": [
       "\n",
       "    <div>\n",
       "      \n",
       "      <progress value='69' max='69' style='width:300px; height:20px; vertical-align: middle;'></progress>\n",
       "      [69/69 00:33, Epoch 1/1]\n",
       "    </div>\n",
       "    <table border=\"1\" class=\"dataframe\">\n",
       "  <thead>\n",
       " <tr style=\"text-align: left;\">\n",
       "      <th>Step</th>\n",
       "      <th>Training Loss</th>\n",
       "    </tr>\n",
       "  </thead>\n",
       "  <tbody>\n",
       "  </tbody>\n",
       "</table><p>"
      ],
      "text/plain": [
       "<IPython.core.display.HTML object>"
      ]
     },
     "metadata": {},
     "output_type": "display_data"
    },
    {
     "data": {
      "text/html": [],
      "text/plain": [
       "<IPython.core.display.HTML object>"
      ]
     },
     "metadata": {},
     "output_type": "display_data"
    },
    {
     "data": {
      "application/vnd.jupyter.widget-view+json": {
       "model_id": "08af4f7dbf784101876b520b0db9ec22",
       "version_major": 2,
       "version_minor": 0
      },
      "text/plain": [
       "  0%|          | 0/119 [00:00<?, ?it/s]"
      ]
     },
     "metadata": {},
     "output_type": "display_data"
    },
    {
     "data": {
      "application/vnd.jupyter.widget-view+json": {
       "model_id": "1516ce353f19455880cf01f50078306d",
       "version_major": 2,
       "version_minor": 0
      },
      "text/plain": [
       "Batches:   0%|          | 0/4 [00:00<?, ?it/s]"
      ]
     },
     "metadata": {},
     "output_type": "display_data"
    },
    {
     "data": {
      "application/vnd.jupyter.widget-view+json": {
       "model_id": "403f9c1740774299916aabe5081e7413",
       "version_major": 2,
       "version_minor": 0
      },
      "text/plain": [
       "Batches:   0%|          | 0/4 [00:00<?, ?it/s]"
      ]
     },
     "metadata": {},
     "output_type": "display_data"
    },
    {
     "name": "stdout",
     "output_type": "stream",
     "text": [
      "Validation for lr 0.0001 epoch 15: \n",
      "{'exact_match': 20.168067226890756, 'f1': 29.4570794825107}\n",
      "19.152607023715973\n"
     ]
    },
    {
     "data": {
      "text/html": [],
      "text/plain": [
       "<IPython.core.display.HTML object>"
      ]
     },
     "metadata": {},
     "output_type": "display_data"
    },
    {
     "data": {
      "application/vnd.jupyter.widget-view+json": {
       "model_id": "581fd905787c4afe8f8bb0f9f965788e",
       "version_major": 2,
       "version_minor": 0
      },
      "text/plain": [
       "  0%|          | 0/119 [00:00<?, ?it/s]"
      ]
     },
     "metadata": {},
     "output_type": "display_data"
    },
    {
     "data": {
      "application/vnd.jupyter.widget-view+json": {
       "model_id": "b55c2d11879645a2962fe160167f4dd1",
       "version_major": 2,
       "version_minor": 0
      },
      "text/plain": [
       "Batches:   0%|          | 0/4 [00:00<?, ?it/s]"
      ]
     },
     "metadata": {},
     "output_type": "display_data"
    },
    {
     "data": {
      "application/vnd.jupyter.widget-view+json": {
       "model_id": "4b33b6539fe24b1e8c3a5d94ab2b73c0",
       "version_major": 2,
       "version_minor": 0
      },
      "text/plain": [
       "Batches:   0%|          | 0/4 [00:00<?, ?it/s]"
      ]
     },
     "metadata": {},
     "output_type": "display_data"
    },
    {
     "name": "stdout",
     "output_type": "stream",
     "text": [
      "Test for lr 0.0001 epoch 15: \n",
      "{'exact_match': 21.008403361344538, 'f1': 27.945395627056524}\n",
      "18.81830096244812\n",
      "Training with lr=0.0001 and epoch=16\n"
     ]
    },
    {
     "data": {
      "text/html": [
       "\n",
       "    <div>\n",
       "      \n",
       "      <progress value='69' max='69' style='width:300px; height:20px; vertical-align: middle;'></progress>\n",
       "      [69/69 00:31, Epoch 1/1]\n",
       "    </div>\n",
       "    <table border=\"1\" class=\"dataframe\">\n",
       "  <thead>\n",
       " <tr style=\"text-align: left;\">\n",
       "      <th>Step</th>\n",
       "      <th>Training Loss</th>\n",
       "    </tr>\n",
       "  </thead>\n",
       "  <tbody>\n",
       "  </tbody>\n",
       "</table><p>"
      ],
      "text/plain": [
       "<IPython.core.display.HTML object>"
      ]
     },
     "metadata": {},
     "output_type": "display_data"
    },
    {
     "data": {
      "text/html": [],
      "text/plain": [
       "<IPython.core.display.HTML object>"
      ]
     },
     "metadata": {},
     "output_type": "display_data"
    },
    {
     "data": {
      "application/vnd.jupyter.widget-view+json": {
       "model_id": "28c4a6e9acd6424ab6bf96b8ff593ab6",
       "version_major": 2,
       "version_minor": 0
      },
      "text/plain": [
       "  0%|          | 0/119 [00:00<?, ?it/s]"
      ]
     },
     "metadata": {},
     "output_type": "display_data"
    },
    {
     "data": {
      "application/vnd.jupyter.widget-view+json": {
       "model_id": "59584c4bb4504185a09281572b6711e6",
       "version_major": 2,
       "version_minor": 0
      },
      "text/plain": [
       "Batches:   0%|          | 0/4 [00:00<?, ?it/s]"
      ]
     },
     "metadata": {},
     "output_type": "display_data"
    },
    {
     "data": {
      "application/vnd.jupyter.widget-view+json": {
       "model_id": "0096c04d11c249ca9560e978b06f44a8",
       "version_major": 2,
       "version_minor": 0
      },
      "text/plain": [
       "Batches:   0%|          | 0/4 [00:00<?, ?it/s]"
      ]
     },
     "metadata": {},
     "output_type": "display_data"
    },
    {
     "name": "stdout",
     "output_type": "stream",
     "text": [
      "Validation for lr 0.0001 epoch 16: \n",
      "{'exact_match': 17.647058823529413, 'f1': 27.134343933651884}\n",
      "18.99094134569168\n"
     ]
    },
    {
     "data": {
      "text/html": [],
      "text/plain": [
       "<IPython.core.display.HTML object>"
      ]
     },
     "metadata": {},
     "output_type": "display_data"
    },
    {
     "data": {
      "application/vnd.jupyter.widget-view+json": {
       "model_id": "b13245ab3e4b4dda90cfcb8eda836f4b",
       "version_major": 2,
       "version_minor": 0
      },
      "text/plain": [
       "  0%|          | 0/119 [00:00<?, ?it/s]"
      ]
     },
     "metadata": {},
     "output_type": "display_data"
    },
    {
     "data": {
      "application/vnd.jupyter.widget-view+json": {
       "model_id": "270c31f858374a2280c41aab7d76ccb6",
       "version_major": 2,
       "version_minor": 0
      },
      "text/plain": [
       "Batches:   0%|          | 0/4 [00:00<?, ?it/s]"
      ]
     },
     "metadata": {},
     "output_type": "display_data"
    },
    {
     "data": {
      "application/vnd.jupyter.widget-view+json": {
       "model_id": "4f75c0ec220f4931b207624da6044f6c",
       "version_major": 2,
       "version_minor": 0
      },
      "text/plain": [
       "Batches:   0%|          | 0/4 [00:00<?, ?it/s]"
      ]
     },
     "metadata": {},
     "output_type": "display_data"
    },
    {
     "name": "stderr",
     "output_type": "stream",
     "text": [
      "Some weights of DistilBertForQuestionAnswering were not initialized from the model checkpoint at distilbert-base-multilingual-cased and are newly initialized: ['qa_outputs.bias', 'qa_outputs.weight']\n",
      "You should probably TRAIN this model on a down-stream task to be able to use it for predictions and inference.\n"
     ]
    },
    {
     "name": "stdout",
     "output_type": "stream",
     "text": [
      "Test for lr 0.0001 epoch 16: \n",
      "{'exact_match': 21.84873949579832, 'f1': 28.921350111414373}\n",
      "19.365890324115753\n",
      "Training with lr=0.001 and epoch=1\n"
     ]
    },
    {
     "data": {
      "text/html": [
       "\n",
       "    <div>\n",
       "      \n",
       "      <progress value='69' max='69' style='width:300px; height:20px; vertical-align: middle;'></progress>\n",
       "      [69/69 00:31, Epoch 1/1]\n",
       "    </div>\n",
       "    <table border=\"1\" class=\"dataframe\">\n",
       "  <thead>\n",
       " <tr style=\"text-align: left;\">\n",
       "      <th>Step</th>\n",
       "      <th>Training Loss</th>\n",
       "    </tr>\n",
       "  </thead>\n",
       "  <tbody>\n",
       "  </tbody>\n",
       "</table><p>"
      ],
      "text/plain": [
       "<IPython.core.display.HTML object>"
      ]
     },
     "metadata": {},
     "output_type": "display_data"
    },
    {
     "data": {
      "text/html": [],
      "text/plain": [
       "<IPython.core.display.HTML object>"
      ]
     },
     "metadata": {},
     "output_type": "display_data"
    },
    {
     "data": {
      "application/vnd.jupyter.widget-view+json": {
       "model_id": "7b8c9beafca9408a8bbe6426cf2287a7",
       "version_major": 2,
       "version_minor": 0
      },
      "text/plain": [
       "  0%|          | 0/119 [00:00<?, ?it/s]"
      ]
     },
     "metadata": {},
     "output_type": "display_data"
    },
    {
     "data": {
      "application/vnd.jupyter.widget-view+json": {
       "model_id": "e9aaaf1960924bf08c86a3498572955c",
       "version_major": 2,
       "version_minor": 0
      },
      "text/plain": [
       "Batches:   0%|          | 0/4 [00:00<?, ?it/s]"
      ]
     },
     "metadata": {},
     "output_type": "display_data"
    },
    {
     "data": {
      "application/vnd.jupyter.widget-view+json": {
       "model_id": "7b69a2d616e64890981dd9837b285c13",
       "version_major": 2,
       "version_minor": 0
      },
      "text/plain": [
       "Batches:   0%|          | 0/4 [00:00<?, ?it/s]"
      ]
     },
     "metadata": {},
     "output_type": "display_data"
    },
    {
     "name": "stdout",
     "output_type": "stream",
     "text": [
      "Validation for lr 0.001 epoch 1: \n",
      "{'exact_match': 0.8403361344537815, 'f1': 3.185190159980076}\n",
      "22.631388902664185\n"
     ]
    },
    {
     "data": {
      "text/html": [],
      "text/plain": [
       "<IPython.core.display.HTML object>"
      ]
     },
     "metadata": {},
     "output_type": "display_data"
    },
    {
     "data": {
      "application/vnd.jupyter.widget-view+json": {
       "model_id": "25fadf0ace6341a487cf8aa30a5337c1",
       "version_major": 2,
       "version_minor": 0
      },
      "text/plain": [
       "  0%|          | 0/119 [00:00<?, ?it/s]"
      ]
     },
     "metadata": {},
     "output_type": "display_data"
    },
    {
     "data": {
      "application/vnd.jupyter.widget-view+json": {
       "model_id": "905eca4a2f8540c7ac8cc0c1c18ec365",
       "version_major": 2,
       "version_minor": 0
      },
      "text/plain": [
       "Batches:   0%|          | 0/4 [00:00<?, ?it/s]"
      ]
     },
     "metadata": {},
     "output_type": "display_data"
    },
    {
     "data": {
      "application/vnd.jupyter.widget-view+json": {
       "model_id": "9be04c4f87e74b36bb26b93c2131e366",
       "version_major": 2,
       "version_minor": 0
      },
      "text/plain": [
       "Batches:   0%|          | 0/4 [00:00<?, ?it/s]"
      ]
     },
     "metadata": {},
     "output_type": "display_data"
    },
    {
     "name": "stdout",
     "output_type": "stream",
     "text": [
      "Test for lr 0.001 epoch 1: \n",
      "{'exact_match': 0.0, 'f1': 1.2753586282998046}\n",
      "21.95984721183777\n",
      "Training with lr=0.001 and epoch=2\n"
     ]
    },
    {
     "data": {
      "text/html": [
       "\n",
       "    <div>\n",
       "      \n",
       "      <progress value='69' max='69' style='width:300px; height:20px; vertical-align: middle;'></progress>\n",
       "      [69/69 00:31, Epoch 1/1]\n",
       "    </div>\n",
       "    <table border=\"1\" class=\"dataframe\">\n",
       "  <thead>\n",
       " <tr style=\"text-align: left;\">\n",
       "      <th>Step</th>\n",
       "      <th>Training Loss</th>\n",
       "    </tr>\n",
       "  </thead>\n",
       "  <tbody>\n",
       "  </tbody>\n",
       "</table><p>"
      ],
      "text/plain": [
       "<IPython.core.display.HTML object>"
      ]
     },
     "metadata": {},
     "output_type": "display_data"
    },
    {
     "data": {
      "text/html": [],
      "text/plain": [
       "<IPython.core.display.HTML object>"
      ]
     },
     "metadata": {},
     "output_type": "display_data"
    },
    {
     "data": {
      "application/vnd.jupyter.widget-view+json": {
       "model_id": "ff9ac8d8c3284301a1b88b4cd9152888",
       "version_major": 2,
       "version_minor": 0
      },
      "text/plain": [
       "  0%|          | 0/119 [00:00<?, ?it/s]"
      ]
     },
     "metadata": {},
     "output_type": "display_data"
    },
    {
     "data": {
      "application/vnd.jupyter.widget-view+json": {
       "model_id": "e34cc038a1c64cb28e3003d9494a692e",
       "version_major": 2,
       "version_minor": 0
      },
      "text/plain": [
       "Batches:   0%|          | 0/4 [00:00<?, ?it/s]"
      ]
     },
     "metadata": {},
     "output_type": "display_data"
    },
    {
     "data": {
      "application/vnd.jupyter.widget-view+json": {
       "model_id": "ca1441af56304f5f84898e0c47fda460",
       "version_major": 2,
       "version_minor": 0
      },
      "text/plain": [
       "Batches:   0%|          | 0/4 [00:00<?, ?it/s]"
      ]
     },
     "metadata": {},
     "output_type": "display_data"
    },
    {
     "name": "stdout",
     "output_type": "stream",
     "text": [
      "Validation for lr 0.001 epoch 2: \n",
      "{'exact_match': 1.680672268907563, 'f1': 2.436974789915966}\n",
      "23.41030240058899\n"
     ]
    },
    {
     "data": {
      "text/html": [],
      "text/plain": [
       "<IPython.core.display.HTML object>"
      ]
     },
     "metadata": {},
     "output_type": "display_data"
    },
    {
     "data": {
      "application/vnd.jupyter.widget-view+json": {
       "model_id": "7aa0e67d314449be91b8e715efeebe12",
       "version_major": 2,
       "version_minor": 0
      },
      "text/plain": [
       "  0%|          | 0/119 [00:00<?, ?it/s]"
      ]
     },
     "metadata": {},
     "output_type": "display_data"
    },
    {
     "data": {
      "application/vnd.jupyter.widget-view+json": {
       "model_id": "78d63e9f805e4326b74e905ad472d99f",
       "version_major": 2,
       "version_minor": 0
      },
      "text/plain": [
       "Batches:   0%|          | 0/4 [00:00<?, ?it/s]"
      ]
     },
     "metadata": {},
     "output_type": "display_data"
    },
    {
     "data": {
      "application/vnd.jupyter.widget-view+json": {
       "model_id": "976daa4ab0f846388c0836028e0bdecf",
       "version_major": 2,
       "version_minor": 0
      },
      "text/plain": [
       "Batches:   0%|          | 0/4 [00:00<?, ?it/s]"
      ]
     },
     "metadata": {},
     "output_type": "display_data"
    },
    {
     "name": "stdout",
     "output_type": "stream",
     "text": [
      "Test for lr 0.001 epoch 2: \n",
      "{'exact_match': 0.0, 'f1': 2.2969187675070026}\n",
      "23.673351109027863\n",
      "Training with lr=0.001 and epoch=3\n"
     ]
    },
    {
     "data": {
      "text/html": [
       "\n",
       "    <div>\n",
       "      \n",
       "      <progress value='69' max='69' style='width:300px; height:20px; vertical-align: middle;'></progress>\n",
       "      [69/69 00:31, Epoch 1/1]\n",
       "    </div>\n",
       "    <table border=\"1\" class=\"dataframe\">\n",
       "  <thead>\n",
       " <tr style=\"text-align: left;\">\n",
       "      <th>Step</th>\n",
       "      <th>Training Loss</th>\n",
       "    </tr>\n",
       "  </thead>\n",
       "  <tbody>\n",
       "  </tbody>\n",
       "</table><p>"
      ],
      "text/plain": [
       "<IPython.core.display.HTML object>"
      ]
     },
     "metadata": {},
     "output_type": "display_data"
    },
    {
     "data": {
      "text/html": [],
      "text/plain": [
       "<IPython.core.display.HTML object>"
      ]
     },
     "metadata": {},
     "output_type": "display_data"
    },
    {
     "data": {
      "application/vnd.jupyter.widget-view+json": {
       "model_id": "16e62bcc859d467883e76a26d70cdeb3",
       "version_major": 2,
       "version_minor": 0
      },
      "text/plain": [
       "  0%|          | 0/119 [00:00<?, ?it/s]"
      ]
     },
     "metadata": {},
     "output_type": "display_data"
    },
    {
     "data": {
      "application/vnd.jupyter.widget-view+json": {
       "model_id": "3513d69e7d174293b1401fdfe0466b67",
       "version_major": 2,
       "version_minor": 0
      },
      "text/plain": [
       "Batches:   0%|          | 0/4 [00:00<?, ?it/s]"
      ]
     },
     "metadata": {},
     "output_type": "display_data"
    },
    {
     "data": {
      "application/vnd.jupyter.widget-view+json": {
       "model_id": "7194169e06614863870cf1ce6fee6056",
       "version_major": 2,
       "version_minor": 0
      },
      "text/plain": [
       "Batches:   0%|          | 0/4 [00:00<?, ?it/s]"
      ]
     },
     "metadata": {},
     "output_type": "display_data"
    },
    {
     "name": "stdout",
     "output_type": "stream",
     "text": [
      "Validation for lr 0.001 epoch 3: \n",
      "{'exact_match': 1.680672268907563, 'f1': 4.677871148459383}\n",
      "23.556971549987793\n"
     ]
    },
    {
     "data": {
      "text/html": [],
      "text/plain": [
       "<IPython.core.display.HTML object>"
      ]
     },
     "metadata": {},
     "output_type": "display_data"
    },
    {
     "data": {
      "application/vnd.jupyter.widget-view+json": {
       "model_id": "1e5c59418e1a43d6846ac60b464f5eb5",
       "version_major": 2,
       "version_minor": 0
      },
      "text/plain": [
       "  0%|          | 0/119 [00:00<?, ?it/s]"
      ]
     },
     "metadata": {},
     "output_type": "display_data"
    },
    {
     "data": {
      "application/vnd.jupyter.widget-view+json": {
       "model_id": "752c7b8430484e378ff9021aa3503a83",
       "version_major": 2,
       "version_minor": 0
      },
      "text/plain": [
       "Batches:   0%|          | 0/4 [00:00<?, ?it/s]"
      ]
     },
     "metadata": {},
     "output_type": "display_data"
    },
    {
     "data": {
      "application/vnd.jupyter.widget-view+json": {
       "model_id": "6cbc4ec55c2047139bfa7f4fef9108b1",
       "version_major": 2,
       "version_minor": 0
      },
      "text/plain": [
       "Batches:   0%|          | 0/4 [00:00<?, ?it/s]"
      ]
     },
     "metadata": {},
     "output_type": "display_data"
    },
    {
     "name": "stdout",
     "output_type": "stream",
     "text": [
      "Test for lr 0.001 epoch 3: \n",
      "{'exact_match': 0.0, 'f1': 2.1008403361344534}\n",
      "24.629229307174683\n",
      "Training with lr=0.001 and epoch=4\n"
     ]
    },
    {
     "data": {
      "text/html": [
       "\n",
       "    <div>\n",
       "      \n",
       "      <progress value='69' max='69' style='width:300px; height:20px; vertical-align: middle;'></progress>\n",
       "      [69/69 00:31, Epoch 1/1]\n",
       "    </div>\n",
       "    <table border=\"1\" class=\"dataframe\">\n",
       "  <thead>\n",
       " <tr style=\"text-align: left;\">\n",
       "      <th>Step</th>\n",
       "      <th>Training Loss</th>\n",
       "    </tr>\n",
       "  </thead>\n",
       "  <tbody>\n",
       "  </tbody>\n",
       "</table><p>"
      ],
      "text/plain": [
       "<IPython.core.display.HTML object>"
      ]
     },
     "metadata": {},
     "output_type": "display_data"
    },
    {
     "data": {
      "text/html": [],
      "text/plain": [
       "<IPython.core.display.HTML object>"
      ]
     },
     "metadata": {},
     "output_type": "display_data"
    },
    {
     "data": {
      "application/vnd.jupyter.widget-view+json": {
       "model_id": "82ded438b5544c229a5bc59913963639",
       "version_major": 2,
       "version_minor": 0
      },
      "text/plain": [
       "  0%|          | 0/119 [00:00<?, ?it/s]"
      ]
     },
     "metadata": {},
     "output_type": "display_data"
    },
    {
     "data": {
      "application/vnd.jupyter.widget-view+json": {
       "model_id": "0b225492e7534096b20967b9d8ad939f",
       "version_major": 2,
       "version_minor": 0
      },
      "text/plain": [
       "Batches:   0%|          | 0/4 [00:00<?, ?it/s]"
      ]
     },
     "metadata": {},
     "output_type": "display_data"
    },
    {
     "data": {
      "application/vnd.jupyter.widget-view+json": {
       "model_id": "1133db1c521041ecabd53e4f9ff7a9b2",
       "version_major": 2,
       "version_minor": 0
      },
      "text/plain": [
       "Batches:   0%|          | 0/4 [00:00<?, ?it/s]"
      ]
     },
     "metadata": {},
     "output_type": "display_data"
    },
    {
     "name": "stdout",
     "output_type": "stream",
     "text": [
      "Validation for lr 0.001 epoch 4: \n",
      "{'exact_match': 0.8403361344537815, 'f1': 3.649283242708848}\n",
      "20.976077020168304\n"
     ]
    },
    {
     "data": {
      "text/html": [],
      "text/plain": [
       "<IPython.core.display.HTML object>"
      ]
     },
     "metadata": {},
     "output_type": "display_data"
    },
    {
     "data": {
      "application/vnd.jupyter.widget-view+json": {
       "model_id": "5ab6be27ccf141d4a6e82c1b86b8e56d",
       "version_major": 2,
       "version_minor": 0
      },
      "text/plain": [
       "  0%|          | 0/119 [00:00<?, ?it/s]"
      ]
     },
     "metadata": {},
     "output_type": "display_data"
    },
    {
     "data": {
      "application/vnd.jupyter.widget-view+json": {
       "model_id": "ab8e1179941a408b816a22354177e741",
       "version_major": 2,
       "version_minor": 0
      },
      "text/plain": [
       "Batches:   0%|          | 0/4 [00:00<?, ?it/s]"
      ]
     },
     "metadata": {},
     "output_type": "display_data"
    },
    {
     "data": {
      "application/vnd.jupyter.widget-view+json": {
       "model_id": "ee90dd94b4ed4e188441b3766cc0233f",
       "version_major": 2,
       "version_minor": 0
      },
      "text/plain": [
       "Batches:   0%|          | 0/4 [00:00<?, ?it/s]"
      ]
     },
     "metadata": {},
     "output_type": "display_data"
    },
    {
     "name": "stdout",
     "output_type": "stream",
     "text": [
      "Test for lr 0.001 epoch 4: \n",
      "{'exact_match': 0.0, 'f1': 5.440657921860928}\n",
      "21.78766578435898\n",
      "Training with lr=0.001 and epoch=5\n"
     ]
    },
    {
     "data": {
      "text/html": [
       "\n",
       "    <div>\n",
       "      \n",
       "      <progress value='69' max='69' style='width:300px; height:20px; vertical-align: middle;'></progress>\n",
       "      [69/69 00:33, Epoch 1/1]\n",
       "    </div>\n",
       "    <table border=\"1\" class=\"dataframe\">\n",
       "  <thead>\n",
       " <tr style=\"text-align: left;\">\n",
       "      <th>Step</th>\n",
       "      <th>Training Loss</th>\n",
       "    </tr>\n",
       "  </thead>\n",
       "  <tbody>\n",
       "  </tbody>\n",
       "</table><p>"
      ],
      "text/plain": [
       "<IPython.core.display.HTML object>"
      ]
     },
     "metadata": {},
     "output_type": "display_data"
    },
    {
     "data": {
      "text/html": [],
      "text/plain": [
       "<IPython.core.display.HTML object>"
      ]
     },
     "metadata": {},
     "output_type": "display_data"
    },
    {
     "data": {
      "application/vnd.jupyter.widget-view+json": {
       "model_id": "d87fd3ce73f0423e985b9926850107b3",
       "version_major": 2,
       "version_minor": 0
      },
      "text/plain": [
       "  0%|          | 0/119 [00:00<?, ?it/s]"
      ]
     },
     "metadata": {},
     "output_type": "display_data"
    },
    {
     "data": {
      "application/vnd.jupyter.widget-view+json": {
       "model_id": "d77eb90ee4c441019de55296bb364d43",
       "version_major": 2,
       "version_minor": 0
      },
      "text/plain": [
       "Batches:   0%|          | 0/4 [00:00<?, ?it/s]"
      ]
     },
     "metadata": {},
     "output_type": "display_data"
    },
    {
     "data": {
      "application/vnd.jupyter.widget-view+json": {
       "model_id": "5bbd4dfdbad9484f9b562b0f099c465a",
       "version_major": 2,
       "version_minor": 0
      },
      "text/plain": [
       "Batches:   0%|          | 0/4 [00:00<?, ?it/s]"
      ]
     },
     "metadata": {},
     "output_type": "display_data"
    },
    {
     "name": "stdout",
     "output_type": "stream",
     "text": [
      "Validation for lr 0.001 epoch 5: \n",
      "{'exact_match': 0.8403361344537815, 'f1': 4.816605134293185}\n",
      "21.12312614917755\n"
     ]
    },
    {
     "data": {
      "text/html": [],
      "text/plain": [
       "<IPython.core.display.HTML object>"
      ]
     },
     "metadata": {},
     "output_type": "display_data"
    },
    {
     "data": {
      "application/vnd.jupyter.widget-view+json": {
       "model_id": "65a9cf9476334643898c611bfca2a75d",
       "version_major": 2,
       "version_minor": 0
      },
      "text/plain": [
       "  0%|          | 0/119 [00:00<?, ?it/s]"
      ]
     },
     "metadata": {},
     "output_type": "display_data"
    },
    {
     "data": {
      "application/vnd.jupyter.widget-view+json": {
       "model_id": "ce35f71103394c7cbab927280af98614",
       "version_major": 2,
       "version_minor": 0
      },
      "text/plain": [
       "Batches:   0%|          | 0/4 [00:00<?, ?it/s]"
      ]
     },
     "metadata": {},
     "output_type": "display_data"
    },
    {
     "data": {
      "application/vnd.jupyter.widget-view+json": {
       "model_id": "9334efc0824d424eb0de2b09f38473a0",
       "version_major": 2,
       "version_minor": 0
      },
      "text/plain": [
       "Batches:   0%|          | 0/4 [00:00<?, ?it/s]"
      ]
     },
     "metadata": {},
     "output_type": "display_data"
    },
    {
     "name": "stdout",
     "output_type": "stream",
     "text": [
      "Test for lr 0.001 epoch 5: \n",
      "{'exact_match': 0.0, 'f1': 5.073595060807338}\n",
      "19.587905704975128\n",
      "Training with lr=0.001 and epoch=6\n"
     ]
    },
    {
     "data": {
      "text/html": [
       "\n",
       "    <div>\n",
       "      \n",
       "      <progress value='69' max='69' style='width:300px; height:20px; vertical-align: middle;'></progress>\n",
       "      [69/69 00:31, Epoch 1/1]\n",
       "    </div>\n",
       "    <table border=\"1\" class=\"dataframe\">\n",
       "  <thead>\n",
       " <tr style=\"text-align: left;\">\n",
       "      <th>Step</th>\n",
       "      <th>Training Loss</th>\n",
       "    </tr>\n",
       "  </thead>\n",
       "  <tbody>\n",
       "  </tbody>\n",
       "</table><p>"
      ],
      "text/plain": [
       "<IPython.core.display.HTML object>"
      ]
     },
     "metadata": {},
     "output_type": "display_data"
    },
    {
     "data": {
      "text/html": [],
      "text/plain": [
       "<IPython.core.display.HTML object>"
      ]
     },
     "metadata": {},
     "output_type": "display_data"
    },
    {
     "data": {
      "application/vnd.jupyter.widget-view+json": {
       "model_id": "5e8c748baa4042049f763d4aac68913e",
       "version_major": 2,
       "version_minor": 0
      },
      "text/plain": [
       "  0%|          | 0/119 [00:00<?, ?it/s]"
      ]
     },
     "metadata": {},
     "output_type": "display_data"
    },
    {
     "data": {
      "application/vnd.jupyter.widget-view+json": {
       "model_id": "e2c78e7e2f5a4ae5b79d2e74b853e394",
       "version_major": 2,
       "version_minor": 0
      },
      "text/plain": [
       "Batches:   0%|          | 0/4 [00:00<?, ?it/s]"
      ]
     },
     "metadata": {},
     "output_type": "display_data"
    },
    {
     "data": {
      "application/vnd.jupyter.widget-view+json": {
       "model_id": "05ba5b8059004c7fbcd0042d11d93273",
       "version_major": 2,
       "version_minor": 0
      },
      "text/plain": [
       "Batches:   0%|          | 0/4 [00:00<?, ?it/s]"
      ]
     },
     "metadata": {},
     "output_type": "display_data"
    },
    {
     "name": "stdout",
     "output_type": "stream",
     "text": [
      "Validation for lr 0.001 epoch 6: \n",
      "{'exact_match': 1.680672268907563, 'f1': 9.160662439144108}\n",
      "18.862472474575043\n"
     ]
    },
    {
     "data": {
      "text/html": [],
      "text/plain": [
       "<IPython.core.display.HTML object>"
      ]
     },
     "metadata": {},
     "output_type": "display_data"
    },
    {
     "data": {
      "application/vnd.jupyter.widget-view+json": {
       "model_id": "b4ff3496b8f14d3d842b7415465d808e",
       "version_major": 2,
       "version_minor": 0
      },
      "text/plain": [
       "  0%|          | 0/119 [00:00<?, ?it/s]"
      ]
     },
     "metadata": {},
     "output_type": "display_data"
    },
    {
     "data": {
      "application/vnd.jupyter.widget-view+json": {
       "model_id": "003984d2eacd433982f9389b117d3e6a",
       "version_major": 2,
       "version_minor": 0
      },
      "text/plain": [
       "Batches:   0%|          | 0/4 [00:00<?, ?it/s]"
      ]
     },
     "metadata": {},
     "output_type": "display_data"
    },
    {
     "data": {
      "application/vnd.jupyter.widget-view+json": {
       "model_id": "03db27945faf460c958efcd1d92634cf",
       "version_major": 2,
       "version_minor": 0
      },
      "text/plain": [
       "Batches:   0%|          | 0/4 [00:00<?, ?it/s]"
      ]
     },
     "metadata": {},
     "output_type": "display_data"
    },
    {
     "name": "stdout",
     "output_type": "stream",
     "text": [
      "Test for lr 0.001 epoch 6: \n",
      "{'exact_match': 0.0, 'f1': 3.674700649490566}\n",
      "19.918397068977356\n",
      "Training with lr=0.001 and epoch=7\n"
     ]
    },
    {
     "data": {
      "text/html": [
       "\n",
       "    <div>\n",
       "      \n",
       "      <progress value='69' max='69' style='width:300px; height:20px; vertical-align: middle;'></progress>\n",
       "      [69/69 00:31, Epoch 1/1]\n",
       "    </div>\n",
       "    <table border=\"1\" class=\"dataframe\">\n",
       "  <thead>\n",
       " <tr style=\"text-align: left;\">\n",
       "      <th>Step</th>\n",
       "      <th>Training Loss</th>\n",
       "    </tr>\n",
       "  </thead>\n",
       "  <tbody>\n",
       "  </tbody>\n",
       "</table><p>"
      ],
      "text/plain": [
       "<IPython.core.display.HTML object>"
      ]
     },
     "metadata": {},
     "output_type": "display_data"
    },
    {
     "data": {
      "text/html": [],
      "text/plain": [
       "<IPython.core.display.HTML object>"
      ]
     },
     "metadata": {},
     "output_type": "display_data"
    },
    {
     "data": {
      "application/vnd.jupyter.widget-view+json": {
       "model_id": "7cc128de7eec477a9c23ab06c83685a0",
       "version_major": 2,
       "version_minor": 0
      },
      "text/plain": [
       "  0%|          | 0/119 [00:00<?, ?it/s]"
      ]
     },
     "metadata": {},
     "output_type": "display_data"
    },
    {
     "data": {
      "application/vnd.jupyter.widget-view+json": {
       "model_id": "eee0a06880354fb1ac9659d7921a7769",
       "version_major": 2,
       "version_minor": 0
      },
      "text/plain": [
       "Batches:   0%|          | 0/4 [00:00<?, ?it/s]"
      ]
     },
     "metadata": {},
     "output_type": "display_data"
    },
    {
     "data": {
      "application/vnd.jupyter.widget-view+json": {
       "model_id": "5828cdeb64ae4162afcf4f8e85a36505",
       "version_major": 2,
       "version_minor": 0
      },
      "text/plain": [
       "Batches:   0%|          | 0/4 [00:00<?, ?it/s]"
      ]
     },
     "metadata": {},
     "output_type": "display_data"
    },
    {
     "name": "stdout",
     "output_type": "stream",
     "text": [
      "Validation for lr 0.001 epoch 7: \n",
      "{'exact_match': 0.0, 'f1': 4.570014590915535}\n",
      "17.53423511981964\n"
     ]
    },
    {
     "data": {
      "text/html": [],
      "text/plain": [
       "<IPython.core.display.HTML object>"
      ]
     },
     "metadata": {},
     "output_type": "display_data"
    },
    {
     "data": {
      "application/vnd.jupyter.widget-view+json": {
       "model_id": "5dda54911b1148618f8d1dd1c8b1b5e9",
       "version_major": 2,
       "version_minor": 0
      },
      "text/plain": [
       "  0%|          | 0/119 [00:00<?, ?it/s]"
      ]
     },
     "metadata": {},
     "output_type": "display_data"
    },
    {
     "data": {
      "application/vnd.jupyter.widget-view+json": {
       "model_id": "0e77e550411d48eb992a3cf2c55e35ba",
       "version_major": 2,
       "version_minor": 0
      },
      "text/plain": [
       "Batches:   0%|          | 0/4 [00:00<?, ?it/s]"
      ]
     },
     "metadata": {},
     "output_type": "display_data"
    },
    {
     "data": {
      "application/vnd.jupyter.widget-view+json": {
       "model_id": "4abef1df144e40e3b92eaa97f56331b0",
       "version_major": 2,
       "version_minor": 0
      },
      "text/plain": [
       "Batches:   0%|          | 0/4 [00:00<?, ?it/s]"
      ]
     },
     "metadata": {},
     "output_type": "display_data"
    },
    {
     "name": "stdout",
     "output_type": "stream",
     "text": [
      "Test for lr 0.001 epoch 7: \n",
      "{'exact_match': 0.8403361344537815, 'f1': 7.2204641092041255}\n",
      "17.96594262123108\n",
      "Training with lr=0.001 and epoch=8\n"
     ]
    },
    {
     "data": {
      "text/html": [
       "\n",
       "    <div>\n",
       "      \n",
       "      <progress value='69' max='69' style='width:300px; height:20px; vertical-align: middle;'></progress>\n",
       "      [69/69 00:31, Epoch 1/1]\n",
       "    </div>\n",
       "    <table border=\"1\" class=\"dataframe\">\n",
       "  <thead>\n",
       " <tr style=\"text-align: left;\">\n",
       "      <th>Step</th>\n",
       "      <th>Training Loss</th>\n",
       "    </tr>\n",
       "  </thead>\n",
       "  <tbody>\n",
       "  </tbody>\n",
       "</table><p>"
      ],
      "text/plain": [
       "<IPython.core.display.HTML object>"
      ]
     },
     "metadata": {},
     "output_type": "display_data"
    },
    {
     "data": {
      "text/html": [],
      "text/plain": [
       "<IPython.core.display.HTML object>"
      ]
     },
     "metadata": {},
     "output_type": "display_data"
    },
    {
     "data": {
      "application/vnd.jupyter.widget-view+json": {
       "model_id": "154eba5ceb4e479f8f5c92c69f03b42b",
       "version_major": 2,
       "version_minor": 0
      },
      "text/plain": [
       "  0%|          | 0/119 [00:00<?, ?it/s]"
      ]
     },
     "metadata": {},
     "output_type": "display_data"
    },
    {
     "data": {
      "application/vnd.jupyter.widget-view+json": {
       "model_id": "096c466a420943c7a855ee8bd5c99cad",
       "version_major": 2,
       "version_minor": 0
      },
      "text/plain": [
       "Batches:   0%|          | 0/4 [00:00<?, ?it/s]"
      ]
     },
     "metadata": {},
     "output_type": "display_data"
    },
    {
     "data": {
      "application/vnd.jupyter.widget-view+json": {
       "model_id": "c5e16f3b96a94688834586f1342b1c28",
       "version_major": 2,
       "version_minor": 0
      },
      "text/plain": [
       "Batches:   0%|          | 0/4 [00:00<?, ?it/s]"
      ]
     },
     "metadata": {},
     "output_type": "display_data"
    },
    {
     "name": "stdout",
     "output_type": "stream",
     "text": [
      "Validation for lr 0.001 epoch 8: \n",
      "{'exact_match': 0.8403361344537815, 'f1': 5.1953849995450545}\n",
      "17.936895787715912\n"
     ]
    },
    {
     "data": {
      "text/html": [],
      "text/plain": [
       "<IPython.core.display.HTML object>"
      ]
     },
     "metadata": {},
     "output_type": "display_data"
    },
    {
     "data": {
      "application/vnd.jupyter.widget-view+json": {
       "model_id": "cd32b61462104dccb52387340f6585e0",
       "version_major": 2,
       "version_minor": 0
      },
      "text/plain": [
       "  0%|          | 0/119 [00:00<?, ?it/s]"
      ]
     },
     "metadata": {},
     "output_type": "display_data"
    },
    {
     "data": {
      "application/vnd.jupyter.widget-view+json": {
       "model_id": "e9f13d83d6ea48428af434b2c85a9db3",
       "version_major": 2,
       "version_minor": 0
      },
      "text/plain": [
       "Batches:   0%|          | 0/4 [00:00<?, ?it/s]"
      ]
     },
     "metadata": {},
     "output_type": "display_data"
    },
    {
     "data": {
      "application/vnd.jupyter.widget-view+json": {
       "model_id": "d23762d51e7442ba92bdd3ad527538d6",
       "version_major": 2,
       "version_minor": 0
      },
      "text/plain": [
       "Batches:   0%|          | 0/4 [00:00<?, ?it/s]"
      ]
     },
     "metadata": {},
     "output_type": "display_data"
    },
    {
     "name": "stdout",
     "output_type": "stream",
     "text": [
      "Test for lr 0.001 epoch 8: \n",
      "{'exact_match': 0.0, 'f1': 5.337394606965593}\n",
      "18.171033263206482\n",
      "Training with lr=0.001 and epoch=9\n"
     ]
    },
    {
     "data": {
      "text/html": [
       "\n",
       "    <div>\n",
       "      \n",
       "      <progress value='69' max='69' style='width:300px; height:20px; vertical-align: middle;'></progress>\n",
       "      [69/69 00:31, Epoch 1/1]\n",
       "    </div>\n",
       "    <table border=\"1\" class=\"dataframe\">\n",
       "  <thead>\n",
       " <tr style=\"text-align: left;\">\n",
       "      <th>Step</th>\n",
       "      <th>Training Loss</th>\n",
       "    </tr>\n",
       "  </thead>\n",
       "  <tbody>\n",
       "  </tbody>\n",
       "</table><p>"
      ],
      "text/plain": [
       "<IPython.core.display.HTML object>"
      ]
     },
     "metadata": {},
     "output_type": "display_data"
    },
    {
     "data": {
      "text/html": [],
      "text/plain": [
       "<IPython.core.display.HTML object>"
      ]
     },
     "metadata": {},
     "output_type": "display_data"
    },
    {
     "data": {
      "application/vnd.jupyter.widget-view+json": {
       "model_id": "8b0f1718576f40c9b6692022f7c96bd2",
       "version_major": 2,
       "version_minor": 0
      },
      "text/plain": [
       "  0%|          | 0/119 [00:00<?, ?it/s]"
      ]
     },
     "metadata": {},
     "output_type": "display_data"
    },
    {
     "data": {
      "application/vnd.jupyter.widget-view+json": {
       "model_id": "d350f237867a405fa79d631ac71434d6",
       "version_major": 2,
       "version_minor": 0
      },
      "text/plain": [
       "Batches:   0%|          | 0/4 [00:00<?, ?it/s]"
      ]
     },
     "metadata": {},
     "output_type": "display_data"
    },
    {
     "data": {
      "application/vnd.jupyter.widget-view+json": {
       "model_id": "607fa214018846498469525db28fbab3",
       "version_major": 2,
       "version_minor": 0
      },
      "text/plain": [
       "Batches:   0%|          | 0/4 [00:00<?, ?it/s]"
      ]
     },
     "metadata": {},
     "output_type": "display_data"
    },
    {
     "name": "stdout",
     "output_type": "stream",
     "text": [
      "Validation for lr 0.001 epoch 9: \n",
      "{'exact_match': 0.8403361344537815, 'f1': 5.3458503551637335}\n",
      "17.836391925811768\n"
     ]
    },
    {
     "data": {
      "text/html": [],
      "text/plain": [
       "<IPython.core.display.HTML object>"
      ]
     },
     "metadata": {},
     "output_type": "display_data"
    },
    {
     "data": {
      "application/vnd.jupyter.widget-view+json": {
       "model_id": "0040d03f7eca4b45a8d1b5dd684008ca",
       "version_major": 2,
       "version_minor": 0
      },
      "text/plain": [
       "  0%|          | 0/119 [00:00<?, ?it/s]"
      ]
     },
     "metadata": {},
     "output_type": "display_data"
    },
    {
     "data": {
      "application/vnd.jupyter.widget-view+json": {
       "model_id": "2f4cb1c0aa1b4e7485cf4183ba80e275",
       "version_major": 2,
       "version_minor": 0
      },
      "text/plain": [
       "Batches:   0%|          | 0/4 [00:00<?, ?it/s]"
      ]
     },
     "metadata": {},
     "output_type": "display_data"
    },
    {
     "data": {
      "application/vnd.jupyter.widget-view+json": {
       "model_id": "1d701fe984b6433d8e3083f5971bcc0f",
       "version_major": 2,
       "version_minor": 0
      },
      "text/plain": [
       "Batches:   0%|          | 0/4 [00:00<?, ?it/s]"
      ]
     },
     "metadata": {},
     "output_type": "display_data"
    },
    {
     "name": "stdout",
     "output_type": "stream",
     "text": [
      "Test for lr 0.001 epoch 9: \n",
      "{'exact_match': 0.0, 'f1': 6.031997091288354}\n",
      "18.74346137046814\n",
      "Training with lr=0.001 and epoch=10\n"
     ]
    },
    {
     "data": {
      "text/html": [
       "\n",
       "    <div>\n",
       "      \n",
       "      <progress value='69' max='69' style='width:300px; height:20px; vertical-align: middle;'></progress>\n",
       "      [69/69 00:31, Epoch 1/1]\n",
       "    </div>\n",
       "    <table border=\"1\" class=\"dataframe\">\n",
       "  <thead>\n",
       " <tr style=\"text-align: left;\">\n",
       "      <th>Step</th>\n",
       "      <th>Training Loss</th>\n",
       "    </tr>\n",
       "  </thead>\n",
       "  <tbody>\n",
       "  </tbody>\n",
       "</table><p>"
      ],
      "text/plain": [
       "<IPython.core.display.HTML object>"
      ]
     },
     "metadata": {},
     "output_type": "display_data"
    },
    {
     "data": {
      "text/html": [],
      "text/plain": [
       "<IPython.core.display.HTML object>"
      ]
     },
     "metadata": {},
     "output_type": "display_data"
    },
    {
     "data": {
      "application/vnd.jupyter.widget-view+json": {
       "model_id": "cfb105d386bb4d3184c4fc06af0eae4c",
       "version_major": 2,
       "version_minor": 0
      },
      "text/plain": [
       "  0%|          | 0/119 [00:00<?, ?it/s]"
      ]
     },
     "metadata": {},
     "output_type": "display_data"
    },
    {
     "data": {
      "application/vnd.jupyter.widget-view+json": {
       "model_id": "17bbba9eb32547ec980831962df0703c",
       "version_major": 2,
       "version_minor": 0
      },
      "text/plain": [
       "Batches:   0%|          | 0/4 [00:00<?, ?it/s]"
      ]
     },
     "metadata": {},
     "output_type": "display_data"
    },
    {
     "data": {
      "application/vnd.jupyter.widget-view+json": {
       "model_id": "6c9fc8a162d242d2b79cc82b2c63a634",
       "version_major": 2,
       "version_minor": 0
      },
      "text/plain": [
       "Batches:   0%|          | 0/4 [00:00<?, ?it/s]"
      ]
     },
     "metadata": {},
     "output_type": "display_data"
    },
    {
     "name": "stdout",
     "output_type": "stream",
     "text": [
      "Validation for lr 0.001 epoch 10: \n",
      "{'exact_match': 0.0, 'f1': 4.0144654064184735}\n",
      "17.283275723457336\n"
     ]
    },
    {
     "data": {
      "text/html": [],
      "text/plain": [
       "<IPython.core.display.HTML object>"
      ]
     },
     "metadata": {},
     "output_type": "display_data"
    },
    {
     "data": {
      "application/vnd.jupyter.widget-view+json": {
       "model_id": "574b6210314740d08834c5dacccda295",
       "version_major": 2,
       "version_minor": 0
      },
      "text/plain": [
       "  0%|          | 0/119 [00:00<?, ?it/s]"
      ]
     },
     "metadata": {},
     "output_type": "display_data"
    },
    {
     "data": {
      "application/vnd.jupyter.widget-view+json": {
       "model_id": "b616327a2def4f34b393ac4720d87f17",
       "version_major": 2,
       "version_minor": 0
      },
      "text/plain": [
       "Batches:   0%|          | 0/4 [00:00<?, ?it/s]"
      ]
     },
     "metadata": {},
     "output_type": "display_data"
    },
    {
     "data": {
      "application/vnd.jupyter.widget-view+json": {
       "model_id": "13325e9efa524ccc96ea5c597542565b",
       "version_major": 2,
       "version_minor": 0
      },
      "text/plain": [
       "Batches:   0%|          | 0/4 [00:00<?, ?it/s]"
      ]
     },
     "metadata": {},
     "output_type": "display_data"
    },
    {
     "name": "stdout",
     "output_type": "stream",
     "text": [
      "Test for lr 0.001 epoch 10: \n",
      "{'exact_match': 0.0, 'f1': 5.132498661129929}\n",
      "18.72556209564209\n",
      "Training with lr=0.001 and epoch=11\n"
     ]
    },
    {
     "data": {
      "text/html": [
       "\n",
       "    <div>\n",
       "      \n",
       "      <progress value='69' max='69' style='width:300px; height:20px; vertical-align: middle;'></progress>\n",
       "      [69/69 00:38, Epoch 1/1]\n",
       "    </div>\n",
       "    <table border=\"1\" class=\"dataframe\">\n",
       "  <thead>\n",
       " <tr style=\"text-align: left;\">\n",
       "      <th>Step</th>\n",
       "      <th>Training Loss</th>\n",
       "    </tr>\n",
       "  </thead>\n",
       "  <tbody>\n",
       "  </tbody>\n",
       "</table><p>"
      ],
      "text/plain": [
       "<IPython.core.display.HTML object>"
      ]
     },
     "metadata": {},
     "output_type": "display_data"
    },
    {
     "data": {
      "text/html": [],
      "text/plain": [
       "<IPython.core.display.HTML object>"
      ]
     },
     "metadata": {},
     "output_type": "display_data"
    },
    {
     "data": {
      "application/vnd.jupyter.widget-view+json": {
       "model_id": "6defc89dad104c2dba60e0c587839797",
       "version_major": 2,
       "version_minor": 0
      },
      "text/plain": [
       "  0%|          | 0/119 [00:00<?, ?it/s]"
      ]
     },
     "metadata": {},
     "output_type": "display_data"
    },
    {
     "data": {
      "application/vnd.jupyter.widget-view+json": {
       "model_id": "703aae67b7c445e4ab53374b01e1ad7a",
       "version_major": 2,
       "version_minor": 0
      },
      "text/plain": [
       "Batches:   0%|          | 0/4 [00:00<?, ?it/s]"
      ]
     },
     "metadata": {},
     "output_type": "display_data"
    },
    {
     "data": {
      "application/vnd.jupyter.widget-view+json": {
       "model_id": "57a4d64d96374e718a42aa1a63d72934",
       "version_major": 2,
       "version_minor": 0
      },
      "text/plain": [
       "Batches:   0%|          | 0/4 [00:00<?, ?it/s]"
      ]
     },
     "metadata": {},
     "output_type": "display_data"
    },
    {
     "name": "stdout",
     "output_type": "stream",
     "text": [
      "Validation for lr 0.001 epoch 11: \n",
      "{'exact_match': 1.680672268907563, 'f1': 6.175142002502359}\n",
      "17.628663778305054\n"
     ]
    },
    {
     "data": {
      "text/html": [],
      "text/plain": [
       "<IPython.core.display.HTML object>"
      ]
     },
     "metadata": {},
     "output_type": "display_data"
    },
    {
     "data": {
      "application/vnd.jupyter.widget-view+json": {
       "model_id": "7b58e364df0c48bfbd333a95d014dfc9",
       "version_major": 2,
       "version_minor": 0
      },
      "text/plain": [
       "  0%|          | 0/119 [00:00<?, ?it/s]"
      ]
     },
     "metadata": {},
     "output_type": "display_data"
    },
    {
     "data": {
      "application/vnd.jupyter.widget-view+json": {
       "model_id": "3c610048474e4844978ee3bc6bde9c8e",
       "version_major": 2,
       "version_minor": 0
      },
      "text/plain": [
       "Batches:   0%|          | 0/4 [00:00<?, ?it/s]"
      ]
     },
     "metadata": {},
     "output_type": "display_data"
    },
    {
     "data": {
      "application/vnd.jupyter.widget-view+json": {
       "model_id": "1fec9ff52f5b4109bd750268cfeb2c28",
       "version_major": 2,
       "version_minor": 0
      },
      "text/plain": [
       "Batches:   0%|          | 0/4 [00:00<?, ?it/s]"
      ]
     },
     "metadata": {},
     "output_type": "display_data"
    },
    {
     "name": "stdout",
     "output_type": "stream",
     "text": [
      "Test for lr 0.001 epoch 11: \n",
      "{'exact_match': 0.0, 'f1': 4.584038712312986}\n",
      "17.879916727542877\n",
      "Training with lr=0.001 and epoch=12\n"
     ]
    },
    {
     "data": {
      "text/html": [
       "\n",
       "    <div>\n",
       "      \n",
       "      <progress value='69' max='69' style='width:300px; height:20px; vertical-align: middle;'></progress>\n",
       "      [69/69 00:34, Epoch 1/1]\n",
       "    </div>\n",
       "    <table border=\"1\" class=\"dataframe\">\n",
       "  <thead>\n",
       " <tr style=\"text-align: left;\">\n",
       "      <th>Step</th>\n",
       "      <th>Training Loss</th>\n",
       "    </tr>\n",
       "  </thead>\n",
       "  <tbody>\n",
       "  </tbody>\n",
       "</table><p>"
      ],
      "text/plain": [
       "<IPython.core.display.HTML object>"
      ]
     },
     "metadata": {},
     "output_type": "display_data"
    },
    {
     "data": {
      "text/html": [],
      "text/plain": [
       "<IPython.core.display.HTML object>"
      ]
     },
     "metadata": {},
     "output_type": "display_data"
    },
    {
     "data": {
      "application/vnd.jupyter.widget-view+json": {
       "model_id": "424efe414dfa41e6890fc0f4aa4b2504",
       "version_major": 2,
       "version_minor": 0
      },
      "text/plain": [
       "  0%|          | 0/119 [00:00<?, ?it/s]"
      ]
     },
     "metadata": {},
     "output_type": "display_data"
    },
    {
     "data": {
      "application/vnd.jupyter.widget-view+json": {
       "model_id": "8a5490b157fc4ac9871ff5d24d1714de",
       "version_major": 2,
       "version_minor": 0
      },
      "text/plain": [
       "Batches:   0%|          | 0/4 [00:00<?, ?it/s]"
      ]
     },
     "metadata": {},
     "output_type": "display_data"
    },
    {
     "data": {
      "application/vnd.jupyter.widget-view+json": {
       "model_id": "c956baaba1054b7a824103da9d752ba1",
       "version_major": 2,
       "version_minor": 0
      },
      "text/plain": [
       "Batches:   0%|          | 0/4 [00:00<?, ?it/s]"
      ]
     },
     "metadata": {},
     "output_type": "display_data"
    },
    {
     "name": "stdout",
     "output_type": "stream",
     "text": [
      "Validation for lr 0.001 epoch 12: \n",
      "{'exact_match': 1.680672268907563, 'f1': 5.066067412945591}\n",
      "17.677058279514313\n"
     ]
    },
    {
     "data": {
      "text/html": [],
      "text/plain": [
       "<IPython.core.display.HTML object>"
      ]
     },
     "metadata": {},
     "output_type": "display_data"
    },
    {
     "data": {
      "application/vnd.jupyter.widget-view+json": {
       "model_id": "94c30ca965494bad837d05d52fb54dc7",
       "version_major": 2,
       "version_minor": 0
      },
      "text/plain": [
       "  0%|          | 0/119 [00:00<?, ?it/s]"
      ]
     },
     "metadata": {},
     "output_type": "display_data"
    },
    {
     "data": {
      "application/vnd.jupyter.widget-view+json": {
       "model_id": "886d87fb815c42f6a743505ccf79bd7a",
       "version_major": 2,
       "version_minor": 0
      },
      "text/plain": [
       "Batches:   0%|          | 0/4 [00:00<?, ?it/s]"
      ]
     },
     "metadata": {},
     "output_type": "display_data"
    },
    {
     "data": {
      "application/vnd.jupyter.widget-view+json": {
       "model_id": "9cc45d59ef8c4dc8bc12fc92123733bc",
       "version_major": 2,
       "version_minor": 0
      },
      "text/plain": [
       "Batches:   0%|          | 0/4 [00:00<?, ?it/s]"
      ]
     },
     "metadata": {},
     "output_type": "display_data"
    },
    {
     "name": "stdout",
     "output_type": "stream",
     "text": [
      "Test for lr 0.001 epoch 12: \n",
      "{'exact_match': 0.0, 'f1': 3.873359673890413}\n",
      "18.03353577852249\n",
      "Training with lr=0.001 and epoch=13\n"
     ]
    },
    {
     "data": {
      "text/html": [
       "\n",
       "    <div>\n",
       "      \n",
       "      <progress value='69' max='69' style='width:300px; height:20px; vertical-align: middle;'></progress>\n",
       "      [69/69 00:31, Epoch 1/1]\n",
       "    </div>\n",
       "    <table border=\"1\" class=\"dataframe\">\n",
       "  <thead>\n",
       " <tr style=\"text-align: left;\">\n",
       "      <th>Step</th>\n",
       "      <th>Training Loss</th>\n",
       "    </tr>\n",
       "  </thead>\n",
       "  <tbody>\n",
       "  </tbody>\n",
       "</table><p>"
      ],
      "text/plain": [
       "<IPython.core.display.HTML object>"
      ]
     },
     "metadata": {},
     "output_type": "display_data"
    },
    {
     "data": {
      "text/html": [],
      "text/plain": [
       "<IPython.core.display.HTML object>"
      ]
     },
     "metadata": {},
     "output_type": "display_data"
    },
    {
     "data": {
      "application/vnd.jupyter.widget-view+json": {
       "model_id": "f63233abc7f9424e8859eeef799b196e",
       "version_major": 2,
       "version_minor": 0
      },
      "text/plain": [
       "  0%|          | 0/119 [00:00<?, ?it/s]"
      ]
     },
     "metadata": {},
     "output_type": "display_data"
    },
    {
     "data": {
      "application/vnd.jupyter.widget-view+json": {
       "model_id": "8a687ebcfec742efb1f23daea2d5a589",
       "version_major": 2,
       "version_minor": 0
      },
      "text/plain": [
       "Batches:   0%|          | 0/4 [00:00<?, ?it/s]"
      ]
     },
     "metadata": {},
     "output_type": "display_data"
    },
    {
     "data": {
      "application/vnd.jupyter.widget-view+json": {
       "model_id": "69794957ccde4ea1a80543984ba4023a",
       "version_major": 2,
       "version_minor": 0
      },
      "text/plain": [
       "Batches:   0%|          | 0/4 [00:00<?, ?it/s]"
      ]
     },
     "metadata": {},
     "output_type": "display_data"
    },
    {
     "name": "stdout",
     "output_type": "stream",
     "text": [
      "Validation for lr 0.001 epoch 13: \n",
      "{'exact_match': 0.0, 'f1': 5.271279360503284}\n",
      "17.447932064533234\n"
     ]
    },
    {
     "data": {
      "text/html": [],
      "text/plain": [
       "<IPython.core.display.HTML object>"
      ]
     },
     "metadata": {},
     "output_type": "display_data"
    },
    {
     "data": {
      "application/vnd.jupyter.widget-view+json": {
       "model_id": "ce711a64d73c4e33ab5f06993e40b44c",
       "version_major": 2,
       "version_minor": 0
      },
      "text/plain": [
       "  0%|          | 0/119 [00:00<?, ?it/s]"
      ]
     },
     "metadata": {},
     "output_type": "display_data"
    },
    {
     "data": {
      "application/vnd.jupyter.widget-view+json": {
       "model_id": "470489f77ad442cbbb66a529cd7ca304",
       "version_major": 2,
       "version_minor": 0
      },
      "text/plain": [
       "Batches:   0%|          | 0/4 [00:00<?, ?it/s]"
      ]
     },
     "metadata": {},
     "output_type": "display_data"
    },
    {
     "data": {
      "application/vnd.jupyter.widget-view+json": {
       "model_id": "58e71df0a143440997e86d99a2f71c27",
       "version_major": 2,
       "version_minor": 0
      },
      "text/plain": [
       "Batches:   0%|          | 0/4 [00:00<?, ?it/s]"
      ]
     },
     "metadata": {},
     "output_type": "display_data"
    },
    {
     "name": "stdout",
     "output_type": "stream",
     "text": [
      "Test for lr 0.001 epoch 13: \n",
      "{'exact_match': 0.0, 'f1': 4.08221327746785}\n",
      "18.293723464012146\n",
      "Training with lr=0.001 and epoch=14\n"
     ]
    },
    {
     "data": {
      "text/html": [
       "\n",
       "    <div>\n",
       "      \n",
       "      <progress value='69' max='69' style='width:300px; height:20px; vertical-align: middle;'></progress>\n",
       "      [69/69 00:31, Epoch 1/1]\n",
       "    </div>\n",
       "    <table border=\"1\" class=\"dataframe\">\n",
       "  <thead>\n",
       " <tr style=\"text-align: left;\">\n",
       "      <th>Step</th>\n",
       "      <th>Training Loss</th>\n",
       "    </tr>\n",
       "  </thead>\n",
       "  <tbody>\n",
       "  </tbody>\n",
       "</table><p>"
      ],
      "text/plain": [
       "<IPython.core.display.HTML object>"
      ]
     },
     "metadata": {},
     "output_type": "display_data"
    },
    {
     "data": {
      "text/html": [],
      "text/plain": [
       "<IPython.core.display.HTML object>"
      ]
     },
     "metadata": {},
     "output_type": "display_data"
    },
    {
     "data": {
      "application/vnd.jupyter.widget-view+json": {
       "model_id": "0940903b1bb24c7b9528069da27e5227",
       "version_major": 2,
       "version_minor": 0
      },
      "text/plain": [
       "  0%|          | 0/119 [00:00<?, ?it/s]"
      ]
     },
     "metadata": {},
     "output_type": "display_data"
    },
    {
     "data": {
      "application/vnd.jupyter.widget-view+json": {
       "model_id": "723de4637e9a44cf8b5a109b9e9d0362",
       "version_major": 2,
       "version_minor": 0
      },
      "text/plain": [
       "Batches:   0%|          | 0/4 [00:00<?, ?it/s]"
      ]
     },
     "metadata": {},
     "output_type": "display_data"
    },
    {
     "data": {
      "application/vnd.jupyter.widget-view+json": {
       "model_id": "457f0a81c3364ef0911fc9c2dccdb29b",
       "version_major": 2,
       "version_minor": 0
      },
      "text/plain": [
       "Batches:   0%|          | 0/4 [00:00<?, ?it/s]"
      ]
     },
     "metadata": {},
     "output_type": "display_data"
    },
    {
     "name": "stdout",
     "output_type": "stream",
     "text": [
      "Validation for lr 0.001 epoch 14: \n",
      "{'exact_match': 0.0, 'f1': 2.744695136661211}\n",
      "18.132100999355316\n"
     ]
    },
    {
     "data": {
      "text/html": [],
      "text/plain": [
       "<IPython.core.display.HTML object>"
      ]
     },
     "metadata": {},
     "output_type": "display_data"
    },
    {
     "data": {
      "application/vnd.jupyter.widget-view+json": {
       "model_id": "8e89af348df84c2aaa1731fd4f705341",
       "version_major": 2,
       "version_minor": 0
      },
      "text/plain": [
       "  0%|          | 0/119 [00:00<?, ?it/s]"
      ]
     },
     "metadata": {},
     "output_type": "display_data"
    },
    {
     "data": {
      "application/vnd.jupyter.widget-view+json": {
       "model_id": "356f8c5e23414d218ac709381acee96b",
       "version_major": 2,
       "version_minor": 0
      },
      "text/plain": [
       "Batches:   0%|          | 0/4 [00:00<?, ?it/s]"
      ]
     },
     "metadata": {},
     "output_type": "display_data"
    },
    {
     "data": {
      "application/vnd.jupyter.widget-view+json": {
       "model_id": "dd7ed475b840467a83d441ad3d69e10e",
       "version_major": 2,
       "version_minor": 0
      },
      "text/plain": [
       "Batches:   0%|          | 0/4 [00:00<?, ?it/s]"
      ]
     },
     "metadata": {},
     "output_type": "display_data"
    },
    {
     "name": "stdout",
     "output_type": "stream",
     "text": [
      "Test for lr 0.001 epoch 14: \n",
      "{'exact_match': 0.0, 'f1': 4.323920527578462}\n",
      "17.91611760854721\n",
      "Training with lr=0.001 and epoch=15\n"
     ]
    },
    {
     "data": {
      "text/html": [
       "\n",
       "    <div>\n",
       "      \n",
       "      <progress value='69' max='69' style='width:300px; height:20px; vertical-align: middle;'></progress>\n",
       "      [69/69 00:31, Epoch 1/1]\n",
       "    </div>\n",
       "    <table border=\"1\" class=\"dataframe\">\n",
       "  <thead>\n",
       " <tr style=\"text-align: left;\">\n",
       "      <th>Step</th>\n",
       "      <th>Training Loss</th>\n",
       "    </tr>\n",
       "  </thead>\n",
       "  <tbody>\n",
       "  </tbody>\n",
       "</table><p>"
      ],
      "text/plain": [
       "<IPython.core.display.HTML object>"
      ]
     },
     "metadata": {},
     "output_type": "display_data"
    },
    {
     "data": {
      "text/html": [],
      "text/plain": [
       "<IPython.core.display.HTML object>"
      ]
     },
     "metadata": {},
     "output_type": "display_data"
    },
    {
     "data": {
      "application/vnd.jupyter.widget-view+json": {
       "model_id": "f19218cf12b045f59128c98e926a12df",
       "version_major": 2,
       "version_minor": 0
      },
      "text/plain": [
       "  0%|          | 0/119 [00:00<?, ?it/s]"
      ]
     },
     "metadata": {},
     "output_type": "display_data"
    },
    {
     "data": {
      "application/vnd.jupyter.widget-view+json": {
       "model_id": "503af820c1c14dcd90625a6643da318d",
       "version_major": 2,
       "version_minor": 0
      },
      "text/plain": [
       "Batches:   0%|          | 0/4 [00:00<?, ?it/s]"
      ]
     },
     "metadata": {},
     "output_type": "display_data"
    },
    {
     "data": {
      "application/vnd.jupyter.widget-view+json": {
       "model_id": "b23c77625a1d4be0a77776c31911bae0",
       "version_major": 2,
       "version_minor": 0
      },
      "text/plain": [
       "Batches:   0%|          | 0/4 [00:00<?, ?it/s]"
      ]
     },
     "metadata": {},
     "output_type": "display_data"
    },
    {
     "name": "stdout",
     "output_type": "stream",
     "text": [
      "Validation for lr 0.001 epoch 15: \n",
      "{'exact_match': 0.8403361344537815, 'f1': 4.149954099286774}\n",
      "21.53021991252899\n"
     ]
    },
    {
     "data": {
      "text/html": [],
      "text/plain": [
       "<IPython.core.display.HTML object>"
      ]
     },
     "metadata": {},
     "output_type": "display_data"
    },
    {
     "data": {
      "application/vnd.jupyter.widget-view+json": {
       "model_id": "06fbfb8abf894f78902bc8bd240fb7e8",
       "version_major": 2,
       "version_minor": 0
      },
      "text/plain": [
       "  0%|          | 0/119 [00:00<?, ?it/s]"
      ]
     },
     "metadata": {},
     "output_type": "display_data"
    },
    {
     "data": {
      "application/vnd.jupyter.widget-view+json": {
       "model_id": "e5af6cee502e4364ba65e15e36d5ae33",
       "version_major": 2,
       "version_minor": 0
      },
      "text/plain": [
       "Batches:   0%|          | 0/4 [00:00<?, ?it/s]"
      ]
     },
     "metadata": {},
     "output_type": "display_data"
    },
    {
     "data": {
      "application/vnd.jupyter.widget-view+json": {
       "model_id": "16d63e062315418f9448ab8c9b399a5a",
       "version_major": 2,
       "version_minor": 0
      },
      "text/plain": [
       "Batches:   0%|          | 0/4 [00:00<?, ?it/s]"
      ]
     },
     "metadata": {},
     "output_type": "display_data"
    },
    {
     "name": "stdout",
     "output_type": "stream",
     "text": [
      "Test for lr 0.001 epoch 15: \n",
      "{'exact_match': 0.8403361344537815, 'f1': 4.1277994451369056}\n",
      "21.847976744174957\n",
      "Training with lr=0.001 and epoch=16\n"
     ]
    },
    {
     "data": {
      "text/html": [
       "\n",
       "    <div>\n",
       "      \n",
       "      <progress value='69' max='69' style='width:300px; height:20px; vertical-align: middle;'></progress>\n",
       "      [69/69 00:35, Epoch 1/1]\n",
       "    </div>\n",
       "    <table border=\"1\" class=\"dataframe\">\n",
       "  <thead>\n",
       " <tr style=\"text-align: left;\">\n",
       "      <th>Step</th>\n",
       "      <th>Training Loss</th>\n",
       "    </tr>\n",
       "  </thead>\n",
       "  <tbody>\n",
       "  </tbody>\n",
       "</table><p>"
      ],
      "text/plain": [
       "<IPython.core.display.HTML object>"
      ]
     },
     "metadata": {},
     "output_type": "display_data"
    },
    {
     "data": {
      "text/html": [],
      "text/plain": [
       "<IPython.core.display.HTML object>"
      ]
     },
     "metadata": {},
     "output_type": "display_data"
    },
    {
     "data": {
      "application/vnd.jupyter.widget-view+json": {
       "model_id": "0b26b38c74a64c518b8101d8d9a7ef9c",
       "version_major": 2,
       "version_minor": 0
      },
      "text/plain": [
       "  0%|          | 0/119 [00:00<?, ?it/s]"
      ]
     },
     "metadata": {},
     "output_type": "display_data"
    },
    {
     "data": {
      "application/vnd.jupyter.widget-view+json": {
       "model_id": "bee4b03dba4d4552b44838d3fd76250f",
       "version_major": 2,
       "version_minor": 0
      },
      "text/plain": [
       "Batches:   0%|          | 0/4 [00:00<?, ?it/s]"
      ]
     },
     "metadata": {},
     "output_type": "display_data"
    },
    {
     "data": {
      "application/vnd.jupyter.widget-view+json": {
       "model_id": "b0473b01cc48474a8a2c976588fc34fd",
       "version_major": 2,
       "version_minor": 0
      },
      "text/plain": [
       "Batches:   0%|          | 0/4 [00:00<?, ?it/s]"
      ]
     },
     "metadata": {},
     "output_type": "display_data"
    },
    {
     "name": "stdout",
     "output_type": "stream",
     "text": [
      "Validation for lr 0.001 epoch 16: \n",
      "{'exact_match': 0.0, 'f1': 5.732878673274646}\n",
      "18.55209320783615\n"
     ]
    },
    {
     "data": {
      "text/html": [],
      "text/plain": [
       "<IPython.core.display.HTML object>"
      ]
     },
     "metadata": {},
     "output_type": "display_data"
    },
    {
     "data": {
      "application/vnd.jupyter.widget-view+json": {
       "model_id": "2e06dcd600224f4cb426fe279a7ec307",
       "version_major": 2,
       "version_minor": 0
      },
      "text/plain": [
       "  0%|          | 0/119 [00:00<?, ?it/s]"
      ]
     },
     "metadata": {},
     "output_type": "display_data"
    },
    {
     "data": {
      "application/vnd.jupyter.widget-view+json": {
       "model_id": "6fd14b2d6de340ac95dee91915f2ca4d",
       "version_major": 2,
       "version_minor": 0
      },
      "text/plain": [
       "Batches:   0%|          | 0/4 [00:00<?, ?it/s]"
      ]
     },
     "metadata": {},
     "output_type": "display_data"
    },
    {
     "data": {
      "application/vnd.jupyter.widget-view+json": {
       "model_id": "bd31a27a397a4a93b7b8c3428104e0b7",
       "version_major": 2,
       "version_minor": 0
      },
      "text/plain": [
       "Batches:   0%|          | 0/4 [00:00<?, ?it/s]"
      ]
     },
     "metadata": {},
     "output_type": "display_data"
    },
    {
     "name": "stderr",
     "output_type": "stream",
     "text": [
      "Some weights of DistilBertForQuestionAnswering were not initialized from the model checkpoint at distilbert-base-multilingual-cased and are newly initialized: ['qa_outputs.bias', 'qa_outputs.weight']\n",
      "You should probably TRAIN this model on a down-stream task to be able to use it for predictions and inference.\n"
     ]
    },
    {
     "name": "stdout",
     "output_type": "stream",
     "text": [
      "Test for lr 0.001 epoch 16: \n",
      "{'exact_match': 0.0, 'f1': 6.1034027057904625}\n",
      "19.497065246105194\n",
      "Training with lr=1e-05 and epoch=1\n"
     ]
    },
    {
     "data": {
      "text/html": [
       "\n",
       "    <div>\n",
       "      \n",
       "      <progress value='69' max='69' style='width:300px; height:20px; vertical-align: middle;'></progress>\n",
       "      [69/69 00:33, Epoch 1/1]\n",
       "    </div>\n",
       "    <table border=\"1\" class=\"dataframe\">\n",
       "  <thead>\n",
       " <tr style=\"text-align: left;\">\n",
       "      <th>Step</th>\n",
       "      <th>Training Loss</th>\n",
       "    </tr>\n",
       "  </thead>\n",
       "  <tbody>\n",
       "  </tbody>\n",
       "</table><p>"
      ],
      "text/plain": [
       "<IPython.core.display.HTML object>"
      ]
     },
     "metadata": {},
     "output_type": "display_data"
    },
    {
     "data": {
      "text/html": [],
      "text/plain": [
       "<IPython.core.display.HTML object>"
      ]
     },
     "metadata": {},
     "output_type": "display_data"
    },
    {
     "data": {
      "application/vnd.jupyter.widget-view+json": {
       "model_id": "17eeb2c161824c50802ec7081f9e8a80",
       "version_major": 2,
       "version_minor": 0
      },
      "text/plain": [
       "  0%|          | 0/119 [00:00<?, ?it/s]"
      ]
     },
     "metadata": {},
     "output_type": "display_data"
    },
    {
     "data": {
      "application/vnd.jupyter.widget-view+json": {
       "model_id": "5506468c940c479c923675c98c0ea14c",
       "version_major": 2,
       "version_minor": 0
      },
      "text/plain": [
       "Batches:   0%|          | 0/4 [00:00<?, ?it/s]"
      ]
     },
     "metadata": {},
     "output_type": "display_data"
    },
    {
     "data": {
      "application/vnd.jupyter.widget-view+json": {
       "model_id": "ba3ff7220211469892f0a7130fad9049",
       "version_major": 2,
       "version_minor": 0
      },
      "text/plain": [
       "Batches:   0%|          | 0/4 [00:00<?, ?it/s]"
      ]
     },
     "metadata": {},
     "output_type": "display_data"
    },
    {
     "name": "stdout",
     "output_type": "stream",
     "text": [
      "Validation for lr 1e-05 epoch 1: \n",
      "{'exact_match': 2.5210084033613445, 'f1': 8.77521294372245}\n",
      "17.44687110185623\n"
     ]
    },
    {
     "data": {
      "text/html": [],
      "text/plain": [
       "<IPython.core.display.HTML object>"
      ]
     },
     "metadata": {},
     "output_type": "display_data"
    },
    {
     "data": {
      "application/vnd.jupyter.widget-view+json": {
       "model_id": "afa426f3ef4c4b6d9b30a1f88356fbaa",
       "version_major": 2,
       "version_minor": 0
      },
      "text/plain": [
       "  0%|          | 0/119 [00:00<?, ?it/s]"
      ]
     },
     "metadata": {},
     "output_type": "display_data"
    },
    {
     "data": {
      "application/vnd.jupyter.widget-view+json": {
       "model_id": "a859f3d7c442450ab52fb64379982709",
       "version_major": 2,
       "version_minor": 0
      },
      "text/plain": [
       "Batches:   0%|          | 0/4 [00:00<?, ?it/s]"
      ]
     },
     "metadata": {},
     "output_type": "display_data"
    },
    {
     "data": {
      "application/vnd.jupyter.widget-view+json": {
       "model_id": "45a1f5be8a0c4b3987f38e4062acdbf6",
       "version_major": 2,
       "version_minor": 0
      },
      "text/plain": [
       "Batches:   0%|          | 0/4 [00:00<?, ?it/s]"
      ]
     },
     "metadata": {},
     "output_type": "display_data"
    },
    {
     "name": "stdout",
     "output_type": "stream",
     "text": [
      "Test for lr 1e-05 epoch 1: \n",
      "{'exact_match': 2.5210084033613445, 'f1': 7.53155245369778}\n",
      "18.224285542964935\n",
      "Training with lr=1e-05 and epoch=2\n"
     ]
    },
    {
     "data": {
      "text/html": [
       "\n",
       "    <div>\n",
       "      \n",
       "      <progress value='69' max='69' style='width:300px; height:20px; vertical-align: middle;'></progress>\n",
       "      [69/69 00:37, Epoch 1/1]\n",
       "    </div>\n",
       "    <table border=\"1\" class=\"dataframe\">\n",
       "  <thead>\n",
       " <tr style=\"text-align: left;\">\n",
       "      <th>Step</th>\n",
       "      <th>Training Loss</th>\n",
       "    </tr>\n",
       "  </thead>\n",
       "  <tbody>\n",
       "  </tbody>\n",
       "</table><p>"
      ],
      "text/plain": [
       "<IPython.core.display.HTML object>"
      ]
     },
     "metadata": {},
     "output_type": "display_data"
    },
    {
     "data": {
      "text/html": [],
      "text/plain": [
       "<IPython.core.display.HTML object>"
      ]
     },
     "metadata": {},
     "output_type": "display_data"
    },
    {
     "data": {
      "application/vnd.jupyter.widget-view+json": {
       "model_id": "5fea4d1e135c4714b45e59d9d19b3c2c",
       "version_major": 2,
       "version_minor": 0
      },
      "text/plain": [
       "  0%|          | 0/119 [00:00<?, ?it/s]"
      ]
     },
     "metadata": {},
     "output_type": "display_data"
    },
    {
     "data": {
      "application/vnd.jupyter.widget-view+json": {
       "model_id": "4566f84c058c4df4a485ffc0caa4d554",
       "version_major": 2,
       "version_minor": 0
      },
      "text/plain": [
       "Batches:   0%|          | 0/4 [00:00<?, ?it/s]"
      ]
     },
     "metadata": {},
     "output_type": "display_data"
    },
    {
     "data": {
      "application/vnd.jupyter.widget-view+json": {
       "model_id": "c887ab6b66ef4ae1bc91443504a8b064",
       "version_major": 2,
       "version_minor": 0
      },
      "text/plain": [
       "Batches:   0%|          | 0/4 [00:00<?, ?it/s]"
      ]
     },
     "metadata": {},
     "output_type": "display_data"
    },
    {
     "name": "stdout",
     "output_type": "stream",
     "text": [
      "Validation for lr 1e-05 epoch 2: \n",
      "{'exact_match': 3.361344537815126, 'f1': 9.927242883990287}\n",
      "16.358037292957306\n"
     ]
    },
    {
     "data": {
      "text/html": [],
      "text/plain": [
       "<IPython.core.display.HTML object>"
      ]
     },
     "metadata": {},
     "output_type": "display_data"
    },
    {
     "data": {
      "application/vnd.jupyter.widget-view+json": {
       "model_id": "18e0a22d07d74cba83952486afeb296a",
       "version_major": 2,
       "version_minor": 0
      },
      "text/plain": [
       "  0%|          | 0/119 [00:00<?, ?it/s]"
      ]
     },
     "metadata": {},
     "output_type": "display_data"
    },
    {
     "data": {
      "application/vnd.jupyter.widget-view+json": {
       "model_id": "70a49fbf3cc24344bccfcfea9d617c1e",
       "version_major": 2,
       "version_minor": 0
      },
      "text/plain": [
       "Batches:   0%|          | 0/4 [00:00<?, ?it/s]"
      ]
     },
     "metadata": {},
     "output_type": "display_data"
    },
    {
     "data": {
      "application/vnd.jupyter.widget-view+json": {
       "model_id": "2e3b4dcaee724a25931fe3ec368a7c81",
       "version_major": 2,
       "version_minor": 0
      },
      "text/plain": [
       "Batches:   0%|          | 0/4 [00:00<?, ?it/s]"
      ]
     },
     "metadata": {},
     "output_type": "display_data"
    },
    {
     "name": "stdout",
     "output_type": "stream",
     "text": [
      "Test for lr 1e-05 epoch 2: \n",
      "{'exact_match': 1.680672268907563, 'f1': 5.653535661756342}\n",
      "17.109158635139465\n",
      "Training with lr=1e-05 and epoch=3\n"
     ]
    },
    {
     "data": {
      "text/html": [
       "\n",
       "    <div>\n",
       "      \n",
       "      <progress value='69' max='69' style='width:300px; height:20px; vertical-align: middle;'></progress>\n",
       "      [69/69 00:32, Epoch 1/1]\n",
       "    </div>\n",
       "    <table border=\"1\" class=\"dataframe\">\n",
       "  <thead>\n",
       " <tr style=\"text-align: left;\">\n",
       "      <th>Step</th>\n",
       "      <th>Training Loss</th>\n",
       "    </tr>\n",
       "  </thead>\n",
       "  <tbody>\n",
       "  </tbody>\n",
       "</table><p>"
      ],
      "text/plain": [
       "<IPython.core.display.HTML object>"
      ]
     },
     "metadata": {},
     "output_type": "display_data"
    },
    {
     "data": {
      "text/html": [],
      "text/plain": [
       "<IPython.core.display.HTML object>"
      ]
     },
     "metadata": {},
     "output_type": "display_data"
    },
    {
     "data": {
      "application/vnd.jupyter.widget-view+json": {
       "model_id": "736cb5750b44429896ddfd80383819f1",
       "version_major": 2,
       "version_minor": 0
      },
      "text/plain": [
       "  0%|          | 0/119 [00:00<?, ?it/s]"
      ]
     },
     "metadata": {},
     "output_type": "display_data"
    },
    {
     "data": {
      "application/vnd.jupyter.widget-view+json": {
       "model_id": "754b78c77d9d4b9f9f3f61a76f2d01ea",
       "version_major": 2,
       "version_minor": 0
      },
      "text/plain": [
       "Batches:   0%|          | 0/4 [00:00<?, ?it/s]"
      ]
     },
     "metadata": {},
     "output_type": "display_data"
    },
    {
     "data": {
      "application/vnd.jupyter.widget-view+json": {
       "model_id": "37c39e0c22a345e7939cb06a93a9698c",
       "version_major": 2,
       "version_minor": 0
      },
      "text/plain": [
       "Batches:   0%|          | 0/4 [00:00<?, ?it/s]"
      ]
     },
     "metadata": {},
     "output_type": "display_data"
    },
    {
     "name": "stdout",
     "output_type": "stream",
     "text": [
      "Validation for lr 1e-05 epoch 3: \n",
      "{'exact_match': 7.563025210084033, 'f1': 13.479584566584073}\n",
      "17.328526079654694\n"
     ]
    },
    {
     "data": {
      "text/html": [],
      "text/plain": [
       "<IPython.core.display.HTML object>"
      ]
     },
     "metadata": {},
     "output_type": "display_data"
    },
    {
     "data": {
      "application/vnd.jupyter.widget-view+json": {
       "model_id": "8f7f7e9067e04f9b820cff363ce0b414",
       "version_major": 2,
       "version_minor": 0
      },
      "text/plain": [
       "  0%|          | 0/119 [00:00<?, ?it/s]"
      ]
     },
     "metadata": {},
     "output_type": "display_data"
    },
    {
     "data": {
      "application/vnd.jupyter.widget-view+json": {
       "model_id": "1db501d404c844ac8ab40aa97db20acb",
       "version_major": 2,
       "version_minor": 0
      },
      "text/plain": [
       "Batches:   0%|          | 0/4 [00:00<?, ?it/s]"
      ]
     },
     "metadata": {},
     "output_type": "display_data"
    },
    {
     "data": {
      "application/vnd.jupyter.widget-view+json": {
       "model_id": "b0a76f4fa4a641a4883f3241c8971d8e",
       "version_major": 2,
       "version_minor": 0
      },
      "text/plain": [
       "Batches:   0%|          | 0/4 [00:00<?, ?it/s]"
      ]
     },
     "metadata": {},
     "output_type": "display_data"
    },
    {
     "name": "stdout",
     "output_type": "stream",
     "text": [
      "Test for lr 1e-05 epoch 3: \n",
      "{'exact_match': 5.042016806722689, 'f1': 9.610997434344167}\n",
      "17.610567808151245\n",
      "Training with lr=1e-05 and epoch=4\n"
     ]
    },
    {
     "data": {
      "text/html": [
       "\n",
       "    <div>\n",
       "      \n",
       "      <progress value='69' max='69' style='width:300px; height:20px; vertical-align: middle;'></progress>\n",
       "      [69/69 00:31, Epoch 1/1]\n",
       "    </div>\n",
       "    <table border=\"1\" class=\"dataframe\">\n",
       "  <thead>\n",
       " <tr style=\"text-align: left;\">\n",
       "      <th>Step</th>\n",
       "      <th>Training Loss</th>\n",
       "    </tr>\n",
       "  </thead>\n",
       "  <tbody>\n",
       "  </tbody>\n",
       "</table><p>"
      ],
      "text/plain": [
       "<IPython.core.display.HTML object>"
      ]
     },
     "metadata": {},
     "output_type": "display_data"
    },
    {
     "data": {
      "text/html": [],
      "text/plain": [
       "<IPython.core.display.HTML object>"
      ]
     },
     "metadata": {},
     "output_type": "display_data"
    },
    {
     "data": {
      "application/vnd.jupyter.widget-view+json": {
       "model_id": "ab3c835a844e48dcaef7dcb5fd9119ff",
       "version_major": 2,
       "version_minor": 0
      },
      "text/plain": [
       "  0%|          | 0/119 [00:00<?, ?it/s]"
      ]
     },
     "metadata": {},
     "output_type": "display_data"
    },
    {
     "data": {
      "application/vnd.jupyter.widget-view+json": {
       "model_id": "542af2cc880f495c9ca9fe453405d894",
       "version_major": 2,
       "version_minor": 0
      },
      "text/plain": [
       "Batches:   0%|          | 0/4 [00:00<?, ?it/s]"
      ]
     },
     "metadata": {},
     "output_type": "display_data"
    },
    {
     "data": {
      "application/vnd.jupyter.widget-view+json": {
       "model_id": "0899364ac9a94793b32fad1e24d83c52",
       "version_major": 2,
       "version_minor": 0
      },
      "text/plain": [
       "Batches:   0%|          | 0/4 [00:00<?, ?it/s]"
      ]
     },
     "metadata": {},
     "output_type": "display_data"
    },
    {
     "name": "stdout",
     "output_type": "stream",
     "text": [
      "Validation for lr 1e-05 epoch 4: \n",
      "{'exact_match': 8.403361344537815, 'f1': 14.39844861570022}\n",
      "17.0912966132164\n"
     ]
    },
    {
     "data": {
      "text/html": [],
      "text/plain": [
       "<IPython.core.display.HTML object>"
      ]
     },
     "metadata": {},
     "output_type": "display_data"
    },
    {
     "data": {
      "application/vnd.jupyter.widget-view+json": {
       "model_id": "a3ad155ebfee4c19a3b190f55fb16a55",
       "version_major": 2,
       "version_minor": 0
      },
      "text/plain": [
       "  0%|          | 0/119 [00:00<?, ?it/s]"
      ]
     },
     "metadata": {},
     "output_type": "display_data"
    },
    {
     "data": {
      "application/vnd.jupyter.widget-view+json": {
       "model_id": "8550ba69bd11491bb31accdaf31d93aa",
       "version_major": 2,
       "version_minor": 0
      },
      "text/plain": [
       "Batches:   0%|          | 0/4 [00:00<?, ?it/s]"
      ]
     },
     "metadata": {},
     "output_type": "display_data"
    },
    {
     "data": {
      "application/vnd.jupyter.widget-view+json": {
       "model_id": "4edde21b257841d8a1a895c378e86107",
       "version_major": 2,
       "version_minor": 0
      },
      "text/plain": [
       "Batches:   0%|          | 0/4 [00:00<?, ?it/s]"
      ]
     },
     "metadata": {},
     "output_type": "display_data"
    },
    {
     "name": "stdout",
     "output_type": "stream",
     "text": [
      "Test for lr 1e-05 epoch 4: \n",
      "{'exact_match': 5.042016806722689, 'f1': 11.699492744279752}\n",
      "17.677579820156097\n",
      "Training with lr=1e-05 and epoch=5\n"
     ]
    },
    {
     "data": {
      "text/html": [
       "\n",
       "    <div>\n",
       "      \n",
       "      <progress value='69' max='69' style='width:300px; height:20px; vertical-align: middle;'></progress>\n",
       "      [69/69 00:31, Epoch 1/1]\n",
       "    </div>\n",
       "    <table border=\"1\" class=\"dataframe\">\n",
       "  <thead>\n",
       " <tr style=\"text-align: left;\">\n",
       "      <th>Step</th>\n",
       "      <th>Training Loss</th>\n",
       "    </tr>\n",
       "  </thead>\n",
       "  <tbody>\n",
       "  </tbody>\n",
       "</table><p>"
      ],
      "text/plain": [
       "<IPython.core.display.HTML object>"
      ]
     },
     "metadata": {},
     "output_type": "display_data"
    },
    {
     "data": {
      "text/html": [],
      "text/plain": [
       "<IPython.core.display.HTML object>"
      ]
     },
     "metadata": {},
     "output_type": "display_data"
    },
    {
     "data": {
      "application/vnd.jupyter.widget-view+json": {
       "model_id": "cacbade958494baea78b4406c97d5a3d",
       "version_major": 2,
       "version_minor": 0
      },
      "text/plain": [
       "  0%|          | 0/119 [00:00<?, ?it/s]"
      ]
     },
     "metadata": {},
     "output_type": "display_data"
    },
    {
     "data": {
      "application/vnd.jupyter.widget-view+json": {
       "model_id": "11fbd653e09748c0aa700a710ad97295",
       "version_major": 2,
       "version_minor": 0
      },
      "text/plain": [
       "Batches:   0%|          | 0/4 [00:00<?, ?it/s]"
      ]
     },
     "metadata": {},
     "output_type": "display_data"
    },
    {
     "data": {
      "application/vnd.jupyter.widget-view+json": {
       "model_id": "92a1994a7f904c669dd578f41a03e320",
       "version_major": 2,
       "version_minor": 0
      },
      "text/plain": [
       "Batches:   0%|          | 0/4 [00:00<?, ?it/s]"
      ]
     },
     "metadata": {},
     "output_type": "display_data"
    },
    {
     "name": "stdout",
     "output_type": "stream",
     "text": [
      "Validation for lr 1e-05 epoch 5: \n",
      "{'exact_match': 10.92436974789916, 'f1': 17.22315590160375}\n",
      "17.770180106163025\n"
     ]
    },
    {
     "data": {
      "text/html": [],
      "text/plain": [
       "<IPython.core.display.HTML object>"
      ]
     },
     "metadata": {},
     "output_type": "display_data"
    },
    {
     "data": {
      "application/vnd.jupyter.widget-view+json": {
       "model_id": "85435b6b83ba4bd8a586d1e4f9f197b5",
       "version_major": 2,
       "version_minor": 0
      },
      "text/plain": [
       "  0%|          | 0/119 [00:00<?, ?it/s]"
      ]
     },
     "metadata": {},
     "output_type": "display_data"
    },
    {
     "data": {
      "application/vnd.jupyter.widget-view+json": {
       "model_id": "dbb7598b8c754eb8a3ab260942a950ea",
       "version_major": 2,
       "version_minor": 0
      },
      "text/plain": [
       "Batches:   0%|          | 0/4 [00:00<?, ?it/s]"
      ]
     },
     "metadata": {},
     "output_type": "display_data"
    },
    {
     "data": {
      "application/vnd.jupyter.widget-view+json": {
       "model_id": "c61dcf415dcf40b1931d4b15c99bd301",
       "version_major": 2,
       "version_minor": 0
      },
      "text/plain": [
       "Batches:   0%|          | 0/4 [00:00<?, ?it/s]"
      ]
     },
     "metadata": {},
     "output_type": "display_data"
    },
    {
     "name": "stdout",
     "output_type": "stream",
     "text": [
      "Test for lr 1e-05 epoch 5: \n",
      "{'exact_match': 10.084033613445378, 'f1': 16.741184928308748}\n",
      "17.513515055179596\n",
      "Training with lr=1e-05 and epoch=6\n"
     ]
    },
    {
     "data": {
      "text/html": [
       "\n",
       "    <div>\n",
       "      \n",
       "      <progress value='69' max='69' style='width:300px; height:20px; vertical-align: middle;'></progress>\n",
       "      [69/69 00:31, Epoch 1/1]\n",
       "    </div>\n",
       "    <table border=\"1\" class=\"dataframe\">\n",
       "  <thead>\n",
       " <tr style=\"text-align: left;\">\n",
       "      <th>Step</th>\n",
       "      <th>Training Loss</th>\n",
       "    </tr>\n",
       "  </thead>\n",
       "  <tbody>\n",
       "  </tbody>\n",
       "</table><p>"
      ],
      "text/plain": [
       "<IPython.core.display.HTML object>"
      ]
     },
     "metadata": {},
     "output_type": "display_data"
    },
    {
     "data": {
      "text/html": [],
      "text/plain": [
       "<IPython.core.display.HTML object>"
      ]
     },
     "metadata": {},
     "output_type": "display_data"
    },
    {
     "data": {
      "application/vnd.jupyter.widget-view+json": {
       "model_id": "b7b9c0f6853d4081b857284008fa609c",
       "version_major": 2,
       "version_minor": 0
      },
      "text/plain": [
       "  0%|          | 0/119 [00:00<?, ?it/s]"
      ]
     },
     "metadata": {},
     "output_type": "display_data"
    },
    {
     "data": {
      "application/vnd.jupyter.widget-view+json": {
       "model_id": "33983e1654a74d69831dd8642d9f136c",
       "version_major": 2,
       "version_minor": 0
      },
      "text/plain": [
       "Batches:   0%|          | 0/4 [00:00<?, ?it/s]"
      ]
     },
     "metadata": {},
     "output_type": "display_data"
    },
    {
     "data": {
      "application/vnd.jupyter.widget-view+json": {
       "model_id": "2bc4236c6d724c20963e991b7c9f89d0",
       "version_major": 2,
       "version_minor": 0
      },
      "text/plain": [
       "Batches:   0%|          | 0/4 [00:00<?, ?it/s]"
      ]
     },
     "metadata": {},
     "output_type": "display_data"
    },
    {
     "name": "stdout",
     "output_type": "stream",
     "text": [
      "Validation for lr 1e-05 epoch 6: \n",
      "{'exact_match': 11.764705882352942, 'f1': 20.036746359039988}\n",
      "17.94852912425995\n"
     ]
    },
    {
     "data": {
      "text/html": [],
      "text/plain": [
       "<IPython.core.display.HTML object>"
      ]
     },
     "metadata": {},
     "output_type": "display_data"
    },
    {
     "data": {
      "application/vnd.jupyter.widget-view+json": {
       "model_id": "e79e951ad39347b6868352bc785527a0",
       "version_major": 2,
       "version_minor": 0
      },
      "text/plain": [
       "  0%|          | 0/119 [00:00<?, ?it/s]"
      ]
     },
     "metadata": {},
     "output_type": "display_data"
    },
    {
     "data": {
      "application/vnd.jupyter.widget-view+json": {
       "model_id": "552d1e1d7333408db13d08fc51eb8c61",
       "version_major": 2,
       "version_minor": 0
      },
      "text/plain": [
       "Batches:   0%|          | 0/4 [00:00<?, ?it/s]"
      ]
     },
     "metadata": {},
     "output_type": "display_data"
    },
    {
     "data": {
      "application/vnd.jupyter.widget-view+json": {
       "model_id": "b343ce0a3c7f4909b2db27a6b45e1ffb",
       "version_major": 2,
       "version_minor": 0
      },
      "text/plain": [
       "Batches:   0%|          | 0/4 [00:00<?, ?it/s]"
      ]
     },
     "metadata": {},
     "output_type": "display_data"
    },
    {
     "name": "stdout",
     "output_type": "stream",
     "text": [
      "Test for lr 1e-05 epoch 6: \n",
      "{'exact_match': 11.764705882352942, 'f1': 20.65260553982358}\n",
      "17.676566541194916\n",
      "Training with lr=1e-05 and epoch=7\n"
     ]
    },
    {
     "data": {
      "text/html": [
       "\n",
       "    <div>\n",
       "      \n",
       "      <progress value='69' max='69' style='width:300px; height:20px; vertical-align: middle;'></progress>\n",
       "      [69/69 00:34, Epoch 1/1]\n",
       "    </div>\n",
       "    <table border=\"1\" class=\"dataframe\">\n",
       "  <thead>\n",
       " <tr style=\"text-align: left;\">\n",
       "      <th>Step</th>\n",
       "      <th>Training Loss</th>\n",
       "    </tr>\n",
       "  </thead>\n",
       "  <tbody>\n",
       "  </tbody>\n",
       "</table><p>"
      ],
      "text/plain": [
       "<IPython.core.display.HTML object>"
      ]
     },
     "metadata": {},
     "output_type": "display_data"
    },
    {
     "data": {
      "text/html": [],
      "text/plain": [
       "<IPython.core.display.HTML object>"
      ]
     },
     "metadata": {},
     "output_type": "display_data"
    },
    {
     "data": {
      "application/vnd.jupyter.widget-view+json": {
       "model_id": "625c870b1bcd4dd2973df86ebab50142",
       "version_major": 2,
       "version_minor": 0
      },
      "text/plain": [
       "  0%|          | 0/119 [00:00<?, ?it/s]"
      ]
     },
     "metadata": {},
     "output_type": "display_data"
    },
    {
     "data": {
      "application/vnd.jupyter.widget-view+json": {
       "model_id": "d331bd6ea2284a388ce92f5b97ebf6d9",
       "version_major": 2,
       "version_minor": 0
      },
      "text/plain": [
       "Batches:   0%|          | 0/4 [00:00<?, ?it/s]"
      ]
     },
     "metadata": {},
     "output_type": "display_data"
    },
    {
     "data": {
      "application/vnd.jupyter.widget-view+json": {
       "model_id": "c2c60a5ac384493ab90121849c900d24",
       "version_major": 2,
       "version_minor": 0
      },
      "text/plain": [
       "Batches:   0%|          | 0/4 [00:00<?, ?it/s]"
      ]
     },
     "metadata": {},
     "output_type": "display_data"
    },
    {
     "name": "stdout",
     "output_type": "stream",
     "text": [
      "Validation for lr 1e-05 epoch 7: \n",
      "{'exact_match': 14.285714285714286, 'f1': 21.658947687123664}\n",
      "18.089304864406586\n"
     ]
    },
    {
     "data": {
      "text/html": [],
      "text/plain": [
       "<IPython.core.display.HTML object>"
      ]
     },
     "metadata": {},
     "output_type": "display_data"
    },
    {
     "data": {
      "application/vnd.jupyter.widget-view+json": {
       "model_id": "2a8aa594108d499aa19d381f98820a51",
       "version_major": 2,
       "version_minor": 0
      },
      "text/plain": [
       "  0%|          | 0/119 [00:00<?, ?it/s]"
      ]
     },
     "metadata": {},
     "output_type": "display_data"
    },
    {
     "data": {
      "application/vnd.jupyter.widget-view+json": {
       "model_id": "07772fb12fae4461955538c88e8d9812",
       "version_major": 2,
       "version_minor": 0
      },
      "text/plain": [
       "Batches:   0%|          | 0/4 [00:00<?, ?it/s]"
      ]
     },
     "metadata": {},
     "output_type": "display_data"
    },
    {
     "data": {
      "application/vnd.jupyter.widget-view+json": {
       "model_id": "e1b64afdf3824e458bce1f0eb90932b9",
       "version_major": 2,
       "version_minor": 0
      },
      "text/plain": [
       "Batches:   0%|          | 0/4 [00:00<?, ?it/s]"
      ]
     },
     "metadata": {},
     "output_type": "display_data"
    },
    {
     "name": "stdout",
     "output_type": "stream",
     "text": [
      "Test for lr 1e-05 epoch 7: \n",
      "{'exact_match': 16.80672268907563, 'f1': 24.685303345708682}\n",
      "18.277272582054138\n",
      "Training with lr=1e-05 and epoch=8\n"
     ]
    },
    {
     "data": {
      "text/html": [
       "\n",
       "    <div>\n",
       "      \n",
       "      <progress value='69' max='69' style='width:300px; height:20px; vertical-align: middle;'></progress>\n",
       "      [69/69 00:31, Epoch 1/1]\n",
       "    </div>\n",
       "    <table border=\"1\" class=\"dataframe\">\n",
       "  <thead>\n",
       " <tr style=\"text-align: left;\">\n",
       "      <th>Step</th>\n",
       "      <th>Training Loss</th>\n",
       "    </tr>\n",
       "  </thead>\n",
       "  <tbody>\n",
       "  </tbody>\n",
       "</table><p>"
      ],
      "text/plain": [
       "<IPython.core.display.HTML object>"
      ]
     },
     "metadata": {},
     "output_type": "display_data"
    },
    {
     "data": {
      "text/html": [],
      "text/plain": [
       "<IPython.core.display.HTML object>"
      ]
     },
     "metadata": {},
     "output_type": "display_data"
    },
    {
     "data": {
      "application/vnd.jupyter.widget-view+json": {
       "model_id": "bc28591d524e4073973d996205ea1e6d",
       "version_major": 2,
       "version_minor": 0
      },
      "text/plain": [
       "  0%|          | 0/119 [00:00<?, ?it/s]"
      ]
     },
     "metadata": {},
     "output_type": "display_data"
    },
    {
     "data": {
      "application/vnd.jupyter.widget-view+json": {
       "model_id": "b5b3c5f0226d48e8a31cc156625068cd",
       "version_major": 2,
       "version_minor": 0
      },
      "text/plain": [
       "Batches:   0%|          | 0/4 [00:00<?, ?it/s]"
      ]
     },
     "metadata": {},
     "output_type": "display_data"
    },
    {
     "data": {
      "application/vnd.jupyter.widget-view+json": {
       "model_id": "bfb44a0810184ef182907bf6476027e3",
       "version_major": 2,
       "version_minor": 0
      },
      "text/plain": [
       "Batches:   0%|          | 0/4 [00:00<?, ?it/s]"
      ]
     },
     "metadata": {},
     "output_type": "display_data"
    },
    {
     "name": "stdout",
     "output_type": "stream",
     "text": [
      "Validation for lr 1e-05 epoch 8: \n",
      "{'exact_match': 16.80672268907563, 'f1': 25.70622471759397}\n",
      "18.63267570734024\n"
     ]
    },
    {
     "data": {
      "text/html": [],
      "text/plain": [
       "<IPython.core.display.HTML object>"
      ]
     },
     "metadata": {},
     "output_type": "display_data"
    },
    {
     "data": {
      "application/vnd.jupyter.widget-view+json": {
       "model_id": "a17713f049c94f5dacc709007c4e6b2d",
       "version_major": 2,
       "version_minor": 0
      },
      "text/plain": [
       "  0%|          | 0/119 [00:00<?, ?it/s]"
      ]
     },
     "metadata": {},
     "output_type": "display_data"
    },
    {
     "data": {
      "application/vnd.jupyter.widget-view+json": {
       "model_id": "3549c5de4e6942c4a2672898948c2edd",
       "version_major": 2,
       "version_minor": 0
      },
      "text/plain": [
       "Batches:   0%|          | 0/4 [00:00<?, ?it/s]"
      ]
     },
     "metadata": {},
     "output_type": "display_data"
    },
    {
     "data": {
      "application/vnd.jupyter.widget-view+json": {
       "model_id": "6747fa052a6e4a5897ad98ad320bf96f",
       "version_major": 2,
       "version_minor": 0
      },
      "text/plain": [
       "Batches:   0%|          | 0/4 [00:00<?, ?it/s]"
      ]
     },
     "metadata": {},
     "output_type": "display_data"
    },
    {
     "name": "stdout",
     "output_type": "stream",
     "text": [
      "Test for lr 1e-05 epoch 8: \n",
      "{'exact_match': 18.48739495798319, 'f1': 26.763347050049966}\n",
      "18.505413830280304\n",
      "Training with lr=1e-05 and epoch=9\n"
     ]
    },
    {
     "data": {
      "text/html": [
       "\n",
       "    <div>\n",
       "      \n",
       "      <progress value='69' max='69' style='width:300px; height:20px; vertical-align: middle;'></progress>\n",
       "      [69/69 00:31, Epoch 1/1]\n",
       "    </div>\n",
       "    <table border=\"1\" class=\"dataframe\">\n",
       "  <thead>\n",
       " <tr style=\"text-align: left;\">\n",
       "      <th>Step</th>\n",
       "      <th>Training Loss</th>\n",
       "    </tr>\n",
       "  </thead>\n",
       "  <tbody>\n",
       "  </tbody>\n",
       "</table><p>"
      ],
      "text/plain": [
       "<IPython.core.display.HTML object>"
      ]
     },
     "metadata": {},
     "output_type": "display_data"
    },
    {
     "data": {
      "text/html": [],
      "text/plain": [
       "<IPython.core.display.HTML object>"
      ]
     },
     "metadata": {},
     "output_type": "display_data"
    },
    {
     "data": {
      "application/vnd.jupyter.widget-view+json": {
       "model_id": "bd14b90edd79406ba32e40763e2d3aed",
       "version_major": 2,
       "version_minor": 0
      },
      "text/plain": [
       "  0%|          | 0/119 [00:00<?, ?it/s]"
      ]
     },
     "metadata": {},
     "output_type": "display_data"
    },
    {
     "data": {
      "application/vnd.jupyter.widget-view+json": {
       "model_id": "a19335c19fbc43dc9fcd31d4095b270f",
       "version_major": 2,
       "version_minor": 0
      },
      "text/plain": [
       "Batches:   0%|          | 0/4 [00:00<?, ?it/s]"
      ]
     },
     "metadata": {},
     "output_type": "display_data"
    },
    {
     "data": {
      "application/vnd.jupyter.widget-view+json": {
       "model_id": "f5e1c0c1b87f44769880ceb869be1877",
       "version_major": 2,
       "version_minor": 0
      },
      "text/plain": [
       "Batches:   0%|          | 0/4 [00:00<?, ?it/s]"
      ]
     },
     "metadata": {},
     "output_type": "display_data"
    },
    {
     "name": "stdout",
     "output_type": "stream",
     "text": [
      "Validation for lr 1e-05 epoch 9: \n",
      "{'exact_match': 16.80672268907563, 'f1': 25.19549050938077}\n",
      "18.456919491291046\n"
     ]
    },
    {
     "data": {
      "text/html": [],
      "text/plain": [
       "<IPython.core.display.HTML object>"
      ]
     },
     "metadata": {},
     "output_type": "display_data"
    },
    {
     "data": {
      "application/vnd.jupyter.widget-view+json": {
       "model_id": "2099798eac7b41d89a1318f668daa824",
       "version_major": 2,
       "version_minor": 0
      },
      "text/plain": [
       "  0%|          | 0/119 [00:00<?, ?it/s]"
      ]
     },
     "metadata": {},
     "output_type": "display_data"
    },
    {
     "data": {
      "application/vnd.jupyter.widget-view+json": {
       "model_id": "048cf2eaa48743b7978b09ea36cfdbbb",
       "version_major": 2,
       "version_minor": 0
      },
      "text/plain": [
       "Batches:   0%|          | 0/4 [00:00<?, ?it/s]"
      ]
     },
     "metadata": {},
     "output_type": "display_data"
    },
    {
     "data": {
      "application/vnd.jupyter.widget-view+json": {
       "model_id": "5d9d8a9906364e3eb4e49333042c628f",
       "version_major": 2,
       "version_minor": 0
      },
      "text/plain": [
       "Batches:   0%|          | 0/4 [00:00<?, ?it/s]"
      ]
     },
     "metadata": {},
     "output_type": "display_data"
    },
    {
     "name": "stdout",
     "output_type": "stream",
     "text": [
      "Test for lr 1e-05 epoch 9: \n",
      "{'exact_match': 18.48739495798319, 'f1': 26.224464830495478}\n",
      "18.491752445697784\n",
      "Training with lr=1e-05 and epoch=10\n"
     ]
    },
    {
     "data": {
      "text/html": [
       "\n",
       "    <div>\n",
       "      \n",
       "      <progress value='69' max='69' style='width:300px; height:20px; vertical-align: middle;'></progress>\n",
       "      [69/69 00:31, Epoch 1/1]\n",
       "    </div>\n",
       "    <table border=\"1\" class=\"dataframe\">\n",
       "  <thead>\n",
       " <tr style=\"text-align: left;\">\n",
       "      <th>Step</th>\n",
       "      <th>Training Loss</th>\n",
       "    </tr>\n",
       "  </thead>\n",
       "  <tbody>\n",
       "  </tbody>\n",
       "</table><p>"
      ],
      "text/plain": [
       "<IPython.core.display.HTML object>"
      ]
     },
     "metadata": {},
     "output_type": "display_data"
    },
    {
     "data": {
      "text/html": [],
      "text/plain": [
       "<IPython.core.display.HTML object>"
      ]
     },
     "metadata": {},
     "output_type": "display_data"
    },
    {
     "data": {
      "application/vnd.jupyter.widget-view+json": {
       "model_id": "3ccf759df3a54d5b874d5fb281e09ae6",
       "version_major": 2,
       "version_minor": 0
      },
      "text/plain": [
       "  0%|          | 0/119 [00:00<?, ?it/s]"
      ]
     },
     "metadata": {},
     "output_type": "display_data"
    },
    {
     "data": {
      "application/vnd.jupyter.widget-view+json": {
       "model_id": "7bb3d59cb0c54cea9d32aa8a4a9929d8",
       "version_major": 2,
       "version_minor": 0
      },
      "text/plain": [
       "Batches:   0%|          | 0/4 [00:00<?, ?it/s]"
      ]
     },
     "metadata": {},
     "output_type": "display_data"
    },
    {
     "data": {
      "application/vnd.jupyter.widget-view+json": {
       "model_id": "71e83638cc34452981fa68424c0ca378",
       "version_major": 2,
       "version_minor": 0
      },
      "text/plain": [
       "Batches:   0%|          | 0/4 [00:00<?, ?it/s]"
      ]
     },
     "metadata": {},
     "output_type": "display_data"
    },
    {
     "name": "stdout",
     "output_type": "stream",
     "text": [
      "Validation for lr 1e-05 epoch 10: \n",
      "{'exact_match': 16.80672268907563, 'f1': 24.88252149893277}\n",
      "18.348146975040436\n"
     ]
    },
    {
     "data": {
      "text/html": [],
      "text/plain": [
       "<IPython.core.display.HTML object>"
      ]
     },
     "metadata": {},
     "output_type": "display_data"
    },
    {
     "data": {
      "application/vnd.jupyter.widget-view+json": {
       "model_id": "f97afa7605204f3487e1b61f735f328d",
       "version_major": 2,
       "version_minor": 0
      },
      "text/plain": [
       "  0%|          | 0/119 [00:00<?, ?it/s]"
      ]
     },
     "metadata": {},
     "output_type": "display_data"
    },
    {
     "data": {
      "application/vnd.jupyter.widget-view+json": {
       "model_id": "d698e17e84394a3f86991b8110fd595f",
       "version_major": 2,
       "version_minor": 0
      },
      "text/plain": [
       "Batches:   0%|          | 0/4 [00:00<?, ?it/s]"
      ]
     },
     "metadata": {},
     "output_type": "display_data"
    },
    {
     "data": {
      "application/vnd.jupyter.widget-view+json": {
       "model_id": "7739860b8df74da5ae7cb2593c52ee09",
       "version_major": 2,
       "version_minor": 0
      },
      "text/plain": [
       "Batches:   0%|          | 0/4 [00:00<?, ?it/s]"
      ]
     },
     "metadata": {},
     "output_type": "display_data"
    },
    {
     "name": "stdout",
     "output_type": "stream",
     "text": [
      "Test for lr 1e-05 epoch 10: \n",
      "{'exact_match': 17.647058823529413, 'f1': 26.063400404725172}\n",
      "18.252046406269073\n",
      "Training with lr=1e-05 and epoch=11\n"
     ]
    },
    {
     "data": {
      "text/html": [
       "\n",
       "    <div>\n",
       "      \n",
       "      <progress value='69' max='69' style='width:300px; height:20px; vertical-align: middle;'></progress>\n",
       "      [69/69 00:31, Epoch 1/1]\n",
       "    </div>\n",
       "    <table border=\"1\" class=\"dataframe\">\n",
       "  <thead>\n",
       " <tr style=\"text-align: left;\">\n",
       "      <th>Step</th>\n",
       "      <th>Training Loss</th>\n",
       "    </tr>\n",
       "  </thead>\n",
       "  <tbody>\n",
       "  </tbody>\n",
       "</table><p>"
      ],
      "text/plain": [
       "<IPython.core.display.HTML object>"
      ]
     },
     "metadata": {},
     "output_type": "display_data"
    },
    {
     "data": {
      "text/html": [],
      "text/plain": [
       "<IPython.core.display.HTML object>"
      ]
     },
     "metadata": {},
     "output_type": "display_data"
    },
    {
     "data": {
      "application/vnd.jupyter.widget-view+json": {
       "model_id": "76ac9a6d53a2450a9145878ed3a18968",
       "version_major": 2,
       "version_minor": 0
      },
      "text/plain": [
       "  0%|          | 0/119 [00:00<?, ?it/s]"
      ]
     },
     "metadata": {},
     "output_type": "display_data"
    },
    {
     "data": {
      "application/vnd.jupyter.widget-view+json": {
       "model_id": "c545cd5f15ba4dac8afe3660a21180d2",
       "version_major": 2,
       "version_minor": 0
      },
      "text/plain": [
       "Batches:   0%|          | 0/4 [00:00<?, ?it/s]"
      ]
     },
     "metadata": {},
     "output_type": "display_data"
    },
    {
     "data": {
      "application/vnd.jupyter.widget-view+json": {
       "model_id": "adb74316ce4d46848fe885f80ad0da12",
       "version_major": 2,
       "version_minor": 0
      },
      "text/plain": [
       "Batches:   0%|          | 0/4 [00:00<?, ?it/s]"
      ]
     },
     "metadata": {},
     "output_type": "display_data"
    },
    {
     "name": "stdout",
     "output_type": "stream",
     "text": [
      "Validation for lr 1e-05 epoch 11: \n",
      "{'exact_match': 16.80672268907563, 'f1': 24.161019222808648}\n",
      "17.93476492166519\n"
     ]
    },
    {
     "data": {
      "text/html": [],
      "text/plain": [
       "<IPython.core.display.HTML object>"
      ]
     },
     "metadata": {},
     "output_type": "display_data"
    },
    {
     "data": {
      "application/vnd.jupyter.widget-view+json": {
       "model_id": "e4d07cd73e674ce081f0a34b6d641cc6",
       "version_major": 2,
       "version_minor": 0
      },
      "text/plain": [
       "  0%|          | 0/119 [00:00<?, ?it/s]"
      ]
     },
     "metadata": {},
     "output_type": "display_data"
    },
    {
     "data": {
      "application/vnd.jupyter.widget-view+json": {
       "model_id": "b12c4e7d7d764be69342d7d40e1f285a",
       "version_major": 2,
       "version_minor": 0
      },
      "text/plain": [
       "Batches:   0%|          | 0/4 [00:00<?, ?it/s]"
      ]
     },
     "metadata": {},
     "output_type": "display_data"
    },
    {
     "data": {
      "application/vnd.jupyter.widget-view+json": {
       "model_id": "7c8d8e7127f249dc9e303bb3b413c1c0",
       "version_major": 2,
       "version_minor": 0
      },
      "text/plain": [
       "Batches:   0%|          | 0/4 [00:00<?, ?it/s]"
      ]
     },
     "metadata": {},
     "output_type": "display_data"
    },
    {
     "name": "stdout",
     "output_type": "stream",
     "text": [
      "Test for lr 1e-05 epoch 11: \n",
      "{'exact_match': 17.647058823529413, 'f1': 26.14297769018481}\n",
      "18.59518140554428\n",
      "Training with lr=1e-05 and epoch=12\n"
     ]
    },
    {
     "data": {
      "text/html": [
       "\n",
       "    <div>\n",
       "      \n",
       "      <progress value='69' max='69' style='width:300px; height:20px; vertical-align: middle;'></progress>\n",
       "      [69/69 00:34, Epoch 1/1]\n",
       "    </div>\n",
       "    <table border=\"1\" class=\"dataframe\">\n",
       "  <thead>\n",
       " <tr style=\"text-align: left;\">\n",
       "      <th>Step</th>\n",
       "      <th>Training Loss</th>\n",
       "    </tr>\n",
       "  </thead>\n",
       "  <tbody>\n",
       "  </tbody>\n",
       "</table><p>"
      ],
      "text/plain": [
       "<IPython.core.display.HTML object>"
      ]
     },
     "metadata": {},
     "output_type": "display_data"
    },
    {
     "data": {
      "text/html": [],
      "text/plain": [
       "<IPython.core.display.HTML object>"
      ]
     },
     "metadata": {},
     "output_type": "display_data"
    },
    {
     "data": {
      "application/vnd.jupyter.widget-view+json": {
       "model_id": "59a55f2995ef4cc8ad53b13a086e43a4",
       "version_major": 2,
       "version_minor": 0
      },
      "text/plain": [
       "  0%|          | 0/119 [00:00<?, ?it/s]"
      ]
     },
     "metadata": {},
     "output_type": "display_data"
    },
    {
     "data": {
      "application/vnd.jupyter.widget-view+json": {
       "model_id": "11bc3f586b0d4393a06630ae9b66c35d",
       "version_major": 2,
       "version_minor": 0
      },
      "text/plain": [
       "Batches:   0%|          | 0/4 [00:00<?, ?it/s]"
      ]
     },
     "metadata": {},
     "output_type": "display_data"
    },
    {
     "data": {
      "application/vnd.jupyter.widget-view+json": {
       "model_id": "114571f37ff748beb8f41f35c9911e2f",
       "version_major": 2,
       "version_minor": 0
      },
      "text/plain": [
       "Batches:   0%|          | 0/4 [00:00<?, ?it/s]"
      ]
     },
     "metadata": {},
     "output_type": "display_data"
    },
    {
     "name": "stdout",
     "output_type": "stream",
     "text": [
      "Validation for lr 1e-05 epoch 12: \n",
      "{'exact_match': 16.80672268907563, 'f1': 24.376634880836562}\n",
      "17.86985695362091\n"
     ]
    },
    {
     "data": {
      "text/html": [],
      "text/plain": [
       "<IPython.core.display.HTML object>"
      ]
     },
     "metadata": {},
     "output_type": "display_data"
    },
    {
     "data": {
      "application/vnd.jupyter.widget-view+json": {
       "model_id": "5cce06ba953448ee95d79449accc2c22",
       "version_major": 2,
       "version_minor": 0
      },
      "text/plain": [
       "  0%|          | 0/119 [00:00<?, ?it/s]"
      ]
     },
     "metadata": {},
     "output_type": "display_data"
    },
    {
     "data": {
      "application/vnd.jupyter.widget-view+json": {
       "model_id": "97eafebb5ca4453397c4a3e007c266f3",
       "version_major": 2,
       "version_minor": 0
      },
      "text/plain": [
       "Batches:   0%|          | 0/4 [00:00<?, ?it/s]"
      ]
     },
     "metadata": {},
     "output_type": "display_data"
    },
    {
     "data": {
      "application/vnd.jupyter.widget-view+json": {
       "model_id": "34cb900a613145f0ae55afcc4dcfc896",
       "version_major": 2,
       "version_minor": 0
      },
      "text/plain": [
       "Batches:   0%|          | 0/4 [00:00<?, ?it/s]"
      ]
     },
     "metadata": {},
     "output_type": "display_data"
    },
    {
     "name": "stdout",
     "output_type": "stream",
     "text": [
      "Test for lr 1e-05 epoch 12: \n",
      "{'exact_match': 15.126050420168067, 'f1': 24.36765990756937}\n",
      "18.542324006557465\n",
      "Training with lr=1e-05 and epoch=13\n"
     ]
    },
    {
     "data": {
      "text/html": [
       "\n",
       "    <div>\n",
       "      \n",
       "      <progress value='69' max='69' style='width:300px; height:20px; vertical-align: middle;'></progress>\n",
       "      [69/69 00:31, Epoch 1/1]\n",
       "    </div>\n",
       "    <table border=\"1\" class=\"dataframe\">\n",
       "  <thead>\n",
       " <tr style=\"text-align: left;\">\n",
       "      <th>Step</th>\n",
       "      <th>Training Loss</th>\n",
       "    </tr>\n",
       "  </thead>\n",
       "  <tbody>\n",
       "  </tbody>\n",
       "</table><p>"
      ],
      "text/plain": [
       "<IPython.core.display.HTML object>"
      ]
     },
     "metadata": {},
     "output_type": "display_data"
    },
    {
     "data": {
      "text/html": [],
      "text/plain": [
       "<IPython.core.display.HTML object>"
      ]
     },
     "metadata": {},
     "output_type": "display_data"
    },
    {
     "data": {
      "application/vnd.jupyter.widget-view+json": {
       "model_id": "a0a1370b1492498b95f6fe7bc24c7e19",
       "version_major": 2,
       "version_minor": 0
      },
      "text/plain": [
       "  0%|          | 0/119 [00:00<?, ?it/s]"
      ]
     },
     "metadata": {},
     "output_type": "display_data"
    },
    {
     "data": {
      "application/vnd.jupyter.widget-view+json": {
       "model_id": "6b714c784d88459c955419310602586b",
       "version_major": 2,
       "version_minor": 0
      },
      "text/plain": [
       "Batches:   0%|          | 0/4 [00:00<?, ?it/s]"
      ]
     },
     "metadata": {},
     "output_type": "display_data"
    },
    {
     "data": {
      "application/vnd.jupyter.widget-view+json": {
       "model_id": "5a51fe09b7c640f38c8c4d4705ebb037",
       "version_major": 2,
       "version_minor": 0
      },
      "text/plain": [
       "Batches:   0%|          | 0/4 [00:00<?, ?it/s]"
      ]
     },
     "metadata": {},
     "output_type": "display_data"
    },
    {
     "name": "stdout",
     "output_type": "stream",
     "text": [
      "Validation for lr 1e-05 epoch 13: \n",
      "{'exact_match': 16.80672268907563, 'f1': 24.535254386959778}\n",
      "17.848366498947144\n"
     ]
    },
    {
     "data": {
      "text/html": [],
      "text/plain": [
       "<IPython.core.display.HTML object>"
      ]
     },
     "metadata": {},
     "output_type": "display_data"
    },
    {
     "data": {
      "application/vnd.jupyter.widget-view+json": {
       "model_id": "486a179e0ed04bfda7f4c32f7680bb8f",
       "version_major": 2,
       "version_minor": 0
      },
      "text/plain": [
       "  0%|          | 0/119 [00:00<?, ?it/s]"
      ]
     },
     "metadata": {},
     "output_type": "display_data"
    },
    {
     "data": {
      "application/vnd.jupyter.widget-view+json": {
       "model_id": "6b8a51851e6e4a35a256367abf363374",
       "version_major": 2,
       "version_minor": 0
      },
      "text/plain": [
       "Batches:   0%|          | 0/4 [00:00<?, ?it/s]"
      ]
     },
     "metadata": {},
     "output_type": "display_data"
    },
    {
     "data": {
      "application/vnd.jupyter.widget-view+json": {
       "model_id": "e97f47286a0a463db1bd5fc04bab5856",
       "version_major": 2,
       "version_minor": 0
      },
      "text/plain": [
       "Batches:   0%|          | 0/4 [00:00<?, ?it/s]"
      ]
     },
     "metadata": {},
     "output_type": "display_data"
    },
    {
     "name": "stdout",
     "output_type": "stream",
     "text": [
      "Test for lr 1e-05 epoch 13: \n",
      "{'exact_match': 18.48739495798319, 'f1': 26.70313955397338}\n",
      "18.674570322036743\n",
      "Training with lr=1e-05 and epoch=14\n"
     ]
    },
    {
     "data": {
      "text/html": [
       "\n",
       "    <div>\n",
       "      \n",
       "      <progress value='69' max='69' style='width:300px; height:20px; vertical-align: middle;'></progress>\n",
       "      [69/69 00:31, Epoch 1/1]\n",
       "    </div>\n",
       "    <table border=\"1\" class=\"dataframe\">\n",
       "  <thead>\n",
       " <tr style=\"text-align: left;\">\n",
       "      <th>Step</th>\n",
       "      <th>Training Loss</th>\n",
       "    </tr>\n",
       "  </thead>\n",
       "  <tbody>\n",
       "  </tbody>\n",
       "</table><p>"
      ],
      "text/plain": [
       "<IPython.core.display.HTML object>"
      ]
     },
     "metadata": {},
     "output_type": "display_data"
    },
    {
     "data": {
      "text/html": [],
      "text/plain": [
       "<IPython.core.display.HTML object>"
      ]
     },
     "metadata": {},
     "output_type": "display_data"
    },
    {
     "data": {
      "application/vnd.jupyter.widget-view+json": {
       "model_id": "f4c974d7e94d479dbc39cf3caaced108",
       "version_major": 2,
       "version_minor": 0
      },
      "text/plain": [
       "  0%|          | 0/119 [00:00<?, ?it/s]"
      ]
     },
     "metadata": {},
     "output_type": "display_data"
    },
    {
     "data": {
      "application/vnd.jupyter.widget-view+json": {
       "model_id": "b6dfb3c30954421a9c658f07ced5273f",
       "version_major": 2,
       "version_minor": 0
      },
      "text/plain": [
       "Batches:   0%|          | 0/4 [00:00<?, ?it/s]"
      ]
     },
     "metadata": {},
     "output_type": "display_data"
    },
    {
     "data": {
      "application/vnd.jupyter.widget-view+json": {
       "model_id": "fbc11c7dda594593a30ff6e9915b55be",
       "version_major": 2,
       "version_minor": 0
      },
      "text/plain": [
       "Batches:   0%|          | 0/4 [00:00<?, ?it/s]"
      ]
     },
     "metadata": {},
     "output_type": "display_data"
    },
    {
     "name": "stdout",
     "output_type": "stream",
     "text": [
      "Validation for lr 1e-05 epoch 14: \n",
      "{'exact_match': 15.966386554621849, 'f1': 24.14309752421468}\n",
      "18.12024563550949\n"
     ]
    },
    {
     "data": {
      "text/html": [],
      "text/plain": [
       "<IPython.core.display.HTML object>"
      ]
     },
     "metadata": {},
     "output_type": "display_data"
    },
    {
     "data": {
      "application/vnd.jupyter.widget-view+json": {
       "model_id": "2524cf060f6b4c1caa8ee267c09c5ba6",
       "version_major": 2,
       "version_minor": 0
      },
      "text/plain": [
       "  0%|          | 0/119 [00:00<?, ?it/s]"
      ]
     },
     "metadata": {},
     "output_type": "display_data"
    },
    {
     "data": {
      "application/vnd.jupyter.widget-view+json": {
       "model_id": "31b1b6ffe62142978af894d44137cc88",
       "version_major": 2,
       "version_minor": 0
      },
      "text/plain": [
       "Batches:   0%|          | 0/4 [00:00<?, ?it/s]"
      ]
     },
     "metadata": {},
     "output_type": "display_data"
    },
    {
     "data": {
      "application/vnd.jupyter.widget-view+json": {
       "model_id": "24de99777aa9437c94b307e6b9b9822d",
       "version_major": 2,
       "version_minor": 0
      },
      "text/plain": [
       "Batches:   0%|          | 0/4 [00:00<?, ?it/s]"
      ]
     },
     "metadata": {},
     "output_type": "display_data"
    },
    {
     "name": "stdout",
     "output_type": "stream",
     "text": [
      "Test for lr 1e-05 epoch 14: \n",
      "{'exact_match': 16.80672268907563, 'f1': 25.214735579943582}\n",
      "18.575847148895264\n",
      "Training with lr=1e-05 and epoch=15\n"
     ]
    },
    {
     "data": {
      "text/html": [
       "\n",
       "    <div>\n",
       "      \n",
       "      <progress value='69' max='69' style='width:300px; height:20px; vertical-align: middle;'></progress>\n",
       "      [69/69 00:34, Epoch 1/1]\n",
       "    </div>\n",
       "    <table border=\"1\" class=\"dataframe\">\n",
       "  <thead>\n",
       " <tr style=\"text-align: left;\">\n",
       "      <th>Step</th>\n",
       "      <th>Training Loss</th>\n",
       "    </tr>\n",
       "  </thead>\n",
       "  <tbody>\n",
       "  </tbody>\n",
       "</table><p>"
      ],
      "text/plain": [
       "<IPython.core.display.HTML object>"
      ]
     },
     "metadata": {},
     "output_type": "display_data"
    },
    {
     "data": {
      "text/html": [],
      "text/plain": [
       "<IPython.core.display.HTML object>"
      ]
     },
     "metadata": {},
     "output_type": "display_data"
    },
    {
     "data": {
      "application/vnd.jupyter.widget-view+json": {
       "model_id": "5e195f549e1f4cfb929247ce1ad04f45",
       "version_major": 2,
       "version_minor": 0
      },
      "text/plain": [
       "  0%|          | 0/119 [00:00<?, ?it/s]"
      ]
     },
     "metadata": {},
     "output_type": "display_data"
    },
    {
     "data": {
      "application/vnd.jupyter.widget-view+json": {
       "model_id": "63b90d7899d843aca37dc01f33b15bba",
       "version_major": 2,
       "version_minor": 0
      },
      "text/plain": [
       "Batches:   0%|          | 0/4 [00:00<?, ?it/s]"
      ]
     },
     "metadata": {},
     "output_type": "display_data"
    },
    {
     "data": {
      "application/vnd.jupyter.widget-view+json": {
       "model_id": "0d423a2fb12a41ca969e678804391d38",
       "version_major": 2,
       "version_minor": 0
      },
      "text/plain": [
       "Batches:   0%|          | 0/4 [00:00<?, ?it/s]"
      ]
     },
     "metadata": {},
     "output_type": "display_data"
    },
    {
     "name": "stdout",
     "output_type": "stream",
     "text": [
      "Validation for lr 1e-05 epoch 15: \n",
      "{'exact_match': 17.647058823529413, 'f1': 24.460557841674994}\n",
      "18.290412425994873\n"
     ]
    },
    {
     "data": {
      "text/html": [],
      "text/plain": [
       "<IPython.core.display.HTML object>"
      ]
     },
     "metadata": {},
     "output_type": "display_data"
    },
    {
     "data": {
      "application/vnd.jupyter.widget-view+json": {
       "model_id": "dd40fb768d204314b811172c46267d60",
       "version_major": 2,
       "version_minor": 0
      },
      "text/plain": [
       "  0%|          | 0/119 [00:00<?, ?it/s]"
      ]
     },
     "metadata": {},
     "output_type": "display_data"
    },
    {
     "data": {
      "application/vnd.jupyter.widget-view+json": {
       "model_id": "4466acd0ce02470c91ad98484b745237",
       "version_major": 2,
       "version_minor": 0
      },
      "text/plain": [
       "Batches:   0%|          | 0/4 [00:00<?, ?it/s]"
      ]
     },
     "metadata": {},
     "output_type": "display_data"
    },
    {
     "data": {
      "application/vnd.jupyter.widget-view+json": {
       "model_id": "b11e74c5e7ca400a8677a6ab3f5766f3",
       "version_major": 2,
       "version_minor": 0
      },
      "text/plain": [
       "Batches:   0%|          | 0/4 [00:00<?, ?it/s]"
      ]
     },
     "metadata": {},
     "output_type": "display_data"
    },
    {
     "name": "stdout",
     "output_type": "stream",
     "text": [
      "Test for lr 1e-05 epoch 15: \n",
      "{'exact_match': 19.327731092436974, 'f1': 28.59482064564407}\n",
      "18.56263279914856\n",
      "Training with lr=1e-05 and epoch=16\n"
     ]
    },
    {
     "data": {
      "text/html": [
       "\n",
       "    <div>\n",
       "      \n",
       "      <progress value='69' max='69' style='width:300px; height:20px; vertical-align: middle;'></progress>\n",
       "      [69/69 00:34, Epoch 1/1]\n",
       "    </div>\n",
       "    <table border=\"1\" class=\"dataframe\">\n",
       "  <thead>\n",
       " <tr style=\"text-align: left;\">\n",
       "      <th>Step</th>\n",
       "      <th>Training Loss</th>\n",
       "    </tr>\n",
       "  </thead>\n",
       "  <tbody>\n",
       "  </tbody>\n",
       "</table><p>"
      ],
      "text/plain": [
       "<IPython.core.display.HTML object>"
      ]
     },
     "metadata": {},
     "output_type": "display_data"
    },
    {
     "data": {
      "text/html": [],
      "text/plain": [
       "<IPython.core.display.HTML object>"
      ]
     },
     "metadata": {},
     "output_type": "display_data"
    },
    {
     "data": {
      "application/vnd.jupyter.widget-view+json": {
       "model_id": "395ac084f8b5478c8d3a77a8dd6ebaf5",
       "version_major": 2,
       "version_minor": 0
      },
      "text/plain": [
       "  0%|          | 0/119 [00:00<?, ?it/s]"
      ]
     },
     "metadata": {},
     "output_type": "display_data"
    },
    {
     "data": {
      "application/vnd.jupyter.widget-view+json": {
       "model_id": "5a3059a64ff74fbea4807d65ed392ec4",
       "version_major": 2,
       "version_minor": 0
      },
      "text/plain": [
       "Batches:   0%|          | 0/4 [00:00<?, ?it/s]"
      ]
     },
     "metadata": {},
     "output_type": "display_data"
    },
    {
     "data": {
      "application/vnd.jupyter.widget-view+json": {
       "model_id": "68f0100210ce42f186b20907e0eb099a",
       "version_major": 2,
       "version_minor": 0
      },
      "text/plain": [
       "Batches:   0%|          | 0/4 [00:00<?, ?it/s]"
      ]
     },
     "metadata": {},
     "output_type": "display_data"
    },
    {
     "name": "stdout",
     "output_type": "stream",
     "text": [
      "Validation for lr 1e-05 epoch 16: \n",
      "{'exact_match': 16.80672268907563, 'f1': 23.78150794117181}\n",
      "18.24500411748886\n"
     ]
    },
    {
     "data": {
      "text/html": [],
      "text/plain": [
       "<IPython.core.display.HTML object>"
      ]
     },
     "metadata": {},
     "output_type": "display_data"
    },
    {
     "data": {
      "application/vnd.jupyter.widget-view+json": {
       "model_id": "29a10fb2849b4b83a4fdf0d1091c99fb",
       "version_major": 2,
       "version_minor": 0
      },
      "text/plain": [
       "  0%|          | 0/119 [00:00<?, ?it/s]"
      ]
     },
     "metadata": {},
     "output_type": "display_data"
    },
    {
     "data": {
      "application/vnd.jupyter.widget-view+json": {
       "model_id": "00541b5e22124a73ad2bf0840c76f714",
       "version_major": 2,
       "version_minor": 0
      },
      "text/plain": [
       "Batches:   0%|          | 0/4 [00:00<?, ?it/s]"
      ]
     },
     "metadata": {},
     "output_type": "display_data"
    },
    {
     "data": {
      "application/vnd.jupyter.widget-view+json": {
       "model_id": "c8526cbb67cc4f33953592491687dfd4",
       "version_major": 2,
       "version_minor": 0
      },
      "text/plain": [
       "Batches:   0%|          | 0/4 [00:00<?, ?it/s]"
      ]
     },
     "metadata": {},
     "output_type": "display_data"
    },
    {
     "name": "stdout",
     "output_type": "stream",
     "text": [
      "Test for lr 1e-05 epoch 16: \n",
      "{'exact_match': 17.647058823529413, 'f1': 26.176697471803752}\n",
      "18.62567514181137\n"
     ]
    }
   ],
   "source": [
    "tet_loop(lr_list=[1e-4, 1e-3, 1e-5], epochs=16, batch_size=16)"
   ]
  },
  {
   "cell_type": "code",
   "execution_count": 17,
   "metadata": {
    "execution": {
     "iopub.execute_input": "2025-01-05T13:22:56.239581Z",
     "iopub.status.busy": "2025-01-05T13:22:56.239358Z",
     "iopub.status.idle": "2025-01-05T13:22:56.248718Z",
     "shell.execute_reply": "2025-01-05T13:22:56.248006Z",
     "shell.execute_reply.started": "2025-01-05T13:22:56.239561Z"
    },
    "trusted": true
   },
   "outputs": [],
   "source": [
    "output_metrics_to_file(all_models_eval)"
   ]
  },
  {
   "cell_type": "code",
   "execution_count": 18,
   "metadata": {
    "execution": {
     "iopub.execute_input": "2025-01-05T13:22:56.249705Z",
     "iopub.status.busy": "2025-01-05T13:22:56.249431Z",
     "iopub.status.idle": "2025-01-05T13:22:56.438071Z",
     "shell.execute_reply": "2025-01-05T13:22:56.436931Z",
     "shell.execute_reply.started": "2025-01-05T13:22:56.249686Z"
    },
    "trusted": true
   },
   "outputs": [
    {
     "name": "stdout",
     "output_type": "stream",
     "text": [
      "  adding: results/distilbert-multilingual-xquad.json (deflated 85%)\n"
     ]
    },
    {
     "name": "stderr",
     "output_type": "stream",
     "text": [
      "/usr/lib/python3.10/pty.py:89: RuntimeWarning: os.fork() was called. os.fork() is incompatible with multithreaded code, and JAX is multithreaded, so this will likely lead to a deadlock.\n",
      "  pid, fd = os.forkpty()\n"
     ]
    }
   ],
   "source": [
    "!zip results_ml.zip results/*.json"
   ]
  }
 ],
 "metadata": {
  "kaggle": {
   "accelerator": "gpu",
   "dataSources": [],
   "dockerImageVersionId": 30823,
   "isGpuEnabled": true,
   "isInternetEnabled": true,
   "language": "python",
   "sourceType": "notebook"
  },
  "kernelspec": {
   "display_name": "Python 3",
   "language": "python",
   "name": "python3"
  },
  "language_info": {
   "codemirror_mode": {
    "name": "ipython",
    "version": 3
   },
   "file_extension": ".py",
   "mimetype": "text/x-python",
   "name": "python",
   "nbconvert_exporter": "python",
   "pygments_lexer": "ipython3",
   "version": "3.10.12"
  }
 },
 "nbformat": 4,
 "nbformat_minor": 4
}
