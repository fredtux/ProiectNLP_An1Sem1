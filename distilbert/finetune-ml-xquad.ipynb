{
 "cells": [
  {
   "cell_type": "markdown",
   "metadata": {},
   "source": [
    "**References**\n",
    "\n",
    "[Tutorial: Working with Hugging Face Models and Datasets](https://github.com/anyuanay/medium/blob/main/src/working_huggingface/Working_with_HuggingFace_ch4_Fine_Tuning_Pretrained_Model_for_Question_Answering.ipynb)\n",
    "\n",
    "[Fine-Tuning-for-Question-Answering-SQuAD-IndoQA](https://github.com/PrasetyoWidyantoro/Fine-Tuning-for-Question-Answering-SQuAD-IndoQA/blob/master/fine-tune-squad-dataset.ipynb)"
   ]
  },
  {
   "cell_type": "markdown",
   "metadata": {},
   "source": [
    "# Import libraries"
   ]
  },
  {
   "cell_type": "code",
   "execution_count": 1,
   "metadata": {
    "execution": {
     "iopub.execute_input": "2025-01-05T07:27:25.309217Z",
     "iopub.status.busy": "2025-01-05T07:27:25.308909Z",
     "iopub.status.idle": "2025-01-05T07:27:29.969893Z",
     "shell.execute_reply": "2025-01-05T07:27:29.969011Z",
     "shell.execute_reply.started": "2025-01-05T07:27:25.309188Z"
    },
    "trusted": true
   },
   "outputs": [
    {
     "name": "stdout",
     "output_type": "stream",
     "text": [
      "Collecting evaluate\n",
      "  Downloading evaluate-0.4.3-py3-none-any.whl.metadata (9.2 kB)\n",
      "Requirement already satisfied: datasets>=2.0.0 in /usr/local/lib/python3.10/dist-packages (from evaluate) (3.2.0)\n",
      "Requirement already satisfied: numpy>=1.17 in /usr/local/lib/python3.10/dist-packages (from evaluate) (1.26.4)\n",
      "Requirement already satisfied: dill in /usr/local/lib/python3.10/dist-packages (from evaluate) (0.3.8)\n",
      "Requirement already satisfied: pandas in /usr/local/lib/python3.10/dist-packages (from evaluate) (2.1.4)\n",
      "Requirement already satisfied: requests>=2.19.0 in /usr/local/lib/python3.10/dist-packages (from evaluate) (2.32.3)\n",
      "Requirement already satisfied: tqdm>=4.62.1 in /usr/local/lib/python3.10/dist-packages (from evaluate) (4.66.5)\n",
      "Requirement already satisfied: xxhash in /usr/local/lib/python3.10/dist-packages (from evaluate) (3.5.0)\n",
      "Requirement already satisfied: multiprocess in /usr/local/lib/python3.10/dist-packages (from evaluate) (0.70.16)\n",
      "Requirement already satisfied: fsspec>=2021.05.0 in /usr/local/lib/python3.10/dist-packages (from fsspec[http]>=2021.05.0->evaluate) (2024.6.1)\n",
      "Requirement already satisfied: huggingface-hub>=0.7.0 in /usr/local/lib/python3.10/dist-packages (from evaluate) (0.24.7)\n",
      "Requirement already satisfied: packaging in /usr/local/lib/python3.10/dist-packages (from evaluate) (24.1)\n",
      "Requirement already satisfied: filelock in /usr/local/lib/python3.10/dist-packages (from datasets>=2.0.0->evaluate) (3.16.1)\n",
      "Requirement already satisfied: pyarrow>=15.0.0 in /usr/local/lib/python3.10/dist-packages (from datasets>=2.0.0->evaluate) (18.1.0)\n",
      "Requirement already satisfied: aiohttp in /usr/local/lib/python3.10/dist-packages (from datasets>=2.0.0->evaluate) (3.10.5)\n",
      "Requirement already satisfied: pyyaml>=5.1 in /usr/local/lib/python3.10/dist-packages (from datasets>=2.0.0->evaluate) (6.0.2)\n",
      "Requirement already satisfied: typing-extensions>=3.7.4.3 in /usr/local/lib/python3.10/dist-packages (from huggingface-hub>=0.7.0->evaluate) (4.12.2)\n",
      "Requirement already satisfied: charset-normalizer<4,>=2 in /usr/local/lib/python3.10/dist-packages (from requests>=2.19.0->evaluate) (3.3.2)\n",
      "Requirement already satisfied: idna<4,>=2.5 in /usr/local/lib/python3.10/dist-packages (from requests>=2.19.0->evaluate) (3.10)\n",
      "Requirement already satisfied: urllib3<3,>=1.21.1 in /usr/local/lib/python3.10/dist-packages (from requests>=2.19.0->evaluate) (2.2.3)\n",
      "Requirement already satisfied: certifi>=2017.4.17 in /usr/local/lib/python3.10/dist-packages (from requests>=2.19.0->evaluate) (2024.8.30)\n",
      "Requirement already satisfied: python-dateutil>=2.8.2 in /usr/local/lib/python3.10/dist-packages (from pandas->evaluate) (2.8.2)\n",
      "Requirement already satisfied: pytz>=2020.1 in /usr/local/lib/python3.10/dist-packages (from pandas->evaluate) (2024.2)\n",
      "Requirement already satisfied: tzdata>=2022.1 in /usr/local/lib/python3.10/dist-packages (from pandas->evaluate) (2024.1)\n",
      "Requirement already satisfied: aiohappyeyeballs>=2.3.0 in /usr/local/lib/python3.10/dist-packages (from aiohttp->datasets>=2.0.0->evaluate) (2.4.0)\n",
      "Requirement already satisfied: aiosignal>=1.1.2 in /usr/local/lib/python3.10/dist-packages (from aiohttp->datasets>=2.0.0->evaluate) (1.3.1)\n",
      "Requirement already satisfied: attrs>=17.3.0 in /usr/local/lib/python3.10/dist-packages (from aiohttp->datasets>=2.0.0->evaluate) (24.2.0)\n",
      "Requirement already satisfied: frozenlist>=1.1.1 in /usr/local/lib/python3.10/dist-packages (from aiohttp->datasets>=2.0.0->evaluate) (1.4.1)\n",
      "Requirement already satisfied: multidict<7.0,>=4.5 in /usr/local/lib/python3.10/dist-packages (from aiohttp->datasets>=2.0.0->evaluate) (6.1.0)\n",
      "Requirement already satisfied: yarl<2.0,>=1.0 in /usr/local/lib/python3.10/dist-packages (from aiohttp->datasets>=2.0.0->evaluate) (1.11.1)\n",
      "Requirement already satisfied: async-timeout<5.0,>=4.0 in /usr/local/lib/python3.10/dist-packages (from aiohttp->datasets>=2.0.0->evaluate) (4.0.3)\n",
      "Requirement already satisfied: six>=1.5 in /usr/local/lib/python3.10/dist-packages (from python-dateutil>=2.8.2->pandas->evaluate) (1.16.0)\n",
      "Downloading evaluate-0.4.3-py3-none-any.whl (84 kB)\n",
      "\u001b[2K   \u001b[90m━━━━━━━━━━━━━━━━━━━━━━━━━━━━━━━━━━━━━━━━\u001b[0m \u001b[32m84.0/84.0 kB\u001b[0m \u001b[31m2.8 MB/s\u001b[0m eta \u001b[36m0:00:00\u001b[0m\n",
      "\u001b[?25hInstalling collected packages: evaluate\n",
      "Successfully installed evaluate-0.4.3\n",
      "Note: you may need to restart the kernel to use updated packages.\n"
     ]
    }
   ],
   "source": [
    "%pip install evaluate sentence-transformers"
   ]
  },
  {
   "cell_type": "code",
   "execution_count": 2,
   "metadata": {
    "execution": {
     "iopub.execute_input": "2025-01-05T07:27:29.971547Z",
     "iopub.status.busy": "2025-01-05T07:27:29.971202Z",
     "iopub.status.idle": "2025-01-05T07:27:44.878817Z",
     "shell.execute_reply": "2025-01-05T07:27:44.878079Z",
     "shell.execute_reply.started": "2025-01-05T07:27:29.971517Z"
    },
    "trusted": true
   },
   "outputs": [],
   "source": [
    "from datasets import load_dataset, Dataset\n",
    "from transformers import AutoTokenizer, AutoModelForQuestionAnswering, TrainingArguments, Trainer\n",
    "from tqdm.auto import tqdm\n",
    "import evaluate\n",
    "import numpy as np\n",
    "import os\n",
    "import json\n",
    "from sentence_transformers import SentenceTransformer, util"
   ]
  },
  {
   "cell_type": "markdown",
   "metadata": {},
   "source": [
    "# Global variables"
   ]
  },
  {
   "cell_type": "code",
   "execution_count": 3,
   "metadata": {
    "execution": {
     "iopub.execute_input": "2025-01-05T07:27:44.881053Z",
     "iopub.status.busy": "2025-01-05T07:27:44.880568Z",
     "iopub.status.idle": "2025-01-05T07:27:44.884853Z",
     "shell.execute_reply": "2025-01-05T07:27:44.884028Z",
     "shell.execute_reply.started": "2025-01-05T07:27:44.881030Z"
    },
    "trusted": true
   },
   "outputs": [],
   "source": [
    "random_seed = 42\n",
    "\n",
    "kaggle = True\n",
    "\n",
    "model_name = \"distilbert-base-multilingual-cased\"\n",
    "model_short_name = \"distilbert-multilingual\"\n",
    "\n",
    "dataset_name = (\"xquad\", \"xquad.ro\")\n",
    "dataset_short_name = \"xquad\""
   ]
  },
  {
   "cell_type": "markdown",
   "metadata": {},
   "source": [
    "# Import model and tokenizer"
   ]
  },
  {
   "cell_type": "code",
   "execution_count": 4,
   "metadata": {
    "execution": {
     "iopub.execute_input": "2025-01-05T07:27:44.886517Z",
     "iopub.status.busy": "2025-01-05T07:27:44.886271Z",
     "iopub.status.idle": "2025-01-05T07:27:48.253507Z",
     "shell.execute_reply": "2025-01-05T07:27:48.252498Z",
     "shell.execute_reply.started": "2025-01-05T07:27:44.886467Z"
    },
    "trusted": true
   },
   "outputs": [
    {
     "data": {
      "application/vnd.jupyter.widget-view+json": {
       "model_id": "17188334a8964da99154c3113f9f5e70",
       "version_major": 2,
       "version_minor": 0
      },
      "text/plain": [
       "tokenizer_config.json:   0%|          | 0.00/49.0 [00:00<?, ?B/s]"
      ]
     },
     "metadata": {},
     "output_type": "display_data"
    },
    {
     "data": {
      "application/vnd.jupyter.widget-view+json": {
       "model_id": "3672153356324218b508bcee4c888974",
       "version_major": 2,
       "version_minor": 0
      },
      "text/plain": [
       "config.json:   0%|          | 0.00/466 [00:00<?, ?B/s]"
      ]
     },
     "metadata": {},
     "output_type": "display_data"
    },
    {
     "data": {
      "application/vnd.jupyter.widget-view+json": {
       "model_id": "cda216768512489e86cfaec748913fc0",
       "version_major": 2,
       "version_minor": 0
      },
      "text/plain": [
       "vocab.txt:   0%|          | 0.00/996k [00:00<?, ?B/s]"
      ]
     },
     "metadata": {},
     "output_type": "display_data"
    },
    {
     "data": {
      "application/vnd.jupyter.widget-view+json": {
       "model_id": "a8125978aeff47dc9a55167f989502dd",
       "version_major": 2,
       "version_minor": 0
      },
      "text/plain": [
       "tokenizer.json:   0%|          | 0.00/1.96M [00:00<?, ?B/s]"
      ]
     },
     "metadata": {},
     "output_type": "display_data"
    },
    {
     "name": "stderr",
     "output_type": "stream",
     "text": [
      "/usr/local/lib/python3.10/dist-packages/transformers/tokenization_utils_base.py:1601: FutureWarning: `clean_up_tokenization_spaces` was not set. It will be set to `True` by default. This behavior will be depracted in transformers v4.45, and will be then set to `False` by default. For more details check this issue: https://github.com/huggingface/transformers/issues/31884\n",
      "  warnings.warn(\n"
     ]
    }
   ],
   "source": [
    "tokenizer = AutoTokenizer.from_pretrained(model_name)\n",
    "# model = AutoModelForQuestionAnswering.from_pretrained(model_name)"
   ]
  },
  {
   "cell_type": "markdown",
   "metadata": {},
   "source": [
    "# Split the dataset into train, validation and test"
   ]
  },
  {
   "cell_type": "code",
   "execution_count": 5,
   "metadata": {
    "execution": {
     "iopub.execute_input": "2025-01-05T07:27:48.254672Z",
     "iopub.status.busy": "2025-01-05T07:27:48.254366Z",
     "iopub.status.idle": "2025-01-05T07:27:56.334602Z",
     "shell.execute_reply": "2025-01-05T07:27:56.333912Z",
     "shell.execute_reply.started": "2025-01-05T07:27:48.254635Z"
    },
    "trusted": true
   },
   "outputs": [
    {
     "data": {
      "application/vnd.jupyter.widget-view+json": {
       "model_id": "b990559a9b644de5a4ee0d73d9424e22",
       "version_major": 2,
       "version_minor": 0
      },
      "text/plain": [
       "README.md:   0%|          | 0.00/15.6k [00:00<?, ?B/s]"
      ]
     },
     "metadata": {},
     "output_type": "display_data"
    },
    {
     "data": {
      "application/vnd.jupyter.widget-view+json": {
       "model_id": "119c4548c3cb47b89049931655d9bb4c",
       "version_major": 2,
       "version_minor": 0
      },
      "text/plain": [
       "validation-00000-of-00001.parquet:   0%|          | 0.00/244k [00:00<?, ?B/s]"
      ]
     },
     "metadata": {},
     "output_type": "display_data"
    },
    {
     "data": {
      "application/vnd.jupyter.widget-view+json": {
       "model_id": "e5b020854ac5499d8dc3e85e110e3311",
       "version_major": 2,
       "version_minor": 0
      },
      "text/plain": [
       "Generating validation split:   0%|          | 0/1190 [00:00<?, ? examples/s]"
      ]
     },
     "metadata": {},
     "output_type": "display_data"
    },
    {
     "name": "stdout",
     "output_type": "stream",
     "text": [
      "952 119 119\n"
     ]
    }
   ],
   "source": [
    "ds = load_dataset(dataset_name[0], dataset_name[1])\n",
    "\n",
    "ds = ds['validation'].train_test_split(test_size=0.2)\n",
    "ds_train = ds['train']\n",
    "ds_test = ds['test']\n",
    "\n",
    "ds_test = ds_test.train_test_split(test_size=0.5)\n",
    "ds_val = ds_test['train']\n",
    "ds_test = ds_test['test']\n",
    "\n",
    "print(len(ds_train), len(ds_val), len(ds_test))"
   ]
  },
  {
   "cell_type": "markdown",
   "metadata": {},
   "source": [
    "# Process the dataset"
   ]
  },
  {
   "cell_type": "markdown",
   "metadata": {},
   "source": [
    "## Train dataset"
   ]
  },
  {
   "cell_type": "code",
   "execution_count": 6,
   "metadata": {
    "execution": {
     "iopub.execute_input": "2025-01-05T07:27:56.335543Z",
     "iopub.status.busy": "2025-01-05T07:27:56.335313Z",
     "iopub.status.idle": "2025-01-05T07:27:56.343983Z",
     "shell.execute_reply": "2025-01-05T07:27:56.343313Z",
     "shell.execute_reply.started": "2025-01-05T07:27:56.335523Z"
    },
    "trusted": true
   },
   "outputs": [],
   "source": [
    "def standardize(text: str):\n",
    "    return text\n",
    "    # return text.replace(\"ţ\", \"ț\").replace(\"ş\", \"ș\").replace(\"Ţ\", \"Ț\").replace(\"Ş\", \"Ș\")\n",
    "\n",
    "def process_and_tokenize(dataset: Dataset, tokenizer: AutoTokenizer) -> dict:\n",
    "    # Extract from the dataset and standardize where possible\n",
    "    questions = [standardize(q).strip() for q in dataset[\"question\"]]\n",
    "    contexts = [standardize(c) for c in dataset[\"context\"]]\n",
    "    answers = dataset[\"answers\"]\n",
    "    \n",
    "    \n",
    "    inputs = tokenizer(\n",
    "        questions,\n",
    "        contexts,\n",
    "        max_length=384,\n",
    "        truncation=\"only_second\",\n",
    "        stride=128,\n",
    "        return_overflowing_tokens=True,\n",
    "        return_offsets_mapping=True,\n",
    "        padding=\"max_length\",\n",
    "    )\n",
    "\n",
    "    sample_mapping = inputs[\"overflow_to_sample_mapping\"]\n",
    "    offset_mapping = inputs[\"offset_mapping\"]\n",
    "    \n",
    "    start_pos = []\n",
    "    end_pos = []\n",
    "\n",
    "    for i, ofs in enumerate(offset_mapping):\n",
    "        # Get the sample\n",
    "        sample_i = sample_mapping[i]\n",
    "        print(answers[sample_i][\"text\"])\n",
    "        \n",
    "        # Get the answer for the sample\n",
    "        max_i = 0\n",
    "        max_len = len(answers[sample_i][\"text\"][max_i])\n",
    "        for i in range(1, len(answers[sample_i]['text'])):\n",
    "            if len(answer[\"text\"][i]) > max_len:\n",
    "                max_len = len(answers[sample_i][\"text\"][i])\n",
    "                max_i = i\n",
    "        answer = contexts[sample_i].index(answers[sample_i][\"text\"][max_i])\n",
    "\n",
    "        \n",
    "        # Get the start and end character of the answer\n",
    "        start = answer\n",
    "        end = answer + len(answers[sample_i][\"text\"][0])\n",
    "        \n",
    "        # Get the sequence ids\n",
    "        seq_ids = inputs.sequence_ids(i)\n",
    "\n",
    "        # Get the start and end token positions\n",
    "        start_context = seq_ids.index(1)\n",
    "        end_context = next(j - 1 for j in range(start_context, len(seq_ids)) if seq_ids[j] != 1)\n",
    "\n",
    "        if ofs[start_context][0] > start or ofs[end_context][1] < end: # If it's impossible\n",
    "            start_pos.append(0)\n",
    "            end_pos.append(0)\n",
    "        else: # Get and append start and end position\n",
    "            start_pos.append(next((j - 1 for j in range(start_context, end_context + 1) if ofs[j][0] > start), end_context))\n",
    "            end_pos.append(next((j + 1 for j in range(end_context, start_context - 1, -1) if ofs[j][1] < end), start_context))\n",
    "            \n",
    "            # if i < len(dataset['id']) and dataset['id'][i] == '56d6f3500d65d21400198292':\n",
    "            #     print(start_context, end_context, end_pos[-1], end_pos[-1])\n",
    "\n",
    "    inputs[\"start_positions\"] = start_pos\n",
    "    inputs[\"end_positions\"] = end_pos\n",
    "        \n",
    "    inputs.pop(\"overflow_to_sample_mapping\")\n",
    "    inputs.pop(\"offset_mapping\")\n",
    "    \n",
    "    return inputs"
   ]
  },
  {
   "cell_type": "code",
   "execution_count": 7,
   "metadata": {
    "execution": {
     "iopub.execute_input": "2025-01-05T07:27:56.345172Z",
     "iopub.status.busy": "2025-01-05T07:27:56.344896Z",
     "iopub.status.idle": "2025-01-05T07:27:57.055063Z",
     "shell.execute_reply": "2025-01-05T07:27:57.054190Z",
     "shell.execute_reply.started": "2025-01-05T07:27:56.345144Z"
    },
    "trusted": true
   },
   "outputs": [
    {
     "data": {
      "application/vnd.jupyter.widget-view+json": {
       "model_id": "56b101dc5f044178a303e3c66d2c7f12",
       "version_major": 2,
       "version_minor": 0
      },
      "text/plain": [
       "Map:   0%|          | 0/952 [00:00<?, ? examples/s]"
      ]
     },
     "metadata": {},
     "output_type": "display_data"
    },
    {
     "name": "stdout",
     "output_type": "stream",
     "text": [
      "['2020']\n",
      "['1.160.000']\n",
      "['două']\n",
      "['două']\n",
      "['20–18']\n",
      "['Sud-Vestul Fresno']\n",
      "['Turnul Magdalen']\n",
      "['adăpost, asistență educațională, clinici medicale gratuite sau la tarife reduse, asistență legată de locuințe']\n",
      "['tripartită']\n",
      "['tripartită']\n",
      "['unsprezece']\n",
      "['1,1 × 1011']\n",
      "['Rinul Mijlociu']\n",
      "['nouă']\n",
      "['1986']\n",
      "['Regele Franței']\n",
      "['1950']\n",
      "['America de Nord']\n",
      "['Lexus']\n",
      "['Kawann Short']\n",
      "['Kawann Short']\n",
      "['traiectoria balistică']\n",
      "['traiectoria balistică']\n",
      "['ecartamentul de 1.600 mm (5 ft 3 in)']\n",
      "['Curții Supreme a Statelor Unite']\n",
      "['1970']\n",
      "['1970']\n",
      "['dovezi']\n",
      "['pentru viziuni luterane']\n",
      "['peste jumătate']\n",
      "['imunoglobulinele și receptorii de celule T']\n",
      "['iulie']\n",
      "['An Unearthly Child']\n",
      "['de jos']\n",
      "['șapte']\n",
      "['We Love TV']\n",
      "['We Love TV']\n",
      "['Comisie și Consiliu']\n",
      "['Comisie și Consiliu']\n",
      "['Comisie și Consiliu']\n",
      "['Comisie și Consiliu']\n",
      "['cameră de combustie']\n",
      "['mai mult de jumătate']\n",
      "['Gottfried Semper']\n",
      "['Grupul Operativ al Metodiștilor Uniți privind Avortul și Sexualitatea']\n",
      "['reducerea la jumătate a sărăciei']\n",
      "['Broncos']\n",
      "['constituției coloniale din 1855']\n",
      "['20 la 1']\n",
      "['tradiții culturale, obiceiuri sociale, credințe religioase']\n",
      "['Al-Muwaffaq']\n",
      "['Al-Muwaffaq']\n",
      "['Al-Muwaffaq']\n",
      "['antigenelor']\n",
      "['punctul']\n",
      "['Susan Foreman']\n",
      "['graficul crosa de hochei']\n",
      "['graficul crosa de hochei']\n",
      "['William Farel']\n",
      "['zece ani']\n",
      "['ministerele Guvernului Regatului Unit']\n",
      "['numărătoare inversă la lansare']\n",
      "['global']\n",
      "['de mai multe ori']\n",
      "['38']\n",
      "['aristocrație']\n",
      "['5 milioane de dolari în numerar']\n",
      "['5 milioane de dolari în numerar']\n",
      "['1971']\n",
      "['arabi suniți']\n",
      "['CBSE']\n",
      "['pășune pentru vite']\n",
      "['91%']\n",
      "['Ward']\n",
      "['Pons Aelius']\n",
      "['în vest']\n",
      "['Gandhi']\n",
      "['coerciție limitată']\n",
      "['nonviolent']\n",
      "['legea UE']\n",
      "['legea UE']\n",
      "['legea UE']\n",
      "['legea UE']\n",
      "['5,3 %']\n",
      "['Construirea']\n",
      "['carbonului conținut în vegetație']\n",
      "['miros ciudat în costume']\n",
      "['Pictish']\n",
      "['evenimente din viața lui']\n",
      "['Theodor Fontane']\n",
      "['Marlee Matlin']\n",
      "['1943']\n",
      "['oameni']\n",
      "['monofiletice']\n",
      "['8.8']\n",
      "['Guvernului Scoțian']\n",
      "['William E. Simon']\n",
      "['conjectura numerelor prime gemene']\n",
      "['școli independente']\n",
      "['Shen Kuo']\n",
      "['Harvard Yard']\n",
      "['Peyton Manning']\n",
      "['binar']\n",
      "['comitet']\n",
      "['Liga Engleză de Fotbal Premier League']\n",
      "['religia de politică']\n",
      "['evita cererile de zestre prohibitive']\n",
      "['construirea de clădiri, construcții civile și industriale, și contractanți comerciali de specialitate']\n",
      "['Bert Bolin']\n",
      "['George Stigler']\n",
      "['„O mașină care să pună capăt războiului”']\n",
      "['este în descreștere']\n",
      "['Aeroportul Van Nuys']\n",
      "['roman']\n",
      "['27-30%']\n",
      "['Josh Norman']\n",
      "['mai 2013']\n",
      "['1321 și 1323']\n",
      "['Percy Shelley']\n",
      "['adresă de destinație, adresă sursă, și numere de port']\n",
      "['specialităților care erau anterior separate']\n",
      "['să renască']\n",
      "['Ogród Saski']\n",
      "['temperaturi mai joase pe glob']\n",
      "['Boston']\n",
      "['Trypanosoma brucei']\n",
      "['Ferenc Deák']\n",
      "['Ferenc Deák']\n",
      "['Edictul din Fontainebleau']\n",
      "['individual']\n",
      "['sistemul său umoral']\n",
      "['Ligii Musulmane din Întreaga Indie']\n",
      "['New Holland']\n",
      "['Frontul Național Islamic']\n",
      "['carbonatul de sodiu și carbonatul de potasiu']\n",
      "['carbonatul de sodiu și carbonatul de potasiu']\n",
      "['carbonatul de sodiu și carbonatul de potasiu']\n",
      "['James Dewar']\n",
      "['1519']\n",
      "['Planet of Giants']\n",
      "['2011 și 2012']\n",
      "['Amazoneregenwoud']\n",
      "['patru']\n",
      "['1520']\n",
      "['Pedro Menéndez de Avilés']\n",
      "['28 februarie 2008']\n",
      "['hoteluri din New York']\n",
      "['Peyton Manning']\n",
      "['Partidul Național']\n",
      "['1.345.596']\n",
      "['Universitatea Northumbria']\n",
      "['sfârșitul anilor 1980']\n",
      "['New England Patriots']\n",
      "['cinci milioane']\n",
      "['Westminster']\n",
      "['1998']\n",
      "['1185']\n",
      "['evoluția limbii și literaturii germane']\n",
      "['firme care gestionează proiecte de construcții fără a-și asuma vreo răspundere financiară directă pentru finalizarea proiectului de construire']\n",
      "['Hoesung Lee']\n",
      "['doar farmaciștii']\n",
      "['587.000']\n",
      "['sindicate']\n",
      "['bacteriile anaerobe']\n",
      "['„aplicarea deficitară a procedurilor IPCC bine stabilite în acest caz”']\n",
      "['Vicepreședintele Executiv pentru Operațiuni de Fotbal și Managerul General']\n",
      "['catolicismului']\n",
      "['Fortului Caroline']\n",
      "['cortizolul și catecolaminele']\n",
      "['Trevor Martin']\n",
      "['Edinburgh']\n",
      "['230 milioane $']\n",
      "['corupției în sectorul public']\n",
      "['3600 rotații pe minut']\n",
      "['3600 rotații pe minut']\n",
      "['2005']\n",
      "['nu pot iniția legi împotriva dorințelor Comisiei']\n",
      "['nu pot iniția legi împotriva dorințelor Comisiei']\n",
      "['nu pot iniția legi împotriva dorințelor Comisiei']\n",
      "['nu pot iniția legi împotriva dorințelor Comisiei']\n",
      "['1997']\n",
      "['guvernele incompetente, ineficiente și neglijente']\n",
      "['MLB']\n",
      "['școala de Administrare a Serviciilor Sociale']\n",
      "['școala de Administrare a Serviciilor Sociale']\n",
      "['pe suprafața pământului']\n",
      "['pe suprafața pământului']\n",
      "['30']\n",
      "['Un avocat']\n",
      "['Rolul principal']\n",
      "['forța electrostatică']\n",
      "['1935']\n",
      "['perioada de mijloc a Cambrianului']\n",
      "['perioada de mijloc a Cambrianului']\n",
      "['China, Japonia și Coreea']\n",
      "['China, Japonia și Coreea']\n",
      "['1981']\n",
      "['Gandhi']\n",
      "['308']\n",
      "['308']\n",
      "['1940']\n",
      "['1940']\n",
      "['botanică și chimie']\n",
      "['botanică și chimie']\n",
      "['botanică și chimie']\n",
      "['Uraganul Dora']\n",
      "['Uraganul Dora']\n",
      "['cili rigidizați']\n",
      "['cili rigidizați']\n",
      "['tablou']\n",
      "['Partidul Muncii din Australia (ALP)']\n",
      "['durere fizică']\n",
      "['principiu local-global']\n",
      "['numere întregi']\n",
      "['forțelor de poliție și armate']\n",
      "['Persia']\n",
      "['120 m']\n",
      "['HIV']\n",
      "['hidrocarburi']\n",
      "['metropolitană internațională']\n",
      "['Ismail El Gizouli']\n",
      "['autoimunitatea']\n",
      "['număr compus']\n",
      "['Muzeul Producătorilor']\n",
      "['27 ianuarie 1967']\n",
      "['statele și guvernele']\n",
      "['2000']\n",
      "['zece']\n",
      "['2014']\n",
      "['Anderson']\n",
      "['Partidul Liberal']\n",
      "['Ward']\n",
      "['Teorema fundamentală a aritmeticii']\n",
      "['șase']\n",
      "['Tulku']\n",
      "['Eero Saarinen']\n",
      "['Eero Saarinen']\n",
      "['lucruri care reprezintă o chestiune de obișnuință sau așteptări']\n",
      "['tiroida Hashimoto']\n",
      "['turcilor Seljuk']\n",
      "['mișcarea de cumpătare']\n",
      "['139']\n",
      "['Rin-Meuse']\n",
      "['1943']\n",
      "['cuaternară']\n",
      "['Nafzger']\n",
      "['un număr de calificări']\n",
      "['condamnat drept idolatrie']\n",
      "['între 2005 și 2010']\n",
      "['sudul']\n",
      "['Generalul-Maior Louis-Joseph de Montcalm']\n",
      "['Directiva Comitetului de Întreprindere']\n",
      "['suburbane']\n",
      "['primalitate']\n",
      "['trei']\n",
      "['trei']\n",
      "['situației sale financiare dezastruoase']\n",
      "['recâștige autoritatea asupra poporului său. Aceștia tindeau să îi sprijine pe francezi, cu care aveau de multă vreme relații comerciale']\n",
      "['Lothar de Maizière']\n",
      "['Henry David Thoreau']\n",
      "['Rev. Paul T. Stallsworth']\n",
      "['Universitatea Newcastle']\n",
      "['martie']\n",
      "['proiecte de dezvoltare la scară largă']\n",
      "['moara de praf de pușcă Eleutherian Mills']\n",
      "['1946']\n",
      "['îngrijorare']\n",
      "['puterii subtile']\n",
      "['Guglielmo Marconi']\n",
      "['sărăcia, lipsa accesului la educație și instituțiile guvernamentale fără putere']\n",
      "['Timucua']\n",
      "['25']\n",
      "['25']\n",
      "['Satyagraha']\n",
      "['profesionale']\n",
      "['eucariotă']\n",
      "['tentacule']\n",
      "['Parlamentul Scoțian']\n",
      "['1991']\n",
      "['1991']\n",
      "['boli autoimune']\n",
      "['patru']\n",
      "['patru']\n",
      "['Luke Kuechly']\n",
      "['Luke Kuechly']\n",
      "['cresc semnificativ concentrațiile atmosferice']\n",
      "['sigla circulară']\n",
      "['maghiarii']\n",
      "['maghiarii']\n",
      "['sume conectate a unor noduri prime']\n",
      "['publicații în limba germană']\n",
      "['Tratatul de la Roma din 1957 și Tratatul de la Maastricht din 1992 (în prezent: TFEU)']\n",
      "['majoritate de două treimi']\n",
      "['majoritate de două treimi']\n",
      "['majoritate de două treimi']\n",
      "['majoritate de două treimi']\n",
      "['aprilie 1991']\n",
      "['cinci până la zece ani']\n",
      "['1913']\n",
      "['Broncos']\n",
      "['Subdiviziunea izolată']\n",
      "['blocarea porților cu lacăte']\n",
      "['1263']\n",
      "['regenerare']\n",
      "['plastom']\n",
      "['celulele citotoxice Natural Killer și CTLs (limfocite T citotoxice)']\n",
      "['o formă de antrax']\n",
      "['o formă de antrax']\n",
      "['John Wesley']\n",
      "['medicamente citotoxice sau imunosupresive']\n",
      "['politic']\n",
      "['8.646 mile pătrate']\n",
      "['Peyton Manning']\n",
      "['Lady Gaga']\n",
      "['2005']\n",
      "['sistem formal']\n",
      "['matricele adiacente']\n",
      "['Universitatea Anului în clasamentul Sunday Times']\n",
      "['DVB-S2']\n",
      "['Piața Măcelarului']\n",
      "['£30m']\n",
      "['informații complete de adresare']\n",
      "['două membrane lipidice dublu stratificate interioare']\n",
      "['patru']\n",
      "['patru']\n",
      "['Iranul']\n",
      "['Hassan al-Turabi']\n",
      "['Edsen Khoroo']\n",
      "['Două diferențe fundamentale includeau împărțirea funcțiilor și a sarcinilor între gazdele de la marginea rețelei și cele din centrul rețelei']\n",
      "['exod al albilor']\n",
      "['500.000']\n",
      "['9000 BP']\n",
      "['Tensorul de stres']\n",
      "['San Mateo']\n",
      "['1500 și 1850']\n",
      "['haine de corp cu răcire cu apă']\n",
      "['Defileul Rinului']\n",
      "['18 mai 1756']\n",
      "['rețetele pacienților și siguranța pacientului']\n",
      "['Baiju']\n",
      "['devine mai mică']\n",
      "['1962']\n",
      "['Venom']\n",
      "['nu există o cameră pentru revizuiri']\n",
      "['două treimi din populație']\n",
      "['22']\n",
      "['o dată la cinci ani']\n",
      "['o dată la cinci ani']\n",
      "['o dată la cinci ani']\n",
      "['o dată la cinci ani']\n",
      "['incendiu electric']\n",
      "['alb și negru']\n",
      "['sudura oxiacetilenică']\n",
      "['Dynasty']\n",
      "['Dallas']\n",
      "['515 milioane de ani']\n",
      "['fără echipaj uman']\n",
      "['recunoașterea']\n",
      "['1985']\n",
      "['Flung to the Heedless Winds']\n",
      "['12-lea']\n",
      "['Faptul că ciuma a fost provocată de aerul rău']\n",
      "['11.600 BP']\n",
      "['Charles Darwin']\n",
      "['Zona de Vest']\n",
      "['zonele montane']\n",
      "['2000']\n",
      "['The Hay Wain']\n",
      "['The Hay Wain']\n",
      "['Marlee Matlin']\n",
      "['patru']\n",
      "['patru']\n",
      "['ABC-DuMont']\n",
      "['prezența unui bărbat']\n",
      "['minimal sau indecompozabil']\n",
      "['New England Patriots']\n",
      "['solidaritate']\n",
      "['William Braț de Fier']\n",
      "['Abu al-Qasim al-Zahrawi']\n",
      "['Abu al-Qasim al-Zahrawi']\n",
      "['Abu al-Qasim al-Zahrawi']\n",
      "['MPEG-4']\n",
      "['2007']\n",
      "['515 milioane de ani']\n",
      "['Gandhi']\n",
      "['registrul Consiliului Farmaceutic General']\n",
      "['revizii ale regimului de medicamente']\n",
      "['Eurobird-ul Eutelsat 1']\n",
      "['consultarea forței de muncă în întreprinderi']\n",
      "['1960 și 1970']\n",
      "['soia']\n",
      "['Satya Nadella']\n",
      "['pădure umedă cu frunze largi']\n",
      "['la un nivel profund']\n",
      "['linii cu ecartament îngust de 760 mm (2 ft 6 in)']\n",
      "['Bryan Davies']\n",
      "['tentilla']\n",
      "['tentilla']\n",
      "['private tradiționale']\n",
      "['Tesla']\n",
      "['Teoria Pământului']\n",
      "['proiecte de lege private']\n",
      "['pentru coordonarea consecințelor embargo-ului']\n",
      "['John Elway']\n",
      "['Cel de-al Unsprezecelea Doctor']\n",
      "['camere de oxigen']\n",
      "['formele nedrepte de autoritate']\n",
      "['șapte ani']\n",
      "['șapte ani']\n",
      "['1944']\n",
      "['realitățile pieței și pe cele tehnologice']\n",
      "['1891']\n",
      "['1908']\n",
      "['presupune că nu ar fi egale']\n",
      "['Afranji']\n",
      "['geografie imaginativă']\n",
      "['Protocolul Datagramelor Utilizator']\n",
      "['100–150']\n",
      "['100–150']\n",
      "['Tesla Electric Light & Manufacturing']\n",
      "['Nesupunerea civilă revoluționară']\n",
      "['Nesupunerea civilă revoluționară']\n",
      "['Protocolul de la Montreal']\n",
      "['Annam']\n",
      "['Annam']\n",
      "['English Heritage']\n",
      "['rareori']\n",
      "['majoritatea electoratului']\n",
      "['aerul condiționat']\n",
      "['Curții Europene a Drepturilor Omului']\n",
      "['Curții Europene a Drepturilor Omului']\n",
      "['Manned Spacecraft Center (Centrul pentru nave spațiale cu echipaj uman la bord)']\n",
      "['anarhiștii']\n",
      "['New England Patriots']\n",
      "['puterea civilă, militară și de cenzură']\n",
      "['puterea civilă, militară și de cenzură']\n",
      "['stratigrafii']\n",
      "['aproximativ un milion de ani']\n",
      "[', fără a se distruge legitimitatea istorică']\n",
      "['chișcarul și mixina']\n",
      "['24']\n",
      "['24']\n",
      "['contract de „proiectare-execuție”']\n",
      "['Utilitatea Banilor']\n",
      "['s-a realizat o conexiune interactivă gazdă-gazdă între sistemele de calculatoare cu mare putere de calcul IBM ale Universității Michigan din Anna Arbor și Universitatea de Stat Wayne']\n",
      "['s-a realizat o conexiune interactivă gazdă-gazdă între sistemele de calculatoare cu mare putere de calcul IBM ale Universității Michigan din Anna Arbor și Universitatea de Stat Wayne']\n",
      "['înainte de Primul Război Mondial']\n",
      "['purtător de piepteni']\n",
      "['Troika Design Group']\n",
      "['Drogo']\n",
      "['1900']\n",
      "['trei']\n",
      "['Principiul succesiunii faunelor']\n",
      "['John Elway']\n",
      "['Bătălia de la Dalan Balzhut']\n",
      "['Bătălia de la Dalan Balzhut']\n",
      "['cili']\n",
      "['limitarea cererii agregate']\n",
      "['51,6%']\n",
      "['Patrulaterele Principale']\n",
      "['Aeroportul Internațional Los Angeles']\n",
      "['Mork & Mindy']\n",
      "['Mork & Mindy']\n",
      "['corpurilor lor moi, gelatinoase']\n",
      "['corpurilor lor moi, gelatinoase']\n",
      "['Brown vs. Consiliul de Educație al Topeka']\n",
      "['Newton']\n",
      "['britanici']\n",
      "['NFL']\n",
      "['până la sfârșitul mandatului actual sau dacă oricare dintre partide se retrăgea din acord înainte de acea dată']\n",
      "['1950']\n",
      "['Ciuma din Italia']\n",
      "['notație binară']\n",
      "['Oursel']\n",
      "['forțe electromagnetice unificate']\n",
      "['ADNct sau ADNcp']\n",
      "['Edison']\n",
      "['înregistrări cu cinescop']\n",
      "['Josh Norman']\n",
      "['M. Theo Kearney']\n",
      "['între 30 și 50 de mii']\n",
      "['18%']\n",
      "['25']\n",
      "['25']\n",
      "['Groenlanda']\n",
      "['o dată la cinci ani']\n",
      "['o dată la cinci ani']\n",
      "['o dată la cinci ani']\n",
      "['o dată la cinci ani']\n",
      "['proprietarului']\n",
      "['Frederick W. Mote']\n",
      "['teoriei flogisticului referitoare la combustie și coroziune']\n",
      "['nu fie condamnați la închisoare']\n",
      "['personal medical calificat']\n",
      "['Hmong sau Laos']\n",
      "['două']\n",
      "['Doctor Who – The Ultimate Adventure']\n",
      "['Comisia']\n",
      "['Comisia']\n",
      "['Comisia']\n",
      "['Comisia']\n",
      "['Clasificarea Standard a Industriei și recentul Sistem Nord-American de Clasificare a Industriei']\n",
      "['Iranul']\n",
      "['24']\n",
      "['24']\n",
      "['Ford']\n",
      "['lucrarea sa a fost publicată prima']\n",
      "['1.388']\n",
      "['Michael E. Mann, Raymond S. Bradley, și Malcolm K. Hughes']\n",
      "['Michael E. Mann, Raymond S. Bradley, și Malcolm K. Hughes']\n",
      "['OpenTV']\n",
      "['2015']\n",
      "['2015']\n",
      "['aziluri pentru bătrâni']\n",
      "['Ban Ki-moon']\n",
      "['12%']\n",
      "['cinci']\n",
      "['programe de calculator']\n",
      "['11']\n",
      "['complex']\n",
      "['separat de cea de medic']\n",
      "['blocarea porților cu lacăte']\n",
      "['Pilot Modul Lunar']\n",
      "['creșterea numărului de așezări și a defrișărilor']\n",
      "['Strada Fresno și Bulevardul Thorne']\n",
      "['una dintre cele mai obișnuite']\n",
      "['întrucât legea națională era din anul 1962, iar tratatul a intrat în vigoare în anul 1958, cererea lui Costa nu era fondată']\n",
      "['întrucât legea națională era din anul 1962, iar tratatul a intrat în vigoare în anul 1958, cererea lui Costa nu era fondată']\n",
      "['întrucât legea națională era din anul 1962, iar tratatul a intrat în vigoare în anul 1958, cererea lui Costa nu era fondată']\n",
      "['întrucât legea națională era din anul 1962, iar tratatul a intrat în vigoare în anul 1958, cererea lui Costa nu era fondată']\n",
      "['districte sau powiat']\n",
      "['Râul Tyne']\n",
      "['ciclosporina']\n",
      "['Africii']\n",
      "['Marea Japoniei']\n",
      "['2008']\n",
      "['2008']\n",
      "['calea acțiunii militare']\n",
      "['Generalul-Maior James Abercrombie']\n",
      "['timp']\n",
      "['Bennie Fowler']\n",
      "['Eugene Fama']\n",
      "['~74.000 (BP = Before Present [înainte de prezent])']\n",
      "['erau standarde deschise cu specificații publicate, iar pe lângă DEC s-au dezvoltat mai multe implementări, inclusiv una pentru Linux']\n",
      "['Expoziției din Londra']\n",
      "['creșterii rapide a populației și a traficului în orașele de pe marginea șoselei Secundare 99, precum și a dorinței de finanțare federală']\n",
      "['de zece ori mai mult decât greutatea proprie']\n",
      "['de zece ori mai mult decât greutatea proprie']\n",
      "['volumul de pasageri']\n",
      "[', cu scopul de a contribui la dezvoltarea educațională și economică a statului']\n",
      "[', cu scopul de a contribui la dezvoltarea educațională și economică a statului']\n",
      "['un consorțiu de rețele de calculatoare, nu pentru profit, din Statele Unite condus de membri ai comunităților de cercetare și educație, industrie, și guvern']\n",
      "['carcasa turbinei']\n",
      "['carcasa turbinei']\n",
      "['a urcat']\n",
      "['1996']\n",
      "['56,2%']\n",
      "['înființarea unei Comisii de Etică și Anticorupție noi și independente']\n",
      "['Doctor Who and the Daleks in the Seven Keys to Doomsday']\n",
      "['Jones et al. 1998, Pollack, Huang & Shen 1998, Crowley & Lowery 2000 și Briffa 2000']\n",
      "['Jones et al. 1998, Pollack, Huang & Shen 1998, Crowley & Lowery 2000 și Briffa 2000']\n",
      "['susținătorii săi']\n",
      "['transportul, canalizarea, deșeurile periculoase și apa']\n",
      "['peste 37 de milioane']\n",
      "['global']\n",
      "['politici']\n",
      "['118']\n",
      "['118']\n",
      "['șase']\n",
      "['1936']\n",
      "['ramuri genetice']\n",
      "['ramuri genetice']\n",
      "['1999']\n",
      "['1999']\n",
      "['treilea']\n",
      "['companii complet diferite']\n",
      "['califat']\n",
      "['ctene']\n",
      "['boala']\n",
      "['funcționarea unui sistem']\n",
      "['110 mile/h']\n",
      "['110 mile/h']\n",
      "['136']\n",
      "['136']\n",
      "['Milton Friedman']\n",
      "['1788']\n",
      "['palmieri înalți']\n",
      "['Grissom, White, și Chaffee']\n",
      "['nu încalcă drepturile celorlalți']\n",
      "['puterea deținută de fiecare partid în parlament']\n",
      "['campusul Universității din Chicago']\n",
      "['Președintele Statelor Unite Barack Obama']\n",
      "['100–150']\n",
      "['100–150']\n",
      "['1654']\n",
      "['două']\n",
      "['Los Angeles Kings']\n",
      "['data']\n",
      "['negru și galben']\n",
      "['râului St. Johns']\n",
      "['meduză pieptene']\n",
      "['meduză pieptene']\n",
      "['Welfare Cash Card (Card de ajutor social)']\n",
      "['condiții de depozitare, texte obligatorii, echipamente, etc.']\n",
      "['ABC on Demand']\n",
      "['ABC on Demand']\n",
      "['școlarizare']\n",
      "['Abilene']\n",
      "['autostrăzilor']\n",
      "['Grădina Saxonă']\n",
      "['Marea Britanie']\n",
      "['În sistemul virtual de apelare, rețeaua asigură o livrare secvențială a informației la gazdă']\n",
      "['camera de altitudine']\n",
      "['Embargoul']\n",
      "['Bătălia de la Jumonville Glen']\n",
      "['adesea dăunător']\n",
      "['Dovedirea faptului că oricare dintre aceste clase este inegală']\n",
      "['HIV/SIDA']\n",
      "['20']\n",
      "['20']\n",
      "['24']\n",
      "['schimbărilor climatice']\n",
      "['Curtea de Justiție']\n",
      "['Curtea de Justiție']\n",
      "['Curtea de Justiție']\n",
      "['Curtea de Justiție']\n",
      "['John Elway']\n",
      "['orientalismului']\n",
      "['Ducele Kent-Brown']\n",
      "['Premiile Academiei Americane de Film']\n",
      "['1279']\n",
      "['2014']\n",
      "['orice obiect se poate descompune, în general în mod unic, între componentele sale prime']\n",
      "['gestionare a departamentului farmaceutic și a zonelor de specialitate din practica farmaceutică']\n",
      "['șoseaua Secundară 99']\n",
      "['un pod']\n",
      "['esențiale']\n",
      "['aristocrația tradițională mongolă']\n",
      "['aristocrația tradițională mongolă']\n",
      "['regiunea arctică']\n",
      "['New England Patriots']\n",
      "['mult mai mari']\n",
      "['comitete']\n",
      "['poziția sa dominantă la probele de atletism pe distanță medie și lungă']\n",
      "['patru']\n",
      "['Newton']\n",
      "['Amazonul reprezintă peste jumătate din pădurile tropicale rămase ale planetei']\n",
      "['John C. Messenger']\n",
      "['comuna']\n",
      "['crichet, raliu, fotbal, rugby, și box']\n",
      "['auto']\n",
      "['Charles Richard']\n",
      "['1954']\n",
      "['1795']\n",
      "['dezghețe']\n",
      "['17']\n",
      "['multe dintre genele sale au fost pierdute sau transferate în nucleul gazdei']\n",
      "['Virgin Media']\n",
      "['Legea Constituției Victoriene din 1855']\n",
      "['timpurie']\n",
      "['1964 și 1968']\n",
      "['1964 și 1968']\n",
      "['1964 și 1968']\n",
      "['1964 și 1968']\n",
      "['discuri statice']\n",
      "['discuri statice']\n",
      "['educarea la scara largă']\n",
      "['ABC']\n",
      "['cinci']\n",
      "['LA Galaxy']\n",
      "['Jon Corzine']\n",
      "['9 și 18 ani']\n",
      "['Reconstrucția gândirii religioase în islam']\n",
      "['„irațional și înapoiat”']\n",
      "['Pădurea Amazoniană']\n",
      "['comprimă cea mai recentă eră']\n",
      "['1985']\n",
      "['vest']\n",
      "['China']\n",
      "['Ögedei Han']\n",
      "['două']\n",
      "['angajează farmaciști consultanți și/sau oferă servicii de consultanță']\n",
      "['1937']\n",
      "['Percy Shelley']\n",
      "['trei']\n",
      "['7.000.000 kilometri pătrați (2.700.000 mile pătrate)']\n",
      "['No Child Left Behind (Nu lăsăm niciun copil în urmă)']\n",
      "['New South Wales']\n",
      "['nouăsprezece']\n",
      "['face ca anumite legi să devină ineficiente']\n",
      "['finanțeze']\n",
      "['substanțe combustibile în ardere']\n",
      "['1993']\n",
      "['cercetător nebun']\n",
      "['n2 + 1']\n",
      "['Rin']\n",
      "['13.000 BP']\n",
      "['Cracovia']\n",
      "['Fort Caroline']\n",
      "['Polonia Varșovia']\n",
      "['serviciului militar']\n",
      "['Partidul Verde']\n",
      "['Onggirat']\n",
      "['Gegeen Han']\n",
      "['Partidul Popular European']\n",
      "['Partidul Popular European']\n",
      "['Partidul Popular European']\n",
      "['Partidul Popular European']\n",
      "['39']\n",
      "['Brevetele sale']\n",
      "['tentilla']\n",
      "['tentilla']\n",
      "['discipolilor săi']\n",
      "['între P și PSPACE']\n",
      "['Nicholas E. Golovin']\n",
      "['asfixiat']\n",
      "['Brazilia']\n",
      "['100–150 specii']\n",
      "['100–150 specii']\n",
      "['bibliei']\n",
      "['școlile alternative (charter schools)']\n",
      "['linia cloroplastelor verzi']\n",
      "['castele și podgorii']\n",
      "['coloblaste']\n",
      "['coloblaste']\n",
      "['mare parte din secolul al nouăsprezecelea']\n",
      "['șase ani']\n",
      "['mijloc de deplasare']\n",
      "['Isaac Newton']\n",
      "['Isaac Newton']\n",
      "['albi']\n",
      "['Rinul Mijlociu']\n",
      "['cili rigidizați']\n",
      "['cili rigidizați']\n",
      "['perechi de numere prime care diferă între ele cu o valoare de 2']\n",
      "['variație antigenică']\n",
      "['Mickey Smith (Noel Clarke) și Jack Harkness (John Barrowman)']\n",
      "['cred în validitatea contractului social']\n",
      "['metotrexatul sau azatioprina']\n",
      "['nu']\n",
      "['lichidul de lucru']\n",
      "['Testul de primalitate AKS']\n",
      "['s-au căsătorit adesea în afara comunităților franceze din imediata lor vecinătate']\n",
      "['Hadrian']\n",
      "['Canalul Mânecii']\n",
      "['MPEG-2 compatibil DVB']\n",
      "['Marea Caspică']\n",
      "['sindicate']\n",
      "['Jean Cauvin']\n",
      "['guvernul uniunii']\n",
      "['reguli comune pentru cărbune și oțel și ulterior pentru energia atomică']\n",
      "['reguli comune pentru cărbune și oțel și ulterior pentru energia atomică']\n",
      "['ceruri']\n",
      "['39']\n",
      "['interzicerea']\n",
      "['islamul']\n",
      "['fie judecați de un judecător']\n",
      "['multicultural']\n",
      "['școala Ortogenică Sonia Shankman']\n",
      "['Kurt Coleman']\n",
      "['Kurt Coleman']\n",
      "['Scara Saffir-Simpson']\n",
      "['Scara Saffir-Simpson']\n",
      "['Majoritatea țărilor vestice']\n",
      "['Thomas Piketty']\n",
      "['Zona Medicală și Academică Longwood']\n",
      "['Ordin al Conferinței Anuale a Diaconilor']\n",
      "['problemelor computaționale']\n",
      "['războiului']\n",
      "['Jochi']\n",
      "['rezervate']\n",
      "['Rinul romantic']\n",
      "['Boala de decompresie']\n",
      "['55,1%']\n",
      "['o platformă de satelit']\n",
      "['termeni de presiune']\n",
      "['17 secunde']\n",
      "['un parteneriat cu Level 3 Communications pentru lansarea unei noi rețele naționale']\n",
      "['Hulagu Khan']\n",
      "['Super Bowl XXXIII']\n",
      "['școlii Harris pentru Studiul Politicilor Publice']\n",
      "['școlii Harris pentru Studiul Politicilor Publice']\n",
      "['islamice']\n",
      "['Parlamentul Victoriei']\n",
      "['cea mai mică submulțime']\n",
      "['Regiunea Graniței Sudice']\n",
      "['1970']\n",
      "['numeroși canadieni, inclusiv pe comandantul acestora, Joseph Coulon de Jumonville']\n",
      "['școlile de Laborator ale Universității din Chicago']\n",
      "['Cuaternarul']\n",
      "['390']\n",
      "['anului 1521']\n",
      "['Conjectura lui Polignac']\n",
      "['a instalat sisteme de iluminat pe bază de arc electric']\n",
      "['Niciuna']\n",
      "['Niciuna']\n",
      "['setul de triplete']\n",
      "['Districtul Inferior Norfolk']\n",
      "['José María Figueres']\n",
      "['Germania']\n",
      "['Merkit']\n",
      "['agricultură']\n",
      "['711.988']\n",
      "['sute']\n",
      "['receptori limfocitari variabili']\n",
      "['cloroplast derivat din algele verzi']\n",
      "['James Hutton']\n",
      "['când Germania a început să își clădească propriul imperiu colonial']\n",
      "['Charles']\n",
      "['2018']\n",
      "['Dolby Digital']\n",
      "['autostrăzilor']\n",
      "['Autostrada Sierra']\n",
      "['șoseaua Secundară 99']\n",
      "['1972']\n",
      "['peste 18 ani']\n",
      "['1886']\n",
      "['linia cloroplastelor algelor roșii']\n",
      "['strada Konwiktorska']\n",
      "['Millingen aan de Rijn']\n",
      "['forma o,Galerie Națională de Artă Britanică’']\n",
      "['Imunologia']\n",
      "['alegerii Partidului Laburist din Regatul Unit la guvernare']\n",
      "['trăiau în sărăcie și erau rău tratați']\n",
      "['1895']\n",
      "['Pământul trebuie să fie mult mai bătrân decât s-a presupus anterior']\n",
      "['Jacques Lefevre']\n",
      "['63%']\n",
      "['îngreunează funcționarea unui sistem']\n",
      "['eșuat']\n",
      "['ultima declarație']\n",
      "['10%']\n",
      "['fagozomale']\n",
      "['planificare, [adăugați citarea] proiectare și finanțare']\n",
      "['Dudley Simpson']\n",
      "['2017']\n",
      "['instituțiile comprehensive ale Marelui Yuan']\n",
      "['feminin']\n",
      "['1901']\n",
      "['îndoielnice']\n",
      "['Statele Unite']\n",
      "['6 octombrie 1973']\n",
      "['de unificare']\n",
      "['de unificare']\n",
      "['mulți bătrâni iau acum numeroase medicamente, însă continuă să locuiască în afara mediilor instituționale']\n",
      "['un fel de „otrăvire a sângelui']\n",
      "['un fel de „otrăvire a sângelui']\n",
      "['Nesupunerea civilă nerevoluționară']\n",
      "['două']\n",
      "['David Banks']\n",
      "['Parlamentul European și Consiliul Uniunii Europene']\n",
      "['Parlamentul European și Consiliul Uniunii Europene']\n",
      "['Parlamentul European și Consiliul Uniunii Europene']\n",
      "['Parlamentul European și Consiliul Uniunii Europene']\n",
      "['legitimitatea unei anumite legi']\n",
      "['registrele sondelor forate']\n",
      "['produsul membranei celulare a gazdei care se pliază pentru a forma o veziculă care înconjoară cianobacteria ancestrală']\n",
      "['termeni de presiune']\n",
      "['bilaterilor']\n",
      "['bilaterilor']\n",
      "['Allston']\n",
      "['The Curse of the Daleks']\n",
      "['linia cloroplastelor verzi']\n",
      "['curentului electric']\n",
      "['sub forma unor probleme de decizie']\n",
      "['canalele prin care inegalitatea poate afecta creșterea economică']\n",
      "['Jacksonville']\n",
      "['phowa și siddhi']\n",
      "['DTIME(f(n))']\n",
      "['Rețeaua de Televiziune Dumont']\n",
      "['boli genetice']\n",
      "['E.I. du Pont']\n",
      "['Limbajul American al Semnelor']\n",
      "['Jamukha, și protectorul acestuia, Toghrul Han']\n",
      "['2016']\n",
      "['extrem de puternic']\n",
      "['Louis al XIV-lea']\n",
      "['Ein neues Lied wir heben an']\n",
      "['sud-vest']\n",
      "['distrugerea pădurii']\n",
      "['1773']\n",
      "['38']\n",
      "['regimuri islamice non-liberale']\n",
      "['imnul național']\n",
      "['a-și putea prezenta problemele']\n",
      "['1979']\n",
      "['1979']\n",
      "['1979']\n",
      "['1979']\n",
      "['Duran Duran']\n",
      "['mai bune']\n",
      "['o revistă de comerț pentru industria construcțiilor']\n",
      "['războaielor']\n",
      "['cloroplast derivat din algele roșii']\n",
      "['Kawann Short']\n",
      "['Kawann Short']\n",
      "['1774']\n",
      "['războaiele și „șocurile economice și politice puternice”']\n",
      "['Studenții']\n",
      "['Robert Kintner']\n",
      "['Brazilia']\n",
      "['415.000']\n",
      "['peste 5100']\n",
      "['12 mai 1705']\n",
      "['Casa Somerset']\n",
      "['solară']\n",
      "['Iisus Interpretul']\n",
      "['alți tehnicieni de farmacie principali']\n",
      "['înconjurate de o membrană dublă']\n",
      "['ecartamentul standard de 1.435 mm (4 ft 8 1⁄2 in)']\n",
      "['2003']\n",
      "['2003']\n",
      "['imnul național']\n",
      "['Furtuna Tropicală Berly']\n",
      "['Furtuna Tropicală Berly']\n",
      "['coreean']\n",
      "['Quest']\n",
      "['Antoine Lavoisier']\n",
      "['Curtea Penală Internațională']\n",
      "['un client cunoscut']\n",
      "['patru']\n",
      "['pedeapsa']\n",
      "['forțelor turcești']\n",
      "['prin portul Marseille în jurul lunii noiembrie 1347']\n",
      "['prin portul Marseille în jurul lunii noiembrie 1347']\n",
      "['al treilea']\n",
      "['3,62']\n",
      "['Robert Lane și Benjamin Vail']\n",
      "['The Horns of Nimon']\n",
      "['independente']\n",
      "['legislației farmaceutice']\n",
      "['Suedia']\n",
      "['de zece ori mai mult decât greutatea proprie']\n",
      "['de zece ori mai mult decât greutatea proprie']\n",
      "['ascensiunea lui Adolf Hitler la putere']\n",
      "['Asociației Medicale Americane']\n",
      "['nivelul existent al inegalității']\n",
      "['valoarea absolută']\n",
      "['de unificare auto-consistente']\n",
      "['de unificare auto-consistente']\n",
      "['Pearl Mackie ca și Bill']\n",
      "['două']\n",
      "['Tesla Electric Light & Manufacturing']\n",
      "['până în al doilea sfert al secolului 19']\n",
      "['Muzeul Horniman']\n",
      "['1685']\n",
      "['peste 70.000']\n",
      "['peste 70.000']\n",
      "['Nesupunerea civilă revoluționară']\n",
      "['Delta Rinului']\n",
      "['încălzire suplimentară a suprafeței Pământului']\n",
      "['Anderson']\n",
      "['retorică']\n",
      "['Partidul Muncii']\n",
      "['șase']\n",
      "['cloroplast']\n",
      "['facturile Sky TV']\n",
      "['mai puternic']\n",
      "['infecții recurente, amenințătoare de viață']\n",
      "['firmele care prestează servicii în domeniul construcțiilor (spre exemplu ingineri, arhitecți) și manageri în construcții']\n",
      "['tentacule']\n",
      "['tentacule']\n",
      "['Larry Ellison']\n",
      "['Miller']\n",
      "['Lume și Imagini']\n",
      "['Momus']\n",
      "['o combinație de antrax și alte pandemii']\n",
      "['o combinație de antrax și alte pandemii']\n",
      "['1530']\n",
      "['Mohandas Gandhi']\n",
      "['3,07']\n",
      "['inferior']\n",
      "['Pittsburgh Steelers']\n",
      "['Galeria T. T. Tsui']\n",
      "['Galeria T. T. Tsui']\n",
      "['diplomă de licență']\n",
      "['Broncos']\n",
      "['Congresului Național Indian naționalist și laic de referință din India']\n",
      "['eroziune']\n",
      "['folosirea secerelor pentru dezumflarea unuia dintre domurile imense care acopereau cele două antene satelit']\n",
      "['armatei germane']\n",
      "['William Tyndale']\n",
      "['2,8%']\n",
      "['Africa de Nord și Vest']\n",
      "['biodiversității']\n",
      "['diviziune de probă']\n",
      "['poporului Han, Khitan, Jurchen, mongol, și pe budiștii tibetani']\n",
      "['poporului Han, Khitan, Jurchen, mongol, și pe budiștii tibetani']\n",
      "['40.000']\n",
      "['indicatorul motorului cu aburi']\n",
      "['„Suntem cerșetori”']\n",
      "['1981']\n",
      "['1975']\n",
      "['i-au luat prin surprindere pe canadieni pe 28 mai']\n",
      "['Ming și Qing']\n",
      "['Ming și Qing']\n",
      "['Teatrul Wojciech Bogusławski']\n",
      "['30 °C']\n",
      "['35']\n",
      "['565 °C']\n",
      "['James O. McKinsey']\n",
      "['nu se poate scrie drept suma a două noduri netriviale']\n",
      "['Zone Statistice Metropolitane']\n",
      "['Imunodeficiența']\n",
      "['Sportivii kenyeni (în special Kalenjin)']\n",
      "['producția de radicali liberi']\n",
      "['Energiprojekt AB']\n",
      "['28.5°E']\n",
      "['tifosul, variola și infecțiile respiratorii']\n",
      "['tifosul, variola și infecțiile respiratorii']\n",
      "['tranziții de stare']\n",
      "['cu reguli comune pentru cărbune și oțel']\n",
      "['șoseaua Secundară 41']\n",
      "['existenței cloroplastului pierdut']\n",
      "['Kony Ealy']\n",
      "['Kony Ealy']\n",
      "['dificultate']\n",
      "['1870 și 1939']\n",
      "['el însuși']\n",
      "['dreptul și filozofia']\n",
      "['P ⊆ NP ⊆ PP ⊆ PSPACE']\n",
      "['pastori']\n",
      "['Larry Ellison']\n",
      "['mesajul/informația originală este reasamblată în ordinea corectă, în funcție de numărul de ordine al pachetului']\n",
      "['340 de mile']\n",
      "['1817']\n",
      "['8 februarie 2007']\n",
      "['dorința de a preveni lucrurile care sunt incontestabil rele']\n",
      "['Economistul']\n",
      "['bani de la sisteme bancare islamice din străinătate']\n",
      "['al Doilea Război Mondial']\n",
      "['după 1850']\n",
      "['7 până la 10 procente']\n",
      "['William Smith']\n",
      "['Tang, Song, precum și dinastiile Khitan Liao și Jurchen Jin']\n",
      "['Tang, Song, precum și dinastiile Khitan Liao și Jurchen Jin']\n",
      "['fertilității']\n",
      "['5']\n",
      "['Paul Samuelson']\n",
      "['sisteme de iluminat pe bază de arc electric']\n",
      "['20%']\n",
      "['1349']\n",
      "['1349']\n",
      "['Pittsburgh Steelers']\n",
      "['cadou']\n",
      "['Holocenul']\n",
      "['Chivas']\n",
      "['1186']\n",
      "['1186']\n",
      "['Bătălia de la Bạch Đặng']\n",
      "['Bătălia de la Bạch Đặng']\n",
      "['Prim Ministru']\n",
      "['Partidului Uniunii Muncitorilor din Polonia']\n",
      "['cererea redusă a consumatorilor']\n",
      "['cererea redusă a consumatorilor']\n",
      "['„business as usual” (BAU) [„tot așa mai departe”]']\n",
      "['reluare a ostilităților în cadrul conflictului israeliano-arab']\n",
      "['Kokochu']\n",
      "['Kokochu']\n",
      "['Jean Ribault']\n",
      "['înlăturarea fundamentului său economic']\n",
      "['melatoninei']\n",
      "['bogați și bine poziționați social']\n",
      "['Imperialismul cultural']\n",
      "['instabile politic și social']\n",
      "['brevete']\n",
      "['discuri rotative']\n",
      "['discuri rotative']\n",
      "['Universitatea din Paris,']\n",
      "['Maroc și Etiopia']\n",
      "['Curții Supreme ale Statelor Unite']\n",
      "['19,3%']\n",
      "['2012']\n",
      "['1964']\n",
      "['1964']\n",
      "['1964']\n",
      "['1943']\n",
      "['1851']\n",
      "['Novgorod și Pskov']\n",
      "['Întrucât, în general, nu a supraviețuit îmbrăcămintea de zi cu zi din erele anterioare']\n",
      "['Harrods']\n",
      "['reglementează meseria de farmacist și tehnician de farmacie']\n",
      "['octombrie 2016']\n",
      "['principalelor mărci de autoturisme']\n",
      "['Juan Manuel Santos']\n",
      "['Centrul StubHub']\n",
      "['a instalat sisteme de iluminat pe bază de arc electric concepute de Tesla']\n",
      "['Fresno']\n",
      "['musulmană']\n",
      "['Rollo']\n",
      "['de zece ori mai mult decât greutatea proprie']\n",
      "['de zece ori mai mult decât greutatea proprie']\n",
      "['coercitive']\n",
      "['Rinul romantic']\n",
      "['conecta două mini computere PDP-11']\n",
      "['23–16']\n",
      "['importanța în creștere a capitalului uman în dezvoltare']\n",
      "1097\n"
     ]
    }
   ],
   "source": [
    "ds_tok_train = ds_train.map(lambda x: process_and_tokenize(dataset=x, tokenizer=tokenizer), batched=True, batch_size=64, remove_columns=ds_train.column_names)\n",
    " \n",
    "print(len(ds_tok_train))"
   ]
  },
  {
   "cell_type": "markdown",
   "metadata": {},
   "source": [
    "## Validation and test datasets"
   ]
  },
  {
   "cell_type": "code",
   "execution_count": 8,
   "metadata": {
    "execution": {
     "iopub.execute_input": "2025-01-05T07:27:57.056193Z",
     "iopub.status.busy": "2025-01-05T07:27:57.055936Z",
     "iopub.status.idle": "2025-01-05T07:27:57.061693Z",
     "shell.execute_reply": "2025-01-05T07:27:57.060995Z",
     "shell.execute_reply.started": "2025-01-05T07:27:57.056171Z"
    },
    "trusted": true
   },
   "outputs": [],
   "source": [
    "def process_and_tokenize_val_test(dataset: Dataset, tokenizer: AutoTokenizer) -> dict:\n",
    "    # Extract from the dataset and standardize where possible\n",
    "    questions = [standardize(q).strip() for q in dataset[\"question\"]]\n",
    "    contexts = [standardize(c) for c in dataset[\"context\"]]\n",
    "    \n",
    "    inputs = tokenizer(\n",
    "        questions,\n",
    "        contexts,\n",
    "        max_length=384,\n",
    "        truncation=\"only_second\",\n",
    "        stride=128,\n",
    "        return_overflowing_tokens=True,\n",
    "        return_offsets_mapping=True,\n",
    "        padding=\"max_length\",\n",
    "    )\n",
    "\n",
    "    sample_mapping = inputs[\"overflow_to_sample_mapping\"]\n",
    "    example_ids = []\n",
    "\n",
    "    for i in range(len(inputs[\"input_ids\"])):\n",
    "        sample_i = sample_mapping[i]\n",
    "        example_ids.append(dataset[\"id\"][sample_i])\n",
    "\n",
    "        seq_ids = inputs.sequence_ids(i)\n",
    "        offset = inputs[\"offset_mapping\"][i]\n",
    "        \n",
    "        for j, ofs in enumerate(offset):\n",
    "            inputs['offset_mapping'][i][j] = ofs if seq_ids[j] == 1 else None\n",
    "\n",
    "    inputs[\"example_id\"] = example_ids\n",
    "    \n",
    "    inputs.pop(\"overflow_to_sample_mapping\")\n",
    "    \n",
    "    return inputs"
   ]
  },
  {
   "cell_type": "code",
   "execution_count": 9,
   "metadata": {
    "execution": {
     "iopub.execute_input": "2025-01-05T07:27:57.064195Z",
     "iopub.status.busy": "2025-01-05T07:27:57.063994Z",
     "iopub.status.idle": "2025-01-05T07:27:57.365393Z",
     "shell.execute_reply": "2025-01-05T07:27:57.364707Z",
     "shell.execute_reply.started": "2025-01-05T07:27:57.064177Z"
    },
    "trusted": true
   },
   "outputs": [
    {
     "data": {
      "application/vnd.jupyter.widget-view+json": {
       "model_id": "c213160c448944f0aa9742726bbc1732",
       "version_major": 2,
       "version_minor": 0
      },
      "text/plain": [
       "Map:   0%|          | 0/119 [00:00<?, ? examples/s]"
      ]
     },
     "metadata": {},
     "output_type": "display_data"
    },
    {
     "data": {
      "application/vnd.jupyter.widget-view+json": {
       "model_id": "275b0389bc504b4d9d0d18e0c819d781",
       "version_major": 2,
       "version_minor": 0
      },
      "text/plain": [
       "Map:   0%|          | 0/119 [00:00<?, ? examples/s]"
      ]
     },
     "metadata": {},
     "output_type": "display_data"
    },
    {
     "name": "stdout",
     "output_type": "stream",
     "text": [
      "133 133\n"
     ]
    }
   ],
   "source": [
    "ds_tok_val = ds_val.map(lambda x: process_and_tokenize_val_test(dataset=x, tokenizer=tokenizer), batched=True, batch_size=64, remove_columns=ds_val.column_names)\n",
    "ds_tok_test = ds_test.map(lambda x: process_and_tokenize_val_test(dataset=x, tokenizer=tokenizer), batched=True, batch_size=64, remove_columns=ds_test.column_names)\n",
    " \n",
    "print(len(ds_tok_val), len(ds_tok_test))"
   ]
  },
  {
   "cell_type": "markdown",
   "metadata": {},
   "source": [
    "# Make metrics"
   ]
  },
  {
   "cell_type": "code",
   "execution_count": 10,
   "metadata": {
    "execution": {
     "iopub.execute_input": "2025-01-05T07:27:57.366641Z",
     "iopub.status.busy": "2025-01-05T07:27:57.366356Z",
     "iopub.status.idle": "2025-01-05T07:28:02.230207Z",
     "shell.execute_reply": "2025-01-05T07:28:02.229292Z",
     "shell.execute_reply.started": "2025-01-05T07:27:57.366618Z"
    },
    "trusted": true
   },
   "outputs": [
    {
     "name": "stderr",
     "output_type": "stream",
     "text": [
      "/usr/lib/python3.10/pty.py:89: RuntimeWarning: os.fork() was called. os.fork() is incompatible with multithreaded code, and JAX is multithreaded, so this will likely lead to a deadlock.\n",
      "  pid, fd = os.forkpty()\n"
     ]
    },
    {
     "name": "stdout",
     "output_type": "stream",
     "text": [
      "Collecting rouge_score\n",
      "  Downloading rouge_score-0.1.2.tar.gz (17 kB)\n",
      "  Preparing metadata (setup.py) ... \u001b[?25l\u001b[?25hdone\n",
      "Requirement already satisfied: absl-py in /usr/local/lib/python3.10/dist-packages (from rouge_score) (1.4.0)\n",
      "Requirement already satisfied: nltk in /usr/local/lib/python3.10/dist-packages (from rouge_score) (3.2.4)\n",
      "Requirement already satisfied: numpy in /usr/local/lib/python3.10/dist-packages (from rouge_score) (1.26.4)\n",
      "Requirement already satisfied: six>=1.14.0 in /usr/local/lib/python3.10/dist-packages (from rouge_score) (1.16.0)\n",
      "Building wheels for collected packages: rouge_score\n",
      "  Building wheel for rouge_score (setup.py) ... \u001b[?25l\u001b[?25hdone\n",
      "  Created wheel for rouge_score: filename=rouge_score-0.1.2-py3-none-any.whl size=24935 sha256=16fc2bc46ecf4882c8c6c7c6ea870af6e224bb1c52113d1e80f1837006ab26cc\n",
      "  Stored in directory: /root/.cache/pip/wheels/5f/dd/89/461065a73be61a532ff8599a28e9beef17985c9e9c31e541b4\n",
      "Successfully built rouge_score\n",
      "Installing collected packages: rouge_score\n",
      "Successfully installed rouge_score-0.1.2\n",
      "Note: you may need to restart the kernel to use updated packages.\n"
     ]
    }
   ],
   "source": [
    "%pip install rouge_score"
   ]
  },
  {
   "cell_type": "code",
   "execution_count": 11,
   "metadata": {
    "execution": {
     "iopub.execute_input": "2025-01-05T07:28:02.231317Z",
     "iopub.status.busy": "2025-01-05T07:28:02.231082Z",
     "iopub.status.idle": "2025-01-05T07:28:10.010765Z",
     "shell.execute_reply": "2025-01-05T07:28:10.010078Z",
     "shell.execute_reply.started": "2025-01-05T07:28:02.231295Z"
    },
    "trusted": true
   },
   "outputs": [
    {
     "data": {
      "application/vnd.jupyter.widget-view+json": {
       "model_id": "31d2ae0776aa4ffe8adf3d79efa9f13a",
       "version_major": 2,
       "version_minor": 0
      },
      "text/plain": [
       "Downloading builder script:   0%|          | 0.00/4.53k [00:00<?, ?B/s]"
      ]
     },
     "metadata": {},
     "output_type": "display_data"
    },
    {
     "data": {
      "application/vnd.jupyter.widget-view+json": {
       "model_id": "5eac3b486adf4eb98fe91e0fcb40f575",
       "version_major": 2,
       "version_minor": 0
      },
      "text/plain": [
       "Downloading extra modules:   0%|          | 0.00/3.32k [00:00<?, ?B/s]"
      ]
     },
     "metadata": {},
     "output_type": "display_data"
    },
    {
     "data": {
      "application/vnd.jupyter.widget-view+json": {
       "model_id": "5f51236e1d2540069b869aefb5b377e2",
       "version_major": 2,
       "version_minor": 0
      },
      "text/plain": [
       "Downloading builder script:   0%|          | 0.00/5.94k [00:00<?, ?B/s]"
      ]
     },
     "metadata": {},
     "output_type": "display_data"
    },
    {
     "data": {
      "application/vnd.jupyter.widget-view+json": {
       "model_id": "20bf66a51e4742b4bb7f72f36d8e990b",
       "version_major": 2,
       "version_minor": 0
      },
      "text/plain": [
       "Downloading extra modules:   0%|          | 0.00/1.55k [00:00<?, ?B/s]"
      ]
     },
     "metadata": {},
     "output_type": "display_data"
    },
    {
     "data": {
      "application/vnd.jupyter.widget-view+json": {
       "model_id": "172c811a07e44f9e9313ed6a5c8c5fc1",
       "version_major": 2,
       "version_minor": 0
      },
      "text/plain": [
       "Downloading extra modules:   0%|          | 0.00/3.34k [00:00<?, ?B/s]"
      ]
     },
     "metadata": {},
     "output_type": "display_data"
    },
    {
     "data": {
      "application/vnd.jupyter.widget-view+json": {
       "model_id": "5b53c8c654dd4e3eaca48c197d268806",
       "version_major": 2,
       "version_minor": 0
      },
      "text/plain": [
       "Downloading builder script:   0%|          | 0.00/6.27k [00:00<?, ?B/s]"
      ]
     },
     "metadata": {},
     "output_type": "display_data"
    }
   ],
   "source": [
    "squad_metric = evaluate.load(\"squad\")\n",
    "bleu_metric = evaluate.load(\"bleu\")\n",
    "rouge_metric = evaluate.load(\"rouge\")"
   ]
  },
  {
   "cell_type": "code",
   "execution_count": 12,
   "metadata": {
    "execution": {
     "iopub.execute_input": "2025-01-05T07:28:10.011725Z",
     "iopub.status.busy": "2025-01-05T07:28:10.011513Z",
     "iopub.status.idle": "2025-01-05T07:28:10.020389Z",
     "shell.execute_reply": "2025-01-05T07:28:10.019663Z",
     "shell.execute_reply.started": "2025-01-05T07:28:10.011706Z"
    },
    "trusted": true
   },
   "outputs": [],
   "source": [
    "def compute_metrics(start_logits: list, end_logits: list, tok: dict, dataset: Dataset, max_answer_length: int = 30, eval_answer: SentenceTransformer = SentenceTransformer(\"BlackKakapo/stsb-xlm-r-multilingual-ro\")) -> dict:\n",
    "    extracted_features = {}\n",
    "    \n",
    "    # Group extracted features by ids\n",
    "    for i, feature in enumerate(tok):\n",
    "        if feature[\"example_id\"] not in extracted_features:\n",
    "            extracted_features[feature[\"example_id\"]] = [i]\n",
    "        else:\n",
    "            extracted_features[feature[\"example_id\"]].append(i)\n",
    "    \n",
    "    golds_squad = [{\"id\": data[\"id\"], \"answers\": data[\"answers\"]} for data in dataset]\n",
    "    preds_squad = []\n",
    "    \n",
    "    golds_bleu = []\n",
    "    preds_bleu = []\n",
    "    \n",
    "    for data in tqdm(dataset):\n",
    "        answers = []\n",
    "\n",
    "        # Iterate over all the extracted features\n",
    "        for i in extracted_features[data[\"id\"]]:\n",
    "            start_logit = start_logits[i]\n",
    "            end_logit = end_logits[i]\n",
    "            offs = tok[i][\"offset_mapping\"]\n",
    "\n",
    "            # Get all combinations of start and end positions\n",
    "            for start_i in range(len(start_logit)):\n",
    "                for end_i in range(len(end_logit)):\n",
    "                    # Continue on wrong answers\n",
    "                    if offs[start_i] is None \\\n",
    "                        or offs[end_i] is None \\\n",
    "                        or end_i < start_i \\\n",
    "                        or end_i - start_i + 1 > max_answer_length:\n",
    "                        continue\n",
    "                    \n",
    "                    # Add text and score\n",
    "                    answer = {\n",
    "                        \"answer\": data[\"context\"][offs[start_i][0] : offs[end_i][1]],\n",
    "                        \"score\": start_logit[start_i] + end_logit[end_i]\n",
    "                    }\n",
    "                    answers.append(answer)\n",
    "                    \n",
    "        preds_squad.append(\n",
    "            {\"id\": data['id'], \"prediction_text\": max(answers, key=lambda x: x[\"score\"])['answer']} \n",
    "                if len(answers) > 0 else \n",
    "                {\"id\": data['id'], \"prediction_text\": \"\"}\n",
    "        )\n",
    "        \n",
    "        preds_bleu.append(\n",
    "            max(answers, key=lambda x: x[\"score\"])['answer']\n",
    "                if len(answers) > 0 else \n",
    "                \"\"\n",
    "        )\n",
    "        \n",
    "        max_i = 0\n",
    "        max_len = len(data[\"answers\"][\"text\"][max_i])\n",
    "        for i in range(1, len(data[\"answers\"]['text'])):\n",
    "            if len(data[\"answers\"][\"text\"][i]) > max_len:\n",
    "                max_len = len(data[\"answers\"][\"text\"][i])\n",
    "                max_i = i\n",
    "        \n",
    "        golds_bleu.append(data[\"answers\"]['text'][max_i])\n",
    "        \n",
    "    return {\n",
    "        \"squad\": squad_metric.compute(predictions=preds_squad, references=golds_squad),\n",
    "        \"bleu\": bleu_metric.compute(predictions=preds_bleu, references=golds_bleu),\n",
    "        \"rouge\": rouge_metric.compute(predictions=preds_bleu, references=golds_bleu),\n",
    "        \"semantic_similarity\": util.pytorch_cos_sim(eval_answer.encode(preds_bleu, convert_to_tensor=True), eval_answer.encode(golds_bleu, convert_to_tensor=True)).mean().item() * 100\n",
    "    }"
   ]
  },
  {
   "cell_type": "markdown",
   "metadata": {},
   "source": [
    "# Training, evaluation and testing loop for hyperparameters"
   ]
  },
  {
   "cell_type": "code",
   "execution_count": 13,
   "metadata": {
    "execution": {
     "iopub.execute_input": "2025-01-05T07:28:10.021833Z",
     "iopub.status.busy": "2025-01-05T07:28:10.021546Z",
     "iopub.status.idle": "2025-01-05T07:28:10.040601Z",
     "shell.execute_reply": "2025-01-05T07:28:10.039900Z",
     "shell.execute_reply.started": "2025-01-05T07:28:10.021803Z"
    },
    "trusted": true
   },
   "outputs": [],
   "source": [
    "def output_metrics_to_file(metrics: dict, metric_type: str = None, lr: float = None, epoch: int = None):\n",
    "    filename = os.path.join(\"/kaggle/working/\" if kaggle else \".\", \"results\", f\"{model_short_name}-{dataset_short_name}-type_{metric_type}-lr_{lr}-epoch_{epoch:02}.json\" if lr is not None and epoch is not None and metric_type is not None else f\"{model_short_name}-{dataset_short_name}.json\")\n",
    "    with open(filename, \"w\") as f:\n",
    "        json.dump(metrics, f, indent=4)\n",
    "        \n",
    "def save_model(trainer: Trainer, lr: float, epoch: int):\n",
    "    trainer.save_model(os.path.join(\"/kaggle/working/\" if kaggle else \".\", \"results\", \"models\", f\"{model_short_name}-{dataset_short_name}-{lr}-{epoch}\"))\n",
    "    \n",
    "def load_model(lr: float, epoch: int) -> AutoModelForQuestionAnswering:\n",
    "    return AutoModelForQuestionAnswering.from_pretrained(os.path.join(\"/kaggle/working/\" if kaggle else \".\", \"results\", \"models\", f\"{model_short_name}-{dataset_short_name}-{lr}-{epoch}\"))"
   ]
  },
  {
   "cell_type": "markdown",
   "metadata": {},
   "source": [
    "## Get maximum answer length within 2 standard deviations from the mean of the training dataset"
   ]
  },
  {
   "cell_type": "code",
   "execution_count": 14,
   "metadata": {
    "execution": {
     "iopub.execute_input": "2025-01-05T07:28:10.041516Z",
     "iopub.status.busy": "2025-01-05T07:28:10.041244Z",
     "iopub.status.idle": "2025-01-05T07:28:10.051762Z",
     "shell.execute_reply": "2025-01-05T07:28:10.050934Z",
     "shell.execute_reply.started": "2025-01-05T07:28:10.041486Z"
    },
    "trusted": true
   },
   "outputs": [],
   "source": [
    "# mean_answer_length = np.mean([len(a[\"text\"][0]) for a in ds_train[\"answers\"]])\n",
    "# std_dev_answer_length = np.std([len(a[\"text\"][0]) for a in ds_train[\"answers\"]])\n",
    "\n",
    "# two_std_devs_above = mean_answer_length + 2 * std_dev_answer_length"
   ]
  },
  {
   "cell_type": "code",
   "execution_count": 15,
   "metadata": {
    "execution": {
     "iopub.execute_input": "2025-01-05T07:28:10.052671Z",
     "iopub.status.busy": "2025-01-05T07:28:10.052444Z",
     "iopub.status.idle": "2025-01-05T07:28:10.061096Z",
     "shell.execute_reply": "2025-01-05T07:28:10.060264Z",
     "shell.execute_reply.started": "2025-01-05T07:28:10.052652Z"
    },
    "trusted": true
   },
   "outputs": [],
   "source": [
    "all_models_eval = None\n",
    "\n",
    "def tet_loop(lr_list: list, epochs: int, batch_size: int) -> None:\n",
    "    global all_models_eval\n",
    "    all_models_eval = {\"validation\": {lr:{epoch:[] for epoch in range(1, epochs + 1)} for lr in lr_list}, \"test\": {lr:{epoch:[] for epoch in range(1, epochs + 1)} for lr in lr_list}}\n",
    "    \n",
    "    eval_answer = SentenceTransformer(\"BlackKakapo/stsb-xlm-r-multilingual-ro\")\n",
    "    \n",
    "    for lr in lr_list:\n",
    "        model = AutoModelForQuestionAnswering.from_pretrained(model_name)\n",
    "\n",
    "        warmup_steps = int(len(ds_tok_train) / batch_size * 1 / 10)\n",
    "        args = TrainingArguments(\n",
    "                output_dir=\"./results\",\n",
    "                eval_strategy=\"no\",\n",
    "                save_strategy=\"epoch\",\n",
    "                learning_rate=lr,\n",
    "                num_train_epochs=1,\n",
    "                weight_decay=0.01,\n",
    "                per_device_train_batch_size=batch_size, \n",
    "                report_to=\"none\",\n",
    "                save_total_limit=1,\n",
    "                warmup_steps=warmup_steps\n",
    "            )\n",
    "        trainer = Trainer(\n",
    "            model=model,\n",
    "            args=args,\n",
    "            train_dataset=ds_tok_train,\n",
    "            eval_dataset=ds_tok_val,\n",
    "            tokenizer=tokenizer\n",
    "        )\n",
    "        \n",
    "        for epoch in range(1, epochs + 1):\n",
    "            print(f\"Training with lr={lr} and epoch={epoch}\")\n",
    "            \n",
    "            trainer.train()\n",
    "            \n",
    "            preds = trainer.predict(ds_tok_val)\n",
    "            start_logits, end_logits = preds[0][0], preds[0][1]\n",
    "            computed_metrics = compute_metrics(start_logits, end_logits, ds_tok_val, ds_val, 30, eval_answer)\n",
    "            \n",
    "            # output_metrics_to_file(computed_metrics, metric_type='validation', lr=lr, epoch=epoch)\n",
    "            print(f\"Validation for lr {lr} epoch {epoch}: \")\n",
    "            # print(computed_metrics)\n",
    "            print(computed_metrics['squad'])\n",
    "            print(computed_metrics['semantic_similarity'])\n",
    "            \n",
    "            all_models_eval['validation'][lr][epoch] = computed_metrics\n",
    "            \n",
    "            preds = trainer.predict(ds_tok_test)\n",
    "            start_logits2, end_logits2 = preds[0][0], preds[0][1]\n",
    "            computed_metrics = compute_metrics(start_logits2, end_logits2, ds_tok_test, ds_test, 30, eval_answer)\n",
    "            \n",
    "            \n",
    "            # output_metrics_to_file(computed_metrics, metric_type='test', lr=lr, epoch=epoch)\n",
    "            all_models_eval['test'][lr][epoch] = computed_metrics\n",
    "            \n",
    "\n",
    "            print(f\"Test for lr {lr} epoch {epoch}: \")\n",
    "            print(computed_metrics['squad'])\n",
    "            print(computed_metrics['semantic_similarity'])\n",
    "            \n",
    "            # save_model(trainer, lr, epoch)\n",
    "            \n",
    "        try:\n",
    "            del trainer\n",
    "            del model\n",
    "            # device = cuda.get_current_device()\n",
    "            # device.reset()\n",
    "        except Exception as e:\n",
    "            print(e)\n",
    "            \n",
    "            print(f\"Finished training, validating and testing with lr={lr} and epochs={epochs}\")"
   ]
  },
  {
   "cell_type": "code",
   "execution_count": 16,
   "metadata": {
    "execution": {
     "iopub.execute_input": "2025-01-05T07:28:10.061973Z",
     "iopub.status.busy": "2025-01-05T07:28:10.061743Z",
     "iopub.status.idle": "2025-01-05T08:35:36.088456Z",
     "shell.execute_reply": "2025-01-05T08:35:36.087582Z",
     "shell.execute_reply.started": "2025-01-05T07:28:10.061953Z"
    },
    "trusted": true
   },
   "outputs": [
    {
     "data": {
      "application/vnd.jupyter.widget-view+json": {
       "model_id": "031e1992d168446cab021703e2cfb520",
       "version_major": 2,
       "version_minor": 0
      },
      "text/plain": [
       "model.safetensors:   0%|          | 0.00/542M [00:00<?, ?B/s]"
      ]
     },
     "metadata": {},
     "output_type": "display_data"
    },
    {
     "name": "stderr",
     "output_type": "stream",
     "text": [
      "Some weights of DistilBertForQuestionAnswering were not initialized from the model checkpoint at distilbert-base-multilingual-cased and are newly initialized: ['qa_outputs.bias', 'qa_outputs.weight']\n",
      "You should probably TRAIN this model on a down-stream task to be able to use it for predictions and inference.\n"
     ]
    },
    {
     "name": "stdout",
     "output_type": "stream",
     "text": [
      "Training with lr=0.0001 and epoch=1\n"
     ]
    },
    {
     "data": {
      "text/html": [
       "\n",
       "    <div>\n",
       "      \n",
       "      <progress value='69' max='69' style='width:300px; height:20px; vertical-align: middle;'></progress>\n",
       "      [69/69 00:30, Epoch 1/1]\n",
       "    </div>\n",
       "    <table border=\"1\" class=\"dataframe\">\n",
       "  <thead>\n",
       " <tr style=\"text-align: left;\">\n",
       "      <th>Step</th>\n",
       "      <th>Training Loss</th>\n",
       "    </tr>\n",
       "  </thead>\n",
       "  <tbody>\n",
       "  </tbody>\n",
       "</table><p>"
      ],
      "text/plain": [
       "<IPython.core.display.HTML object>"
      ]
     },
     "metadata": {},
     "output_type": "display_data"
    },
    {
     "data": {
      "text/html": [],
      "text/plain": [
       "<IPython.core.display.HTML object>"
      ]
     },
     "metadata": {},
     "output_type": "display_data"
    },
    {
     "data": {
      "application/vnd.jupyter.widget-view+json": {
       "model_id": "bbc9497f541242288cb7e2f8cb231809",
       "version_major": 2,
       "version_minor": 0
      },
      "text/plain": [
       "  0%|          | 0/119 [00:00<?, ?it/s]"
      ]
     },
     "metadata": {},
     "output_type": "display_data"
    },
    {
     "name": "stdout",
     "output_type": "stream",
     "text": [
      "Validation for lr 0.0001 epoch 1: \n",
      "{'exact_match': 10.92436974789916, 'f1': 13.943138158412502}\n"
     ]
    },
    {
     "data": {
      "text/html": [],
      "text/plain": [
       "<IPython.core.display.HTML object>"
      ]
     },
     "metadata": {},
     "output_type": "display_data"
    },
    {
     "data": {
      "application/vnd.jupyter.widget-view+json": {
       "model_id": "32606aaa25fa4a4c9f59a192827bd764",
       "version_major": 2,
       "version_minor": 0
      },
      "text/plain": [
       "  0%|          | 0/119 [00:00<?, ?it/s]"
      ]
     },
     "metadata": {},
     "output_type": "display_data"
    },
    {
     "name": "stdout",
     "output_type": "stream",
     "text": [
      "Test for lr 0.0001 epoch 1: \n",
      "{'exact_match': 15.126050420168067, 'f1': 22.646273795986307}\n",
      "Training with lr=0.0001 and epoch=2\n"
     ]
    },
    {
     "data": {
      "text/html": [
       "\n",
       "    <div>\n",
       "      \n",
       "      <progress value='69' max='69' style='width:300px; height:20px; vertical-align: middle;'></progress>\n",
       "      [69/69 00:32, Epoch 1/1]\n",
       "    </div>\n",
       "    <table border=\"1\" class=\"dataframe\">\n",
       "  <thead>\n",
       " <tr style=\"text-align: left;\">\n",
       "      <th>Step</th>\n",
       "      <th>Training Loss</th>\n",
       "    </tr>\n",
       "  </thead>\n",
       "  <tbody>\n",
       "  </tbody>\n",
       "</table><p>"
      ],
      "text/plain": [
       "<IPython.core.display.HTML object>"
      ]
     },
     "metadata": {},
     "output_type": "display_data"
    },
    {
     "data": {
      "text/html": [],
      "text/plain": [
       "<IPython.core.display.HTML object>"
      ]
     },
     "metadata": {},
     "output_type": "display_data"
    },
    {
     "data": {
      "application/vnd.jupyter.widget-view+json": {
       "model_id": "b7b6220e5b924fa28a3d2d6d5855c540",
       "version_major": 2,
       "version_minor": 0
      },
      "text/plain": [
       "  0%|          | 0/119 [00:00<?, ?it/s]"
      ]
     },
     "metadata": {},
     "output_type": "display_data"
    },
    {
     "name": "stdout",
     "output_type": "stream",
     "text": [
      "Validation for lr 0.0001 epoch 2: \n",
      "{'exact_match': 21.008403361344538, 'f1': 31.86970592432777}\n"
     ]
    },
    {
     "data": {
      "text/html": [],
      "text/plain": [
       "<IPython.core.display.HTML object>"
      ]
     },
     "metadata": {},
     "output_type": "display_data"
    },
    {
     "data": {
      "application/vnd.jupyter.widget-view+json": {
       "model_id": "d1694c3f9ab645299519549683a95d35",
       "version_major": 2,
       "version_minor": 0
      },
      "text/plain": [
       "  0%|          | 0/119 [00:00<?, ?it/s]"
      ]
     },
     "metadata": {},
     "output_type": "display_data"
    },
    {
     "name": "stdout",
     "output_type": "stream",
     "text": [
      "Test for lr 0.0001 epoch 2: \n",
      "{'exact_match': 21.84873949579832, 'f1': 34.892763632259424}\n",
      "Training with lr=0.0001 and epoch=3\n"
     ]
    },
    {
     "data": {
      "text/html": [
       "\n",
       "    <div>\n",
       "      \n",
       "      <progress value='69' max='69' style='width:300px; height:20px; vertical-align: middle;'></progress>\n",
       "      [69/69 00:32, Epoch 1/1]\n",
       "    </div>\n",
       "    <table border=\"1\" class=\"dataframe\">\n",
       "  <thead>\n",
       " <tr style=\"text-align: left;\">\n",
       "      <th>Step</th>\n",
       "      <th>Training Loss</th>\n",
       "    </tr>\n",
       "  </thead>\n",
       "  <tbody>\n",
       "  </tbody>\n",
       "</table><p>"
      ],
      "text/plain": [
       "<IPython.core.display.HTML object>"
      ]
     },
     "metadata": {},
     "output_type": "display_data"
    },
    {
     "data": {
      "text/html": [],
      "text/plain": [
       "<IPython.core.display.HTML object>"
      ]
     },
     "metadata": {},
     "output_type": "display_data"
    },
    {
     "data": {
      "application/vnd.jupyter.widget-view+json": {
       "model_id": "285bf79962e441b99636f1baf33b8a25",
       "version_major": 2,
       "version_minor": 0
      },
      "text/plain": [
       "  0%|          | 0/119 [00:00<?, ?it/s]"
      ]
     },
     "metadata": {},
     "output_type": "display_data"
    },
    {
     "name": "stdout",
     "output_type": "stream",
     "text": [
      "Validation for lr 0.0001 epoch 3: \n",
      "{'exact_match': 19.327731092436974, 'f1': 31.74855379521456}\n"
     ]
    },
    {
     "data": {
      "text/html": [],
      "text/plain": [
       "<IPython.core.display.HTML object>"
      ]
     },
     "metadata": {},
     "output_type": "display_data"
    },
    {
     "data": {
      "application/vnd.jupyter.widget-view+json": {
       "model_id": "170e3dbf29c642d2bb04967ce798d499",
       "version_major": 2,
       "version_minor": 0
      },
      "text/plain": [
       "  0%|          | 0/119 [00:00<?, ?it/s]"
      ]
     },
     "metadata": {},
     "output_type": "display_data"
    },
    {
     "name": "stdout",
     "output_type": "stream",
     "text": [
      "Test for lr 0.0001 epoch 3: \n",
      "{'exact_match': 21.84873949579832, 'f1': 33.28839461192401}\n",
      "Training with lr=0.0001 and epoch=4\n"
     ]
    },
    {
     "data": {
      "text/html": [
       "\n",
       "    <div>\n",
       "      \n",
       "      <progress value='69' max='69' style='width:300px; height:20px; vertical-align: middle;'></progress>\n",
       "      [69/69 00:32, Epoch 1/1]\n",
       "    </div>\n",
       "    <table border=\"1\" class=\"dataframe\">\n",
       "  <thead>\n",
       " <tr style=\"text-align: left;\">\n",
       "      <th>Step</th>\n",
       "      <th>Training Loss</th>\n",
       "    </tr>\n",
       "  </thead>\n",
       "  <tbody>\n",
       "  </tbody>\n",
       "</table><p>"
      ],
      "text/plain": [
       "<IPython.core.display.HTML object>"
      ]
     },
     "metadata": {},
     "output_type": "display_data"
    },
    {
     "data": {
      "text/html": [],
      "text/plain": [
       "<IPython.core.display.HTML object>"
      ]
     },
     "metadata": {},
     "output_type": "display_data"
    },
    {
     "data": {
      "application/vnd.jupyter.widget-view+json": {
       "model_id": "53fd3f60d03b42378798c1919c1dbd7a",
       "version_major": 2,
       "version_minor": 0
      },
      "text/plain": [
       "  0%|          | 0/119 [00:00<?, ?it/s]"
      ]
     },
     "metadata": {},
     "output_type": "display_data"
    },
    {
     "name": "stdout",
     "output_type": "stream",
     "text": [
      "Validation for lr 0.0001 epoch 4: \n",
      "{'exact_match': 21.008403361344538, 'f1': 34.87190570007907}\n"
     ]
    },
    {
     "data": {
      "text/html": [],
      "text/plain": [
       "<IPython.core.display.HTML object>"
      ]
     },
     "metadata": {},
     "output_type": "display_data"
    },
    {
     "data": {
      "application/vnd.jupyter.widget-view+json": {
       "model_id": "5fdad069dae3416ab8e1f8e5d70ac3dc",
       "version_major": 2,
       "version_minor": 0
      },
      "text/plain": [
       "  0%|          | 0/119 [00:00<?, ?it/s]"
      ]
     },
     "metadata": {},
     "output_type": "display_data"
    },
    {
     "name": "stdout",
     "output_type": "stream",
     "text": [
      "Test for lr 0.0001 epoch 4: \n",
      "{'exact_match': 26.050420168067227, 'f1': 38.10383593997039}\n",
      "Training with lr=0.0001 and epoch=5\n"
     ]
    },
    {
     "data": {
      "text/html": [
       "\n",
       "    <div>\n",
       "      \n",
       "      <progress value='69' max='69' style='width:300px; height:20px; vertical-align: middle;'></progress>\n",
       "      [69/69 00:32, Epoch 1/1]\n",
       "    </div>\n",
       "    <table border=\"1\" class=\"dataframe\">\n",
       "  <thead>\n",
       " <tr style=\"text-align: left;\">\n",
       "      <th>Step</th>\n",
       "      <th>Training Loss</th>\n",
       "    </tr>\n",
       "  </thead>\n",
       "  <tbody>\n",
       "  </tbody>\n",
       "</table><p>"
      ],
      "text/plain": [
       "<IPython.core.display.HTML object>"
      ]
     },
     "metadata": {},
     "output_type": "display_data"
    },
    {
     "data": {
      "text/html": [],
      "text/plain": [
       "<IPython.core.display.HTML object>"
      ]
     },
     "metadata": {},
     "output_type": "display_data"
    },
    {
     "data": {
      "application/vnd.jupyter.widget-view+json": {
       "model_id": "55b46dc84c1c447c8fce6282d3bc5713",
       "version_major": 2,
       "version_minor": 0
      },
      "text/plain": [
       "  0%|          | 0/119 [00:00<?, ?it/s]"
      ]
     },
     "metadata": {},
     "output_type": "display_data"
    },
    {
     "name": "stdout",
     "output_type": "stream",
     "text": [
      "Validation for lr 0.0001 epoch 5: \n",
      "{'exact_match': 20.168067226890756, 'f1': 34.28700507316163}\n"
     ]
    },
    {
     "data": {
      "text/html": [],
      "text/plain": [
       "<IPython.core.display.HTML object>"
      ]
     },
     "metadata": {},
     "output_type": "display_data"
    },
    {
     "data": {
      "application/vnd.jupyter.widget-view+json": {
       "model_id": "025532ee471348aba2a47a71d184eee8",
       "version_major": 2,
       "version_minor": 0
      },
      "text/plain": [
       "  0%|          | 0/119 [00:00<?, ?it/s]"
      ]
     },
     "metadata": {},
     "output_type": "display_data"
    },
    {
     "name": "stdout",
     "output_type": "stream",
     "text": [
      "Test for lr 0.0001 epoch 5: \n",
      "{'exact_match': 24.369747899159663, 'f1': 35.82221302068064}\n",
      "Training with lr=0.0001 and epoch=6\n"
     ]
    },
    {
     "data": {
      "text/html": [
       "\n",
       "    <div>\n",
       "      \n",
       "      <progress value='69' max='69' style='width:300px; height:20px; vertical-align: middle;'></progress>\n",
       "      [69/69 00:32, Epoch 1/1]\n",
       "    </div>\n",
       "    <table border=\"1\" class=\"dataframe\">\n",
       "  <thead>\n",
       " <tr style=\"text-align: left;\">\n",
       "      <th>Step</th>\n",
       "      <th>Training Loss</th>\n",
       "    </tr>\n",
       "  </thead>\n",
       "  <tbody>\n",
       "  </tbody>\n",
       "</table><p>"
      ],
      "text/plain": [
       "<IPython.core.display.HTML object>"
      ]
     },
     "metadata": {},
     "output_type": "display_data"
    },
    {
     "data": {
      "text/html": [],
      "text/plain": [
       "<IPython.core.display.HTML object>"
      ]
     },
     "metadata": {},
     "output_type": "display_data"
    },
    {
     "data": {
      "application/vnd.jupyter.widget-view+json": {
       "model_id": "69ce13f89e104d69887f9caff028e430",
       "version_major": 2,
       "version_minor": 0
      },
      "text/plain": [
       "  0%|          | 0/119 [00:00<?, ?it/s]"
      ]
     },
     "metadata": {},
     "output_type": "display_data"
    },
    {
     "name": "stdout",
     "output_type": "stream",
     "text": [
      "Validation for lr 0.0001 epoch 6: \n",
      "{'exact_match': 18.48739495798319, 'f1': 30.54283141302159}\n"
     ]
    },
    {
     "data": {
      "text/html": [],
      "text/plain": [
       "<IPython.core.display.HTML object>"
      ]
     },
     "metadata": {},
     "output_type": "display_data"
    },
    {
     "data": {
      "application/vnd.jupyter.widget-view+json": {
       "model_id": "c188050310d64d62b7d29d5f769d5509",
       "version_major": 2,
       "version_minor": 0
      },
      "text/plain": [
       "  0%|          | 0/119 [00:00<?, ?it/s]"
      ]
     },
     "metadata": {},
     "output_type": "display_data"
    },
    {
     "name": "stdout",
     "output_type": "stream",
     "text": [
      "Test for lr 0.0001 epoch 6: \n",
      "{'exact_match': 20.168067226890756, 'f1': 31.79310487392544}\n",
      "Training with lr=0.0001 and epoch=7\n"
     ]
    },
    {
     "data": {
      "text/html": [
       "\n",
       "    <div>\n",
       "      \n",
       "      <progress value='69' max='69' style='width:300px; height:20px; vertical-align: middle;'></progress>\n",
       "      [69/69 00:32, Epoch 1/1]\n",
       "    </div>\n",
       "    <table border=\"1\" class=\"dataframe\">\n",
       "  <thead>\n",
       " <tr style=\"text-align: left;\">\n",
       "      <th>Step</th>\n",
       "      <th>Training Loss</th>\n",
       "    </tr>\n",
       "  </thead>\n",
       "  <tbody>\n",
       "  </tbody>\n",
       "</table><p>"
      ],
      "text/plain": [
       "<IPython.core.display.HTML object>"
      ]
     },
     "metadata": {},
     "output_type": "display_data"
    },
    {
     "data": {
      "text/html": [],
      "text/plain": [
       "<IPython.core.display.HTML object>"
      ]
     },
     "metadata": {},
     "output_type": "display_data"
    },
    {
     "data": {
      "application/vnd.jupyter.widget-view+json": {
       "model_id": "739552c169f44f6e9c50592ba94c2778",
       "version_major": 2,
       "version_minor": 0
      },
      "text/plain": [
       "  0%|          | 0/119 [00:00<?, ?it/s]"
      ]
     },
     "metadata": {},
     "output_type": "display_data"
    },
    {
     "name": "stdout",
     "output_type": "stream",
     "text": [
      "Validation for lr 0.0001 epoch 7: \n",
      "{'exact_match': 20.168067226890756, 'f1': 30.94730089312132}\n"
     ]
    },
    {
     "data": {
      "text/html": [],
      "text/plain": [
       "<IPython.core.display.HTML object>"
      ]
     },
     "metadata": {},
     "output_type": "display_data"
    },
    {
     "data": {
      "application/vnd.jupyter.widget-view+json": {
       "model_id": "0148c67aeed44428a8b23246970f0504",
       "version_major": 2,
       "version_minor": 0
      },
      "text/plain": [
       "  0%|          | 0/119 [00:00<?, ?it/s]"
      ]
     },
     "metadata": {},
     "output_type": "display_data"
    },
    {
     "name": "stdout",
     "output_type": "stream",
     "text": [
      "Test for lr 0.0001 epoch 7: \n",
      "{'exact_match': 19.327731092436974, 'f1': 29.110591309058922}\n",
      "Training with lr=0.0001 and epoch=8\n"
     ]
    },
    {
     "data": {
      "text/html": [
       "\n",
       "    <div>\n",
       "      \n",
       "      <progress value='69' max='69' style='width:300px; height:20px; vertical-align: middle;'></progress>\n",
       "      [69/69 00:31, Epoch 1/1]\n",
       "    </div>\n",
       "    <table border=\"1\" class=\"dataframe\">\n",
       "  <thead>\n",
       " <tr style=\"text-align: left;\">\n",
       "      <th>Step</th>\n",
       "      <th>Training Loss</th>\n",
       "    </tr>\n",
       "  </thead>\n",
       "  <tbody>\n",
       "  </tbody>\n",
       "</table><p>"
      ],
      "text/plain": [
       "<IPython.core.display.HTML object>"
      ]
     },
     "metadata": {},
     "output_type": "display_data"
    },
    {
     "data": {
      "text/html": [],
      "text/plain": [
       "<IPython.core.display.HTML object>"
      ]
     },
     "metadata": {},
     "output_type": "display_data"
    },
    {
     "data": {
      "application/vnd.jupyter.widget-view+json": {
       "model_id": "530a7707a27e4198b7777af6d82a020c",
       "version_major": 2,
       "version_minor": 0
      },
      "text/plain": [
       "  0%|          | 0/119 [00:00<?, ?it/s]"
      ]
     },
     "metadata": {},
     "output_type": "display_data"
    },
    {
     "name": "stdout",
     "output_type": "stream",
     "text": [
      "Validation for lr 0.0001 epoch 8: \n",
      "{'exact_match': 15.126050420168067, 'f1': 27.736749711539627}\n"
     ]
    },
    {
     "data": {
      "text/html": [],
      "text/plain": [
       "<IPython.core.display.HTML object>"
      ]
     },
     "metadata": {},
     "output_type": "display_data"
    },
    {
     "data": {
      "application/vnd.jupyter.widget-view+json": {
       "model_id": "4e6d5ef903f4488d8b687af99fd0bac3",
       "version_major": 2,
       "version_minor": 0
      },
      "text/plain": [
       "  0%|          | 0/119 [00:00<?, ?it/s]"
      ]
     },
     "metadata": {},
     "output_type": "display_data"
    },
    {
     "name": "stdout",
     "output_type": "stream",
     "text": [
      "Test for lr 0.0001 epoch 8: \n",
      "{'exact_match': 20.168067226890756, 'f1': 32.11933326738072}\n",
      "Training with lr=0.0001 and epoch=9\n"
     ]
    },
    {
     "data": {
      "text/html": [
       "\n",
       "    <div>\n",
       "      \n",
       "      <progress value='69' max='69' style='width:300px; height:20px; vertical-align: middle;'></progress>\n",
       "      [69/69 00:31, Epoch 1/1]\n",
       "    </div>\n",
       "    <table border=\"1\" class=\"dataframe\">\n",
       "  <thead>\n",
       " <tr style=\"text-align: left;\">\n",
       "      <th>Step</th>\n",
       "      <th>Training Loss</th>\n",
       "    </tr>\n",
       "  </thead>\n",
       "  <tbody>\n",
       "  </tbody>\n",
       "</table><p>"
      ],
      "text/plain": [
       "<IPython.core.display.HTML object>"
      ]
     },
     "metadata": {},
     "output_type": "display_data"
    },
    {
     "data": {
      "text/html": [],
      "text/plain": [
       "<IPython.core.display.HTML object>"
      ]
     },
     "metadata": {},
     "output_type": "display_data"
    },
    {
     "data": {
      "application/vnd.jupyter.widget-view+json": {
       "model_id": "a7cfd42bef6548ca9d70738505478d0d",
       "version_major": 2,
       "version_minor": 0
      },
      "text/plain": [
       "  0%|          | 0/119 [00:00<?, ?it/s]"
      ]
     },
     "metadata": {},
     "output_type": "display_data"
    },
    {
     "name": "stdout",
     "output_type": "stream",
     "text": [
      "Validation for lr 0.0001 epoch 9: \n",
      "{'exact_match': 19.327731092436974, 'f1': 28.764911068095497}\n"
     ]
    },
    {
     "data": {
      "text/html": [],
      "text/plain": [
       "<IPython.core.display.HTML object>"
      ]
     },
     "metadata": {},
     "output_type": "display_data"
    },
    {
     "data": {
      "application/vnd.jupyter.widget-view+json": {
       "model_id": "f6fcd637808a4d979ec6526159f84beb",
       "version_major": 2,
       "version_minor": 0
      },
      "text/plain": [
       "  0%|          | 0/119 [00:00<?, ?it/s]"
      ]
     },
     "metadata": {},
     "output_type": "display_data"
    },
    {
     "name": "stdout",
     "output_type": "stream",
     "text": [
      "Test for lr 0.0001 epoch 9: \n",
      "{'exact_match': 19.327731092436974, 'f1': 30.332320779676184}\n",
      "Training with lr=0.0001 and epoch=10\n"
     ]
    },
    {
     "data": {
      "text/html": [
       "\n",
       "    <div>\n",
       "      \n",
       "      <progress value='69' max='69' style='width:300px; height:20px; vertical-align: middle;'></progress>\n",
       "      [69/69 00:31, Epoch 1/1]\n",
       "    </div>\n",
       "    <table border=\"1\" class=\"dataframe\">\n",
       "  <thead>\n",
       " <tr style=\"text-align: left;\">\n",
       "      <th>Step</th>\n",
       "      <th>Training Loss</th>\n",
       "    </tr>\n",
       "  </thead>\n",
       "  <tbody>\n",
       "  </tbody>\n",
       "</table><p>"
      ],
      "text/plain": [
       "<IPython.core.display.HTML object>"
      ]
     },
     "metadata": {},
     "output_type": "display_data"
    },
    {
     "data": {
      "text/html": [],
      "text/plain": [
       "<IPython.core.display.HTML object>"
      ]
     },
     "metadata": {},
     "output_type": "display_data"
    },
    {
     "data": {
      "application/vnd.jupyter.widget-view+json": {
       "model_id": "d5c489506a254f009e436818d528df94",
       "version_major": 2,
       "version_minor": 0
      },
      "text/plain": [
       "  0%|          | 0/119 [00:00<?, ?it/s]"
      ]
     },
     "metadata": {},
     "output_type": "display_data"
    },
    {
     "name": "stdout",
     "output_type": "stream",
     "text": [
      "Validation for lr 0.0001 epoch 10: \n",
      "{'exact_match': 17.647058823529413, 'f1': 28.148707096628367}\n"
     ]
    },
    {
     "data": {
      "text/html": [],
      "text/plain": [
       "<IPython.core.display.HTML object>"
      ]
     },
     "metadata": {},
     "output_type": "display_data"
    },
    {
     "data": {
      "application/vnd.jupyter.widget-view+json": {
       "model_id": "a830cea246004e71b18c84c46d2aaaa4",
       "version_major": 2,
       "version_minor": 0
      },
      "text/plain": [
       "  0%|          | 0/119 [00:00<?, ?it/s]"
      ]
     },
     "metadata": {},
     "output_type": "display_data"
    },
    {
     "name": "stdout",
     "output_type": "stream",
     "text": [
      "Test for lr 0.0001 epoch 10: \n",
      "{'exact_match': 20.168067226890756, 'f1': 28.487248741395014}\n",
      "Training with lr=0.0001 and epoch=11\n"
     ]
    },
    {
     "data": {
      "text/html": [
       "\n",
       "    <div>\n",
       "      \n",
       "      <progress value='69' max='69' style='width:300px; height:20px; vertical-align: middle;'></progress>\n",
       "      [69/69 00:34, Epoch 1/1]\n",
       "    </div>\n",
       "    <table border=\"1\" class=\"dataframe\">\n",
       "  <thead>\n",
       " <tr style=\"text-align: left;\">\n",
       "      <th>Step</th>\n",
       "      <th>Training Loss</th>\n",
       "    </tr>\n",
       "  </thead>\n",
       "  <tbody>\n",
       "  </tbody>\n",
       "</table><p>"
      ],
      "text/plain": [
       "<IPython.core.display.HTML object>"
      ]
     },
     "metadata": {},
     "output_type": "display_data"
    },
    {
     "data": {
      "text/html": [],
      "text/plain": [
       "<IPython.core.display.HTML object>"
      ]
     },
     "metadata": {},
     "output_type": "display_data"
    },
    {
     "data": {
      "application/vnd.jupyter.widget-view+json": {
       "model_id": "fcc70ffb948143ce8f39f3a27b779d37",
       "version_major": 2,
       "version_minor": 0
      },
      "text/plain": [
       "  0%|          | 0/119 [00:00<?, ?it/s]"
      ]
     },
     "metadata": {},
     "output_type": "display_data"
    },
    {
     "name": "stdout",
     "output_type": "stream",
     "text": [
      "Validation for lr 0.0001 epoch 11: \n",
      "{'exact_match': 23.529411764705884, 'f1': 34.534230941793965}\n"
     ]
    },
    {
     "data": {
      "text/html": [],
      "text/plain": [
       "<IPython.core.display.HTML object>"
      ]
     },
     "metadata": {},
     "output_type": "display_data"
    },
    {
     "data": {
      "application/vnd.jupyter.widget-view+json": {
       "model_id": "6de7a1b16814491bb7d9c2c5613945f4",
       "version_major": 2,
       "version_minor": 0
      },
      "text/plain": [
       "  0%|          | 0/119 [00:00<?, ?it/s]"
      ]
     },
     "metadata": {},
     "output_type": "display_data"
    },
    {
     "name": "stdout",
     "output_type": "stream",
     "text": [
      "Test for lr 0.0001 epoch 11: \n",
      "{'exact_match': 22.689075630252102, 'f1': 32.9592156658166}\n",
      "Training with lr=0.0001 and epoch=12\n"
     ]
    },
    {
     "data": {
      "text/html": [
       "\n",
       "    <div>\n",
       "      \n",
       "      <progress value='69' max='69' style='width:300px; height:20px; vertical-align: middle;'></progress>\n",
       "      [69/69 00:31, Epoch 1/1]\n",
       "    </div>\n",
       "    <table border=\"1\" class=\"dataframe\">\n",
       "  <thead>\n",
       " <tr style=\"text-align: left;\">\n",
       "      <th>Step</th>\n",
       "      <th>Training Loss</th>\n",
       "    </tr>\n",
       "  </thead>\n",
       "  <tbody>\n",
       "  </tbody>\n",
       "</table><p>"
      ],
      "text/plain": [
       "<IPython.core.display.HTML object>"
      ]
     },
     "metadata": {},
     "output_type": "display_data"
    },
    {
     "data": {
      "text/html": [],
      "text/plain": [
       "<IPython.core.display.HTML object>"
      ]
     },
     "metadata": {},
     "output_type": "display_data"
    },
    {
     "data": {
      "application/vnd.jupyter.widget-view+json": {
       "model_id": "c693285e9851418d92c7ccf2ca67a63b",
       "version_major": 2,
       "version_minor": 0
      },
      "text/plain": [
       "  0%|          | 0/119 [00:00<?, ?it/s]"
      ]
     },
     "metadata": {},
     "output_type": "display_data"
    },
    {
     "name": "stdout",
     "output_type": "stream",
     "text": [
      "Validation for lr 0.0001 epoch 12: \n",
      "{'exact_match': 20.168067226890756, 'f1': 30.40828219399647}\n"
     ]
    },
    {
     "data": {
      "text/html": [],
      "text/plain": [
       "<IPython.core.display.HTML object>"
      ]
     },
     "metadata": {},
     "output_type": "display_data"
    },
    {
     "data": {
      "application/vnd.jupyter.widget-view+json": {
       "model_id": "582bccd5bc974b0c83cb806e67db481e",
       "version_major": 2,
       "version_minor": 0
      },
      "text/plain": [
       "  0%|          | 0/119 [00:00<?, ?it/s]"
      ]
     },
     "metadata": {},
     "output_type": "display_data"
    },
    {
     "name": "stdout",
     "output_type": "stream",
     "text": [
      "Test for lr 0.0001 epoch 12: \n",
      "{'exact_match': 20.168067226890756, 'f1': 30.287221048691002}\n",
      "Training with lr=0.0001 and epoch=13\n"
     ]
    },
    {
     "data": {
      "text/html": [
       "\n",
       "    <div>\n",
       "      \n",
       "      <progress value='69' max='69' style='width:300px; height:20px; vertical-align: middle;'></progress>\n",
       "      [69/69 00:31, Epoch 1/1]\n",
       "    </div>\n",
       "    <table border=\"1\" class=\"dataframe\">\n",
       "  <thead>\n",
       " <tr style=\"text-align: left;\">\n",
       "      <th>Step</th>\n",
       "      <th>Training Loss</th>\n",
       "    </tr>\n",
       "  </thead>\n",
       "  <tbody>\n",
       "  </tbody>\n",
       "</table><p>"
      ],
      "text/plain": [
       "<IPython.core.display.HTML object>"
      ]
     },
     "metadata": {},
     "output_type": "display_data"
    },
    {
     "data": {
      "text/html": [],
      "text/plain": [
       "<IPython.core.display.HTML object>"
      ]
     },
     "metadata": {},
     "output_type": "display_data"
    },
    {
     "data": {
      "application/vnd.jupyter.widget-view+json": {
       "model_id": "ae98b093e4b04afab5e36503a4c5e032",
       "version_major": 2,
       "version_minor": 0
      },
      "text/plain": [
       "  0%|          | 0/119 [00:00<?, ?it/s]"
      ]
     },
     "metadata": {},
     "output_type": "display_data"
    },
    {
     "name": "stdout",
     "output_type": "stream",
     "text": [
      "Validation for lr 0.0001 epoch 13: \n",
      "{'exact_match': 19.327731092436974, 'f1': 32.66512380497603}\n"
     ]
    },
    {
     "data": {
      "text/html": [],
      "text/plain": [
       "<IPython.core.display.HTML object>"
      ]
     },
     "metadata": {},
     "output_type": "display_data"
    },
    {
     "data": {
      "application/vnd.jupyter.widget-view+json": {
       "model_id": "ab9c1f00581449309f0b997da084f639",
       "version_major": 2,
       "version_minor": 0
      },
      "text/plain": [
       "  0%|          | 0/119 [00:00<?, ?it/s]"
      ]
     },
     "metadata": {},
     "output_type": "display_data"
    },
    {
     "name": "stdout",
     "output_type": "stream",
     "text": [
      "Test for lr 0.0001 epoch 13: \n",
      "{'exact_match': 23.529411764705884, 'f1': 33.39814550103127}\n",
      "Training with lr=0.0001 and epoch=14\n"
     ]
    },
    {
     "data": {
      "text/html": [
       "\n",
       "    <div>\n",
       "      \n",
       "      <progress value='69' max='69' style='width:300px; height:20px; vertical-align: middle;'></progress>\n",
       "      [69/69 00:31, Epoch 1/1]\n",
       "    </div>\n",
       "    <table border=\"1\" class=\"dataframe\">\n",
       "  <thead>\n",
       " <tr style=\"text-align: left;\">\n",
       "      <th>Step</th>\n",
       "      <th>Training Loss</th>\n",
       "    </tr>\n",
       "  </thead>\n",
       "  <tbody>\n",
       "  </tbody>\n",
       "</table><p>"
      ],
      "text/plain": [
       "<IPython.core.display.HTML object>"
      ]
     },
     "metadata": {},
     "output_type": "display_data"
    },
    {
     "data": {
      "text/html": [],
      "text/plain": [
       "<IPython.core.display.HTML object>"
      ]
     },
     "metadata": {},
     "output_type": "display_data"
    },
    {
     "data": {
      "application/vnd.jupyter.widget-view+json": {
       "model_id": "f8954c3d88ad49e09c90474fc6c5e2e5",
       "version_major": 2,
       "version_minor": 0
      },
      "text/plain": [
       "  0%|          | 0/119 [00:00<?, ?it/s]"
      ]
     },
     "metadata": {},
     "output_type": "display_data"
    },
    {
     "name": "stdout",
     "output_type": "stream",
     "text": [
      "Validation for lr 0.0001 epoch 14: \n",
      "{'exact_match': 18.48739495798319, 'f1': 28.612407421562654}\n"
     ]
    },
    {
     "data": {
      "text/html": [],
      "text/plain": [
       "<IPython.core.display.HTML object>"
      ]
     },
     "metadata": {},
     "output_type": "display_data"
    },
    {
     "data": {
      "application/vnd.jupyter.widget-view+json": {
       "model_id": "989f0205daae44f2a48641d6d7b6a0c9",
       "version_major": 2,
       "version_minor": 0
      },
      "text/plain": [
       "  0%|          | 0/119 [00:00<?, ?it/s]"
      ]
     },
     "metadata": {},
     "output_type": "display_data"
    },
    {
     "name": "stdout",
     "output_type": "stream",
     "text": [
      "Test for lr 0.0001 epoch 14: \n",
      "{'exact_match': 25.210084033613445, 'f1': 33.09062581140579}\n",
      "Training with lr=0.0001 and epoch=15\n"
     ]
    },
    {
     "data": {
      "text/html": [
       "\n",
       "    <div>\n",
       "      \n",
       "      <progress value='69' max='69' style='width:300px; height:20px; vertical-align: middle;'></progress>\n",
       "      [69/69 00:35, Epoch 1/1]\n",
       "    </div>\n",
       "    <table border=\"1\" class=\"dataframe\">\n",
       "  <thead>\n",
       " <tr style=\"text-align: left;\">\n",
       "      <th>Step</th>\n",
       "      <th>Training Loss</th>\n",
       "    </tr>\n",
       "  </thead>\n",
       "  <tbody>\n",
       "  </tbody>\n",
       "</table><p>"
      ],
      "text/plain": [
       "<IPython.core.display.HTML object>"
      ]
     },
     "metadata": {},
     "output_type": "display_data"
    },
    {
     "data": {
      "text/html": [],
      "text/plain": [
       "<IPython.core.display.HTML object>"
      ]
     },
     "metadata": {},
     "output_type": "display_data"
    },
    {
     "data": {
      "application/vnd.jupyter.widget-view+json": {
       "model_id": "8fe72eba085f402fa9860c51105b154b",
       "version_major": 2,
       "version_minor": 0
      },
      "text/plain": [
       "  0%|          | 0/119 [00:00<?, ?it/s]"
      ]
     },
     "metadata": {},
     "output_type": "display_data"
    },
    {
     "name": "stdout",
     "output_type": "stream",
     "text": [
      "Validation for lr 0.0001 epoch 15: \n",
      "{'exact_match': 17.647058823529413, 'f1': 29.92431680069893}\n"
     ]
    },
    {
     "data": {
      "text/html": [],
      "text/plain": [
       "<IPython.core.display.HTML object>"
      ]
     },
     "metadata": {},
     "output_type": "display_data"
    },
    {
     "data": {
      "application/vnd.jupyter.widget-view+json": {
       "model_id": "2a7995ce9e9b4ab29381065ebc359a33",
       "version_major": 2,
       "version_minor": 0
      },
      "text/plain": [
       "  0%|          | 0/119 [00:00<?, ?it/s]"
      ]
     },
     "metadata": {},
     "output_type": "display_data"
    },
    {
     "name": "stdout",
     "output_type": "stream",
     "text": [
      "Test for lr 0.0001 epoch 15: \n",
      "{'exact_match': 26.050420168067227, 'f1': 35.93538142927066}\n",
      "Training with lr=0.0001 and epoch=16\n"
     ]
    },
    {
     "data": {
      "text/html": [
       "\n",
       "    <div>\n",
       "      \n",
       "      <progress value='69' max='69' style='width:300px; height:20px; vertical-align: middle;'></progress>\n",
       "      [69/69 00:31, Epoch 1/1]\n",
       "    </div>\n",
       "    <table border=\"1\" class=\"dataframe\">\n",
       "  <thead>\n",
       " <tr style=\"text-align: left;\">\n",
       "      <th>Step</th>\n",
       "      <th>Training Loss</th>\n",
       "    </tr>\n",
       "  </thead>\n",
       "  <tbody>\n",
       "  </tbody>\n",
       "</table><p>"
      ],
      "text/plain": [
       "<IPython.core.display.HTML object>"
      ]
     },
     "metadata": {},
     "output_type": "display_data"
    },
    {
     "data": {
      "text/html": [],
      "text/plain": [
       "<IPython.core.display.HTML object>"
      ]
     },
     "metadata": {},
     "output_type": "display_data"
    },
    {
     "data": {
      "application/vnd.jupyter.widget-view+json": {
       "model_id": "6b99cbee0ebb474c9c3f6b2a12c46505",
       "version_major": 2,
       "version_minor": 0
      },
      "text/plain": [
       "  0%|          | 0/119 [00:00<?, ?it/s]"
      ]
     },
     "metadata": {},
     "output_type": "display_data"
    },
    {
     "name": "stdout",
     "output_type": "stream",
     "text": [
      "Validation for lr 0.0001 epoch 16: \n",
      "{'exact_match': 19.327731092436974, 'f1': 30.35522695947546}\n"
     ]
    },
    {
     "data": {
      "text/html": [],
      "text/plain": [
       "<IPython.core.display.HTML object>"
      ]
     },
     "metadata": {},
     "output_type": "display_data"
    },
    {
     "data": {
      "application/vnd.jupyter.widget-view+json": {
       "model_id": "7eb61e9d7a294322955cd718600ad580",
       "version_major": 2,
       "version_minor": 0
      },
      "text/plain": [
       "  0%|          | 0/119 [00:00<?, ?it/s]"
      ]
     },
     "metadata": {},
     "output_type": "display_data"
    },
    {
     "name": "stdout",
     "output_type": "stream",
     "text": [
      "Test for lr 0.0001 epoch 16: \n",
      "{'exact_match': 25.210084033613445, 'f1': 34.4192411736346}\n",
      "Training with lr=0.0001 and epoch=17\n"
     ]
    },
    {
     "data": {
      "text/html": [
       "\n",
       "    <div>\n",
       "      \n",
       "      <progress value='69' max='69' style='width:300px; height:20px; vertical-align: middle;'></progress>\n",
       "      [69/69 00:31, Epoch 1/1]\n",
       "    </div>\n",
       "    <table border=\"1\" class=\"dataframe\">\n",
       "  <thead>\n",
       " <tr style=\"text-align: left;\">\n",
       "      <th>Step</th>\n",
       "      <th>Training Loss</th>\n",
       "    </tr>\n",
       "  </thead>\n",
       "  <tbody>\n",
       "  </tbody>\n",
       "</table><p>"
      ],
      "text/plain": [
       "<IPython.core.display.HTML object>"
      ]
     },
     "metadata": {},
     "output_type": "display_data"
    },
    {
     "data": {
      "text/html": [],
      "text/plain": [
       "<IPython.core.display.HTML object>"
      ]
     },
     "metadata": {},
     "output_type": "display_data"
    },
    {
     "data": {
      "application/vnd.jupyter.widget-view+json": {
       "model_id": "398bc3faf8c249dc918d0b7157b0d566",
       "version_major": 2,
       "version_minor": 0
      },
      "text/plain": [
       "  0%|          | 0/119 [00:00<?, ?it/s]"
      ]
     },
     "metadata": {},
     "output_type": "display_data"
    },
    {
     "name": "stdout",
     "output_type": "stream",
     "text": [
      "Validation for lr 0.0001 epoch 17: \n",
      "{'exact_match': 20.168067226890756, 'f1': 30.38634776693157}\n"
     ]
    },
    {
     "data": {
      "text/html": [],
      "text/plain": [
       "<IPython.core.display.HTML object>"
      ]
     },
     "metadata": {},
     "output_type": "display_data"
    },
    {
     "data": {
      "application/vnd.jupyter.widget-view+json": {
       "model_id": "8aedab37a67341cbb5a84c9f8c3e447d",
       "version_major": 2,
       "version_minor": 0
      },
      "text/plain": [
       "  0%|          | 0/119 [00:00<?, ?it/s]"
      ]
     },
     "metadata": {},
     "output_type": "display_data"
    },
    {
     "name": "stdout",
     "output_type": "stream",
     "text": [
      "Test for lr 0.0001 epoch 17: \n",
      "{'exact_match': 27.73109243697479, 'f1': 36.553829274609264}\n",
      "Training with lr=0.0001 and epoch=18\n"
     ]
    },
    {
     "data": {
      "text/html": [
       "\n",
       "    <div>\n",
       "      \n",
       "      <progress value='69' max='69' style='width:300px; height:20px; vertical-align: middle;'></progress>\n",
       "      [69/69 00:31, Epoch 1/1]\n",
       "    </div>\n",
       "    <table border=\"1\" class=\"dataframe\">\n",
       "  <thead>\n",
       " <tr style=\"text-align: left;\">\n",
       "      <th>Step</th>\n",
       "      <th>Training Loss</th>\n",
       "    </tr>\n",
       "  </thead>\n",
       "  <tbody>\n",
       "  </tbody>\n",
       "</table><p>"
      ],
      "text/plain": [
       "<IPython.core.display.HTML object>"
      ]
     },
     "metadata": {},
     "output_type": "display_data"
    },
    {
     "data": {
      "text/html": [],
      "text/plain": [
       "<IPython.core.display.HTML object>"
      ]
     },
     "metadata": {},
     "output_type": "display_data"
    },
    {
     "data": {
      "application/vnd.jupyter.widget-view+json": {
       "model_id": "751a5e80c1ff44c7b419d4424ccb8d7a",
       "version_major": 2,
       "version_minor": 0
      },
      "text/plain": [
       "  0%|          | 0/119 [00:00<?, ?it/s]"
      ]
     },
     "metadata": {},
     "output_type": "display_data"
    },
    {
     "name": "stdout",
     "output_type": "stream",
     "text": [
      "Validation for lr 0.0001 epoch 18: \n",
      "{'exact_match': 21.008403361344538, 'f1': 31.171398629381812}\n"
     ]
    },
    {
     "data": {
      "text/html": [],
      "text/plain": [
       "<IPython.core.display.HTML object>"
      ]
     },
     "metadata": {},
     "output_type": "display_data"
    },
    {
     "data": {
      "application/vnd.jupyter.widget-view+json": {
       "model_id": "baab70f82b32402684a7afb7bb0ff849",
       "version_major": 2,
       "version_minor": 0
      },
      "text/plain": [
       "  0%|          | 0/119 [00:00<?, ?it/s]"
      ]
     },
     "metadata": {},
     "output_type": "display_data"
    },
    {
     "name": "stdout",
     "output_type": "stream",
     "text": [
      "Test for lr 0.0001 epoch 18: \n",
      "{'exact_match': 25.210084033613445, 'f1': 36.44245838592745}\n",
      "Training with lr=0.0001 and epoch=19\n"
     ]
    },
    {
     "data": {
      "text/html": [
       "\n",
       "    <div>\n",
       "      \n",
       "      <progress value='69' max='69' style='width:300px; height:20px; vertical-align: middle;'></progress>\n",
       "      [69/69 00:31, Epoch 1/1]\n",
       "    </div>\n",
       "    <table border=\"1\" class=\"dataframe\">\n",
       "  <thead>\n",
       " <tr style=\"text-align: left;\">\n",
       "      <th>Step</th>\n",
       "      <th>Training Loss</th>\n",
       "    </tr>\n",
       "  </thead>\n",
       "  <tbody>\n",
       "  </tbody>\n",
       "</table><p>"
      ],
      "text/plain": [
       "<IPython.core.display.HTML object>"
      ]
     },
     "metadata": {},
     "output_type": "display_data"
    },
    {
     "data": {
      "text/html": [],
      "text/plain": [
       "<IPython.core.display.HTML object>"
      ]
     },
     "metadata": {},
     "output_type": "display_data"
    },
    {
     "data": {
      "application/vnd.jupyter.widget-view+json": {
       "model_id": "7f221af30c82469c9093db6cc204dfd4",
       "version_major": 2,
       "version_minor": 0
      },
      "text/plain": [
       "  0%|          | 0/119 [00:00<?, ?it/s]"
      ]
     },
     "metadata": {},
     "output_type": "display_data"
    },
    {
     "name": "stdout",
     "output_type": "stream",
     "text": [
      "Validation for lr 0.0001 epoch 19: \n",
      "{'exact_match': 18.48739495798319, 'f1': 29.83392424568894}\n"
     ]
    },
    {
     "data": {
      "text/html": [],
      "text/plain": [
       "<IPython.core.display.HTML object>"
      ]
     },
     "metadata": {},
     "output_type": "display_data"
    },
    {
     "data": {
      "application/vnd.jupyter.widget-view+json": {
       "model_id": "4b130b76201d424cb2728947c27f1860",
       "version_major": 2,
       "version_minor": 0
      },
      "text/plain": [
       "  0%|          | 0/119 [00:00<?, ?it/s]"
      ]
     },
     "metadata": {},
     "output_type": "display_data"
    },
    {
     "name": "stdout",
     "output_type": "stream",
     "text": [
      "Test for lr 0.0001 epoch 19: \n",
      "{'exact_match': 22.689075630252102, 'f1': 33.8403739486972}\n",
      "Training with lr=0.0001 and epoch=20\n"
     ]
    },
    {
     "data": {
      "text/html": [
       "\n",
       "    <div>\n",
       "      \n",
       "      <progress value='69' max='69' style='width:300px; height:20px; vertical-align: middle;'></progress>\n",
       "      [69/69 00:31, Epoch 1/1]\n",
       "    </div>\n",
       "    <table border=\"1\" class=\"dataframe\">\n",
       "  <thead>\n",
       " <tr style=\"text-align: left;\">\n",
       "      <th>Step</th>\n",
       "      <th>Training Loss</th>\n",
       "    </tr>\n",
       "  </thead>\n",
       "  <tbody>\n",
       "  </tbody>\n",
       "</table><p>"
      ],
      "text/plain": [
       "<IPython.core.display.HTML object>"
      ]
     },
     "metadata": {},
     "output_type": "display_data"
    },
    {
     "data": {
      "text/html": [],
      "text/plain": [
       "<IPython.core.display.HTML object>"
      ]
     },
     "metadata": {},
     "output_type": "display_data"
    },
    {
     "data": {
      "application/vnd.jupyter.widget-view+json": {
       "model_id": "5742382b11b946feb9783969172fa7c5",
       "version_major": 2,
       "version_minor": 0
      },
      "text/plain": [
       "  0%|          | 0/119 [00:00<?, ?it/s]"
      ]
     },
     "metadata": {},
     "output_type": "display_data"
    },
    {
     "name": "stdout",
     "output_type": "stream",
     "text": [
      "Validation for lr 0.0001 epoch 20: \n",
      "{'exact_match': 22.689075630252102, 'f1': 35.09863619107316}\n"
     ]
    },
    {
     "data": {
      "text/html": [],
      "text/plain": [
       "<IPython.core.display.HTML object>"
      ]
     },
     "metadata": {},
     "output_type": "display_data"
    },
    {
     "data": {
      "application/vnd.jupyter.widget-view+json": {
       "model_id": "a232d743cd5245a08adf5795b435854c",
       "version_major": 2,
       "version_minor": 0
      },
      "text/plain": [
       "  0%|          | 0/119 [00:00<?, ?it/s]"
      ]
     },
     "metadata": {},
     "output_type": "display_data"
    },
    {
     "name": "stdout",
     "output_type": "stream",
     "text": [
      "Test for lr 0.0001 epoch 20: \n",
      "{'exact_match': 23.529411764705884, 'f1': 34.48886946372757}\n",
      "Training with lr=0.0001 and epoch=21\n"
     ]
    },
    {
     "data": {
      "text/html": [
       "\n",
       "    <div>\n",
       "      \n",
       "      <progress value='69' max='69' style='width:300px; height:20px; vertical-align: middle;'></progress>\n",
       "      [69/69 00:38, Epoch 1/1]\n",
       "    </div>\n",
       "    <table border=\"1\" class=\"dataframe\">\n",
       "  <thead>\n",
       " <tr style=\"text-align: left;\">\n",
       "      <th>Step</th>\n",
       "      <th>Training Loss</th>\n",
       "    </tr>\n",
       "  </thead>\n",
       "  <tbody>\n",
       "  </tbody>\n",
       "</table><p>"
      ],
      "text/plain": [
       "<IPython.core.display.HTML object>"
      ]
     },
     "metadata": {},
     "output_type": "display_data"
    },
    {
     "data": {
      "text/html": [],
      "text/plain": [
       "<IPython.core.display.HTML object>"
      ]
     },
     "metadata": {},
     "output_type": "display_data"
    },
    {
     "data": {
      "application/vnd.jupyter.widget-view+json": {
       "model_id": "2f6be1858fcb41338bc0d2da1f45cf65",
       "version_major": 2,
       "version_minor": 0
      },
      "text/plain": [
       "  0%|          | 0/119 [00:00<?, ?it/s]"
      ]
     },
     "metadata": {},
     "output_type": "display_data"
    },
    {
     "name": "stdout",
     "output_type": "stream",
     "text": [
      "Validation for lr 0.0001 epoch 21: \n",
      "{'exact_match': 21.84873949579832, 'f1': 33.54101314185347}\n"
     ]
    },
    {
     "data": {
      "text/html": [],
      "text/plain": [
       "<IPython.core.display.HTML object>"
      ]
     },
     "metadata": {},
     "output_type": "display_data"
    },
    {
     "data": {
      "application/vnd.jupyter.widget-view+json": {
       "model_id": "c40d57023a5b4b9ab326e9ddfbee11e0",
       "version_major": 2,
       "version_minor": 0
      },
      "text/plain": [
       "  0%|          | 0/119 [00:00<?, ?it/s]"
      ]
     },
     "metadata": {},
     "output_type": "display_data"
    },
    {
     "name": "stdout",
     "output_type": "stream",
     "text": [
      "Test for lr 0.0001 epoch 21: \n",
      "{'exact_match': 23.529411764705884, 'f1': 33.71786340601859}\n",
      "Training with lr=0.0001 and epoch=22\n"
     ]
    },
    {
     "data": {
      "text/html": [
       "\n",
       "    <div>\n",
       "      \n",
       "      <progress value='69' max='69' style='width:300px; height:20px; vertical-align: middle;'></progress>\n",
       "      [69/69 00:33, Epoch 1/1]\n",
       "    </div>\n",
       "    <table border=\"1\" class=\"dataframe\">\n",
       "  <thead>\n",
       " <tr style=\"text-align: left;\">\n",
       "      <th>Step</th>\n",
       "      <th>Training Loss</th>\n",
       "    </tr>\n",
       "  </thead>\n",
       "  <tbody>\n",
       "  </tbody>\n",
       "</table><p>"
      ],
      "text/plain": [
       "<IPython.core.display.HTML object>"
      ]
     },
     "metadata": {},
     "output_type": "display_data"
    },
    {
     "data": {
      "text/html": [],
      "text/plain": [
       "<IPython.core.display.HTML object>"
      ]
     },
     "metadata": {},
     "output_type": "display_data"
    },
    {
     "data": {
      "application/vnd.jupyter.widget-view+json": {
       "model_id": "568f2e488c5d4cbe87aad49923772766",
       "version_major": 2,
       "version_minor": 0
      },
      "text/plain": [
       "  0%|          | 0/119 [00:00<?, ?it/s]"
      ]
     },
     "metadata": {},
     "output_type": "display_data"
    },
    {
     "name": "stdout",
     "output_type": "stream",
     "text": [
      "Validation for lr 0.0001 epoch 22: \n",
      "{'exact_match': 20.168067226890756, 'f1': 31.05545481595901}\n"
     ]
    },
    {
     "data": {
      "text/html": [],
      "text/plain": [
       "<IPython.core.display.HTML object>"
      ]
     },
     "metadata": {},
     "output_type": "display_data"
    },
    {
     "data": {
      "application/vnd.jupyter.widget-view+json": {
       "model_id": "6600142962844fdb9867a730a7f5c541",
       "version_major": 2,
       "version_minor": 0
      },
      "text/plain": [
       "  0%|          | 0/119 [00:00<?, ?it/s]"
      ]
     },
     "metadata": {},
     "output_type": "display_data"
    },
    {
     "name": "stdout",
     "output_type": "stream",
     "text": [
      "Test for lr 0.0001 epoch 22: \n",
      "{'exact_match': 23.529411764705884, 'f1': 34.47150713114812}\n",
      "Training with lr=0.0001 and epoch=23\n"
     ]
    },
    {
     "data": {
      "text/html": [
       "\n",
       "    <div>\n",
       "      \n",
       "      <progress value='69' max='69' style='width:300px; height:20px; vertical-align: middle;'></progress>\n",
       "      [69/69 00:31, Epoch 1/1]\n",
       "    </div>\n",
       "    <table border=\"1\" class=\"dataframe\">\n",
       "  <thead>\n",
       " <tr style=\"text-align: left;\">\n",
       "      <th>Step</th>\n",
       "      <th>Training Loss</th>\n",
       "    </tr>\n",
       "  </thead>\n",
       "  <tbody>\n",
       "  </tbody>\n",
       "</table><p>"
      ],
      "text/plain": [
       "<IPython.core.display.HTML object>"
      ]
     },
     "metadata": {},
     "output_type": "display_data"
    },
    {
     "data": {
      "text/html": [],
      "text/plain": [
       "<IPython.core.display.HTML object>"
      ]
     },
     "metadata": {},
     "output_type": "display_data"
    },
    {
     "data": {
      "application/vnd.jupyter.widget-view+json": {
       "model_id": "4d7e2730cd5d4e28bb0d49ee836f3e40",
       "version_major": 2,
       "version_minor": 0
      },
      "text/plain": [
       "  0%|          | 0/119 [00:00<?, ?it/s]"
      ]
     },
     "metadata": {},
     "output_type": "display_data"
    },
    {
     "name": "stdout",
     "output_type": "stream",
     "text": [
      "Validation for lr 0.0001 epoch 23: \n",
      "{'exact_match': 22.689075630252102, 'f1': 34.36497415365433}\n"
     ]
    },
    {
     "data": {
      "text/html": [],
      "text/plain": [
       "<IPython.core.display.HTML object>"
      ]
     },
     "metadata": {},
     "output_type": "display_data"
    },
    {
     "data": {
      "application/vnd.jupyter.widget-view+json": {
       "model_id": "bebe219c94c24066a708bf305d4a646f",
       "version_major": 2,
       "version_minor": 0
      },
      "text/plain": [
       "  0%|          | 0/119 [00:00<?, ?it/s]"
      ]
     },
     "metadata": {},
     "output_type": "display_data"
    },
    {
     "name": "stdout",
     "output_type": "stream",
     "text": [
      "Test for lr 0.0001 epoch 23: \n",
      "{'exact_match': 23.529411764705884, 'f1': 34.14139016731883}\n",
      "Training with lr=0.0001 and epoch=24\n"
     ]
    },
    {
     "data": {
      "text/html": [
       "\n",
       "    <div>\n",
       "      \n",
       "      <progress value='69' max='69' style='width:300px; height:20px; vertical-align: middle;'></progress>\n",
       "      [69/69 00:31, Epoch 1/1]\n",
       "    </div>\n",
       "    <table border=\"1\" class=\"dataframe\">\n",
       "  <thead>\n",
       " <tr style=\"text-align: left;\">\n",
       "      <th>Step</th>\n",
       "      <th>Training Loss</th>\n",
       "    </tr>\n",
       "  </thead>\n",
       "  <tbody>\n",
       "  </tbody>\n",
       "</table><p>"
      ],
      "text/plain": [
       "<IPython.core.display.HTML object>"
      ]
     },
     "metadata": {},
     "output_type": "display_data"
    },
    {
     "data": {
      "text/html": [],
      "text/plain": [
       "<IPython.core.display.HTML object>"
      ]
     },
     "metadata": {},
     "output_type": "display_data"
    },
    {
     "data": {
      "application/vnd.jupyter.widget-view+json": {
       "model_id": "476cdede8998408daad7846ae1083706",
       "version_major": 2,
       "version_minor": 0
      },
      "text/plain": [
       "  0%|          | 0/119 [00:00<?, ?it/s]"
      ]
     },
     "metadata": {},
     "output_type": "display_data"
    },
    {
     "name": "stdout",
     "output_type": "stream",
     "text": [
      "Validation for lr 0.0001 epoch 24: \n",
      "{'exact_match': 20.168067226890756, 'f1': 32.78494356888872}\n"
     ]
    },
    {
     "data": {
      "text/html": [],
      "text/plain": [
       "<IPython.core.display.HTML object>"
      ]
     },
     "metadata": {},
     "output_type": "display_data"
    },
    {
     "data": {
      "application/vnd.jupyter.widget-view+json": {
       "model_id": "73864543c53d42549488231896b3b2d7",
       "version_major": 2,
       "version_minor": 0
      },
      "text/plain": [
       "  0%|          | 0/119 [00:00<?, ?it/s]"
      ]
     },
     "metadata": {},
     "output_type": "display_data"
    },
    {
     "name": "stdout",
     "output_type": "stream",
     "text": [
      "Test for lr 0.0001 epoch 24: \n",
      "{'exact_match': 26.050420168067227, 'f1': 36.94129702737607}\n",
      "Training with lr=0.0001 and epoch=25\n"
     ]
    },
    {
     "data": {
      "text/html": [
       "\n",
       "    <div>\n",
       "      \n",
       "      <progress value='69' max='69' style='width:300px; height:20px; vertical-align: middle;'></progress>\n",
       "      [69/69 00:31, Epoch 1/1]\n",
       "    </div>\n",
       "    <table border=\"1\" class=\"dataframe\">\n",
       "  <thead>\n",
       " <tr style=\"text-align: left;\">\n",
       "      <th>Step</th>\n",
       "      <th>Training Loss</th>\n",
       "    </tr>\n",
       "  </thead>\n",
       "  <tbody>\n",
       "  </tbody>\n",
       "</table><p>"
      ],
      "text/plain": [
       "<IPython.core.display.HTML object>"
      ]
     },
     "metadata": {},
     "output_type": "display_data"
    },
    {
     "data": {
      "text/html": [],
      "text/plain": [
       "<IPython.core.display.HTML object>"
      ]
     },
     "metadata": {},
     "output_type": "display_data"
    },
    {
     "data": {
      "application/vnd.jupyter.widget-view+json": {
       "model_id": "0a978f4eb20e43f9accac9c286407799",
       "version_major": 2,
       "version_minor": 0
      },
      "text/plain": [
       "  0%|          | 0/119 [00:00<?, ?it/s]"
      ]
     },
     "metadata": {},
     "output_type": "display_data"
    },
    {
     "name": "stdout",
     "output_type": "stream",
     "text": [
      "Validation for lr 0.0001 epoch 25: \n",
      "{'exact_match': 22.689075630252102, 'f1': 33.18266390898229}\n"
     ]
    },
    {
     "data": {
      "text/html": [],
      "text/plain": [
       "<IPython.core.display.HTML object>"
      ]
     },
     "metadata": {},
     "output_type": "display_data"
    },
    {
     "data": {
      "application/vnd.jupyter.widget-view+json": {
       "model_id": "09fb104b2f524a8694bb2bb92e0a4ffe",
       "version_major": 2,
       "version_minor": 0
      },
      "text/plain": [
       "  0%|          | 0/119 [00:00<?, ?it/s]"
      ]
     },
     "metadata": {},
     "output_type": "display_data"
    },
    {
     "name": "stdout",
     "output_type": "stream",
     "text": [
      "Test for lr 0.0001 epoch 25: \n",
      "{'exact_match': 23.529411764705884, 'f1': 33.542548820825495}\n",
      "Training with lr=0.0001 and epoch=26\n"
     ]
    },
    {
     "data": {
      "text/html": [
       "\n",
       "    <div>\n",
       "      \n",
       "      <progress value='69' max='69' style='width:300px; height:20px; vertical-align: middle;'></progress>\n",
       "      [69/69 00:31, Epoch 1/1]\n",
       "    </div>\n",
       "    <table border=\"1\" class=\"dataframe\">\n",
       "  <thead>\n",
       " <tr style=\"text-align: left;\">\n",
       "      <th>Step</th>\n",
       "      <th>Training Loss</th>\n",
       "    </tr>\n",
       "  </thead>\n",
       "  <tbody>\n",
       "  </tbody>\n",
       "</table><p>"
      ],
      "text/plain": [
       "<IPython.core.display.HTML object>"
      ]
     },
     "metadata": {},
     "output_type": "display_data"
    },
    {
     "data": {
      "text/html": [],
      "text/plain": [
       "<IPython.core.display.HTML object>"
      ]
     },
     "metadata": {},
     "output_type": "display_data"
    },
    {
     "data": {
      "application/vnd.jupyter.widget-view+json": {
       "model_id": "afa954befa4649f9905aa4f7261fdacf",
       "version_major": 2,
       "version_minor": 0
      },
      "text/plain": [
       "  0%|          | 0/119 [00:00<?, ?it/s]"
      ]
     },
     "metadata": {},
     "output_type": "display_data"
    },
    {
     "name": "stdout",
     "output_type": "stream",
     "text": [
      "Validation for lr 0.0001 epoch 26: \n",
      "{'exact_match': 20.168067226890756, 'f1': 31.569194111210923}\n"
     ]
    },
    {
     "data": {
      "text/html": [],
      "text/plain": [
       "<IPython.core.display.HTML object>"
      ]
     },
     "metadata": {},
     "output_type": "display_data"
    },
    {
     "data": {
      "application/vnd.jupyter.widget-view+json": {
       "model_id": "6fcdfcfa932b4fc1a15572a311580446",
       "version_major": 2,
       "version_minor": 0
      },
      "text/plain": [
       "  0%|          | 0/119 [00:00<?, ?it/s]"
      ]
     },
     "metadata": {},
     "output_type": "display_data"
    },
    {
     "name": "stdout",
     "output_type": "stream",
     "text": [
      "Test for lr 0.0001 epoch 26: \n",
      "{'exact_match': 27.73109243697479, 'f1': 36.64124983969458}\n",
      "Training with lr=0.0001 and epoch=27\n"
     ]
    },
    {
     "data": {
      "text/html": [
       "\n",
       "    <div>\n",
       "      \n",
       "      <progress value='69' max='69' style='width:300px; height:20px; vertical-align: middle;'></progress>\n",
       "      [69/69 00:34, Epoch 1/1]\n",
       "    </div>\n",
       "    <table border=\"1\" class=\"dataframe\">\n",
       "  <thead>\n",
       " <tr style=\"text-align: left;\">\n",
       "      <th>Step</th>\n",
       "      <th>Training Loss</th>\n",
       "    </tr>\n",
       "  </thead>\n",
       "  <tbody>\n",
       "  </tbody>\n",
       "</table><p>"
      ],
      "text/plain": [
       "<IPython.core.display.HTML object>"
      ]
     },
     "metadata": {},
     "output_type": "display_data"
    },
    {
     "data": {
      "text/html": [],
      "text/plain": [
       "<IPython.core.display.HTML object>"
      ]
     },
     "metadata": {},
     "output_type": "display_data"
    },
    {
     "data": {
      "application/vnd.jupyter.widget-view+json": {
       "model_id": "d1a6ca500ce04b87a35f020c2692ad5a",
       "version_major": 2,
       "version_minor": 0
      },
      "text/plain": [
       "  0%|          | 0/119 [00:00<?, ?it/s]"
      ]
     },
     "metadata": {},
     "output_type": "display_data"
    },
    {
     "name": "stdout",
     "output_type": "stream",
     "text": [
      "Validation for lr 0.0001 epoch 27: \n",
      "{'exact_match': 20.168067226890756, 'f1': 30.890672960748667}\n"
     ]
    },
    {
     "data": {
      "text/html": [],
      "text/plain": [
       "<IPython.core.display.HTML object>"
      ]
     },
     "metadata": {},
     "output_type": "display_data"
    },
    {
     "data": {
      "application/vnd.jupyter.widget-view+json": {
       "model_id": "fced3a7c42c9441f86a1a9c1a263075b",
       "version_major": 2,
       "version_minor": 0
      },
      "text/plain": [
       "  0%|          | 0/119 [00:00<?, ?it/s]"
      ]
     },
     "metadata": {},
     "output_type": "display_data"
    },
    {
     "name": "stdout",
     "output_type": "stream",
     "text": [
      "Test for lr 0.0001 epoch 27: \n",
      "{'exact_match': 25.210084033613445, 'f1': 33.773537670788244}\n",
      "Training with lr=0.0001 and epoch=28\n"
     ]
    },
    {
     "data": {
      "text/html": [
       "\n",
       "    <div>\n",
       "      \n",
       "      <progress value='69' max='69' style='width:300px; height:20px; vertical-align: middle;'></progress>\n",
       "      [69/69 00:31, Epoch 1/1]\n",
       "    </div>\n",
       "    <table border=\"1\" class=\"dataframe\">\n",
       "  <thead>\n",
       " <tr style=\"text-align: left;\">\n",
       "      <th>Step</th>\n",
       "      <th>Training Loss</th>\n",
       "    </tr>\n",
       "  </thead>\n",
       "  <tbody>\n",
       "  </tbody>\n",
       "</table><p>"
      ],
      "text/plain": [
       "<IPython.core.display.HTML object>"
      ]
     },
     "metadata": {},
     "output_type": "display_data"
    },
    {
     "data": {
      "text/html": [],
      "text/plain": [
       "<IPython.core.display.HTML object>"
      ]
     },
     "metadata": {},
     "output_type": "display_data"
    },
    {
     "data": {
      "application/vnd.jupyter.widget-view+json": {
       "model_id": "682174ef0422494daebfe48cf3abefd5",
       "version_major": 2,
       "version_minor": 0
      },
      "text/plain": [
       "  0%|          | 0/119 [00:00<?, ?it/s]"
      ]
     },
     "metadata": {},
     "output_type": "display_data"
    },
    {
     "name": "stdout",
     "output_type": "stream",
     "text": [
      "Validation for lr 0.0001 epoch 28: \n",
      "{'exact_match': 18.48739495798319, 'f1': 27.48397469649129}\n"
     ]
    },
    {
     "data": {
      "text/html": [],
      "text/plain": [
       "<IPython.core.display.HTML object>"
      ]
     },
     "metadata": {},
     "output_type": "display_data"
    },
    {
     "data": {
      "application/vnd.jupyter.widget-view+json": {
       "model_id": "15d6af996d5046559c71c4c278ea5b6b",
       "version_major": 2,
       "version_minor": 0
      },
      "text/plain": [
       "  0%|          | 0/119 [00:00<?, ?it/s]"
      ]
     },
     "metadata": {},
     "output_type": "display_data"
    },
    {
     "name": "stdout",
     "output_type": "stream",
     "text": [
      "Test for lr 0.0001 epoch 28: \n",
      "{'exact_match': 27.73109243697479, 'f1': 37.91224347533686}\n",
      "Training with lr=0.0001 and epoch=29\n"
     ]
    },
    {
     "data": {
      "text/html": [
       "\n",
       "    <div>\n",
       "      \n",
       "      <progress value='69' max='69' style='width:300px; height:20px; vertical-align: middle;'></progress>\n",
       "      [69/69 00:31, Epoch 1/1]\n",
       "    </div>\n",
       "    <table border=\"1\" class=\"dataframe\">\n",
       "  <thead>\n",
       " <tr style=\"text-align: left;\">\n",
       "      <th>Step</th>\n",
       "      <th>Training Loss</th>\n",
       "    </tr>\n",
       "  </thead>\n",
       "  <tbody>\n",
       "  </tbody>\n",
       "</table><p>"
      ],
      "text/plain": [
       "<IPython.core.display.HTML object>"
      ]
     },
     "metadata": {},
     "output_type": "display_data"
    },
    {
     "data": {
      "text/html": [],
      "text/plain": [
       "<IPython.core.display.HTML object>"
      ]
     },
     "metadata": {},
     "output_type": "display_data"
    },
    {
     "data": {
      "application/vnd.jupyter.widget-view+json": {
       "model_id": "39f201267f2c45319bec1e2afa7e4043",
       "version_major": 2,
       "version_minor": 0
      },
      "text/plain": [
       "  0%|          | 0/119 [00:00<?, ?it/s]"
      ]
     },
     "metadata": {},
     "output_type": "display_data"
    },
    {
     "name": "stdout",
     "output_type": "stream",
     "text": [
      "Validation for lr 0.0001 epoch 29: \n",
      "{'exact_match': 20.168067226890756, 'f1': 29.366995941390403}\n"
     ]
    },
    {
     "data": {
      "text/html": [],
      "text/plain": [
       "<IPython.core.display.HTML object>"
      ]
     },
     "metadata": {},
     "output_type": "display_data"
    },
    {
     "data": {
      "application/vnd.jupyter.widget-view+json": {
       "model_id": "8b5f81a8eec547afac301ce0c87a6238",
       "version_major": 2,
       "version_minor": 0
      },
      "text/plain": [
       "  0%|          | 0/119 [00:00<?, ?it/s]"
      ]
     },
     "metadata": {},
     "output_type": "display_data"
    },
    {
     "name": "stdout",
     "output_type": "stream",
     "text": [
      "Test for lr 0.0001 epoch 29: \n",
      "{'exact_match': 21.84873949579832, 'f1': 31.083118845915642}\n",
      "Training with lr=0.0001 and epoch=30\n"
     ]
    },
    {
     "data": {
      "text/html": [
       "\n",
       "    <div>\n",
       "      \n",
       "      <progress value='69' max='69' style='width:300px; height:20px; vertical-align: middle;'></progress>\n",
       "      [69/69 00:31, Epoch 1/1]\n",
       "    </div>\n",
       "    <table border=\"1\" class=\"dataframe\">\n",
       "  <thead>\n",
       " <tr style=\"text-align: left;\">\n",
       "      <th>Step</th>\n",
       "      <th>Training Loss</th>\n",
       "    </tr>\n",
       "  </thead>\n",
       "  <tbody>\n",
       "  </tbody>\n",
       "</table><p>"
      ],
      "text/plain": [
       "<IPython.core.display.HTML object>"
      ]
     },
     "metadata": {},
     "output_type": "display_data"
    },
    {
     "data": {
      "text/html": [],
      "text/plain": [
       "<IPython.core.display.HTML object>"
      ]
     },
     "metadata": {},
     "output_type": "display_data"
    },
    {
     "data": {
      "application/vnd.jupyter.widget-view+json": {
       "model_id": "910f98df92754e429d6808a70c849884",
       "version_major": 2,
       "version_minor": 0
      },
      "text/plain": [
       "  0%|          | 0/119 [00:00<?, ?it/s]"
      ]
     },
     "metadata": {},
     "output_type": "display_data"
    },
    {
     "name": "stdout",
     "output_type": "stream",
     "text": [
      "Validation for lr 0.0001 epoch 30: \n",
      "{'exact_match': 22.689075630252102, 'f1': 30.864889843084573}\n"
     ]
    },
    {
     "data": {
      "text/html": [],
      "text/plain": [
       "<IPython.core.display.HTML object>"
      ]
     },
     "metadata": {},
     "output_type": "display_data"
    },
    {
     "data": {
      "application/vnd.jupyter.widget-view+json": {
       "model_id": "db3834f5316d4210a1e93b12d440b457",
       "version_major": 2,
       "version_minor": 0
      },
      "text/plain": [
       "  0%|          | 0/119 [00:00<?, ?it/s]"
      ]
     },
     "metadata": {},
     "output_type": "display_data"
    },
    {
     "name": "stdout",
     "output_type": "stream",
     "text": [
      "Test for lr 0.0001 epoch 30: \n",
      "{'exact_match': 24.369747899159663, 'f1': 33.03417997212051}\n",
      "Training with lr=0.0001 and epoch=31\n"
     ]
    },
    {
     "data": {
      "text/html": [
       "\n",
       "    <div>\n",
       "      \n",
       "      <progress value='69' max='69' style='width:300px; height:20px; vertical-align: middle;'></progress>\n",
       "      [69/69 00:31, Epoch 1/1]\n",
       "    </div>\n",
       "    <table border=\"1\" class=\"dataframe\">\n",
       "  <thead>\n",
       " <tr style=\"text-align: left;\">\n",
       "      <th>Step</th>\n",
       "      <th>Training Loss</th>\n",
       "    </tr>\n",
       "  </thead>\n",
       "  <tbody>\n",
       "  </tbody>\n",
       "</table><p>"
      ],
      "text/plain": [
       "<IPython.core.display.HTML object>"
      ]
     },
     "metadata": {},
     "output_type": "display_data"
    },
    {
     "data": {
      "text/html": [],
      "text/plain": [
       "<IPython.core.display.HTML object>"
      ]
     },
     "metadata": {},
     "output_type": "display_data"
    },
    {
     "data": {
      "application/vnd.jupyter.widget-view+json": {
       "model_id": "052d2f3e7ef24fe5ae2bb4bf0ec41986",
       "version_major": 2,
       "version_minor": 0
      },
      "text/plain": [
       "  0%|          | 0/119 [00:00<?, ?it/s]"
      ]
     },
     "metadata": {},
     "output_type": "display_data"
    },
    {
     "name": "stdout",
     "output_type": "stream",
     "text": [
      "Validation for lr 0.0001 epoch 31: \n",
      "{'exact_match': 18.48739495798319, 'f1': 29.69667476854562}\n"
     ]
    },
    {
     "data": {
      "text/html": [],
      "text/plain": [
       "<IPython.core.display.HTML object>"
      ]
     },
     "metadata": {},
     "output_type": "display_data"
    },
    {
     "data": {
      "application/vnd.jupyter.widget-view+json": {
       "model_id": "815281d8b22c4928972cf8215202765e",
       "version_major": 2,
       "version_minor": 0
      },
      "text/plain": [
       "  0%|          | 0/119 [00:00<?, ?it/s]"
      ]
     },
     "metadata": {},
     "output_type": "display_data"
    },
    {
     "name": "stdout",
     "output_type": "stream",
     "text": [
      "Test for lr 0.0001 epoch 31: \n",
      "{'exact_match': 30.252100840336134, 'f1': 38.59707179551654}\n",
      "Training with lr=0.0001 and epoch=32\n"
     ]
    },
    {
     "data": {
      "text/html": [
       "\n",
       "    <div>\n",
       "      \n",
       "      <progress value='69' max='69' style='width:300px; height:20px; vertical-align: middle;'></progress>\n",
       "      [69/69 00:36, Epoch 1/1]\n",
       "    </div>\n",
       "    <table border=\"1\" class=\"dataframe\">\n",
       "  <thead>\n",
       " <tr style=\"text-align: left;\">\n",
       "      <th>Step</th>\n",
       "      <th>Training Loss</th>\n",
       "    </tr>\n",
       "  </thead>\n",
       "  <tbody>\n",
       "  </tbody>\n",
       "</table><p>"
      ],
      "text/plain": [
       "<IPython.core.display.HTML object>"
      ]
     },
     "metadata": {},
     "output_type": "display_data"
    },
    {
     "data": {
      "text/html": [],
      "text/plain": [
       "<IPython.core.display.HTML object>"
      ]
     },
     "metadata": {},
     "output_type": "display_data"
    },
    {
     "data": {
      "application/vnd.jupyter.widget-view+json": {
       "model_id": "c2f6938b9bce4e2181d2a007d835ace9",
       "version_major": 2,
       "version_minor": 0
      },
      "text/plain": [
       "  0%|          | 0/119 [00:00<?, ?it/s]"
      ]
     },
     "metadata": {},
     "output_type": "display_data"
    },
    {
     "name": "stdout",
     "output_type": "stream",
     "text": [
      "Validation for lr 0.0001 epoch 32: \n",
      "{'exact_match': 21.84873949579832, 'f1': 30.693843971154887}\n"
     ]
    },
    {
     "data": {
      "text/html": [],
      "text/plain": [
       "<IPython.core.display.HTML object>"
      ]
     },
     "metadata": {},
     "output_type": "display_data"
    },
    {
     "data": {
      "application/vnd.jupyter.widget-view+json": {
       "model_id": "5bf2b80199934b55bb75193dc6765b38",
       "version_major": 2,
       "version_minor": 0
      },
      "text/plain": [
       "  0%|          | 0/119 [00:00<?, ?it/s]"
      ]
     },
     "metadata": {},
     "output_type": "display_data"
    },
    {
     "name": "stdout",
     "output_type": "stream",
     "text": [
      "Test for lr 0.0001 epoch 32: \n",
      "{'exact_match': 24.369747899159663, 'f1': 33.71635395814235}\n"
     ]
    },
    {
     "name": "stderr",
     "output_type": "stream",
     "text": [
      "Some weights of DistilBertForQuestionAnswering were not initialized from the model checkpoint at distilbert-base-multilingual-cased and are newly initialized: ['qa_outputs.bias', 'qa_outputs.weight']\n",
      "You should probably TRAIN this model on a down-stream task to be able to use it for predictions and inference.\n"
     ]
    },
    {
     "name": "stdout",
     "output_type": "stream",
     "text": [
      "Training with lr=0.001 and epoch=1\n"
     ]
    },
    {
     "data": {
      "text/html": [
       "\n",
       "    <div>\n",
       "      \n",
       "      <progress value='69' max='69' style='width:300px; height:20px; vertical-align: middle;'></progress>\n",
       "      [69/69 00:32, Epoch 1/1]\n",
       "    </div>\n",
       "    <table border=\"1\" class=\"dataframe\">\n",
       "  <thead>\n",
       " <tr style=\"text-align: left;\">\n",
       "      <th>Step</th>\n",
       "      <th>Training Loss</th>\n",
       "    </tr>\n",
       "  </thead>\n",
       "  <tbody>\n",
       "  </tbody>\n",
       "</table><p>"
      ],
      "text/plain": [
       "<IPython.core.display.HTML object>"
      ]
     },
     "metadata": {},
     "output_type": "display_data"
    },
    {
     "data": {
      "text/html": [],
      "text/plain": [
       "<IPython.core.display.HTML object>"
      ]
     },
     "metadata": {},
     "output_type": "display_data"
    },
    {
     "data": {
      "application/vnd.jupyter.widget-view+json": {
       "model_id": "d16d54d465bc43edbab3d215c7804ac8",
       "version_major": 2,
       "version_minor": 0
      },
      "text/plain": [
       "  0%|          | 0/119 [00:00<?, ?it/s]"
      ]
     },
     "metadata": {},
     "output_type": "display_data"
    },
    {
     "name": "stdout",
     "output_type": "stream",
     "text": [
      "Validation for lr 0.001 epoch 1: \n",
      "{'exact_match': 0.0, 'f1': 0.4128924296991524}\n"
     ]
    },
    {
     "data": {
      "text/html": [],
      "text/plain": [
       "<IPython.core.display.HTML object>"
      ]
     },
     "metadata": {},
     "output_type": "display_data"
    },
    {
     "data": {
      "application/vnd.jupyter.widget-view+json": {
       "model_id": "f3b2491896784ec9981c02d9f7946080",
       "version_major": 2,
       "version_minor": 0
      },
      "text/plain": [
       "  0%|          | 0/119 [00:00<?, ?it/s]"
      ]
     },
     "metadata": {},
     "output_type": "display_data"
    },
    {
     "name": "stdout",
     "output_type": "stream",
     "text": [
      "Test for lr 0.001 epoch 1: \n",
      "{'exact_match': 0.0, 'f1': 2.856081826670062}\n",
      "Training with lr=0.001 and epoch=2\n"
     ]
    },
    {
     "data": {
      "text/html": [
       "\n",
       "    <div>\n",
       "      \n",
       "      <progress value='69' max='69' style='width:300px; height:20px; vertical-align: middle;'></progress>\n",
       "      [69/69 00:33, Epoch 1/1]\n",
       "    </div>\n",
       "    <table border=\"1\" class=\"dataframe\">\n",
       "  <thead>\n",
       " <tr style=\"text-align: left;\">\n",
       "      <th>Step</th>\n",
       "      <th>Training Loss</th>\n",
       "    </tr>\n",
       "  </thead>\n",
       "  <tbody>\n",
       "  </tbody>\n",
       "</table><p>"
      ],
      "text/plain": [
       "<IPython.core.display.HTML object>"
      ]
     },
     "metadata": {},
     "output_type": "display_data"
    },
    {
     "data": {
      "text/html": [],
      "text/plain": [
       "<IPython.core.display.HTML object>"
      ]
     },
     "metadata": {},
     "output_type": "display_data"
    },
    {
     "data": {
      "application/vnd.jupyter.widget-view+json": {
       "model_id": "dc45cf6976854bee96af763f4a4ae7a0",
       "version_major": 2,
       "version_minor": 0
      },
      "text/plain": [
       "  0%|          | 0/119 [00:00<?, ?it/s]"
      ]
     },
     "metadata": {},
     "output_type": "display_data"
    },
    {
     "name": "stdout",
     "output_type": "stream",
     "text": [
      "Validation for lr 0.001 epoch 2: \n",
      "{'exact_match': 0.0, 'f1': 3.0762864586394}\n"
     ]
    },
    {
     "data": {
      "text/html": [],
      "text/plain": [
       "<IPython.core.display.HTML object>"
      ]
     },
     "metadata": {},
     "output_type": "display_data"
    },
    {
     "data": {
      "application/vnd.jupyter.widget-view+json": {
       "model_id": "2731571f78c141c29c7dd8bbb12be405",
       "version_major": 2,
       "version_minor": 0
      },
      "text/plain": [
       "  0%|          | 0/119 [00:00<?, ?it/s]"
      ]
     },
     "metadata": {},
     "output_type": "display_data"
    },
    {
     "name": "stdout",
     "output_type": "stream",
     "text": [
      "Test for lr 0.001 epoch 2: \n",
      "{'exact_match': 0.0, 'f1': 3.5464356278896756}\n",
      "Training with lr=0.001 and epoch=3\n"
     ]
    },
    {
     "data": {
      "text/html": [
       "\n",
       "    <div>\n",
       "      \n",
       "      <progress value='69' max='69' style='width:300px; height:20px; vertical-align: middle;'></progress>\n",
       "      [69/69 00:35, Epoch 1/1]\n",
       "    </div>\n",
       "    <table border=\"1\" class=\"dataframe\">\n",
       "  <thead>\n",
       " <tr style=\"text-align: left;\">\n",
       "      <th>Step</th>\n",
       "      <th>Training Loss</th>\n",
       "    </tr>\n",
       "  </thead>\n",
       "  <tbody>\n",
       "  </tbody>\n",
       "</table><p>"
      ],
      "text/plain": [
       "<IPython.core.display.HTML object>"
      ]
     },
     "metadata": {},
     "output_type": "display_data"
    },
    {
     "data": {
      "text/html": [],
      "text/plain": [
       "<IPython.core.display.HTML object>"
      ]
     },
     "metadata": {},
     "output_type": "display_data"
    },
    {
     "data": {
      "application/vnd.jupyter.widget-view+json": {
       "model_id": "44691066e6fd4ff094b22b2c07f72e65",
       "version_major": 2,
       "version_minor": 0
      },
      "text/plain": [
       "  0%|          | 0/119 [00:00<?, ?it/s]"
      ]
     },
     "metadata": {},
     "output_type": "display_data"
    },
    {
     "name": "stdout",
     "output_type": "stream",
     "text": [
      "Validation for lr 0.001 epoch 3: \n",
      "{'exact_match': 1.680672268907563, 'f1': 2.894491129785247}\n"
     ]
    },
    {
     "data": {
      "text/html": [],
      "text/plain": [
       "<IPython.core.display.HTML object>"
      ]
     },
     "metadata": {},
     "output_type": "display_data"
    },
    {
     "data": {
      "application/vnd.jupyter.widget-view+json": {
       "model_id": "d4d2abd572cc48e4b64495eb28d4b969",
       "version_major": 2,
       "version_minor": 0
      },
      "text/plain": [
       "  0%|          | 0/119 [00:00<?, ?it/s]"
      ]
     },
     "metadata": {},
     "output_type": "display_data"
    },
    {
     "name": "stdout",
     "output_type": "stream",
     "text": [
      "Test for lr 0.001 epoch 3: \n",
      "{'exact_match': 1.680672268907563, 'f1': 2.436974789915966}\n",
      "Training with lr=0.001 and epoch=4\n"
     ]
    },
    {
     "data": {
      "text/html": [
       "\n",
       "    <div>\n",
       "      \n",
       "      <progress value='69' max='69' style='width:300px; height:20px; vertical-align: middle;'></progress>\n",
       "      [69/69 00:36, Epoch 1/1]\n",
       "    </div>\n",
       "    <table border=\"1\" class=\"dataframe\">\n",
       "  <thead>\n",
       " <tr style=\"text-align: left;\">\n",
       "      <th>Step</th>\n",
       "      <th>Training Loss</th>\n",
       "    </tr>\n",
       "  </thead>\n",
       "  <tbody>\n",
       "  </tbody>\n",
       "</table><p>"
      ],
      "text/plain": [
       "<IPython.core.display.HTML object>"
      ]
     },
     "metadata": {},
     "output_type": "display_data"
    },
    {
     "data": {
      "text/html": [],
      "text/plain": [
       "<IPython.core.display.HTML object>"
      ]
     },
     "metadata": {},
     "output_type": "display_data"
    },
    {
     "data": {
      "application/vnd.jupyter.widget-view+json": {
       "model_id": "b781c66755824941897a98d2c345acee",
       "version_major": 2,
       "version_minor": 0
      },
      "text/plain": [
       "  0%|          | 0/119 [00:00<?, ?it/s]"
      ]
     },
     "metadata": {},
     "output_type": "display_data"
    },
    {
     "name": "stdout",
     "output_type": "stream",
     "text": [
      "Validation for lr 0.001 epoch 4: \n",
      "{'exact_match': 1.680672268907563, 'f1': 2.6687193095861823}\n"
     ]
    },
    {
     "data": {
      "text/html": [],
      "text/plain": [
       "<IPython.core.display.HTML object>"
      ]
     },
     "metadata": {},
     "output_type": "display_data"
    },
    {
     "data": {
      "application/vnd.jupyter.widget-view+json": {
       "model_id": "39a190f917414fce9712deb1771b5658",
       "version_major": 2,
       "version_minor": 0
      },
      "text/plain": [
       "  0%|          | 0/119 [00:00<?, ?it/s]"
      ]
     },
     "metadata": {},
     "output_type": "display_data"
    },
    {
     "name": "stdout",
     "output_type": "stream",
     "text": [
      "Test for lr 0.001 epoch 4: \n",
      "{'exact_match': 0.0, 'f1': 1.4565826330532214}\n",
      "Training with lr=0.001 and epoch=5\n"
     ]
    },
    {
     "data": {
      "text/html": [
       "\n",
       "    <div>\n",
       "      \n",
       "      <progress value='69' max='69' style='width:300px; height:20px; vertical-align: middle;'></progress>\n",
       "      [69/69 00:31, Epoch 1/1]\n",
       "    </div>\n",
       "    <table border=\"1\" class=\"dataframe\">\n",
       "  <thead>\n",
       " <tr style=\"text-align: left;\">\n",
       "      <th>Step</th>\n",
       "      <th>Training Loss</th>\n",
       "    </tr>\n",
       "  </thead>\n",
       "  <tbody>\n",
       "  </tbody>\n",
       "</table><p>"
      ],
      "text/plain": [
       "<IPython.core.display.HTML object>"
      ]
     },
     "metadata": {},
     "output_type": "display_data"
    },
    {
     "data": {
      "text/html": [],
      "text/plain": [
       "<IPython.core.display.HTML object>"
      ]
     },
     "metadata": {},
     "output_type": "display_data"
    },
    {
     "data": {
      "application/vnd.jupyter.widget-view+json": {
       "model_id": "2a567c5cc772445b97ef689e904aa9ee",
       "version_major": 2,
       "version_minor": 0
      },
      "text/plain": [
       "  0%|          | 0/119 [00:00<?, ?it/s]"
      ]
     },
     "metadata": {},
     "output_type": "display_data"
    },
    {
     "name": "stdout",
     "output_type": "stream",
     "text": [
      "Validation for lr 0.001 epoch 5: \n",
      "{'exact_match': 0.0, 'f1': 0.33613445378151263}\n"
     ]
    },
    {
     "data": {
      "text/html": [],
      "text/plain": [
       "<IPython.core.display.HTML object>"
      ]
     },
     "metadata": {},
     "output_type": "display_data"
    },
    {
     "data": {
      "application/vnd.jupyter.widget-view+json": {
       "model_id": "63e07f9833e04b4699f4af22105b60fd",
       "version_major": 2,
       "version_minor": 0
      },
      "text/plain": [
       "  0%|          | 0/119 [00:00<?, ?it/s]"
      ]
     },
     "metadata": {},
     "output_type": "display_data"
    },
    {
     "name": "stdout",
     "output_type": "stream",
     "text": [
      "Test for lr 0.001 epoch 5: \n",
      "{'exact_match': 0.8403361344537815, 'f1': 1.7539323421676358}\n",
      "Training with lr=0.001 and epoch=6\n"
     ]
    },
    {
     "data": {
      "text/html": [
       "\n",
       "    <div>\n",
       "      \n",
       "      <progress value='69' max='69' style='width:300px; height:20px; vertical-align: middle;'></progress>\n",
       "      [69/69 00:31, Epoch 1/1]\n",
       "    </div>\n",
       "    <table border=\"1\" class=\"dataframe\">\n",
       "  <thead>\n",
       " <tr style=\"text-align: left;\">\n",
       "      <th>Step</th>\n",
       "      <th>Training Loss</th>\n",
       "    </tr>\n",
       "  </thead>\n",
       "  <tbody>\n",
       "  </tbody>\n",
       "</table><p>"
      ],
      "text/plain": [
       "<IPython.core.display.HTML object>"
      ]
     },
     "metadata": {},
     "output_type": "display_data"
    },
    {
     "data": {
      "text/html": [],
      "text/plain": [
       "<IPython.core.display.HTML object>"
      ]
     },
     "metadata": {},
     "output_type": "display_data"
    },
    {
     "data": {
      "application/vnd.jupyter.widget-view+json": {
       "model_id": "496f4fde46594b0691dc8ec104de6852",
       "version_major": 2,
       "version_minor": 0
      },
      "text/plain": [
       "  0%|          | 0/119 [00:00<?, ?it/s]"
      ]
     },
     "metadata": {},
     "output_type": "display_data"
    },
    {
     "name": "stdout",
     "output_type": "stream",
     "text": [
      "Validation for lr 0.001 epoch 6: \n",
      "{'exact_match': 0.0, 'f1': 2.2278125565322795}\n"
     ]
    },
    {
     "data": {
      "text/html": [],
      "text/plain": [
       "<IPython.core.display.HTML object>"
      ]
     },
     "metadata": {},
     "output_type": "display_data"
    },
    {
     "data": {
      "application/vnd.jupyter.widget-view+json": {
       "model_id": "d76d13a8ae6c4c8e9334a3f5bd66bdfb",
       "version_major": 2,
       "version_minor": 0
      },
      "text/plain": [
       "  0%|          | 0/119 [00:00<?, ?it/s]"
      ]
     },
     "metadata": {},
     "output_type": "display_data"
    },
    {
     "name": "stdout",
     "output_type": "stream",
     "text": [
      "Test for lr 0.001 epoch 6: \n",
      "{'exact_match': 0.0, 'f1': 2.2888352927898157}\n",
      "Training with lr=0.001 and epoch=7\n"
     ]
    },
    {
     "data": {
      "text/html": [
       "\n",
       "    <div>\n",
       "      \n",
       "      <progress value='69' max='69' style='width:300px; height:20px; vertical-align: middle;'></progress>\n",
       "      [69/69 00:31, Epoch 1/1]\n",
       "    </div>\n",
       "    <table border=\"1\" class=\"dataframe\">\n",
       "  <thead>\n",
       " <tr style=\"text-align: left;\">\n",
       "      <th>Step</th>\n",
       "      <th>Training Loss</th>\n",
       "    </tr>\n",
       "  </thead>\n",
       "  <tbody>\n",
       "  </tbody>\n",
       "</table><p>"
      ],
      "text/plain": [
       "<IPython.core.display.HTML object>"
      ]
     },
     "metadata": {},
     "output_type": "display_data"
    },
    {
     "data": {
      "text/html": [],
      "text/plain": [
       "<IPython.core.display.HTML object>"
      ]
     },
     "metadata": {},
     "output_type": "display_data"
    },
    {
     "data": {
      "application/vnd.jupyter.widget-view+json": {
       "model_id": "23a445f311a24379b02f4c0a408d57cd",
       "version_major": 2,
       "version_minor": 0
      },
      "text/plain": [
       "  0%|          | 0/119 [00:00<?, ?it/s]"
      ]
     },
     "metadata": {},
     "output_type": "display_data"
    },
    {
     "name": "stdout",
     "output_type": "stream",
     "text": [
      "Validation for lr 0.001 epoch 7: \n",
      "{'exact_match': 0.0, 'f1': 0.6544925662572721}\n"
     ]
    },
    {
     "data": {
      "text/html": [],
      "text/plain": [
       "<IPython.core.display.HTML object>"
      ]
     },
     "metadata": {},
     "output_type": "display_data"
    },
    {
     "data": {
      "application/vnd.jupyter.widget-view+json": {
       "model_id": "74175586d743475e82181b426dc7065d",
       "version_major": 2,
       "version_minor": 0
      },
      "text/plain": [
       "  0%|          | 0/119 [00:00<?, ?it/s]"
      ]
     },
     "metadata": {},
     "output_type": "display_data"
    },
    {
     "name": "stdout",
     "output_type": "stream",
     "text": [
      "Test for lr 0.001 epoch 7: \n",
      "{'exact_match': 0.8403361344537815, 'f1': 1.5580974864862331}\n",
      "Training with lr=0.001 and epoch=8\n"
     ]
    },
    {
     "data": {
      "text/html": [
       "\n",
       "    <div>\n",
       "      \n",
       "      <progress value='69' max='69' style='width:300px; height:20px; vertical-align: middle;'></progress>\n",
       "      [69/69 00:36, Epoch 1/1]\n",
       "    </div>\n",
       "    <table border=\"1\" class=\"dataframe\">\n",
       "  <thead>\n",
       " <tr style=\"text-align: left;\">\n",
       "      <th>Step</th>\n",
       "      <th>Training Loss</th>\n",
       "    </tr>\n",
       "  </thead>\n",
       "  <tbody>\n",
       "  </tbody>\n",
       "</table><p>"
      ],
      "text/plain": [
       "<IPython.core.display.HTML object>"
      ]
     },
     "metadata": {},
     "output_type": "display_data"
    },
    {
     "data": {
      "text/html": [],
      "text/plain": [
       "<IPython.core.display.HTML object>"
      ]
     },
     "metadata": {},
     "output_type": "display_data"
    },
    {
     "data": {
      "application/vnd.jupyter.widget-view+json": {
       "model_id": "7d8296a775544111bc7774469ff9e083",
       "version_major": 2,
       "version_minor": 0
      },
      "text/plain": [
       "  0%|          | 0/119 [00:00<?, ?it/s]"
      ]
     },
     "metadata": {},
     "output_type": "display_data"
    },
    {
     "name": "stdout",
     "output_type": "stream",
     "text": [
      "Validation for lr 0.001 epoch 8: \n",
      "{'exact_match': 0.0, 'f1': 0.8490668994870675}\n"
     ]
    },
    {
     "data": {
      "text/html": [],
      "text/plain": [
       "<IPython.core.display.HTML object>"
      ]
     },
     "metadata": {},
     "output_type": "display_data"
    },
    {
     "data": {
      "application/vnd.jupyter.widget-view+json": {
       "model_id": "2f8ff9fef08e462d8606484274bc8a78",
       "version_major": 2,
       "version_minor": 0
      },
      "text/plain": [
       "  0%|          | 0/119 [00:00<?, ?it/s]"
      ]
     },
     "metadata": {},
     "output_type": "display_data"
    },
    {
     "name": "stdout",
     "output_type": "stream",
     "text": [
      "Test for lr 0.001 epoch 8: \n",
      "{'exact_match': 0.0, 'f1': 0.642633865140259}\n",
      "Training with lr=0.001 and epoch=9\n"
     ]
    },
    {
     "data": {
      "text/html": [
       "\n",
       "    <div>\n",
       "      \n",
       "      <progress value='69' max='69' style='width:300px; height:20px; vertical-align: middle;'></progress>\n",
       "      [69/69 00:35, Epoch 1/1]\n",
       "    </div>\n",
       "    <table border=\"1\" class=\"dataframe\">\n",
       "  <thead>\n",
       " <tr style=\"text-align: left;\">\n",
       "      <th>Step</th>\n",
       "      <th>Training Loss</th>\n",
       "    </tr>\n",
       "  </thead>\n",
       "  <tbody>\n",
       "  </tbody>\n",
       "</table><p>"
      ],
      "text/plain": [
       "<IPython.core.display.HTML object>"
      ]
     },
     "metadata": {},
     "output_type": "display_data"
    },
    {
     "data": {
      "text/html": [],
      "text/plain": [
       "<IPython.core.display.HTML object>"
      ]
     },
     "metadata": {},
     "output_type": "display_data"
    },
    {
     "data": {
      "application/vnd.jupyter.widget-view+json": {
       "model_id": "89602cb3579149538a7d8af44d6866f3",
       "version_major": 2,
       "version_minor": 0
      },
      "text/plain": [
       "  0%|          | 0/119 [00:00<?, ?it/s]"
      ]
     },
     "metadata": {},
     "output_type": "display_data"
    },
    {
     "name": "stdout",
     "output_type": "stream",
     "text": [
      "Validation for lr 0.001 epoch 9: \n",
      "{'exact_match': 0.8403361344537815, 'f1': 1.2329142183189066}\n"
     ]
    },
    {
     "data": {
      "text/html": [],
      "text/plain": [
       "<IPython.core.display.HTML object>"
      ]
     },
     "metadata": {},
     "output_type": "display_data"
    },
    {
     "data": {
      "application/vnd.jupyter.widget-view+json": {
       "model_id": "d64a4dd95c294ed0883670f570744e8c",
       "version_major": 2,
       "version_minor": 0
      },
      "text/plain": [
       "  0%|          | 0/119 [00:00<?, ?it/s]"
      ]
     },
     "metadata": {},
     "output_type": "display_data"
    },
    {
     "name": "stdout",
     "output_type": "stream",
     "text": [
      "Test for lr 0.001 epoch 9: \n",
      "{'exact_match': 0.0, 'f1': 1.4607073598670237}\n",
      "Training with lr=0.001 and epoch=10\n"
     ]
    },
    {
     "data": {
      "text/html": [
       "\n",
       "    <div>\n",
       "      \n",
       "      <progress value='69' max='69' style='width:300px; height:20px; vertical-align: middle;'></progress>\n",
       "      [69/69 00:31, Epoch 1/1]\n",
       "    </div>\n",
       "    <table border=\"1\" class=\"dataframe\">\n",
       "  <thead>\n",
       " <tr style=\"text-align: left;\">\n",
       "      <th>Step</th>\n",
       "      <th>Training Loss</th>\n",
       "    </tr>\n",
       "  </thead>\n",
       "  <tbody>\n",
       "  </tbody>\n",
       "</table><p>"
      ],
      "text/plain": [
       "<IPython.core.display.HTML object>"
      ]
     },
     "metadata": {},
     "output_type": "display_data"
    },
    {
     "data": {
      "text/html": [],
      "text/plain": [
       "<IPython.core.display.HTML object>"
      ]
     },
     "metadata": {},
     "output_type": "display_data"
    },
    {
     "data": {
      "application/vnd.jupyter.widget-view+json": {
       "model_id": "86b6a9b7402d454d8b620c5652f471b1",
       "version_major": 2,
       "version_minor": 0
      },
      "text/plain": [
       "  0%|          | 0/119 [00:00<?, ?it/s]"
      ]
     },
     "metadata": {},
     "output_type": "display_data"
    },
    {
     "name": "stdout",
     "output_type": "stream",
     "text": [
      "Validation for lr 0.001 epoch 10: \n",
      "{'exact_match': 0.0, 'f1': 0.24132730015082954}\n"
     ]
    },
    {
     "data": {
      "text/html": [],
      "text/plain": [
       "<IPython.core.display.HTML object>"
      ]
     },
     "metadata": {},
     "output_type": "display_data"
    },
    {
     "data": {
      "application/vnd.jupyter.widget-view+json": {
       "model_id": "7d8b032982cf490783bdf64259c1546e",
       "version_major": 2,
       "version_minor": 0
      },
      "text/plain": [
       "  0%|          | 0/119 [00:00<?, ?it/s]"
      ]
     },
     "metadata": {},
     "output_type": "display_data"
    },
    {
     "name": "stdout",
     "output_type": "stream",
     "text": [
      "Test for lr 0.001 epoch 10: \n",
      "{'exact_match': 0.0, 'f1': 2.1594092182327476}\n",
      "Training with lr=0.001 and epoch=11\n"
     ]
    },
    {
     "data": {
      "text/html": [
       "\n",
       "    <div>\n",
       "      \n",
       "      <progress value='69' max='69' style='width:300px; height:20px; vertical-align: middle;'></progress>\n",
       "      [69/69 00:31, Epoch 1/1]\n",
       "    </div>\n",
       "    <table border=\"1\" class=\"dataframe\">\n",
       "  <thead>\n",
       " <tr style=\"text-align: left;\">\n",
       "      <th>Step</th>\n",
       "      <th>Training Loss</th>\n",
       "    </tr>\n",
       "  </thead>\n",
       "  <tbody>\n",
       "  </tbody>\n",
       "</table><p>"
      ],
      "text/plain": [
       "<IPython.core.display.HTML object>"
      ]
     },
     "metadata": {},
     "output_type": "display_data"
    },
    {
     "data": {
      "text/html": [],
      "text/plain": [
       "<IPython.core.display.HTML object>"
      ]
     },
     "metadata": {},
     "output_type": "display_data"
    },
    {
     "data": {
      "application/vnd.jupyter.widget-view+json": {
       "model_id": "4043fe14cebe4f78ae1fc67b9bc367d9",
       "version_major": 2,
       "version_minor": 0
      },
      "text/plain": [
       "  0%|          | 0/119 [00:00<?, ?it/s]"
      ]
     },
     "metadata": {},
     "output_type": "display_data"
    },
    {
     "name": "stdout",
     "output_type": "stream",
     "text": [
      "Validation for lr 0.001 epoch 11: \n",
      "{'exact_match': 0.0, 'f1': 1.3556991424020588}\n"
     ]
    },
    {
     "data": {
      "text/html": [],
      "text/plain": [
       "<IPython.core.display.HTML object>"
      ]
     },
     "metadata": {},
     "output_type": "display_data"
    },
    {
     "data": {
      "application/vnd.jupyter.widget-view+json": {
       "model_id": "c403ef4c45244c4580cebf5e741ce5cc",
       "version_major": 2,
       "version_minor": 0
      },
      "text/plain": [
       "  0%|          | 0/119 [00:00<?, ?it/s]"
      ]
     },
     "metadata": {},
     "output_type": "display_data"
    },
    {
     "name": "stdout",
     "output_type": "stream",
     "text": [
      "Test for lr 0.001 epoch 11: \n",
      "{'exact_match': 0.0, 'f1': 0.866437484084543}\n",
      "Training with lr=0.001 and epoch=12\n"
     ]
    },
    {
     "data": {
      "text/html": [
       "\n",
       "    <div>\n",
       "      \n",
       "      <progress value='69' max='69' style='width:300px; height:20px; vertical-align: middle;'></progress>\n",
       "      [69/69 00:31, Epoch 1/1]\n",
       "    </div>\n",
       "    <table border=\"1\" class=\"dataframe\">\n",
       "  <thead>\n",
       " <tr style=\"text-align: left;\">\n",
       "      <th>Step</th>\n",
       "      <th>Training Loss</th>\n",
       "    </tr>\n",
       "  </thead>\n",
       "  <tbody>\n",
       "  </tbody>\n",
       "</table><p>"
      ],
      "text/plain": [
       "<IPython.core.display.HTML object>"
      ]
     },
     "metadata": {},
     "output_type": "display_data"
    },
    {
     "data": {
      "text/html": [],
      "text/plain": [
       "<IPython.core.display.HTML object>"
      ]
     },
     "metadata": {},
     "output_type": "display_data"
    },
    {
     "data": {
      "application/vnd.jupyter.widget-view+json": {
       "model_id": "46b06f831ab747bfb3c9c2738e55bb3e",
       "version_major": 2,
       "version_minor": 0
      },
      "text/plain": [
       "  0%|          | 0/119 [00:00<?, ?it/s]"
      ]
     },
     "metadata": {},
     "output_type": "display_data"
    },
    {
     "name": "stdout",
     "output_type": "stream",
     "text": [
      "Validation for lr 0.001 epoch 12: \n",
      "{'exact_match': 0.8403361344537815, 'f1': 1.2905162064825932}\n"
     ]
    },
    {
     "data": {
      "text/html": [],
      "text/plain": [
       "<IPython.core.display.HTML object>"
      ]
     },
     "metadata": {},
     "output_type": "display_data"
    },
    {
     "data": {
      "application/vnd.jupyter.widget-view+json": {
       "model_id": "d6abe8914a7c4b6dbff275487dcb346e",
       "version_major": 2,
       "version_minor": 0
      },
      "text/plain": [
       "  0%|          | 0/119 [00:00<?, ?it/s]"
      ]
     },
     "metadata": {},
     "output_type": "display_data"
    },
    {
     "name": "stdout",
     "output_type": "stream",
     "text": [
      "Test for lr 0.001 epoch 12: \n",
      "{'exact_match': 0.0, 'f1': 0.8793517406962783}\n",
      "Training with lr=0.001 and epoch=13\n"
     ]
    },
    {
     "data": {
      "text/html": [
       "\n",
       "    <div>\n",
       "      \n",
       "      <progress value='69' max='69' style='width:300px; height:20px; vertical-align: middle;'></progress>\n",
       "      [69/69 00:31, Epoch 1/1]\n",
       "    </div>\n",
       "    <table border=\"1\" class=\"dataframe\">\n",
       "  <thead>\n",
       " <tr style=\"text-align: left;\">\n",
       "      <th>Step</th>\n",
       "      <th>Training Loss</th>\n",
       "    </tr>\n",
       "  </thead>\n",
       "  <tbody>\n",
       "  </tbody>\n",
       "</table><p>"
      ],
      "text/plain": [
       "<IPython.core.display.HTML object>"
      ]
     },
     "metadata": {},
     "output_type": "display_data"
    },
    {
     "data": {
      "text/html": [],
      "text/plain": [
       "<IPython.core.display.HTML object>"
      ]
     },
     "metadata": {},
     "output_type": "display_data"
    },
    {
     "data": {
      "application/vnd.jupyter.widget-view+json": {
       "model_id": "165396c22b8a403583f470a25b8b6a1d",
       "version_major": 2,
       "version_minor": 0
      },
      "text/plain": [
       "  0%|          | 0/119 [00:00<?, ?it/s]"
      ]
     },
     "metadata": {},
     "output_type": "display_data"
    },
    {
     "name": "stdout",
     "output_type": "stream",
     "text": [
      "Validation for lr 0.001 epoch 13: \n",
      "{'exact_match': 0.0, 'f1': 1.027077497665733}\n"
     ]
    },
    {
     "data": {
      "text/html": [],
      "text/plain": [
       "<IPython.core.display.HTML object>"
      ]
     },
     "metadata": {},
     "output_type": "display_data"
    },
    {
     "data": {
      "application/vnd.jupyter.widget-view+json": {
       "model_id": "cbcd07af5560449b896c0e8b981cfdc4",
       "version_major": 2,
       "version_minor": 0
      },
      "text/plain": [
       "  0%|          | 0/119 [00:00<?, ?it/s]"
      ]
     },
     "metadata": {},
     "output_type": "display_data"
    },
    {
     "name": "stdout",
     "output_type": "stream",
     "text": [
      "Test for lr 0.001 epoch 13: \n",
      "{'exact_match': 0.0, 'f1': 0.5602240896358542}\n",
      "Training with lr=0.001 and epoch=14\n"
     ]
    },
    {
     "data": {
      "text/html": [
       "\n",
       "    <div>\n",
       "      \n",
       "      <progress value='69' max='69' style='width:300px; height:20px; vertical-align: middle;'></progress>\n",
       "      [69/69 00:37, Epoch 1/1]\n",
       "    </div>\n",
       "    <table border=\"1\" class=\"dataframe\">\n",
       "  <thead>\n",
       " <tr style=\"text-align: left;\">\n",
       "      <th>Step</th>\n",
       "      <th>Training Loss</th>\n",
       "    </tr>\n",
       "  </thead>\n",
       "  <tbody>\n",
       "  </tbody>\n",
       "</table><p>"
      ],
      "text/plain": [
       "<IPython.core.display.HTML object>"
      ]
     },
     "metadata": {},
     "output_type": "display_data"
    },
    {
     "data": {
      "text/html": [],
      "text/plain": [
       "<IPython.core.display.HTML object>"
      ]
     },
     "metadata": {},
     "output_type": "display_data"
    },
    {
     "data": {
      "application/vnd.jupyter.widget-view+json": {
       "model_id": "b0ea1659b314458b84569e363b490bbe",
       "version_major": 2,
       "version_minor": 0
      },
      "text/plain": [
       "  0%|          | 0/119 [00:00<?, ?it/s]"
      ]
     },
     "metadata": {},
     "output_type": "display_data"
    },
    {
     "name": "stdout",
     "output_type": "stream",
     "text": [
      "Validation for lr 0.001 epoch 14: \n",
      "{'exact_match': 0.0, 'f1': 1.5177345153376312}\n"
     ]
    },
    {
     "data": {
      "text/html": [],
      "text/plain": [
       "<IPython.core.display.HTML object>"
      ]
     },
     "metadata": {},
     "output_type": "display_data"
    },
    {
     "data": {
      "application/vnd.jupyter.widget-view+json": {
       "model_id": "23a42fd3b2474e3b835b86a18a0ed8d4",
       "version_major": 2,
       "version_minor": 0
      },
      "text/plain": [
       "  0%|          | 0/119 [00:00<?, ?it/s]"
      ]
     },
     "metadata": {},
     "output_type": "display_data"
    },
    {
     "name": "stdout",
     "output_type": "stream",
     "text": [
      "Test for lr 0.001 epoch 14: \n",
      "{'exact_match': 0.0, 'f1': 1.424554977186556}\n",
      "Training with lr=0.001 and epoch=15\n"
     ]
    },
    {
     "data": {
      "text/html": [
       "\n",
       "    <div>\n",
       "      \n",
       "      <progress value='69' max='69' style='width:300px; height:20px; vertical-align: middle;'></progress>\n",
       "      [69/69 00:36, Epoch 1/1]\n",
       "    </div>\n",
       "    <table border=\"1\" class=\"dataframe\">\n",
       "  <thead>\n",
       " <tr style=\"text-align: left;\">\n",
       "      <th>Step</th>\n",
       "      <th>Training Loss</th>\n",
       "    </tr>\n",
       "  </thead>\n",
       "  <tbody>\n",
       "  </tbody>\n",
       "</table><p>"
      ],
      "text/plain": [
       "<IPython.core.display.HTML object>"
      ]
     },
     "metadata": {},
     "output_type": "display_data"
    },
    {
     "data": {
      "text/html": [],
      "text/plain": [
       "<IPython.core.display.HTML object>"
      ]
     },
     "metadata": {},
     "output_type": "display_data"
    },
    {
     "data": {
      "application/vnd.jupyter.widget-view+json": {
       "model_id": "1544ef050d53438a888328793fe4d42a",
       "version_major": 2,
       "version_minor": 0
      },
      "text/plain": [
       "  0%|          | 0/119 [00:00<?, ?it/s]"
      ]
     },
     "metadata": {},
     "output_type": "display_data"
    },
    {
     "name": "stdout",
     "output_type": "stream",
     "text": [
      "Validation for lr 0.001 epoch 15: \n",
      "{'exact_match': 0.0, 'f1': 2.0031803667363155}\n"
     ]
    },
    {
     "data": {
      "text/html": [],
      "text/plain": [
       "<IPython.core.display.HTML object>"
      ]
     },
     "metadata": {},
     "output_type": "display_data"
    },
    {
     "data": {
      "application/vnd.jupyter.widget-view+json": {
       "model_id": "9a7fbded33d04b0c87f26cab87b6d744",
       "version_major": 2,
       "version_minor": 0
      },
      "text/plain": [
       "  0%|          | 0/119 [00:00<?, ?it/s]"
      ]
     },
     "metadata": {},
     "output_type": "display_data"
    },
    {
     "name": "stdout",
     "output_type": "stream",
     "text": [
      "Test for lr 0.001 epoch 15: \n",
      "{'exact_match': 0.0, 'f1': 2.7797965163886356}\n",
      "Training with lr=0.001 and epoch=16\n"
     ]
    },
    {
     "data": {
      "text/html": [
       "\n",
       "    <div>\n",
       "      \n",
       "      <progress value='69' max='69' style='width:300px; height:20px; vertical-align: middle;'></progress>\n",
       "      [69/69 00:31, Epoch 1/1]\n",
       "    </div>\n",
       "    <table border=\"1\" class=\"dataframe\">\n",
       "  <thead>\n",
       " <tr style=\"text-align: left;\">\n",
       "      <th>Step</th>\n",
       "      <th>Training Loss</th>\n",
       "    </tr>\n",
       "  </thead>\n",
       "  <tbody>\n",
       "  </tbody>\n",
       "</table><p>"
      ],
      "text/plain": [
       "<IPython.core.display.HTML object>"
      ]
     },
     "metadata": {},
     "output_type": "display_data"
    },
    {
     "data": {
      "text/html": [],
      "text/plain": [
       "<IPython.core.display.HTML object>"
      ]
     },
     "metadata": {},
     "output_type": "display_data"
    },
    {
     "data": {
      "application/vnd.jupyter.widget-view+json": {
       "model_id": "dbeeded33ec7418db75109267e34c15e",
       "version_major": 2,
       "version_minor": 0
      },
      "text/plain": [
       "  0%|          | 0/119 [00:00<?, ?it/s]"
      ]
     },
     "metadata": {},
     "output_type": "display_data"
    },
    {
     "name": "stdout",
     "output_type": "stream",
     "text": [
      "Validation for lr 0.001 epoch 16: \n",
      "{'exact_match': 0.0, 'f1': 1.5350016326289189}\n"
     ]
    },
    {
     "data": {
      "text/html": [],
      "text/plain": [
       "<IPython.core.display.HTML object>"
      ]
     },
     "metadata": {},
     "output_type": "display_data"
    },
    {
     "data": {
      "application/vnd.jupyter.widget-view+json": {
       "model_id": "3c589ac775c04823b50d8231c6bdd3d3",
       "version_major": 2,
       "version_minor": 0
      },
      "text/plain": [
       "  0%|          | 0/119 [00:00<?, ?it/s]"
      ]
     },
     "metadata": {},
     "output_type": "display_data"
    },
    {
     "name": "stdout",
     "output_type": "stream",
     "text": [
      "Test for lr 0.001 epoch 16: \n",
      "{'exact_match': 0.0, 'f1': 1.5771638062659734}\n",
      "Training with lr=0.001 and epoch=17\n"
     ]
    },
    {
     "data": {
      "text/html": [
       "\n",
       "    <div>\n",
       "      \n",
       "      <progress value='69' max='69' style='width:300px; height:20px; vertical-align: middle;'></progress>\n",
       "      [69/69 00:31, Epoch 1/1]\n",
       "    </div>\n",
       "    <table border=\"1\" class=\"dataframe\">\n",
       "  <thead>\n",
       " <tr style=\"text-align: left;\">\n",
       "      <th>Step</th>\n",
       "      <th>Training Loss</th>\n",
       "    </tr>\n",
       "  </thead>\n",
       "  <tbody>\n",
       "  </tbody>\n",
       "</table><p>"
      ],
      "text/plain": [
       "<IPython.core.display.HTML object>"
      ]
     },
     "metadata": {},
     "output_type": "display_data"
    },
    {
     "data": {
      "text/html": [],
      "text/plain": [
       "<IPython.core.display.HTML object>"
      ]
     },
     "metadata": {},
     "output_type": "display_data"
    },
    {
     "data": {
      "application/vnd.jupyter.widget-view+json": {
       "model_id": "2d4e68ba31b84af386c02be41e4b4825",
       "version_major": 2,
       "version_minor": 0
      },
      "text/plain": [
       "  0%|          | 0/119 [00:00<?, ?it/s]"
      ]
     },
     "metadata": {},
     "output_type": "display_data"
    },
    {
     "name": "stdout",
     "output_type": "stream",
     "text": [
      "Validation for lr 0.001 epoch 17: \n",
      "{'exact_match': 0.0, 'f1': 2.077050338240021}\n"
     ]
    },
    {
     "data": {
      "text/html": [],
      "text/plain": [
       "<IPython.core.display.HTML object>"
      ]
     },
     "metadata": {},
     "output_type": "display_data"
    },
    {
     "data": {
      "application/vnd.jupyter.widget-view+json": {
       "model_id": "66dce231964f4e248f7e109f1b728bef",
       "version_major": 2,
       "version_minor": 0
      },
      "text/plain": [
       "  0%|          | 0/119 [00:00<?, ?it/s]"
      ]
     },
     "metadata": {},
     "output_type": "display_data"
    },
    {
     "name": "stdout",
     "output_type": "stream",
     "text": [
      "Test for lr 0.001 epoch 17: \n",
      "{'exact_match': 0.0, 'f1': 2.9024452692954577}\n",
      "Training with lr=0.001 and epoch=18\n"
     ]
    },
    {
     "data": {
      "text/html": [
       "\n",
       "    <div>\n",
       "      \n",
       "      <progress value='69' max='69' style='width:300px; height:20px; vertical-align: middle;'></progress>\n",
       "      [69/69 00:31, Epoch 1/1]\n",
       "    </div>\n",
       "    <table border=\"1\" class=\"dataframe\">\n",
       "  <thead>\n",
       " <tr style=\"text-align: left;\">\n",
       "      <th>Step</th>\n",
       "      <th>Training Loss</th>\n",
       "    </tr>\n",
       "  </thead>\n",
       "  <tbody>\n",
       "  </tbody>\n",
       "</table><p>"
      ],
      "text/plain": [
       "<IPython.core.display.HTML object>"
      ]
     },
     "metadata": {},
     "output_type": "display_data"
    },
    {
     "data": {
      "text/html": [],
      "text/plain": [
       "<IPython.core.display.HTML object>"
      ]
     },
     "metadata": {},
     "output_type": "display_data"
    },
    {
     "data": {
      "application/vnd.jupyter.widget-view+json": {
       "model_id": "dab1616cd7dd4c7a96fd5dee39cd2673",
       "version_major": 2,
       "version_minor": 0
      },
      "text/plain": [
       "  0%|          | 0/119 [00:00<?, ?it/s]"
      ]
     },
     "metadata": {},
     "output_type": "display_data"
    },
    {
     "name": "stdout",
     "output_type": "stream",
     "text": [
      "Validation for lr 0.001 epoch 18: \n",
      "{'exact_match': 0.0, 'f1': 2.344802170653564}\n"
     ]
    },
    {
     "data": {
      "text/html": [],
      "text/plain": [
       "<IPython.core.display.HTML object>"
      ]
     },
     "metadata": {},
     "output_type": "display_data"
    },
    {
     "data": {
      "application/vnd.jupyter.widget-view+json": {
       "model_id": "559c9260a74c45d58efd69ef983da6aa",
       "version_major": 2,
       "version_minor": 0
      },
      "text/plain": [
       "  0%|          | 0/119 [00:00<?, ?it/s]"
      ]
     },
     "metadata": {},
     "output_type": "display_data"
    },
    {
     "name": "stdout",
     "output_type": "stream",
     "text": [
      "Test for lr 0.001 epoch 18: \n",
      "{'exact_match': 0.0, 'f1': 3.676791681981993}\n",
      "Training with lr=0.001 and epoch=19\n"
     ]
    },
    {
     "data": {
      "text/html": [
       "\n",
       "    <div>\n",
       "      \n",
       "      <progress value='69' max='69' style='width:300px; height:20px; vertical-align: middle;'></progress>\n",
       "      [69/69 00:31, Epoch 1/1]\n",
       "    </div>\n",
       "    <table border=\"1\" class=\"dataframe\">\n",
       "  <thead>\n",
       " <tr style=\"text-align: left;\">\n",
       "      <th>Step</th>\n",
       "      <th>Training Loss</th>\n",
       "    </tr>\n",
       "  </thead>\n",
       "  <tbody>\n",
       "  </tbody>\n",
       "</table><p>"
      ],
      "text/plain": [
       "<IPython.core.display.HTML object>"
      ]
     },
     "metadata": {},
     "output_type": "display_data"
    },
    {
     "data": {
      "text/html": [],
      "text/plain": [
       "<IPython.core.display.HTML object>"
      ]
     },
     "metadata": {},
     "output_type": "display_data"
    },
    {
     "data": {
      "application/vnd.jupyter.widget-view+json": {
       "model_id": "b57bbf63601544feb13c812c02568029",
       "version_major": 2,
       "version_minor": 0
      },
      "text/plain": [
       "  0%|          | 0/119 [00:00<?, ?it/s]"
      ]
     },
     "metadata": {},
     "output_type": "display_data"
    },
    {
     "name": "stdout",
     "output_type": "stream",
     "text": [
      "Validation for lr 0.001 epoch 19: \n",
      "{'exact_match': 0.0, 'f1': 1.6475677619887625}\n"
     ]
    },
    {
     "data": {
      "text/html": [],
      "text/plain": [
       "<IPython.core.display.HTML object>"
      ]
     },
     "metadata": {},
     "output_type": "display_data"
    },
    {
     "data": {
      "application/vnd.jupyter.widget-view+json": {
       "model_id": "d924df06b38d48f1ba45c8258a231a4d",
       "version_major": 2,
       "version_minor": 0
      },
      "text/plain": [
       "  0%|          | 0/119 [00:00<?, ?it/s]"
      ]
     },
     "metadata": {},
     "output_type": "display_data"
    },
    {
     "name": "stdout",
     "output_type": "stream",
     "text": [
      "Test for lr 0.001 epoch 19: \n",
      "{'exact_match': 0.0, 'f1': 2.389131091032904}\n",
      "Training with lr=0.001 and epoch=20\n"
     ]
    },
    {
     "data": {
      "text/html": [
       "\n",
       "    <div>\n",
       "      \n",
       "      <progress value='69' max='69' style='width:300px; height:20px; vertical-align: middle;'></progress>\n",
       "      [69/69 00:37, Epoch 1/1]\n",
       "    </div>\n",
       "    <table border=\"1\" class=\"dataframe\">\n",
       "  <thead>\n",
       " <tr style=\"text-align: left;\">\n",
       "      <th>Step</th>\n",
       "      <th>Training Loss</th>\n",
       "    </tr>\n",
       "  </thead>\n",
       "  <tbody>\n",
       "  </tbody>\n",
       "</table><p>"
      ],
      "text/plain": [
       "<IPython.core.display.HTML object>"
      ]
     },
     "metadata": {},
     "output_type": "display_data"
    },
    {
     "data": {
      "text/html": [],
      "text/plain": [
       "<IPython.core.display.HTML object>"
      ]
     },
     "metadata": {},
     "output_type": "display_data"
    },
    {
     "data": {
      "application/vnd.jupyter.widget-view+json": {
       "model_id": "c22d0b5fbe704e8ba7ca1033aea1b595",
       "version_major": 2,
       "version_minor": 0
      },
      "text/plain": [
       "  0%|          | 0/119 [00:00<?, ?it/s]"
      ]
     },
     "metadata": {},
     "output_type": "display_data"
    },
    {
     "name": "stdout",
     "output_type": "stream",
     "text": [
      "Validation for lr 0.001 epoch 20: \n",
      "{'exact_match': 0.0, 'f1': 2.5710586839019034}\n"
     ]
    },
    {
     "data": {
      "text/html": [],
      "text/plain": [
       "<IPython.core.display.HTML object>"
      ]
     },
     "metadata": {},
     "output_type": "display_data"
    },
    {
     "data": {
      "application/vnd.jupyter.widget-view+json": {
       "model_id": "b7318e0c50654a1d891e9694566df761",
       "version_major": 2,
       "version_minor": 0
      },
      "text/plain": [
       "  0%|          | 0/119 [00:00<?, ?it/s]"
      ]
     },
     "metadata": {},
     "output_type": "display_data"
    },
    {
     "name": "stdout",
     "output_type": "stream",
     "text": [
      "Test for lr 0.001 epoch 20: \n",
      "{'exact_match': 0.0, 'f1': 3.4091452052915803}\n",
      "Training with lr=0.001 and epoch=21\n"
     ]
    },
    {
     "data": {
      "text/html": [
       "\n",
       "    <div>\n",
       "      \n",
       "      <progress value='69' max='69' style='width:300px; height:20px; vertical-align: middle;'></progress>\n",
       "      [69/69 00:35, Epoch 1/1]\n",
       "    </div>\n",
       "    <table border=\"1\" class=\"dataframe\">\n",
       "  <thead>\n",
       " <tr style=\"text-align: left;\">\n",
       "      <th>Step</th>\n",
       "      <th>Training Loss</th>\n",
       "    </tr>\n",
       "  </thead>\n",
       "  <tbody>\n",
       "  </tbody>\n",
       "</table><p>"
      ],
      "text/plain": [
       "<IPython.core.display.HTML object>"
      ]
     },
     "metadata": {},
     "output_type": "display_data"
    },
    {
     "data": {
      "text/html": [],
      "text/plain": [
       "<IPython.core.display.HTML object>"
      ]
     },
     "metadata": {},
     "output_type": "display_data"
    },
    {
     "data": {
      "application/vnd.jupyter.widget-view+json": {
       "model_id": "aa09be41cb144aa5b5adf4431c7a8e6e",
       "version_major": 2,
       "version_minor": 0
      },
      "text/plain": [
       "  0%|          | 0/119 [00:00<?, ?it/s]"
      ]
     },
     "metadata": {},
     "output_type": "display_data"
    },
    {
     "name": "stdout",
     "output_type": "stream",
     "text": [
      "Validation for lr 0.001 epoch 21: \n",
      "{'exact_match': 0.0, 'f1': 1.016888414057808}\n"
     ]
    },
    {
     "data": {
      "text/html": [],
      "text/plain": [
       "<IPython.core.display.HTML object>"
      ]
     },
     "metadata": {},
     "output_type": "display_data"
    },
    {
     "data": {
      "application/vnd.jupyter.widget-view+json": {
       "model_id": "635b891153154730a1f6de95dbb94b7c",
       "version_major": 2,
       "version_minor": 0
      },
      "text/plain": [
       "  0%|          | 0/119 [00:00<?, ?it/s]"
      ]
     },
     "metadata": {},
     "output_type": "display_data"
    },
    {
     "name": "stdout",
     "output_type": "stream",
     "text": [
      "Test for lr 0.001 epoch 21: \n",
      "{'exact_match': 0.0, 'f1': 1.511480190162189}\n",
      "Training with lr=0.001 and epoch=22\n"
     ]
    },
    {
     "data": {
      "text/html": [
       "\n",
       "    <div>\n",
       "      \n",
       "      <progress value='69' max='69' style='width:300px; height:20px; vertical-align: middle;'></progress>\n",
       "      [69/69 00:31, Epoch 1/1]\n",
       "    </div>\n",
       "    <table border=\"1\" class=\"dataframe\">\n",
       "  <thead>\n",
       " <tr style=\"text-align: left;\">\n",
       "      <th>Step</th>\n",
       "      <th>Training Loss</th>\n",
       "    </tr>\n",
       "  </thead>\n",
       "  <tbody>\n",
       "  </tbody>\n",
       "</table><p>"
      ],
      "text/plain": [
       "<IPython.core.display.HTML object>"
      ]
     },
     "metadata": {},
     "output_type": "display_data"
    },
    {
     "data": {
      "text/html": [],
      "text/plain": [
       "<IPython.core.display.HTML object>"
      ]
     },
     "metadata": {},
     "output_type": "display_data"
    },
    {
     "data": {
      "application/vnd.jupyter.widget-view+json": {
       "model_id": "eea8f9bec79d49a68d4c9196efc6d323",
       "version_major": 2,
       "version_minor": 0
      },
      "text/plain": [
       "  0%|          | 0/119 [00:00<?, ?it/s]"
      ]
     },
     "metadata": {},
     "output_type": "display_data"
    },
    {
     "name": "stdout",
     "output_type": "stream",
     "text": [
      "Validation for lr 0.001 epoch 22: \n",
      "{'exact_match': 0.0, 'f1': 2.728557601647968}\n"
     ]
    },
    {
     "data": {
      "text/html": [],
      "text/plain": [
       "<IPython.core.display.HTML object>"
      ]
     },
     "metadata": {},
     "output_type": "display_data"
    },
    {
     "data": {
      "application/vnd.jupyter.widget-view+json": {
       "model_id": "e447ff1d07b7407abbfd9c7247e373d4",
       "version_major": 2,
       "version_minor": 0
      },
      "text/plain": [
       "  0%|          | 0/119 [00:00<?, ?it/s]"
      ]
     },
     "metadata": {},
     "output_type": "display_data"
    },
    {
     "name": "stdout",
     "output_type": "stream",
     "text": [
      "Test for lr 0.001 epoch 22: \n",
      "{'exact_match': 0.0, 'f1': 2.2048637803865727}\n",
      "Training with lr=0.001 and epoch=23\n"
     ]
    },
    {
     "data": {
      "text/html": [
       "\n",
       "    <div>\n",
       "      \n",
       "      <progress value='69' max='69' style='width:300px; height:20px; vertical-align: middle;'></progress>\n",
       "      [69/69 00:31, Epoch 1/1]\n",
       "    </div>\n",
       "    <table border=\"1\" class=\"dataframe\">\n",
       "  <thead>\n",
       " <tr style=\"text-align: left;\">\n",
       "      <th>Step</th>\n",
       "      <th>Training Loss</th>\n",
       "    </tr>\n",
       "  </thead>\n",
       "  <tbody>\n",
       "  </tbody>\n",
       "</table><p>"
      ],
      "text/plain": [
       "<IPython.core.display.HTML object>"
      ]
     },
     "metadata": {},
     "output_type": "display_data"
    },
    {
     "data": {
      "text/html": [],
      "text/plain": [
       "<IPython.core.display.HTML object>"
      ]
     },
     "metadata": {},
     "output_type": "display_data"
    },
    {
     "data": {
      "application/vnd.jupyter.widget-view+json": {
       "model_id": "5afab6b4c8cd4138a55b5b784d7b3205",
       "version_major": 2,
       "version_minor": 0
      },
      "text/plain": [
       "  0%|          | 0/119 [00:00<?, ?it/s]"
      ]
     },
     "metadata": {},
     "output_type": "display_data"
    },
    {
     "name": "stdout",
     "output_type": "stream",
     "text": [
      "Validation for lr 0.001 epoch 23: \n",
      "{'exact_match': 0.0, 'f1': 0.9318032963536045}\n"
     ]
    },
    {
     "data": {
      "text/html": [],
      "text/plain": [
       "<IPython.core.display.HTML object>"
      ]
     },
     "metadata": {},
     "output_type": "display_data"
    },
    {
     "data": {
      "application/vnd.jupyter.widget-view+json": {
       "model_id": "1b579dbdc5e844f8834fe3524bb15e86",
       "version_major": 2,
       "version_minor": 0
      },
      "text/plain": [
       "  0%|          | 0/119 [00:00<?, ?it/s]"
      ]
     },
     "metadata": {},
     "output_type": "display_data"
    },
    {
     "name": "stdout",
     "output_type": "stream",
     "text": [
      "Test for lr 0.001 epoch 23: \n",
      "{'exact_match': 0.0, 'f1': 1.8748984074061474}\n",
      "Training with lr=0.001 and epoch=24\n"
     ]
    },
    {
     "data": {
      "text/html": [
       "\n",
       "    <div>\n",
       "      \n",
       "      <progress value='69' max='69' style='width:300px; height:20px; vertical-align: middle;'></progress>\n",
       "      [69/69 00:31, Epoch 1/1]\n",
       "    </div>\n",
       "    <table border=\"1\" class=\"dataframe\">\n",
       "  <thead>\n",
       " <tr style=\"text-align: left;\">\n",
       "      <th>Step</th>\n",
       "      <th>Training Loss</th>\n",
       "    </tr>\n",
       "  </thead>\n",
       "  <tbody>\n",
       "  </tbody>\n",
       "</table><p>"
      ],
      "text/plain": [
       "<IPython.core.display.HTML object>"
      ]
     },
     "metadata": {},
     "output_type": "display_data"
    },
    {
     "data": {
      "text/html": [],
      "text/plain": [
       "<IPython.core.display.HTML object>"
      ]
     },
     "metadata": {},
     "output_type": "display_data"
    },
    {
     "data": {
      "application/vnd.jupyter.widget-view+json": {
       "model_id": "433edfbb5bb84fc2a80898ba6807e1df",
       "version_major": 2,
       "version_minor": 0
      },
      "text/plain": [
       "  0%|          | 0/119 [00:00<?, ?it/s]"
      ]
     },
     "metadata": {},
     "output_type": "display_data"
    },
    {
     "name": "stdout",
     "output_type": "stream",
     "text": [
      "Validation for lr 0.001 epoch 24: \n",
      "{'exact_match': 0.0, 'f1': 2.239408583946399}\n"
     ]
    },
    {
     "data": {
      "text/html": [],
      "text/plain": [
       "<IPython.core.display.HTML object>"
      ]
     },
     "metadata": {},
     "output_type": "display_data"
    },
    {
     "data": {
      "application/vnd.jupyter.widget-view+json": {
       "model_id": "6aeefd66911f4e92806ac6afa0255da2",
       "version_major": 2,
       "version_minor": 0
      },
      "text/plain": [
       "  0%|          | 0/119 [00:00<?, ?it/s]"
      ]
     },
     "metadata": {},
     "output_type": "display_data"
    },
    {
     "name": "stdout",
     "output_type": "stream",
     "text": [
      "Test for lr 0.001 epoch 24: \n",
      "{'exact_match': 0.0, 'f1': 4.368217165352172}\n",
      "Training with lr=0.001 and epoch=25\n"
     ]
    },
    {
     "data": {
      "text/html": [
       "\n",
       "    <div>\n",
       "      \n",
       "      <progress value='69' max='69' style='width:300px; height:20px; vertical-align: middle;'></progress>\n",
       "      [69/69 00:38, Epoch 1/1]\n",
       "    </div>\n",
       "    <table border=\"1\" class=\"dataframe\">\n",
       "  <thead>\n",
       " <tr style=\"text-align: left;\">\n",
       "      <th>Step</th>\n",
       "      <th>Training Loss</th>\n",
       "    </tr>\n",
       "  </thead>\n",
       "  <tbody>\n",
       "  </tbody>\n",
       "</table><p>"
      ],
      "text/plain": [
       "<IPython.core.display.HTML object>"
      ]
     },
     "metadata": {},
     "output_type": "display_data"
    },
    {
     "data": {
      "text/html": [],
      "text/plain": [
       "<IPython.core.display.HTML object>"
      ]
     },
     "metadata": {},
     "output_type": "display_data"
    },
    {
     "data": {
      "application/vnd.jupyter.widget-view+json": {
       "model_id": "4555106af1c846d99e3df19fc7ea9980",
       "version_major": 2,
       "version_minor": 0
      },
      "text/plain": [
       "  0%|          | 0/119 [00:00<?, ?it/s]"
      ]
     },
     "metadata": {},
     "output_type": "display_data"
    },
    {
     "name": "stdout",
     "output_type": "stream",
     "text": [
      "Validation for lr 0.001 epoch 25: \n",
      "{'exact_match': 0.0, 'f1': 4.2393845650148165}\n"
     ]
    },
    {
     "data": {
      "text/html": [],
      "text/plain": [
       "<IPython.core.display.HTML object>"
      ]
     },
     "metadata": {},
     "output_type": "display_data"
    },
    {
     "data": {
      "application/vnd.jupyter.widget-view+json": {
       "model_id": "2b497e36ecee438283032c905a0d2754",
       "version_major": 2,
       "version_minor": 0
      },
      "text/plain": [
       "  0%|          | 0/119 [00:00<?, ?it/s]"
      ]
     },
     "metadata": {},
     "output_type": "display_data"
    },
    {
     "name": "stdout",
     "output_type": "stream",
     "text": [
      "Test for lr 0.001 epoch 25: \n",
      "{'exact_match': 0.0, 'f1': 3.6540851324642087}\n",
      "Training with lr=0.001 and epoch=26\n"
     ]
    },
    {
     "data": {
      "text/html": [
       "\n",
       "    <div>\n",
       "      \n",
       "      <progress value='69' max='69' style='width:300px; height:20px; vertical-align: middle;'></progress>\n",
       "      [69/69 00:31, Epoch 1/1]\n",
       "    </div>\n",
       "    <table border=\"1\" class=\"dataframe\">\n",
       "  <thead>\n",
       " <tr style=\"text-align: left;\">\n",
       "      <th>Step</th>\n",
       "      <th>Training Loss</th>\n",
       "    </tr>\n",
       "  </thead>\n",
       "  <tbody>\n",
       "  </tbody>\n",
       "</table><p>"
      ],
      "text/plain": [
       "<IPython.core.display.HTML object>"
      ]
     },
     "metadata": {},
     "output_type": "display_data"
    },
    {
     "data": {
      "text/html": [],
      "text/plain": [
       "<IPython.core.display.HTML object>"
      ]
     },
     "metadata": {},
     "output_type": "display_data"
    },
    {
     "data": {
      "application/vnd.jupyter.widget-view+json": {
       "model_id": "7641c5bba2194c59afb4951ae7d6318e",
       "version_major": 2,
       "version_minor": 0
      },
      "text/plain": [
       "  0%|          | 0/119 [00:00<?, ?it/s]"
      ]
     },
     "metadata": {},
     "output_type": "display_data"
    },
    {
     "name": "stdout",
     "output_type": "stream",
     "text": [
      "Validation for lr 0.001 epoch 26: \n",
      "{'exact_match': 0.0, 'f1': 3.0160430738649646}\n"
     ]
    },
    {
     "data": {
      "text/html": [],
      "text/plain": [
       "<IPython.core.display.HTML object>"
      ]
     },
     "metadata": {},
     "output_type": "display_data"
    },
    {
     "data": {
      "application/vnd.jupyter.widget-view+json": {
       "model_id": "1b2decdbc8c7427eb3bf3397f5d9166d",
       "version_major": 2,
       "version_minor": 0
      },
      "text/plain": [
       "  0%|          | 0/119 [00:00<?, ?it/s]"
      ]
     },
     "metadata": {},
     "output_type": "display_data"
    },
    {
     "name": "stdout",
     "output_type": "stream",
     "text": [
      "Test for lr 0.001 epoch 26: \n",
      "{'exact_match': 0.0, 'f1': 3.856530250268391}\n",
      "Training with lr=0.001 and epoch=27\n"
     ]
    },
    {
     "data": {
      "text/html": [
       "\n",
       "    <div>\n",
       "      \n",
       "      <progress value='69' max='69' style='width:300px; height:20px; vertical-align: middle;'></progress>\n",
       "      [69/69 00:31, Epoch 1/1]\n",
       "    </div>\n",
       "    <table border=\"1\" class=\"dataframe\">\n",
       "  <thead>\n",
       " <tr style=\"text-align: left;\">\n",
       "      <th>Step</th>\n",
       "      <th>Training Loss</th>\n",
       "    </tr>\n",
       "  </thead>\n",
       "  <tbody>\n",
       "  </tbody>\n",
       "</table><p>"
      ],
      "text/plain": [
       "<IPython.core.display.HTML object>"
      ]
     },
     "metadata": {},
     "output_type": "display_data"
    },
    {
     "data": {
      "text/html": [],
      "text/plain": [
       "<IPython.core.display.HTML object>"
      ]
     },
     "metadata": {},
     "output_type": "display_data"
    },
    {
     "data": {
      "application/vnd.jupyter.widget-view+json": {
       "model_id": "3379d19f2a654d0396f3177c8f2bcf80",
       "version_major": 2,
       "version_minor": 0
      },
      "text/plain": [
       "  0%|          | 0/119 [00:00<?, ?it/s]"
      ]
     },
     "metadata": {},
     "output_type": "display_data"
    },
    {
     "name": "stdout",
     "output_type": "stream",
     "text": [
      "Validation for lr 0.001 epoch 27: \n",
      "{'exact_match': 0.0, 'f1': 4.861762468235399}\n"
     ]
    },
    {
     "data": {
      "text/html": [],
      "text/plain": [
       "<IPython.core.display.HTML object>"
      ]
     },
     "metadata": {},
     "output_type": "display_data"
    },
    {
     "data": {
      "application/vnd.jupyter.widget-view+json": {
       "model_id": "3e564259adc1476d8b30476e6b981bd8",
       "version_major": 2,
       "version_minor": 0
      },
      "text/plain": [
       "  0%|          | 0/119 [00:00<?, ?it/s]"
      ]
     },
     "metadata": {},
     "output_type": "display_data"
    },
    {
     "name": "stdout",
     "output_type": "stream",
     "text": [
      "Test for lr 0.001 epoch 27: \n",
      "{'exact_match': 0.0, 'f1': 2.9543674813461287}\n",
      "Training with lr=0.001 and epoch=28\n"
     ]
    },
    {
     "data": {
      "text/html": [
       "\n",
       "    <div>\n",
       "      \n",
       "      <progress value='69' max='69' style='width:300px; height:20px; vertical-align: middle;'></progress>\n",
       "      [69/69 00:31, Epoch 1/1]\n",
       "    </div>\n",
       "    <table border=\"1\" class=\"dataframe\">\n",
       "  <thead>\n",
       " <tr style=\"text-align: left;\">\n",
       "      <th>Step</th>\n",
       "      <th>Training Loss</th>\n",
       "    </tr>\n",
       "  </thead>\n",
       "  <tbody>\n",
       "  </tbody>\n",
       "</table><p>"
      ],
      "text/plain": [
       "<IPython.core.display.HTML object>"
      ]
     },
     "metadata": {},
     "output_type": "display_data"
    },
    {
     "data": {
      "text/html": [],
      "text/plain": [
       "<IPython.core.display.HTML object>"
      ]
     },
     "metadata": {},
     "output_type": "display_data"
    },
    {
     "data": {
      "application/vnd.jupyter.widget-view+json": {
       "model_id": "85247efccabd4c1fa8be5027cd20b0bf",
       "version_major": 2,
       "version_minor": 0
      },
      "text/plain": [
       "  0%|          | 0/119 [00:00<?, ?it/s]"
      ]
     },
     "metadata": {},
     "output_type": "display_data"
    },
    {
     "name": "stdout",
     "output_type": "stream",
     "text": [
      "Validation for lr 0.001 epoch 28: \n",
      "{'exact_match': 0.0, 'f1': 3.1096608683959417}\n"
     ]
    },
    {
     "data": {
      "text/html": [],
      "text/plain": [
       "<IPython.core.display.HTML object>"
      ]
     },
     "metadata": {},
     "output_type": "display_data"
    },
    {
     "data": {
      "application/vnd.jupyter.widget-view+json": {
       "model_id": "78d2687ccf6f433397a7d513c1222ff5",
       "version_major": 2,
       "version_minor": 0
      },
      "text/plain": [
       "  0%|          | 0/119 [00:00<?, ?it/s]"
      ]
     },
     "metadata": {},
     "output_type": "display_data"
    },
    {
     "name": "stdout",
     "output_type": "stream",
     "text": [
      "Test for lr 0.001 epoch 28: \n",
      "{'exact_match': 0.0, 'f1': 5.2145027040960645}\n",
      "Training with lr=0.001 and epoch=29\n"
     ]
    },
    {
     "data": {
      "text/html": [
       "\n",
       "    <div>\n",
       "      \n",
       "      <progress value='69' max='69' style='width:300px; height:20px; vertical-align: middle;'></progress>\n",
       "      [69/69 00:32, Epoch 1/1]\n",
       "    </div>\n",
       "    <table border=\"1\" class=\"dataframe\">\n",
       "  <thead>\n",
       " <tr style=\"text-align: left;\">\n",
       "      <th>Step</th>\n",
       "      <th>Training Loss</th>\n",
       "    </tr>\n",
       "  </thead>\n",
       "  <tbody>\n",
       "  </tbody>\n",
       "</table><p>"
      ],
      "text/plain": [
       "<IPython.core.display.HTML object>"
      ]
     },
     "metadata": {},
     "output_type": "display_data"
    },
    {
     "data": {
      "text/html": [],
      "text/plain": [
       "<IPython.core.display.HTML object>"
      ]
     },
     "metadata": {},
     "output_type": "display_data"
    },
    {
     "data": {
      "application/vnd.jupyter.widget-view+json": {
       "model_id": "4e28f53bf7a942009a59bc7cb1ca342e",
       "version_major": 2,
       "version_minor": 0
      },
      "text/plain": [
       "  0%|          | 0/119 [00:00<?, ?it/s]"
      ]
     },
     "metadata": {},
     "output_type": "display_data"
    },
    {
     "name": "stdout",
     "output_type": "stream",
     "text": [
      "Validation for lr 0.001 epoch 29: \n",
      "{'exact_match': 0.0, 'f1': 4.5975299586013225}\n"
     ]
    },
    {
     "data": {
      "text/html": [],
      "text/plain": [
       "<IPython.core.display.HTML object>"
      ]
     },
     "metadata": {},
     "output_type": "display_data"
    },
    {
     "data": {
      "application/vnd.jupyter.widget-view+json": {
       "model_id": "7a7b8c08cf3a4570bdc40ca0a477f8db",
       "version_major": 2,
       "version_minor": 0
      },
      "text/plain": [
       "  0%|          | 0/119 [00:00<?, ?it/s]"
      ]
     },
     "metadata": {},
     "output_type": "display_data"
    },
    {
     "name": "stdout",
     "output_type": "stream",
     "text": [
      "Test for lr 0.001 epoch 29: \n",
      "{'exact_match': 0.0, 'f1': 6.509183994048146}\n",
      "Training with lr=0.001 and epoch=30\n"
     ]
    },
    {
     "data": {
      "text/html": [
       "\n",
       "    <div>\n",
       "      \n",
       "      <progress value='69' max='69' style='width:300px; height:20px; vertical-align: middle;'></progress>\n",
       "      [69/69 00:32, Epoch 1/1]\n",
       "    </div>\n",
       "    <table border=\"1\" class=\"dataframe\">\n",
       "  <thead>\n",
       " <tr style=\"text-align: left;\">\n",
       "      <th>Step</th>\n",
       "      <th>Training Loss</th>\n",
       "    </tr>\n",
       "  </thead>\n",
       "  <tbody>\n",
       "  </tbody>\n",
       "</table><p>"
      ],
      "text/plain": [
       "<IPython.core.display.HTML object>"
      ]
     },
     "metadata": {},
     "output_type": "display_data"
    },
    {
     "data": {
      "text/html": [],
      "text/plain": [
       "<IPython.core.display.HTML object>"
      ]
     },
     "metadata": {},
     "output_type": "display_data"
    },
    {
     "data": {
      "application/vnd.jupyter.widget-view+json": {
       "model_id": "1eb53d1805ca4d508caa1d2edb0b3086",
       "version_major": 2,
       "version_minor": 0
      },
      "text/plain": [
       "  0%|          | 0/119 [00:00<?, ?it/s]"
      ]
     },
     "metadata": {},
     "output_type": "display_data"
    },
    {
     "name": "stdout",
     "output_type": "stream",
     "text": [
      "Validation for lr 0.001 epoch 30: \n",
      "{'exact_match': 0.0, 'f1': 3.0273894348082373}\n"
     ]
    },
    {
     "data": {
      "text/html": [],
      "text/plain": [
       "<IPython.core.display.HTML object>"
      ]
     },
     "metadata": {},
     "output_type": "display_data"
    },
    {
     "data": {
      "application/vnd.jupyter.widget-view+json": {
       "model_id": "cc8f2c3131d54b9d85e815dee8792386",
       "version_major": 2,
       "version_minor": 0
      },
      "text/plain": [
       "  0%|          | 0/119 [00:00<?, ?it/s]"
      ]
     },
     "metadata": {},
     "output_type": "display_data"
    },
    {
     "name": "stdout",
     "output_type": "stream",
     "text": [
      "Test for lr 0.001 epoch 30: \n",
      "{'exact_match': 0.0, 'f1': 5.08310548818393}\n",
      "Training with lr=0.001 and epoch=31\n"
     ]
    },
    {
     "data": {
      "text/html": [
       "\n",
       "    <div>\n",
       "      \n",
       "      <progress value='69' max='69' style='width:300px; height:20px; vertical-align: middle;'></progress>\n",
       "      [69/69 00:32, Epoch 1/1]\n",
       "    </div>\n",
       "    <table border=\"1\" class=\"dataframe\">\n",
       "  <thead>\n",
       " <tr style=\"text-align: left;\">\n",
       "      <th>Step</th>\n",
       "      <th>Training Loss</th>\n",
       "    </tr>\n",
       "  </thead>\n",
       "  <tbody>\n",
       "  </tbody>\n",
       "</table><p>"
      ],
      "text/plain": [
       "<IPython.core.display.HTML object>"
      ]
     },
     "metadata": {},
     "output_type": "display_data"
    },
    {
     "data": {
      "text/html": [],
      "text/plain": [
       "<IPython.core.display.HTML object>"
      ]
     },
     "metadata": {},
     "output_type": "display_data"
    },
    {
     "data": {
      "application/vnd.jupyter.widget-view+json": {
       "model_id": "77de2ef6d13b48e090bb30b23bdee4ec",
       "version_major": 2,
       "version_minor": 0
      },
      "text/plain": [
       "  0%|          | 0/119 [00:00<?, ?it/s]"
      ]
     },
     "metadata": {},
     "output_type": "display_data"
    },
    {
     "name": "stdout",
     "output_type": "stream",
     "text": [
      "Validation for lr 0.001 epoch 31: \n",
      "{'exact_match': 0.0, 'f1': 3.2050763109242766}\n"
     ]
    },
    {
     "data": {
      "text/html": [],
      "text/plain": [
       "<IPython.core.display.HTML object>"
      ]
     },
     "metadata": {},
     "output_type": "display_data"
    },
    {
     "data": {
      "application/vnd.jupyter.widget-view+json": {
       "model_id": "44e9de1da1464739b6ab0311f182fc89",
       "version_major": 2,
       "version_minor": 0
      },
      "text/plain": [
       "  0%|          | 0/119 [00:00<?, ?it/s]"
      ]
     },
     "metadata": {},
     "output_type": "display_data"
    },
    {
     "name": "stdout",
     "output_type": "stream",
     "text": [
      "Test for lr 0.001 epoch 31: \n",
      "{'exact_match': 0.8403361344537815, 'f1': 5.158323954405856}\n",
      "Training with lr=0.001 and epoch=32\n"
     ]
    },
    {
     "data": {
      "text/html": [
       "\n",
       "    <div>\n",
       "      \n",
       "      <progress value='69' max='69' style='width:300px; height:20px; vertical-align: middle;'></progress>\n",
       "      [69/69 00:34, Epoch 1/1]\n",
       "    </div>\n",
       "    <table border=\"1\" class=\"dataframe\">\n",
       "  <thead>\n",
       " <tr style=\"text-align: left;\">\n",
       "      <th>Step</th>\n",
       "      <th>Training Loss</th>\n",
       "    </tr>\n",
       "  </thead>\n",
       "  <tbody>\n",
       "  </tbody>\n",
       "</table><p>"
      ],
      "text/plain": [
       "<IPython.core.display.HTML object>"
      ]
     },
     "metadata": {},
     "output_type": "display_data"
    },
    {
     "data": {
      "text/html": [],
      "text/plain": [
       "<IPython.core.display.HTML object>"
      ]
     },
     "metadata": {},
     "output_type": "display_data"
    },
    {
     "data": {
      "application/vnd.jupyter.widget-view+json": {
       "model_id": "749afb4a325b4b2ba220d452e1238f73",
       "version_major": 2,
       "version_minor": 0
      },
      "text/plain": [
       "  0%|          | 0/119 [00:00<?, ?it/s]"
      ]
     },
     "metadata": {},
     "output_type": "display_data"
    },
    {
     "name": "stdout",
     "output_type": "stream",
     "text": [
      "Validation for lr 0.001 epoch 32: \n",
      "{'exact_match': 0.0, 'f1': 2.9130442195582105}\n"
     ]
    },
    {
     "data": {
      "text/html": [],
      "text/plain": [
       "<IPython.core.display.HTML object>"
      ]
     },
     "metadata": {},
     "output_type": "display_data"
    },
    {
     "data": {
      "application/vnd.jupyter.widget-view+json": {
       "model_id": "c047685bc64a46a48206e6cb6c2885c9",
       "version_major": 2,
       "version_minor": 0
      },
      "text/plain": [
       "  0%|          | 0/119 [00:00<?, ?it/s]"
      ]
     },
     "metadata": {},
     "output_type": "display_data"
    },
    {
     "name": "stdout",
     "output_type": "stream",
     "text": [
      "Test for lr 0.001 epoch 32: \n",
      "{'exact_match': 0.0, 'f1': 4.984082271054872}\n"
     ]
    },
    {
     "name": "stderr",
     "output_type": "stream",
     "text": [
      "Some weights of DistilBertForQuestionAnswering were not initialized from the model checkpoint at distilbert-base-multilingual-cased and are newly initialized: ['qa_outputs.bias', 'qa_outputs.weight']\n",
      "You should probably TRAIN this model on a down-stream task to be able to use it for predictions and inference.\n"
     ]
    },
    {
     "name": "stdout",
     "output_type": "stream",
     "text": [
      "Training with lr=1e-05 and epoch=1\n"
     ]
    },
    {
     "data": {
      "text/html": [
       "\n",
       "    <div>\n",
       "      \n",
       "      <progress value='69' max='69' style='width:300px; height:20px; vertical-align: middle;'></progress>\n",
       "      [69/69 00:31, Epoch 1/1]\n",
       "    </div>\n",
       "    <table border=\"1\" class=\"dataframe\">\n",
       "  <thead>\n",
       " <tr style=\"text-align: left;\">\n",
       "      <th>Step</th>\n",
       "      <th>Training Loss</th>\n",
       "    </tr>\n",
       "  </thead>\n",
       "  <tbody>\n",
       "  </tbody>\n",
       "</table><p>"
      ],
      "text/plain": [
       "<IPython.core.display.HTML object>"
      ]
     },
     "metadata": {},
     "output_type": "display_data"
    },
    {
     "data": {
      "text/html": [],
      "text/plain": [
       "<IPython.core.display.HTML object>"
      ]
     },
     "metadata": {},
     "output_type": "display_data"
    },
    {
     "data": {
      "application/vnd.jupyter.widget-view+json": {
       "model_id": "729e7e7e8be142ad9bc52b2b352cf44d",
       "version_major": 2,
       "version_minor": 0
      },
      "text/plain": [
       "  0%|          | 0/119 [00:00<?, ?it/s]"
      ]
     },
     "metadata": {},
     "output_type": "display_data"
    },
    {
     "name": "stdout",
     "output_type": "stream",
     "text": [
      "Validation for lr 1e-05 epoch 1: \n",
      "{'exact_match': 3.361344537815126, 'f1': 9.035478796021458}\n"
     ]
    },
    {
     "data": {
      "text/html": [],
      "text/plain": [
       "<IPython.core.display.HTML object>"
      ]
     },
     "metadata": {},
     "output_type": "display_data"
    },
    {
     "data": {
      "application/vnd.jupyter.widget-view+json": {
       "model_id": "05e97a6a2ec44b00a98f650979a8d9c9",
       "version_major": 2,
       "version_minor": 0
      },
      "text/plain": [
       "  0%|          | 0/119 [00:00<?, ?it/s]"
      ]
     },
     "metadata": {},
     "output_type": "display_data"
    },
    {
     "name": "stdout",
     "output_type": "stream",
     "text": [
      "Test for lr 1e-05 epoch 1: \n",
      "{'exact_match': 0.8403361344537815, 'f1': 10.312913740541216}\n",
      "Training with lr=1e-05 and epoch=2\n"
     ]
    },
    {
     "data": {
      "text/html": [
       "\n",
       "    <div>\n",
       "      \n",
       "      <progress value='69' max='69' style='width:300px; height:20px; vertical-align: middle;'></progress>\n",
       "      [69/69 00:31, Epoch 1/1]\n",
       "    </div>\n",
       "    <table border=\"1\" class=\"dataframe\">\n",
       "  <thead>\n",
       " <tr style=\"text-align: left;\">\n",
       "      <th>Step</th>\n",
       "      <th>Training Loss</th>\n",
       "    </tr>\n",
       "  </thead>\n",
       "  <tbody>\n",
       "  </tbody>\n",
       "</table><p>"
      ],
      "text/plain": [
       "<IPython.core.display.HTML object>"
      ]
     },
     "metadata": {},
     "output_type": "display_data"
    },
    {
     "data": {
      "text/html": [],
      "text/plain": [
       "<IPython.core.display.HTML object>"
      ]
     },
     "metadata": {},
     "output_type": "display_data"
    },
    {
     "data": {
      "application/vnd.jupyter.widget-view+json": {
       "model_id": "9f598c27aa734bf191cd888fa984ef19",
       "version_major": 2,
       "version_minor": 0
      },
      "text/plain": [
       "  0%|          | 0/119 [00:00<?, ?it/s]"
      ]
     },
     "metadata": {},
     "output_type": "display_data"
    },
    {
     "name": "stdout",
     "output_type": "stream",
     "text": [
      "Validation for lr 1e-05 epoch 2: \n",
      "{'exact_match': 8.403361344537815, 'f1': 14.007707978296212}\n"
     ]
    },
    {
     "data": {
      "text/html": [],
      "text/plain": [
       "<IPython.core.display.HTML object>"
      ]
     },
     "metadata": {},
     "output_type": "display_data"
    },
    {
     "data": {
      "application/vnd.jupyter.widget-view+json": {
       "model_id": "4a3c36e6b8394a2cade4f3cf8444ab30",
       "version_major": 2,
       "version_minor": 0
      },
      "text/plain": [
       "  0%|          | 0/119 [00:00<?, ?it/s]"
      ]
     },
     "metadata": {},
     "output_type": "display_data"
    },
    {
     "name": "stdout",
     "output_type": "stream",
     "text": [
      "Test for lr 1e-05 epoch 2: \n",
      "{'exact_match': 3.361344537815126, 'f1': 6.821323935783397}\n",
      "Training with lr=1e-05 and epoch=3\n"
     ]
    },
    {
     "data": {
      "text/html": [
       "\n",
       "    <div>\n",
       "      \n",
       "      <progress value='69' max='69' style='width:300px; height:20px; vertical-align: middle;'></progress>\n",
       "      [69/69 00:31, Epoch 1/1]\n",
       "    </div>\n",
       "    <table border=\"1\" class=\"dataframe\">\n",
       "  <thead>\n",
       " <tr style=\"text-align: left;\">\n",
       "      <th>Step</th>\n",
       "      <th>Training Loss</th>\n",
       "    </tr>\n",
       "  </thead>\n",
       "  <tbody>\n",
       "  </tbody>\n",
       "</table><p>"
      ],
      "text/plain": [
       "<IPython.core.display.HTML object>"
      ]
     },
     "metadata": {},
     "output_type": "display_data"
    },
    {
     "data": {
      "text/html": [],
      "text/plain": [
       "<IPython.core.display.HTML object>"
      ]
     },
     "metadata": {},
     "output_type": "display_data"
    },
    {
     "data": {
      "application/vnd.jupyter.widget-view+json": {
       "model_id": "84aad5e29c7540cda940c1f6a3d4ac7d",
       "version_major": 2,
       "version_minor": 0
      },
      "text/plain": [
       "  0%|          | 0/119 [00:00<?, ?it/s]"
      ]
     },
     "metadata": {},
     "output_type": "display_data"
    },
    {
     "name": "stdout",
     "output_type": "stream",
     "text": [
      "Validation for lr 1e-05 epoch 3: \n",
      "{'exact_match': 8.403361344537815, 'f1': 13.053839251318243}\n"
     ]
    },
    {
     "data": {
      "text/html": [],
      "text/plain": [
       "<IPython.core.display.HTML object>"
      ]
     },
     "metadata": {},
     "output_type": "display_data"
    },
    {
     "data": {
      "application/vnd.jupyter.widget-view+json": {
       "model_id": "c5c29e32f7f04b699ecc12638111c7ae",
       "version_major": 2,
       "version_minor": 0
      },
      "text/plain": [
       "  0%|          | 0/119 [00:00<?, ?it/s]"
      ]
     },
     "metadata": {},
     "output_type": "display_data"
    },
    {
     "name": "stdout",
     "output_type": "stream",
     "text": [
      "Test for lr 1e-05 epoch 3: \n",
      "{'exact_match': 7.563025210084033, 'f1': 12.572711303231372}\n",
      "Training with lr=1e-05 and epoch=4\n"
     ]
    },
    {
     "data": {
      "text/html": [
       "\n",
       "    <div>\n",
       "      \n",
       "      <progress value='69' max='69' style='width:300px; height:20px; vertical-align: middle;'></progress>\n",
       "      [69/69 00:31, Epoch 1/1]\n",
       "    </div>\n",
       "    <table border=\"1\" class=\"dataframe\">\n",
       "  <thead>\n",
       " <tr style=\"text-align: left;\">\n",
       "      <th>Step</th>\n",
       "      <th>Training Loss</th>\n",
       "    </tr>\n",
       "  </thead>\n",
       "  <tbody>\n",
       "  </tbody>\n",
       "</table><p>"
      ],
      "text/plain": [
       "<IPython.core.display.HTML object>"
      ]
     },
     "metadata": {},
     "output_type": "display_data"
    },
    {
     "data": {
      "text/html": [],
      "text/plain": [
       "<IPython.core.display.HTML object>"
      ]
     },
     "metadata": {},
     "output_type": "display_data"
    },
    {
     "data": {
      "application/vnd.jupyter.widget-view+json": {
       "model_id": "b8b8592c9b654dedbf1bb9a1349370cd",
       "version_major": 2,
       "version_minor": 0
      },
      "text/plain": [
       "  0%|          | 0/119 [00:00<?, ?it/s]"
      ]
     },
     "metadata": {},
     "output_type": "display_data"
    },
    {
     "name": "stdout",
     "output_type": "stream",
     "text": [
      "Validation for lr 1e-05 epoch 4: \n",
      "{'exact_match': 11.764705882352942, 'f1': 17.662376460330425}\n"
     ]
    },
    {
     "data": {
      "text/html": [],
      "text/plain": [
       "<IPython.core.display.HTML object>"
      ]
     },
     "metadata": {},
     "output_type": "display_data"
    },
    {
     "data": {
      "application/vnd.jupyter.widget-view+json": {
       "model_id": "5afc0185310d4b2a8cb14f840dd2cb68",
       "version_major": 2,
       "version_minor": 0
      },
      "text/plain": [
       "  0%|          | 0/119 [00:00<?, ?it/s]"
      ]
     },
     "metadata": {},
     "output_type": "display_data"
    },
    {
     "name": "stdout",
     "output_type": "stream",
     "text": [
      "Test for lr 1e-05 epoch 4: \n",
      "{'exact_match': 6.722689075630252, 'f1': 15.649635139657775}\n",
      "Training with lr=1e-05 and epoch=5\n"
     ]
    },
    {
     "data": {
      "text/html": [
       "\n",
       "    <div>\n",
       "      \n",
       "      <progress value='69' max='69' style='width:300px; height:20px; vertical-align: middle;'></progress>\n",
       "      [69/69 00:31, Epoch 1/1]\n",
       "    </div>\n",
       "    <table border=\"1\" class=\"dataframe\">\n",
       "  <thead>\n",
       " <tr style=\"text-align: left;\">\n",
       "      <th>Step</th>\n",
       "      <th>Training Loss</th>\n",
       "    </tr>\n",
       "  </thead>\n",
       "  <tbody>\n",
       "  </tbody>\n",
       "</table><p>"
      ],
      "text/plain": [
       "<IPython.core.display.HTML object>"
      ]
     },
     "metadata": {},
     "output_type": "display_data"
    },
    {
     "data": {
      "text/html": [],
      "text/plain": [
       "<IPython.core.display.HTML object>"
      ]
     },
     "metadata": {},
     "output_type": "display_data"
    },
    {
     "data": {
      "application/vnd.jupyter.widget-view+json": {
       "model_id": "722c43bb354c4a90b34067e5a3e5b3b9",
       "version_major": 2,
       "version_minor": 0
      },
      "text/plain": [
       "  0%|          | 0/119 [00:00<?, ?it/s]"
      ]
     },
     "metadata": {},
     "output_type": "display_data"
    },
    {
     "name": "stdout",
     "output_type": "stream",
     "text": [
      "Validation for lr 1e-05 epoch 5: \n",
      "{'exact_match': 13.445378151260504, 'f1': 20.17736536187395}\n"
     ]
    },
    {
     "data": {
      "text/html": [],
      "text/plain": [
       "<IPython.core.display.HTML object>"
      ]
     },
     "metadata": {},
     "output_type": "display_data"
    },
    {
     "data": {
      "application/vnd.jupyter.widget-view+json": {
       "model_id": "55fcf964528246a0b439c14fe263745e",
       "version_major": 2,
       "version_minor": 0
      },
      "text/plain": [
       "  0%|          | 0/119 [00:00<?, ?it/s]"
      ]
     },
     "metadata": {},
     "output_type": "display_data"
    },
    {
     "name": "stdout",
     "output_type": "stream",
     "text": [
      "Test for lr 1e-05 epoch 5: \n",
      "{'exact_match': 8.403361344537815, 'f1': 18.877831850371326}\n",
      "Training with lr=1e-05 and epoch=6\n"
     ]
    },
    {
     "data": {
      "text/html": [
       "\n",
       "    <div>\n",
       "      \n",
       "      <progress value='69' max='69' style='width:300px; height:20px; vertical-align: middle;'></progress>\n",
       "      [69/69 00:36, Epoch 1/1]\n",
       "    </div>\n",
       "    <table border=\"1\" class=\"dataframe\">\n",
       "  <thead>\n",
       " <tr style=\"text-align: left;\">\n",
       "      <th>Step</th>\n",
       "      <th>Training Loss</th>\n",
       "    </tr>\n",
       "  </thead>\n",
       "  <tbody>\n",
       "  </tbody>\n",
       "</table><p>"
      ],
      "text/plain": [
       "<IPython.core.display.HTML object>"
      ]
     },
     "metadata": {},
     "output_type": "display_data"
    },
    {
     "data": {
      "text/html": [],
      "text/plain": [
       "<IPython.core.display.HTML object>"
      ]
     },
     "metadata": {},
     "output_type": "display_data"
    },
    {
     "data": {
      "application/vnd.jupyter.widget-view+json": {
       "model_id": "cbbfb5e6163a450ba35c5eaf11448635",
       "version_major": 2,
       "version_minor": 0
      },
      "text/plain": [
       "  0%|          | 0/119 [00:00<?, ?it/s]"
      ]
     },
     "metadata": {},
     "output_type": "display_data"
    },
    {
     "name": "stdout",
     "output_type": "stream",
     "text": [
      "Validation for lr 1e-05 epoch 6: \n",
      "{'exact_match': 15.966386554621849, 'f1': 24.192317952822155}\n"
     ]
    },
    {
     "data": {
      "text/html": [],
      "text/plain": [
       "<IPython.core.display.HTML object>"
      ]
     },
     "metadata": {},
     "output_type": "display_data"
    },
    {
     "data": {
      "application/vnd.jupyter.widget-view+json": {
       "model_id": "a5cd784f150d49f7b7c1ffc84242e3af",
       "version_major": 2,
       "version_minor": 0
      },
      "text/plain": [
       "  0%|          | 0/119 [00:00<?, ?it/s]"
      ]
     },
     "metadata": {},
     "output_type": "display_data"
    },
    {
     "name": "stdout",
     "output_type": "stream",
     "text": [
      "Test for lr 1e-05 epoch 6: \n",
      "{'exact_match': 9.243697478991596, 'f1': 20.541405776673873}\n",
      "Training with lr=1e-05 and epoch=7\n"
     ]
    },
    {
     "data": {
      "text/html": [
       "\n",
       "    <div>\n",
       "      \n",
       "      <progress value='69' max='69' style='width:300px; height:20px; vertical-align: middle;'></progress>\n",
       "      [69/69 00:37, Epoch 1/1]\n",
       "    </div>\n",
       "    <table border=\"1\" class=\"dataframe\">\n",
       "  <thead>\n",
       " <tr style=\"text-align: left;\">\n",
       "      <th>Step</th>\n",
       "      <th>Training Loss</th>\n",
       "    </tr>\n",
       "  </thead>\n",
       "  <tbody>\n",
       "  </tbody>\n",
       "</table><p>"
      ],
      "text/plain": [
       "<IPython.core.display.HTML object>"
      ]
     },
     "metadata": {},
     "output_type": "display_data"
    },
    {
     "data": {
      "text/html": [],
      "text/plain": [
       "<IPython.core.display.HTML object>"
      ]
     },
     "metadata": {},
     "output_type": "display_data"
    },
    {
     "data": {
      "application/vnd.jupyter.widget-view+json": {
       "model_id": "4dd7c5dbc1e441ff8bef6f578c69a431",
       "version_major": 2,
       "version_minor": 0
      },
      "text/plain": [
       "  0%|          | 0/119 [00:00<?, ?it/s]"
      ]
     },
     "metadata": {},
     "output_type": "display_data"
    },
    {
     "name": "stdout",
     "output_type": "stream",
     "text": [
      "Validation for lr 1e-05 epoch 7: \n",
      "{'exact_match': 16.80672268907563, 'f1': 27.073307178349197}\n"
     ]
    },
    {
     "data": {
      "text/html": [],
      "text/plain": [
       "<IPython.core.display.HTML object>"
      ]
     },
     "metadata": {},
     "output_type": "display_data"
    },
    {
     "data": {
      "application/vnd.jupyter.widget-view+json": {
       "model_id": "4e9e910a28524721a6f4f37062825688",
       "version_major": 2,
       "version_minor": 0
      },
      "text/plain": [
       "  0%|          | 0/119 [00:00<?, ?it/s]"
      ]
     },
     "metadata": {},
     "output_type": "display_data"
    },
    {
     "name": "stdout",
     "output_type": "stream",
     "text": [
      "Test for lr 1e-05 epoch 7: \n",
      "{'exact_match': 10.084033613445378, 'f1': 23.9202724748683}\n",
      "Training with lr=1e-05 and epoch=8\n"
     ]
    },
    {
     "data": {
      "text/html": [
       "\n",
       "    <div>\n",
       "      \n",
       "      <progress value='69' max='69' style='width:300px; height:20px; vertical-align: middle;'></progress>\n",
       "      [69/69 00:36, Epoch 1/1]\n",
       "    </div>\n",
       "    <table border=\"1\" class=\"dataframe\">\n",
       "  <thead>\n",
       " <tr style=\"text-align: left;\">\n",
       "      <th>Step</th>\n",
       "      <th>Training Loss</th>\n",
       "    </tr>\n",
       "  </thead>\n",
       "  <tbody>\n",
       "  </tbody>\n",
       "</table><p>"
      ],
      "text/plain": [
       "<IPython.core.display.HTML object>"
      ]
     },
     "metadata": {},
     "output_type": "display_data"
    },
    {
     "data": {
      "text/html": [],
      "text/plain": [
       "<IPython.core.display.HTML object>"
      ]
     },
     "metadata": {},
     "output_type": "display_data"
    },
    {
     "data": {
      "application/vnd.jupyter.widget-view+json": {
       "model_id": "4efa60068b8849b0a813840eb472b8cb",
       "version_major": 2,
       "version_minor": 0
      },
      "text/plain": [
       "  0%|          | 0/119 [00:00<?, ?it/s]"
      ]
     },
     "metadata": {},
     "output_type": "display_data"
    },
    {
     "name": "stdout",
     "output_type": "stream",
     "text": [
      "Validation for lr 1e-05 epoch 8: \n",
      "{'exact_match': 15.126050420168067, 'f1': 26.621469100460704}\n"
     ]
    },
    {
     "data": {
      "text/html": [],
      "text/plain": [
       "<IPython.core.display.HTML object>"
      ]
     },
     "metadata": {},
     "output_type": "display_data"
    },
    {
     "data": {
      "application/vnd.jupyter.widget-view+json": {
       "model_id": "d134ca80ec3946c2a8235d04a4e9f71a",
       "version_major": 2,
       "version_minor": 0
      },
      "text/plain": [
       "  0%|          | 0/119 [00:00<?, ?it/s]"
      ]
     },
     "metadata": {},
     "output_type": "display_data"
    },
    {
     "name": "stdout",
     "output_type": "stream",
     "text": [
      "Test for lr 1e-05 epoch 8: \n",
      "{'exact_match': 14.285714285714286, 'f1': 25.086945057286133}\n",
      "Training with lr=1e-05 and epoch=9\n"
     ]
    },
    {
     "data": {
      "text/html": [
       "\n",
       "    <div>\n",
       "      \n",
       "      <progress value='69' max='69' style='width:300px; height:20px; vertical-align: middle;'></progress>\n",
       "      [69/69 00:34, Epoch 1/1]\n",
       "    </div>\n",
       "    <table border=\"1\" class=\"dataframe\">\n",
       "  <thead>\n",
       " <tr style=\"text-align: left;\">\n",
       "      <th>Step</th>\n",
       "      <th>Training Loss</th>\n",
       "    </tr>\n",
       "  </thead>\n",
       "  <tbody>\n",
       "  </tbody>\n",
       "</table><p>"
      ],
      "text/plain": [
       "<IPython.core.display.HTML object>"
      ]
     },
     "metadata": {},
     "output_type": "display_data"
    },
    {
     "data": {
      "text/html": [],
      "text/plain": [
       "<IPython.core.display.HTML object>"
      ]
     },
     "metadata": {},
     "output_type": "display_data"
    },
    {
     "data": {
      "application/vnd.jupyter.widget-view+json": {
       "model_id": "e131f436843e4ee18069af4373f03374",
       "version_major": 2,
       "version_minor": 0
      },
      "text/plain": [
       "  0%|          | 0/119 [00:00<?, ?it/s]"
      ]
     },
     "metadata": {},
     "output_type": "display_data"
    },
    {
     "name": "stdout",
     "output_type": "stream",
     "text": [
      "Validation for lr 1e-05 epoch 9: \n",
      "{'exact_match': 14.285714285714286, 'f1': 26.214518441409197}\n"
     ]
    },
    {
     "data": {
      "text/html": [],
      "text/plain": [
       "<IPython.core.display.HTML object>"
      ]
     },
     "metadata": {},
     "output_type": "display_data"
    },
    {
     "data": {
      "application/vnd.jupyter.widget-view+json": {
       "model_id": "e5702b065d07453494a413cd8b4df570",
       "version_major": 2,
       "version_minor": 0
      },
      "text/plain": [
       "  0%|          | 0/119 [00:00<?, ?it/s]"
      ]
     },
     "metadata": {},
     "output_type": "display_data"
    },
    {
     "name": "stdout",
     "output_type": "stream",
     "text": [
      "Test for lr 1e-05 epoch 9: \n",
      "{'exact_match': 14.285714285714286, 'f1': 26.484551062895516}\n",
      "Training with lr=1e-05 and epoch=10\n"
     ]
    },
    {
     "data": {
      "text/html": [
       "\n",
       "    <div>\n",
       "      \n",
       "      <progress value='69' max='69' style='width:300px; height:20px; vertical-align: middle;'></progress>\n",
       "      [69/69 00:37, Epoch 1/1]\n",
       "    </div>\n",
       "    <table border=\"1\" class=\"dataframe\">\n",
       "  <thead>\n",
       " <tr style=\"text-align: left;\">\n",
       "      <th>Step</th>\n",
       "      <th>Training Loss</th>\n",
       "    </tr>\n",
       "  </thead>\n",
       "  <tbody>\n",
       "  </tbody>\n",
       "</table><p>"
      ],
      "text/plain": [
       "<IPython.core.display.HTML object>"
      ]
     },
     "metadata": {},
     "output_type": "display_data"
    },
    {
     "data": {
      "text/html": [],
      "text/plain": [
       "<IPython.core.display.HTML object>"
      ]
     },
     "metadata": {},
     "output_type": "display_data"
    },
    {
     "data": {
      "application/vnd.jupyter.widget-view+json": {
       "model_id": "9ce5516cdd5b40a0b106be073e64dc88",
       "version_major": 2,
       "version_minor": 0
      },
      "text/plain": [
       "  0%|          | 0/119 [00:00<?, ?it/s]"
      ]
     },
     "metadata": {},
     "output_type": "display_data"
    },
    {
     "name": "stdout",
     "output_type": "stream",
     "text": [
      "Validation for lr 1e-05 epoch 10: \n",
      "{'exact_match': 14.285714285714286, 'f1': 25.882385588267937}\n"
     ]
    },
    {
     "data": {
      "text/html": [],
      "text/plain": [
       "<IPython.core.display.HTML object>"
      ]
     },
     "metadata": {},
     "output_type": "display_data"
    },
    {
     "data": {
      "application/vnd.jupyter.widget-view+json": {
       "model_id": "36356587f01e4fac87a4bec1e0b46f72",
       "version_major": 2,
       "version_minor": 0
      },
      "text/plain": [
       "  0%|          | 0/119 [00:00<?, ?it/s]"
      ]
     },
     "metadata": {},
     "output_type": "display_data"
    },
    {
     "name": "stdout",
     "output_type": "stream",
     "text": [
      "Test for lr 1e-05 epoch 10: \n",
      "{'exact_match': 17.647058823529413, 'f1': 26.987555953916484}\n",
      "Training with lr=1e-05 and epoch=11\n"
     ]
    },
    {
     "data": {
      "text/html": [
       "\n",
       "    <div>\n",
       "      \n",
       "      <progress value='69' max='69' style='width:300px; height:20px; vertical-align: middle;'></progress>\n",
       "      [69/69 00:31, Epoch 1/1]\n",
       "    </div>\n",
       "    <table border=\"1\" class=\"dataframe\">\n",
       "  <thead>\n",
       " <tr style=\"text-align: left;\">\n",
       "      <th>Step</th>\n",
       "      <th>Training Loss</th>\n",
       "    </tr>\n",
       "  </thead>\n",
       "  <tbody>\n",
       "  </tbody>\n",
       "</table><p>"
      ],
      "text/plain": [
       "<IPython.core.display.HTML object>"
      ]
     },
     "metadata": {},
     "output_type": "display_data"
    },
    {
     "data": {
      "text/html": [],
      "text/plain": [
       "<IPython.core.display.HTML object>"
      ]
     },
     "metadata": {},
     "output_type": "display_data"
    },
    {
     "data": {
      "application/vnd.jupyter.widget-view+json": {
       "model_id": "d74562f80e24433f86a0fc9e9248ad1c",
       "version_major": 2,
       "version_minor": 0
      },
      "text/plain": [
       "  0%|          | 0/119 [00:00<?, ?it/s]"
      ]
     },
     "metadata": {},
     "output_type": "display_data"
    },
    {
     "name": "stdout",
     "output_type": "stream",
     "text": [
      "Validation for lr 1e-05 epoch 11: \n",
      "{'exact_match': 14.285714285714286, 'f1': 26.089419450763987}\n"
     ]
    },
    {
     "data": {
      "text/html": [],
      "text/plain": [
       "<IPython.core.display.HTML object>"
      ]
     },
     "metadata": {},
     "output_type": "display_data"
    },
    {
     "data": {
      "application/vnd.jupyter.widget-view+json": {
       "model_id": "323e4996b08b4c0f87bf75165135891e",
       "version_major": 2,
       "version_minor": 0
      },
      "text/plain": [
       "  0%|          | 0/119 [00:00<?, ?it/s]"
      ]
     },
     "metadata": {},
     "output_type": "display_data"
    },
    {
     "name": "stdout",
     "output_type": "stream",
     "text": [
      "Test for lr 1e-05 epoch 11: \n",
      "{'exact_match': 16.80672268907563, 'f1': 25.955852929407055}\n",
      "Training with lr=1e-05 and epoch=12\n"
     ]
    },
    {
     "data": {
      "text/html": [
       "\n",
       "    <div>\n",
       "      \n",
       "      <progress value='69' max='69' style='width:300px; height:20px; vertical-align: middle;'></progress>\n",
       "      [69/69 00:31, Epoch 1/1]\n",
       "    </div>\n",
       "    <table border=\"1\" class=\"dataframe\">\n",
       "  <thead>\n",
       " <tr style=\"text-align: left;\">\n",
       "      <th>Step</th>\n",
       "      <th>Training Loss</th>\n",
       "    </tr>\n",
       "  </thead>\n",
       "  <tbody>\n",
       "  </tbody>\n",
       "</table><p>"
      ],
      "text/plain": [
       "<IPython.core.display.HTML object>"
      ]
     },
     "metadata": {},
     "output_type": "display_data"
    },
    {
     "data": {
      "text/html": [],
      "text/plain": [
       "<IPython.core.display.HTML object>"
      ]
     },
     "metadata": {},
     "output_type": "display_data"
    },
    {
     "data": {
      "application/vnd.jupyter.widget-view+json": {
       "model_id": "cd968eae32c84973a670a1debfe36863",
       "version_major": 2,
       "version_minor": 0
      },
      "text/plain": [
       "  0%|          | 0/119 [00:00<?, ?it/s]"
      ]
     },
     "metadata": {},
     "output_type": "display_data"
    },
    {
     "name": "stdout",
     "output_type": "stream",
     "text": [
      "Validation for lr 1e-05 epoch 12: \n",
      "{'exact_match': 14.285714285714286, 'f1': 25.040333149576846}\n"
     ]
    },
    {
     "data": {
      "text/html": [],
      "text/plain": [
       "<IPython.core.display.HTML object>"
      ]
     },
     "metadata": {},
     "output_type": "display_data"
    },
    {
     "data": {
      "application/vnd.jupyter.widget-view+json": {
       "model_id": "63004d12c9df4b669a8392f101dc1cb9",
       "version_major": 2,
       "version_minor": 0
      },
      "text/plain": [
       "  0%|          | 0/119 [00:00<?, ?it/s]"
      ]
     },
     "metadata": {},
     "output_type": "display_data"
    },
    {
     "name": "stdout",
     "output_type": "stream",
     "text": [
      "Test for lr 1e-05 epoch 12: \n",
      "{'exact_match': 15.966386554621849, 'f1': 25.51634276001422}\n",
      "Training with lr=1e-05 and epoch=13\n"
     ]
    },
    {
     "data": {
      "text/html": [
       "\n",
       "    <div>\n",
       "      \n",
       "      <progress value='69' max='69' style='width:300px; height:20px; vertical-align: middle;'></progress>\n",
       "      [69/69 00:31, Epoch 1/1]\n",
       "    </div>\n",
       "    <table border=\"1\" class=\"dataframe\">\n",
       "  <thead>\n",
       " <tr style=\"text-align: left;\">\n",
       "      <th>Step</th>\n",
       "      <th>Training Loss</th>\n",
       "    </tr>\n",
       "  </thead>\n",
       "  <tbody>\n",
       "  </tbody>\n",
       "</table><p>"
      ],
      "text/plain": [
       "<IPython.core.display.HTML object>"
      ]
     },
     "metadata": {},
     "output_type": "display_data"
    },
    {
     "data": {
      "text/html": [],
      "text/plain": [
       "<IPython.core.display.HTML object>"
      ]
     },
     "metadata": {},
     "output_type": "display_data"
    },
    {
     "data": {
      "application/vnd.jupyter.widget-view+json": {
       "model_id": "277aa6c1635c4da2851fcddad0df17c7",
       "version_major": 2,
       "version_minor": 0
      },
      "text/plain": [
       "  0%|          | 0/119 [00:00<?, ?it/s]"
      ]
     },
     "metadata": {},
     "output_type": "display_data"
    },
    {
     "name": "stdout",
     "output_type": "stream",
     "text": [
      "Validation for lr 1e-05 epoch 13: \n",
      "{'exact_match': 18.48739495798319, 'f1': 27.536876261542595}\n"
     ]
    },
    {
     "data": {
      "text/html": [],
      "text/plain": [
       "<IPython.core.display.HTML object>"
      ]
     },
     "metadata": {},
     "output_type": "display_data"
    },
    {
     "data": {
      "application/vnd.jupyter.widget-view+json": {
       "model_id": "f24b8232493b4de796a54fefdceb9a0c",
       "version_major": 2,
       "version_minor": 0
      },
      "text/plain": [
       "  0%|          | 0/119 [00:00<?, ?it/s]"
      ]
     },
     "metadata": {},
     "output_type": "display_data"
    },
    {
     "name": "stdout",
     "output_type": "stream",
     "text": [
      "Test for lr 1e-05 epoch 13: \n",
      "{'exact_match': 14.285714285714286, 'f1': 23.947600430546544}\n",
      "Training with lr=1e-05 and epoch=14\n"
     ]
    },
    {
     "data": {
      "text/html": [
       "\n",
       "    <div>\n",
       "      \n",
       "      <progress value='69' max='69' style='width:300px; height:20px; vertical-align: middle;'></progress>\n",
       "      [69/69 00:31, Epoch 1/1]\n",
       "    </div>\n",
       "    <table border=\"1\" class=\"dataframe\">\n",
       "  <thead>\n",
       " <tr style=\"text-align: left;\">\n",
       "      <th>Step</th>\n",
       "      <th>Training Loss</th>\n",
       "    </tr>\n",
       "  </thead>\n",
       "  <tbody>\n",
       "  </tbody>\n",
       "</table><p>"
      ],
      "text/plain": [
       "<IPython.core.display.HTML object>"
      ]
     },
     "metadata": {},
     "output_type": "display_data"
    },
    {
     "data": {
      "text/html": [],
      "text/plain": [
       "<IPython.core.display.HTML object>"
      ]
     },
     "metadata": {},
     "output_type": "display_data"
    },
    {
     "data": {
      "application/vnd.jupyter.widget-view+json": {
       "model_id": "491177f8497d45d2a40d07cc32ba5db9",
       "version_major": 2,
       "version_minor": 0
      },
      "text/plain": [
       "  0%|          | 0/119 [00:00<?, ?it/s]"
      ]
     },
     "metadata": {},
     "output_type": "display_data"
    },
    {
     "name": "stdout",
     "output_type": "stream",
     "text": [
      "Validation for lr 1e-05 epoch 14: \n",
      "{'exact_match': 17.647058823529413, 'f1': 27.37649838490174}\n"
     ]
    },
    {
     "data": {
      "text/html": [],
      "text/plain": [
       "<IPython.core.display.HTML object>"
      ]
     },
     "metadata": {},
     "output_type": "display_data"
    },
    {
     "data": {
      "application/vnd.jupyter.widget-view+json": {
       "model_id": "eceaa5bcea844e07b4ed949448b5a54a",
       "version_major": 2,
       "version_minor": 0
      },
      "text/plain": [
       "  0%|          | 0/119 [00:00<?, ?it/s]"
      ]
     },
     "metadata": {},
     "output_type": "display_data"
    },
    {
     "name": "stdout",
     "output_type": "stream",
     "text": [
      "Test for lr 1e-05 epoch 14: \n",
      "{'exact_match': 17.647058823529413, 'f1': 26.988932828033164}\n",
      "Training with lr=1e-05 and epoch=15\n"
     ]
    },
    {
     "data": {
      "text/html": [
       "\n",
       "    <div>\n",
       "      \n",
       "      <progress value='69' max='69' style='width:300px; height:20px; vertical-align: middle;'></progress>\n",
       "      [69/69 00:37, Epoch 1/1]\n",
       "    </div>\n",
       "    <table border=\"1\" class=\"dataframe\">\n",
       "  <thead>\n",
       " <tr style=\"text-align: left;\">\n",
       "      <th>Step</th>\n",
       "      <th>Training Loss</th>\n",
       "    </tr>\n",
       "  </thead>\n",
       "  <tbody>\n",
       "  </tbody>\n",
       "</table><p>"
      ],
      "text/plain": [
       "<IPython.core.display.HTML object>"
      ]
     },
     "metadata": {},
     "output_type": "display_data"
    },
    {
     "data": {
      "text/html": [],
      "text/plain": [
       "<IPython.core.display.HTML object>"
      ]
     },
     "metadata": {},
     "output_type": "display_data"
    },
    {
     "data": {
      "application/vnd.jupyter.widget-view+json": {
       "model_id": "ee640a0dbacb4e63adbb16de3d3ef8c7",
       "version_major": 2,
       "version_minor": 0
      },
      "text/plain": [
       "  0%|          | 0/119 [00:00<?, ?it/s]"
      ]
     },
     "metadata": {},
     "output_type": "display_data"
    },
    {
     "name": "stdout",
     "output_type": "stream",
     "text": [
      "Validation for lr 1e-05 epoch 15: \n",
      "{'exact_match': 15.966386554621849, 'f1': 25.632528069502857}\n"
     ]
    },
    {
     "data": {
      "text/html": [],
      "text/plain": [
       "<IPython.core.display.HTML object>"
      ]
     },
     "metadata": {},
     "output_type": "display_data"
    },
    {
     "data": {
      "application/vnd.jupyter.widget-view+json": {
       "model_id": "ebe63f3e21a7410db002b0fc5359267e",
       "version_major": 2,
       "version_minor": 0
      },
      "text/plain": [
       "  0%|          | 0/119 [00:00<?, ?it/s]"
      ]
     },
     "metadata": {},
     "output_type": "display_data"
    },
    {
     "name": "stdout",
     "output_type": "stream",
     "text": [
      "Test for lr 1e-05 epoch 15: \n",
      "{'exact_match': 20.168067226890756, 'f1': 29.6963832421289}\n",
      "Training with lr=1e-05 and epoch=16\n"
     ]
    },
    {
     "data": {
      "text/html": [
       "\n",
       "    <div>\n",
       "      \n",
       "      <progress value='69' max='69' style='width:300px; height:20px; vertical-align: middle;'></progress>\n",
       "      [69/69 00:31, Epoch 1/1]\n",
       "    </div>\n",
       "    <table border=\"1\" class=\"dataframe\">\n",
       "  <thead>\n",
       " <tr style=\"text-align: left;\">\n",
       "      <th>Step</th>\n",
       "      <th>Training Loss</th>\n",
       "    </tr>\n",
       "  </thead>\n",
       "  <tbody>\n",
       "  </tbody>\n",
       "</table><p>"
      ],
      "text/plain": [
       "<IPython.core.display.HTML object>"
      ]
     },
     "metadata": {},
     "output_type": "display_data"
    },
    {
     "data": {
      "text/html": [],
      "text/plain": [
       "<IPython.core.display.HTML object>"
      ]
     },
     "metadata": {},
     "output_type": "display_data"
    },
    {
     "data": {
      "application/vnd.jupyter.widget-view+json": {
       "model_id": "4b2a87be72a84293b04c7e710db72f3d",
       "version_major": 2,
       "version_minor": 0
      },
      "text/plain": [
       "  0%|          | 0/119 [00:00<?, ?it/s]"
      ]
     },
     "metadata": {},
     "output_type": "display_data"
    },
    {
     "name": "stdout",
     "output_type": "stream",
     "text": [
      "Validation for lr 1e-05 epoch 16: \n",
      "{'exact_match': 17.647058823529413, 'f1': 28.017421420782753}\n"
     ]
    },
    {
     "data": {
      "text/html": [],
      "text/plain": [
       "<IPython.core.display.HTML object>"
      ]
     },
     "metadata": {},
     "output_type": "display_data"
    },
    {
     "data": {
      "application/vnd.jupyter.widget-view+json": {
       "model_id": "9244b8fd18a64ad99d356d2ffd3eccbc",
       "version_major": 2,
       "version_minor": 0
      },
      "text/plain": [
       "  0%|          | 0/119 [00:00<?, ?it/s]"
      ]
     },
     "metadata": {},
     "output_type": "display_data"
    },
    {
     "name": "stdout",
     "output_type": "stream",
     "text": [
      "Test for lr 1e-05 epoch 16: \n",
      "{'exact_match': 19.327731092436974, 'f1': 28.34080691099969}\n",
      "Training with lr=1e-05 and epoch=17\n"
     ]
    },
    {
     "data": {
      "text/html": [
       "\n",
       "    <div>\n",
       "      \n",
       "      <progress value='69' max='69' style='width:300px; height:20px; vertical-align: middle;'></progress>\n",
       "      [69/69 00:31, Epoch 1/1]\n",
       "    </div>\n",
       "    <table border=\"1\" class=\"dataframe\">\n",
       "  <thead>\n",
       " <tr style=\"text-align: left;\">\n",
       "      <th>Step</th>\n",
       "      <th>Training Loss</th>\n",
       "    </tr>\n",
       "  </thead>\n",
       "  <tbody>\n",
       "  </tbody>\n",
       "</table><p>"
      ],
      "text/plain": [
       "<IPython.core.display.HTML object>"
      ]
     },
     "metadata": {},
     "output_type": "display_data"
    },
    {
     "data": {
      "text/html": [],
      "text/plain": [
       "<IPython.core.display.HTML object>"
      ]
     },
     "metadata": {},
     "output_type": "display_data"
    },
    {
     "data": {
      "application/vnd.jupyter.widget-view+json": {
       "model_id": "eebbe6401f094fd597963a2eac17a59a",
       "version_major": 2,
       "version_minor": 0
      },
      "text/plain": [
       "  0%|          | 0/119 [00:00<?, ?it/s]"
      ]
     },
     "metadata": {},
     "output_type": "display_data"
    },
    {
     "name": "stdout",
     "output_type": "stream",
     "text": [
      "Validation for lr 1e-05 epoch 17: \n",
      "{'exact_match': 17.647058823529413, 'f1': 27.68544247535844}\n"
     ]
    },
    {
     "data": {
      "text/html": [],
      "text/plain": [
       "<IPython.core.display.HTML object>"
      ]
     },
     "metadata": {},
     "output_type": "display_data"
    },
    {
     "data": {
      "application/vnd.jupyter.widget-view+json": {
       "model_id": "e9f9378ceeb547089975675790dc0e66",
       "version_major": 2,
       "version_minor": 0
      },
      "text/plain": [
       "  0%|          | 0/119 [00:00<?, ?it/s]"
      ]
     },
     "metadata": {},
     "output_type": "display_data"
    },
    {
     "name": "stdout",
     "output_type": "stream",
     "text": [
      "Test for lr 1e-05 epoch 17: \n",
      "{'exact_match': 18.48739495798319, 'f1': 27.08530471011934}\n",
      "Training with lr=1e-05 and epoch=18\n"
     ]
    },
    {
     "data": {
      "text/html": [
       "\n",
       "    <div>\n",
       "      \n",
       "      <progress value='69' max='69' style='width:300px; height:20px; vertical-align: middle;'></progress>\n",
       "      [69/69 00:35, Epoch 1/1]\n",
       "    </div>\n",
       "    <table border=\"1\" class=\"dataframe\">\n",
       "  <thead>\n",
       " <tr style=\"text-align: left;\">\n",
       "      <th>Step</th>\n",
       "      <th>Training Loss</th>\n",
       "    </tr>\n",
       "  </thead>\n",
       "  <tbody>\n",
       "  </tbody>\n",
       "</table><p>"
      ],
      "text/plain": [
       "<IPython.core.display.HTML object>"
      ]
     },
     "metadata": {},
     "output_type": "display_data"
    },
    {
     "data": {
      "text/html": [],
      "text/plain": [
       "<IPython.core.display.HTML object>"
      ]
     },
     "metadata": {},
     "output_type": "display_data"
    },
    {
     "data": {
      "application/vnd.jupyter.widget-view+json": {
       "model_id": "0b17d8eba5784a40870fb2f4beb99405",
       "version_major": 2,
       "version_minor": 0
      },
      "text/plain": [
       "  0%|          | 0/119 [00:00<?, ?it/s]"
      ]
     },
     "metadata": {},
     "output_type": "display_data"
    },
    {
     "name": "stdout",
     "output_type": "stream",
     "text": [
      "Validation for lr 1e-05 epoch 18: \n",
      "{'exact_match': 13.445378151260504, 'f1': 23.254285397142546}\n"
     ]
    },
    {
     "data": {
      "text/html": [],
      "text/plain": [
       "<IPython.core.display.HTML object>"
      ]
     },
     "metadata": {},
     "output_type": "display_data"
    },
    {
     "data": {
      "application/vnd.jupyter.widget-view+json": {
       "model_id": "dfa0945c654a4a2ca7d7807e81bf522f",
       "version_major": 2,
       "version_minor": 0
      },
      "text/plain": [
       "  0%|          | 0/119 [00:00<?, ?it/s]"
      ]
     },
     "metadata": {},
     "output_type": "display_data"
    },
    {
     "name": "stdout",
     "output_type": "stream",
     "text": [
      "Test for lr 1e-05 epoch 18: \n",
      "{'exact_match': 15.126050420168067, 'f1': 23.97072554512}\n",
      "Training with lr=1e-05 and epoch=19\n"
     ]
    },
    {
     "data": {
      "text/html": [
       "\n",
       "    <div>\n",
       "      \n",
       "      <progress value='69' max='69' style='width:300px; height:20px; vertical-align: middle;'></progress>\n",
       "      [69/69 00:32, Epoch 1/1]\n",
       "    </div>\n",
       "    <table border=\"1\" class=\"dataframe\">\n",
       "  <thead>\n",
       " <tr style=\"text-align: left;\">\n",
       "      <th>Step</th>\n",
       "      <th>Training Loss</th>\n",
       "    </tr>\n",
       "  </thead>\n",
       "  <tbody>\n",
       "  </tbody>\n",
       "</table><p>"
      ],
      "text/plain": [
       "<IPython.core.display.HTML object>"
      ]
     },
     "metadata": {},
     "output_type": "display_data"
    },
    {
     "data": {
      "text/html": [],
      "text/plain": [
       "<IPython.core.display.HTML object>"
      ]
     },
     "metadata": {},
     "output_type": "display_data"
    },
    {
     "data": {
      "application/vnd.jupyter.widget-view+json": {
       "model_id": "db8de15e823b4975a5c7e03051fea775",
       "version_major": 2,
       "version_minor": 0
      },
      "text/plain": [
       "  0%|          | 0/119 [00:00<?, ?it/s]"
      ]
     },
     "metadata": {},
     "output_type": "display_data"
    },
    {
     "name": "stdout",
     "output_type": "stream",
     "text": [
      "Validation for lr 1e-05 epoch 19: \n",
      "{'exact_match': 17.647058823529413, 'f1': 28.380769557240143}\n"
     ]
    },
    {
     "data": {
      "text/html": [],
      "text/plain": [
       "<IPython.core.display.HTML object>"
      ]
     },
     "metadata": {},
     "output_type": "display_data"
    },
    {
     "data": {
      "application/vnd.jupyter.widget-view+json": {
       "model_id": "d33dc363d6154329a62ee15ca0fa46fa",
       "version_major": 2,
       "version_minor": 0
      },
      "text/plain": [
       "  0%|          | 0/119 [00:00<?, ?it/s]"
      ]
     },
     "metadata": {},
     "output_type": "display_data"
    },
    {
     "name": "stdout",
     "output_type": "stream",
     "text": [
      "Test for lr 1e-05 epoch 19: \n",
      "{'exact_match': 19.327731092436974, 'f1': 28.200584581658752}\n",
      "Training with lr=1e-05 and epoch=20\n"
     ]
    },
    {
     "data": {
      "text/html": [
       "\n",
       "    <div>\n",
       "      \n",
       "      <progress value='69' max='69' style='width:300px; height:20px; vertical-align: middle;'></progress>\n",
       "      [69/69 00:32, Epoch 1/1]\n",
       "    </div>\n",
       "    <table border=\"1\" class=\"dataframe\">\n",
       "  <thead>\n",
       " <tr style=\"text-align: left;\">\n",
       "      <th>Step</th>\n",
       "      <th>Training Loss</th>\n",
       "    </tr>\n",
       "  </thead>\n",
       "  <tbody>\n",
       "  </tbody>\n",
       "</table><p>"
      ],
      "text/plain": [
       "<IPython.core.display.HTML object>"
      ]
     },
     "metadata": {},
     "output_type": "display_data"
    },
    {
     "data": {
      "text/html": [],
      "text/plain": [
       "<IPython.core.display.HTML object>"
      ]
     },
     "metadata": {},
     "output_type": "display_data"
    },
    {
     "data": {
      "application/vnd.jupyter.widget-view+json": {
       "model_id": "931fc1b94def4a03b08aa63b51af20f2",
       "version_major": 2,
       "version_minor": 0
      },
      "text/plain": [
       "  0%|          | 0/119 [00:00<?, ?it/s]"
      ]
     },
     "metadata": {},
     "output_type": "display_data"
    },
    {
     "name": "stdout",
     "output_type": "stream",
     "text": [
      "Validation for lr 1e-05 epoch 20: \n",
      "{'exact_match': 16.80672268907563, 'f1': 27.01165780997714}\n"
     ]
    },
    {
     "data": {
      "text/html": [],
      "text/plain": [
       "<IPython.core.display.HTML object>"
      ]
     },
     "metadata": {},
     "output_type": "display_data"
    },
    {
     "data": {
      "application/vnd.jupyter.widget-view+json": {
       "model_id": "10a4ea61bf6740bdb1d6727e3c28ed5e",
       "version_major": 2,
       "version_minor": 0
      },
      "text/plain": [
       "  0%|          | 0/119 [00:00<?, ?it/s]"
      ]
     },
     "metadata": {},
     "output_type": "display_data"
    },
    {
     "name": "stdout",
     "output_type": "stream",
     "text": [
      "Test for lr 1e-05 epoch 20: \n",
      "{'exact_match': 17.647058823529413, 'f1': 26.855689644278762}\n",
      "Training with lr=1e-05 and epoch=21\n"
     ]
    },
    {
     "data": {
      "text/html": [
       "\n",
       "    <div>\n",
       "      \n",
       "      <progress value='69' max='69' style='width:300px; height:20px; vertical-align: middle;'></progress>\n",
       "      [69/69 00:34, Epoch 1/1]\n",
       "    </div>\n",
       "    <table border=\"1\" class=\"dataframe\">\n",
       "  <thead>\n",
       " <tr style=\"text-align: left;\">\n",
       "      <th>Step</th>\n",
       "      <th>Training Loss</th>\n",
       "    </tr>\n",
       "  </thead>\n",
       "  <tbody>\n",
       "  </tbody>\n",
       "</table><p>"
      ],
      "text/plain": [
       "<IPython.core.display.HTML object>"
      ]
     },
     "metadata": {},
     "output_type": "display_data"
    },
    {
     "data": {
      "text/html": [],
      "text/plain": [
       "<IPython.core.display.HTML object>"
      ]
     },
     "metadata": {},
     "output_type": "display_data"
    },
    {
     "data": {
      "application/vnd.jupyter.widget-view+json": {
       "model_id": "71e451abc4f5415d87cef60e8da5d961",
       "version_major": 2,
       "version_minor": 0
      },
      "text/plain": [
       "  0%|          | 0/119 [00:00<?, ?it/s]"
      ]
     },
     "metadata": {},
     "output_type": "display_data"
    },
    {
     "name": "stdout",
     "output_type": "stream",
     "text": [
      "Validation for lr 1e-05 epoch 21: \n",
      "{'exact_match': 17.647058823529413, 'f1': 27.971503286629332}\n"
     ]
    },
    {
     "data": {
      "text/html": [],
      "text/plain": [
       "<IPython.core.display.HTML object>"
      ]
     },
     "metadata": {},
     "output_type": "display_data"
    },
    {
     "data": {
      "application/vnd.jupyter.widget-view+json": {
       "model_id": "440c5ddc2b6b4553bc8e31320e447ad3",
       "version_major": 2,
       "version_minor": 0
      },
      "text/plain": [
       "  0%|          | 0/119 [00:00<?, ?it/s]"
      ]
     },
     "metadata": {},
     "output_type": "display_data"
    },
    {
     "name": "stdout",
     "output_type": "stream",
     "text": [
      "Test for lr 1e-05 epoch 21: \n",
      "{'exact_match': 16.80672268907563, 'f1': 25.494373187871634}\n",
      "Training with lr=1e-05 and epoch=22\n"
     ]
    },
    {
     "data": {
      "text/html": [
       "\n",
       "    <div>\n",
       "      \n",
       "      <progress value='69' max='69' style='width:300px; height:20px; vertical-align: middle;'></progress>\n",
       "      [69/69 00:32, Epoch 1/1]\n",
       "    </div>\n",
       "    <table border=\"1\" class=\"dataframe\">\n",
       "  <thead>\n",
       " <tr style=\"text-align: left;\">\n",
       "      <th>Step</th>\n",
       "      <th>Training Loss</th>\n",
       "    </tr>\n",
       "  </thead>\n",
       "  <tbody>\n",
       "  </tbody>\n",
       "</table><p>"
      ],
      "text/plain": [
       "<IPython.core.display.HTML object>"
      ]
     },
     "metadata": {},
     "output_type": "display_data"
    },
    {
     "data": {
      "text/html": [],
      "text/plain": [
       "<IPython.core.display.HTML object>"
      ]
     },
     "metadata": {},
     "output_type": "display_data"
    },
    {
     "data": {
      "application/vnd.jupyter.widget-view+json": {
       "model_id": "2af4076feb2c4884ac5526e22864230e",
       "version_major": 2,
       "version_minor": 0
      },
      "text/plain": [
       "  0%|          | 0/119 [00:00<?, ?it/s]"
      ]
     },
     "metadata": {},
     "output_type": "display_data"
    },
    {
     "name": "stdout",
     "output_type": "stream",
     "text": [
      "Validation for lr 1e-05 epoch 22: \n",
      "{'exact_match': 17.647058823529413, 'f1': 27.65383775887977}\n"
     ]
    },
    {
     "data": {
      "text/html": [],
      "text/plain": [
       "<IPython.core.display.HTML object>"
      ]
     },
     "metadata": {},
     "output_type": "display_data"
    },
    {
     "data": {
      "application/vnd.jupyter.widget-view+json": {
       "model_id": "f75861f13c85446c8b6f8cf72482acf2",
       "version_major": 2,
       "version_minor": 0
      },
      "text/plain": [
       "  0%|          | 0/119 [00:00<?, ?it/s]"
      ]
     },
     "metadata": {},
     "output_type": "display_data"
    },
    {
     "name": "stdout",
     "output_type": "stream",
     "text": [
      "Test for lr 1e-05 epoch 22: \n",
      "{'exact_match': 16.80672268907563, 'f1': 27.414246400314514}\n",
      "Training with lr=1e-05 and epoch=23\n"
     ]
    },
    {
     "data": {
      "text/html": [
       "\n",
       "    <div>\n",
       "      \n",
       "      <progress value='69' max='69' style='width:300px; height:20px; vertical-align: middle;'></progress>\n",
       "      [69/69 00:32, Epoch 1/1]\n",
       "    </div>\n",
       "    <table border=\"1\" class=\"dataframe\">\n",
       "  <thead>\n",
       " <tr style=\"text-align: left;\">\n",
       "      <th>Step</th>\n",
       "      <th>Training Loss</th>\n",
       "    </tr>\n",
       "  </thead>\n",
       "  <tbody>\n",
       "  </tbody>\n",
       "</table><p>"
      ],
      "text/plain": [
       "<IPython.core.display.HTML object>"
      ]
     },
     "metadata": {},
     "output_type": "display_data"
    },
    {
     "data": {
      "text/html": [],
      "text/plain": [
       "<IPython.core.display.HTML object>"
      ]
     },
     "metadata": {},
     "output_type": "display_data"
    },
    {
     "data": {
      "application/vnd.jupyter.widget-view+json": {
       "model_id": "9a2bbc9f24264b2ea4865026e7392541",
       "version_major": 2,
       "version_minor": 0
      },
      "text/plain": [
       "  0%|          | 0/119 [00:00<?, ?it/s]"
      ]
     },
     "metadata": {},
     "output_type": "display_data"
    },
    {
     "name": "stdout",
     "output_type": "stream",
     "text": [
      "Validation for lr 1e-05 epoch 23: \n",
      "{'exact_match': 17.647058823529413, 'f1': 27.736675089616266}\n"
     ]
    },
    {
     "data": {
      "text/html": [],
      "text/plain": [
       "<IPython.core.display.HTML object>"
      ]
     },
     "metadata": {},
     "output_type": "display_data"
    },
    {
     "data": {
      "application/vnd.jupyter.widget-view+json": {
       "model_id": "95f5146423d940e8a71f2c501f1edcae",
       "version_major": 2,
       "version_minor": 0
      },
      "text/plain": [
       "  0%|          | 0/119 [00:00<?, ?it/s]"
      ]
     },
     "metadata": {},
     "output_type": "display_data"
    },
    {
     "name": "stdout",
     "output_type": "stream",
     "text": [
      "Test for lr 1e-05 epoch 23: \n",
      "{'exact_match': 16.80672268907563, 'f1': 27.48894294559929}\n",
      "Training with lr=1e-05 and epoch=24\n"
     ]
    },
    {
     "data": {
      "text/html": [
       "\n",
       "    <div>\n",
       "      \n",
       "      <progress value='69' max='69' style='width:300px; height:20px; vertical-align: middle;'></progress>\n",
       "      [69/69 00:32, Epoch 1/1]\n",
       "    </div>\n",
       "    <table border=\"1\" class=\"dataframe\">\n",
       "  <thead>\n",
       " <tr style=\"text-align: left;\">\n",
       "      <th>Step</th>\n",
       "      <th>Training Loss</th>\n",
       "    </tr>\n",
       "  </thead>\n",
       "  <tbody>\n",
       "  </tbody>\n",
       "</table><p>"
      ],
      "text/plain": [
       "<IPython.core.display.HTML object>"
      ]
     },
     "metadata": {},
     "output_type": "display_data"
    },
    {
     "data": {
      "text/html": [],
      "text/plain": [
       "<IPython.core.display.HTML object>"
      ]
     },
     "metadata": {},
     "output_type": "display_data"
    },
    {
     "data": {
      "application/vnd.jupyter.widget-view+json": {
       "model_id": "b216ca3a63f94539ada408e92feb18bc",
       "version_major": 2,
       "version_minor": 0
      },
      "text/plain": [
       "  0%|          | 0/119 [00:00<?, ?it/s]"
      ]
     },
     "metadata": {},
     "output_type": "display_data"
    },
    {
     "name": "stdout",
     "output_type": "stream",
     "text": [
      "Validation for lr 1e-05 epoch 24: \n",
      "{'exact_match': 15.966386554621849, 'f1': 26.584563895488262}\n"
     ]
    },
    {
     "data": {
      "text/html": [],
      "text/plain": [
       "<IPython.core.display.HTML object>"
      ]
     },
     "metadata": {},
     "output_type": "display_data"
    },
    {
     "data": {
      "application/vnd.jupyter.widget-view+json": {
       "model_id": "739b66d5afab409ab1701bbff7debe4c",
       "version_major": 2,
       "version_minor": 0
      },
      "text/plain": [
       "  0%|          | 0/119 [00:00<?, ?it/s]"
      ]
     },
     "metadata": {},
     "output_type": "display_data"
    },
    {
     "name": "stdout",
     "output_type": "stream",
     "text": [
      "Test for lr 1e-05 epoch 24: \n",
      "{'exact_match': 19.327731092436974, 'f1': 28.803959148158743}\n",
      "Training with lr=1e-05 and epoch=25\n"
     ]
    },
    {
     "data": {
      "text/html": [
       "\n",
       "    <div>\n",
       "      \n",
       "      <progress value='69' max='69' style='width:300px; height:20px; vertical-align: middle;'></progress>\n",
       "      [69/69 00:32, Epoch 1/1]\n",
       "    </div>\n",
       "    <table border=\"1\" class=\"dataframe\">\n",
       "  <thead>\n",
       " <tr style=\"text-align: left;\">\n",
       "      <th>Step</th>\n",
       "      <th>Training Loss</th>\n",
       "    </tr>\n",
       "  </thead>\n",
       "  <tbody>\n",
       "  </tbody>\n",
       "</table><p>"
      ],
      "text/plain": [
       "<IPython.core.display.HTML object>"
      ]
     },
     "metadata": {},
     "output_type": "display_data"
    },
    {
     "data": {
      "text/html": [],
      "text/plain": [
       "<IPython.core.display.HTML object>"
      ]
     },
     "metadata": {},
     "output_type": "display_data"
    },
    {
     "data": {
      "application/vnd.jupyter.widget-view+json": {
       "model_id": "f7aed48d0e414ddb85bab2f1e17b1545",
       "version_major": 2,
       "version_minor": 0
      },
      "text/plain": [
       "  0%|          | 0/119 [00:00<?, ?it/s]"
      ]
     },
     "metadata": {},
     "output_type": "display_data"
    },
    {
     "name": "stdout",
     "output_type": "stream",
     "text": [
      "Validation for lr 1e-05 epoch 25: \n",
      "{'exact_match': 16.80672268907563, 'f1': 28.38186902443639}\n"
     ]
    },
    {
     "data": {
      "text/html": [],
      "text/plain": [
       "<IPython.core.display.HTML object>"
      ]
     },
     "metadata": {},
     "output_type": "display_data"
    },
    {
     "data": {
      "application/vnd.jupyter.widget-view+json": {
       "model_id": "b3f72261384f438d98c86366445f772d",
       "version_major": 2,
       "version_minor": 0
      },
      "text/plain": [
       "  0%|          | 0/119 [00:00<?, ?it/s]"
      ]
     },
     "metadata": {},
     "output_type": "display_data"
    },
    {
     "name": "stdout",
     "output_type": "stream",
     "text": [
      "Test for lr 1e-05 epoch 25: \n",
      "{'exact_match': 18.48739495798319, 'f1': 29.23624530025914}\n",
      "Training with lr=1e-05 and epoch=26\n"
     ]
    },
    {
     "data": {
      "text/html": [
       "\n",
       "    <div>\n",
       "      \n",
       "      <progress value='69' max='69' style='width:300px; height:20px; vertical-align: middle;'></progress>\n",
       "      [69/69 00:31, Epoch 1/1]\n",
       "    </div>\n",
       "    <table border=\"1\" class=\"dataframe\">\n",
       "  <thead>\n",
       " <tr style=\"text-align: left;\">\n",
       "      <th>Step</th>\n",
       "      <th>Training Loss</th>\n",
       "    </tr>\n",
       "  </thead>\n",
       "  <tbody>\n",
       "  </tbody>\n",
       "</table><p>"
      ],
      "text/plain": [
       "<IPython.core.display.HTML object>"
      ]
     },
     "metadata": {},
     "output_type": "display_data"
    },
    {
     "data": {
      "text/html": [],
      "text/plain": [
       "<IPython.core.display.HTML object>"
      ]
     },
     "metadata": {},
     "output_type": "display_data"
    },
    {
     "data": {
      "application/vnd.jupyter.widget-view+json": {
       "model_id": "c2557a44f02948d88df22f57cbe90ab7",
       "version_major": 2,
       "version_minor": 0
      },
      "text/plain": [
       "  0%|          | 0/119 [00:00<?, ?it/s]"
      ]
     },
     "metadata": {},
     "output_type": "display_data"
    },
    {
     "name": "stdout",
     "output_type": "stream",
     "text": [
      "Validation for lr 1e-05 epoch 26: \n",
      "{'exact_match': 16.80672268907563, 'f1': 27.5417929409526}\n"
     ]
    },
    {
     "data": {
      "text/html": [],
      "text/plain": [
       "<IPython.core.display.HTML object>"
      ]
     },
     "metadata": {},
     "output_type": "display_data"
    },
    {
     "data": {
      "application/vnd.jupyter.widget-view+json": {
       "model_id": "b4749f87712b4131a3603f7758bba87b",
       "version_major": 2,
       "version_minor": 0
      },
      "text/plain": [
       "  0%|          | 0/119 [00:00<?, ?it/s]"
      ]
     },
     "metadata": {},
     "output_type": "display_data"
    },
    {
     "name": "stdout",
     "output_type": "stream",
     "text": [
      "Test for lr 1e-05 epoch 26: \n",
      "{'exact_match': 18.48739495798319, 'f1': 28.089786716825767}\n",
      "Training with lr=1e-05 and epoch=27\n"
     ]
    },
    {
     "data": {
      "text/html": [
       "\n",
       "    <div>\n",
       "      \n",
       "      <progress value='69' max='69' style='width:300px; height:20px; vertical-align: middle;'></progress>\n",
       "      [69/69 00:37, Epoch 1/1]\n",
       "    </div>\n",
       "    <table border=\"1\" class=\"dataframe\">\n",
       "  <thead>\n",
       " <tr style=\"text-align: left;\">\n",
       "      <th>Step</th>\n",
       "      <th>Training Loss</th>\n",
       "    </tr>\n",
       "  </thead>\n",
       "  <tbody>\n",
       "  </tbody>\n",
       "</table><p>"
      ],
      "text/plain": [
       "<IPython.core.display.HTML object>"
      ]
     },
     "metadata": {},
     "output_type": "display_data"
    },
    {
     "data": {
      "text/html": [],
      "text/plain": [
       "<IPython.core.display.HTML object>"
      ]
     },
     "metadata": {},
     "output_type": "display_data"
    },
    {
     "data": {
      "application/vnd.jupyter.widget-view+json": {
       "model_id": "cdfb0e22faeb44379768f9cd72e30ab7",
       "version_major": 2,
       "version_minor": 0
      },
      "text/plain": [
       "  0%|          | 0/119 [00:00<?, ?it/s]"
      ]
     },
     "metadata": {},
     "output_type": "display_data"
    },
    {
     "name": "stdout",
     "output_type": "stream",
     "text": [
      "Validation for lr 1e-05 epoch 27: \n",
      "{'exact_match': 17.647058823529413, 'f1': 28.007312482102392}\n"
     ]
    },
    {
     "data": {
      "text/html": [],
      "text/plain": [
       "<IPython.core.display.HTML object>"
      ]
     },
     "metadata": {},
     "output_type": "display_data"
    },
    {
     "data": {
      "application/vnd.jupyter.widget-view+json": {
       "model_id": "c9fa6db7632e4674a2252a9b91edffd7",
       "version_major": 2,
       "version_minor": 0
      },
      "text/plain": [
       "  0%|          | 0/119 [00:00<?, ?it/s]"
      ]
     },
     "metadata": {},
     "output_type": "display_data"
    },
    {
     "name": "stdout",
     "output_type": "stream",
     "text": [
      "Test for lr 1e-05 epoch 27: \n",
      "{'exact_match': 17.647058823529413, 'f1': 27.66814679648981}\n",
      "Training with lr=1e-05 and epoch=28\n"
     ]
    },
    {
     "data": {
      "text/html": [
       "\n",
       "    <div>\n",
       "      \n",
       "      <progress value='69' max='69' style='width:300px; height:20px; vertical-align: middle;'></progress>\n",
       "      [69/69 00:34, Epoch 1/1]\n",
       "    </div>\n",
       "    <table border=\"1\" class=\"dataframe\">\n",
       "  <thead>\n",
       " <tr style=\"text-align: left;\">\n",
       "      <th>Step</th>\n",
       "      <th>Training Loss</th>\n",
       "    </tr>\n",
       "  </thead>\n",
       "  <tbody>\n",
       "  </tbody>\n",
       "</table><p>"
      ],
      "text/plain": [
       "<IPython.core.display.HTML object>"
      ]
     },
     "metadata": {},
     "output_type": "display_data"
    },
    {
     "data": {
      "text/html": [],
      "text/plain": [
       "<IPython.core.display.HTML object>"
      ]
     },
     "metadata": {},
     "output_type": "display_data"
    },
    {
     "data": {
      "application/vnd.jupyter.widget-view+json": {
       "model_id": "28620c4466fd40d692367bb5fbda0b2b",
       "version_major": 2,
       "version_minor": 0
      },
      "text/plain": [
       "  0%|          | 0/119 [00:00<?, ?it/s]"
      ]
     },
     "metadata": {},
     "output_type": "display_data"
    },
    {
     "name": "stdout",
     "output_type": "stream",
     "text": [
      "Validation for lr 1e-05 epoch 28: \n",
      "{'exact_match': 19.327731092436974, 'f1': 28.676974286217973}\n"
     ]
    },
    {
     "data": {
      "text/html": [],
      "text/plain": [
       "<IPython.core.display.HTML object>"
      ]
     },
     "metadata": {},
     "output_type": "display_data"
    },
    {
     "data": {
      "application/vnd.jupyter.widget-view+json": {
       "model_id": "b3cd2848a13546d2a61a4d867aedfe08",
       "version_major": 2,
       "version_minor": 0
      },
      "text/plain": [
       "  0%|          | 0/119 [00:00<?, ?it/s]"
      ]
     },
     "metadata": {},
     "output_type": "display_data"
    },
    {
     "name": "stdout",
     "output_type": "stream",
     "text": [
      "Test for lr 1e-05 epoch 28: \n",
      "{'exact_match': 16.80672268907563, 'f1': 28.014800609530184}\n",
      "Training with lr=1e-05 and epoch=29\n"
     ]
    },
    {
     "data": {
      "text/html": [
       "\n",
       "    <div>\n",
       "      \n",
       "      <progress value='69' max='69' style='width:300px; height:20px; vertical-align: middle;'></progress>\n",
       "      [69/69 00:34, Epoch 1/1]\n",
       "    </div>\n",
       "    <table border=\"1\" class=\"dataframe\">\n",
       "  <thead>\n",
       " <tr style=\"text-align: left;\">\n",
       "      <th>Step</th>\n",
       "      <th>Training Loss</th>\n",
       "    </tr>\n",
       "  </thead>\n",
       "  <tbody>\n",
       "  </tbody>\n",
       "</table><p>"
      ],
      "text/plain": [
       "<IPython.core.display.HTML object>"
      ]
     },
     "metadata": {},
     "output_type": "display_data"
    },
    {
     "data": {
      "text/html": [],
      "text/plain": [
       "<IPython.core.display.HTML object>"
      ]
     },
     "metadata": {},
     "output_type": "display_data"
    },
    {
     "data": {
      "application/vnd.jupyter.widget-view+json": {
       "model_id": "3a2c2f6603854318a93b1dd33a149f11",
       "version_major": 2,
       "version_minor": 0
      },
      "text/plain": [
       "  0%|          | 0/119 [00:00<?, ?it/s]"
      ]
     },
     "metadata": {},
     "output_type": "display_data"
    },
    {
     "name": "stdout",
     "output_type": "stream",
     "text": [
      "Validation for lr 1e-05 epoch 29: \n",
      "{'exact_match': 17.647058823529413, 'f1': 28.659932102412537}\n"
     ]
    },
    {
     "data": {
      "text/html": [],
      "text/plain": [
       "<IPython.core.display.HTML object>"
      ]
     },
     "metadata": {},
     "output_type": "display_data"
    },
    {
     "data": {
      "application/vnd.jupyter.widget-view+json": {
       "model_id": "bc5313b27c464c54996b4300f944886a",
       "version_major": 2,
       "version_minor": 0
      },
      "text/plain": [
       "  0%|          | 0/119 [00:00<?, ?it/s]"
      ]
     },
     "metadata": {},
     "output_type": "display_data"
    },
    {
     "name": "stdout",
     "output_type": "stream",
     "text": [
      "Test for lr 1e-05 epoch 29: \n",
      "{'exact_match': 16.80672268907563, 'f1': 27.489257058776545}\n",
      "Training with lr=1e-05 and epoch=30\n"
     ]
    },
    {
     "data": {
      "text/html": [
       "\n",
       "    <div>\n",
       "      \n",
       "      <progress value='69' max='69' style='width:300px; height:20px; vertical-align: middle;'></progress>\n",
       "      [69/69 00:31, Epoch 1/1]\n",
       "    </div>\n",
       "    <table border=\"1\" class=\"dataframe\">\n",
       "  <thead>\n",
       " <tr style=\"text-align: left;\">\n",
       "      <th>Step</th>\n",
       "      <th>Training Loss</th>\n",
       "    </tr>\n",
       "  </thead>\n",
       "  <tbody>\n",
       "  </tbody>\n",
       "</table><p>"
      ],
      "text/plain": [
       "<IPython.core.display.HTML object>"
      ]
     },
     "metadata": {},
     "output_type": "display_data"
    },
    {
     "data": {
      "text/html": [],
      "text/plain": [
       "<IPython.core.display.HTML object>"
      ]
     },
     "metadata": {},
     "output_type": "display_data"
    },
    {
     "data": {
      "application/vnd.jupyter.widget-view+json": {
       "model_id": "ae0df203dad14196b3f31f7ca4d7e36b",
       "version_major": 2,
       "version_minor": 0
      },
      "text/plain": [
       "  0%|          | 0/119 [00:00<?, ?it/s]"
      ]
     },
     "metadata": {},
     "output_type": "display_data"
    },
    {
     "name": "stdout",
     "output_type": "stream",
     "text": [
      "Validation for lr 1e-05 epoch 30: \n",
      "{'exact_match': 17.647058823529413, 'f1': 26.945400537837504}\n"
     ]
    },
    {
     "data": {
      "text/html": [],
      "text/plain": [
       "<IPython.core.display.HTML object>"
      ]
     },
     "metadata": {},
     "output_type": "display_data"
    },
    {
     "data": {
      "application/vnd.jupyter.widget-view+json": {
       "model_id": "f6f6dffcfbc54b99944ca7acba9f1b7f",
       "version_major": 2,
       "version_minor": 0
      },
      "text/plain": [
       "  0%|          | 0/119 [00:00<?, ?it/s]"
      ]
     },
     "metadata": {},
     "output_type": "display_data"
    },
    {
     "name": "stdout",
     "output_type": "stream",
     "text": [
      "Test for lr 1e-05 epoch 30: \n",
      "{'exact_match': 14.285714285714286, 'f1': 25.175270858235724}\n",
      "Training with lr=1e-05 and epoch=31\n"
     ]
    },
    {
     "data": {
      "text/html": [
       "\n",
       "    <div>\n",
       "      \n",
       "      <progress value='69' max='69' style='width:300px; height:20px; vertical-align: middle;'></progress>\n",
       "      [69/69 00:32, Epoch 1/1]\n",
       "    </div>\n",
       "    <table border=\"1\" class=\"dataframe\">\n",
       "  <thead>\n",
       " <tr style=\"text-align: left;\">\n",
       "      <th>Step</th>\n",
       "      <th>Training Loss</th>\n",
       "    </tr>\n",
       "  </thead>\n",
       "  <tbody>\n",
       "  </tbody>\n",
       "</table><p>"
      ],
      "text/plain": [
       "<IPython.core.display.HTML object>"
      ]
     },
     "metadata": {},
     "output_type": "display_data"
    },
    {
     "data": {
      "text/html": [],
      "text/plain": [
       "<IPython.core.display.HTML object>"
      ]
     },
     "metadata": {},
     "output_type": "display_data"
    },
    {
     "data": {
      "application/vnd.jupyter.widget-view+json": {
       "model_id": "a19011df17d04bcbaaa329a7929cff9b",
       "version_major": 2,
       "version_minor": 0
      },
      "text/plain": [
       "  0%|          | 0/119 [00:00<?, ?it/s]"
      ]
     },
     "metadata": {},
     "output_type": "display_data"
    },
    {
     "name": "stdout",
     "output_type": "stream",
     "text": [
      "Validation for lr 1e-05 epoch 31: \n",
      "{'exact_match': 20.168067226890756, 'f1': 30.440814618589176}\n"
     ]
    },
    {
     "data": {
      "text/html": [],
      "text/plain": [
       "<IPython.core.display.HTML object>"
      ]
     },
     "metadata": {},
     "output_type": "display_data"
    },
    {
     "data": {
      "application/vnd.jupyter.widget-view+json": {
       "model_id": "f146bb0854f9408885e330408cd54b4e",
       "version_major": 2,
       "version_minor": 0
      },
      "text/plain": [
       "  0%|          | 0/119 [00:00<?, ?it/s]"
      ]
     },
     "metadata": {},
     "output_type": "display_data"
    },
    {
     "name": "stdout",
     "output_type": "stream",
     "text": [
      "Test for lr 1e-05 epoch 31: \n",
      "{'exact_match': 19.327731092436974, 'f1': 29.800514895244472}\n",
      "Training with lr=1e-05 and epoch=32\n"
     ]
    },
    {
     "data": {
      "text/html": [
       "\n",
       "    <div>\n",
       "      \n",
       "      <progress value='69' max='69' style='width:300px; height:20px; vertical-align: middle;'></progress>\n",
       "      [69/69 00:31, Epoch 1/1]\n",
       "    </div>\n",
       "    <table border=\"1\" class=\"dataframe\">\n",
       "  <thead>\n",
       " <tr style=\"text-align: left;\">\n",
       "      <th>Step</th>\n",
       "      <th>Training Loss</th>\n",
       "    </tr>\n",
       "  </thead>\n",
       "  <tbody>\n",
       "  </tbody>\n",
       "</table><p>"
      ],
      "text/plain": [
       "<IPython.core.display.HTML object>"
      ]
     },
     "metadata": {},
     "output_type": "display_data"
    },
    {
     "data": {
      "text/html": [],
      "text/plain": [
       "<IPython.core.display.HTML object>"
      ]
     },
     "metadata": {},
     "output_type": "display_data"
    },
    {
     "data": {
      "application/vnd.jupyter.widget-view+json": {
       "model_id": "236f4a92c54d49b49233abbf6321bc40",
       "version_major": 2,
       "version_minor": 0
      },
      "text/plain": [
       "  0%|          | 0/119 [00:00<?, ?it/s]"
      ]
     },
     "metadata": {},
     "output_type": "display_data"
    },
    {
     "name": "stdout",
     "output_type": "stream",
     "text": [
      "Validation for lr 1e-05 epoch 32: \n",
      "{'exact_match': 17.647058823529413, 'f1': 28.317590439439176}\n"
     ]
    },
    {
     "data": {
      "text/html": [],
      "text/plain": [
       "<IPython.core.display.HTML object>"
      ]
     },
     "metadata": {},
     "output_type": "display_data"
    },
    {
     "data": {
      "application/vnd.jupyter.widget-view+json": {
       "model_id": "64bc45c7781443e1abd7b622bcab9a5a",
       "version_major": 2,
       "version_minor": 0
      },
      "text/plain": [
       "  0%|          | 0/119 [00:00<?, ?it/s]"
      ]
     },
     "metadata": {},
     "output_type": "display_data"
    },
    {
     "name": "stdout",
     "output_type": "stream",
     "text": [
      "Test for lr 1e-05 epoch 32: \n",
      "{'exact_match': 17.647058823529413, 'f1': 28.303681712210494}\n"
     ]
    }
   ],
   "source": [
    "tet_loop(lr_list=[1e-4, 1e-3, 1e-5], epochs=16, batch_size=16)"
   ]
  },
  {
   "cell_type": "code",
   "execution_count": 17,
   "metadata": {
    "execution": {
     "iopub.execute_input": "2025-01-05T08:35:36.089884Z",
     "iopub.status.busy": "2025-01-05T08:35:36.089565Z",
     "iopub.status.idle": "2025-01-05T08:35:36.104220Z",
     "shell.execute_reply": "2025-01-05T08:35:36.103331Z",
     "shell.execute_reply.started": "2025-01-05T08:35:36.089853Z"
    },
    "trusted": true
   },
   "outputs": [],
   "source": [
    "output_metrics_to_file(all_models_eval)"
   ]
  },
  {
   "cell_type": "code",
   "execution_count": 18,
   "metadata": {
    "execution": {
     "iopub.execute_input": "2025-01-05T08:35:36.105204Z",
     "iopub.status.busy": "2025-01-05T08:35:36.104977Z",
     "iopub.status.idle": "2025-01-05T08:35:36.301298Z",
     "shell.execute_reply": "2025-01-05T08:35:36.300287Z",
     "shell.execute_reply.started": "2025-01-05T08:35:36.105183Z"
    },
    "trusted": true
   },
   "outputs": [
    {
     "name": "stdout",
     "output_type": "stream",
     "text": [
      "  adding: results/distilbert-multilingual-xquad.json (deflated 86%)\n",
      "  adding: results/distilbert-multilingual-xquad-type_test-lr_0.0001-epoch_01.json (deflated 52%)\n",
      "  adding: results/distilbert-multilingual-xquad-type_test-lr_0.0001-epoch_02.json (deflated 53%)\n",
      "  adding: results/distilbert-multilingual-xquad-type_test-lr_0.0001-epoch_03.json (deflated 52%)\n",
      "  adding: results/distilbert-multilingual-xquad-type_test-lr_0.0001-epoch_04.json (deflated 52%)\n",
      "  adding: results/distilbert-multilingual-xquad-type_test-lr_0.0001-epoch_05.json (deflated 52%)\n",
      "  adding: results/distilbert-multilingual-xquad-type_test-lr_0.0001-epoch_06.json (deflated 53%)\n",
      "  adding: results/distilbert-multilingual-xquad-type_test-lr_0.0001-epoch_07.json (deflated 52%)\n",
      "  adding: results/distilbert-multilingual-xquad-type_test-lr_0.0001-epoch_08.json (deflated 52%)\n",
      "  adding: results/distilbert-multilingual-xquad-type_test-lr_0.0001-epoch_09.json (deflated 52%)\n",
      "  adding: results/distilbert-multilingual-xquad-type_test-lr_0.0001-epoch_10.json (deflated 54%)\n",
      "  adding: results/distilbert-multilingual-xquad-type_test-lr_0.0001-epoch_11.json (deflated 53%)\n",
      "  adding: results/distilbert-multilingual-xquad-type_test-lr_0.0001-epoch_12.json (deflated 52%)\n",
      "  adding: results/distilbert-multilingual-xquad-type_test-lr_0.0001-epoch_13.json (deflated 52%)\n",
      "  adding: results/distilbert-multilingual-xquad-type_test-lr_0.0001-epoch_14.json (deflated 53%)\n",
      "  adding: results/distilbert-multilingual-xquad-type_test-lr_0.0001-epoch_15.json (deflated 52%)\n",
      "  adding: results/distilbert-multilingual-xquad-type_test-lr_0.0001-epoch_16.json (deflated 53%)\n",
      "  adding: results/distilbert-multilingual-xquad-type_test-lr_0.0001-epoch_17.json (deflated 52%)\n",
      "  adding: results/distilbert-multilingual-xquad-type_test-lr_0.0001-epoch_18.json (deflated 53%)\n",
      "  adding: results/distilbert-multilingual-xquad-type_test-lr_0.0001-epoch_19.json (deflated 52%)\n",
      "  adding: results/distilbert-multilingual-xquad-type_test-lr_0.0001-epoch_20.json (deflated 52%)\n",
      "  adding: results/distilbert-multilingual-xquad-type_test-lr_0.0001-epoch_21.json (deflated 53%)\n",
      "  adding: results/distilbert-multilingual-xquad-type_test-lr_0.0001-epoch_22.json (deflated 53%)\n",
      "  adding: results/distilbert-multilingual-xquad-type_test-lr_0.0001-epoch_23.json (deflated 52%)\n",
      "  adding: results/distilbert-multilingual-xquad-type_test-lr_0.0001-epoch_24.json (deflated 53%)\n",
      "  adding: results/distilbert-multilingual-xquad-type_test-lr_0.0001-epoch_25.json (deflated 52%)\n",
      "  adding: results/distilbert-multilingual-xquad-type_test-lr_0.0001-epoch_26.json (deflated 52%)\n",
      "  adding: results/distilbert-multilingual-xquad-type_test-lr_0.0001-epoch_27.json (deflated 53%)\n",
      "  adding: results/distilbert-multilingual-xquad-type_test-lr_0.0001-epoch_28.json (deflated 53%)\n",
      "  adding: results/distilbert-multilingual-xquad-type_test-lr_0.0001-epoch_29.json (deflated 53%)\n",
      "  adding: results/distilbert-multilingual-xquad-type_test-lr_0.0001-epoch_30.json (deflated 55%)\n",
      "  adding: results/distilbert-multilingual-xquad-type_test-lr_0.0001-epoch_31.json (deflated 52%)\n",
      "  adding: results/distilbert-multilingual-xquad-type_test-lr_0.0001-epoch_32.json (deflated 53%)\n",
      "  adding: results/distilbert-multilingual-xquad-type_test-lr_0.001-epoch_01.json (deflated 53%)\n",
      "  adding: results/distilbert-multilingual-xquad-type_test-lr_0.001-epoch_02.json (deflated 53%)\n",
      "  adding: results/distilbert-multilingual-xquad-type_test-lr_0.001-epoch_03.json (deflated 55%)\n",
      "  adding: results/distilbert-multilingual-xquad-type_test-lr_0.001-epoch_04.json (deflated 56%)\n",
      "  adding: results/distilbert-multilingual-xquad-type_test-lr_0.001-epoch_05.json (deflated 55%)\n",
      "  adding: results/distilbert-multilingual-xquad-type_test-lr_0.001-epoch_06.json (deflated 52%)\n",
      "  adding: results/distilbert-multilingual-xquad-type_test-lr_0.001-epoch_07.json (deflated 53%)\n",
      "  adding: results/distilbert-multilingual-xquad-type_test-lr_0.001-epoch_08.json (deflated 54%)\n",
      "  adding: results/distilbert-multilingual-xquad-type_test-lr_0.001-epoch_09.json (deflated 54%)\n",
      "  adding: results/distilbert-multilingual-xquad-type_test-lr_0.001-epoch_10.json (deflated 55%)\n",
      "  adding: results/distilbert-multilingual-xquad-type_test-lr_0.001-epoch_11.json (deflated 55%)\n",
      "  adding: results/distilbert-multilingual-xquad-type_test-lr_0.001-epoch_12.json (deflated 55%)\n",
      "  adding: results/distilbert-multilingual-xquad-type_test-lr_0.001-epoch_13.json (deflated 59%)\n",
      "  adding: results/distilbert-multilingual-xquad-type_test-lr_0.001-epoch_14.json (deflated 53%)\n",
      "  adding: results/distilbert-multilingual-xquad-type_test-lr_0.001-epoch_15.json (deflated 52%)\n",
      "  adding: results/distilbert-multilingual-xquad-type_test-lr_0.001-epoch_16.json (deflated 53%)\n",
      "  adding: results/distilbert-multilingual-xquad-type_test-lr_0.001-epoch_17.json (deflated 53%)\n",
      "  adding: results/distilbert-multilingual-xquad-type_test-lr_0.001-epoch_18.json (deflated 53%)\n",
      "  adding: results/distilbert-multilingual-xquad-type_test-lr_0.001-epoch_19.json (deflated 54%)\n",
      "  adding: results/distilbert-multilingual-xquad-type_test-lr_0.001-epoch_20.json (deflated 54%)\n",
      "  adding: results/distilbert-multilingual-xquad-type_test-lr_0.001-epoch_21.json (deflated 54%)\n",
      "  adding: results/distilbert-multilingual-xquad-type_test-lr_0.001-epoch_22.json (deflated 53%)\n",
      "  adding: results/distilbert-multilingual-xquad-type_test-lr_0.001-epoch_23.json (deflated 53%)\n",
      "  adding: results/distilbert-multilingual-xquad-type_test-lr_0.001-epoch_24.json (deflated 53%)\n",
      "  adding: results/distilbert-multilingual-xquad-type_test-lr_0.001-epoch_25.json (deflated 52%)\n",
      "  adding: results/distilbert-multilingual-xquad-type_test-lr_0.001-epoch_26.json (deflated 53%)\n",
      "  adding: results/distilbert-multilingual-xquad-type_test-lr_0.001-epoch_27.json (deflated 54%)\n",
      "  adding: results/distilbert-multilingual-xquad-type_test-lr_0.001-epoch_28.json (deflated 53%)\n",
      "  adding: results/distilbert-multilingual-xquad-type_test-lr_0.001-epoch_29.json (deflated 53%)\n",
      "  adding: results/distilbert-multilingual-xquad-type_test-lr_0.001-epoch_30.json (deflated 53%)\n",
      "  adding: results/distilbert-multilingual-xquad-type_test-lr_0.001-epoch_31.json (deflated 52%)\n",
      "  adding: results/distilbert-multilingual-xquad-type_test-lr_0.001-epoch_32.json (deflated 53%)\n",
      "  adding: results/distilbert-multilingual-xquad-type_test-lr_1e-05-epoch_01.json (deflated 52%)\n",
      "  adding: results/distilbert-multilingual-xquad-type_test-lr_1e-05-epoch_02.json (deflated 53%)\n",
      "  adding: results/distilbert-multilingual-xquad-type_test-lr_1e-05-epoch_03.json (deflated 52%)\n",
      "  adding: results/distilbert-multilingual-xquad-type_test-lr_1e-05-epoch_04.json (deflated 53%)\n",
      "  adding: results/distilbert-multilingual-xquad-type_test-lr_1e-05-epoch_05.json (deflated 52%)\n",
      "  adding: results/distilbert-multilingual-xquad-type_test-lr_1e-05-epoch_06.json (deflated 53%)\n",
      "  adding: results/distilbert-multilingual-xquad-type_test-lr_1e-05-epoch_07.json (deflated 52%)\n",
      "  adding: results/distilbert-multilingual-xquad-type_test-lr_1e-05-epoch_08.json (deflated 52%)\n",
      "  adding: results/distilbert-multilingual-xquad-type_test-lr_1e-05-epoch_09.json (deflated 53%)\n",
      "  adding: results/distilbert-multilingual-xquad-type_test-lr_1e-05-epoch_10.json (deflated 53%)\n",
      "  adding: results/distilbert-multilingual-xquad-type_test-lr_1e-05-epoch_11.json (deflated 52%)\n",
      "  adding: results/distilbert-multilingual-xquad-type_test-lr_1e-05-epoch_12.json (deflated 53%)\n",
      "  adding: results/distilbert-multilingual-xquad-type_test-lr_1e-05-epoch_13.json (deflated 53%)\n",
      "  adding: results/distilbert-multilingual-xquad-type_test-lr_1e-05-epoch_14.json (deflated 53%)\n",
      "  adding: results/distilbert-multilingual-xquad-type_test-lr_1e-05-epoch_15.json (deflated 53%)\n",
      "  adding: results/distilbert-multilingual-xquad-type_test-lr_1e-05-epoch_16.json (deflated 52%)\n",
      "  adding: results/distilbert-multilingual-xquad-type_test-lr_1e-05-epoch_17.json (deflated 53%)\n",
      "  adding: results/distilbert-multilingual-xquad-type_test-lr_1e-05-epoch_18.json (deflated 53%)\n",
      "  adding: results/distilbert-multilingual-xquad-type_test-lr_1e-05-epoch_19.json (deflated 53%)\n",
      "  adding: results/distilbert-multilingual-xquad-type_test-lr_1e-05-epoch_20.json (deflated 53%)\n",
      "  adding: results/distilbert-multilingual-xquad-type_test-lr_1e-05-epoch_21.json (deflated 52%)\n",
      "  adding: results/distilbert-multilingual-xquad-type_test-lr_1e-05-epoch_22.json (deflated 54%)\n",
      "  adding: results/distilbert-multilingual-xquad-type_test-lr_1e-05-epoch_23.json (deflated 52%)\n",
      "  adding: results/distilbert-multilingual-xquad-type_test-lr_1e-05-epoch_24.json (deflated 52%)\n",
      "  adding: results/distilbert-multilingual-xquad-type_test-lr_1e-05-epoch_25.json (deflated 53%)\n",
      "  adding: results/distilbert-multilingual-xquad-type_test-lr_1e-05-epoch_26.json (deflated 53%)\n",
      "  adding: results/distilbert-multilingual-xquad-type_test-lr_1e-05-epoch_27.json (deflated 54%)\n",
      "  adding: results/distilbert-multilingual-xquad-type_test-lr_1e-05-epoch_28.json (deflated 52%)\n",
      "  adding: results/distilbert-multilingual-xquad-type_test-lr_1e-05-epoch_29.json (deflated 53%)\n",
      "  adding: results/distilbert-multilingual-xquad-type_test-lr_1e-05-epoch_30.json (deflated 52%)\n",
      "  adding: results/distilbert-multilingual-xquad-type_test-lr_1e-05-epoch_31.json (deflated 52%)\n",
      "  adding: results/distilbert-multilingual-xquad-type_test-lr_1e-05-epoch_32.json (deflated 53%)\n",
      "  adding: results/distilbert-multilingual-xquad-type_validation-lr_0.0001-epoch_01.json (deflated 53%)\n",
      "  adding: results/distilbert-multilingual-xquad-type_validation-lr_0.0001-epoch_02.json (deflated 53%)\n",
      "  adding: results/distilbert-multilingual-xquad-type_validation-lr_0.0001-epoch_03.json (deflated 52%)\n",
      "  adding: results/distilbert-multilingual-xquad-type_validation-lr_0.0001-epoch_04.json (deflated 53%)\n",
      "  adding: results/distilbert-multilingual-xquad-type_validation-lr_0.0001-epoch_05.json (deflated 53%)\n",
      "  adding: results/distilbert-multilingual-xquad-type_validation-lr_0.0001-epoch_06.json (deflated 52%)\n",
      "  adding: results/distilbert-multilingual-xquad-type_validation-lr_0.0001-epoch_07.json (deflated 52%)\n",
      "  adding: results/distilbert-multilingual-xquad-type_validation-lr_0.0001-epoch_08.json (deflated 52%)\n",
      "  adding: results/distilbert-multilingual-xquad-type_validation-lr_0.0001-epoch_09.json (deflated 52%)\n",
      "  adding: results/distilbert-multilingual-xquad-type_validation-lr_0.0001-epoch_10.json (deflated 53%)\n",
      "  adding: results/distilbert-multilingual-xquad-type_validation-lr_0.0001-epoch_11.json (deflated 53%)\n",
      "  adding: results/distilbert-multilingual-xquad-type_validation-lr_0.0001-epoch_12.json (deflated 53%)\n",
      "  adding: results/distilbert-multilingual-xquad-type_validation-lr_0.0001-epoch_13.json (deflated 53%)\n",
      "  adding: results/distilbert-multilingual-xquad-type_validation-lr_0.0001-epoch_14.json (deflated 53%)\n",
      "  adding: results/distilbert-multilingual-xquad-type_validation-lr_0.0001-epoch_15.json (deflated 52%)\n",
      "  adding: results/distilbert-multilingual-xquad-type_validation-lr_0.0001-epoch_16.json (deflated 53%)\n",
      "  adding: results/distilbert-multilingual-xquad-type_validation-lr_0.0001-epoch_17.json (deflated 52%)\n",
      "  adding: results/distilbert-multilingual-xquad-type_validation-lr_0.0001-epoch_18.json (deflated 53%)\n",
      "  adding: results/distilbert-multilingual-xquad-type_validation-lr_0.0001-epoch_19.json (deflated 54%)\n",
      "  adding: results/distilbert-multilingual-xquad-type_validation-lr_0.0001-epoch_20.json (deflated 52%)\n",
      "  adding: results/distilbert-multilingual-xquad-type_validation-lr_0.0001-epoch_21.json (deflated 52%)\n",
      "  adding: results/distilbert-multilingual-xquad-type_validation-lr_0.0001-epoch_22.json (deflated 53%)\n",
      "  adding: results/distilbert-multilingual-xquad-type_validation-lr_0.0001-epoch_23.json (deflated 53%)\n",
      "  adding: results/distilbert-multilingual-xquad-type_validation-lr_0.0001-epoch_24.json (deflated 53%)\n",
      "  adding: results/distilbert-multilingual-xquad-type_validation-lr_0.0001-epoch_25.json (deflated 52%)\n",
      "  adding: results/distilbert-multilingual-xquad-type_validation-lr_0.0001-epoch_26.json (deflated 54%)\n",
      "  adding: results/distilbert-multilingual-xquad-type_validation-lr_0.0001-epoch_27.json (deflated 52%)\n",
      "  adding: results/distilbert-multilingual-xquad-type_validation-lr_0.0001-epoch_28.json (deflated 52%)\n",
      "  adding: results/distilbert-multilingual-xquad-type_validation-lr_0.0001-epoch_29.json (deflated 52%)\n",
      "  adding: results/distilbert-multilingual-xquad-type_validation-lr_0.0001-epoch_30.json (deflated 53%)\n",
      "  adding: results/distilbert-multilingual-xquad-type_validation-lr_0.0001-epoch_31.json (deflated 52%)\n",
      "  adding: results/distilbert-multilingual-xquad-type_validation-lr_0.0001-epoch_32.json (deflated 53%)\n",
      "  adding: results/distilbert-multilingual-xquad-type_validation-lr_0.001-epoch_01.json (deflated 55%)\n",
      "  adding: results/distilbert-multilingual-xquad-type_validation-lr_0.001-epoch_02.json (deflated 53%)\n",
      "  adding: results/distilbert-multilingual-xquad-type_validation-lr_0.001-epoch_03.json (deflated 54%)\n",
      "  adding: results/distilbert-multilingual-xquad-type_validation-lr_0.001-epoch_04.json (deflated 54%)\n",
      "  adding: results/distilbert-multilingual-xquad-type_validation-lr_0.001-epoch_05.json (deflated 58%)\n",
      "  adding: results/distilbert-multilingual-xquad-type_validation-lr_0.001-epoch_06.json (deflated 53%)\n",
      "  adding: results/distilbert-multilingual-xquad-type_validation-lr_0.001-epoch_07.json (deflated 54%)\n",
      "  adding: results/distilbert-multilingual-xquad-type_validation-lr_0.001-epoch_08.json (deflated 54%)\n",
      "  adding: results/distilbert-multilingual-xquad-type_validation-lr_0.001-epoch_09.json (deflated 53%)\n",
      "  adding: results/distilbert-multilingual-xquad-type_validation-lr_0.001-epoch_10.json (deflated 56%)\n",
      "  adding: results/distilbert-multilingual-xquad-type_validation-lr_0.001-epoch_11.json (deflated 54%)\n",
      "  adding: results/distilbert-multilingual-xquad-type_validation-lr_0.001-epoch_12.json (deflated 55%)\n",
      "  adding: results/distilbert-multilingual-xquad-type_validation-lr_0.001-epoch_13.json (deflated 54%)\n",
      "  adding: results/distilbert-multilingual-xquad-type_validation-lr_0.001-epoch_14.json (deflated 54%)\n",
      "  adding: results/distilbert-multilingual-xquad-type_validation-lr_0.001-epoch_15.json (deflated 54%)\n",
      "  adding: results/distilbert-multilingual-xquad-type_validation-lr_0.001-epoch_16.json (deflated 54%)\n",
      "  adding: results/distilbert-multilingual-xquad-type_validation-lr_0.001-epoch_17.json (deflated 52%)\n",
      "  adding: results/distilbert-multilingual-xquad-type_validation-lr_0.001-epoch_18.json (deflated 54%)\n",
      "  adding: results/distilbert-multilingual-xquad-type_validation-lr_0.001-epoch_19.json (deflated 53%)\n",
      "  adding: results/distilbert-multilingual-xquad-type_validation-lr_0.001-epoch_20.json (deflated 55%)\n",
      "  adding: results/distilbert-multilingual-xquad-type_validation-lr_0.001-epoch_21.json (deflated 54%)\n",
      "  adding: results/distilbert-multilingual-xquad-type_validation-lr_0.001-epoch_22.json (deflated 54%)\n",
      "  adding: results/distilbert-multilingual-xquad-type_validation-lr_0.001-epoch_23.json (deflated 54%)\n",
      "  adding: results/distilbert-multilingual-xquad-type_validation-lr_0.001-epoch_24.json (deflated 54%)\n",
      "  adding: results/distilbert-multilingual-xquad-type_validation-lr_0.001-epoch_25.json (deflated 53%)\n",
      "  adding: results/distilbert-multilingual-xquad-type_validation-lr_0.001-epoch_26.json (deflated 53%)\n",
      "  adding: results/distilbert-multilingual-xquad-type_validation-lr_0.001-epoch_27.json (deflated 52%)\n",
      "  adding: results/distilbert-multilingual-xquad-type_validation-lr_0.001-epoch_28.json (deflated 53%)\n",
      "  adding: results/distilbert-multilingual-xquad-type_validation-lr_0.001-epoch_29.json (deflated 53%)\n",
      "  adding: results/distilbert-multilingual-xquad-type_validation-lr_0.001-epoch_30.json (deflated 54%)\n",
      "  adding: results/distilbert-multilingual-xquad-type_validation-lr_0.001-epoch_31.json (deflated 53%)\n",
      "  adding: results/distilbert-multilingual-xquad-type_validation-lr_0.001-epoch_32.json (deflated 53%)\n",
      "  adding: results/distilbert-multilingual-xquad-type_validation-lr_1e-05-epoch_01.json (deflated 52%)\n",
      "  adding: results/distilbert-multilingual-xquad-type_validation-lr_1e-05-epoch_02.json (deflated 53%)\n",
      "  adding: results/distilbert-multilingual-xquad-type_validation-lr_1e-05-epoch_03.json (deflated 52%)\n",
      "  adding: results/distilbert-multilingual-xquad-type_validation-lr_1e-05-epoch_04.json (deflated 53%)\n",
      "  adding: results/distilbert-multilingual-xquad-type_validation-lr_1e-05-epoch_05.json (deflated 54%)\n",
      "  adding: results/distilbert-multilingual-xquad-type_validation-lr_1e-05-epoch_06.json (deflated 53%)\n",
      "  adding: results/distilbert-multilingual-xquad-type_validation-lr_1e-05-epoch_07.json (deflated 52%)\n",
      "  adding: results/distilbert-multilingual-xquad-type_validation-lr_1e-05-epoch_08.json (deflated 54%)\n",
      "  adding: results/distilbert-multilingual-xquad-type_validation-lr_1e-05-epoch_09.json (deflated 53%)\n",
      "  adding: results/distilbert-multilingual-xquad-type_validation-lr_1e-05-epoch_10.json (deflated 53%)\n",
      "  adding: results/distilbert-multilingual-xquad-type_validation-lr_1e-05-epoch_11.json (deflated 53%)\n",
      "  adding: results/distilbert-multilingual-xquad-type_validation-lr_1e-05-epoch_12.json (deflated 52%)\n",
      "  adding: results/distilbert-multilingual-xquad-type_validation-lr_1e-05-epoch_13.json (deflated 52%)\n",
      "  adding: results/distilbert-multilingual-xquad-type_validation-lr_1e-05-epoch_14.json (deflated 52%)\n",
      "  adding: results/distilbert-multilingual-xquad-type_validation-lr_1e-05-epoch_15.json (deflated 54%)\n",
      "  adding: results/distilbert-multilingual-xquad-type_validation-lr_1e-05-epoch_16.json (deflated 52%)\n",
      "  adding: results/distilbert-multilingual-xquad-type_validation-lr_1e-05-epoch_17.json (deflated 53%)\n",
      "  adding: results/distilbert-multilingual-xquad-type_validation-lr_1e-05-epoch_18.json (deflated 52%)\n",
      "  adding: results/distilbert-multilingual-xquad-type_validation-lr_1e-05-epoch_19.json (deflated 53%)\n",
      "  adding: results/distilbert-multilingual-xquad-type_validation-lr_1e-05-epoch_20.json (deflated 52%)\n",
      "  adding: results/distilbert-multilingual-xquad-type_validation-lr_1e-05-epoch_21.json (deflated 52%)\n",
      "  adding: results/distilbert-multilingual-xquad-type_validation-lr_1e-05-epoch_22.json (deflated 53%)\n",
      "  adding: results/distilbert-multilingual-xquad-type_validation-lr_1e-05-epoch_23.json (deflated 51%)\n",
      "  adding: results/distilbert-multilingual-xquad-type_validation-lr_1e-05-epoch_24.json (deflated 53%)\n",
      "  adding: results/distilbert-multilingual-xquad-type_validation-lr_1e-05-epoch_25.json (deflated 52%)\n",
      "  adding: results/distilbert-multilingual-xquad-type_validation-lr_1e-05-epoch_26.json (deflated 53%)\n",
      "  adding: results/distilbert-multilingual-xquad-type_validation-lr_1e-05-epoch_27.json (deflated 53%)\n",
      "  adding: results/distilbert-multilingual-xquad-type_validation-lr_1e-05-epoch_28.json (deflated 53%)\n",
      "  adding: results/distilbert-multilingual-xquad-type_validation-lr_1e-05-epoch_29.json (deflated 52%)\n",
      "  adding: results/distilbert-multilingual-xquad-type_validation-lr_1e-05-epoch_30.json (deflated 52%)\n",
      "  adding: results/distilbert-multilingual-xquad-type_validation-lr_1e-05-epoch_31.json (deflated 53%)\n",
      "  adding: results/distilbert-multilingual-xquad-type_validation-lr_1e-05-epoch_32.json (deflated 52%)\n"
     ]
    },
    {
     "name": "stderr",
     "output_type": "stream",
     "text": [
      "/usr/lib/python3.10/pty.py:89: RuntimeWarning: os.fork() was called. os.fork() is incompatible with multithreaded code, and JAX is multithreaded, so this will likely lead to a deadlock.\n",
      "  pid, fd = os.forkpty()\n"
     ]
    }
   ],
   "source": [
    "!zip results_e4_2.zip results/*.json"
   ]
  }
 ],
 "metadata": {
  "kaggle": {
   "accelerator": "gpu",
   "dataSources": [],
   "dockerImageVersionId": 30823,
   "isGpuEnabled": true,
   "isInternetEnabled": true,
   "language": "python",
   "sourceType": "notebook"
  },
  "kernelspec": {
   "display_name": "Python 3",
   "language": "python",
   "name": "python3"
  },
  "language_info": {
   "codemirror_mode": {
    "name": "ipython",
    "version": 3
   },
   "file_extension": ".py",
   "mimetype": "text/x-python",
   "name": "python",
   "nbconvert_exporter": "python",
   "pygments_lexer": "ipython3",
   "version": "3.10.12"
  }
 },
 "nbformat": 4,
 "nbformat_minor": 4
}
