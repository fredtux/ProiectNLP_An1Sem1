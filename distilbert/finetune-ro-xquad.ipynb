{
 "cells": [
  {
   "cell_type": "markdown",
   "metadata": {},
   "source": [
    "**References**\n",
    "\n",
    "[Tutorial: Working with Hugging Face Models and Datasets](https://github.com/anyuanay/medium/blob/main/src/working_huggingface/Working_with_HuggingFace_ch4_Fine_Tuning_Pretrained_Model_for_Question_Answering.ipynb)\n",
    "\n",
    "[Fine-Tuning-for-Question-Answering-SQuAD-IndoQA](https://github.com/PrasetyoWidyantoro/Fine-Tuning-for-Question-Answering-SQuAD-IndoQA/blob/master/fine-tune-squad-dataset.ipynb)"
   ]
  },
  {
   "cell_type": "markdown",
   "metadata": {},
   "source": [
    "# Import libraries"
   ]
  },
  {
   "cell_type": "code",
   "execution_count": 3,
   "metadata": {
    "execution": {
     "iopub.execute_input": "2025-01-05T05:15:48.980173Z",
     "iopub.status.busy": "2025-01-05T05:15:48.979891Z",
     "iopub.status.idle": "2025-01-05T05:15:52.162007Z",
     "shell.execute_reply": "2025-01-05T05:15:52.160860Z",
     "shell.execute_reply.started": "2025-01-05T05:15:48.980151Z"
    },
    "trusted": true
   },
   "outputs": [
    {
     "name": "stderr",
     "output_type": "stream",
     "text": [
      "/usr/lib/python3.10/pty.py:89: RuntimeWarning: os.fork() was called. os.fork() is incompatible with multithreaded code, and JAX is multithreaded, so this will likely lead to a deadlock.\n",
      "  pid, fd = os.forkpty()\n"
     ]
    },
    {
     "name": "stdout",
     "output_type": "stream",
     "text": [
      "Requirement already satisfied: evaluate in /usr/local/lib/python3.10/dist-packages (0.4.3)\n",
      "Requirement already satisfied: datasets>=2.0.0 in /usr/local/lib/python3.10/dist-packages (from evaluate) (3.2.0)\n",
      "Requirement already satisfied: numpy>=1.17 in /usr/local/lib/python3.10/dist-packages (from evaluate) (1.26.4)\n",
      "Requirement already satisfied: dill in /usr/local/lib/python3.10/dist-packages (from evaluate) (0.3.8)\n",
      "Requirement already satisfied: pandas in /usr/local/lib/python3.10/dist-packages (from evaluate) (2.1.4)\n",
      "Requirement already satisfied: requests>=2.19.0 in /usr/local/lib/python3.10/dist-packages (from evaluate) (2.32.3)\n",
      "Requirement already satisfied: tqdm>=4.62.1 in /usr/local/lib/python3.10/dist-packages (from evaluate) (4.66.5)\n",
      "Requirement already satisfied: xxhash in /usr/local/lib/python3.10/dist-packages (from evaluate) (3.5.0)\n",
      "Requirement already satisfied: multiprocess in /usr/local/lib/python3.10/dist-packages (from evaluate) (0.70.16)\n",
      "Requirement already satisfied: fsspec>=2021.05.0 in /usr/local/lib/python3.10/dist-packages (from fsspec[http]>=2021.05.0->evaluate) (2024.6.1)\n",
      "Requirement already satisfied: huggingface-hub>=0.7.0 in /usr/local/lib/python3.10/dist-packages (from evaluate) (0.24.7)\n",
      "Requirement already satisfied: packaging in /usr/local/lib/python3.10/dist-packages (from evaluate) (24.1)\n",
      "Requirement already satisfied: filelock in /usr/local/lib/python3.10/dist-packages (from datasets>=2.0.0->evaluate) (3.16.1)\n",
      "Requirement already satisfied: pyarrow>=15.0.0 in /usr/local/lib/python3.10/dist-packages (from datasets>=2.0.0->evaluate) (18.1.0)\n",
      "Requirement already satisfied: aiohttp in /usr/local/lib/python3.10/dist-packages (from datasets>=2.0.0->evaluate) (3.10.5)\n",
      "Requirement already satisfied: pyyaml>=5.1 in /usr/local/lib/python3.10/dist-packages (from datasets>=2.0.0->evaluate) (6.0.2)\n",
      "Requirement already satisfied: typing-extensions>=3.7.4.3 in /usr/local/lib/python3.10/dist-packages (from huggingface-hub>=0.7.0->evaluate) (4.12.2)\n",
      "Requirement already satisfied: charset-normalizer<4,>=2 in /usr/local/lib/python3.10/dist-packages (from requests>=2.19.0->evaluate) (3.3.2)\n",
      "Requirement already satisfied: idna<4,>=2.5 in /usr/local/lib/python3.10/dist-packages (from requests>=2.19.0->evaluate) (3.10)\n",
      "Requirement already satisfied: urllib3<3,>=1.21.1 in /usr/local/lib/python3.10/dist-packages (from requests>=2.19.0->evaluate) (2.2.3)\n",
      "Requirement already satisfied: certifi>=2017.4.17 in /usr/local/lib/python3.10/dist-packages (from requests>=2.19.0->evaluate) (2024.8.30)\n",
      "Requirement already satisfied: python-dateutil>=2.8.2 in /usr/local/lib/python3.10/dist-packages (from pandas->evaluate) (2.8.2)\n",
      "Requirement already satisfied: pytz>=2020.1 in /usr/local/lib/python3.10/dist-packages (from pandas->evaluate) (2024.2)\n",
      "Requirement already satisfied: tzdata>=2022.1 in /usr/local/lib/python3.10/dist-packages (from pandas->evaluate) (2024.1)\n",
      "Requirement already satisfied: aiohappyeyeballs>=2.3.0 in /usr/local/lib/python3.10/dist-packages (from aiohttp->datasets>=2.0.0->evaluate) (2.4.0)\n",
      "Requirement already satisfied: aiosignal>=1.1.2 in /usr/local/lib/python3.10/dist-packages (from aiohttp->datasets>=2.0.0->evaluate) (1.3.1)\n",
      "Requirement already satisfied: attrs>=17.3.0 in /usr/local/lib/python3.10/dist-packages (from aiohttp->datasets>=2.0.0->evaluate) (24.2.0)\n",
      "Requirement already satisfied: frozenlist>=1.1.1 in /usr/local/lib/python3.10/dist-packages (from aiohttp->datasets>=2.0.0->evaluate) (1.4.1)\n",
      "Requirement already satisfied: multidict<7.0,>=4.5 in /usr/local/lib/python3.10/dist-packages (from aiohttp->datasets>=2.0.0->evaluate) (6.1.0)\n",
      "Requirement already satisfied: yarl<2.0,>=1.0 in /usr/local/lib/python3.10/dist-packages (from aiohttp->datasets>=2.0.0->evaluate) (1.11.1)\n",
      "Requirement already satisfied: async-timeout<5.0,>=4.0 in /usr/local/lib/python3.10/dist-packages (from aiohttp->datasets>=2.0.0->evaluate) (4.0.3)\n",
      "Requirement already satisfied: six>=1.5 in /usr/local/lib/python3.10/dist-packages (from python-dateutil>=2.8.2->pandas->evaluate) (1.16.0)\n",
      "Note: you may need to restart the kernel to use updated packages.\n"
     ]
    }
   ],
   "source": [
    "%pip install evaluate sentence-transformers"
   ]
  },
  {
   "cell_type": "code",
   "execution_count": 4,
   "metadata": {
    "execution": {
     "iopub.execute_input": "2025-01-05T05:15:52.163456Z",
     "iopub.status.busy": "2025-01-05T05:15:52.163196Z",
     "iopub.status.idle": "2025-01-05T05:15:52.167634Z",
     "shell.execute_reply": "2025-01-05T05:15:52.166807Z",
     "shell.execute_reply.started": "2025-01-05T05:15:52.163421Z"
    },
    "trusted": true
   },
   "outputs": [],
   "source": [
    "from datasets import load_dataset, Dataset\n",
    "from transformers import AutoTokenizer, AutoModelForQuestionAnswering, TrainingArguments, Trainer\n",
    "from tqdm.auto import tqdm\n",
    "import evaluate\n",
    "import numpy as np\n",
    "import os\n",
    "import json\n",
    "from sentence_transformers import SentenceTransformer, util"
   ]
  },
  {
   "cell_type": "markdown",
   "metadata": {},
   "source": [
    "# Global variables"
   ]
  },
  {
   "cell_type": "code",
   "execution_count": 5,
   "metadata": {
    "execution": {
     "iopub.execute_input": "2025-01-05T05:15:52.169217Z",
     "iopub.status.busy": "2025-01-05T05:15:52.169022Z",
     "iopub.status.idle": "2025-01-05T05:15:52.185456Z",
     "shell.execute_reply": "2025-01-05T05:15:52.184648Z",
     "shell.execute_reply.started": "2025-01-05T05:15:52.169200Z"
    },
    "trusted": true
   },
   "outputs": [],
   "source": [
    "random_seed = 42\n",
    "\n",
    "kaggle = True\n",
    "\n",
    "model_name = \"racai/distilbert-base-romanian-cased\"\n",
    "model_short_name = \"distilbert-romanian\"\n",
    "\n",
    "dataset_name = (\"xquad\", \"xquad.ro\")\n",
    "dataset_short_name = \"xquad\""
   ]
  },
  {
   "cell_type": "markdown",
   "metadata": {},
   "source": [
    "# Import model and tokenizer"
   ]
  },
  {
   "cell_type": "code",
   "execution_count": 6,
   "metadata": {
    "execution": {
     "iopub.execute_input": "2025-01-05T05:15:52.186699Z",
     "iopub.status.busy": "2025-01-05T05:15:52.186479Z",
     "iopub.status.idle": "2025-01-05T05:15:53.260227Z",
     "shell.execute_reply": "2025-01-05T05:15:53.259293Z",
     "shell.execute_reply.started": "2025-01-05T05:15:52.186680Z"
    },
    "trusted": true
   },
   "outputs": [
    {
     "data": {
      "application/vnd.jupyter.widget-view+json": {
       "model_id": "2a77bd09721e46feb04809eb8c296c86",
       "version_major": 2,
       "version_minor": 0
      },
      "text/plain": [
       "tokenizer_config.json:   0%|          | 0.00/28.0 [00:00<?, ?B/s]"
      ]
     },
     "metadata": {},
     "output_type": "display_data"
    },
    {
     "data": {
      "application/vnd.jupyter.widget-view+json": {
       "model_id": "ed562e884fc24cc2b16d14e8a50c910a",
       "version_major": 2,
       "version_minor": 0
      },
      "text/plain": [
       "config.json:   0%|          | 0.00/454 [00:00<?, ?B/s]"
      ]
     },
     "metadata": {},
     "output_type": "display_data"
    },
    {
     "data": {
      "application/vnd.jupyter.widget-view+json": {
       "model_id": "53de78ebf83e4662af7b8bf627a53f30",
       "version_major": 2,
       "version_minor": 0
      },
      "text/plain": [
       "vocab.txt:   0%|          | 0.00/397k [00:00<?, ?B/s]"
      ]
     },
     "metadata": {},
     "output_type": "display_data"
    },
    {
     "name": "stderr",
     "output_type": "stream",
     "text": [
      "/usr/local/lib/python3.10/dist-packages/transformers/tokenization_utils_base.py:1601: FutureWarning: `clean_up_tokenization_spaces` was not set. It will be set to `True` by default. This behavior will be depracted in transformers v4.45, and will be then set to `False` by default. For more details check this issue: https://github.com/huggingface/transformers/issues/31884\n",
      "  warnings.warn(\n"
     ]
    }
   ],
   "source": [
    "tokenizer = AutoTokenizer.from_pretrained(model_name)\n",
    "# model = AutoModelForQuestionAnswering.from_pretrained(model_name)"
   ]
  },
  {
   "cell_type": "markdown",
   "metadata": {},
   "source": [
    "# Split the dataset into train, validation and test"
   ]
  },
  {
   "cell_type": "code",
   "execution_count": 7,
   "metadata": {
    "execution": {
     "iopub.execute_input": "2025-01-05T05:15:53.261609Z",
     "iopub.status.busy": "2025-01-05T05:15:53.261255Z",
     "iopub.status.idle": "2025-01-05T05:15:56.563249Z",
     "shell.execute_reply": "2025-01-05T05:15:56.562390Z",
     "shell.execute_reply.started": "2025-01-05T05:15:53.261575Z"
    },
    "trusted": true
   },
   "outputs": [
    {
     "data": {
      "application/vnd.jupyter.widget-view+json": {
       "model_id": "cf265fbf032546bebf187f48272c6392",
       "version_major": 2,
       "version_minor": 0
      },
      "text/plain": [
       "README.md:   0%|          | 0.00/15.6k [00:00<?, ?B/s]"
      ]
     },
     "metadata": {},
     "output_type": "display_data"
    },
    {
     "data": {
      "application/vnd.jupyter.widget-view+json": {
       "model_id": "d4ca06b6889944d8a8bbbac1aaa76b54",
       "version_major": 2,
       "version_minor": 0
      },
      "text/plain": [
       "validation-00000-of-00001.parquet:   0%|          | 0.00/244k [00:00<?, ?B/s]"
      ]
     },
     "metadata": {},
     "output_type": "display_data"
    },
    {
     "data": {
      "application/vnd.jupyter.widget-view+json": {
       "model_id": "0ccb5799b6fb49838610d7d6077c1eda",
       "version_major": 2,
       "version_minor": 0
      },
      "text/plain": [
       "Generating validation split:   0%|          | 0/1190 [00:00<?, ? examples/s]"
      ]
     },
     "metadata": {},
     "output_type": "display_data"
    },
    {
     "name": "stdout",
     "output_type": "stream",
     "text": [
      "952 119 119\n"
     ]
    }
   ],
   "source": [
    "ds = load_dataset(dataset_name[0], dataset_name[1])\n",
    "\n",
    "ds = ds['validation'].train_test_split(test_size=0.2)\n",
    "ds_train = ds['train']\n",
    "ds_test = ds['test']\n",
    "\n",
    "ds_test = ds_test.train_test_split(test_size=0.5)\n",
    "ds_val = ds_test['train']\n",
    "ds_test = ds_test['test']\n",
    "\n",
    "print(len(ds_train), len(ds_val), len(ds_test))"
   ]
  },
  {
   "cell_type": "markdown",
   "metadata": {},
   "source": [
    "# Process the dataset"
   ]
  },
  {
   "cell_type": "markdown",
   "metadata": {},
   "source": [
    "## Train dataset"
   ]
  },
  {
   "cell_type": "code",
   "execution_count": 8,
   "metadata": {
    "execution": {
     "iopub.execute_input": "2025-01-05T05:15:56.564599Z",
     "iopub.status.busy": "2025-01-05T05:15:56.564330Z",
     "iopub.status.idle": "2025-01-05T05:15:56.573904Z",
     "shell.execute_reply": "2025-01-05T05:15:56.573123Z",
     "shell.execute_reply.started": "2025-01-05T05:15:56.564576Z"
    },
    "trusted": true
   },
   "outputs": [],
   "source": [
    "def standardize(text: str):\n",
    "    return text\n",
    "    # return text.replace(\"ţ\", \"ț\").replace(\"ş\", \"ș\").replace(\"Ţ\", \"Ț\").replace(\"Ş\", \"Ș\")\n",
    "\n",
    "def process_and_tokenize(dataset: Dataset, tokenizer: AutoTokenizer) -> dict:\n",
    "    # Extract from the dataset and standardize where possible\n",
    "    questions = [standardize(q).strip() for q in dataset[\"question\"]]\n",
    "    contexts = [standardize(c) for c in dataset[\"context\"]]\n",
    "    answers = dataset[\"answers\"]\n",
    "    \n",
    "    \n",
    "    inputs = tokenizer(\n",
    "        questions,\n",
    "        contexts,\n",
    "        max_length=384,\n",
    "        truncation=\"only_second\",\n",
    "        stride=128,\n",
    "        return_overflowing_tokens=True,\n",
    "        return_offsets_mapping=True,\n",
    "        padding=\"max_length\",\n",
    "    )\n",
    "\n",
    "    sample_mapping = inputs[\"overflow_to_sample_mapping\"]\n",
    "    offset_mapping = inputs[\"offset_mapping\"]\n",
    "    \n",
    "    start_pos = []\n",
    "    end_pos = []\n",
    "\n",
    "    for i, ofs in enumerate(offset_mapping):\n",
    "        # Get the sample\n",
    "        sample_i = sample_mapping[i]\n",
    "        \n",
    "        # Get the answer for the sample\n",
    "        answer = answers[sample_i]\n",
    "        \n",
    "        # Get the start and end character of the answer\n",
    "        start = answer[\"answer_start\"][0]\n",
    "        end = answer[\"answer_start\"][0] + len(answer[\"text\"][0])\n",
    "        \n",
    "        # Get the sequence ids\n",
    "        seq_ids = inputs.sequence_ids(i)\n",
    "\n",
    "        # Get the start and end token positions\n",
    "        start_context = seq_ids.index(1)\n",
    "        end_context = next(j - 1 for j in range(start_context, len(seq_ids)) if seq_ids[j] != 1)\n",
    "\n",
    "        if ofs[start_context][0] > start or ofs[end_context][1] < end: # If it's impossible\n",
    "            start_pos.append(0)\n",
    "            end_pos.append(0)\n",
    "        else: # Get and append start and end position\n",
    "            start_pos.append(next((j - 1 for j in range(start_context, end_context + 1) if ofs[j][0] > start), end_context))\n",
    "            end_pos.append(next((j + 1 for j in range(end_context, start_context - 1, -1) if ofs[j][1] < end), start_context))\n",
    "            \n",
    "            # if i < len(dataset['id']) and dataset['id'][i] == '56d6f3500d65d21400198292':\n",
    "            #     print(start_context, end_context, end_pos[-1], end_pos[-1])\n",
    "\n",
    "    inputs[\"start_positions\"] = start_pos\n",
    "    inputs[\"end_positions\"] = end_pos\n",
    "        \n",
    "    inputs.pop(\"overflow_to_sample_mapping\")\n",
    "    inputs.pop(\"offset_mapping\")\n",
    "    \n",
    "    return inputs\n"
   ]
  },
  {
   "cell_type": "code",
   "execution_count": 9,
   "metadata": {
    "execution": {
     "iopub.execute_input": "2025-01-05T05:15:56.574859Z",
     "iopub.status.busy": "2025-01-05T05:15:56.574620Z",
     "iopub.status.idle": "2025-01-05T05:15:57.264225Z",
     "shell.execute_reply": "2025-01-05T05:15:57.263337Z",
     "shell.execute_reply.started": "2025-01-05T05:15:56.574840Z"
    },
    "trusted": true
   },
   "outputs": [
    {
     "data": {
      "application/vnd.jupyter.widget-view+json": {
       "model_id": "5392cfd3d6804fada71c47f9e5f95e34",
       "version_major": 2,
       "version_minor": 0
      },
      "text/plain": [
       "Map:   0%|          | 0/952 [00:00<?, ? examples/s]"
      ]
     },
     "metadata": {},
     "output_type": "display_data"
    },
    {
     "name": "stdout",
     "output_type": "stream",
     "text": [
      "['coloblaste']\n",
      "['Parlamentul European și Consiliul Uniunii Europene']\n",
      "['Parlamentul European și Consiliul Uniunii Europene']\n",
      "['Parlamentul European și Consiliul Uniunii Europene']\n",
      "['Conjectura lui Polignac']\n",
      "['John Elway']\n",
      "['China']\n",
      "['Nesupunerea civilă revoluționară']\n",
      "['Bert Bolin']\n",
      "['islamul']\n",
      "['5.500.000']\n",
      "['alegerii Partidului Laburist din Regatul Unit la guvernare']\n",
      "['mai multă egalitate în distribuția venitului']\n",
      "['687 și 760 nm']\n",
      "['San Mateo']\n",
      "['guvernele incompetente, ineficiente și neglijente']\n",
      "['MLB']\n",
      "['DTIME(f(n))']\n",
      "['școlile alternative (charter schools)']\n",
      "['întrucât legea națională era din anul 1962, iar tratatul a intrat în vigoare în anul 1958, cererea lui Costa nu era fondată']\n",
      "['întrucât legea națională era din anul 1962, iar tratatul a intrat în vigoare în anul 1958, cererea lui Costa nu era fondată']\n",
      "['întrucât legea națională era din anul 1962, iar tratatul a intrat în vigoare în anul 1958, cererea lui Costa nu era fondată']\n",
      "['după 1279']\n",
      "['după 1279']\n",
      "['rețetele pacienților și siguranța pacientului']\n",
      "['Jean Ribault']\n",
      "['1895']\n",
      "['o platformă de satelit']\n",
      "['bani de la sisteme bancare islamice din străinătate']\n",
      "['linii cu ecartament îngust de 760 mm (2 ft 6 in)']\n",
      "['Rollo']\n",
      "['Thomas Piketty']\n",
      "['Onggirat']\n",
      "['proiecte de lege private']\n",
      "['68.511']\n",
      "['creșterii rapide a populației și a traficului în orașele de pe marginea șoselei Secundare 99, precum și a dorinței de finanțare federală']\n",
      "['transportul, canalizarea, deșeurile periculoase și apa']\n",
      "['camere de oxigen']\n",
      "['Generalul-Maior Louis-Joseph de Montcalm']\n",
      "['încălzire suplimentară a suprafeței Pământului']\n",
      "['arabi suniți']\n",
      "['Rin-Meuse']\n",
      "['școlile de Laborator ale Universității din Chicago']\n",
      "['Los Angeles Kings']\n",
      "['diviziune de probă']\n",
      "['Virgin Media']\n",
      "['coercitive']\n",
      "['suc nefermentat de struguri']\n",
      "['suburbane']\n",
      "['raportul WWF']\n",
      "['Chivas']\n",
      "['2014']\n",
      "['teledetecția']\n",
      "['antigenelor']\n",
      "['sigla circulară']\n",
      "['11']\n",
      "['Studenții']\n",
      "['6 octombrie 1973']\n",
      "['3,07']\n",
      "['câmpurile completate (sau locale)']\n",
      "['Ergänzungsschulen']\n",
      "['Parlamentul Victoriei']\n",
      "['regimuri islamice non-liberale']\n",
      "['Marlee Matlin']\n",
      "['Partidului Uniunii Muncitorilor din Polonia']\n",
      "['anului 1521']\n",
      "['Paul Samuelson']\n",
      "['Marea Caspică']\n",
      "['îndoielnice']\n",
      "['negru și galben']\n",
      "['Josh Norman']\n",
      "['Tesla Electric Light & Manufacturing']\n",
      "['evenimente din viața lui']\n",
      "['1685']\n",
      "['moara de praf de pușcă Eleutherian Mills']\n",
      "['20']\n",
      "['de-al doilea cel mai mare producător mondial']\n",
      "['mai puternic']\n",
      "['Niciuna']\n",
      "['tripartită']\n",
      "['tripartită']\n",
      "['New England Patriots']\n",
      "['2008']\n",
      "['2008']\n",
      "['cili']\n",
      "['1986']\n",
      "['angajează farmaciști consultanți și/sau oferă servicii de consultanță']\n",
      "['școala de Administrare a Serviciilor Sociale']\n",
      "['între P și PSPACE']\n",
      "['Astra 2A']\n",
      "['Partidul Verde']\n",
      "['2010']\n",
      "['Frederick W. Mote']\n",
      "['Hassan al-Turabi']\n",
      "['Energiprojekt AB']\n",
      "['Germania']\n",
      "['Peyton Manning']\n",
      "['37,6 miliarde de dolari']\n",
      "['Curtea de Justiție a Uniunii Europene cât și Înaltele Curți Naționale']\n",
      "['Curtea de Justiție a Uniunii Europene cât și Înaltele Curți Naționale']\n",
      "['„irațional și înapoiat”']\n",
      "['notație binară']\n",
      "['English Heritage']\n",
      "['1754']\n",
      "['Robert Kintner']\n",
      "['lucruri care reprezintă o chestiune de obișnuință sau așteptări']\n",
      "['distrugerea pădurii']\n",
      "['data']\n",
      "['Bătălia de la Bạch Đặng']\n",
      "['Bătălia de la Bạch Đặng']\n",
      "['Troika Design Group']\n",
      "['17 secunde']\n",
      "['Duran Duran']\n",
      "['2011 și 2012']\n",
      "['nu pot iniția legi împotriva dorințelor Comisiei']\n",
      "['nu pot iniția legi împotriva dorințelor Comisiei']\n",
      "['nu pot iniția legi împotriva dorințelor Comisiei']\n",
      "['William Farel']\n",
      "['botanică și chimie']\n",
      "['botanică și chimie']\n",
      "['22']\n",
      "['Reconstrucția gândirii religioase în islam']\n",
      "['1969']\n",
      "['guvernul uniunii']\n",
      "['Newton']\n",
      "['Marea Expoziție din 1851']\n",
      "['Universitatea Newcastle']\n",
      "['sindicate']\n",
      "['OpenTV']\n",
      "['traiectoria balistică']\n",
      "['1954']\n",
      "['90%']\n",
      "['Adolf Galland']\n",
      "['Scara Saffir-Simpson']\n",
      "['Scara Saffir-Simpson']\n",
      "['imnul național']\n",
      "['Brazilia']\n",
      "['Guglielmo Marconi']\n",
      "['retorică']\n",
      "['Tensorul de stres']\n",
      "['nou costum spațial Apollo']\n",
      "['„Variații ale stratului de zăpadă și gheață în trecut și în prezent la nivel global și regional”']\n",
      "['Peyton Manning']\n",
      "['serviciului militar']\n",
      "['extrem de puternic']\n",
      "['Benjamin Netanyahu']\n",
      "['Iranul']\n",
      "['cunoscută în limba engleză drept Amazonia sau Jungla Amazoniană,']\n",
      "['Maroc și Etiopia']\n",
      "['religioase']\n",
      "['Annam']\n",
      "['Annam']\n",
      "['reglementează meseria de farmacist și tehnician de farmacie']\n",
      "['sistemul său umoral']\n",
      "['cea mai mică submulțime']\n",
      "['Testul de primalitate Miller–Rabin']\n",
      "['instanță a problemei']\n",
      "['termeni de presiune']\n",
      "['Partidul Popular European']\n",
      "['Partidul Popular European']\n",
      "['Partidul Popular European']\n",
      "['Faptul că ciuma a fost provocată de aerul rău']\n",
      "['pedeapsa']\n",
      "['55,1%']\n",
      "['Furtuna Tropicală Berly']\n",
      "['Furtuna Tropicală Berly']\n",
      "['Toyota Corona Mark II']\n",
      "['examinării învelișurilor animale fosilizate']\n",
      "['91%']\n",
      "['40']\n",
      "['1998']\n",
      "['armatei germane']\n",
      "['1908']\n",
      "['1993']\n",
      "['Subdiviziunea izolată']\n",
      "['100–150']\n",
      "['1973']\n",
      "['sărăcia, lipsa accesului la educație și instituțiile guvernamentale fără putere']\n",
      "['2000']\n",
      "['James Dewar']\n",
      "['Marea Japoniei']\n",
      "['valoarea absolută']\n",
      "['Conjectura lui Brocard']\n",
      "['macroeconomice']\n",
      "['Westminster']\n",
      "['Teorema fundamentală a aritmeticii']\n",
      "['Majoritatea țărilor vestice']\n",
      "['ceruri']\n",
      "['teoria Miasma']\n",
      "['17']\n",
      "['zece milioane']\n",
      "['1991']\n",
      "['Frontul Național Islamic']\n",
      "['Strada Fresno și Bulevardul Thorne']\n",
      "['trăiau în sărăcie și erau rău tratați']\n",
      "['șoseaua Secundară 41']\n",
      "['automatizare']\n",
      "['Abu al-Rayhan al-Biruni']\n",
      "['20 la 1']\n",
      "['oxigen-18']\n",
      "['matricele adiacente']\n",
      "['„aplicarea deficitară a procedurilor IPCC bine stabilite în acest caz”']\n",
      "['două membrane lipidice dublu stratificate interioare']\n",
      "['cinci']\n",
      "['comitet']\n",
      "['1996']\n",
      "['35']\n",
      "['este în descreștere']\n",
      "['timp']\n",
      "['eucariotă']\n",
      "['esențiale']\n",
      "['ecartamentul de 1.600 mm (5 ft 3 in)']\n",
      "['Ein neues Lied wir heben an']\n",
      "['califat']\n",
      "['asfixiat']\n",
      "['1981']\n",
      "['unsprezece']\n",
      "['discuri rotative']\n",
      "['20%']\n",
      "['adesea dăunător']\n",
      "['phowa și siddhi']\n",
      "['John Elway']\n",
      "['linia cloroplastelor verzi']\n",
      "['Curții Supreme ale Statelor Unite']\n",
      "['musulmană']\n",
      "['talentul său de bun animator']\n",
      "['Smith and Jones']\n",
      "['o combinație de antrax și alte pandemii']\n",
      "['1964']\n",
      "['1964']\n",
      "['până la 30%']\n",
      "['1185']\n",
      "['Glucocorticoizii']\n",
      "['Muzeul Producătorilor']\n",
      "['minimal sau indecompozabil']\n",
      "['Abu al-Qasim al-Zahrawi']\n",
      "['Abu al-Qasim al-Zahrawi']\n",
      "['blocarea porților cu lacăte']\n",
      "['Percy Shelley']\n",
      "['chișcarul și mixina']\n",
      "['„Suntem cerșetori”']\n",
      "['Marlee Matlin']\n",
      "['1962']\n",
      "['trei']\n",
      "['camera de altitudine']\n",
      "['Utilitatea Banilor']\n",
      "['forțelor turcești']\n",
      "['32,9%']\n",
      "['Africa de Nord și Vest']\n",
      "['școlile guvernamentale rezervate anterior copiilor albi']\n",
      "['taifun ostil']\n",
      "['taifun ostil']\n",
      "['nu încalcă drepturile celorlalți']\n",
      "['Ibn Sina']\n",
      "['aristocrația tradițională mongolă']\n",
      "['trei epicentre']\n",
      "['Miller']\n",
      "['importanța în creștere a capitalului uman în dezvoltare']\n",
      "['Venom']\n",
      "['aziluri pentru bătrâni']\n",
      "['Oursel']\n",
      "['adăpost, asistență educațională, clinici medicale gratuite sau la tarife reduse, asistență legată de locuințe']\n",
      "['i-au luat prin surprindere pe canadieni pe 28 mai']\n",
      "['când Germania a început să își clădească propriul imperiu colonial']\n",
      "['Curții Europene a Drepturilor Omului']\n",
      "['Președintele Statelor Unite Barack Obama']\n",
      "['boala']\n",
      "['afro-americani']\n",
      "['a instalat sisteme de iluminat pe bază de arc electric']\n",
      "['sisteme de iluminat pe bază de arc electric']\n",
      "['tradiții culturale, obiceiuri sociale, credințe religioase']\n",
      "['Manning']\n",
      "['Defileul Rinului']\n",
      "['solidaritate']\n",
      "['vest']\n",
      "['„aprovizionare universală”']\n",
      "['limita de deformare a oțelului inoxidabil']\n",
      "['coreean']\n",
      "['Anderson']\n",
      "['islamice']\n",
      "['vest']\n",
      "['finanțeze']\n",
      "['Turnul Magdalen']\n",
      "['Porifera']\n",
      "['Porifera']\n",
      "['o formă de antrax']\n",
      "['deoarece erau metodici și foarte amănunțiți când venea vorba de studiul Bibliei']\n",
      "['celulele citotoxice Natural Killer și CTLs (limfocite T citotoxice)']\n",
      "['punctul']\n",
      "['două']\n",
      "['două']\n",
      "['Broncos']\n",
      "['1971']\n",
      "['Casa Somerset']\n",
      "['1985']\n",
      "['mamelucii din Egipt']\n",
      "['Lady Gaga']\n",
      "['Ligii Musulmane din Întreaga Indie']\n",
      "['Rev. Paul T. Stallsworth']\n",
      "['Piața Măcelarului']\n",
      "['22.000']\n",
      "['albi']\n",
      "['PNU cât și din cea a ODM']\n",
      "['Omnicare, Kindred Healthcare și PharMerica']\n",
      "['politici']\n",
      "['2,8%']\n",
      "['reducerea sărăciei']\n",
      "['gestionare a departamentului farmaceutic și a zonelor de specialitate din practica farmaceutică']\n",
      "['The Curse of the Daleks']\n",
      "['comuna']\n",
      "['când sistemul imunitar este mai puțin activ decât normal']\n",
      "['Edsen Khoroo']\n",
      "['a urcat']\n",
      "['districte sau powiat']\n",
      "['Tulku']\n",
      "['Brazilia']\n",
      "['Canalul Mânecii']\n",
      "['forța gravitațională']\n",
      "['Muhammad ibn Zakarīya Rāzi']\n",
      "['Muhammad ibn Zakarīya Rāzi']\n",
      "['forma o,Galerie Națională de Artă Britanică’']\n",
      "['1263']\n",
      "['discipolilor săi']\n",
      "['șase ani']\n",
      "['fagozomale']\n",
      "['electric']\n",
      "['filosofia yin-yang și wuxing']\n",
      "['Podul John W. Weeks']\n",
      "['primarului W. Haydon Burns']\n",
      "['Fort Caroline']\n",
      "['devine mai mică']\n",
      "['statele membre']\n",
      "['registrele sondelor forate']\n",
      "['cosmologiei aristoteliene']\n",
      "['Eero Saarinen']\n",
      "['metropolitană internațională']\n",
      "['Construirea']\n",
      "['8.646 mile pătrate']\n",
      "['John Elway']\n",
      "['planificare, [adăugați citarea] proiectare și finanțare']\n",
      "['Kony Ealy']\n",
      "['Kony Ealy']\n",
      "['1900']\n",
      "['„O mașină care să pună capăt războiului”']\n",
      "['proiecte de dezvoltare la scară largă']\n",
      "['Regiunea Graniței Sudice']\n",
      "['Bryan Davies']\n",
      "['cinci']\n",
      "['1830']\n",
      "['alte locații de pe teritoriul Scoției']\n",
      "['16.000']\n",
      "['două']\n",
      "['Directiva Comitetului de Întreprindere']\n",
      "['NBA']\n",
      "['binar']\n",
      "['de acum 66 de milioane de ani']\n",
      "['Jon Corzine']\n",
      "['DVB-S2']\n",
      "['1913']\n",
      "['cererea redusă a consumatorilor']\n",
      "['sudura oxiacetilenică']\n",
      "['Harvard Yard']\n",
      "['monofiletice']\n",
      "['We Love TV']\n",
      "['Liu Bingzhong și Yao Shu']\n",
      "['Liu Bingzhong și Yao Shu']\n",
      "['sistem formal']\n",
      "['1943']\n",
      "['M. Theo Kearney']\n",
      "['1886']\n",
      "['treilea']\n",
      "['Ward']\n",
      "['Delta Rinului']\n",
      "['Teoria Pământului']\n",
      "['fertilității']\n",
      "['E.I. du Pont']\n",
      "['Doctor Who and the Daleks in the Seven Keys to Doomsday']\n",
      "['Rinul Mijlociu']\n",
      "['Bennie Fowler']\n",
      "['pe suprafața pământului']\n",
      "['Broncos']\n",
      "['pentru viziuni luterane']\n",
      "['reguli comune pentru cărbune și oțel și ulterior pentru energia atomică']\n",
      "['întâi crește']\n",
      "['forța electrostatică']\n",
      "['bibliei']\n",
      "['Universitatea Anului în clasamentul Sunday Times']\n",
      "['Nicholas E. Golovin']\n",
      "['principalelor mărci de autoturisme']\n",
      "['Satyagraha']\n",
      "['fără echipaj uman']\n",
      "['sistemului imunitar adaptiv']\n",
      "['blocarea porților cu lacăte']\n",
      "['12-lea']\n",
      "['Lama']\n",
      "['boli genetice']\n",
      "['The Talons of Weng-Chiang']\n",
      "['Lady Gaga']\n",
      "['nu există indicii']\n",
      "['Antoine Lavoisier']\n",
      "['Jacksonville']\n",
      "['Criza energetică']\n",
      "['Al-Muwaffaq']\n",
      "['Al-Muwaffaq']\n",
      "['legea UE']\n",
      "['legea UE']\n",
      "['Dudley Simpson']\n",
      "['informații complete de adresare']\n",
      "['oxigen 100%']\n",
      "['Pons Aelius']\n",
      "['1870 și 1939']\n",
      "['nu']\n",
      "['global']\n",
      "['șase']\n",
      "['James O. McKinsey']\n",
      "['Amazoneregenwoud']\n",
      "['acestea sunt judecate „greșit” de o conștiință individuală']\n",
      "['1946']\n",
      "['monofiletice']\n",
      "['substanțe combustibile în ardere']\n",
      "['1999']\n",
      "['complex']\n",
      "['Lucas Cranach']\n",
      "['8.8']\n",
      "['cadou']\n",
      "['omoloage']\n",
      "['Parlamentul Scoțian']\n",
      "['afro-americane']\n",
      "['Cracovia']\n",
      "['bogați și bine poziționați social']\n",
      "['un consorțiu de rețele de calculatoare, nu pentru profit, din Statele Unite condus de membri ai comunităților de cercetare și educație, industrie, și guvern']\n",
      "['cili rigidizați']\n",
      "['Super Bowl XXXIII']\n",
      "['390']\n",
      "['geofizice']\n",
      "['Flung to the Heedless Winds']\n",
      "['Robert Lane și Benjamin Vail']\n",
      "['curentului electric']\n",
      "['Rețeaua de Televiziune Dumont']\n",
      "['Gegeen Han']\n",
      "['William Tyndale']\n",
      "['dăunător']\n",
      "['producția de radicali liberi']\n",
      "['Gandhi']\n",
      "['Edison']\n",
      "['Harrods']\n",
      "['New England Patriots']\n",
      "['1964 și 1968']\n",
      "['1964 și 1968']\n",
      "['1964 și 1968']\n",
      "['1654']\n",
      "['China, Japonia și Coreea']\n",
      "['bacteriile anaerobe']\n",
      "['Imperialismul cultural']\n",
      "['Clasificarea Standard a Industriei și recentul Sistem Nord-American de Clasificare a Industriei']\n",
      "['Theodor Fontane']\n",
      "['Gandhi']\n",
      "['1756 până la semnarea tratatului de pace în 1763']\n",
      "['în incinta farmaciei/preparând medicamente']\n",
      "['cinci până la zece ani']\n",
      "['războiului']\n",
      "['4:51']\n",
      "['confesiunea și dezlegarea individuală de păcate']\n",
      "['britanici']\n",
      "['proprietarului']\n",
      "['situației sale financiare dezastruoase']\n",
      "['de zece ori mai mult decât greutatea proprie']\n",
      "['de jos']\n",
      "['pășune pentru vite']\n",
      "['metotrexatul sau azatioprina']\n",
      "['Charles Darwin']\n",
      "['P ⊆ NP ⊆ PP ⊆ PSPACE']\n",
      "['încălca jurămintele']\n",
      "['sfârșitul Primului Război Mondial']\n",
      "['realitățile pieței și pe cele tehnologice']\n",
      "['100–150 specii']\n",
      "['Juan Manuel Santos']\n",
      "['Imunodeficiența']\n",
      "['Protocolul Datagramelor Utilizator']\n",
      "['tranziții de stare']\n",
      "['Satya Nadella']\n",
      "['Peyton Manning']\n",
      "['mai bune']\n",
      "['Grupul Operativ al Metodiștilor Uniți privind Avortul și Sexualitatea']\n",
      "['Partidul Național']\n",
      "['Momus']\n",
      "['după 1850']\n",
      "['războaiele și „șocurile economice și politice puternice”']\n",
      "['Sud-Vestul Fresno']\n",
      "['Legea lui Lorentz']\n",
      "['Politehnica s-a transformat în universități noi']\n",
      "['exod al albilor']\n",
      "['Larry Ellison']\n",
      "['patru']\n",
      "['Pedro Menéndez de Avilés']\n",
      "['Allston']\n",
      "['22.338.618']\n",
      "['cresc semnificativ concentrațiile atmosferice']\n",
      "['de unificare']\n",
      "['majoritatea electoratului']\n",
      "['2017']\n",
      "['variație antigenică']\n",
      "['Jean Cauvin']\n",
      "['între 2005 și 2010']\n",
      "['Pearl Mackie ca și Bill']\n",
      "['numărătoare inversă la lansare']\n",
      "['corupției în sectorul public']\n",
      "['1986']\n",
      "['7.000.000 kilometri pătrați (2.700.000 mile pătrate)']\n",
      "['de zece ori mai mult decât greutatea proprie']\n",
      "['Marea Britanie']\n",
      "['Catherine Tate']\n",
      "['Pittard Sullivan']\n",
      "['durere fizică']\n",
      "['Cel de-al Unsprezecelea Doctor']\n",
      "['cască cu vizieră']\n",
      "['Ming și Qing']\n",
      "['face ca anumite legi să devină ineficiente']\n",
      "['forțelor de poliție și armate']\n",
      "['două treimi din populație']\n",
      "['515 milioane de ani']\n",
      "['Milton Friedman']\n",
      "['îngreunează funcționarea unui sistem']\n",
      "['Eugene Fama']\n",
      "['1936']\n",
      "['un număr de calificări']\n",
      "['hidrocarburi']\n",
      "['tifosul, variola și infecțiile respiratorii']\n",
      "['Orașul Manakin']\n",
      "['firme care gestionează proiecte de construcții fără a-și asuma vreo răspundere financiară directă pentru finalizarea proiectului de construire']\n",
      "['1996']\n",
      "['dificultatea lor inerentă']\n",
      "['39']\n",
      "['Testul de primalitate AKS']\n",
      "['Shen Kuo']\n",
      "['reduse semnificativ']\n",
      "['educarea la scara largă']\n",
      "['ADNct sau ADNcp']\n",
      "['Legea pentru sănătate mintală (îngrijire și tratament) (Scoția) din 2003']\n",
      "['hoteluri din New York']\n",
      "['1972']\n",
      "['Districtului Duval']\n",
      "['Brown vs. Consiliul de Educație al Topeka']\n",
      "['unitatea SI pentru densitatea de fluxul magnetic']\n",
      "['Louis al XIV-lea']\n",
      "['Satyagraha']\n",
      "['orice obiect se poate descompune, în general în mod unic, între componentele sale prime']\n",
      "['Parlamentul European și Consiliul Uniunii Europene']\n",
      "['Parlamentul European și Consiliul Uniunii Europene']\n",
      "['Parlamentul European și Consiliul Uniunii Europene']\n",
      "['Broncos']\n",
      "['prevederi „adânc înrădăcinate”']\n",
      "['ciclosporina']\n",
      "['Joseph Shea']\n",
      "['schimbărilor climatice']\n",
      "['universitate și academia militară']\n",
      "['The Tyne and Wear Metro']\n",
      "['Districtul Inferior Norfolk']\n",
      "['bilaterilor']\n",
      "['a instalat sisteme de iluminat pe bază de arc electric concepute de Tesla']\n",
      "['Holocenul']\n",
      "['o dată la cinci ani']\n",
      "['o dată la cinci ani']\n",
      "['o dată la cinci ani']\n",
      "['terestră digitală']\n",
      "['mișcarea de cumpătare']\n",
      "['tentacule']\n",
      "['1774']\n",
      "['academii de segregare']\n",
      "['Jamukha, și protectorul acestuia, Toghrul Han']\n",
      "['Autostrada Sierra']\n",
      "[\"Mănăstirea Kumbum sau Ta'er Shi de lângă Xining\"]\n",
      "['sub forma unor probleme de decizie']\n",
      "['13.000 BP']\n",
      "['tentacule']\n",
      "['Aristotel']\n",
      "['Cuaternarul']\n",
      "['mare parte din secolul al nouăsprezecelea']\n",
      "['Aeroportul Internațional San Diego']\n",
      "['Limbajul American al Semnelor']\n",
      "['alți tehnicieni de farmacie principali']\n",
      "['Premiile Academiei Americane de Film']\n",
      "['Welfare Cash Card (Card de ajutor social)']\n",
      "['~74.000 (BP = Before Present [înainte de prezent])']\n",
      "['cloroplast derivat din algele roșii']\n",
      "['corpurilor lor moi, gelatinoase']\n",
      "['eforturi speciale']\n",
      "['1901']\n",
      "['confecționarea']\n",
      "['Engineering News-Record (ENR)']\n",
      "['24']\n",
      "['24']\n",
      "['formele nedrepte de autoritate']\n",
      "['Trypanosoma brucei']\n",
      "['s-au căsătorit adesea în afara comunităților franceze din imediata lor vecinătate']\n",
      "['statele și guvernele']\n",
      "['pădure umedă cu frunze largi']\n",
      "['1937']\n",
      "['9000 BP']\n",
      "['1970']\n",
      "['Pădurea Amazoniană']\n",
      "['New England Patriots']\n",
      "['1960 și 1970']\n",
      "['Regele Franței']\n",
      "['1950']\n",
      "['alb și negru']\n",
      "['adresă de destinație, adresă sursă, și numere de port']\n",
      "['teoriei flogisticului referitoare la combustie și coroziune']\n",
      "['Mickey Smith (Noel Clarke) și Jack Harkness (John Barrowman)']\n",
      "['un parteneriat cu Level 3 Communications pentru lansarea unei noi rețele naționale']\n",
      "['înființarea unei Comisii de Etică și Anticorupție noi și independente']\n",
      "['dovezi']\n",
      "['1288']\n",
      "['1288']\n",
      "['două echipe de cercetători japonezi']\n",
      "['infecții recurente, amenințătoare de viață']\n",
      "['Curții Supreme a Statelor Unite']\n",
      "['negocierea pedepsei']\n",
      "['415.000']\n",
      "['evita cererile de zestre prohibitive']\n",
      "['Zone Statistice Metropolitane']\n",
      "['Râul Tyne']\n",
      "['2020']\n",
      "['contract de „proiectare-execuție”']\n",
      "['sud-vest']\n",
      "['companii complet diferite']\n",
      "['Luke Kuechly']\n",
      "['Luke Kuechly']\n",
      "['139']\n",
      "['anarhiștii']\n",
      "['Jacques Lefevre']\n",
      "['strada Konwiktorska']\n",
      "['eșuat']\n",
      "['Principiul succesiunii faunelor']\n",
      "['ultima declarație']\n",
      "['tentilla']\n",
      "['nu există o cameră pentru revizuiri']\n",
      "['termeni de presiune']\n",
      "['38']\n",
      "['înainte de Primul Război Mondial']\n",
      "['extincția din Cretacic-Paleogen']\n",
      "['Anderson']\n",
      "['Transferul endosimbiotic de gene']\n",
      "['Ducele Kent-Brown']\n",
      "['Cobb, Shepley, Rutan și Coolidge, Holabird & Roche, și alte firme de arhitectură']\n",
      "['cuaternară']\n",
      "['profesionale']\n",
      "['Virginia']\n",
      "['tablou']\n",
      "['diplomă de licență']\n",
      "['între 30 și 50 de mii']\n",
      "['Hulagu Khan']\n",
      "['515 milioane de ani']\n",
      "['Dolby Digital']\n",
      "['regiunea arctică']\n",
      "['Curtea Penală Internațională']\n",
      "['2005']\n",
      "['Suedia']\n",
      "['carcasa turbinei']\n",
      "['discuri statice']\n",
      "['William Smith']\n",
      "['de-a lungul coastei']\n",
      "['de două ori']\n",
      "['Ghazan Han']\n",
      "[', fără a se distruge legitimitatea istorică']\n",
      "['nivelul existent al inegalității']\n",
      "['1970']\n",
      "['erau standarde deschise cu specificații publicate, iar pe lângă DEC s-au dezvoltat mai multe implementări, inclusiv una pentru Linux']\n",
      "['aristocrație']\n",
      "['zece']\n",
      "['mai 2013']\n",
      "['3:08']\n",
      "['27-30%']\n",
      "['facturile Sky TV']\n",
      "['Iisus Interpretul']\n",
      "['Congresului Național Indian naționalist și laic de referință din India']\n",
      "['școlarizare']\n",
      "['9 și 18 ani']\n",
      "['ABC']\n",
      "['Patrulaterele Principale']\n",
      "['1940']\n",
      "['Tang, Song, precum și dinastiile Khitan Liao și Jurchen Jin']\n",
      "['Tang, Song, precum și dinastiile Khitan Liao și Jurchen Jin']\n",
      "['deoarece, în mod arbitrar, se pot include multe exemple cu 1 în orice factorizare']\n",
      "['castele și podgorii']\n",
      "['un client cunoscut']\n",
      "['revizii ale regimului de medicamente']\n",
      "['0,3 până la 0,6 °C']\n",
      "['1835']\n",
      "['Comisia']\n",
      "['Comisia']\n",
      "['Comisia']\n",
      "['1950']\n",
      "['funcționarea unui sistem']\n",
      "['șoseaua Secundară 99']\n",
      "['HIV']\n",
      "['nu se poate scrie drept suma a două noduri netriviale']\n",
      "['prezența unui bărbat']\n",
      "['Andrew Jackson']\n",
      "['Hmong sau Laos']\n",
      "['Asociației Medicale Americane']\n",
      "['Lume și Imagini']\n",
      "['25']\n",
      "['rațional și progresiv']\n",
      "['condamnat drept idolatrie']\n",
      "['oameni']\n",
      "['1.160.000']\n",
      "['CBSE']\n",
      "['The Hay Wain']\n",
      "['Ordin al Conferinței Anuale a Erudiților']\n",
      "['fie judecați de un judecător']\n",
      "['haine de corp cu răcire cu apă']\n",
      "['Rolul principal']\n",
      "['setul de triplete']\n",
      "['unitatea SI pentru densitatea de fluxul magnetic']\n",
      "['șoseaua Secundară 99']\n",
      "['Africii']\n",
      "['Aeroportul Internațional Los Angeles']\n",
      "['înlăturarea fundamentului său economic']\n",
      "['patru']\n",
      "['3,62']\n",
      "['Timucua']\n",
      "['Zona de Vest']\n",
      "['Gandhi']\n",
      "['nouăsprezece']\n",
      "['1985']\n",
      "['Mohandas Gandhi']\n",
      "['NFL']\n",
      "['sindicate']\n",
      "['New Holland']\n",
      "['18%']\n",
      "['creșterea numărului de așezări și a defrișărilor']\n",
      "['autostrăzilor']\n",
      "['organismele']\n",
      "['linia cloroplastelor verzi']\n",
      "['cinci milioane']\n",
      "['Baiju']\n",
      "['inferior']\n",
      "['canalele de bază']\n",
      "['565 °C']\n",
      "['până în al doilea sfert al secolului 19']\n",
      "['Fresno']\n",
      "['poziția sa dominantă la probele de atletism pe distanță medie și lungă']\n",
      "['587.000']\n",
      "['18 mai 1756']\n",
      "['Ogród Saski']\n",
      "['pastori']\n",
      "['1321 și 1323']\n",
      "['cameră de combustie']\n",
      "['51,6%']\n",
      "['1950']\n",
      "['meduză pieptene']\n",
      "['1857']\n",
      "['școlii Harris pentru Studiul Politicilor Publice']\n",
      "['63%']\n",
      "['Brevetele sale']\n",
      "['medicamente citotoxice sau imunosupresive']\n",
      "['John C. Messenger']\n",
      "['Generalul-Maior James Abercrombie']\n",
      "['mijloc de deplasare']\n",
      "['solară']\n",
      "['Galeria T. T. Tsui']\n",
      "['1943']\n",
      "['1979']\n",
      "['1979']\n",
      "['1979']\n",
      "['sfârșitul anilor 1980']\n",
      "['Nafzger']\n",
      "['27 ianuarie 1967']\n",
      "['2000']\n",
      "['separat de cea de medic']\n",
      "['multe dintre genele sale au fost pierdute sau transferate în nucleul gazdei']\n",
      "['Liga Engleză de Fotbal Premier League']\n",
      "['private tradiționale']\n",
      "['două']\n",
      "['autostrăzilor']\n",
      "['Teoria complexității computaționale']\n",
      "['râului St. Johns']\n",
      "['se credea că dezavantajează candidații cu venituri reduse și minoritățile subreprezentate']\n",
      "['legitimitatea unei anumite legi']\n",
      "['Michael E. Mann, Raymond S. Bradley, și Malcolm K. Hughes']\n",
      "['problemelor computaționale']\n",
      "['1237']\n",
      "['Centrul StubHub']\n",
      "['de unificare auto-consistente']\n",
      "['Lothar de Maizière']\n",
      "['25']\n",
      "['comitete']\n",
      "['două']\n",
      "['protest nonviolent']\n",
      "['Fortului Caroline']\n",
      "['ctene']\n",
      "['Polonia Varșovia']\n",
      "['Rinul Mijlociu']\n",
      "['Ministrul Federal de Interne']\n",
      "['Afranji']\n",
      "['calea acțiunii militare']\n",
      "['publicații în limba germană']\n",
      "['iulie 1961']\n",
      "['Fortul Duquesne']\n",
      "['boli autoimune']\n",
      "['An Unearthly Child']\n",
      "['biodiversității']\n",
      "['Imunologia']\n",
      "['specialităților care erau anterior separate']\n",
      "['un pod']\n",
      "['indicatorul motorului cu aburi']\n",
      "['melatoninei']\n",
      "['guru']\n",
      "['recunoașterea']\n",
      "['110 mile/h']\n",
      "['110 mile/h']\n",
      "['118']\n",
      "['de zece ori mai mult decât greutatea proprie']\n",
      "['nenaturală']\n",
      "['Robert Lane și Benjamin Vail']\n",
      "['1817']\n",
      "['puterea deținută de fiecare partid în parlament']\n",
      "['timpurie']\n",
      "['maghiarii']\n",
      "['comprimă cea mai recentă eră']\n",
      "['peste jumătate']\n",
      "['sume conectate a unor noduri prime']\n",
      "['șase']\n",
      "['mesajul/informația originală este reasamblată în ordinea corectă, în funcție de numărul de ordine al pachetului']\n",
      "['Bătălia de la Dalan Balzhut']\n",
      "['2014']\n",
      "['evoluția limbii și literaturii germane']\n",
      "['19,3%']\n",
      "['carbonului conținut în vegetație']\n",
      "['Ciuma din Italia']\n",
      "['limitarea cererii agregate']\n",
      "['nu fie condamnați la închisoare']\n",
      "['peste 18 ani']\n",
      "['1279']\n",
      "['Planet of Giants']\n",
      "['șapte ani']\n",
      "['sute']\n",
      "['tentilla']\n",
      "['£30m']\n",
      "['prin portul Marseille în jurul lunii noiembrie 1347']\n",
      "['monoxidului de carbon']\n",
      "['Tesla Electric Light & Manufacturing']\n",
      "['militantă jihadistă Wahhabi/Salafi extremistă']\n",
      "['Larry Ellison']\n",
      "['plastom']\n",
      "['New South Wales']\n",
      "['instabile politic și social']\n",
      "['Un avocat']\n",
      "['dezghețe']\n",
      "['Expoziției din Londra']\n",
      "['28 februarie 2008']\n",
      "['1,1 × 1011']\n",
      "['până la sfârșitul mandatului actual sau dacă oricare dintre partide se retrăgea din acord înainte de acea dată']\n",
      "['Paleoclimatologii']\n",
      "['BSkyB']\n",
      "['mijlocul secolului 18']\n",
      "['Groenlanda']\n",
      "['5']\n",
      "['conecta două mini computere PDP-11']\n",
      "['1992']\n",
      "['clima']\n",
      "['stratigrafii']\n",
      "['latină']\n",
      "['puterea civilă, militară și de cenzură']\n",
      "['puterea civilă, militară și de cenzură']\n",
      "['120 m']\n",
      "['coerciție limitată']\n",
      "['aerul condiționat']\n",
      "['38']\n",
      "['Charles Richard']\n",
      "['fiecare stat']\n",
      "['11']\n",
      "['Sălii Christ Church']\n",
      "['374']\n",
      "['majoritate de două treimi']\n",
      "['majoritate de două treimi']\n",
      "['majoritate de două treimi']\n",
      "['rezervate']\n",
      "['1773']\n",
      "['24']\n",
      "['24']\n",
      "['Maistru']\n",
      "['șase']\n",
      "['17.786.419']\n",
      "['Dovedirea faptului că oricare dintre aceste clase este inegală']\n",
      "['233']\n",
      "['5,3 %']\n",
      "['cred în validitatea contractului social']\n",
      "['tentacule']\n",
      "['campusul Universității din Chicago']\n",
      "['Legea școlilor din Africa de Sud']\n",
      "['în cadrul Bisericii Anglicane']\n",
      "['Întrucât, în general, nu a supraviețuit îmbrăcămintea de zi cu zi din erele anterioare']\n",
      "['Percy Shelley']\n",
      "['temperaturi mai joase pe glob']\n",
      "['Marlee Matlin']\n",
      "['una dintre cele mai obișnuite']\n",
      "['cerințele privind codul zonal și de construire']\n",
      "['reducerea la jumătate a sărăciei']\n",
      "['ecartamentul standard de 1.435 mm (4 ft 8 1⁄2 in)']\n",
      "['Pictish']\n",
      "['octombrie 2016']\n",
      "['2003']\n",
      "['comportamentale și demografice']\n",
      "['Ferenc Deák']\n",
      "['Gottfried Semper']\n",
      "['poporului Han, Khitan, Jurchen, mongol, și pe budiștii tibetani']\n",
      "['poporului Han, Khitan, Jurchen, mongol, și pe budiștii tibetani']\n",
      "['Economistul']\n",
      "['Y. p. orientalis și Y. p. medievalis']\n",
      "['56,2%']\n",
      "['carbonatul de sodiu și carbonatul de potasiu']\n",
      "['carbonatul de sodiu și carbonatul de potasiu']\n",
      "['Partidul Muncii']\n",
      "['1975']\n",
      "['două']\n",
      "['personal medical calificat']\n",
      "['Pittsburgh Steelers']\n",
      "['Teatrul Wojciech Bogusławski']\n",
      "['cloroplast derivat din algele verzi']\n",
      "['Rin']\n",
      "['Ward']\n",
      "['Isaac Newton']\n",
      "['forțe electromagnetice unificate']\n",
      "['Economistul']\n",
      "['Edinburgh']\n",
      "['Rinul romantic']\n",
      "['crichet, raliu, fotbal, rugby, și box']\n",
      "['Kawann Short']\n",
      "['Kawann Short']\n",
      "['Statele Unite']\n",
      "['Despre libertatea unui creștin']\n",
      "['Miller']\n",
      "['ciuma este posibil să fi intrat în Europa în două valuri']\n",
      "['al Doilea Război Mondial']\n",
      "['Virgin Media']\n",
      "['Ban Ki-moon']\n",
      "['relativitatea generală']\n",
      "['Newton']\n",
      "['consultarea forței de muncă în întreprinderi']\n",
      "['John Wesley']\n",
      "['presupune că nu ar fi egale']\n",
      "['Nesupunerea civilă revoluționară']\n",
      "['Henry David Thoreau']\n",
      "['rareori']\n",
      "['zone vaste']\n",
      "['regenerare']\n",
      "['Mork & Mindy']\n",
      "['firmele care prestează servicii în domeniul construcțiilor (spre exemplu ingineri, arhitecți) și manageri în construcții']\n",
      "['40.000']\n",
      "['islamic']\n",
      "['1944']\n",
      "['imunoglobulinele și receptorii de celule T']\n",
      "['340 de mile']\n",
      "['Lord al Timpului']\n",
      "['24']\n",
      "[', cu scopul de a contribui la dezvoltarea educațională și economică a statului']\n",
      "['1891']\n",
      "['Legea Constituției Victoriene din 1855']\n",
      "['8 februarie 2007']\n",
      "['doar farmaciștii']\n",
      "['1935']\n",
      "['ministerele Guvernului Regatului Unit']\n",
      "['Bătălia de la Jumonville Glen']\n",
      "['Partidul Muncii din Australia (ALP)']\n",
      "['puterii subtile']\n",
      "['LA Galaxy']\n",
      "['Doctor Who – The Ultimate Adventure']\n",
      "['zece ani']\n",
      "['patru']\n",
      "['William E. Simon']\n",
      "['receptori limfocitari variabili']\n",
      "['gradele de privilegii']\n",
      "['Skyclad']\n",
      "['2018']\n",
      "['refuzul de a plăti taxe']\n",
      "['Manned Spacecraft Center (Centrul pentru nave spațiale cu echipaj uman la bord)']\n",
      "['Eurobird-ul Eutelsat 1']\n",
      "['lichidul de lucru']\n",
      "['Hadrian']\n",
      "['Partidul Liberal']\n",
      "['forma parteneriate de afaceri cu medici sau să le dea plăți sub formă de „mită”']\n",
      "['îngrijorare']\n",
      "['23–16']\n",
      "['Curtea de Justiție']\n",
      "['Curtea de Justiție']\n",
      "['lucrarea sa a fost publicată prima']\n",
      "['39']\n",
      "['dificultate']\n",
      "['„business as usual” (BAU) [„tot așa mai departe”]']\n",
      "['un fel de „otrăvire a sângelui']\n",
      "['2015']\n",
      "['mulți bătrâni iau acum numeroase medicamente, însă continuă să locuiască în afara mediilor instituționale']\n",
      "['7 până la 10 procente']\n",
      "['al treilea']\n",
      "['geografie imaginativă']\n",
      "['Hoesung Lee']\n",
      "['10%']\n",
      "['necesară']\n",
      "['17']\n",
      "['Protocolul de la Montreal']\n",
      "1002\n"
     ]
    }
   ],
   "source": [
    "ds_tok_train = ds_train.map(lambda x: process_and_tokenize(dataset=x, tokenizer=tokenizer), batched=True, batch_size=64, remove_columns=ds_train.column_names)\n",
    " \n",
    "print(len(ds_tok_train))"
   ]
  },
  {
   "cell_type": "markdown",
   "metadata": {},
   "source": [
    "## Validation and test datasets"
   ]
  },
  {
   "cell_type": "code",
   "execution_count": 10,
   "metadata": {
    "execution": {
     "iopub.execute_input": "2025-01-05T05:15:57.266564Z",
     "iopub.status.busy": "2025-01-05T05:15:57.266287Z",
     "iopub.status.idle": "2025-01-05T05:15:57.272195Z",
     "shell.execute_reply": "2025-01-05T05:15:57.271309Z",
     "shell.execute_reply.started": "2025-01-05T05:15:57.266538Z"
    },
    "trusted": true
   },
   "outputs": [],
   "source": [
    "def process_and_tokenize_val_test(dataset: Dataset, tokenizer: AutoTokenizer) -> dict:\n",
    "    # Extract from the dataset and standardize where possible\n",
    "    questions = [standardize(q).strip() for q in dataset[\"question\"]]\n",
    "    contexts = [standardize(c) for c in dataset[\"context\"]]\n",
    "    \n",
    "    inputs = tokenizer(\n",
    "        questions,\n",
    "        contexts,\n",
    "        max_length=384,\n",
    "        truncation=\"only_second\",\n",
    "        stride=128,\n",
    "        return_overflowing_tokens=True,\n",
    "        return_offsets_mapping=True,\n",
    "        padding=\"max_length\",\n",
    "    )\n",
    "\n",
    "    sample_mapping = inputs[\"overflow_to_sample_mapping\"]\n",
    "    example_ids = []\n",
    "\n",
    "    for i in range(len(inputs[\"input_ids\"])):\n",
    "        sample_i = sample_mapping[i]\n",
    "        example_ids.append(dataset[\"id\"][sample_i])\n",
    "\n",
    "        seq_ids = inputs.sequence_ids(i)\n",
    "        offset = inputs[\"offset_mapping\"][i]\n",
    "        \n",
    "        for j, ofs in enumerate(offset):\n",
    "            inputs['offset_mapping'][i][j] = ofs if seq_ids[j] == 1 else None\n",
    "\n",
    "    inputs[\"example_id\"] = example_ids\n",
    "    \n",
    "    inputs.pop(\"overflow_to_sample_mapping\")\n",
    "    \n",
    "    return inputs"
   ]
  },
  {
   "cell_type": "code",
   "execution_count": 11,
   "metadata": {
    "execution": {
     "iopub.execute_input": "2025-01-05T05:15:57.273650Z",
     "iopub.status.busy": "2025-01-05T05:15:57.273382Z",
     "iopub.status.idle": "2025-01-05T05:15:57.536540Z",
     "shell.execute_reply": "2025-01-05T05:15:57.535644Z",
     "shell.execute_reply.started": "2025-01-05T05:15:57.273629Z"
    },
    "trusted": true
   },
   "outputs": [
    {
     "data": {
      "application/vnd.jupyter.widget-view+json": {
       "model_id": "89b84806e68245a98ad588d63e571a5b",
       "version_major": 2,
       "version_minor": 0
      },
      "text/plain": [
       "Map:   0%|          | 0/119 [00:00<?, ? examples/s]"
      ]
     },
     "metadata": {},
     "output_type": "display_data"
    },
    {
     "data": {
      "application/vnd.jupyter.widget-view+json": {
       "model_id": "5285233b60e14998ba098d37c544d866",
       "version_major": 2,
       "version_minor": 0
      },
      "text/plain": [
       "Map:   0%|          | 0/119 [00:00<?, ? examples/s]"
      ]
     },
     "metadata": {},
     "output_type": "display_data"
    },
    {
     "name": "stdout",
     "output_type": "stream",
     "text": [
      "123 124\n"
     ]
    }
   ],
   "source": [
    "ds_tok_val = ds_val.map(lambda x: process_and_tokenize_val_test(dataset=x, tokenizer=tokenizer), batched=True, batch_size=64, remove_columns=ds_val.column_names)\n",
    "ds_tok_test = ds_test.map(lambda x: process_and_tokenize_val_test(dataset=x, tokenizer=tokenizer), batched=True, batch_size=64, remove_columns=ds_test.column_names)\n",
    " \n",
    "print(len(ds_tok_val), len(ds_tok_test))"
   ]
  },
  {
   "cell_type": "markdown",
   "metadata": {},
   "source": [
    "# Make metrics"
   ]
  },
  {
   "cell_type": "code",
   "execution_count": 12,
   "metadata": {
    "execution": {
     "iopub.execute_input": "2025-01-05T05:15:57.537794Z",
     "iopub.status.busy": "2025-01-05T05:15:57.537504Z",
     "iopub.status.idle": "2025-01-05T05:16:02.473177Z",
     "shell.execute_reply": "2025-01-05T05:16:02.472224Z",
     "shell.execute_reply.started": "2025-01-05T05:15:57.537770Z"
    },
    "trusted": true
   },
   "outputs": [
    {
     "name": "stdout",
     "output_type": "stream",
     "text": [
      "Collecting rouge_score\n",
      "  Downloading rouge_score-0.1.2.tar.gz (17 kB)\n",
      "  Preparing metadata (setup.py) ... \u001b[?25l\u001b[?25hdone\n",
      "Requirement already satisfied: absl-py in /usr/local/lib/python3.10/dist-packages (from rouge_score) (1.4.0)\n",
      "Requirement already satisfied: nltk in /usr/local/lib/python3.10/dist-packages (from rouge_score) (3.2.4)\n",
      "Requirement already satisfied: numpy in /usr/local/lib/python3.10/dist-packages (from rouge_score) (1.26.4)\n",
      "Requirement already satisfied: six>=1.14.0 in /usr/local/lib/python3.10/dist-packages (from rouge_score) (1.16.0)\n",
      "Building wheels for collected packages: rouge_score\n",
      "  Building wheel for rouge_score (setup.py) ... \u001b[?25l\u001b[?25hdone\n",
      "  Created wheel for rouge_score: filename=rouge_score-0.1.2-py3-none-any.whl size=24935 sha256=0359eb26e5391da8c4627d09437211fb9745ff3991d30bae23c632066e8ed3a1\n",
      "  Stored in directory: /root/.cache/pip/wheels/5f/dd/89/461065a73be61a532ff8599a28e9beef17985c9e9c31e541b4\n",
      "Successfully built rouge_score\n",
      "Installing collected packages: rouge_score\n",
      "Successfully installed rouge_score-0.1.2\n",
      "Note: you may need to restart the kernel to use updated packages.\n"
     ]
    }
   ],
   "source": [
    "%pip install rouge_score"
   ]
  },
  {
   "cell_type": "code",
   "execution_count": 13,
   "metadata": {
    "execution": {
     "iopub.execute_input": "2025-01-05T05:16:02.474626Z",
     "iopub.status.busy": "2025-01-05T05:16:02.474277Z",
     "iopub.status.idle": "2025-01-05T05:16:05.729768Z",
     "shell.execute_reply": "2025-01-05T05:16:05.729039Z",
     "shell.execute_reply.started": "2025-01-05T05:16:02.474600Z"
    },
    "trusted": true
   },
   "outputs": [
    {
     "data": {
      "application/vnd.jupyter.widget-view+json": {
       "model_id": "503ba4fb78ea4275b18f2432ca18902d",
       "version_major": 2,
       "version_minor": 0
      },
      "text/plain": [
       "Downloading builder script:   0%|          | 0.00/4.53k [00:00<?, ?B/s]"
      ]
     },
     "metadata": {},
     "output_type": "display_data"
    },
    {
     "data": {
      "application/vnd.jupyter.widget-view+json": {
       "model_id": "2e275047d9fd4e6d91469481bf120c04",
       "version_major": 2,
       "version_minor": 0
      },
      "text/plain": [
       "Downloading extra modules:   0%|          | 0.00/3.32k [00:00<?, ?B/s]"
      ]
     },
     "metadata": {},
     "output_type": "display_data"
    },
    {
     "data": {
      "application/vnd.jupyter.widget-view+json": {
       "model_id": "40d866ae269941ee875098aa684e45af",
       "version_major": 2,
       "version_minor": 0
      },
      "text/plain": [
       "Downloading builder script:   0%|          | 0.00/5.94k [00:00<?, ?B/s]"
      ]
     },
     "metadata": {},
     "output_type": "display_data"
    },
    {
     "data": {
      "application/vnd.jupyter.widget-view+json": {
       "model_id": "0790317140624e5ebd53f82ee6116443",
       "version_major": 2,
       "version_minor": 0
      },
      "text/plain": [
       "Downloading extra modules:   0%|          | 0.00/1.55k [00:00<?, ?B/s]"
      ]
     },
     "metadata": {},
     "output_type": "display_data"
    },
    {
     "data": {
      "application/vnd.jupyter.widget-view+json": {
       "model_id": "4259aec1db6148f59083037291b6d9cb",
       "version_major": 2,
       "version_minor": 0
      },
      "text/plain": [
       "Downloading extra modules:   0%|          | 0.00/3.34k [00:00<?, ?B/s]"
      ]
     },
     "metadata": {},
     "output_type": "display_data"
    },
    {
     "data": {
      "application/vnd.jupyter.widget-view+json": {
       "model_id": "cf3b675f70ba4364aef21f38252b345a",
       "version_major": 2,
       "version_minor": 0
      },
      "text/plain": [
       "Downloading builder script:   0%|          | 0.00/6.27k [00:00<?, ?B/s]"
      ]
     },
     "metadata": {},
     "output_type": "display_data"
    }
   ],
   "source": [
    "squad_metric = evaluate.load(\"squad\")\n",
    "bleu_metric = evaluate.load(\"bleu\")\n",
    "rouge_metric = evaluate.load(\"rouge\")"
   ]
  },
  {
   "cell_type": "code",
   "execution_count": 14,
   "metadata": {
    "execution": {
     "iopub.execute_input": "2025-01-05T05:16:05.730812Z",
     "iopub.status.busy": "2025-01-05T05:16:05.730590Z",
     "iopub.status.idle": "2025-01-05T05:16:05.740470Z",
     "shell.execute_reply": "2025-01-05T05:16:05.739677Z",
     "shell.execute_reply.started": "2025-01-05T05:16:05.730793Z"
    },
    "trusted": true
   },
   "outputs": [],
   "source": [
    "def compute_metrics(start_logits: list, end_logits: list, tok: dict, dataset: Dataset, max_answer_length: int = 30, eval_answer: SentenceTransformer = SentenceTransformer(\"BlackKakapo/stsb-xlm-r-multilingual-ro\")) -> dict:\n",
    "    extracted_features = {}\n",
    "    \n",
    "    # Group extracted features by ids\n",
    "    for i, feature in enumerate(tok):\n",
    "        if feature[\"example_id\"] not in extracted_features:\n",
    "            extracted_features[feature[\"example_id\"]] = [i]\n",
    "        else:\n",
    "            extracted_features[feature[\"example_id\"]].append(i)\n",
    "    \n",
    "    golds_squad = [{\"id\": data[\"id\"], \"answers\": data[\"answers\"]} for data in dataset]\n",
    "    preds_squad = []\n",
    "    \n",
    "    golds_bleu = []\n",
    "    preds_bleu = []\n",
    "    \n",
    "    for data in tqdm(dataset):\n",
    "        answers = []\n",
    "\n",
    "        # Iterate over all the extracted features\n",
    "        for i in extracted_features[data[\"id\"]]:\n",
    "            start_logit = start_logits[i]\n",
    "            end_logit = end_logits[i]\n",
    "            offs = tok[i][\"offset_mapping\"]\n",
    "\n",
    "            # Get all combinations of start and end positions\n",
    "            for start_i in range(len(start_logit)):\n",
    "                for end_i in range(len(end_logit)):\n",
    "                    # Continue on wrong answers\n",
    "                    if offs[start_i] is None \\\n",
    "                        or offs[end_i] is None \\\n",
    "                        or end_i < start_i \\\n",
    "                        or end_i - start_i + 1 > max_answer_length:\n",
    "                        continue\n",
    "                    \n",
    "                    # Add text and score\n",
    "                    answer = {\n",
    "                        \"answer\": data[\"context\"][offs[start_i][0] : offs[end_i][1]],\n",
    "                        \"score\": start_logit[start_i] + end_logit[end_i]\n",
    "                    }\n",
    "                    answers.append(answer)\n",
    "                    \n",
    "        preds_squad.append(\n",
    "            {\"id\": data['id'], \"prediction_text\": max(answers, key=lambda x: x[\"score\"])['answer']} \n",
    "                if len(answers) > 0 else \n",
    "                {\"id\": data['id'], \"prediction_text\": \"\"}\n",
    "        )\n",
    "        \n",
    "        preds_bleu.append(\n",
    "            max(answers, key=lambda x: x[\"score\"])['answer']\n",
    "                if len(answers) > 0 else \n",
    "                \"\"\n",
    "        )\n",
    "        \n",
    "        max_i = 0\n",
    "        max_len = len(data[\"answers\"][\"text\"][max_i])\n",
    "        for i in range(1, len(data[\"answers\"]['text'])):\n",
    "            if len(data[\"answers\"][\"text\"][i]) > max_len:\n",
    "                max_len = len(data[\"answers\"][\"text\"][i])\n",
    "                max_i = i\n",
    "        \n",
    "        golds_bleu.append(data[\"answers\"]['text'][max_i])\n",
    "        \n",
    "    return {\n",
    "        \"squad\": squad_metric.compute(predictions=preds_squad, references=golds_squad),\n",
    "        \"bleu\": bleu_metric.compute(predictions=preds_bleu, references=golds_bleu),\n",
    "        \"rouge\": rouge_metric.compute(predictions=preds_bleu, references=golds_bleu),\n",
    "        \"semantic_similarity\": util.pytorch_cos_sim(eval_answer.encode(preds_bleu, convert_to_tensor=True), eval_answer.encode(golds_bleu, convert_to_tensor=True)).mean().item() * 100\n",
    "    }"
   ]
  },
  {
   "cell_type": "markdown",
   "metadata": {},
   "source": [
    "# Training, evaluation and testing loop for hyperparameters"
   ]
  },
  {
   "cell_type": "code",
   "execution_count": 15,
   "metadata": {
    "execution": {
     "iopub.execute_input": "2025-01-05T05:16:05.741607Z",
     "iopub.status.busy": "2025-01-05T05:16:05.741274Z",
     "iopub.status.idle": "2025-01-05T05:16:05.764686Z",
     "shell.execute_reply": "2025-01-05T05:16:05.763861Z",
     "shell.execute_reply.started": "2025-01-05T05:16:05.741577Z"
    },
    "trusted": true
   },
   "outputs": [],
   "source": [
    "def output_metrics_to_file(metrics: dict, metric_type: str = None, lr: float = None, epoch: int = None):\n",
    "    filename = os.path.join(\"/kaggle/working/\" if kaggle else \".\", \"results\", f\"{model_short_name}-{dataset_short_name}-type_{metric_type}-lr_{lr}-epoch_{epoch:02}.json\" if lr is not None and epoch is not None and metric_type is not None else f\"{model_short_name}-{dataset_short_name}.json\")\n",
    "    with open(filename, \"w\") as f:\n",
    "        json.dump(metrics, f, indent=4)\n",
    "        \n",
    "def save_model(trainer: Trainer, lr: float, epoch: int):\n",
    "    trainer.save_model(os.path.join(\"/kaggle/working/\" if kaggle else \".\", \"results\", \"models\", f\"{model_short_name}-{dataset_short_name}-{lr}-{epoch}\"))\n",
    "    \n",
    "def load_model(lr: float, epoch: int) -> AutoModelForQuestionAnswering:\n",
    "    return AutoModelForQuestionAnswering.from_pretrained(os.path.join(\"/kaggle/working/\" if kaggle else \".\", \"results\", \"models\", f\"{model_short_name}-{dataset_short_name}-{lr}-{epoch}\"))"
   ]
  },
  {
   "cell_type": "markdown",
   "metadata": {},
   "source": [
    "## Get maximum answer length within 2 standard deviations from the mean of the training dataset"
   ]
  },
  {
   "cell_type": "code",
   "execution_count": 16,
   "metadata": {
    "execution": {
     "iopub.execute_input": "2025-01-05T05:16:05.765619Z",
     "iopub.status.busy": "2025-01-05T05:16:05.765388Z",
     "iopub.status.idle": "2025-01-05T05:16:05.780139Z",
     "shell.execute_reply": "2025-01-05T05:16:05.779319Z",
     "shell.execute_reply.started": "2025-01-05T05:16:05.765600Z"
    },
    "trusted": true
   },
   "outputs": [],
   "source": [
    "# mean_answer_length = np.mean([len(a[\"text\"][0]) for a in ds_train[\"answers\"]])\n",
    "# std_dev_answer_length = np.std([len(a[\"text\"][0]) for a in ds_train[\"answers\"]])\n",
    "\n",
    "# two_std_devs_above = mean_answer_length + 2 * std_dev_answer_length"
   ]
  },
  {
   "cell_type": "code",
   "execution_count": 17,
   "metadata": {
    "execution": {
     "iopub.execute_input": "2025-01-05T05:16:05.781395Z",
     "iopub.status.busy": "2025-01-05T05:16:05.781101Z",
     "iopub.status.idle": "2025-01-05T05:16:05.794555Z",
     "shell.execute_reply": "2025-01-05T05:16:05.793937Z",
     "shell.execute_reply.started": "2025-01-05T05:16:05.781367Z"
    },
    "trusted": true
   },
   "outputs": [],
   "source": [
    "all_models_eval = None\n",
    "\n",
    "def tet_loop(lr_list: list, epochs: int, batch_size: int) -> None:\n",
    "    global all_models_eval\n",
    "    all_models_eval = {\"validation\": {lr:{epoch:[] for epoch in range(1, epochs + 1)} for lr in lr_list}, \"test\": {lr:{epoch:[] for epoch in range(1, epochs + 1)} for lr in lr_list}}\n",
    "    \n",
    "    eval_answer = SentenceTransformer(\"BlackKakapo/stsb-xlm-r-multilingual-ro\")\n",
    "    \n",
    "    for lr in lr_list:\n",
    "        model = AutoModelForQuestionAnswering.from_pretrained(model_name)\n",
    "\n",
    "        warmup_steps = int(len(ds_tok_train) / batch_size * 1 / 10)\n",
    "        args = TrainingArguments(\n",
    "                output_dir=\"./results\",\n",
    "                eval_strategy=\"no\",\n",
    "                save_strategy=\"epoch\",\n",
    "                learning_rate=lr,\n",
    "                num_train_epochs=1,\n",
    "                weight_decay=0.01,\n",
    "                per_device_train_batch_size=batch_size, \n",
    "                report_to=\"none\",\n",
    "                save_total_limit=1,\n",
    "                warmup_steps=warmup_steps\n",
    "            )\n",
    "        trainer = Trainer(\n",
    "            model=model,\n",
    "            args=args,\n",
    "            train_dataset=ds_tok_train,\n",
    "            eval_dataset=ds_tok_val,\n",
    "            tokenizer=tokenizer\n",
    "        )\n",
    "        \n",
    "        for epoch in range(1, epochs + 1):\n",
    "            print(f\"Training with lr={lr} and epoch={epoch}\")\n",
    "            \n",
    "            trainer.train()\n",
    "            \n",
    "            preds = trainer.predict(ds_tok_val)\n",
    "            start_logits, end_logits = preds[0][0], preds[0][1]\n",
    "            computed_metrics = compute_metrics(start_logits, end_logits, ds_tok_val, ds_val, 30, eval_answer)\n",
    "            \n",
    "            # output_metrics_to_file(computed_metrics, metric_type='validation', lr=lr, epoch=epoch)\n",
    "            print(f\"Validation for lr {lr} epoch {epoch}: \")\n",
    "            # print(computed_metrics)\n",
    "            print(computed_metrics['squad'])\n",
    "            print(computed_metrics['semantic_similarity'])\n",
    "            \n",
    "            all_models_eval['validation'][lr][epoch] = computed_metrics\n",
    "            \n",
    "            preds = trainer.predict(ds_tok_test)\n",
    "            start_logits2, end_logits2 = preds[0][0], preds[0][1]\n",
    "            computed_metrics = compute_metrics(start_logits2, end_logits2, ds_tok_test, ds_test, 30, eval_answer)\n",
    "            \n",
    "            \n",
    "            # output_metrics_to_file(computed_metrics, metric_type='test', lr=lr, epoch=epoch)\n",
    "            all_models_eval['test'][lr][epoch] = computed_metrics\n",
    "            \n",
    "\n",
    "            print(f\"Test for lr {lr} epoch {epoch}: \")\n",
    "            print(computed_metrics['squad'])\n",
    "            print(computed_metrics['semantic_similarity'])\n",
    "            \n",
    "            # save_model(trainer, lr, epoch)\n",
    "            \n",
    "        try:\n",
    "            del trainer\n",
    "            del model\n",
    "            # device = cuda.get_current_device()\n",
    "            # device.reset()\n",
    "        except Exception as e:\n",
    "            print(e)\n",
    "            \n",
    "            print(f\"Finished training, validating and testing with lr={lr} and epochs={epochs}\")"
   ]
  },
  {
   "cell_type": "code",
   "execution_count": 18,
   "metadata": {
    "execution": {
     "iopub.execute_input": "2025-01-05T05:16:05.795664Z",
     "iopub.status.busy": "2025-01-05T05:16:05.795375Z",
     "iopub.status.idle": "2025-01-05T06:11:56.446500Z",
     "shell.execute_reply": "2025-01-05T06:11:56.445705Z",
     "shell.execute_reply.started": "2025-01-05T05:16:05.795637Z"
    },
    "trusted": true
   },
   "outputs": [
    {
     "data": {
      "application/vnd.jupyter.widget-view+json": {
       "model_id": "0e2d8139b3064d76bb0734b0db3d8b55",
       "version_major": 2,
       "version_minor": 0
      },
      "text/plain": [
       "model.safetensors:   0%|          | 0.00/328M [00:00<?, ?B/s]"
      ]
     },
     "metadata": {},
     "output_type": "display_data"
    },
    {
     "name": "stderr",
     "output_type": "stream",
     "text": [
      "Some weights of DistilBertForQuestionAnswering were not initialized from the model checkpoint at racai/distilbert-base-romanian-cased and are newly initialized: ['qa_outputs.bias', 'qa_outputs.weight']\n",
      "You should probably TRAIN this model on a down-stream task to be able to use it for predictions and inference.\n"
     ]
    },
    {
     "name": "stdout",
     "output_type": "stream",
     "text": [
      "Training with lr=0.0001 and epoch=1\n"
     ]
    },
    {
     "data": {
      "text/html": [
       "\n",
       "    <div>\n",
       "      \n",
       "      <progress value='63' max='63' style='width:300px; height:20px; vertical-align: middle;'></progress>\n",
       "      [63/63 00:24, Epoch 1/1]\n",
       "    </div>\n",
       "    <table border=\"1\" class=\"dataframe\">\n",
       "  <thead>\n",
       " <tr style=\"text-align: left;\">\n",
       "      <th>Step</th>\n",
       "      <th>Training Loss</th>\n",
       "    </tr>\n",
       "  </thead>\n",
       "  <tbody>\n",
       "  </tbody>\n",
       "</table><p>"
      ],
      "text/plain": [
       "<IPython.core.display.HTML object>"
      ]
     },
     "metadata": {},
     "output_type": "display_data"
    },
    {
     "data": {
      "text/html": [],
      "text/plain": [
       "<IPython.core.display.HTML object>"
      ]
     },
     "metadata": {},
     "output_type": "display_data"
    },
    {
     "data": {
      "application/vnd.jupyter.widget-view+json": {
       "model_id": "c81b63e7246f46679c7aaf18313a4c67",
       "version_major": 2,
       "version_minor": 0
      },
      "text/plain": [
       "  0%|          | 0/119 [00:00<?, ?it/s]"
      ]
     },
     "metadata": {},
     "output_type": "display_data"
    },
    {
     "name": "stdout",
     "output_type": "stream",
     "text": [
      "Validation for lr 0.0001 epoch 1: \n",
      "{'exact_match': 2.5210084033613445, 'f1': 7.741549176195479}\n"
     ]
    },
    {
     "data": {
      "text/html": [],
      "text/plain": [
       "<IPython.core.display.HTML object>"
      ]
     },
     "metadata": {},
     "output_type": "display_data"
    },
    {
     "data": {
      "application/vnd.jupyter.widget-view+json": {
       "model_id": "40e99d084ad04962a28ac11c60382908",
       "version_major": 2,
       "version_minor": 0
      },
      "text/plain": [
       "  0%|          | 0/119 [00:00<?, ?it/s]"
      ]
     },
     "metadata": {},
     "output_type": "display_data"
    },
    {
     "name": "stdout",
     "output_type": "stream",
     "text": [
      "Test for lr 0.0001 epoch 1: \n",
      "{'exact_match': 0.8403361344537815, 'f1': 6.734721870381068}\n",
      "Training with lr=0.0001 and epoch=2\n"
     ]
    },
    {
     "data": {
      "text/html": [
       "\n",
       "    <div>\n",
       "      \n",
       "      <progress value='63' max='63' style='width:300px; height:20px; vertical-align: middle;'></progress>\n",
       "      [63/63 00:25, Epoch 1/1]\n",
       "    </div>\n",
       "    <table border=\"1\" class=\"dataframe\">\n",
       "  <thead>\n",
       " <tr style=\"text-align: left;\">\n",
       "      <th>Step</th>\n",
       "      <th>Training Loss</th>\n",
       "    </tr>\n",
       "  </thead>\n",
       "  <tbody>\n",
       "  </tbody>\n",
       "</table><p>"
      ],
      "text/plain": [
       "<IPython.core.display.HTML object>"
      ]
     },
     "metadata": {},
     "output_type": "display_data"
    },
    {
     "data": {
      "text/html": [],
      "text/plain": [
       "<IPython.core.display.HTML object>"
      ]
     },
     "metadata": {},
     "output_type": "display_data"
    },
    {
     "data": {
      "application/vnd.jupyter.widget-view+json": {
       "model_id": "f81f5e53edf44417a5e1dc31ffab81d5",
       "version_major": 2,
       "version_minor": 0
      },
      "text/plain": [
       "  0%|          | 0/119 [00:00<?, ?it/s]"
      ]
     },
     "metadata": {},
     "output_type": "display_data"
    },
    {
     "name": "stdout",
     "output_type": "stream",
     "text": [
      "Validation for lr 0.0001 epoch 2: \n",
      "{'exact_match': 2.5210084033613445, 'f1': 7.199150864889608}\n"
     ]
    },
    {
     "data": {
      "text/html": [],
      "text/plain": [
       "<IPython.core.display.HTML object>"
      ]
     },
     "metadata": {},
     "output_type": "display_data"
    },
    {
     "data": {
      "application/vnd.jupyter.widget-view+json": {
       "model_id": "3eb83a99c5a5493aa0f5e62edfff02f1",
       "version_major": 2,
       "version_minor": 0
      },
      "text/plain": [
       "  0%|          | 0/119 [00:00<?, ?it/s]"
      ]
     },
     "metadata": {},
     "output_type": "display_data"
    },
    {
     "name": "stdout",
     "output_type": "stream",
     "text": [
      "Test for lr 0.0001 epoch 2: \n",
      "{'exact_match': 3.361344537815126, 'f1': 7.248626695982109}\n",
      "Training with lr=0.0001 and epoch=3\n"
     ]
    },
    {
     "data": {
      "text/html": [
       "\n",
       "    <div>\n",
       "      \n",
       "      <progress value='63' max='63' style='width:300px; height:20px; vertical-align: middle;'></progress>\n",
       "      [63/63 00:25, Epoch 1/1]\n",
       "    </div>\n",
       "    <table border=\"1\" class=\"dataframe\">\n",
       "  <thead>\n",
       " <tr style=\"text-align: left;\">\n",
       "      <th>Step</th>\n",
       "      <th>Training Loss</th>\n",
       "    </tr>\n",
       "  </thead>\n",
       "  <tbody>\n",
       "  </tbody>\n",
       "</table><p>"
      ],
      "text/plain": [
       "<IPython.core.display.HTML object>"
      ]
     },
     "metadata": {},
     "output_type": "display_data"
    },
    {
     "data": {
      "text/html": [],
      "text/plain": [
       "<IPython.core.display.HTML object>"
      ]
     },
     "metadata": {},
     "output_type": "display_data"
    },
    {
     "data": {
      "application/vnd.jupyter.widget-view+json": {
       "model_id": "cf757c4a0fda4cd79cfe2722903f2d91",
       "version_major": 2,
       "version_minor": 0
      },
      "text/plain": [
       "  0%|          | 0/119 [00:00<?, ?it/s]"
      ]
     },
     "metadata": {},
     "output_type": "display_data"
    },
    {
     "name": "stdout",
     "output_type": "stream",
     "text": [
      "Validation for lr 0.0001 epoch 3: \n",
      "{'exact_match': 5.042016806722689, 'f1': 9.430523817052421}\n"
     ]
    },
    {
     "data": {
      "text/html": [],
      "text/plain": [
       "<IPython.core.display.HTML object>"
      ]
     },
     "metadata": {},
     "output_type": "display_data"
    },
    {
     "data": {
      "application/vnd.jupyter.widget-view+json": {
       "model_id": "30e80b6f771242f59b2da30777003843",
       "version_major": 2,
       "version_minor": 0
      },
      "text/plain": [
       "  0%|          | 0/119 [00:00<?, ?it/s]"
      ]
     },
     "metadata": {},
     "output_type": "display_data"
    },
    {
     "name": "stdout",
     "output_type": "stream",
     "text": [
      "Test for lr 0.0001 epoch 3: \n",
      "{'exact_match': 5.882352941176471, 'f1': 10.237265085423239}\n",
      "Training with lr=0.0001 and epoch=4\n"
     ]
    },
    {
     "data": {
      "text/html": [
       "\n",
       "    <div>\n",
       "      \n",
       "      <progress value='63' max='63' style='width:300px; height:20px; vertical-align: middle;'></progress>\n",
       "      [63/63 00:25, Epoch 1/1]\n",
       "    </div>\n",
       "    <table border=\"1\" class=\"dataframe\">\n",
       "  <thead>\n",
       " <tr style=\"text-align: left;\">\n",
       "      <th>Step</th>\n",
       "      <th>Training Loss</th>\n",
       "    </tr>\n",
       "  </thead>\n",
       "  <tbody>\n",
       "  </tbody>\n",
       "</table><p>"
      ],
      "text/plain": [
       "<IPython.core.display.HTML object>"
      ]
     },
     "metadata": {},
     "output_type": "display_data"
    },
    {
     "data": {
      "text/html": [],
      "text/plain": [
       "<IPython.core.display.HTML object>"
      ]
     },
     "metadata": {},
     "output_type": "display_data"
    },
    {
     "data": {
      "application/vnd.jupyter.widget-view+json": {
       "model_id": "c06fe5ebc342471b8f3c18bae27aa923",
       "version_major": 2,
       "version_minor": 0
      },
      "text/plain": [
       "  0%|          | 0/119 [00:00<?, ?it/s]"
      ]
     },
     "metadata": {},
     "output_type": "display_data"
    },
    {
     "name": "stdout",
     "output_type": "stream",
     "text": [
      "Validation for lr 0.0001 epoch 4: \n",
      "{'exact_match': 1.680672268907563, 'f1': 7.933644878306442}\n"
     ]
    },
    {
     "data": {
      "text/html": [],
      "text/plain": [
       "<IPython.core.display.HTML object>"
      ]
     },
     "metadata": {},
     "output_type": "display_data"
    },
    {
     "data": {
      "application/vnd.jupyter.widget-view+json": {
       "model_id": "bce4e5cde61548b5a2c49a13d1c30a05",
       "version_major": 2,
       "version_minor": 0
      },
      "text/plain": [
       "  0%|          | 0/119 [00:00<?, ?it/s]"
      ]
     },
     "metadata": {},
     "output_type": "display_data"
    },
    {
     "name": "stdout",
     "output_type": "stream",
     "text": [
      "Test for lr 0.0001 epoch 4: \n",
      "{'exact_match': 9.243697478991596, 'f1': 16.99727571032111}\n",
      "Training with lr=0.0001 and epoch=5\n"
     ]
    },
    {
     "data": {
      "text/html": [
       "\n",
       "    <div>\n",
       "      \n",
       "      <progress value='63' max='63' style='width:300px; height:20px; vertical-align: middle;'></progress>\n",
       "      [63/63 00:25, Epoch 1/1]\n",
       "    </div>\n",
       "    <table border=\"1\" class=\"dataframe\">\n",
       "  <thead>\n",
       " <tr style=\"text-align: left;\">\n",
       "      <th>Step</th>\n",
       "      <th>Training Loss</th>\n",
       "    </tr>\n",
       "  </thead>\n",
       "  <tbody>\n",
       "  </tbody>\n",
       "</table><p>"
      ],
      "text/plain": [
       "<IPython.core.display.HTML object>"
      ]
     },
     "metadata": {},
     "output_type": "display_data"
    },
    {
     "data": {
      "text/html": [],
      "text/plain": [
       "<IPython.core.display.HTML object>"
      ]
     },
     "metadata": {},
     "output_type": "display_data"
    },
    {
     "data": {
      "application/vnd.jupyter.widget-view+json": {
       "model_id": "ae9dcae385784e81992487121ade395a",
       "version_major": 2,
       "version_minor": 0
      },
      "text/plain": [
       "  0%|          | 0/119 [00:00<?, ?it/s]"
      ]
     },
     "metadata": {},
     "output_type": "display_data"
    },
    {
     "name": "stdout",
     "output_type": "stream",
     "text": [
      "Validation for lr 0.0001 epoch 5: \n",
      "{'exact_match': 7.563025210084033, 'f1': 13.55210345701279}\n"
     ]
    },
    {
     "data": {
      "text/html": [],
      "text/plain": [
       "<IPython.core.display.HTML object>"
      ]
     },
     "metadata": {},
     "output_type": "display_data"
    },
    {
     "data": {
      "application/vnd.jupyter.widget-view+json": {
       "model_id": "136c45b5b2004953b9cd8d36e881a892",
       "version_major": 2,
       "version_minor": 0
      },
      "text/plain": [
       "  0%|          | 0/119 [00:00<?, ?it/s]"
      ]
     },
     "metadata": {},
     "output_type": "display_data"
    },
    {
     "name": "stdout",
     "output_type": "stream",
     "text": [
      "Test for lr 0.0001 epoch 5: \n",
      "{'exact_match': 7.563025210084033, 'f1': 16.061034130387313}\n",
      "Training with lr=0.0001 and epoch=6\n"
     ]
    },
    {
     "data": {
      "text/html": [
       "\n",
       "    <div>\n",
       "      \n",
       "      <progress value='63' max='63' style='width:300px; height:20px; vertical-align: middle;'></progress>\n",
       "      [63/63 00:25, Epoch 1/1]\n",
       "    </div>\n",
       "    <table border=\"1\" class=\"dataframe\">\n",
       "  <thead>\n",
       " <tr style=\"text-align: left;\">\n",
       "      <th>Step</th>\n",
       "      <th>Training Loss</th>\n",
       "    </tr>\n",
       "  </thead>\n",
       "  <tbody>\n",
       "  </tbody>\n",
       "</table><p>"
      ],
      "text/plain": [
       "<IPython.core.display.HTML object>"
      ]
     },
     "metadata": {},
     "output_type": "display_data"
    },
    {
     "data": {
      "text/html": [],
      "text/plain": [
       "<IPython.core.display.HTML object>"
      ]
     },
     "metadata": {},
     "output_type": "display_data"
    },
    {
     "data": {
      "application/vnd.jupyter.widget-view+json": {
       "model_id": "4f83aac00cc1422c9765b93af7dabd11",
       "version_major": 2,
       "version_minor": 0
      },
      "text/plain": [
       "  0%|          | 0/119 [00:00<?, ?it/s]"
      ]
     },
     "metadata": {},
     "output_type": "display_data"
    },
    {
     "name": "stdout",
     "output_type": "stream",
     "text": [
      "Validation for lr 0.0001 epoch 6: \n",
      "{'exact_match': 9.243697478991596, 'f1': 14.853772325100904}\n"
     ]
    },
    {
     "data": {
      "text/html": [],
      "text/plain": [
       "<IPython.core.display.HTML object>"
      ]
     },
     "metadata": {},
     "output_type": "display_data"
    },
    {
     "data": {
      "application/vnd.jupyter.widget-view+json": {
       "model_id": "519d052765854f7d96eb0fb754f9becf",
       "version_major": 2,
       "version_minor": 0
      },
      "text/plain": [
       "  0%|          | 0/119 [00:00<?, ?it/s]"
      ]
     },
     "metadata": {},
     "output_type": "display_data"
    },
    {
     "name": "stdout",
     "output_type": "stream",
     "text": [
      "Test for lr 0.0001 epoch 6: \n",
      "{'exact_match': 13.445378151260504, 'f1': 18.955986494900824}\n",
      "Training with lr=0.0001 and epoch=7\n"
     ]
    },
    {
     "data": {
      "text/html": [
       "\n",
       "    <div>\n",
       "      \n",
       "      <progress value='63' max='63' style='width:300px; height:20px; vertical-align: middle;'></progress>\n",
       "      [63/63 00:25, Epoch 1/1]\n",
       "    </div>\n",
       "    <table border=\"1\" class=\"dataframe\">\n",
       "  <thead>\n",
       " <tr style=\"text-align: left;\">\n",
       "      <th>Step</th>\n",
       "      <th>Training Loss</th>\n",
       "    </tr>\n",
       "  </thead>\n",
       "  <tbody>\n",
       "  </tbody>\n",
       "</table><p>"
      ],
      "text/plain": [
       "<IPython.core.display.HTML object>"
      ]
     },
     "metadata": {},
     "output_type": "display_data"
    },
    {
     "data": {
      "text/html": [],
      "text/plain": [
       "<IPython.core.display.HTML object>"
      ]
     },
     "metadata": {},
     "output_type": "display_data"
    },
    {
     "data": {
      "application/vnd.jupyter.widget-view+json": {
       "model_id": "6ecd57df404643129d6a212356bc1be9",
       "version_major": 2,
       "version_minor": 0
      },
      "text/plain": [
       "  0%|          | 0/119 [00:00<?, ?it/s]"
      ]
     },
     "metadata": {},
     "output_type": "display_data"
    },
    {
     "name": "stdout",
     "output_type": "stream",
     "text": [
      "Validation for lr 0.0001 epoch 7: \n",
      "{'exact_match': 10.92436974789916, 'f1': 18.45823580108141}\n"
     ]
    },
    {
     "data": {
      "text/html": [],
      "text/plain": [
       "<IPython.core.display.HTML object>"
      ]
     },
     "metadata": {},
     "output_type": "display_data"
    },
    {
     "data": {
      "application/vnd.jupyter.widget-view+json": {
       "model_id": "651dcb911c774951b7d1eeb0195e6ad4",
       "version_major": 2,
       "version_minor": 0
      },
      "text/plain": [
       "  0%|          | 0/119 [00:00<?, ?it/s]"
      ]
     },
     "metadata": {},
     "output_type": "display_data"
    },
    {
     "name": "stdout",
     "output_type": "stream",
     "text": [
      "Test for lr 0.0001 epoch 7: \n",
      "{'exact_match': 10.92436974789916, 'f1': 16.94155943118955}\n",
      "Training with lr=0.0001 and epoch=8\n"
     ]
    },
    {
     "data": {
      "text/html": [
       "\n",
       "    <div>\n",
       "      \n",
       "      <progress value='63' max='63' style='width:300px; height:20px; vertical-align: middle;'></progress>\n",
       "      [63/63 00:25, Epoch 1/1]\n",
       "    </div>\n",
       "    <table border=\"1\" class=\"dataframe\">\n",
       "  <thead>\n",
       " <tr style=\"text-align: left;\">\n",
       "      <th>Step</th>\n",
       "      <th>Training Loss</th>\n",
       "    </tr>\n",
       "  </thead>\n",
       "  <tbody>\n",
       "  </tbody>\n",
       "</table><p>"
      ],
      "text/plain": [
       "<IPython.core.display.HTML object>"
      ]
     },
     "metadata": {},
     "output_type": "display_data"
    },
    {
     "data": {
      "text/html": [],
      "text/plain": [
       "<IPython.core.display.HTML object>"
      ]
     },
     "metadata": {},
     "output_type": "display_data"
    },
    {
     "data": {
      "application/vnd.jupyter.widget-view+json": {
       "model_id": "5d693e96422e419ca3d115b191e2d826",
       "version_major": 2,
       "version_minor": 0
      },
      "text/plain": [
       "  0%|          | 0/119 [00:00<?, ?it/s]"
      ]
     },
     "metadata": {},
     "output_type": "display_data"
    },
    {
     "name": "stdout",
     "output_type": "stream",
     "text": [
      "Validation for lr 0.0001 epoch 8: \n",
      "{'exact_match': 13.445378151260504, 'f1': 19.497617351443093}\n"
     ]
    },
    {
     "data": {
      "text/html": [],
      "text/plain": [
       "<IPython.core.display.HTML object>"
      ]
     },
     "metadata": {},
     "output_type": "display_data"
    },
    {
     "data": {
      "application/vnd.jupyter.widget-view+json": {
       "model_id": "61305d84a1194a40beb7c094084cd6b8",
       "version_major": 2,
       "version_minor": 0
      },
      "text/plain": [
       "  0%|          | 0/119 [00:00<?, ?it/s]"
      ]
     },
     "metadata": {},
     "output_type": "display_data"
    },
    {
     "name": "stdout",
     "output_type": "stream",
     "text": [
      "Test for lr 0.0001 epoch 8: \n",
      "{'exact_match': 10.084033613445378, 'f1': 14.858686909107078}\n",
      "Training with lr=0.0001 and epoch=9\n"
     ]
    },
    {
     "data": {
      "text/html": [
       "\n",
       "    <div>\n",
       "      \n",
       "      <progress value='63' max='63' style='width:300px; height:20px; vertical-align: middle;'></progress>\n",
       "      [63/63 00:25, Epoch 1/1]\n",
       "    </div>\n",
       "    <table border=\"1\" class=\"dataframe\">\n",
       "  <thead>\n",
       " <tr style=\"text-align: left;\">\n",
       "      <th>Step</th>\n",
       "      <th>Training Loss</th>\n",
       "    </tr>\n",
       "  </thead>\n",
       "  <tbody>\n",
       "  </tbody>\n",
       "</table><p>"
      ],
      "text/plain": [
       "<IPython.core.display.HTML object>"
      ]
     },
     "metadata": {},
     "output_type": "display_data"
    },
    {
     "data": {
      "text/html": [],
      "text/plain": [
       "<IPython.core.display.HTML object>"
      ]
     },
     "metadata": {},
     "output_type": "display_data"
    },
    {
     "data": {
      "application/vnd.jupyter.widget-view+json": {
       "model_id": "ed58bfe91b68456797b8e0f52342e8d1",
       "version_major": 2,
       "version_minor": 0
      },
      "text/plain": [
       "  0%|          | 0/119 [00:00<?, ?it/s]"
      ]
     },
     "metadata": {},
     "output_type": "display_data"
    },
    {
     "name": "stdout",
     "output_type": "stream",
     "text": [
      "Validation for lr 0.0001 epoch 9: \n",
      "{'exact_match': 10.92436974789916, 'f1': 18.21868047340899}\n"
     ]
    },
    {
     "data": {
      "text/html": [],
      "text/plain": [
       "<IPython.core.display.HTML object>"
      ]
     },
     "metadata": {},
     "output_type": "display_data"
    },
    {
     "data": {
      "application/vnd.jupyter.widget-view+json": {
       "model_id": "87b5709a801b4126ace71ca8c01dab2a",
       "version_major": 2,
       "version_minor": 0
      },
      "text/plain": [
       "  0%|          | 0/119 [00:00<?, ?it/s]"
      ]
     },
     "metadata": {},
     "output_type": "display_data"
    },
    {
     "name": "stdout",
     "output_type": "stream",
     "text": [
      "Test for lr 0.0001 epoch 9: \n",
      "{'exact_match': 9.243697478991596, 'f1': 16.259099156109624}\n",
      "Training with lr=0.0001 and epoch=10\n"
     ]
    },
    {
     "data": {
      "text/html": [
       "\n",
       "    <div>\n",
       "      \n",
       "      <progress value='63' max='63' style='width:300px; height:20px; vertical-align: middle;'></progress>\n",
       "      [63/63 00:25, Epoch 1/1]\n",
       "    </div>\n",
       "    <table border=\"1\" class=\"dataframe\">\n",
       "  <thead>\n",
       " <tr style=\"text-align: left;\">\n",
       "      <th>Step</th>\n",
       "      <th>Training Loss</th>\n",
       "    </tr>\n",
       "  </thead>\n",
       "  <tbody>\n",
       "  </tbody>\n",
       "</table><p>"
      ],
      "text/plain": [
       "<IPython.core.display.HTML object>"
      ]
     },
     "metadata": {},
     "output_type": "display_data"
    },
    {
     "data": {
      "text/html": [],
      "text/plain": [
       "<IPython.core.display.HTML object>"
      ]
     },
     "metadata": {},
     "output_type": "display_data"
    },
    {
     "data": {
      "application/vnd.jupyter.widget-view+json": {
       "model_id": "33b946e7b6d34527ab4bdab4f3aee3b3",
       "version_major": 2,
       "version_minor": 0
      },
      "text/plain": [
       "  0%|          | 0/119 [00:00<?, ?it/s]"
      ]
     },
     "metadata": {},
     "output_type": "display_data"
    },
    {
     "name": "stdout",
     "output_type": "stream",
     "text": [
      "Validation for lr 0.0001 epoch 10: \n",
      "{'exact_match': 10.084033613445378, 'f1': 17.227813538399698}\n"
     ]
    },
    {
     "data": {
      "text/html": [],
      "text/plain": [
       "<IPython.core.display.HTML object>"
      ]
     },
     "metadata": {},
     "output_type": "display_data"
    },
    {
     "data": {
      "application/vnd.jupyter.widget-view+json": {
       "model_id": "d9490dc35e534e8887807ba938cd2286",
       "version_major": 2,
       "version_minor": 0
      },
      "text/plain": [
       "  0%|          | 0/119 [00:00<?, ?it/s]"
      ]
     },
     "metadata": {},
     "output_type": "display_data"
    },
    {
     "name": "stdout",
     "output_type": "stream",
     "text": [
      "Test for lr 0.0001 epoch 10: \n",
      "{'exact_match': 10.084033613445378, 'f1': 16.76035491688095}\n",
      "Training with lr=0.0001 and epoch=11\n"
     ]
    },
    {
     "data": {
      "text/html": [
       "\n",
       "    <div>\n",
       "      \n",
       "      <progress value='63' max='63' style='width:300px; height:20px; vertical-align: middle;'></progress>\n",
       "      [63/63 00:25, Epoch 1/1]\n",
       "    </div>\n",
       "    <table border=\"1\" class=\"dataframe\">\n",
       "  <thead>\n",
       " <tr style=\"text-align: left;\">\n",
       "      <th>Step</th>\n",
       "      <th>Training Loss</th>\n",
       "    </tr>\n",
       "  </thead>\n",
       "  <tbody>\n",
       "  </tbody>\n",
       "</table><p>"
      ],
      "text/plain": [
       "<IPython.core.display.HTML object>"
      ]
     },
     "metadata": {},
     "output_type": "display_data"
    },
    {
     "data": {
      "text/html": [],
      "text/plain": [
       "<IPython.core.display.HTML object>"
      ]
     },
     "metadata": {},
     "output_type": "display_data"
    },
    {
     "data": {
      "application/vnd.jupyter.widget-view+json": {
       "model_id": "94e24ae7d3e84e83a9e06cf09c7a6ec9",
       "version_major": 2,
       "version_minor": 0
      },
      "text/plain": [
       "  0%|          | 0/119 [00:00<?, ?it/s]"
      ]
     },
     "metadata": {},
     "output_type": "display_data"
    },
    {
     "name": "stdout",
     "output_type": "stream",
     "text": [
      "Validation for lr 0.0001 epoch 11: \n",
      "{'exact_match': 10.92436974789916, 'f1': 16.366888063040207}\n"
     ]
    },
    {
     "data": {
      "text/html": [],
      "text/plain": [
       "<IPython.core.display.HTML object>"
      ]
     },
     "metadata": {},
     "output_type": "display_data"
    },
    {
     "data": {
      "application/vnd.jupyter.widget-view+json": {
       "model_id": "ac2b721066c7474a9932acaf00556375",
       "version_major": 2,
       "version_minor": 0
      },
      "text/plain": [
       "  0%|          | 0/119 [00:00<?, ?it/s]"
      ]
     },
     "metadata": {},
     "output_type": "display_data"
    },
    {
     "name": "stdout",
     "output_type": "stream",
     "text": [
      "Test for lr 0.0001 epoch 11: \n",
      "{'exact_match': 11.764705882352942, 'f1': 17.57972470033765}\n",
      "Training with lr=0.0001 and epoch=12\n"
     ]
    },
    {
     "data": {
      "text/html": [
       "\n",
       "    <div>\n",
       "      \n",
       "      <progress value='63' max='63' style='width:300px; height:20px; vertical-align: middle;'></progress>\n",
       "      [63/63 00:25, Epoch 1/1]\n",
       "    </div>\n",
       "    <table border=\"1\" class=\"dataframe\">\n",
       "  <thead>\n",
       " <tr style=\"text-align: left;\">\n",
       "      <th>Step</th>\n",
       "      <th>Training Loss</th>\n",
       "    </tr>\n",
       "  </thead>\n",
       "  <tbody>\n",
       "  </tbody>\n",
       "</table><p>"
      ],
      "text/plain": [
       "<IPython.core.display.HTML object>"
      ]
     },
     "metadata": {},
     "output_type": "display_data"
    },
    {
     "data": {
      "text/html": [],
      "text/plain": [
       "<IPython.core.display.HTML object>"
      ]
     },
     "metadata": {},
     "output_type": "display_data"
    },
    {
     "data": {
      "application/vnd.jupyter.widget-view+json": {
       "model_id": "51822e2fa86448278a4ff4542dc6ddf6",
       "version_major": 2,
       "version_minor": 0
      },
      "text/plain": [
       "  0%|          | 0/119 [00:00<?, ?it/s]"
      ]
     },
     "metadata": {},
     "output_type": "display_data"
    },
    {
     "name": "stdout",
     "output_type": "stream",
     "text": [
      "Validation for lr 0.0001 epoch 12: \n",
      "{'exact_match': 10.084033613445378, 'f1': 16.335790062342603}\n"
     ]
    },
    {
     "data": {
      "text/html": [],
      "text/plain": [
       "<IPython.core.display.HTML object>"
      ]
     },
     "metadata": {},
     "output_type": "display_data"
    },
    {
     "data": {
      "application/vnd.jupyter.widget-view+json": {
       "model_id": "0c4b81980bb04c2db38c4cf4bd25b23e",
       "version_major": 2,
       "version_minor": 0
      },
      "text/plain": [
       "  0%|          | 0/119 [00:00<?, ?it/s]"
      ]
     },
     "metadata": {},
     "output_type": "display_data"
    },
    {
     "name": "stdout",
     "output_type": "stream",
     "text": [
      "Test for lr 0.0001 epoch 12: \n",
      "{'exact_match': 10.084033613445378, 'f1': 15.998846735116476}\n",
      "Training with lr=0.0001 and epoch=13\n"
     ]
    },
    {
     "data": {
      "text/html": [
       "\n",
       "    <div>\n",
       "      \n",
       "      <progress value='63' max='63' style='width:300px; height:20px; vertical-align: middle;'></progress>\n",
       "      [63/63 00:25, Epoch 1/1]\n",
       "    </div>\n",
       "    <table border=\"1\" class=\"dataframe\">\n",
       "  <thead>\n",
       " <tr style=\"text-align: left;\">\n",
       "      <th>Step</th>\n",
       "      <th>Training Loss</th>\n",
       "    </tr>\n",
       "  </thead>\n",
       "  <tbody>\n",
       "  </tbody>\n",
       "</table><p>"
      ],
      "text/plain": [
       "<IPython.core.display.HTML object>"
      ]
     },
     "metadata": {},
     "output_type": "display_data"
    },
    {
     "data": {
      "text/html": [],
      "text/plain": [
       "<IPython.core.display.HTML object>"
      ]
     },
     "metadata": {},
     "output_type": "display_data"
    },
    {
     "data": {
      "application/vnd.jupyter.widget-view+json": {
       "model_id": "2d28df7e0d4c44e6b216c1ec30eb5791",
       "version_major": 2,
       "version_minor": 0
      },
      "text/plain": [
       "  0%|          | 0/119 [00:00<?, ?it/s]"
      ]
     },
     "metadata": {},
     "output_type": "display_data"
    },
    {
     "name": "stdout",
     "output_type": "stream",
     "text": [
      "Validation for lr 0.0001 epoch 13: \n",
      "{'exact_match': 8.403361344537815, 'f1': 14.585175377966177}\n"
     ]
    },
    {
     "data": {
      "text/html": [],
      "text/plain": [
       "<IPython.core.display.HTML object>"
      ]
     },
     "metadata": {},
     "output_type": "display_data"
    },
    {
     "data": {
      "application/vnd.jupyter.widget-view+json": {
       "model_id": "36d777e87ce547f499cfd8b40d70d256",
       "version_major": 2,
       "version_minor": 0
      },
      "text/plain": [
       "  0%|          | 0/119 [00:00<?, ?it/s]"
      ]
     },
     "metadata": {},
     "output_type": "display_data"
    },
    {
     "name": "stdout",
     "output_type": "stream",
     "text": [
      "Test for lr 0.0001 epoch 13: \n",
      "{'exact_match': 10.92436974789916, 'f1': 15.63867555340615}\n",
      "Training with lr=0.0001 and epoch=14\n"
     ]
    },
    {
     "data": {
      "text/html": [
       "\n",
       "    <div>\n",
       "      \n",
       "      <progress value='63' max='63' style='width:300px; height:20px; vertical-align: middle;'></progress>\n",
       "      [63/63 00:24, Epoch 1/1]\n",
       "    </div>\n",
       "    <table border=\"1\" class=\"dataframe\">\n",
       "  <thead>\n",
       " <tr style=\"text-align: left;\">\n",
       "      <th>Step</th>\n",
       "      <th>Training Loss</th>\n",
       "    </tr>\n",
       "  </thead>\n",
       "  <tbody>\n",
       "  </tbody>\n",
       "</table><p>"
      ],
      "text/plain": [
       "<IPython.core.display.HTML object>"
      ]
     },
     "metadata": {},
     "output_type": "display_data"
    },
    {
     "data": {
      "text/html": [],
      "text/plain": [
       "<IPython.core.display.HTML object>"
      ]
     },
     "metadata": {},
     "output_type": "display_data"
    },
    {
     "data": {
      "application/vnd.jupyter.widget-view+json": {
       "model_id": "f025787570bf4cbe8d6ae4859500d251",
       "version_major": 2,
       "version_minor": 0
      },
      "text/plain": [
       "  0%|          | 0/119 [00:00<?, ?it/s]"
      ]
     },
     "metadata": {},
     "output_type": "display_data"
    },
    {
     "name": "stdout",
     "output_type": "stream",
     "text": [
      "Validation for lr 0.0001 epoch 14: \n",
      "{'exact_match': 10.084033613445378, 'f1': 16.948338111865443}\n"
     ]
    },
    {
     "data": {
      "text/html": [],
      "text/plain": [
       "<IPython.core.display.HTML object>"
      ]
     },
     "metadata": {},
     "output_type": "display_data"
    },
    {
     "data": {
      "application/vnd.jupyter.widget-view+json": {
       "model_id": "54b3c6e865d842c0890059144b373894",
       "version_major": 2,
       "version_minor": 0
      },
      "text/plain": [
       "  0%|          | 0/119 [00:00<?, ?it/s]"
      ]
     },
     "metadata": {},
     "output_type": "display_data"
    },
    {
     "name": "stdout",
     "output_type": "stream",
     "text": [
      "Test for lr 0.0001 epoch 14: \n",
      "{'exact_match': 10.92436974789916, 'f1': 16.983152738219474}\n",
      "Training with lr=0.0001 and epoch=15\n"
     ]
    },
    {
     "data": {
      "text/html": [
       "\n",
       "    <div>\n",
       "      \n",
       "      <progress value='63' max='63' style='width:300px; height:20px; vertical-align: middle;'></progress>\n",
       "      [63/63 00:25, Epoch 1/1]\n",
       "    </div>\n",
       "    <table border=\"1\" class=\"dataframe\">\n",
       "  <thead>\n",
       " <tr style=\"text-align: left;\">\n",
       "      <th>Step</th>\n",
       "      <th>Training Loss</th>\n",
       "    </tr>\n",
       "  </thead>\n",
       "  <tbody>\n",
       "  </tbody>\n",
       "</table><p>"
      ],
      "text/plain": [
       "<IPython.core.display.HTML object>"
      ]
     },
     "metadata": {},
     "output_type": "display_data"
    },
    {
     "data": {
      "text/html": [],
      "text/plain": [
       "<IPython.core.display.HTML object>"
      ]
     },
     "metadata": {},
     "output_type": "display_data"
    },
    {
     "data": {
      "application/vnd.jupyter.widget-view+json": {
       "model_id": "c5e7e604bdc84c69a466bf14887612d4",
       "version_major": 2,
       "version_minor": 0
      },
      "text/plain": [
       "  0%|          | 0/119 [00:00<?, ?it/s]"
      ]
     },
     "metadata": {},
     "output_type": "display_data"
    },
    {
     "name": "stdout",
     "output_type": "stream",
     "text": [
      "Validation for lr 0.0001 epoch 15: \n",
      "{'exact_match': 9.243697478991596, 'f1': 15.932257038287688}\n"
     ]
    },
    {
     "data": {
      "text/html": [],
      "text/plain": [
       "<IPython.core.display.HTML object>"
      ]
     },
     "metadata": {},
     "output_type": "display_data"
    },
    {
     "data": {
      "application/vnd.jupyter.widget-view+json": {
       "model_id": "61b6b984a5c844c88ac72911b94f3300",
       "version_major": 2,
       "version_minor": 0
      },
      "text/plain": [
       "  0%|          | 0/119 [00:00<?, ?it/s]"
      ]
     },
     "metadata": {},
     "output_type": "display_data"
    },
    {
     "name": "stdout",
     "output_type": "stream",
     "text": [
      "Test for lr 0.0001 epoch 15: \n",
      "{'exact_match': 12.605042016806722, 'f1': 19.15373111449752}\n",
      "Training with lr=0.0001 and epoch=16\n"
     ]
    },
    {
     "data": {
      "text/html": [
       "\n",
       "    <div>\n",
       "      \n",
       "      <progress value='63' max='63' style='width:300px; height:20px; vertical-align: middle;'></progress>\n",
       "      [63/63 00:24, Epoch 1/1]\n",
       "    </div>\n",
       "    <table border=\"1\" class=\"dataframe\">\n",
       "  <thead>\n",
       " <tr style=\"text-align: left;\">\n",
       "      <th>Step</th>\n",
       "      <th>Training Loss</th>\n",
       "    </tr>\n",
       "  </thead>\n",
       "  <tbody>\n",
       "  </tbody>\n",
       "</table><p>"
      ],
      "text/plain": [
       "<IPython.core.display.HTML object>"
      ]
     },
     "metadata": {},
     "output_type": "display_data"
    },
    {
     "data": {
      "text/html": [],
      "text/plain": [
       "<IPython.core.display.HTML object>"
      ]
     },
     "metadata": {},
     "output_type": "display_data"
    },
    {
     "data": {
      "application/vnd.jupyter.widget-view+json": {
       "model_id": "85a87c075ca9462bb1687b6e445bf087",
       "version_major": 2,
       "version_minor": 0
      },
      "text/plain": [
       "  0%|          | 0/119 [00:00<?, ?it/s]"
      ]
     },
     "metadata": {},
     "output_type": "display_data"
    },
    {
     "name": "stdout",
     "output_type": "stream",
     "text": [
      "Validation for lr 0.0001 epoch 16: \n",
      "{'exact_match': 11.764705882352942, 'f1': 17.784005712238926}\n"
     ]
    },
    {
     "data": {
      "text/html": [],
      "text/plain": [
       "<IPython.core.display.HTML object>"
      ]
     },
     "metadata": {},
     "output_type": "display_data"
    },
    {
     "data": {
      "application/vnd.jupyter.widget-view+json": {
       "model_id": "bc77e2f6b5354199b99f8832a2882910",
       "version_major": 2,
       "version_minor": 0
      },
      "text/plain": [
       "  0%|          | 0/119 [00:00<?, ?it/s]"
      ]
     },
     "metadata": {},
     "output_type": "display_data"
    },
    {
     "name": "stdout",
     "output_type": "stream",
     "text": [
      "Test for lr 0.0001 epoch 16: \n",
      "{'exact_match': 10.92436974789916, 'f1': 17.115503542767073}\n",
      "Training with lr=0.0001 and epoch=17\n"
     ]
    },
    {
     "data": {
      "text/html": [
       "\n",
       "    <div>\n",
       "      \n",
       "      <progress value='63' max='63' style='width:300px; height:20px; vertical-align: middle;'></progress>\n",
       "      [63/63 00:25, Epoch 1/1]\n",
       "    </div>\n",
       "    <table border=\"1\" class=\"dataframe\">\n",
       "  <thead>\n",
       " <tr style=\"text-align: left;\">\n",
       "      <th>Step</th>\n",
       "      <th>Training Loss</th>\n",
       "    </tr>\n",
       "  </thead>\n",
       "  <tbody>\n",
       "  </tbody>\n",
       "</table><p>"
      ],
      "text/plain": [
       "<IPython.core.display.HTML object>"
      ]
     },
     "metadata": {},
     "output_type": "display_data"
    },
    {
     "data": {
      "text/html": [],
      "text/plain": [
       "<IPython.core.display.HTML object>"
      ]
     },
     "metadata": {},
     "output_type": "display_data"
    },
    {
     "data": {
      "application/vnd.jupyter.widget-view+json": {
       "model_id": "d9010378feed40e38c29630cfb4e3947",
       "version_major": 2,
       "version_minor": 0
      },
      "text/plain": [
       "  0%|          | 0/119 [00:00<?, ?it/s]"
      ]
     },
     "metadata": {},
     "output_type": "display_data"
    },
    {
     "name": "stdout",
     "output_type": "stream",
     "text": [
      "Validation for lr 0.0001 epoch 17: \n",
      "{'exact_match': 8.403361344537815, 'f1': 15.373228567156294}\n"
     ]
    },
    {
     "data": {
      "text/html": [],
      "text/plain": [
       "<IPython.core.display.HTML object>"
      ]
     },
     "metadata": {},
     "output_type": "display_data"
    },
    {
     "data": {
      "application/vnd.jupyter.widget-view+json": {
       "model_id": "9b10407b4248449aabeca0662d2908b1",
       "version_major": 2,
       "version_minor": 0
      },
      "text/plain": [
       "  0%|          | 0/119 [00:00<?, ?it/s]"
      ]
     },
     "metadata": {},
     "output_type": "display_data"
    },
    {
     "name": "stdout",
     "output_type": "stream",
     "text": [
      "Test for lr 0.0001 epoch 17: \n",
      "{'exact_match': 13.445378151260504, 'f1': 21.163374084517773}\n",
      "Training with lr=0.0001 and epoch=18\n"
     ]
    },
    {
     "data": {
      "text/html": [
       "\n",
       "    <div>\n",
       "      \n",
       "      <progress value='63' max='63' style='width:300px; height:20px; vertical-align: middle;'></progress>\n",
       "      [63/63 00:25, Epoch 1/1]\n",
       "    </div>\n",
       "    <table border=\"1\" class=\"dataframe\">\n",
       "  <thead>\n",
       " <tr style=\"text-align: left;\">\n",
       "      <th>Step</th>\n",
       "      <th>Training Loss</th>\n",
       "    </tr>\n",
       "  </thead>\n",
       "  <tbody>\n",
       "  </tbody>\n",
       "</table><p>"
      ],
      "text/plain": [
       "<IPython.core.display.HTML object>"
      ]
     },
     "metadata": {},
     "output_type": "display_data"
    },
    {
     "data": {
      "text/html": [],
      "text/plain": [
       "<IPython.core.display.HTML object>"
      ]
     },
     "metadata": {},
     "output_type": "display_data"
    },
    {
     "data": {
      "application/vnd.jupyter.widget-view+json": {
       "model_id": "08f6c9527db94642808fe1852c0b2999",
       "version_major": 2,
       "version_minor": 0
      },
      "text/plain": [
       "  0%|          | 0/119 [00:00<?, ?it/s]"
      ]
     },
     "metadata": {},
     "output_type": "display_data"
    },
    {
     "name": "stdout",
     "output_type": "stream",
     "text": [
      "Validation for lr 0.0001 epoch 18: \n",
      "{'exact_match': 8.403361344537815, 'f1': 17.561768491991977}\n"
     ]
    },
    {
     "data": {
      "text/html": [],
      "text/plain": [
       "<IPython.core.display.HTML object>"
      ]
     },
     "metadata": {},
     "output_type": "display_data"
    },
    {
     "data": {
      "application/vnd.jupyter.widget-view+json": {
       "model_id": "4609449915cb458c9710db5163a8391a",
       "version_major": 2,
       "version_minor": 0
      },
      "text/plain": [
       "  0%|          | 0/119 [00:00<?, ?it/s]"
      ]
     },
     "metadata": {},
     "output_type": "display_data"
    },
    {
     "name": "stdout",
     "output_type": "stream",
     "text": [
      "Test for lr 0.0001 epoch 18: \n",
      "{'exact_match': 13.445378151260504, 'f1': 18.85173776813937}\n",
      "Training with lr=0.0001 and epoch=19\n"
     ]
    },
    {
     "data": {
      "text/html": [
       "\n",
       "    <div>\n",
       "      \n",
       "      <progress value='63' max='63' style='width:300px; height:20px; vertical-align: middle;'></progress>\n",
       "      [63/63 00:25, Epoch 1/1]\n",
       "    </div>\n",
       "    <table border=\"1\" class=\"dataframe\">\n",
       "  <thead>\n",
       " <tr style=\"text-align: left;\">\n",
       "      <th>Step</th>\n",
       "      <th>Training Loss</th>\n",
       "    </tr>\n",
       "  </thead>\n",
       "  <tbody>\n",
       "  </tbody>\n",
       "</table><p>"
      ],
      "text/plain": [
       "<IPython.core.display.HTML object>"
      ]
     },
     "metadata": {},
     "output_type": "display_data"
    },
    {
     "data": {
      "text/html": [],
      "text/plain": [
       "<IPython.core.display.HTML object>"
      ]
     },
     "metadata": {},
     "output_type": "display_data"
    },
    {
     "data": {
      "application/vnd.jupyter.widget-view+json": {
       "model_id": "e234f2c7170f46938460cb10ea4fc45b",
       "version_major": 2,
       "version_minor": 0
      },
      "text/plain": [
       "  0%|          | 0/119 [00:00<?, ?it/s]"
      ]
     },
     "metadata": {},
     "output_type": "display_data"
    },
    {
     "name": "stdout",
     "output_type": "stream",
     "text": [
      "Validation for lr 0.0001 epoch 19: \n",
      "{'exact_match': 9.243697478991596, 'f1': 15.248754535119238}\n"
     ]
    },
    {
     "data": {
      "text/html": [],
      "text/plain": [
       "<IPython.core.display.HTML object>"
      ]
     },
     "metadata": {},
     "output_type": "display_data"
    },
    {
     "data": {
      "application/vnd.jupyter.widget-view+json": {
       "model_id": "c87d279b2bca42cdb93a1ac2ec809726",
       "version_major": 2,
       "version_minor": 0
      },
      "text/plain": [
       "  0%|          | 0/119 [00:00<?, ?it/s]"
      ]
     },
     "metadata": {},
     "output_type": "display_data"
    },
    {
     "name": "stdout",
     "output_type": "stream",
     "text": [
      "Test for lr 0.0001 epoch 19: \n",
      "{'exact_match': 13.445378151260504, 'f1': 19.24999308288847}\n",
      "Training with lr=0.0001 and epoch=20\n"
     ]
    },
    {
     "data": {
      "text/html": [
       "\n",
       "    <div>\n",
       "      \n",
       "      <progress value='63' max='63' style='width:300px; height:20px; vertical-align: middle;'></progress>\n",
       "      [63/63 00:25, Epoch 1/1]\n",
       "    </div>\n",
       "    <table border=\"1\" class=\"dataframe\">\n",
       "  <thead>\n",
       " <tr style=\"text-align: left;\">\n",
       "      <th>Step</th>\n",
       "      <th>Training Loss</th>\n",
       "    </tr>\n",
       "  </thead>\n",
       "  <tbody>\n",
       "  </tbody>\n",
       "</table><p>"
      ],
      "text/plain": [
       "<IPython.core.display.HTML object>"
      ]
     },
     "metadata": {},
     "output_type": "display_data"
    },
    {
     "data": {
      "text/html": [],
      "text/plain": [
       "<IPython.core.display.HTML object>"
      ]
     },
     "metadata": {},
     "output_type": "display_data"
    },
    {
     "data": {
      "application/vnd.jupyter.widget-view+json": {
       "model_id": "6f1ee2b0df9e4644812242fb48ab7702",
       "version_major": 2,
       "version_minor": 0
      },
      "text/plain": [
       "  0%|          | 0/119 [00:00<?, ?it/s]"
      ]
     },
     "metadata": {},
     "output_type": "display_data"
    },
    {
     "name": "stdout",
     "output_type": "stream",
     "text": [
      "Validation for lr 0.0001 epoch 20: \n",
      "{'exact_match': 9.243697478991596, 'f1': 16.10621754011389}\n"
     ]
    },
    {
     "data": {
      "text/html": [],
      "text/plain": [
       "<IPython.core.display.HTML object>"
      ]
     },
     "metadata": {},
     "output_type": "display_data"
    },
    {
     "data": {
      "application/vnd.jupyter.widget-view+json": {
       "model_id": "9d78d639820546b0a2a5f1e8a5224350",
       "version_major": 2,
       "version_minor": 0
      },
      "text/plain": [
       "  0%|          | 0/119 [00:00<?, ?it/s]"
      ]
     },
     "metadata": {},
     "output_type": "display_data"
    },
    {
     "name": "stdout",
     "output_type": "stream",
     "text": [
      "Test for lr 0.0001 epoch 20: \n",
      "{'exact_match': 13.445378151260504, 'f1': 20.40459320983295}\n",
      "Training with lr=0.0001 and epoch=21\n"
     ]
    },
    {
     "data": {
      "text/html": [
       "\n",
       "    <div>\n",
       "      \n",
       "      <progress value='63' max='63' style='width:300px; height:20px; vertical-align: middle;'></progress>\n",
       "      [63/63 00:25, Epoch 1/1]\n",
       "    </div>\n",
       "    <table border=\"1\" class=\"dataframe\">\n",
       "  <thead>\n",
       " <tr style=\"text-align: left;\">\n",
       "      <th>Step</th>\n",
       "      <th>Training Loss</th>\n",
       "    </tr>\n",
       "  </thead>\n",
       "  <tbody>\n",
       "  </tbody>\n",
       "</table><p>"
      ],
      "text/plain": [
       "<IPython.core.display.HTML object>"
      ]
     },
     "metadata": {},
     "output_type": "display_data"
    },
    {
     "data": {
      "text/html": [],
      "text/plain": [
       "<IPython.core.display.HTML object>"
      ]
     },
     "metadata": {},
     "output_type": "display_data"
    },
    {
     "data": {
      "application/vnd.jupyter.widget-view+json": {
       "model_id": "a51b11e09d0f48429f4dc1cd3d3ade16",
       "version_major": 2,
       "version_minor": 0
      },
      "text/plain": [
       "  0%|          | 0/119 [00:00<?, ?it/s]"
      ]
     },
     "metadata": {},
     "output_type": "display_data"
    },
    {
     "name": "stdout",
     "output_type": "stream",
     "text": [
      "Validation for lr 0.0001 epoch 21: \n",
      "{'exact_match': 10.084033613445378, 'f1': 16.18655389728835}\n"
     ]
    },
    {
     "data": {
      "text/html": [],
      "text/plain": [
       "<IPython.core.display.HTML object>"
      ]
     },
     "metadata": {},
     "output_type": "display_data"
    },
    {
     "data": {
      "application/vnd.jupyter.widget-view+json": {
       "model_id": "afe272653c574dc68634643bf4d4207c",
       "version_major": 2,
       "version_minor": 0
      },
      "text/plain": [
       "  0%|          | 0/119 [00:00<?, ?it/s]"
      ]
     },
     "metadata": {},
     "output_type": "display_data"
    },
    {
     "name": "stdout",
     "output_type": "stream",
     "text": [
      "Test for lr 0.0001 epoch 21: \n",
      "{'exact_match': 13.445378151260504, 'f1': 18.42846942698648}\n",
      "Training with lr=0.0001 and epoch=22\n"
     ]
    },
    {
     "data": {
      "text/html": [
       "\n",
       "    <div>\n",
       "      \n",
       "      <progress value='63' max='63' style='width:300px; height:20px; vertical-align: middle;'></progress>\n",
       "      [63/63 00:25, Epoch 1/1]\n",
       "    </div>\n",
       "    <table border=\"1\" class=\"dataframe\">\n",
       "  <thead>\n",
       " <tr style=\"text-align: left;\">\n",
       "      <th>Step</th>\n",
       "      <th>Training Loss</th>\n",
       "    </tr>\n",
       "  </thead>\n",
       "  <tbody>\n",
       "  </tbody>\n",
       "</table><p>"
      ],
      "text/plain": [
       "<IPython.core.display.HTML object>"
      ]
     },
     "metadata": {},
     "output_type": "display_data"
    },
    {
     "data": {
      "text/html": [],
      "text/plain": [
       "<IPython.core.display.HTML object>"
      ]
     },
     "metadata": {},
     "output_type": "display_data"
    },
    {
     "data": {
      "application/vnd.jupyter.widget-view+json": {
       "model_id": "43b1a157ef0140c1a807701ea6af9ca0",
       "version_major": 2,
       "version_minor": 0
      },
      "text/plain": [
       "  0%|          | 0/119 [00:00<?, ?it/s]"
      ]
     },
     "metadata": {},
     "output_type": "display_data"
    },
    {
     "name": "stdout",
     "output_type": "stream",
     "text": [
      "Validation for lr 0.0001 epoch 22: \n",
      "{'exact_match': 12.605042016806722, 'f1': 18.017055255224207}\n"
     ]
    },
    {
     "data": {
      "text/html": [],
      "text/plain": [
       "<IPython.core.display.HTML object>"
      ]
     },
     "metadata": {},
     "output_type": "display_data"
    },
    {
     "data": {
      "application/vnd.jupyter.widget-view+json": {
       "model_id": "18efc9ad96764aab8329e8c89cde5a5e",
       "version_major": 2,
       "version_minor": 0
      },
      "text/plain": [
       "  0%|          | 0/119 [00:00<?, ?it/s]"
      ]
     },
     "metadata": {},
     "output_type": "display_data"
    },
    {
     "name": "stdout",
     "output_type": "stream",
     "text": [
      "Test for lr 0.0001 epoch 22: \n",
      "{'exact_match': 10.92436974789916, 'f1': 18.676657591141034}\n",
      "Training with lr=0.0001 and epoch=23\n"
     ]
    },
    {
     "data": {
      "text/html": [
       "\n",
       "    <div>\n",
       "      \n",
       "      <progress value='63' max='63' style='width:300px; height:20px; vertical-align: middle;'></progress>\n",
       "      [63/63 00:24, Epoch 1/1]\n",
       "    </div>\n",
       "    <table border=\"1\" class=\"dataframe\">\n",
       "  <thead>\n",
       " <tr style=\"text-align: left;\">\n",
       "      <th>Step</th>\n",
       "      <th>Training Loss</th>\n",
       "    </tr>\n",
       "  </thead>\n",
       "  <tbody>\n",
       "  </tbody>\n",
       "</table><p>"
      ],
      "text/plain": [
       "<IPython.core.display.HTML object>"
      ]
     },
     "metadata": {},
     "output_type": "display_data"
    },
    {
     "data": {
      "text/html": [],
      "text/plain": [
       "<IPython.core.display.HTML object>"
      ]
     },
     "metadata": {},
     "output_type": "display_data"
    },
    {
     "data": {
      "application/vnd.jupyter.widget-view+json": {
       "model_id": "7cd0e532f16c450dae9dae693d41f989",
       "version_major": 2,
       "version_minor": 0
      },
      "text/plain": [
       "  0%|          | 0/119 [00:00<?, ?it/s]"
      ]
     },
     "metadata": {},
     "output_type": "display_data"
    },
    {
     "name": "stdout",
     "output_type": "stream",
     "text": [
      "Validation for lr 0.0001 epoch 23: \n",
      "{'exact_match': 11.764705882352942, 'f1': 18.237676123892534}\n"
     ]
    },
    {
     "data": {
      "text/html": [],
      "text/plain": [
       "<IPython.core.display.HTML object>"
      ]
     },
     "metadata": {},
     "output_type": "display_data"
    },
    {
     "data": {
      "application/vnd.jupyter.widget-view+json": {
       "model_id": "fac53c2182e9495a960eb14a7fb34926",
       "version_major": 2,
       "version_minor": 0
      },
      "text/plain": [
       "  0%|          | 0/119 [00:00<?, ?it/s]"
      ]
     },
     "metadata": {},
     "output_type": "display_data"
    },
    {
     "name": "stdout",
     "output_type": "stream",
     "text": [
      "Test for lr 0.0001 epoch 23: \n",
      "{'exact_match': 10.92436974789916, 'f1': 17.515769981883363}\n",
      "Training with lr=0.0001 and epoch=24\n"
     ]
    },
    {
     "data": {
      "text/html": [
       "\n",
       "    <div>\n",
       "      \n",
       "      <progress value='63' max='63' style='width:300px; height:20px; vertical-align: middle;'></progress>\n",
       "      [63/63 00:25, Epoch 1/1]\n",
       "    </div>\n",
       "    <table border=\"1\" class=\"dataframe\">\n",
       "  <thead>\n",
       " <tr style=\"text-align: left;\">\n",
       "      <th>Step</th>\n",
       "      <th>Training Loss</th>\n",
       "    </tr>\n",
       "  </thead>\n",
       "  <tbody>\n",
       "  </tbody>\n",
       "</table><p>"
      ],
      "text/plain": [
       "<IPython.core.display.HTML object>"
      ]
     },
     "metadata": {},
     "output_type": "display_data"
    },
    {
     "data": {
      "text/html": [],
      "text/plain": [
       "<IPython.core.display.HTML object>"
      ]
     },
     "metadata": {},
     "output_type": "display_data"
    },
    {
     "data": {
      "application/vnd.jupyter.widget-view+json": {
       "model_id": "888e9f030f3a4425a1f9d960fa03d5e0",
       "version_major": 2,
       "version_minor": 0
      },
      "text/plain": [
       "  0%|          | 0/119 [00:00<?, ?it/s]"
      ]
     },
     "metadata": {},
     "output_type": "display_data"
    },
    {
     "name": "stdout",
     "output_type": "stream",
     "text": [
      "Validation for lr 0.0001 epoch 24: \n",
      "{'exact_match': 10.92436974789916, 'f1': 15.888673289810214}\n"
     ]
    },
    {
     "data": {
      "text/html": [],
      "text/plain": [
       "<IPython.core.display.HTML object>"
      ]
     },
     "metadata": {},
     "output_type": "display_data"
    },
    {
     "data": {
      "application/vnd.jupyter.widget-view+json": {
       "model_id": "0e9bbcafad2a4f54b8eccee33727e27a",
       "version_major": 2,
       "version_minor": 0
      },
      "text/plain": [
       "  0%|          | 0/119 [00:00<?, ?it/s]"
      ]
     },
     "metadata": {},
     "output_type": "display_data"
    },
    {
     "name": "stdout",
     "output_type": "stream",
     "text": [
      "Test for lr 0.0001 epoch 24: \n",
      "{'exact_match': 14.285714285714286, 'f1': 19.96250989083416}\n",
      "Training with lr=0.0001 and epoch=25\n"
     ]
    },
    {
     "data": {
      "text/html": [
       "\n",
       "    <div>\n",
       "      \n",
       "      <progress value='63' max='63' style='width:300px; height:20px; vertical-align: middle;'></progress>\n",
       "      [63/63 00:25, Epoch 1/1]\n",
       "    </div>\n",
       "    <table border=\"1\" class=\"dataframe\">\n",
       "  <thead>\n",
       " <tr style=\"text-align: left;\">\n",
       "      <th>Step</th>\n",
       "      <th>Training Loss</th>\n",
       "    </tr>\n",
       "  </thead>\n",
       "  <tbody>\n",
       "  </tbody>\n",
       "</table><p>"
      ],
      "text/plain": [
       "<IPython.core.display.HTML object>"
      ]
     },
     "metadata": {},
     "output_type": "display_data"
    },
    {
     "data": {
      "text/html": [],
      "text/plain": [
       "<IPython.core.display.HTML object>"
      ]
     },
     "metadata": {},
     "output_type": "display_data"
    },
    {
     "data": {
      "application/vnd.jupyter.widget-view+json": {
       "model_id": "9395c8cead4447e68334b3ef9ecf1f57",
       "version_major": 2,
       "version_minor": 0
      },
      "text/plain": [
       "  0%|          | 0/119 [00:00<?, ?it/s]"
      ]
     },
     "metadata": {},
     "output_type": "display_data"
    },
    {
     "name": "stdout",
     "output_type": "stream",
     "text": [
      "Validation for lr 0.0001 epoch 25: \n",
      "{'exact_match': 12.605042016806722, 'f1': 19.179720861043545}\n"
     ]
    },
    {
     "data": {
      "text/html": [],
      "text/plain": [
       "<IPython.core.display.HTML object>"
      ]
     },
     "metadata": {},
     "output_type": "display_data"
    },
    {
     "data": {
      "application/vnd.jupyter.widget-view+json": {
       "model_id": "3f169527f9cd4a68b2db16f72124d3c1",
       "version_major": 2,
       "version_minor": 0
      },
      "text/plain": [
       "  0%|          | 0/119 [00:00<?, ?it/s]"
      ]
     },
     "metadata": {},
     "output_type": "display_data"
    },
    {
     "name": "stdout",
     "output_type": "stream",
     "text": [
      "Test for lr 0.0001 epoch 25: \n",
      "{'exact_match': 13.445378151260504, 'f1': 19.352925896880937}\n",
      "Training with lr=0.0001 and epoch=26\n"
     ]
    },
    {
     "data": {
      "text/html": [
       "\n",
       "    <div>\n",
       "      \n",
       "      <progress value='63' max='63' style='width:300px; height:20px; vertical-align: middle;'></progress>\n",
       "      [63/63 00:25, Epoch 1/1]\n",
       "    </div>\n",
       "    <table border=\"1\" class=\"dataframe\">\n",
       "  <thead>\n",
       " <tr style=\"text-align: left;\">\n",
       "      <th>Step</th>\n",
       "      <th>Training Loss</th>\n",
       "    </tr>\n",
       "  </thead>\n",
       "  <tbody>\n",
       "  </tbody>\n",
       "</table><p>"
      ],
      "text/plain": [
       "<IPython.core.display.HTML object>"
      ]
     },
     "metadata": {},
     "output_type": "display_data"
    },
    {
     "data": {
      "text/html": [],
      "text/plain": [
       "<IPython.core.display.HTML object>"
      ]
     },
     "metadata": {},
     "output_type": "display_data"
    },
    {
     "data": {
      "application/vnd.jupyter.widget-view+json": {
       "model_id": "1a0fe7c82ef04b73b1b398cc423e2e5f",
       "version_major": 2,
       "version_minor": 0
      },
      "text/plain": [
       "  0%|          | 0/119 [00:00<?, ?it/s]"
      ]
     },
     "metadata": {},
     "output_type": "display_data"
    },
    {
     "name": "stdout",
     "output_type": "stream",
     "text": [
      "Validation for lr 0.0001 epoch 26: \n",
      "{'exact_match': 10.92436974789916, 'f1': 16.290799656663168}\n"
     ]
    },
    {
     "data": {
      "text/html": [],
      "text/plain": [
       "<IPython.core.display.HTML object>"
      ]
     },
     "metadata": {},
     "output_type": "display_data"
    },
    {
     "data": {
      "application/vnd.jupyter.widget-view+json": {
       "model_id": "444b48b221be422fa66b45b0b2395890",
       "version_major": 2,
       "version_minor": 0
      },
      "text/plain": [
       "  0%|          | 0/119 [00:00<?, ?it/s]"
      ]
     },
     "metadata": {},
     "output_type": "display_data"
    },
    {
     "name": "stdout",
     "output_type": "stream",
     "text": [
      "Test for lr 0.0001 epoch 26: \n",
      "{'exact_match': 12.605042016806722, 'f1': 18.904646031893215}\n",
      "Training with lr=0.0001 and epoch=27\n"
     ]
    },
    {
     "data": {
      "text/html": [
       "\n",
       "    <div>\n",
       "      \n",
       "      <progress value='63' max='63' style='width:300px; height:20px; vertical-align: middle;'></progress>\n",
       "      [63/63 00:25, Epoch 1/1]\n",
       "    </div>\n",
       "    <table border=\"1\" class=\"dataframe\">\n",
       "  <thead>\n",
       " <tr style=\"text-align: left;\">\n",
       "      <th>Step</th>\n",
       "      <th>Training Loss</th>\n",
       "    </tr>\n",
       "  </thead>\n",
       "  <tbody>\n",
       "  </tbody>\n",
       "</table><p>"
      ],
      "text/plain": [
       "<IPython.core.display.HTML object>"
      ]
     },
     "metadata": {},
     "output_type": "display_data"
    },
    {
     "data": {
      "text/html": [],
      "text/plain": [
       "<IPython.core.display.HTML object>"
      ]
     },
     "metadata": {},
     "output_type": "display_data"
    },
    {
     "data": {
      "application/vnd.jupyter.widget-view+json": {
       "model_id": "cf9c96f4f9844a7f80d64a233f491c46",
       "version_major": 2,
       "version_minor": 0
      },
      "text/plain": [
       "  0%|          | 0/119 [00:00<?, ?it/s]"
      ]
     },
     "metadata": {},
     "output_type": "display_data"
    },
    {
     "name": "stdout",
     "output_type": "stream",
     "text": [
      "Validation for lr 0.0001 epoch 27: \n",
      "{'exact_match': 11.764705882352942, 'f1': 18.453229725012125}\n"
     ]
    },
    {
     "data": {
      "text/html": [],
      "text/plain": [
       "<IPython.core.display.HTML object>"
      ]
     },
     "metadata": {},
     "output_type": "display_data"
    },
    {
     "data": {
      "application/vnd.jupyter.widget-view+json": {
       "model_id": "1f4b3abc617d451397b6099de35cef4a",
       "version_major": 2,
       "version_minor": 0
      },
      "text/plain": [
       "  0%|          | 0/119 [00:00<?, ?it/s]"
      ]
     },
     "metadata": {},
     "output_type": "display_data"
    },
    {
     "name": "stdout",
     "output_type": "stream",
     "text": [
      "Test for lr 0.0001 epoch 27: \n",
      "{'exact_match': 10.084033613445378, 'f1': 16.936453817323816}\n",
      "Training with lr=0.0001 and epoch=28\n"
     ]
    },
    {
     "data": {
      "text/html": [
       "\n",
       "    <div>\n",
       "      \n",
       "      <progress value='63' max='63' style='width:300px; height:20px; vertical-align: middle;'></progress>\n",
       "      [63/63 00:25, Epoch 1/1]\n",
       "    </div>\n",
       "    <table border=\"1\" class=\"dataframe\">\n",
       "  <thead>\n",
       " <tr style=\"text-align: left;\">\n",
       "      <th>Step</th>\n",
       "      <th>Training Loss</th>\n",
       "    </tr>\n",
       "  </thead>\n",
       "  <tbody>\n",
       "  </tbody>\n",
       "</table><p>"
      ],
      "text/plain": [
       "<IPython.core.display.HTML object>"
      ]
     },
     "metadata": {},
     "output_type": "display_data"
    },
    {
     "data": {
      "text/html": [],
      "text/plain": [
       "<IPython.core.display.HTML object>"
      ]
     },
     "metadata": {},
     "output_type": "display_data"
    },
    {
     "data": {
      "application/vnd.jupyter.widget-view+json": {
       "model_id": "8cf9d2036fac4975b2651fd1a1369c76",
       "version_major": 2,
       "version_minor": 0
      },
      "text/plain": [
       "  0%|          | 0/119 [00:00<?, ?it/s]"
      ]
     },
     "metadata": {},
     "output_type": "display_data"
    },
    {
     "name": "stdout",
     "output_type": "stream",
     "text": [
      "Validation for lr 0.0001 epoch 28: \n",
      "{'exact_match': 11.764705882352942, 'f1': 17.995759749499637}\n"
     ]
    },
    {
     "data": {
      "text/html": [],
      "text/plain": [
       "<IPython.core.display.HTML object>"
      ]
     },
     "metadata": {},
     "output_type": "display_data"
    },
    {
     "data": {
      "application/vnd.jupyter.widget-view+json": {
       "model_id": "5d76b51d0fbc4eb0917facc932a3d369",
       "version_major": 2,
       "version_minor": 0
      },
      "text/plain": [
       "  0%|          | 0/119 [00:00<?, ?it/s]"
      ]
     },
     "metadata": {},
     "output_type": "display_data"
    },
    {
     "name": "stdout",
     "output_type": "stream",
     "text": [
      "Test for lr 0.0001 epoch 28: \n",
      "{'exact_match': 8.403361344537815, 'f1': 14.415796961000805}\n",
      "Training with lr=0.0001 and epoch=29\n"
     ]
    },
    {
     "data": {
      "text/html": [
       "\n",
       "    <div>\n",
       "      \n",
       "      <progress value='63' max='63' style='width:300px; height:20px; vertical-align: middle;'></progress>\n",
       "      [63/63 00:25, Epoch 1/1]\n",
       "    </div>\n",
       "    <table border=\"1\" class=\"dataframe\">\n",
       "  <thead>\n",
       " <tr style=\"text-align: left;\">\n",
       "      <th>Step</th>\n",
       "      <th>Training Loss</th>\n",
       "    </tr>\n",
       "  </thead>\n",
       "  <tbody>\n",
       "  </tbody>\n",
       "</table><p>"
      ],
      "text/plain": [
       "<IPython.core.display.HTML object>"
      ]
     },
     "metadata": {},
     "output_type": "display_data"
    },
    {
     "data": {
      "text/html": [],
      "text/plain": [
       "<IPython.core.display.HTML object>"
      ]
     },
     "metadata": {},
     "output_type": "display_data"
    },
    {
     "data": {
      "application/vnd.jupyter.widget-view+json": {
       "model_id": "b1b9b104f5fc421ea4cb5a87f2eb37fa",
       "version_major": 2,
       "version_minor": 0
      },
      "text/plain": [
       "  0%|          | 0/119 [00:00<?, ?it/s]"
      ]
     },
     "metadata": {},
     "output_type": "display_data"
    },
    {
     "name": "stdout",
     "output_type": "stream",
     "text": [
      "Validation for lr 0.0001 epoch 29: \n",
      "{'exact_match': 10.92436974789916, 'f1': 18.56924582842319}\n"
     ]
    },
    {
     "data": {
      "text/html": [],
      "text/plain": [
       "<IPython.core.display.HTML object>"
      ]
     },
     "metadata": {},
     "output_type": "display_data"
    },
    {
     "data": {
      "application/vnd.jupyter.widget-view+json": {
       "model_id": "ee3b160c1c224d6581ab3f6eb48b6fc0",
       "version_major": 2,
       "version_minor": 0
      },
      "text/plain": [
       "  0%|          | 0/119 [00:00<?, ?it/s]"
      ]
     },
     "metadata": {},
     "output_type": "display_data"
    },
    {
     "name": "stdout",
     "output_type": "stream",
     "text": [
      "Test for lr 0.0001 epoch 29: \n",
      "{'exact_match': 13.445378151260504, 'f1': 19.07702779580451}\n",
      "Training with lr=0.0001 and epoch=30\n"
     ]
    },
    {
     "data": {
      "text/html": [
       "\n",
       "    <div>\n",
       "      \n",
       "      <progress value='63' max='63' style='width:300px; height:20px; vertical-align: middle;'></progress>\n",
       "      [63/63 00:25, Epoch 1/1]\n",
       "    </div>\n",
       "    <table border=\"1\" class=\"dataframe\">\n",
       "  <thead>\n",
       " <tr style=\"text-align: left;\">\n",
       "      <th>Step</th>\n",
       "      <th>Training Loss</th>\n",
       "    </tr>\n",
       "  </thead>\n",
       "  <tbody>\n",
       "  </tbody>\n",
       "</table><p>"
      ],
      "text/plain": [
       "<IPython.core.display.HTML object>"
      ]
     },
     "metadata": {},
     "output_type": "display_data"
    },
    {
     "data": {
      "text/html": [],
      "text/plain": [
       "<IPython.core.display.HTML object>"
      ]
     },
     "metadata": {},
     "output_type": "display_data"
    },
    {
     "data": {
      "application/vnd.jupyter.widget-view+json": {
       "model_id": "18f29822ddb64a1e84ff9e39f17be03a",
       "version_major": 2,
       "version_minor": 0
      },
      "text/plain": [
       "  0%|          | 0/119 [00:00<?, ?it/s]"
      ]
     },
     "metadata": {},
     "output_type": "display_data"
    },
    {
     "name": "stdout",
     "output_type": "stream",
     "text": [
      "Validation for lr 0.0001 epoch 30: \n",
      "{'exact_match': 11.764705882352942, 'f1': 17.024988750092437}\n"
     ]
    },
    {
     "data": {
      "text/html": [],
      "text/plain": [
       "<IPython.core.display.HTML object>"
      ]
     },
     "metadata": {},
     "output_type": "display_data"
    },
    {
     "data": {
      "application/vnd.jupyter.widget-view+json": {
       "model_id": "6c50dc4dca4a488e87f4cc9ae1513b76",
       "version_major": 2,
       "version_minor": 0
      },
      "text/plain": [
       "  0%|          | 0/119 [00:00<?, ?it/s]"
      ]
     },
     "metadata": {},
     "output_type": "display_data"
    },
    {
     "name": "stdout",
     "output_type": "stream",
     "text": [
      "Test for lr 0.0001 epoch 30: \n",
      "{'exact_match': 12.605042016806722, 'f1': 19.690013801511075}\n",
      "Training with lr=0.0001 and epoch=31\n"
     ]
    },
    {
     "data": {
      "text/html": [
       "\n",
       "    <div>\n",
       "      \n",
       "      <progress value='63' max='63' style='width:300px; height:20px; vertical-align: middle;'></progress>\n",
       "      [63/63 00:25, Epoch 1/1]\n",
       "    </div>\n",
       "    <table border=\"1\" class=\"dataframe\">\n",
       "  <thead>\n",
       " <tr style=\"text-align: left;\">\n",
       "      <th>Step</th>\n",
       "      <th>Training Loss</th>\n",
       "    </tr>\n",
       "  </thead>\n",
       "  <tbody>\n",
       "  </tbody>\n",
       "</table><p>"
      ],
      "text/plain": [
       "<IPython.core.display.HTML object>"
      ]
     },
     "metadata": {},
     "output_type": "display_data"
    },
    {
     "data": {
      "text/html": [],
      "text/plain": [
       "<IPython.core.display.HTML object>"
      ]
     },
     "metadata": {},
     "output_type": "display_data"
    },
    {
     "data": {
      "application/vnd.jupyter.widget-view+json": {
       "model_id": "40a2a55751bb4731bff0ea833e1740d3",
       "version_major": 2,
       "version_minor": 0
      },
      "text/plain": [
       "  0%|          | 0/119 [00:00<?, ?it/s]"
      ]
     },
     "metadata": {},
     "output_type": "display_data"
    },
    {
     "name": "stdout",
     "output_type": "stream",
     "text": [
      "Validation for lr 0.0001 epoch 31: \n",
      "{'exact_match': 11.764705882352942, 'f1': 17.551609476863792}\n"
     ]
    },
    {
     "data": {
      "text/html": [],
      "text/plain": [
       "<IPython.core.display.HTML object>"
      ]
     },
     "metadata": {},
     "output_type": "display_data"
    },
    {
     "data": {
      "application/vnd.jupyter.widget-view+json": {
       "model_id": "4f773f409bfb473893fbc07b370e230c",
       "version_major": 2,
       "version_minor": 0
      },
      "text/plain": [
       "  0%|          | 0/119 [00:00<?, ?it/s]"
      ]
     },
     "metadata": {},
     "output_type": "display_data"
    },
    {
     "name": "stdout",
     "output_type": "stream",
     "text": [
      "Test for lr 0.0001 epoch 31: \n",
      "{'exact_match': 13.445378151260504, 'f1': 19.615695275180162}\n",
      "Training with lr=0.0001 and epoch=32\n"
     ]
    },
    {
     "data": {
      "text/html": [
       "\n",
       "    <div>\n",
       "      \n",
       "      <progress value='63' max='63' style='width:300px; height:20px; vertical-align: middle;'></progress>\n",
       "      [63/63 00:25, Epoch 1/1]\n",
       "    </div>\n",
       "    <table border=\"1\" class=\"dataframe\">\n",
       "  <thead>\n",
       " <tr style=\"text-align: left;\">\n",
       "      <th>Step</th>\n",
       "      <th>Training Loss</th>\n",
       "    </tr>\n",
       "  </thead>\n",
       "  <tbody>\n",
       "  </tbody>\n",
       "</table><p>"
      ],
      "text/plain": [
       "<IPython.core.display.HTML object>"
      ]
     },
     "metadata": {},
     "output_type": "display_data"
    },
    {
     "data": {
      "text/html": [],
      "text/plain": [
       "<IPython.core.display.HTML object>"
      ]
     },
     "metadata": {},
     "output_type": "display_data"
    },
    {
     "data": {
      "application/vnd.jupyter.widget-view+json": {
       "model_id": "388c8f6157ff42739e2e67f9645fd2ae",
       "version_major": 2,
       "version_minor": 0
      },
      "text/plain": [
       "  0%|          | 0/119 [00:00<?, ?it/s]"
      ]
     },
     "metadata": {},
     "output_type": "display_data"
    },
    {
     "name": "stdout",
     "output_type": "stream",
     "text": [
      "Validation for lr 0.0001 epoch 32: \n",
      "{'exact_match': 14.285714285714286, 'f1': 19.400938952243685}\n"
     ]
    },
    {
     "data": {
      "text/html": [],
      "text/plain": [
       "<IPython.core.display.HTML object>"
      ]
     },
     "metadata": {},
     "output_type": "display_data"
    },
    {
     "data": {
      "application/vnd.jupyter.widget-view+json": {
       "model_id": "1b7486e32b314aec8e4f6899abf153f3",
       "version_major": 2,
       "version_minor": 0
      },
      "text/plain": [
       "  0%|          | 0/119 [00:00<?, ?it/s]"
      ]
     },
     "metadata": {},
     "output_type": "display_data"
    },
    {
     "name": "stdout",
     "output_type": "stream",
     "text": [
      "Test for lr 0.0001 epoch 32: \n",
      "{'exact_match': 13.445378151260504, 'f1': 19.463436758585196}\n"
     ]
    },
    {
     "name": "stderr",
     "output_type": "stream",
     "text": [
      "Some weights of DistilBertForQuestionAnswering were not initialized from the model checkpoint at racai/distilbert-base-romanian-cased and are newly initialized: ['qa_outputs.bias', 'qa_outputs.weight']\n",
      "You should probably TRAIN this model on a down-stream task to be able to use it for predictions and inference.\n"
     ]
    },
    {
     "name": "stdout",
     "output_type": "stream",
     "text": [
      "Training with lr=0.001 and epoch=1\n"
     ]
    },
    {
     "data": {
      "text/html": [
       "\n",
       "    <div>\n",
       "      \n",
       "      <progress value='63' max='63' style='width:300px; height:20px; vertical-align: middle;'></progress>\n",
       "      [63/63 00:25, Epoch 1/1]\n",
       "    </div>\n",
       "    <table border=\"1\" class=\"dataframe\">\n",
       "  <thead>\n",
       " <tr style=\"text-align: left;\">\n",
       "      <th>Step</th>\n",
       "      <th>Training Loss</th>\n",
       "    </tr>\n",
       "  </thead>\n",
       "  <tbody>\n",
       "  </tbody>\n",
       "</table><p>"
      ],
      "text/plain": [
       "<IPython.core.display.HTML object>"
      ]
     },
     "metadata": {},
     "output_type": "display_data"
    },
    {
     "data": {
      "text/html": [],
      "text/plain": [
       "<IPython.core.display.HTML object>"
      ]
     },
     "metadata": {},
     "output_type": "display_data"
    },
    {
     "data": {
      "application/vnd.jupyter.widget-view+json": {
       "model_id": "18b9cb539942439dbe1d29f334d05ac5",
       "version_major": 2,
       "version_minor": 0
      },
      "text/plain": [
       "  0%|          | 0/119 [00:00<?, ?it/s]"
      ]
     },
     "metadata": {},
     "output_type": "display_data"
    },
    {
     "name": "stdout",
     "output_type": "stream",
     "text": [
      "Validation for lr 0.001 epoch 1: \n",
      "{'exact_match': 0.0, 'f1': 4.75286007401452}\n"
     ]
    },
    {
     "data": {
      "text/html": [],
      "text/plain": [
       "<IPython.core.display.HTML object>"
      ]
     },
     "metadata": {},
     "output_type": "display_data"
    },
    {
     "data": {
      "application/vnd.jupyter.widget-view+json": {
       "model_id": "4479b599d1e145a0a42b2f2679eb0e7f",
       "version_major": 2,
       "version_minor": 0
      },
      "text/plain": [
       "  0%|          | 0/119 [00:00<?, ?it/s]"
      ]
     },
     "metadata": {},
     "output_type": "display_data"
    },
    {
     "name": "stdout",
     "output_type": "stream",
     "text": [
      "Test for lr 0.001 epoch 1: \n",
      "{'exact_match': 0.0, 'f1': 4.503372389830669}\n",
      "Training with lr=0.001 and epoch=2\n"
     ]
    },
    {
     "data": {
      "text/html": [
       "\n",
       "    <div>\n",
       "      \n",
       "      <progress value='63' max='63' style='width:300px; height:20px; vertical-align: middle;'></progress>\n",
       "      [63/63 00:25, Epoch 1/1]\n",
       "    </div>\n",
       "    <table border=\"1\" class=\"dataframe\">\n",
       "  <thead>\n",
       " <tr style=\"text-align: left;\">\n",
       "      <th>Step</th>\n",
       "      <th>Training Loss</th>\n",
       "    </tr>\n",
       "  </thead>\n",
       "  <tbody>\n",
       "  </tbody>\n",
       "</table><p>"
      ],
      "text/plain": [
       "<IPython.core.display.HTML object>"
      ]
     },
     "metadata": {},
     "output_type": "display_data"
    },
    {
     "data": {
      "text/html": [],
      "text/plain": [
       "<IPython.core.display.HTML object>"
      ]
     },
     "metadata": {},
     "output_type": "display_data"
    },
    {
     "data": {
      "application/vnd.jupyter.widget-view+json": {
       "model_id": "05eb37a9d8554c6e8b382297d454ffed",
       "version_major": 2,
       "version_minor": 0
      },
      "text/plain": [
       "  0%|          | 0/119 [00:00<?, ?it/s]"
      ]
     },
     "metadata": {},
     "output_type": "display_data"
    },
    {
     "name": "stdout",
     "output_type": "stream",
     "text": [
      "Validation for lr 0.001 epoch 2: \n",
      "{'exact_match': 0.8403361344537815, 'f1': 8.011391766598194}\n"
     ]
    },
    {
     "data": {
      "text/html": [],
      "text/plain": [
       "<IPython.core.display.HTML object>"
      ]
     },
     "metadata": {},
     "output_type": "display_data"
    },
    {
     "data": {
      "application/vnd.jupyter.widget-view+json": {
       "model_id": "c8078aa8fc6f4bfeba786eca9f9c78cc",
       "version_major": 2,
       "version_minor": 0
      },
      "text/plain": [
       "  0%|          | 0/119 [00:00<?, ?it/s]"
      ]
     },
     "metadata": {},
     "output_type": "display_data"
    },
    {
     "name": "stdout",
     "output_type": "stream",
     "text": [
      "Test for lr 0.001 epoch 2: \n",
      "{'exact_match': 0.0, 'f1': 6.240374289383845}\n",
      "Training with lr=0.001 and epoch=3\n"
     ]
    },
    {
     "data": {
      "text/html": [
       "\n",
       "    <div>\n",
       "      \n",
       "      <progress value='63' max='63' style='width:300px; height:20px; vertical-align: middle;'></progress>\n",
       "      [63/63 00:25, Epoch 1/1]\n",
       "    </div>\n",
       "    <table border=\"1\" class=\"dataframe\">\n",
       "  <thead>\n",
       " <tr style=\"text-align: left;\">\n",
       "      <th>Step</th>\n",
       "      <th>Training Loss</th>\n",
       "    </tr>\n",
       "  </thead>\n",
       "  <tbody>\n",
       "  </tbody>\n",
       "</table><p>"
      ],
      "text/plain": [
       "<IPython.core.display.HTML object>"
      ]
     },
     "metadata": {},
     "output_type": "display_data"
    },
    {
     "data": {
      "text/html": [],
      "text/plain": [
       "<IPython.core.display.HTML object>"
      ]
     },
     "metadata": {},
     "output_type": "display_data"
    },
    {
     "data": {
      "application/vnd.jupyter.widget-view+json": {
       "model_id": "e1a6ffa3a45a49c0afb56e79f5f56bcd",
       "version_major": 2,
       "version_minor": 0
      },
      "text/plain": [
       "  0%|          | 0/119 [00:00<?, ?it/s]"
      ]
     },
     "metadata": {},
     "output_type": "display_data"
    },
    {
     "name": "stdout",
     "output_type": "stream",
     "text": [
      "Validation for lr 0.001 epoch 3: \n",
      "{'exact_match': 0.0, 'f1': 5.491492113073492}\n"
     ]
    },
    {
     "data": {
      "text/html": [],
      "text/plain": [
       "<IPython.core.display.HTML object>"
      ]
     },
     "metadata": {},
     "output_type": "display_data"
    },
    {
     "data": {
      "application/vnd.jupyter.widget-view+json": {
       "model_id": "b025b8d7d8c64d6080518c72c07eb530",
       "version_major": 2,
       "version_minor": 0
      },
      "text/plain": [
       "  0%|          | 0/119 [00:00<?, ?it/s]"
      ]
     },
     "metadata": {},
     "output_type": "display_data"
    },
    {
     "name": "stdout",
     "output_type": "stream",
     "text": [
      "Test for lr 0.001 epoch 3: \n",
      "{'exact_match': 0.0, 'f1': 5.6291143349606}\n",
      "Training with lr=0.001 and epoch=4\n"
     ]
    },
    {
     "data": {
      "text/html": [
       "\n",
       "    <div>\n",
       "      \n",
       "      <progress value='63' max='63' style='width:300px; height:20px; vertical-align: middle;'></progress>\n",
       "      [63/63 00:25, Epoch 1/1]\n",
       "    </div>\n",
       "    <table border=\"1\" class=\"dataframe\">\n",
       "  <thead>\n",
       " <tr style=\"text-align: left;\">\n",
       "      <th>Step</th>\n",
       "      <th>Training Loss</th>\n",
       "    </tr>\n",
       "  </thead>\n",
       "  <tbody>\n",
       "  </tbody>\n",
       "</table><p>"
      ],
      "text/plain": [
       "<IPython.core.display.HTML object>"
      ]
     },
     "metadata": {},
     "output_type": "display_data"
    },
    {
     "data": {
      "text/html": [],
      "text/plain": [
       "<IPython.core.display.HTML object>"
      ]
     },
     "metadata": {},
     "output_type": "display_data"
    },
    {
     "data": {
      "application/vnd.jupyter.widget-view+json": {
       "model_id": "b5142d83a30242a58d6563dfbcac67b5",
       "version_major": 2,
       "version_minor": 0
      },
      "text/plain": [
       "  0%|          | 0/119 [00:00<?, ?it/s]"
      ]
     },
     "metadata": {},
     "output_type": "display_data"
    },
    {
     "name": "stdout",
     "output_type": "stream",
     "text": [
      "Validation for lr 0.001 epoch 4: \n",
      "{'exact_match': 0.8403361344537815, 'f1': 5.331782365688496}\n"
     ]
    },
    {
     "data": {
      "text/html": [],
      "text/plain": [
       "<IPython.core.display.HTML object>"
      ]
     },
     "metadata": {},
     "output_type": "display_data"
    },
    {
     "data": {
      "application/vnd.jupyter.widget-view+json": {
       "model_id": "248b89e917b84474882a391e295fbcb0",
       "version_major": 2,
       "version_minor": 0
      },
      "text/plain": [
       "  0%|          | 0/119 [00:00<?, ?it/s]"
      ]
     },
     "metadata": {},
     "output_type": "display_data"
    },
    {
     "name": "stdout",
     "output_type": "stream",
     "text": [
      "Test for lr 0.001 epoch 4: \n",
      "{'exact_match': 0.0, 'f1': 3.341339931230848}\n",
      "Training with lr=0.001 and epoch=5\n"
     ]
    },
    {
     "data": {
      "text/html": [
       "\n",
       "    <div>\n",
       "      \n",
       "      <progress value='63' max='63' style='width:300px; height:20px; vertical-align: middle;'></progress>\n",
       "      [63/63 00:25, Epoch 1/1]\n",
       "    </div>\n",
       "    <table border=\"1\" class=\"dataframe\">\n",
       "  <thead>\n",
       " <tr style=\"text-align: left;\">\n",
       "      <th>Step</th>\n",
       "      <th>Training Loss</th>\n",
       "    </tr>\n",
       "  </thead>\n",
       "  <tbody>\n",
       "  </tbody>\n",
       "</table><p>"
      ],
      "text/plain": [
       "<IPython.core.display.HTML object>"
      ]
     },
     "metadata": {},
     "output_type": "display_data"
    },
    {
     "data": {
      "text/html": [],
      "text/plain": [
       "<IPython.core.display.HTML object>"
      ]
     },
     "metadata": {},
     "output_type": "display_data"
    },
    {
     "data": {
      "application/vnd.jupyter.widget-view+json": {
       "model_id": "21cfa5424624435794138be60103489f",
       "version_major": 2,
       "version_minor": 0
      },
      "text/plain": [
       "  0%|          | 0/119 [00:00<?, ?it/s]"
      ]
     },
     "metadata": {},
     "output_type": "display_data"
    },
    {
     "name": "stdout",
     "output_type": "stream",
     "text": [
      "Validation for lr 0.001 epoch 5: \n",
      "{'exact_match': 0.0, 'f1': 4.595398055910232}\n"
     ]
    },
    {
     "data": {
      "text/html": [],
      "text/plain": [
       "<IPython.core.display.HTML object>"
      ]
     },
     "metadata": {},
     "output_type": "display_data"
    },
    {
     "data": {
      "application/vnd.jupyter.widget-view+json": {
       "model_id": "c334c2d907284dec94ab9a00b93191b4",
       "version_major": 2,
       "version_minor": 0
      },
      "text/plain": [
       "  0%|          | 0/119 [00:00<?, ?it/s]"
      ]
     },
     "metadata": {},
     "output_type": "display_data"
    },
    {
     "name": "stdout",
     "output_type": "stream",
     "text": [
      "Test for lr 0.001 epoch 5: \n",
      "{'exact_match': 0.0, 'f1': 3.369666915689713}\n",
      "Training with lr=0.001 and epoch=6\n"
     ]
    },
    {
     "data": {
      "text/html": [
       "\n",
       "    <div>\n",
       "      \n",
       "      <progress value='63' max='63' style='width:300px; height:20px; vertical-align: middle;'></progress>\n",
       "      [63/63 00:25, Epoch 1/1]\n",
       "    </div>\n",
       "    <table border=\"1\" class=\"dataframe\">\n",
       "  <thead>\n",
       " <tr style=\"text-align: left;\">\n",
       "      <th>Step</th>\n",
       "      <th>Training Loss</th>\n",
       "    </tr>\n",
       "  </thead>\n",
       "  <tbody>\n",
       "  </tbody>\n",
       "</table><p>"
      ],
      "text/plain": [
       "<IPython.core.display.HTML object>"
      ]
     },
     "metadata": {},
     "output_type": "display_data"
    },
    {
     "data": {
      "text/html": [],
      "text/plain": [
       "<IPython.core.display.HTML object>"
      ]
     },
     "metadata": {},
     "output_type": "display_data"
    },
    {
     "data": {
      "application/vnd.jupyter.widget-view+json": {
       "model_id": "3bcc9bcf86ed4f6280b255986ef13c2d",
       "version_major": 2,
       "version_minor": 0
      },
      "text/plain": [
       "  0%|          | 0/119 [00:00<?, ?it/s]"
      ]
     },
     "metadata": {},
     "output_type": "display_data"
    },
    {
     "name": "stdout",
     "output_type": "stream",
     "text": [
      "Validation for lr 0.001 epoch 6: \n",
      "{'exact_match': 0.0, 'f1': 5.926210840844195}\n"
     ]
    },
    {
     "data": {
      "text/html": [],
      "text/plain": [
       "<IPython.core.display.HTML object>"
      ]
     },
     "metadata": {},
     "output_type": "display_data"
    },
    {
     "data": {
      "application/vnd.jupyter.widget-view+json": {
       "model_id": "ebaa3fc2d17b4561be0eb1201da7af07",
       "version_major": 2,
       "version_minor": 0
      },
      "text/plain": [
       "  0%|          | 0/119 [00:00<?, ?it/s]"
      ]
     },
     "metadata": {},
     "output_type": "display_data"
    },
    {
     "name": "stdout",
     "output_type": "stream",
     "text": [
      "Test for lr 0.001 epoch 6: \n",
      "{'exact_match': 0.0, 'f1': 4.9603092998142495}\n",
      "Training with lr=0.001 and epoch=7\n"
     ]
    },
    {
     "data": {
      "text/html": [
       "\n",
       "    <div>\n",
       "      \n",
       "      <progress value='63' max='63' style='width:300px; height:20px; vertical-align: middle;'></progress>\n",
       "      [63/63 00:25, Epoch 1/1]\n",
       "    </div>\n",
       "    <table border=\"1\" class=\"dataframe\">\n",
       "  <thead>\n",
       " <tr style=\"text-align: left;\">\n",
       "      <th>Step</th>\n",
       "      <th>Training Loss</th>\n",
       "    </tr>\n",
       "  </thead>\n",
       "  <tbody>\n",
       "  </tbody>\n",
       "</table><p>"
      ],
      "text/plain": [
       "<IPython.core.display.HTML object>"
      ]
     },
     "metadata": {},
     "output_type": "display_data"
    },
    {
     "data": {
      "text/html": [],
      "text/plain": [
       "<IPython.core.display.HTML object>"
      ]
     },
     "metadata": {},
     "output_type": "display_data"
    },
    {
     "data": {
      "application/vnd.jupyter.widget-view+json": {
       "model_id": "565d66318b164e1c8bc990a94f364e88",
       "version_major": 2,
       "version_minor": 0
      },
      "text/plain": [
       "  0%|          | 0/119 [00:00<?, ?it/s]"
      ]
     },
     "metadata": {},
     "output_type": "display_data"
    },
    {
     "name": "stdout",
     "output_type": "stream",
     "text": [
      "Validation for lr 0.001 epoch 7: \n",
      "{'exact_match': 0.0, 'f1': 6.0483920404591975}\n"
     ]
    },
    {
     "data": {
      "text/html": [],
      "text/plain": [
       "<IPython.core.display.HTML object>"
      ]
     },
     "metadata": {},
     "output_type": "display_data"
    },
    {
     "data": {
      "application/vnd.jupyter.widget-view+json": {
       "model_id": "a8ffcd1ca9c14bf2b6e2309affebcd01",
       "version_major": 2,
       "version_minor": 0
      },
      "text/plain": [
       "  0%|          | 0/119 [00:00<?, ?it/s]"
      ]
     },
     "metadata": {},
     "output_type": "display_data"
    },
    {
     "name": "stdout",
     "output_type": "stream",
     "text": [
      "Test for lr 0.001 epoch 7: \n",
      "{'exact_match': 0.8403361344537815, 'f1': 8.713247305983469}\n",
      "Training with lr=0.001 and epoch=8\n"
     ]
    },
    {
     "data": {
      "text/html": [
       "\n",
       "    <div>\n",
       "      \n",
       "      <progress value='63' max='63' style='width:300px; height:20px; vertical-align: middle;'></progress>\n",
       "      [63/63 00:25, Epoch 1/1]\n",
       "    </div>\n",
       "    <table border=\"1\" class=\"dataframe\">\n",
       "  <thead>\n",
       " <tr style=\"text-align: left;\">\n",
       "      <th>Step</th>\n",
       "      <th>Training Loss</th>\n",
       "    </tr>\n",
       "  </thead>\n",
       "  <tbody>\n",
       "  </tbody>\n",
       "</table><p>"
      ],
      "text/plain": [
       "<IPython.core.display.HTML object>"
      ]
     },
     "metadata": {},
     "output_type": "display_data"
    },
    {
     "data": {
      "text/html": [],
      "text/plain": [
       "<IPython.core.display.HTML object>"
      ]
     },
     "metadata": {},
     "output_type": "display_data"
    },
    {
     "data": {
      "application/vnd.jupyter.widget-view+json": {
       "model_id": "db1140dd5c4b4c80ac97425581d297a3",
       "version_major": 2,
       "version_minor": 0
      },
      "text/plain": [
       "  0%|          | 0/119 [00:00<?, ?it/s]"
      ]
     },
     "metadata": {},
     "output_type": "display_data"
    },
    {
     "name": "stdout",
     "output_type": "stream",
     "text": [
      "Validation for lr 0.001 epoch 8: \n",
      "{'exact_match': 0.0, 'f1': 3.512644032679751}\n"
     ]
    },
    {
     "data": {
      "text/html": [],
      "text/plain": [
       "<IPython.core.display.HTML object>"
      ]
     },
     "metadata": {},
     "output_type": "display_data"
    },
    {
     "data": {
      "application/vnd.jupyter.widget-view+json": {
       "model_id": "80946931fe1f496da873a4ae870cf4ad",
       "version_major": 2,
       "version_minor": 0
      },
      "text/plain": [
       "  0%|          | 0/119 [00:00<?, ?it/s]"
      ]
     },
     "metadata": {},
     "output_type": "display_data"
    },
    {
     "name": "stdout",
     "output_type": "stream",
     "text": [
      "Test for lr 0.001 epoch 8: \n",
      "{'exact_match': 0.0, 'f1': 5.928899267338938}\n",
      "Training with lr=0.001 and epoch=9\n"
     ]
    },
    {
     "data": {
      "text/html": [
       "\n",
       "    <div>\n",
       "      \n",
       "      <progress value='63' max='63' style='width:300px; height:20px; vertical-align: middle;'></progress>\n",
       "      [63/63 00:25, Epoch 1/1]\n",
       "    </div>\n",
       "    <table border=\"1\" class=\"dataframe\">\n",
       "  <thead>\n",
       " <tr style=\"text-align: left;\">\n",
       "      <th>Step</th>\n",
       "      <th>Training Loss</th>\n",
       "    </tr>\n",
       "  </thead>\n",
       "  <tbody>\n",
       "  </tbody>\n",
       "</table><p>"
      ],
      "text/plain": [
       "<IPython.core.display.HTML object>"
      ]
     },
     "metadata": {},
     "output_type": "display_data"
    },
    {
     "data": {
      "text/html": [],
      "text/plain": [
       "<IPython.core.display.HTML object>"
      ]
     },
     "metadata": {},
     "output_type": "display_data"
    },
    {
     "data": {
      "application/vnd.jupyter.widget-view+json": {
       "model_id": "bdc42b3dc1c2441aa2102960b36a9b88",
       "version_major": 2,
       "version_minor": 0
      },
      "text/plain": [
       "  0%|          | 0/119 [00:00<?, ?it/s]"
      ]
     },
     "metadata": {},
     "output_type": "display_data"
    },
    {
     "name": "stdout",
     "output_type": "stream",
     "text": [
      "Validation for lr 0.001 epoch 9: \n",
      "{'exact_match': 0.0, 'f1': 4.728390014770789}\n"
     ]
    },
    {
     "data": {
      "text/html": [],
      "text/plain": [
       "<IPython.core.display.HTML object>"
      ]
     },
     "metadata": {},
     "output_type": "display_data"
    },
    {
     "data": {
      "application/vnd.jupyter.widget-view+json": {
       "model_id": "0fb7a00890814d26a86ebe07615bcc7d",
       "version_major": 2,
       "version_minor": 0
      },
      "text/plain": [
       "  0%|          | 0/119 [00:00<?, ?it/s]"
      ]
     },
     "metadata": {},
     "output_type": "display_data"
    },
    {
     "name": "stdout",
     "output_type": "stream",
     "text": [
      "Test for lr 0.001 epoch 9: \n",
      "{'exact_match': 0.0, 'f1': 4.980320275074244}\n",
      "Training with lr=0.001 and epoch=10\n"
     ]
    },
    {
     "data": {
      "text/html": [
       "\n",
       "    <div>\n",
       "      \n",
       "      <progress value='63' max='63' style='width:300px; height:20px; vertical-align: middle;'></progress>\n",
       "      [63/63 00:25, Epoch 1/1]\n",
       "    </div>\n",
       "    <table border=\"1\" class=\"dataframe\">\n",
       "  <thead>\n",
       " <tr style=\"text-align: left;\">\n",
       "      <th>Step</th>\n",
       "      <th>Training Loss</th>\n",
       "    </tr>\n",
       "  </thead>\n",
       "  <tbody>\n",
       "  </tbody>\n",
       "</table><p>"
      ],
      "text/plain": [
       "<IPython.core.display.HTML object>"
      ]
     },
     "metadata": {},
     "output_type": "display_data"
    },
    {
     "data": {
      "text/html": [],
      "text/plain": [
       "<IPython.core.display.HTML object>"
      ]
     },
     "metadata": {},
     "output_type": "display_data"
    },
    {
     "data": {
      "application/vnd.jupyter.widget-view+json": {
       "model_id": "720a919f3bf14473ae3e3b0df92ffc31",
       "version_major": 2,
       "version_minor": 0
      },
      "text/plain": [
       "  0%|          | 0/119 [00:00<?, ?it/s]"
      ]
     },
     "metadata": {},
     "output_type": "display_data"
    },
    {
     "name": "stdout",
     "output_type": "stream",
     "text": [
      "Validation for lr 0.001 epoch 10: \n",
      "{'exact_match': 0.0, 'f1': 3.9143153007257}\n"
     ]
    },
    {
     "data": {
      "text/html": [],
      "text/plain": [
       "<IPython.core.display.HTML object>"
      ]
     },
     "metadata": {},
     "output_type": "display_data"
    },
    {
     "data": {
      "application/vnd.jupyter.widget-view+json": {
       "model_id": "ed046bed750844ff8453db0fb68fc97e",
       "version_major": 2,
       "version_minor": 0
      },
      "text/plain": [
       "  0%|          | 0/119 [00:00<?, ?it/s]"
      ]
     },
     "metadata": {},
     "output_type": "display_data"
    },
    {
     "name": "stdout",
     "output_type": "stream",
     "text": [
      "Test for lr 0.001 epoch 10: \n",
      "{'exact_match': 0.0, 'f1': 4.380576034431955}\n",
      "Training with lr=0.001 and epoch=11\n"
     ]
    },
    {
     "data": {
      "text/html": [
       "\n",
       "    <div>\n",
       "      \n",
       "      <progress value='63' max='63' style='width:300px; height:20px; vertical-align: middle;'></progress>\n",
       "      [63/63 00:25, Epoch 1/1]\n",
       "    </div>\n",
       "    <table border=\"1\" class=\"dataframe\">\n",
       "  <thead>\n",
       " <tr style=\"text-align: left;\">\n",
       "      <th>Step</th>\n",
       "      <th>Training Loss</th>\n",
       "    </tr>\n",
       "  </thead>\n",
       "  <tbody>\n",
       "  </tbody>\n",
       "</table><p>"
      ],
      "text/plain": [
       "<IPython.core.display.HTML object>"
      ]
     },
     "metadata": {},
     "output_type": "display_data"
    },
    {
     "data": {
      "text/html": [],
      "text/plain": [
       "<IPython.core.display.HTML object>"
      ]
     },
     "metadata": {},
     "output_type": "display_data"
    },
    {
     "data": {
      "application/vnd.jupyter.widget-view+json": {
       "model_id": "fe014fc60a084c12b01f4d3649424f36",
       "version_major": 2,
       "version_minor": 0
      },
      "text/plain": [
       "  0%|          | 0/119 [00:00<?, ?it/s]"
      ]
     },
     "metadata": {},
     "output_type": "display_data"
    },
    {
     "name": "stdout",
     "output_type": "stream",
     "text": [
      "Validation for lr 0.001 epoch 11: \n",
      "{'exact_match': 0.8403361344537815, 'f1': 6.792965508665168}\n"
     ]
    },
    {
     "data": {
      "text/html": [],
      "text/plain": [
       "<IPython.core.display.HTML object>"
      ]
     },
     "metadata": {},
     "output_type": "display_data"
    },
    {
     "data": {
      "application/vnd.jupyter.widget-view+json": {
       "model_id": "352545afa28840a49e972848a0a976fe",
       "version_major": 2,
       "version_minor": 0
      },
      "text/plain": [
       "  0%|          | 0/119 [00:00<?, ?it/s]"
      ]
     },
     "metadata": {},
     "output_type": "display_data"
    },
    {
     "name": "stdout",
     "output_type": "stream",
     "text": [
      "Test for lr 0.001 epoch 11: \n",
      "{'exact_match': 0.0, 'f1': 5.387090623864246}\n",
      "Training with lr=0.001 and epoch=12\n"
     ]
    },
    {
     "data": {
      "text/html": [
       "\n",
       "    <div>\n",
       "      \n",
       "      <progress value='63' max='63' style='width:300px; height:20px; vertical-align: middle;'></progress>\n",
       "      [63/63 00:25, Epoch 1/1]\n",
       "    </div>\n",
       "    <table border=\"1\" class=\"dataframe\">\n",
       "  <thead>\n",
       " <tr style=\"text-align: left;\">\n",
       "      <th>Step</th>\n",
       "      <th>Training Loss</th>\n",
       "    </tr>\n",
       "  </thead>\n",
       "  <tbody>\n",
       "  </tbody>\n",
       "</table><p>"
      ],
      "text/plain": [
       "<IPython.core.display.HTML object>"
      ]
     },
     "metadata": {},
     "output_type": "display_data"
    },
    {
     "data": {
      "text/html": [],
      "text/plain": [
       "<IPython.core.display.HTML object>"
      ]
     },
     "metadata": {},
     "output_type": "display_data"
    },
    {
     "data": {
      "application/vnd.jupyter.widget-view+json": {
       "model_id": "e5f22161bc354ecea5fe5ce9688bd5b5",
       "version_major": 2,
       "version_minor": 0
      },
      "text/plain": [
       "  0%|          | 0/119 [00:00<?, ?it/s]"
      ]
     },
     "metadata": {},
     "output_type": "display_data"
    },
    {
     "name": "stdout",
     "output_type": "stream",
     "text": [
      "Validation for lr 0.001 epoch 12: \n",
      "{'exact_match': 0.0, 'f1': 4.420671968802675}\n"
     ]
    },
    {
     "data": {
      "text/html": [],
      "text/plain": [
       "<IPython.core.display.HTML object>"
      ]
     },
     "metadata": {},
     "output_type": "display_data"
    },
    {
     "data": {
      "application/vnd.jupyter.widget-view+json": {
       "model_id": "5032f55693534ad29fed09721ee34098",
       "version_major": 2,
       "version_minor": 0
      },
      "text/plain": [
       "  0%|          | 0/119 [00:00<?, ?it/s]"
      ]
     },
     "metadata": {},
     "output_type": "display_data"
    },
    {
     "name": "stdout",
     "output_type": "stream",
     "text": [
      "Test for lr 0.001 epoch 12: \n",
      "{'exact_match': 0.0, 'f1': 4.65429705519634}\n",
      "Training with lr=0.001 and epoch=13\n"
     ]
    },
    {
     "data": {
      "text/html": [
       "\n",
       "    <div>\n",
       "      \n",
       "      <progress value='63' max='63' style='width:300px; height:20px; vertical-align: middle;'></progress>\n",
       "      [63/63 00:25, Epoch 1/1]\n",
       "    </div>\n",
       "    <table border=\"1\" class=\"dataframe\">\n",
       "  <thead>\n",
       " <tr style=\"text-align: left;\">\n",
       "      <th>Step</th>\n",
       "      <th>Training Loss</th>\n",
       "    </tr>\n",
       "  </thead>\n",
       "  <tbody>\n",
       "  </tbody>\n",
       "</table><p>"
      ],
      "text/plain": [
       "<IPython.core.display.HTML object>"
      ]
     },
     "metadata": {},
     "output_type": "display_data"
    },
    {
     "data": {
      "text/html": [],
      "text/plain": [
       "<IPython.core.display.HTML object>"
      ]
     },
     "metadata": {},
     "output_type": "display_data"
    },
    {
     "data": {
      "application/vnd.jupyter.widget-view+json": {
       "model_id": "ac29f4acddff4e1db99b35b13f0177eb",
       "version_major": 2,
       "version_minor": 0
      },
      "text/plain": [
       "  0%|          | 0/119 [00:00<?, ?it/s]"
      ]
     },
     "metadata": {},
     "output_type": "display_data"
    },
    {
     "name": "stdout",
     "output_type": "stream",
     "text": [
      "Validation for lr 0.001 epoch 13: \n",
      "{'exact_match': 0.0, 'f1': 5.174122575187389}\n"
     ]
    },
    {
     "data": {
      "text/html": [],
      "text/plain": [
       "<IPython.core.display.HTML object>"
      ]
     },
     "metadata": {},
     "output_type": "display_data"
    },
    {
     "data": {
      "application/vnd.jupyter.widget-view+json": {
       "model_id": "c93516b39780473ba5793fbb7314f11d",
       "version_major": 2,
       "version_minor": 0
      },
      "text/plain": [
       "  0%|          | 0/119 [00:00<?, ?it/s]"
      ]
     },
     "metadata": {},
     "output_type": "display_data"
    },
    {
     "name": "stdout",
     "output_type": "stream",
     "text": [
      "Test for lr 0.001 epoch 13: \n",
      "{'exact_match': 0.0, 'f1': 3.1695641968267645}\n",
      "Training with lr=0.001 and epoch=14\n"
     ]
    },
    {
     "data": {
      "text/html": [
       "\n",
       "    <div>\n",
       "      \n",
       "      <progress value='63' max='63' style='width:300px; height:20px; vertical-align: middle;'></progress>\n",
       "      [63/63 00:25, Epoch 1/1]\n",
       "    </div>\n",
       "    <table border=\"1\" class=\"dataframe\">\n",
       "  <thead>\n",
       " <tr style=\"text-align: left;\">\n",
       "      <th>Step</th>\n",
       "      <th>Training Loss</th>\n",
       "    </tr>\n",
       "  </thead>\n",
       "  <tbody>\n",
       "  </tbody>\n",
       "</table><p>"
      ],
      "text/plain": [
       "<IPython.core.display.HTML object>"
      ]
     },
     "metadata": {},
     "output_type": "display_data"
    },
    {
     "data": {
      "text/html": [],
      "text/plain": [
       "<IPython.core.display.HTML object>"
      ]
     },
     "metadata": {},
     "output_type": "display_data"
    },
    {
     "data": {
      "application/vnd.jupyter.widget-view+json": {
       "model_id": "832ecf4311094461a9f5a9087b1c7764",
       "version_major": 2,
       "version_minor": 0
      },
      "text/plain": [
       "  0%|          | 0/119 [00:00<?, ?it/s]"
      ]
     },
     "metadata": {},
     "output_type": "display_data"
    },
    {
     "name": "stdout",
     "output_type": "stream",
     "text": [
      "Validation for lr 0.001 epoch 14: \n",
      "{'exact_match': 0.0, 'f1': 4.618473580679418}\n"
     ]
    },
    {
     "data": {
      "text/html": [],
      "text/plain": [
       "<IPython.core.display.HTML object>"
      ]
     },
     "metadata": {},
     "output_type": "display_data"
    },
    {
     "data": {
      "application/vnd.jupyter.widget-view+json": {
       "model_id": "dd7faf925f81432ca1bfde000ed7f636",
       "version_major": 2,
       "version_minor": 0
      },
      "text/plain": [
       "  0%|          | 0/119 [00:00<?, ?it/s]"
      ]
     },
     "metadata": {},
     "output_type": "display_data"
    },
    {
     "name": "stdout",
     "output_type": "stream",
     "text": [
      "Test for lr 0.001 epoch 14: \n",
      "{'exact_match': 0.0, 'f1': 3.687871038585799}\n",
      "Training with lr=0.001 and epoch=15\n"
     ]
    },
    {
     "data": {
      "text/html": [
       "\n",
       "    <div>\n",
       "      \n",
       "      <progress value='63' max='63' style='width:300px; height:20px; vertical-align: middle;'></progress>\n",
       "      [63/63 00:25, Epoch 1/1]\n",
       "    </div>\n",
       "    <table border=\"1\" class=\"dataframe\">\n",
       "  <thead>\n",
       " <tr style=\"text-align: left;\">\n",
       "      <th>Step</th>\n",
       "      <th>Training Loss</th>\n",
       "    </tr>\n",
       "  </thead>\n",
       "  <tbody>\n",
       "  </tbody>\n",
       "</table><p>"
      ],
      "text/plain": [
       "<IPython.core.display.HTML object>"
      ]
     },
     "metadata": {},
     "output_type": "display_data"
    },
    {
     "data": {
      "text/html": [],
      "text/plain": [
       "<IPython.core.display.HTML object>"
      ]
     },
     "metadata": {},
     "output_type": "display_data"
    },
    {
     "data": {
      "application/vnd.jupyter.widget-view+json": {
       "model_id": "e9559e9451dc4617806ff798f06ec5c1",
       "version_major": 2,
       "version_minor": 0
      },
      "text/plain": [
       "  0%|          | 0/119 [00:00<?, ?it/s]"
      ]
     },
     "metadata": {},
     "output_type": "display_data"
    },
    {
     "name": "stdout",
     "output_type": "stream",
     "text": [
      "Validation for lr 0.001 epoch 15: \n",
      "{'exact_match': 0.0, 'f1': 4.839805960359808}\n"
     ]
    },
    {
     "data": {
      "text/html": [],
      "text/plain": [
       "<IPython.core.display.HTML object>"
      ]
     },
     "metadata": {},
     "output_type": "display_data"
    },
    {
     "data": {
      "application/vnd.jupyter.widget-view+json": {
       "model_id": "f0b3d9eec0784c54b30756589662eacd",
       "version_major": 2,
       "version_minor": 0
      },
      "text/plain": [
       "  0%|          | 0/119 [00:00<?, ?it/s]"
      ]
     },
     "metadata": {},
     "output_type": "display_data"
    },
    {
     "name": "stdout",
     "output_type": "stream",
     "text": [
      "Test for lr 0.001 epoch 15: \n",
      "{'exact_match': 0.8403361344537815, 'f1': 4.547590654009853}\n",
      "Training with lr=0.001 and epoch=16\n"
     ]
    },
    {
     "data": {
      "text/html": [
       "\n",
       "    <div>\n",
       "      \n",
       "      <progress value='63' max='63' style='width:300px; height:20px; vertical-align: middle;'></progress>\n",
       "      [63/63 00:25, Epoch 1/1]\n",
       "    </div>\n",
       "    <table border=\"1\" class=\"dataframe\">\n",
       "  <thead>\n",
       " <tr style=\"text-align: left;\">\n",
       "      <th>Step</th>\n",
       "      <th>Training Loss</th>\n",
       "    </tr>\n",
       "  </thead>\n",
       "  <tbody>\n",
       "  </tbody>\n",
       "</table><p>"
      ],
      "text/plain": [
       "<IPython.core.display.HTML object>"
      ]
     },
     "metadata": {},
     "output_type": "display_data"
    },
    {
     "data": {
      "text/html": [],
      "text/plain": [
       "<IPython.core.display.HTML object>"
      ]
     },
     "metadata": {},
     "output_type": "display_data"
    },
    {
     "data": {
      "application/vnd.jupyter.widget-view+json": {
       "model_id": "fdcec7722ff3455fbb24f4b3ed41dbdc",
       "version_major": 2,
       "version_minor": 0
      },
      "text/plain": [
       "  0%|          | 0/119 [00:00<?, ?it/s]"
      ]
     },
     "metadata": {},
     "output_type": "display_data"
    },
    {
     "name": "stdout",
     "output_type": "stream",
     "text": [
      "Validation for lr 0.001 epoch 16: \n",
      "{'exact_match': 0.0, 'f1': 3.9062885405292547}\n"
     ]
    },
    {
     "data": {
      "text/html": [],
      "text/plain": [
       "<IPython.core.display.HTML object>"
      ]
     },
     "metadata": {},
     "output_type": "display_data"
    },
    {
     "data": {
      "application/vnd.jupyter.widget-view+json": {
       "model_id": "d45f477d287447aa9e40a3cac45f89f4",
       "version_major": 2,
       "version_minor": 0
      },
      "text/plain": [
       "  0%|          | 0/119 [00:00<?, ?it/s]"
      ]
     },
     "metadata": {},
     "output_type": "display_data"
    },
    {
     "name": "stdout",
     "output_type": "stream",
     "text": [
      "Test for lr 0.001 epoch 16: \n",
      "{'exact_match': 0.0, 'f1': 3.7889120628671016}\n",
      "Training with lr=0.001 and epoch=17\n"
     ]
    },
    {
     "data": {
      "text/html": [
       "\n",
       "    <div>\n",
       "      \n",
       "      <progress value='63' max='63' style='width:300px; height:20px; vertical-align: middle;'></progress>\n",
       "      [63/63 00:25, Epoch 1/1]\n",
       "    </div>\n",
       "    <table border=\"1\" class=\"dataframe\">\n",
       "  <thead>\n",
       " <tr style=\"text-align: left;\">\n",
       "      <th>Step</th>\n",
       "      <th>Training Loss</th>\n",
       "    </tr>\n",
       "  </thead>\n",
       "  <tbody>\n",
       "  </tbody>\n",
       "</table><p>"
      ],
      "text/plain": [
       "<IPython.core.display.HTML object>"
      ]
     },
     "metadata": {},
     "output_type": "display_data"
    },
    {
     "data": {
      "text/html": [],
      "text/plain": [
       "<IPython.core.display.HTML object>"
      ]
     },
     "metadata": {},
     "output_type": "display_data"
    },
    {
     "data": {
      "application/vnd.jupyter.widget-view+json": {
       "model_id": "045b5e11515f4ded8f4dd6b76586ae03",
       "version_major": 2,
       "version_minor": 0
      },
      "text/plain": [
       "  0%|          | 0/119 [00:00<?, ?it/s]"
      ]
     },
     "metadata": {},
     "output_type": "display_data"
    },
    {
     "name": "stdout",
     "output_type": "stream",
     "text": [
      "Validation for lr 0.001 epoch 17: \n",
      "{'exact_match': 0.0, 'f1': 4.065536986233459}\n"
     ]
    },
    {
     "data": {
      "text/html": [],
      "text/plain": [
       "<IPython.core.display.HTML object>"
      ]
     },
     "metadata": {},
     "output_type": "display_data"
    },
    {
     "data": {
      "application/vnd.jupyter.widget-view+json": {
       "model_id": "950a26f076d04a26a3911bf657286d19",
       "version_major": 2,
       "version_minor": 0
      },
      "text/plain": [
       "  0%|          | 0/119 [00:00<?, ?it/s]"
      ]
     },
     "metadata": {},
     "output_type": "display_data"
    },
    {
     "name": "stdout",
     "output_type": "stream",
     "text": [
      "Test for lr 0.001 epoch 17: \n",
      "{'exact_match': 0.0, 'f1': 2.9791034940959977}\n",
      "Training with lr=0.001 and epoch=18\n"
     ]
    },
    {
     "data": {
      "text/html": [
       "\n",
       "    <div>\n",
       "      \n",
       "      <progress value='63' max='63' style='width:300px; height:20px; vertical-align: middle;'></progress>\n",
       "      [63/63 00:25, Epoch 1/1]\n",
       "    </div>\n",
       "    <table border=\"1\" class=\"dataframe\">\n",
       "  <thead>\n",
       " <tr style=\"text-align: left;\">\n",
       "      <th>Step</th>\n",
       "      <th>Training Loss</th>\n",
       "    </tr>\n",
       "  </thead>\n",
       "  <tbody>\n",
       "  </tbody>\n",
       "</table><p>"
      ],
      "text/plain": [
       "<IPython.core.display.HTML object>"
      ]
     },
     "metadata": {},
     "output_type": "display_data"
    },
    {
     "data": {
      "text/html": [],
      "text/plain": [
       "<IPython.core.display.HTML object>"
      ]
     },
     "metadata": {},
     "output_type": "display_data"
    },
    {
     "data": {
      "application/vnd.jupyter.widget-view+json": {
       "model_id": "35a50857582f4197a34068942092cdb6",
       "version_major": 2,
       "version_minor": 0
      },
      "text/plain": [
       "  0%|          | 0/119 [00:00<?, ?it/s]"
      ]
     },
     "metadata": {},
     "output_type": "display_data"
    },
    {
     "name": "stdout",
     "output_type": "stream",
     "text": [
      "Validation for lr 0.001 epoch 18: \n",
      "{'exact_match': 0.0, 'f1': 6.664240542693895}\n"
     ]
    },
    {
     "data": {
      "text/html": [],
      "text/plain": [
       "<IPython.core.display.HTML object>"
      ]
     },
     "metadata": {},
     "output_type": "display_data"
    },
    {
     "data": {
      "application/vnd.jupyter.widget-view+json": {
       "model_id": "020e435e5433414296b49ceefe772a59",
       "version_major": 2,
       "version_minor": 0
      },
      "text/plain": [
       "  0%|          | 0/119 [00:00<?, ?it/s]"
      ]
     },
     "metadata": {},
     "output_type": "display_data"
    },
    {
     "name": "stdout",
     "output_type": "stream",
     "text": [
      "Test for lr 0.001 epoch 18: \n",
      "{'exact_match': 0.0, 'f1': 4.870788771274647}\n",
      "Training with lr=0.001 and epoch=19\n"
     ]
    },
    {
     "data": {
      "text/html": [
       "\n",
       "    <div>\n",
       "      \n",
       "      <progress value='63' max='63' style='width:300px; height:20px; vertical-align: middle;'></progress>\n",
       "      [63/63 00:25, Epoch 1/1]\n",
       "    </div>\n",
       "    <table border=\"1\" class=\"dataframe\">\n",
       "  <thead>\n",
       " <tr style=\"text-align: left;\">\n",
       "      <th>Step</th>\n",
       "      <th>Training Loss</th>\n",
       "    </tr>\n",
       "  </thead>\n",
       "  <tbody>\n",
       "  </tbody>\n",
       "</table><p>"
      ],
      "text/plain": [
       "<IPython.core.display.HTML object>"
      ]
     },
     "metadata": {},
     "output_type": "display_data"
    },
    {
     "data": {
      "text/html": [],
      "text/plain": [
       "<IPython.core.display.HTML object>"
      ]
     },
     "metadata": {},
     "output_type": "display_data"
    },
    {
     "data": {
      "application/vnd.jupyter.widget-view+json": {
       "model_id": "52c61416940a407c92cb394bceacb576",
       "version_major": 2,
       "version_minor": 0
      },
      "text/plain": [
       "  0%|          | 0/119 [00:00<?, ?it/s]"
      ]
     },
     "metadata": {},
     "output_type": "display_data"
    },
    {
     "name": "stdout",
     "output_type": "stream",
     "text": [
      "Validation for lr 0.001 epoch 19: \n",
      "{'exact_match': 0.0, 'f1': 6.057433447043889}\n"
     ]
    },
    {
     "data": {
      "text/html": [],
      "text/plain": [
       "<IPython.core.display.HTML object>"
      ]
     },
     "metadata": {},
     "output_type": "display_data"
    },
    {
     "data": {
      "application/vnd.jupyter.widget-view+json": {
       "model_id": "cd43634c41a147bd8a806660d8375d17",
       "version_major": 2,
       "version_minor": 0
      },
      "text/plain": [
       "  0%|          | 0/119 [00:00<?, ?it/s]"
      ]
     },
     "metadata": {},
     "output_type": "display_data"
    },
    {
     "name": "stdout",
     "output_type": "stream",
     "text": [
      "Test for lr 0.001 epoch 19: \n",
      "{'exact_match': 0.0, 'f1': 4.28768918929846}\n",
      "Training with lr=0.001 and epoch=20\n"
     ]
    },
    {
     "data": {
      "text/html": [
       "\n",
       "    <div>\n",
       "      \n",
       "      <progress value='63' max='63' style='width:300px; height:20px; vertical-align: middle;'></progress>\n",
       "      [63/63 00:25, Epoch 1/1]\n",
       "    </div>\n",
       "    <table border=\"1\" class=\"dataframe\">\n",
       "  <thead>\n",
       " <tr style=\"text-align: left;\">\n",
       "      <th>Step</th>\n",
       "      <th>Training Loss</th>\n",
       "    </tr>\n",
       "  </thead>\n",
       "  <tbody>\n",
       "  </tbody>\n",
       "</table><p>"
      ],
      "text/plain": [
       "<IPython.core.display.HTML object>"
      ]
     },
     "metadata": {},
     "output_type": "display_data"
    },
    {
     "data": {
      "text/html": [],
      "text/plain": [
       "<IPython.core.display.HTML object>"
      ]
     },
     "metadata": {},
     "output_type": "display_data"
    },
    {
     "data": {
      "application/vnd.jupyter.widget-view+json": {
       "model_id": "ea58c4609f53470fa1f2a5b8b946733b",
       "version_major": 2,
       "version_minor": 0
      },
      "text/plain": [
       "  0%|          | 0/119 [00:00<?, ?it/s]"
      ]
     },
     "metadata": {},
     "output_type": "display_data"
    },
    {
     "name": "stdout",
     "output_type": "stream",
     "text": [
      "Validation for lr 0.001 epoch 20: \n",
      "{'exact_match': 0.8403361344537815, 'f1': 4.871125837824026}\n"
     ]
    },
    {
     "data": {
      "text/html": [],
      "text/plain": [
       "<IPython.core.display.HTML object>"
      ]
     },
     "metadata": {},
     "output_type": "display_data"
    },
    {
     "data": {
      "application/vnd.jupyter.widget-view+json": {
       "model_id": "38601bd7bd9f4f8fb8de03215d8dea15",
       "version_major": 2,
       "version_minor": 0
      },
      "text/plain": [
       "  0%|          | 0/119 [00:00<?, ?it/s]"
      ]
     },
     "metadata": {},
     "output_type": "display_data"
    },
    {
     "name": "stdout",
     "output_type": "stream",
     "text": [
      "Test for lr 0.001 epoch 20: \n",
      "{'exact_match': 0.0, 'f1': 5.3844005901533905}\n",
      "Training with lr=0.001 and epoch=21\n"
     ]
    },
    {
     "data": {
      "text/html": [
       "\n",
       "    <div>\n",
       "      \n",
       "      <progress value='63' max='63' style='width:300px; height:20px; vertical-align: middle;'></progress>\n",
       "      [63/63 00:25, Epoch 1/1]\n",
       "    </div>\n",
       "    <table border=\"1\" class=\"dataframe\">\n",
       "  <thead>\n",
       " <tr style=\"text-align: left;\">\n",
       "      <th>Step</th>\n",
       "      <th>Training Loss</th>\n",
       "    </tr>\n",
       "  </thead>\n",
       "  <tbody>\n",
       "  </tbody>\n",
       "</table><p>"
      ],
      "text/plain": [
       "<IPython.core.display.HTML object>"
      ]
     },
     "metadata": {},
     "output_type": "display_data"
    },
    {
     "data": {
      "text/html": [],
      "text/plain": [
       "<IPython.core.display.HTML object>"
      ]
     },
     "metadata": {},
     "output_type": "display_data"
    },
    {
     "data": {
      "application/vnd.jupyter.widget-view+json": {
       "model_id": "532dad7f422141a18596e2d58584e620",
       "version_major": 2,
       "version_minor": 0
      },
      "text/plain": [
       "  0%|          | 0/119 [00:00<?, ?it/s]"
      ]
     },
     "metadata": {},
     "output_type": "display_data"
    },
    {
     "name": "stdout",
     "output_type": "stream",
     "text": [
      "Validation for lr 0.001 epoch 21: \n",
      "{'exact_match': 0.8403361344537815, 'f1': 2.9087381710884204}\n"
     ]
    },
    {
     "data": {
      "text/html": [],
      "text/plain": [
       "<IPython.core.display.HTML object>"
      ]
     },
     "metadata": {},
     "output_type": "display_data"
    },
    {
     "data": {
      "application/vnd.jupyter.widget-view+json": {
       "model_id": "a221d62a44c945f3a2c28c3f9affd7f1",
       "version_major": 2,
       "version_minor": 0
      },
      "text/plain": [
       "  0%|          | 0/119 [00:00<?, ?it/s]"
      ]
     },
     "metadata": {},
     "output_type": "display_data"
    },
    {
     "name": "stdout",
     "output_type": "stream",
     "text": [
      "Test for lr 0.001 epoch 21: \n",
      "{'exact_match': 0.0, 'f1': 4.31702806100437}\n",
      "Training with lr=0.001 and epoch=22\n"
     ]
    },
    {
     "data": {
      "text/html": [
       "\n",
       "    <div>\n",
       "      \n",
       "      <progress value='63' max='63' style='width:300px; height:20px; vertical-align: middle;'></progress>\n",
       "      [63/63 00:25, Epoch 1/1]\n",
       "    </div>\n",
       "    <table border=\"1\" class=\"dataframe\">\n",
       "  <thead>\n",
       " <tr style=\"text-align: left;\">\n",
       "      <th>Step</th>\n",
       "      <th>Training Loss</th>\n",
       "    </tr>\n",
       "  </thead>\n",
       "  <tbody>\n",
       "  </tbody>\n",
       "</table><p>"
      ],
      "text/plain": [
       "<IPython.core.display.HTML object>"
      ]
     },
     "metadata": {},
     "output_type": "display_data"
    },
    {
     "data": {
      "text/html": [],
      "text/plain": [
       "<IPython.core.display.HTML object>"
      ]
     },
     "metadata": {},
     "output_type": "display_data"
    },
    {
     "data": {
      "application/vnd.jupyter.widget-view+json": {
       "model_id": "fe7416f46bd34d1aa3bc2d37b3624a9d",
       "version_major": 2,
       "version_minor": 0
      },
      "text/plain": [
       "  0%|          | 0/119 [00:00<?, ?it/s]"
      ]
     },
     "metadata": {},
     "output_type": "display_data"
    },
    {
     "name": "stdout",
     "output_type": "stream",
     "text": [
      "Validation for lr 0.001 epoch 22: \n",
      "{'exact_match': 0.0, 'f1': 3.5223623198609935}\n"
     ]
    },
    {
     "data": {
      "text/html": [],
      "text/plain": [
       "<IPython.core.display.HTML object>"
      ]
     },
     "metadata": {},
     "output_type": "display_data"
    },
    {
     "data": {
      "application/vnd.jupyter.widget-view+json": {
       "model_id": "a4b73e329b5841869fa63a35037c8f6d",
       "version_major": 2,
       "version_minor": 0
      },
      "text/plain": [
       "  0%|          | 0/119 [00:00<?, ?it/s]"
      ]
     },
     "metadata": {},
     "output_type": "display_data"
    },
    {
     "name": "stdout",
     "output_type": "stream",
     "text": [
      "Test for lr 0.001 epoch 22: \n",
      "{'exact_match': 0.0, 'f1': 3.4797547969722658}\n",
      "Training with lr=0.001 and epoch=23\n"
     ]
    },
    {
     "data": {
      "text/html": [
       "\n",
       "    <div>\n",
       "      \n",
       "      <progress value='63' max='63' style='width:300px; height:20px; vertical-align: middle;'></progress>\n",
       "      [63/63 00:25, Epoch 1/1]\n",
       "    </div>\n",
       "    <table border=\"1\" class=\"dataframe\">\n",
       "  <thead>\n",
       " <tr style=\"text-align: left;\">\n",
       "      <th>Step</th>\n",
       "      <th>Training Loss</th>\n",
       "    </tr>\n",
       "  </thead>\n",
       "  <tbody>\n",
       "  </tbody>\n",
       "</table><p>"
      ],
      "text/plain": [
       "<IPython.core.display.HTML object>"
      ]
     },
     "metadata": {},
     "output_type": "display_data"
    },
    {
     "data": {
      "text/html": [],
      "text/plain": [
       "<IPython.core.display.HTML object>"
      ]
     },
     "metadata": {},
     "output_type": "display_data"
    },
    {
     "data": {
      "application/vnd.jupyter.widget-view+json": {
       "model_id": "ff02c7de138e41b582e36e47627eb9da",
       "version_major": 2,
       "version_minor": 0
      },
      "text/plain": [
       "  0%|          | 0/119 [00:00<?, ?it/s]"
      ]
     },
     "metadata": {},
     "output_type": "display_data"
    },
    {
     "name": "stdout",
     "output_type": "stream",
     "text": [
      "Validation for lr 0.001 epoch 23: \n",
      "{'exact_match': 0.8403361344537815, 'f1': 4.983874454576372}\n"
     ]
    },
    {
     "data": {
      "text/html": [],
      "text/plain": [
       "<IPython.core.display.HTML object>"
      ]
     },
     "metadata": {},
     "output_type": "display_data"
    },
    {
     "data": {
      "application/vnd.jupyter.widget-view+json": {
       "model_id": "bf01032524cf418981311b9fa11c554b",
       "version_major": 2,
       "version_minor": 0
      },
      "text/plain": [
       "  0%|          | 0/119 [00:00<?, ?it/s]"
      ]
     },
     "metadata": {},
     "output_type": "display_data"
    },
    {
     "name": "stdout",
     "output_type": "stream",
     "text": [
      "Test for lr 0.001 epoch 23: \n",
      "{'exact_match': 0.0, 'f1': 4.541199480722201}\n",
      "Training with lr=0.001 and epoch=24\n"
     ]
    },
    {
     "data": {
      "text/html": [
       "\n",
       "    <div>\n",
       "      \n",
       "      <progress value='63' max='63' style='width:300px; height:20px; vertical-align: middle;'></progress>\n",
       "      [63/63 00:24, Epoch 1/1]\n",
       "    </div>\n",
       "    <table border=\"1\" class=\"dataframe\">\n",
       "  <thead>\n",
       " <tr style=\"text-align: left;\">\n",
       "      <th>Step</th>\n",
       "      <th>Training Loss</th>\n",
       "    </tr>\n",
       "  </thead>\n",
       "  <tbody>\n",
       "  </tbody>\n",
       "</table><p>"
      ],
      "text/plain": [
       "<IPython.core.display.HTML object>"
      ]
     },
     "metadata": {},
     "output_type": "display_data"
    },
    {
     "data": {
      "text/html": [],
      "text/plain": [
       "<IPython.core.display.HTML object>"
      ]
     },
     "metadata": {},
     "output_type": "display_data"
    },
    {
     "data": {
      "application/vnd.jupyter.widget-view+json": {
       "model_id": "77cdeb3f6c9a4bc8b4f83d65b3622836",
       "version_major": 2,
       "version_minor": 0
      },
      "text/plain": [
       "  0%|          | 0/119 [00:00<?, ?it/s]"
      ]
     },
     "metadata": {},
     "output_type": "display_data"
    },
    {
     "name": "stdout",
     "output_type": "stream",
     "text": [
      "Validation for lr 0.001 epoch 24: \n",
      "{'exact_match': 0.0, 'f1': 4.643973788531445}\n"
     ]
    },
    {
     "data": {
      "text/html": [],
      "text/plain": [
       "<IPython.core.display.HTML object>"
      ]
     },
     "metadata": {},
     "output_type": "display_data"
    },
    {
     "data": {
      "application/vnd.jupyter.widget-view+json": {
       "model_id": "2a91e37ec8cf49838e948362de2d0443",
       "version_major": 2,
       "version_minor": 0
      },
      "text/plain": [
       "  0%|          | 0/119 [00:00<?, ?it/s]"
      ]
     },
     "metadata": {},
     "output_type": "display_data"
    },
    {
     "name": "stdout",
     "output_type": "stream",
     "text": [
      "Test for lr 0.001 epoch 24: \n",
      "{'exact_match': 0.0, 'f1': 4.725251695461557}\n",
      "Training with lr=0.001 and epoch=25\n"
     ]
    },
    {
     "data": {
      "text/html": [
       "\n",
       "    <div>\n",
       "      \n",
       "      <progress value='63' max='63' style='width:300px; height:20px; vertical-align: middle;'></progress>\n",
       "      [63/63 00:25, Epoch 1/1]\n",
       "    </div>\n",
       "    <table border=\"1\" class=\"dataframe\">\n",
       "  <thead>\n",
       " <tr style=\"text-align: left;\">\n",
       "      <th>Step</th>\n",
       "      <th>Training Loss</th>\n",
       "    </tr>\n",
       "  </thead>\n",
       "  <tbody>\n",
       "  </tbody>\n",
       "</table><p>"
      ],
      "text/plain": [
       "<IPython.core.display.HTML object>"
      ]
     },
     "metadata": {},
     "output_type": "display_data"
    },
    {
     "data": {
      "text/html": [],
      "text/plain": [
       "<IPython.core.display.HTML object>"
      ]
     },
     "metadata": {},
     "output_type": "display_data"
    },
    {
     "data": {
      "application/vnd.jupyter.widget-view+json": {
       "model_id": "df6fbc7bed7940ccb0c0cf00515f8a62",
       "version_major": 2,
       "version_minor": 0
      },
      "text/plain": [
       "  0%|          | 0/119 [00:00<?, ?it/s]"
      ]
     },
     "metadata": {},
     "output_type": "display_data"
    },
    {
     "name": "stdout",
     "output_type": "stream",
     "text": [
      "Validation for lr 0.001 epoch 25: \n",
      "{'exact_match': 0.0, 'f1': 5.197276001377308}\n"
     ]
    },
    {
     "data": {
      "text/html": [],
      "text/plain": [
       "<IPython.core.display.HTML object>"
      ]
     },
     "metadata": {},
     "output_type": "display_data"
    },
    {
     "data": {
      "application/vnd.jupyter.widget-view+json": {
       "model_id": "23ad49d5c2c748768df4062e1249a744",
       "version_major": 2,
       "version_minor": 0
      },
      "text/plain": [
       "  0%|          | 0/119 [00:00<?, ?it/s]"
      ]
     },
     "metadata": {},
     "output_type": "display_data"
    },
    {
     "name": "stdout",
     "output_type": "stream",
     "text": [
      "Test for lr 0.001 epoch 25: \n",
      "{'exact_match': 0.0, 'f1': 5.803762012661726}\n",
      "Training with lr=0.001 and epoch=26\n"
     ]
    },
    {
     "data": {
      "text/html": [
       "\n",
       "    <div>\n",
       "      \n",
       "      <progress value='63' max='63' style='width:300px; height:20px; vertical-align: middle;'></progress>\n",
       "      [63/63 00:25, Epoch 1/1]\n",
       "    </div>\n",
       "    <table border=\"1\" class=\"dataframe\">\n",
       "  <thead>\n",
       " <tr style=\"text-align: left;\">\n",
       "      <th>Step</th>\n",
       "      <th>Training Loss</th>\n",
       "    </tr>\n",
       "  </thead>\n",
       "  <tbody>\n",
       "  </tbody>\n",
       "</table><p>"
      ],
      "text/plain": [
       "<IPython.core.display.HTML object>"
      ]
     },
     "metadata": {},
     "output_type": "display_data"
    },
    {
     "data": {
      "text/html": [],
      "text/plain": [
       "<IPython.core.display.HTML object>"
      ]
     },
     "metadata": {},
     "output_type": "display_data"
    },
    {
     "data": {
      "application/vnd.jupyter.widget-view+json": {
       "model_id": "42d7343fb4054f4ab5d4cae0b9342cba",
       "version_major": 2,
       "version_minor": 0
      },
      "text/plain": [
       "  0%|          | 0/119 [00:00<?, ?it/s]"
      ]
     },
     "metadata": {},
     "output_type": "display_data"
    },
    {
     "name": "stdout",
     "output_type": "stream",
     "text": [
      "Validation for lr 0.001 epoch 26: \n",
      "{'exact_match': 0.0, 'f1': 3.9168397669027524}\n"
     ]
    },
    {
     "data": {
      "text/html": [],
      "text/plain": [
       "<IPython.core.display.HTML object>"
      ]
     },
     "metadata": {},
     "output_type": "display_data"
    },
    {
     "data": {
      "application/vnd.jupyter.widget-view+json": {
       "model_id": "35fbdc758af8485ea7422247701e4b40",
       "version_major": 2,
       "version_minor": 0
      },
      "text/plain": [
       "  0%|          | 0/119 [00:00<?, ?it/s]"
      ]
     },
     "metadata": {},
     "output_type": "display_data"
    },
    {
     "name": "stdout",
     "output_type": "stream",
     "text": [
      "Test for lr 0.001 epoch 26: \n",
      "{'exact_match': 0.0, 'f1': 3.4720713103360796}\n",
      "Training with lr=0.001 and epoch=27\n"
     ]
    },
    {
     "data": {
      "text/html": [
       "\n",
       "    <div>\n",
       "      \n",
       "      <progress value='63' max='63' style='width:300px; height:20px; vertical-align: middle;'></progress>\n",
       "      [63/63 00:25, Epoch 1/1]\n",
       "    </div>\n",
       "    <table border=\"1\" class=\"dataframe\">\n",
       "  <thead>\n",
       " <tr style=\"text-align: left;\">\n",
       "      <th>Step</th>\n",
       "      <th>Training Loss</th>\n",
       "    </tr>\n",
       "  </thead>\n",
       "  <tbody>\n",
       "  </tbody>\n",
       "</table><p>"
      ],
      "text/plain": [
       "<IPython.core.display.HTML object>"
      ]
     },
     "metadata": {},
     "output_type": "display_data"
    },
    {
     "data": {
      "text/html": [],
      "text/plain": [
       "<IPython.core.display.HTML object>"
      ]
     },
     "metadata": {},
     "output_type": "display_data"
    },
    {
     "data": {
      "application/vnd.jupyter.widget-view+json": {
       "model_id": "678780256f8140b19db631054b71c7fe",
       "version_major": 2,
       "version_minor": 0
      },
      "text/plain": [
       "  0%|          | 0/119 [00:00<?, ?it/s]"
      ]
     },
     "metadata": {},
     "output_type": "display_data"
    },
    {
     "name": "stdout",
     "output_type": "stream",
     "text": [
      "Validation for lr 0.001 epoch 27: \n",
      "{'exact_match': 0.0, 'f1': 5.128559401316285}\n"
     ]
    },
    {
     "data": {
      "text/html": [],
      "text/plain": [
       "<IPython.core.display.HTML object>"
      ]
     },
     "metadata": {},
     "output_type": "display_data"
    },
    {
     "data": {
      "application/vnd.jupyter.widget-view+json": {
       "model_id": "f164c9e89e8c4513b6c22e5402d587c4",
       "version_major": 2,
       "version_minor": 0
      },
      "text/plain": [
       "  0%|          | 0/119 [00:00<?, ?it/s]"
      ]
     },
     "metadata": {},
     "output_type": "display_data"
    },
    {
     "name": "stdout",
     "output_type": "stream",
     "text": [
      "Test for lr 0.001 epoch 27: \n",
      "{'exact_match': 0.0, 'f1': 3.6532365048989086}\n",
      "Training with lr=0.001 and epoch=28\n"
     ]
    },
    {
     "data": {
      "text/html": [
       "\n",
       "    <div>\n",
       "      \n",
       "      <progress value='63' max='63' style='width:300px; height:20px; vertical-align: middle;'></progress>\n",
       "      [63/63 00:25, Epoch 1/1]\n",
       "    </div>\n",
       "    <table border=\"1\" class=\"dataframe\">\n",
       "  <thead>\n",
       " <tr style=\"text-align: left;\">\n",
       "      <th>Step</th>\n",
       "      <th>Training Loss</th>\n",
       "    </tr>\n",
       "  </thead>\n",
       "  <tbody>\n",
       "  </tbody>\n",
       "</table><p>"
      ],
      "text/plain": [
       "<IPython.core.display.HTML object>"
      ]
     },
     "metadata": {},
     "output_type": "display_data"
    },
    {
     "data": {
      "text/html": [],
      "text/plain": [
       "<IPython.core.display.HTML object>"
      ]
     },
     "metadata": {},
     "output_type": "display_data"
    },
    {
     "data": {
      "application/vnd.jupyter.widget-view+json": {
       "model_id": "e7fd1f47f6424c9fa9f916b9e1eab334",
       "version_major": 2,
       "version_minor": 0
      },
      "text/plain": [
       "  0%|          | 0/119 [00:00<?, ?it/s]"
      ]
     },
     "metadata": {},
     "output_type": "display_data"
    },
    {
     "name": "stdout",
     "output_type": "stream",
     "text": [
      "Validation for lr 0.001 epoch 28: \n",
      "{'exact_match': 0.0, 'f1': 4.796044273910023}\n"
     ]
    },
    {
     "data": {
      "text/html": [],
      "text/plain": [
       "<IPython.core.display.HTML object>"
      ]
     },
     "metadata": {},
     "output_type": "display_data"
    },
    {
     "data": {
      "application/vnd.jupyter.widget-view+json": {
       "model_id": "f4977767dc0e4f70bf08ad800fd0bd77",
       "version_major": 2,
       "version_minor": 0
      },
      "text/plain": [
       "  0%|          | 0/119 [00:00<?, ?it/s]"
      ]
     },
     "metadata": {},
     "output_type": "display_data"
    },
    {
     "name": "stdout",
     "output_type": "stream",
     "text": [
      "Test for lr 0.001 epoch 28: \n",
      "{'exact_match': 0.0, 'f1': 5.674741381901687}\n",
      "Training with lr=0.001 and epoch=29\n"
     ]
    },
    {
     "data": {
      "text/html": [
       "\n",
       "    <div>\n",
       "      \n",
       "      <progress value='63' max='63' style='width:300px; height:20px; vertical-align: middle;'></progress>\n",
       "      [63/63 00:25, Epoch 1/1]\n",
       "    </div>\n",
       "    <table border=\"1\" class=\"dataframe\">\n",
       "  <thead>\n",
       " <tr style=\"text-align: left;\">\n",
       "      <th>Step</th>\n",
       "      <th>Training Loss</th>\n",
       "    </tr>\n",
       "  </thead>\n",
       "  <tbody>\n",
       "  </tbody>\n",
       "</table><p>"
      ],
      "text/plain": [
       "<IPython.core.display.HTML object>"
      ]
     },
     "metadata": {},
     "output_type": "display_data"
    },
    {
     "data": {
      "text/html": [],
      "text/plain": [
       "<IPython.core.display.HTML object>"
      ]
     },
     "metadata": {},
     "output_type": "display_data"
    },
    {
     "data": {
      "application/vnd.jupyter.widget-view+json": {
       "model_id": "d659199b79bc400e90394b1ca820d8a0",
       "version_major": 2,
       "version_minor": 0
      },
      "text/plain": [
       "  0%|          | 0/119 [00:00<?, ?it/s]"
      ]
     },
     "metadata": {},
     "output_type": "display_data"
    },
    {
     "name": "stdout",
     "output_type": "stream",
     "text": [
      "Validation for lr 0.001 epoch 29: \n",
      "{'exact_match': 0.0, 'f1': 3.7167308184410137}\n"
     ]
    },
    {
     "data": {
      "text/html": [],
      "text/plain": [
       "<IPython.core.display.HTML object>"
      ]
     },
     "metadata": {},
     "output_type": "display_data"
    },
    {
     "data": {
      "application/vnd.jupyter.widget-view+json": {
       "model_id": "7108f3cda7534d89bc18e1aac5f39d65",
       "version_major": 2,
       "version_minor": 0
      },
      "text/plain": [
       "  0%|          | 0/119 [00:00<?, ?it/s]"
      ]
     },
     "metadata": {},
     "output_type": "display_data"
    },
    {
     "name": "stdout",
     "output_type": "stream",
     "text": [
      "Test for lr 0.001 epoch 29: \n",
      "{'exact_match': 0.8403361344537815, 'f1': 4.529963354639265}\n",
      "Training with lr=0.001 and epoch=30\n"
     ]
    },
    {
     "data": {
      "text/html": [
       "\n",
       "    <div>\n",
       "      \n",
       "      <progress value='63' max='63' style='width:300px; height:20px; vertical-align: middle;'></progress>\n",
       "      [63/63 00:25, Epoch 1/1]\n",
       "    </div>\n",
       "    <table border=\"1\" class=\"dataframe\">\n",
       "  <thead>\n",
       " <tr style=\"text-align: left;\">\n",
       "      <th>Step</th>\n",
       "      <th>Training Loss</th>\n",
       "    </tr>\n",
       "  </thead>\n",
       "  <tbody>\n",
       "  </tbody>\n",
       "</table><p>"
      ],
      "text/plain": [
       "<IPython.core.display.HTML object>"
      ]
     },
     "metadata": {},
     "output_type": "display_data"
    },
    {
     "data": {
      "text/html": [],
      "text/plain": [
       "<IPython.core.display.HTML object>"
      ]
     },
     "metadata": {},
     "output_type": "display_data"
    },
    {
     "data": {
      "application/vnd.jupyter.widget-view+json": {
       "model_id": "693a1b26fa1e4bd788c73cbe78d1d4d8",
       "version_major": 2,
       "version_minor": 0
      },
      "text/plain": [
       "  0%|          | 0/119 [00:00<?, ?it/s]"
      ]
     },
     "metadata": {},
     "output_type": "display_data"
    },
    {
     "name": "stdout",
     "output_type": "stream",
     "text": [
      "Validation for lr 0.001 epoch 30: \n",
      "{'exact_match': 0.0, 'f1': 5.3758797352737036}\n"
     ]
    },
    {
     "data": {
      "text/html": [],
      "text/plain": [
       "<IPython.core.display.HTML object>"
      ]
     },
     "metadata": {},
     "output_type": "display_data"
    },
    {
     "data": {
      "application/vnd.jupyter.widget-view+json": {
       "model_id": "59ef961d278f42538da001dedbfc930f",
       "version_major": 2,
       "version_minor": 0
      },
      "text/plain": [
       "  0%|          | 0/119 [00:00<?, ?it/s]"
      ]
     },
     "metadata": {},
     "output_type": "display_data"
    },
    {
     "name": "stdout",
     "output_type": "stream",
     "text": [
      "Test for lr 0.001 epoch 30: \n",
      "{'exact_match': 0.0, 'f1': 3.205213227415222}\n",
      "Training with lr=0.001 and epoch=31\n"
     ]
    },
    {
     "data": {
      "text/html": [
       "\n",
       "    <div>\n",
       "      \n",
       "      <progress value='63' max='63' style='width:300px; height:20px; vertical-align: middle;'></progress>\n",
       "      [63/63 00:25, Epoch 1/1]\n",
       "    </div>\n",
       "    <table border=\"1\" class=\"dataframe\">\n",
       "  <thead>\n",
       " <tr style=\"text-align: left;\">\n",
       "      <th>Step</th>\n",
       "      <th>Training Loss</th>\n",
       "    </tr>\n",
       "  </thead>\n",
       "  <tbody>\n",
       "  </tbody>\n",
       "</table><p>"
      ],
      "text/plain": [
       "<IPython.core.display.HTML object>"
      ]
     },
     "metadata": {},
     "output_type": "display_data"
    },
    {
     "data": {
      "text/html": [],
      "text/plain": [
       "<IPython.core.display.HTML object>"
      ]
     },
     "metadata": {},
     "output_type": "display_data"
    },
    {
     "data": {
      "application/vnd.jupyter.widget-view+json": {
       "model_id": "77200e0e347a4bcab4d6ebd3e7ff8fc4",
       "version_major": 2,
       "version_minor": 0
      },
      "text/plain": [
       "  0%|          | 0/119 [00:00<?, ?it/s]"
      ]
     },
     "metadata": {},
     "output_type": "display_data"
    },
    {
     "name": "stdout",
     "output_type": "stream",
     "text": [
      "Validation for lr 0.001 epoch 31: \n",
      "{'exact_match': 0.0, 'f1': 5.507876100555045}\n"
     ]
    },
    {
     "data": {
      "text/html": [],
      "text/plain": [
       "<IPython.core.display.HTML object>"
      ]
     },
     "metadata": {},
     "output_type": "display_data"
    },
    {
     "data": {
      "application/vnd.jupyter.widget-view+json": {
       "model_id": "8924a8eb83464897b35f2bfb6e7da444",
       "version_major": 2,
       "version_minor": 0
      },
      "text/plain": [
       "  0%|          | 0/119 [00:00<?, ?it/s]"
      ]
     },
     "metadata": {},
     "output_type": "display_data"
    },
    {
     "name": "stdout",
     "output_type": "stream",
     "text": [
      "Test for lr 0.001 epoch 31: \n",
      "{'exact_match': 0.0, 'f1': 3.3310342505841994}\n",
      "Training with lr=0.001 and epoch=32\n"
     ]
    },
    {
     "data": {
      "text/html": [
       "\n",
       "    <div>\n",
       "      \n",
       "      <progress value='63' max='63' style='width:300px; height:20px; vertical-align: middle;'></progress>\n",
       "      [63/63 00:24, Epoch 1/1]\n",
       "    </div>\n",
       "    <table border=\"1\" class=\"dataframe\">\n",
       "  <thead>\n",
       " <tr style=\"text-align: left;\">\n",
       "      <th>Step</th>\n",
       "      <th>Training Loss</th>\n",
       "    </tr>\n",
       "  </thead>\n",
       "  <tbody>\n",
       "  </tbody>\n",
       "</table><p>"
      ],
      "text/plain": [
       "<IPython.core.display.HTML object>"
      ]
     },
     "metadata": {},
     "output_type": "display_data"
    },
    {
     "data": {
      "text/html": [],
      "text/plain": [
       "<IPython.core.display.HTML object>"
      ]
     },
     "metadata": {},
     "output_type": "display_data"
    },
    {
     "data": {
      "application/vnd.jupyter.widget-view+json": {
       "model_id": "b4ed7164c9ef4f2fb62aba8085fd52af",
       "version_major": 2,
       "version_minor": 0
      },
      "text/plain": [
       "  0%|          | 0/119 [00:00<?, ?it/s]"
      ]
     },
     "metadata": {},
     "output_type": "display_data"
    },
    {
     "name": "stdout",
     "output_type": "stream",
     "text": [
      "Validation for lr 0.001 epoch 32: \n",
      "{'exact_match': 0.0, 'f1': 5.937799913901669}\n"
     ]
    },
    {
     "data": {
      "text/html": [],
      "text/plain": [
       "<IPython.core.display.HTML object>"
      ]
     },
     "metadata": {},
     "output_type": "display_data"
    },
    {
     "data": {
      "application/vnd.jupyter.widget-view+json": {
       "model_id": "ba62f2e330f74917b175fa18b9250c93",
       "version_major": 2,
       "version_minor": 0
      },
      "text/plain": [
       "  0%|          | 0/119 [00:00<?, ?it/s]"
      ]
     },
     "metadata": {},
     "output_type": "display_data"
    },
    {
     "name": "stderr",
     "output_type": "stream",
     "text": [
      "Some weights of DistilBertForQuestionAnswering were not initialized from the model checkpoint at racai/distilbert-base-romanian-cased and are newly initialized: ['qa_outputs.bias', 'qa_outputs.weight']\n",
      "You should probably TRAIN this model on a down-stream task to be able to use it for predictions and inference.\n"
     ]
    },
    {
     "name": "stdout",
     "output_type": "stream",
     "text": [
      "Test for lr 0.001 epoch 32: \n",
      "{'exact_match': 0.0, 'f1': 2.5097009195477864}\n",
      "Training with lr=1e-05 and epoch=1\n"
     ]
    },
    {
     "data": {
      "text/html": [
       "\n",
       "    <div>\n",
       "      \n",
       "      <progress value='63' max='63' style='width:300px; height:20px; vertical-align: middle;'></progress>\n",
       "      [63/63 00:25, Epoch 1/1]\n",
       "    </div>\n",
       "    <table border=\"1\" class=\"dataframe\">\n",
       "  <thead>\n",
       " <tr style=\"text-align: left;\">\n",
       "      <th>Step</th>\n",
       "      <th>Training Loss</th>\n",
       "    </tr>\n",
       "  </thead>\n",
       "  <tbody>\n",
       "  </tbody>\n",
       "</table><p>"
      ],
      "text/plain": [
       "<IPython.core.display.HTML object>"
      ]
     },
     "metadata": {},
     "output_type": "display_data"
    },
    {
     "data": {
      "text/html": [],
      "text/plain": [
       "<IPython.core.display.HTML object>"
      ]
     },
     "metadata": {},
     "output_type": "display_data"
    },
    {
     "data": {
      "application/vnd.jupyter.widget-view+json": {
       "model_id": "0d80611e8e3949ea942b032b4a0935c7",
       "version_major": 2,
       "version_minor": 0
      },
      "text/plain": [
       "  0%|          | 0/119 [00:00<?, ?it/s]"
      ]
     },
     "metadata": {},
     "output_type": "display_data"
    },
    {
     "name": "stdout",
     "output_type": "stream",
     "text": [
      "Validation for lr 1e-05 epoch 1: \n",
      "{'exact_match': 0.0, 'f1': 5.7434709294087325}\n"
     ]
    },
    {
     "data": {
      "text/html": [],
      "text/plain": [
       "<IPython.core.display.HTML object>"
      ]
     },
     "metadata": {},
     "output_type": "display_data"
    },
    {
     "data": {
      "application/vnd.jupyter.widget-view+json": {
       "model_id": "18cbe287cc644550911c86e817adcb3b",
       "version_major": 2,
       "version_minor": 0
      },
      "text/plain": [
       "  0%|          | 0/119 [00:00<?, ?it/s]"
      ]
     },
     "metadata": {},
     "output_type": "display_data"
    },
    {
     "name": "stdout",
     "output_type": "stream",
     "text": [
      "Test for lr 1e-05 epoch 1: \n",
      "{'exact_match': 0.8403361344537815, 'f1': 6.2287461097296895}\n",
      "Training with lr=1e-05 and epoch=2\n"
     ]
    },
    {
     "data": {
      "text/html": [
       "\n",
       "    <div>\n",
       "      \n",
       "      <progress value='63' max='63' style='width:300px; height:20px; vertical-align: middle;'></progress>\n",
       "      [63/63 00:25, Epoch 1/1]\n",
       "    </div>\n",
       "    <table border=\"1\" class=\"dataframe\">\n",
       "  <thead>\n",
       " <tr style=\"text-align: left;\">\n",
       "      <th>Step</th>\n",
       "      <th>Training Loss</th>\n",
       "    </tr>\n",
       "  </thead>\n",
       "  <tbody>\n",
       "  </tbody>\n",
       "</table><p>"
      ],
      "text/plain": [
       "<IPython.core.display.HTML object>"
      ]
     },
     "metadata": {},
     "output_type": "display_data"
    },
    {
     "data": {
      "text/html": [],
      "text/plain": [
       "<IPython.core.display.HTML object>"
      ]
     },
     "metadata": {},
     "output_type": "display_data"
    },
    {
     "data": {
      "application/vnd.jupyter.widget-view+json": {
       "model_id": "8158616e72314a05ab5d1d3514bb0bf9",
       "version_major": 2,
       "version_minor": 0
      },
      "text/plain": [
       "  0%|          | 0/119 [00:00<?, ?it/s]"
      ]
     },
     "metadata": {},
     "output_type": "display_data"
    },
    {
     "name": "stdout",
     "output_type": "stream",
     "text": [
      "Validation for lr 1e-05 epoch 2: \n",
      "{'exact_match': 2.5210084033613445, 'f1': 7.276661288558949}\n"
     ]
    },
    {
     "data": {
      "text/html": [],
      "text/plain": [
       "<IPython.core.display.HTML object>"
      ]
     },
     "metadata": {},
     "output_type": "display_data"
    },
    {
     "data": {
      "application/vnd.jupyter.widget-view+json": {
       "model_id": "7be22fc149f64e03a45a7ab094f9a6b2",
       "version_major": 2,
       "version_minor": 0
      },
      "text/plain": [
       "  0%|          | 0/119 [00:00<?, ?it/s]"
      ]
     },
     "metadata": {},
     "output_type": "display_data"
    },
    {
     "name": "stdout",
     "output_type": "stream",
     "text": [
      "Test for lr 1e-05 epoch 2: \n",
      "{'exact_match': 0.8403361344537815, 'f1': 6.762797029270345}\n",
      "Training with lr=1e-05 and epoch=3\n"
     ]
    },
    {
     "data": {
      "text/html": [
       "\n",
       "    <div>\n",
       "      \n",
       "      <progress value='63' max='63' style='width:300px; height:20px; vertical-align: middle;'></progress>\n",
       "      [63/63 00:25, Epoch 1/1]\n",
       "    </div>\n",
       "    <table border=\"1\" class=\"dataframe\">\n",
       "  <thead>\n",
       " <tr style=\"text-align: left;\">\n",
       "      <th>Step</th>\n",
       "      <th>Training Loss</th>\n",
       "    </tr>\n",
       "  </thead>\n",
       "  <tbody>\n",
       "  </tbody>\n",
       "</table><p>"
      ],
      "text/plain": [
       "<IPython.core.display.HTML object>"
      ]
     },
     "metadata": {},
     "output_type": "display_data"
    },
    {
     "data": {
      "text/html": [],
      "text/plain": [
       "<IPython.core.display.HTML object>"
      ]
     },
     "metadata": {},
     "output_type": "display_data"
    },
    {
     "data": {
      "application/vnd.jupyter.widget-view+json": {
       "model_id": "2777e2212a4c42448c71569c146411ae",
       "version_major": 2,
       "version_minor": 0
      },
      "text/plain": [
       "  0%|          | 0/119 [00:00<?, ?it/s]"
      ]
     },
     "metadata": {},
     "output_type": "display_data"
    },
    {
     "name": "stdout",
     "output_type": "stream",
     "text": [
      "Validation for lr 1e-05 epoch 3: \n",
      "{'exact_match': 2.5210084033613445, 'f1': 8.319637549728347}\n"
     ]
    },
    {
     "data": {
      "text/html": [],
      "text/plain": [
       "<IPython.core.display.HTML object>"
      ]
     },
     "metadata": {},
     "output_type": "display_data"
    },
    {
     "data": {
      "application/vnd.jupyter.widget-view+json": {
       "model_id": "545521229d874d3686b70620bfc2836f",
       "version_major": 2,
       "version_minor": 0
      },
      "text/plain": [
       "  0%|          | 0/119 [00:00<?, ?it/s]"
      ]
     },
     "metadata": {},
     "output_type": "display_data"
    },
    {
     "name": "stdout",
     "output_type": "stream",
     "text": [
      "Test for lr 1e-05 epoch 3: \n",
      "{'exact_match': 1.680672268907563, 'f1': 7.5460852390096305}\n",
      "Training with lr=1e-05 and epoch=4\n"
     ]
    },
    {
     "data": {
      "text/html": [
       "\n",
       "    <div>\n",
       "      \n",
       "      <progress value='63' max='63' style='width:300px; height:20px; vertical-align: middle;'></progress>\n",
       "      [63/63 00:25, Epoch 1/1]\n",
       "    </div>\n",
       "    <table border=\"1\" class=\"dataframe\">\n",
       "  <thead>\n",
       " <tr style=\"text-align: left;\">\n",
       "      <th>Step</th>\n",
       "      <th>Training Loss</th>\n",
       "    </tr>\n",
       "  </thead>\n",
       "  <tbody>\n",
       "  </tbody>\n",
       "</table><p>"
      ],
      "text/plain": [
       "<IPython.core.display.HTML object>"
      ]
     },
     "metadata": {},
     "output_type": "display_data"
    },
    {
     "data": {
      "text/html": [],
      "text/plain": [
       "<IPython.core.display.HTML object>"
      ]
     },
     "metadata": {},
     "output_type": "display_data"
    },
    {
     "data": {
      "application/vnd.jupyter.widget-view+json": {
       "model_id": "258198f1ef8249e2bca3d7aa22f00d54",
       "version_major": 2,
       "version_minor": 0
      },
      "text/plain": [
       "  0%|          | 0/119 [00:00<?, ?it/s]"
      ]
     },
     "metadata": {},
     "output_type": "display_data"
    },
    {
     "name": "stdout",
     "output_type": "stream",
     "text": [
      "Validation for lr 1e-05 epoch 4: \n",
      "{'exact_match': 1.680672268907563, 'f1': 9.965356554528446}\n"
     ]
    },
    {
     "data": {
      "text/html": [],
      "text/plain": [
       "<IPython.core.display.HTML object>"
      ]
     },
     "metadata": {},
     "output_type": "display_data"
    },
    {
     "data": {
      "application/vnd.jupyter.widget-view+json": {
       "model_id": "2dd3a71a291c42a7906233bdf8002b71",
       "version_major": 2,
       "version_minor": 0
      },
      "text/plain": [
       "  0%|          | 0/119 [00:00<?, ?it/s]"
      ]
     },
     "metadata": {},
     "output_type": "display_data"
    },
    {
     "name": "stdout",
     "output_type": "stream",
     "text": [
      "Test for lr 1e-05 epoch 4: \n",
      "{'exact_match': 2.5210084033613445, 'f1': 8.225122889000879}\n",
      "Training with lr=1e-05 and epoch=5\n"
     ]
    },
    {
     "data": {
      "text/html": [
       "\n",
       "    <div>\n",
       "      \n",
       "      <progress value='63' max='63' style='width:300px; height:20px; vertical-align: middle;'></progress>\n",
       "      [63/63 00:25, Epoch 1/1]\n",
       "    </div>\n",
       "    <table border=\"1\" class=\"dataframe\">\n",
       "  <thead>\n",
       " <tr style=\"text-align: left;\">\n",
       "      <th>Step</th>\n",
       "      <th>Training Loss</th>\n",
       "    </tr>\n",
       "  </thead>\n",
       "  <tbody>\n",
       "  </tbody>\n",
       "</table><p>"
      ],
      "text/plain": [
       "<IPython.core.display.HTML object>"
      ]
     },
     "metadata": {},
     "output_type": "display_data"
    },
    {
     "data": {
      "text/html": [],
      "text/plain": [
       "<IPython.core.display.HTML object>"
      ]
     },
     "metadata": {},
     "output_type": "display_data"
    },
    {
     "data": {
      "application/vnd.jupyter.widget-view+json": {
       "model_id": "6b8964c9ea7a487fba57e88e33013496",
       "version_major": 2,
       "version_minor": 0
      },
      "text/plain": [
       "  0%|          | 0/119 [00:00<?, ?it/s]"
      ]
     },
     "metadata": {},
     "output_type": "display_data"
    },
    {
     "name": "stdout",
     "output_type": "stream",
     "text": [
      "Validation for lr 1e-05 epoch 5: \n",
      "{'exact_match': 1.680672268907563, 'f1': 8.722326401723857}\n"
     ]
    },
    {
     "data": {
      "text/html": [],
      "text/plain": [
       "<IPython.core.display.HTML object>"
      ]
     },
     "metadata": {},
     "output_type": "display_data"
    },
    {
     "data": {
      "application/vnd.jupyter.widget-view+json": {
       "model_id": "5d78a60cf16c424392d0a475509bc269",
       "version_major": 2,
       "version_minor": 0
      },
      "text/plain": [
       "  0%|          | 0/119 [00:00<?, ?it/s]"
      ]
     },
     "metadata": {},
     "output_type": "display_data"
    },
    {
     "name": "stdout",
     "output_type": "stream",
     "text": [
      "Test for lr 1e-05 epoch 5: \n",
      "{'exact_match': 2.5210084033613445, 'f1': 6.894670922117869}\n",
      "Training with lr=1e-05 and epoch=6\n"
     ]
    },
    {
     "data": {
      "text/html": [
       "\n",
       "    <div>\n",
       "      \n",
       "      <progress value='63' max='63' style='width:300px; height:20px; vertical-align: middle;'></progress>\n",
       "      [63/63 00:25, Epoch 1/1]\n",
       "    </div>\n",
       "    <table border=\"1\" class=\"dataframe\">\n",
       "  <thead>\n",
       " <tr style=\"text-align: left;\">\n",
       "      <th>Step</th>\n",
       "      <th>Training Loss</th>\n",
       "    </tr>\n",
       "  </thead>\n",
       "  <tbody>\n",
       "  </tbody>\n",
       "</table><p>"
      ],
      "text/plain": [
       "<IPython.core.display.HTML object>"
      ]
     },
     "metadata": {},
     "output_type": "display_data"
    },
    {
     "data": {
      "text/html": [],
      "text/plain": [
       "<IPython.core.display.HTML object>"
      ]
     },
     "metadata": {},
     "output_type": "display_data"
    },
    {
     "data": {
      "application/vnd.jupyter.widget-view+json": {
       "model_id": "d6c4a9ce14da46e59c0d794b48370c4c",
       "version_major": 2,
       "version_minor": 0
      },
      "text/plain": [
       "  0%|          | 0/119 [00:00<?, ?it/s]"
      ]
     },
     "metadata": {},
     "output_type": "display_data"
    },
    {
     "name": "stdout",
     "output_type": "stream",
     "text": [
      "Validation for lr 1e-05 epoch 6: \n",
      "{'exact_match': 2.5210084033613445, 'f1': 9.818891409188517}\n"
     ]
    },
    {
     "data": {
      "text/html": [],
      "text/plain": [
       "<IPython.core.display.HTML object>"
      ]
     },
     "metadata": {},
     "output_type": "display_data"
    },
    {
     "data": {
      "application/vnd.jupyter.widget-view+json": {
       "model_id": "26e22460d0de4aa992c57f8c9be84f11",
       "version_major": 2,
       "version_minor": 0
      },
      "text/plain": [
       "  0%|          | 0/119 [00:00<?, ?it/s]"
      ]
     },
     "metadata": {},
     "output_type": "display_data"
    },
    {
     "name": "stdout",
     "output_type": "stream",
     "text": [
      "Test for lr 1e-05 epoch 6: \n",
      "{'exact_match': 2.5210084033613445, 'f1': 7.342166125732912}\n",
      "Training with lr=1e-05 and epoch=7\n"
     ]
    },
    {
     "data": {
      "text/html": [
       "\n",
       "    <div>\n",
       "      \n",
       "      <progress value='63' max='63' style='width:300px; height:20px; vertical-align: middle;'></progress>\n",
       "      [63/63 00:25, Epoch 1/1]\n",
       "    </div>\n",
       "    <table border=\"1\" class=\"dataframe\">\n",
       "  <thead>\n",
       " <tr style=\"text-align: left;\">\n",
       "      <th>Step</th>\n",
       "      <th>Training Loss</th>\n",
       "    </tr>\n",
       "  </thead>\n",
       "  <tbody>\n",
       "  </tbody>\n",
       "</table><p>"
      ],
      "text/plain": [
       "<IPython.core.display.HTML object>"
      ]
     },
     "metadata": {},
     "output_type": "display_data"
    },
    {
     "data": {
      "text/html": [],
      "text/plain": [
       "<IPython.core.display.HTML object>"
      ]
     },
     "metadata": {},
     "output_type": "display_data"
    },
    {
     "data": {
      "application/vnd.jupyter.widget-view+json": {
       "model_id": "7bf947bfc1b944e6acabc1daf62e691a",
       "version_major": 2,
       "version_minor": 0
      },
      "text/plain": [
       "  0%|          | 0/119 [00:00<?, ?it/s]"
      ]
     },
     "metadata": {},
     "output_type": "display_data"
    },
    {
     "name": "stdout",
     "output_type": "stream",
     "text": [
      "Validation for lr 1e-05 epoch 7: \n",
      "{'exact_match': 2.5210084033613445, 'f1': 11.00101517004501}\n"
     ]
    },
    {
     "data": {
      "text/html": [],
      "text/plain": [
       "<IPython.core.display.HTML object>"
      ]
     },
     "metadata": {},
     "output_type": "display_data"
    },
    {
     "data": {
      "application/vnd.jupyter.widget-view+json": {
       "model_id": "18995939f3a944c087b0af9ee2b1593f",
       "version_major": 2,
       "version_minor": 0
      },
      "text/plain": [
       "  0%|          | 0/119 [00:00<?, ?it/s]"
      ]
     },
     "metadata": {},
     "output_type": "display_data"
    },
    {
     "name": "stdout",
     "output_type": "stream",
     "text": [
      "Test for lr 1e-05 epoch 7: \n",
      "{'exact_match': 2.5210084033613445, 'f1': 7.5682868770637475}\n",
      "Training with lr=1e-05 and epoch=8\n"
     ]
    },
    {
     "data": {
      "text/html": [
       "\n",
       "    <div>\n",
       "      \n",
       "      <progress value='63' max='63' style='width:300px; height:20px; vertical-align: middle;'></progress>\n",
       "      [63/63 00:25, Epoch 1/1]\n",
       "    </div>\n",
       "    <table border=\"1\" class=\"dataframe\">\n",
       "  <thead>\n",
       " <tr style=\"text-align: left;\">\n",
       "      <th>Step</th>\n",
       "      <th>Training Loss</th>\n",
       "    </tr>\n",
       "  </thead>\n",
       "  <tbody>\n",
       "  </tbody>\n",
       "</table><p>"
      ],
      "text/plain": [
       "<IPython.core.display.HTML object>"
      ]
     },
     "metadata": {},
     "output_type": "display_data"
    },
    {
     "data": {
      "text/html": [],
      "text/plain": [
       "<IPython.core.display.HTML object>"
      ]
     },
     "metadata": {},
     "output_type": "display_data"
    },
    {
     "data": {
      "application/vnd.jupyter.widget-view+json": {
       "model_id": "93e3a57d2c8440bd9cd000e97c2748ac",
       "version_major": 2,
       "version_minor": 0
      },
      "text/plain": [
       "  0%|          | 0/119 [00:00<?, ?it/s]"
      ]
     },
     "metadata": {},
     "output_type": "display_data"
    },
    {
     "name": "stdout",
     "output_type": "stream",
     "text": [
      "Validation for lr 1e-05 epoch 8: \n",
      "{'exact_match': 1.680672268907563, 'f1': 9.567014991495311}\n"
     ]
    },
    {
     "data": {
      "text/html": [],
      "text/plain": [
       "<IPython.core.display.HTML object>"
      ]
     },
     "metadata": {},
     "output_type": "display_data"
    },
    {
     "data": {
      "application/vnd.jupyter.widget-view+json": {
       "model_id": "306734a3d2a946adba82b5dd2635d676",
       "version_major": 2,
       "version_minor": 0
      },
      "text/plain": [
       "  0%|          | 0/119 [00:00<?, ?it/s]"
      ]
     },
     "metadata": {},
     "output_type": "display_data"
    },
    {
     "name": "stdout",
     "output_type": "stream",
     "text": [
      "Test for lr 1e-05 epoch 8: \n",
      "{'exact_match': 3.361344537815126, 'f1': 8.41502046971924}\n",
      "Training with lr=1e-05 and epoch=9\n"
     ]
    },
    {
     "data": {
      "text/html": [
       "\n",
       "    <div>\n",
       "      \n",
       "      <progress value='63' max='63' style='width:300px; height:20px; vertical-align: middle;'></progress>\n",
       "      [63/63 00:25, Epoch 1/1]\n",
       "    </div>\n",
       "    <table border=\"1\" class=\"dataframe\">\n",
       "  <thead>\n",
       " <tr style=\"text-align: left;\">\n",
       "      <th>Step</th>\n",
       "      <th>Training Loss</th>\n",
       "    </tr>\n",
       "  </thead>\n",
       "  <tbody>\n",
       "  </tbody>\n",
       "</table><p>"
      ],
      "text/plain": [
       "<IPython.core.display.HTML object>"
      ]
     },
     "metadata": {},
     "output_type": "display_data"
    },
    {
     "data": {
      "text/html": [],
      "text/plain": [
       "<IPython.core.display.HTML object>"
      ]
     },
     "metadata": {},
     "output_type": "display_data"
    },
    {
     "data": {
      "application/vnd.jupyter.widget-view+json": {
       "model_id": "217a5ea2a0644138a12023a7d64151c8",
       "version_major": 2,
       "version_minor": 0
      },
      "text/plain": [
       "  0%|          | 0/119 [00:00<?, ?it/s]"
      ]
     },
     "metadata": {},
     "output_type": "display_data"
    },
    {
     "name": "stdout",
     "output_type": "stream",
     "text": [
      "Validation for lr 1e-05 epoch 9: \n",
      "{'exact_match': 1.680672268907563, 'f1': 7.16661224666532}\n"
     ]
    },
    {
     "data": {
      "text/html": [],
      "text/plain": [
       "<IPython.core.display.HTML object>"
      ]
     },
     "metadata": {},
     "output_type": "display_data"
    },
    {
     "data": {
      "application/vnd.jupyter.widget-view+json": {
       "model_id": "2184ea8249044b099198498506cb30a6",
       "version_major": 2,
       "version_minor": 0
      },
      "text/plain": [
       "  0%|          | 0/119 [00:00<?, ?it/s]"
      ]
     },
     "metadata": {},
     "output_type": "display_data"
    },
    {
     "name": "stdout",
     "output_type": "stream",
     "text": [
      "Test for lr 1e-05 epoch 9: \n",
      "{'exact_match': 3.361344537815126, 'f1': 8.198824528427123}\n",
      "Training with lr=1e-05 and epoch=10\n"
     ]
    },
    {
     "data": {
      "text/html": [
       "\n",
       "    <div>\n",
       "      \n",
       "      <progress value='63' max='63' style='width:300px; height:20px; vertical-align: middle;'></progress>\n",
       "      [63/63 00:25, Epoch 1/1]\n",
       "    </div>\n",
       "    <table border=\"1\" class=\"dataframe\">\n",
       "  <thead>\n",
       " <tr style=\"text-align: left;\">\n",
       "      <th>Step</th>\n",
       "      <th>Training Loss</th>\n",
       "    </tr>\n",
       "  </thead>\n",
       "  <tbody>\n",
       "  </tbody>\n",
       "</table><p>"
      ],
      "text/plain": [
       "<IPython.core.display.HTML object>"
      ]
     },
     "metadata": {},
     "output_type": "display_data"
    },
    {
     "data": {
      "text/html": [],
      "text/plain": [
       "<IPython.core.display.HTML object>"
      ]
     },
     "metadata": {},
     "output_type": "display_data"
    },
    {
     "data": {
      "application/vnd.jupyter.widget-view+json": {
       "model_id": "b12ab3e71fa14d02b2a5ec7eb25bc1fd",
       "version_major": 2,
       "version_minor": 0
      },
      "text/plain": [
       "  0%|          | 0/119 [00:00<?, ?it/s]"
      ]
     },
     "metadata": {},
     "output_type": "display_data"
    },
    {
     "name": "stdout",
     "output_type": "stream",
     "text": [
      "Validation for lr 1e-05 epoch 10: \n",
      "{'exact_match': 3.361344537815126, 'f1': 9.784522334051434}\n"
     ]
    },
    {
     "data": {
      "text/html": [],
      "text/plain": [
       "<IPython.core.display.HTML object>"
      ]
     },
     "metadata": {},
     "output_type": "display_data"
    },
    {
     "data": {
      "application/vnd.jupyter.widget-view+json": {
       "model_id": "141655bf9e704213b09748a6d973551e",
       "version_major": 2,
       "version_minor": 0
      },
      "text/plain": [
       "  0%|          | 0/119 [00:00<?, ?it/s]"
      ]
     },
     "metadata": {},
     "output_type": "display_data"
    },
    {
     "name": "stdout",
     "output_type": "stream",
     "text": [
      "Test for lr 1e-05 epoch 10: \n",
      "{'exact_match': 4.201680672268908, 'f1': 8.429891591426959}\n",
      "Training with lr=1e-05 and epoch=11\n"
     ]
    },
    {
     "data": {
      "text/html": [
       "\n",
       "    <div>\n",
       "      \n",
       "      <progress value='63' max='63' style='width:300px; height:20px; vertical-align: middle;'></progress>\n",
       "      [63/63 00:25, Epoch 1/1]\n",
       "    </div>\n",
       "    <table border=\"1\" class=\"dataframe\">\n",
       "  <thead>\n",
       " <tr style=\"text-align: left;\">\n",
       "      <th>Step</th>\n",
       "      <th>Training Loss</th>\n",
       "    </tr>\n",
       "  </thead>\n",
       "  <tbody>\n",
       "  </tbody>\n",
       "</table><p>"
      ],
      "text/plain": [
       "<IPython.core.display.HTML object>"
      ]
     },
     "metadata": {},
     "output_type": "display_data"
    },
    {
     "data": {
      "text/html": [],
      "text/plain": [
       "<IPython.core.display.HTML object>"
      ]
     },
     "metadata": {},
     "output_type": "display_data"
    },
    {
     "data": {
      "application/vnd.jupyter.widget-view+json": {
       "model_id": "a1f432014f6143788bda774e4c5b9f26",
       "version_major": 2,
       "version_minor": 0
      },
      "text/plain": [
       "  0%|          | 0/119 [00:00<?, ?it/s]"
      ]
     },
     "metadata": {},
     "output_type": "display_data"
    },
    {
     "name": "stdout",
     "output_type": "stream",
     "text": [
      "Validation for lr 1e-05 epoch 11: \n",
      "{'exact_match': 2.5210084033613445, 'f1': 8.07904410546396}\n"
     ]
    },
    {
     "data": {
      "text/html": [],
      "text/plain": [
       "<IPython.core.display.HTML object>"
      ]
     },
     "metadata": {},
     "output_type": "display_data"
    },
    {
     "data": {
      "application/vnd.jupyter.widget-view+json": {
       "model_id": "0e8ec43ae0c54ff2a63072dfbe4b9a84",
       "version_major": 2,
       "version_minor": 0
      },
      "text/plain": [
       "  0%|          | 0/119 [00:00<?, ?it/s]"
      ]
     },
     "metadata": {},
     "output_type": "display_data"
    },
    {
     "name": "stdout",
     "output_type": "stream",
     "text": [
      "Test for lr 1e-05 epoch 11: \n",
      "{'exact_match': 3.361344537815126, 'f1': 8.202351691800832}\n",
      "Training with lr=1e-05 and epoch=12\n"
     ]
    },
    {
     "data": {
      "text/html": [
       "\n",
       "    <div>\n",
       "      \n",
       "      <progress value='63' max='63' style='width:300px; height:20px; vertical-align: middle;'></progress>\n",
       "      [63/63 00:25, Epoch 1/1]\n",
       "    </div>\n",
       "    <table border=\"1\" class=\"dataframe\">\n",
       "  <thead>\n",
       " <tr style=\"text-align: left;\">\n",
       "      <th>Step</th>\n",
       "      <th>Training Loss</th>\n",
       "    </tr>\n",
       "  </thead>\n",
       "  <tbody>\n",
       "  </tbody>\n",
       "</table><p>"
      ],
      "text/plain": [
       "<IPython.core.display.HTML object>"
      ]
     },
     "metadata": {},
     "output_type": "display_data"
    },
    {
     "data": {
      "text/html": [],
      "text/plain": [
       "<IPython.core.display.HTML object>"
      ]
     },
     "metadata": {},
     "output_type": "display_data"
    },
    {
     "data": {
      "application/vnd.jupyter.widget-view+json": {
       "model_id": "95d132f3fffe43049402300737a76280",
       "version_major": 2,
       "version_minor": 0
      },
      "text/plain": [
       "  0%|          | 0/119 [00:00<?, ?it/s]"
      ]
     },
     "metadata": {},
     "output_type": "display_data"
    },
    {
     "name": "stdout",
     "output_type": "stream",
     "text": [
      "Validation for lr 1e-05 epoch 12: \n",
      "{'exact_match': 2.5210084033613445, 'f1': 8.074883933236562}\n"
     ]
    },
    {
     "data": {
      "text/html": [],
      "text/plain": [
       "<IPython.core.display.HTML object>"
      ]
     },
     "metadata": {},
     "output_type": "display_data"
    },
    {
     "data": {
      "application/vnd.jupyter.widget-view+json": {
       "model_id": "8538463aba594f12b6024c106830af13",
       "version_major": 2,
       "version_minor": 0
      },
      "text/plain": [
       "  0%|          | 0/119 [00:00<?, ?it/s]"
      ]
     },
     "metadata": {},
     "output_type": "display_data"
    },
    {
     "name": "stdout",
     "output_type": "stream",
     "text": [
      "Test for lr 1e-05 epoch 12: \n",
      "{'exact_match': 4.201680672268908, 'f1': 8.660524265643204}\n",
      "Training with lr=1e-05 and epoch=13\n"
     ]
    },
    {
     "data": {
      "text/html": [
       "\n",
       "    <div>\n",
       "      \n",
       "      <progress value='63' max='63' style='width:300px; height:20px; vertical-align: middle;'></progress>\n",
       "      [63/63 00:25, Epoch 1/1]\n",
       "    </div>\n",
       "    <table border=\"1\" class=\"dataframe\">\n",
       "  <thead>\n",
       " <tr style=\"text-align: left;\">\n",
       "      <th>Step</th>\n",
       "      <th>Training Loss</th>\n",
       "    </tr>\n",
       "  </thead>\n",
       "  <tbody>\n",
       "  </tbody>\n",
       "</table><p>"
      ],
      "text/plain": [
       "<IPython.core.display.HTML object>"
      ]
     },
     "metadata": {},
     "output_type": "display_data"
    },
    {
     "data": {
      "text/html": [],
      "text/plain": [
       "<IPython.core.display.HTML object>"
      ]
     },
     "metadata": {},
     "output_type": "display_data"
    },
    {
     "data": {
      "application/vnd.jupyter.widget-view+json": {
       "model_id": "a318e5183d0c4df08492046e07444c1b",
       "version_major": 2,
       "version_minor": 0
      },
      "text/plain": [
       "  0%|          | 0/119 [00:00<?, ?it/s]"
      ]
     },
     "metadata": {},
     "output_type": "display_data"
    },
    {
     "name": "stdout",
     "output_type": "stream",
     "text": [
      "Validation for lr 1e-05 epoch 13: \n",
      "{'exact_match': 1.680672268907563, 'f1': 8.216723200137618}\n"
     ]
    },
    {
     "data": {
      "text/html": [],
      "text/plain": [
       "<IPython.core.display.HTML object>"
      ]
     },
     "metadata": {},
     "output_type": "display_data"
    },
    {
     "data": {
      "application/vnd.jupyter.widget-view+json": {
       "model_id": "0def943373e44ec6acbe2047b8f2ed9d",
       "version_major": 2,
       "version_minor": 0
      },
      "text/plain": [
       "  0%|          | 0/119 [00:00<?, ?it/s]"
      ]
     },
     "metadata": {},
     "output_type": "display_data"
    },
    {
     "name": "stdout",
     "output_type": "stream",
     "text": [
      "Test for lr 1e-05 epoch 13: \n",
      "{'exact_match': 4.201680672268908, 'f1': 9.34208674570769}\n",
      "Training with lr=1e-05 and epoch=14\n"
     ]
    },
    {
     "data": {
      "text/html": [
       "\n",
       "    <div>\n",
       "      \n",
       "      <progress value='63' max='63' style='width:300px; height:20px; vertical-align: middle;'></progress>\n",
       "      [63/63 00:25, Epoch 1/1]\n",
       "    </div>\n",
       "    <table border=\"1\" class=\"dataframe\">\n",
       "  <thead>\n",
       " <tr style=\"text-align: left;\">\n",
       "      <th>Step</th>\n",
       "      <th>Training Loss</th>\n",
       "    </tr>\n",
       "  </thead>\n",
       "  <tbody>\n",
       "  </tbody>\n",
       "</table><p>"
      ],
      "text/plain": [
       "<IPython.core.display.HTML object>"
      ]
     },
     "metadata": {},
     "output_type": "display_data"
    },
    {
     "data": {
      "text/html": [],
      "text/plain": [
       "<IPython.core.display.HTML object>"
      ]
     },
     "metadata": {},
     "output_type": "display_data"
    },
    {
     "data": {
      "application/vnd.jupyter.widget-view+json": {
       "model_id": "57a26699786c4c9d9176f3ef4cdb60a7",
       "version_major": 2,
       "version_minor": 0
      },
      "text/plain": [
       "  0%|          | 0/119 [00:00<?, ?it/s]"
      ]
     },
     "metadata": {},
     "output_type": "display_data"
    },
    {
     "name": "stdout",
     "output_type": "stream",
     "text": [
      "Validation for lr 1e-05 epoch 14: \n",
      "{'exact_match': 2.5210084033613445, 'f1': 8.927007313783076}\n"
     ]
    },
    {
     "data": {
      "text/html": [],
      "text/plain": [
       "<IPython.core.display.HTML object>"
      ]
     },
     "metadata": {},
     "output_type": "display_data"
    },
    {
     "data": {
      "application/vnd.jupyter.widget-view+json": {
       "model_id": "cda8665280fe4b1a8605d4307b5577a1",
       "version_major": 2,
       "version_minor": 0
      },
      "text/plain": [
       "  0%|          | 0/119 [00:00<?, ?it/s]"
      ]
     },
     "metadata": {},
     "output_type": "display_data"
    },
    {
     "name": "stdout",
     "output_type": "stream",
     "text": [
      "Test for lr 1e-05 epoch 14: \n",
      "{'exact_match': 3.361344537815126, 'f1': 8.345837368763931}\n",
      "Training with lr=1e-05 and epoch=15\n"
     ]
    },
    {
     "data": {
      "text/html": [
       "\n",
       "    <div>\n",
       "      \n",
       "      <progress value='63' max='63' style='width:300px; height:20px; vertical-align: middle;'></progress>\n",
       "      [63/63 00:25, Epoch 1/1]\n",
       "    </div>\n",
       "    <table border=\"1\" class=\"dataframe\">\n",
       "  <thead>\n",
       " <tr style=\"text-align: left;\">\n",
       "      <th>Step</th>\n",
       "      <th>Training Loss</th>\n",
       "    </tr>\n",
       "  </thead>\n",
       "  <tbody>\n",
       "  </tbody>\n",
       "</table><p>"
      ],
      "text/plain": [
       "<IPython.core.display.HTML object>"
      ]
     },
     "metadata": {},
     "output_type": "display_data"
    },
    {
     "data": {
      "text/html": [],
      "text/plain": [
       "<IPython.core.display.HTML object>"
      ]
     },
     "metadata": {},
     "output_type": "display_data"
    },
    {
     "data": {
      "application/vnd.jupyter.widget-view+json": {
       "model_id": "eff4271d119d47eb9c3dd1d9cf7cb834",
       "version_major": 2,
       "version_minor": 0
      },
      "text/plain": [
       "  0%|          | 0/119 [00:00<?, ?it/s]"
      ]
     },
     "metadata": {},
     "output_type": "display_data"
    },
    {
     "name": "stdout",
     "output_type": "stream",
     "text": [
      "Validation for lr 1e-05 epoch 15: \n",
      "{'exact_match': 2.5210084033613445, 'f1': 10.150138853555003}\n"
     ]
    },
    {
     "data": {
      "text/html": [],
      "text/plain": [
       "<IPython.core.display.HTML object>"
      ]
     },
     "metadata": {},
     "output_type": "display_data"
    },
    {
     "data": {
      "application/vnd.jupyter.widget-view+json": {
       "model_id": "60015f86fa9c420496fa4aed5dab6978",
       "version_major": 2,
       "version_minor": 0
      },
      "text/plain": [
       "  0%|          | 0/119 [00:00<?, ?it/s]"
      ]
     },
     "metadata": {},
     "output_type": "display_data"
    },
    {
     "name": "stdout",
     "output_type": "stream",
     "text": [
      "Test for lr 1e-05 epoch 15: \n",
      "{'exact_match': 2.5210084033613445, 'f1': 7.38397570101991}\n",
      "Training with lr=1e-05 and epoch=16\n"
     ]
    },
    {
     "data": {
      "text/html": [
       "\n",
       "    <div>\n",
       "      \n",
       "      <progress value='63' max='63' style='width:300px; height:20px; vertical-align: middle;'></progress>\n",
       "      [63/63 00:25, Epoch 1/1]\n",
       "    </div>\n",
       "    <table border=\"1\" class=\"dataframe\">\n",
       "  <thead>\n",
       " <tr style=\"text-align: left;\">\n",
       "      <th>Step</th>\n",
       "      <th>Training Loss</th>\n",
       "    </tr>\n",
       "  </thead>\n",
       "  <tbody>\n",
       "  </tbody>\n",
       "</table><p>"
      ],
      "text/plain": [
       "<IPython.core.display.HTML object>"
      ]
     },
     "metadata": {},
     "output_type": "display_data"
    },
    {
     "data": {
      "text/html": [],
      "text/plain": [
       "<IPython.core.display.HTML object>"
      ]
     },
     "metadata": {},
     "output_type": "display_data"
    },
    {
     "data": {
      "application/vnd.jupyter.widget-view+json": {
       "model_id": "b922e683e1484e9da68681eaad5eb83e",
       "version_major": 2,
       "version_minor": 0
      },
      "text/plain": [
       "  0%|          | 0/119 [00:00<?, ?it/s]"
      ]
     },
     "metadata": {},
     "output_type": "display_data"
    },
    {
     "name": "stdout",
     "output_type": "stream",
     "text": [
      "Validation for lr 1e-05 epoch 16: \n",
      "{'exact_match': 3.361344537815126, 'f1': 10.656562401995359}\n"
     ]
    },
    {
     "data": {
      "text/html": [],
      "text/plain": [
       "<IPython.core.display.HTML object>"
      ]
     },
     "metadata": {},
     "output_type": "display_data"
    },
    {
     "data": {
      "application/vnd.jupyter.widget-view+json": {
       "model_id": "a1d67855f62c4ec6823598830c4c38dc",
       "version_major": 2,
       "version_minor": 0
      },
      "text/plain": [
       "  0%|          | 0/119 [00:00<?, ?it/s]"
      ]
     },
     "metadata": {},
     "output_type": "display_data"
    },
    {
     "name": "stdout",
     "output_type": "stream",
     "text": [
      "Test for lr 1e-05 epoch 16: \n",
      "{'exact_match': 2.5210084033613445, 'f1': 7.049631818539382}\n",
      "Training with lr=1e-05 and epoch=17\n"
     ]
    },
    {
     "data": {
      "text/html": [
       "\n",
       "    <div>\n",
       "      \n",
       "      <progress value='63' max='63' style='width:300px; height:20px; vertical-align: middle;'></progress>\n",
       "      [63/63 00:25, Epoch 1/1]\n",
       "    </div>\n",
       "    <table border=\"1\" class=\"dataframe\">\n",
       "  <thead>\n",
       " <tr style=\"text-align: left;\">\n",
       "      <th>Step</th>\n",
       "      <th>Training Loss</th>\n",
       "    </tr>\n",
       "  </thead>\n",
       "  <tbody>\n",
       "  </tbody>\n",
       "</table><p>"
      ],
      "text/plain": [
       "<IPython.core.display.HTML object>"
      ]
     },
     "metadata": {},
     "output_type": "display_data"
    },
    {
     "data": {
      "text/html": [],
      "text/plain": [
       "<IPython.core.display.HTML object>"
      ]
     },
     "metadata": {},
     "output_type": "display_data"
    },
    {
     "data": {
      "application/vnd.jupyter.widget-view+json": {
       "model_id": "9b2a7f5b59fc442492e778c6f7a7e73a",
       "version_major": 2,
       "version_minor": 0
      },
      "text/plain": [
       "  0%|          | 0/119 [00:00<?, ?it/s]"
      ]
     },
     "metadata": {},
     "output_type": "display_data"
    },
    {
     "name": "stdout",
     "output_type": "stream",
     "text": [
      "Validation for lr 1e-05 epoch 17: \n",
      "{'exact_match': 2.5210084033613445, 'f1': 10.023899080256403}\n"
     ]
    },
    {
     "data": {
      "text/html": [],
      "text/plain": [
       "<IPython.core.display.HTML object>"
      ]
     },
     "metadata": {},
     "output_type": "display_data"
    },
    {
     "data": {
      "application/vnd.jupyter.widget-view+json": {
       "model_id": "2a5797fa9f604e8ca8820221d65d30d6",
       "version_major": 2,
       "version_minor": 0
      },
      "text/plain": [
       "  0%|          | 0/119 [00:00<?, ?it/s]"
      ]
     },
     "metadata": {},
     "output_type": "display_data"
    },
    {
     "name": "stdout",
     "output_type": "stream",
     "text": [
      "Test for lr 1e-05 epoch 17: \n",
      "{'exact_match': 2.5210084033613445, 'f1': 7.275236126758832}\n",
      "Training with lr=1e-05 and epoch=18\n"
     ]
    },
    {
     "data": {
      "text/html": [
       "\n",
       "    <div>\n",
       "      \n",
       "      <progress value='63' max='63' style='width:300px; height:20px; vertical-align: middle;'></progress>\n",
       "      [63/63 00:25, Epoch 1/1]\n",
       "    </div>\n",
       "    <table border=\"1\" class=\"dataframe\">\n",
       "  <thead>\n",
       " <tr style=\"text-align: left;\">\n",
       "      <th>Step</th>\n",
       "      <th>Training Loss</th>\n",
       "    </tr>\n",
       "  </thead>\n",
       "  <tbody>\n",
       "  </tbody>\n",
       "</table><p>"
      ],
      "text/plain": [
       "<IPython.core.display.HTML object>"
      ]
     },
     "metadata": {},
     "output_type": "display_data"
    },
    {
     "data": {
      "text/html": [],
      "text/plain": [
       "<IPython.core.display.HTML object>"
      ]
     },
     "metadata": {},
     "output_type": "display_data"
    },
    {
     "data": {
      "application/vnd.jupyter.widget-view+json": {
       "model_id": "b60e1414241d48999923741e3c870999",
       "version_major": 2,
       "version_minor": 0
      },
      "text/plain": [
       "  0%|          | 0/119 [00:00<?, ?it/s]"
      ]
     },
     "metadata": {},
     "output_type": "display_data"
    },
    {
     "name": "stdout",
     "output_type": "stream",
     "text": [
      "Validation for lr 1e-05 epoch 18: \n",
      "{'exact_match': 3.361344537815126, 'f1': 11.804159571549693}\n"
     ]
    },
    {
     "data": {
      "text/html": [],
      "text/plain": [
       "<IPython.core.display.HTML object>"
      ]
     },
     "metadata": {},
     "output_type": "display_data"
    },
    {
     "data": {
      "application/vnd.jupyter.widget-view+json": {
       "model_id": "3c63803a5a1240a1a7cc0d54f5f612c1",
       "version_major": 2,
       "version_minor": 0
      },
      "text/plain": [
       "  0%|          | 0/119 [00:00<?, ?it/s]"
      ]
     },
     "metadata": {},
     "output_type": "display_data"
    },
    {
     "name": "stdout",
     "output_type": "stream",
     "text": [
      "Test for lr 1e-05 epoch 18: \n",
      "{'exact_match': 2.5210084033613445, 'f1': 7.345329432146256}\n",
      "Training with lr=1e-05 and epoch=19\n"
     ]
    },
    {
     "data": {
      "text/html": [
       "\n",
       "    <div>\n",
       "      \n",
       "      <progress value='63' max='63' style='width:300px; height:20px; vertical-align: middle;'></progress>\n",
       "      [63/63 00:25, Epoch 1/1]\n",
       "    </div>\n",
       "    <table border=\"1\" class=\"dataframe\">\n",
       "  <thead>\n",
       " <tr style=\"text-align: left;\">\n",
       "      <th>Step</th>\n",
       "      <th>Training Loss</th>\n",
       "    </tr>\n",
       "  </thead>\n",
       "  <tbody>\n",
       "  </tbody>\n",
       "</table><p>"
      ],
      "text/plain": [
       "<IPython.core.display.HTML object>"
      ]
     },
     "metadata": {},
     "output_type": "display_data"
    },
    {
     "data": {
      "text/html": [],
      "text/plain": [
       "<IPython.core.display.HTML object>"
      ]
     },
     "metadata": {},
     "output_type": "display_data"
    },
    {
     "data": {
      "application/vnd.jupyter.widget-view+json": {
       "model_id": "b85c0daed0f842399873cb977a66bbc5",
       "version_major": 2,
       "version_minor": 0
      },
      "text/plain": [
       "  0%|          | 0/119 [00:00<?, ?it/s]"
      ]
     },
     "metadata": {},
     "output_type": "display_data"
    },
    {
     "name": "stdout",
     "output_type": "stream",
     "text": [
      "Validation for lr 1e-05 epoch 19: \n",
      "{'exact_match': 3.361344537815126, 'f1': 11.457934124849274}\n"
     ]
    },
    {
     "data": {
      "text/html": [],
      "text/plain": [
       "<IPython.core.display.HTML object>"
      ]
     },
     "metadata": {},
     "output_type": "display_data"
    },
    {
     "data": {
      "application/vnd.jupyter.widget-view+json": {
       "model_id": "155d7e31e0f84bd09a4f490d95b75b51",
       "version_major": 2,
       "version_minor": 0
      },
      "text/plain": [
       "  0%|          | 0/119 [00:00<?, ?it/s]"
      ]
     },
     "metadata": {},
     "output_type": "display_data"
    },
    {
     "name": "stdout",
     "output_type": "stream",
     "text": [
      "Test for lr 1e-05 epoch 19: \n",
      "{'exact_match': 3.361344537815126, 'f1': 8.898730819691826}\n",
      "Training with lr=1e-05 and epoch=20\n"
     ]
    },
    {
     "data": {
      "text/html": [
       "\n",
       "    <div>\n",
       "      \n",
       "      <progress value='63' max='63' style='width:300px; height:20px; vertical-align: middle;'></progress>\n",
       "      [63/63 00:25, Epoch 1/1]\n",
       "    </div>\n",
       "    <table border=\"1\" class=\"dataframe\">\n",
       "  <thead>\n",
       " <tr style=\"text-align: left;\">\n",
       "      <th>Step</th>\n",
       "      <th>Training Loss</th>\n",
       "    </tr>\n",
       "  </thead>\n",
       "  <tbody>\n",
       "  </tbody>\n",
       "</table><p>"
      ],
      "text/plain": [
       "<IPython.core.display.HTML object>"
      ]
     },
     "metadata": {},
     "output_type": "display_data"
    },
    {
     "data": {
      "text/html": [],
      "text/plain": [
       "<IPython.core.display.HTML object>"
      ]
     },
     "metadata": {},
     "output_type": "display_data"
    },
    {
     "data": {
      "application/vnd.jupyter.widget-view+json": {
       "model_id": "685c3b3fd20442b8b3b5ddce78546084",
       "version_major": 2,
       "version_minor": 0
      },
      "text/plain": [
       "  0%|          | 0/119 [00:00<?, ?it/s]"
      ]
     },
     "metadata": {},
     "output_type": "display_data"
    },
    {
     "name": "stdout",
     "output_type": "stream",
     "text": [
      "Validation for lr 1e-05 epoch 20: \n",
      "{'exact_match': 4.201680672268908, 'f1': 11.807035523239394}\n"
     ]
    },
    {
     "data": {
      "text/html": [],
      "text/plain": [
       "<IPython.core.display.HTML object>"
      ]
     },
     "metadata": {},
     "output_type": "display_data"
    },
    {
     "data": {
      "application/vnd.jupyter.widget-view+json": {
       "model_id": "30a6e6bae6374869adde144aba3944f4",
       "version_major": 2,
       "version_minor": 0
      },
      "text/plain": [
       "  0%|          | 0/119 [00:00<?, ?it/s]"
      ]
     },
     "metadata": {},
     "output_type": "display_data"
    },
    {
     "name": "stdout",
     "output_type": "stream",
     "text": [
      "Test for lr 1e-05 epoch 20: \n",
      "{'exact_match': 3.361344537815126, 'f1': 8.324966854175651}\n",
      "Training with lr=1e-05 and epoch=21\n"
     ]
    },
    {
     "data": {
      "text/html": [
       "\n",
       "    <div>\n",
       "      \n",
       "      <progress value='63' max='63' style='width:300px; height:20px; vertical-align: middle;'></progress>\n",
       "      [63/63 00:25, Epoch 1/1]\n",
       "    </div>\n",
       "    <table border=\"1\" class=\"dataframe\">\n",
       "  <thead>\n",
       " <tr style=\"text-align: left;\">\n",
       "      <th>Step</th>\n",
       "      <th>Training Loss</th>\n",
       "    </tr>\n",
       "  </thead>\n",
       "  <tbody>\n",
       "  </tbody>\n",
       "</table><p>"
      ],
      "text/plain": [
       "<IPython.core.display.HTML object>"
      ]
     },
     "metadata": {},
     "output_type": "display_data"
    },
    {
     "data": {
      "text/html": [],
      "text/plain": [
       "<IPython.core.display.HTML object>"
      ]
     },
     "metadata": {},
     "output_type": "display_data"
    },
    {
     "data": {
      "application/vnd.jupyter.widget-view+json": {
       "model_id": "fdee4f84ced54ef7b769b36d5ebfa29d",
       "version_major": 2,
       "version_minor": 0
      },
      "text/plain": [
       "  0%|          | 0/119 [00:00<?, ?it/s]"
      ]
     },
     "metadata": {},
     "output_type": "display_data"
    },
    {
     "name": "stdout",
     "output_type": "stream",
     "text": [
      "Validation for lr 1e-05 epoch 21: \n",
      "{'exact_match': 4.201680672268908, 'f1': 10.68150636420736}\n"
     ]
    },
    {
     "data": {
      "text/html": [],
      "text/plain": [
       "<IPython.core.display.HTML object>"
      ]
     },
     "metadata": {},
     "output_type": "display_data"
    },
    {
     "data": {
      "application/vnd.jupyter.widget-view+json": {
       "model_id": "b5d62588428943188ff67a333c6c9db2",
       "version_major": 2,
       "version_minor": 0
      },
      "text/plain": [
       "  0%|          | 0/119 [00:00<?, ?it/s]"
      ]
     },
     "metadata": {},
     "output_type": "display_data"
    },
    {
     "name": "stdout",
     "output_type": "stream",
     "text": [
      "Test for lr 1e-05 epoch 21: \n",
      "{'exact_match': 4.201680672268908, 'f1': 9.802113656952704}\n",
      "Training with lr=1e-05 and epoch=22\n"
     ]
    },
    {
     "data": {
      "text/html": [
       "\n",
       "    <div>\n",
       "      \n",
       "      <progress value='63' max='63' style='width:300px; height:20px; vertical-align: middle;'></progress>\n",
       "      [63/63 00:25, Epoch 1/1]\n",
       "    </div>\n",
       "    <table border=\"1\" class=\"dataframe\">\n",
       "  <thead>\n",
       " <tr style=\"text-align: left;\">\n",
       "      <th>Step</th>\n",
       "      <th>Training Loss</th>\n",
       "    </tr>\n",
       "  </thead>\n",
       "  <tbody>\n",
       "  </tbody>\n",
       "</table><p>"
      ],
      "text/plain": [
       "<IPython.core.display.HTML object>"
      ]
     },
     "metadata": {},
     "output_type": "display_data"
    },
    {
     "data": {
      "text/html": [],
      "text/plain": [
       "<IPython.core.display.HTML object>"
      ]
     },
     "metadata": {},
     "output_type": "display_data"
    },
    {
     "data": {
      "application/vnd.jupyter.widget-view+json": {
       "model_id": "bc357d434add45528e9a0385828f21d5",
       "version_major": 2,
       "version_minor": 0
      },
      "text/plain": [
       "  0%|          | 0/119 [00:00<?, ?it/s]"
      ]
     },
     "metadata": {},
     "output_type": "display_data"
    },
    {
     "name": "stdout",
     "output_type": "stream",
     "text": [
      "Validation for lr 1e-05 epoch 22: \n",
      "{'exact_match': 4.201680672268908, 'f1': 11.293760982653929}\n"
     ]
    },
    {
     "data": {
      "text/html": [],
      "text/plain": [
       "<IPython.core.display.HTML object>"
      ]
     },
     "metadata": {},
     "output_type": "display_data"
    },
    {
     "data": {
      "application/vnd.jupyter.widget-view+json": {
       "model_id": "a0e24bbec8074a11a7ac6fe247cfe7d4",
       "version_major": 2,
       "version_minor": 0
      },
      "text/plain": [
       "  0%|          | 0/119 [00:00<?, ?it/s]"
      ]
     },
     "metadata": {},
     "output_type": "display_data"
    },
    {
     "name": "stdout",
     "output_type": "stream",
     "text": [
      "Test for lr 1e-05 epoch 22: \n",
      "{'exact_match': 4.201680672268908, 'f1': 9.362005267954135}\n",
      "Training with lr=1e-05 and epoch=23\n"
     ]
    },
    {
     "data": {
      "text/html": [
       "\n",
       "    <div>\n",
       "      \n",
       "      <progress value='63' max='63' style='width:300px; height:20px; vertical-align: middle;'></progress>\n",
       "      [63/63 00:25, Epoch 1/1]\n",
       "    </div>\n",
       "    <table border=\"1\" class=\"dataframe\">\n",
       "  <thead>\n",
       " <tr style=\"text-align: left;\">\n",
       "      <th>Step</th>\n",
       "      <th>Training Loss</th>\n",
       "    </tr>\n",
       "  </thead>\n",
       "  <tbody>\n",
       "  </tbody>\n",
       "</table><p>"
      ],
      "text/plain": [
       "<IPython.core.display.HTML object>"
      ]
     },
     "metadata": {},
     "output_type": "display_data"
    },
    {
     "data": {
      "text/html": [],
      "text/plain": [
       "<IPython.core.display.HTML object>"
      ]
     },
     "metadata": {},
     "output_type": "display_data"
    },
    {
     "data": {
      "application/vnd.jupyter.widget-view+json": {
       "model_id": "2efb9f77fd1b49df898af70596c7fc61",
       "version_major": 2,
       "version_minor": 0
      },
      "text/plain": [
       "  0%|          | 0/119 [00:00<?, ?it/s]"
      ]
     },
     "metadata": {},
     "output_type": "display_data"
    },
    {
     "name": "stdout",
     "output_type": "stream",
     "text": [
      "Validation for lr 1e-05 epoch 23: \n",
      "{'exact_match': 5.042016806722689, 'f1': 11.822669982151163}\n"
     ]
    },
    {
     "data": {
      "text/html": [],
      "text/plain": [
       "<IPython.core.display.HTML object>"
      ]
     },
     "metadata": {},
     "output_type": "display_data"
    },
    {
     "data": {
      "application/vnd.jupyter.widget-view+json": {
       "model_id": "2c831eaa95db4ef69b4b891ee1c302bc",
       "version_major": 2,
       "version_minor": 0
      },
      "text/plain": [
       "  0%|          | 0/119 [00:00<?, ?it/s]"
      ]
     },
     "metadata": {},
     "output_type": "display_data"
    },
    {
     "name": "stdout",
     "output_type": "stream",
     "text": [
      "Test for lr 1e-05 epoch 23: \n",
      "{'exact_match': 6.722689075630252, 'f1': 12.17516054828389}\n",
      "Training with lr=1e-05 and epoch=24\n"
     ]
    },
    {
     "data": {
      "text/html": [
       "\n",
       "    <div>\n",
       "      \n",
       "      <progress value='63' max='63' style='width:300px; height:20px; vertical-align: middle;'></progress>\n",
       "      [63/63 00:25, Epoch 1/1]\n",
       "    </div>\n",
       "    <table border=\"1\" class=\"dataframe\">\n",
       "  <thead>\n",
       " <tr style=\"text-align: left;\">\n",
       "      <th>Step</th>\n",
       "      <th>Training Loss</th>\n",
       "    </tr>\n",
       "  </thead>\n",
       "  <tbody>\n",
       "  </tbody>\n",
       "</table><p>"
      ],
      "text/plain": [
       "<IPython.core.display.HTML object>"
      ]
     },
     "metadata": {},
     "output_type": "display_data"
    },
    {
     "data": {
      "text/html": [],
      "text/plain": [
       "<IPython.core.display.HTML object>"
      ]
     },
     "metadata": {},
     "output_type": "display_data"
    },
    {
     "data": {
      "application/vnd.jupyter.widget-view+json": {
       "model_id": "8d95f08f36de4a9595c4ad59a63dfa44",
       "version_major": 2,
       "version_minor": 0
      },
      "text/plain": [
       "  0%|          | 0/119 [00:00<?, ?it/s]"
      ]
     },
     "metadata": {},
     "output_type": "display_data"
    },
    {
     "name": "stdout",
     "output_type": "stream",
     "text": [
      "Validation for lr 1e-05 epoch 24: \n",
      "{'exact_match': 6.722689075630252, 'f1': 14.910815496767267}\n"
     ]
    },
    {
     "data": {
      "text/html": [],
      "text/plain": [
       "<IPython.core.display.HTML object>"
      ]
     },
     "metadata": {},
     "output_type": "display_data"
    },
    {
     "data": {
      "application/vnd.jupyter.widget-view+json": {
       "model_id": "28543e9984a64263a911e3b445e47a88",
       "version_major": 2,
       "version_minor": 0
      },
      "text/plain": [
       "  0%|          | 0/119 [00:00<?, ?it/s]"
      ]
     },
     "metadata": {},
     "output_type": "display_data"
    },
    {
     "name": "stdout",
     "output_type": "stream",
     "text": [
      "Test for lr 1e-05 epoch 24: \n",
      "{'exact_match': 6.722689075630252, 'f1': 12.567237668987245}\n",
      "Training with lr=1e-05 and epoch=25\n"
     ]
    },
    {
     "data": {
      "text/html": [
       "\n",
       "    <div>\n",
       "      \n",
       "      <progress value='63' max='63' style='width:300px; height:20px; vertical-align: middle;'></progress>\n",
       "      [63/63 00:25, Epoch 1/1]\n",
       "    </div>\n",
       "    <table border=\"1\" class=\"dataframe\">\n",
       "  <thead>\n",
       " <tr style=\"text-align: left;\">\n",
       "      <th>Step</th>\n",
       "      <th>Training Loss</th>\n",
       "    </tr>\n",
       "  </thead>\n",
       "  <tbody>\n",
       "  </tbody>\n",
       "</table><p>"
      ],
      "text/plain": [
       "<IPython.core.display.HTML object>"
      ]
     },
     "metadata": {},
     "output_type": "display_data"
    },
    {
     "data": {
      "text/html": [],
      "text/plain": [
       "<IPython.core.display.HTML object>"
      ]
     },
     "metadata": {},
     "output_type": "display_data"
    },
    {
     "data": {
      "application/vnd.jupyter.widget-view+json": {
       "model_id": "2fce98fc73b9451cbcd2423fcd6ce993",
       "version_major": 2,
       "version_minor": 0
      },
      "text/plain": [
       "  0%|          | 0/119 [00:00<?, ?it/s]"
      ]
     },
     "metadata": {},
     "output_type": "display_data"
    },
    {
     "name": "stdout",
     "output_type": "stream",
     "text": [
      "Validation for lr 1e-05 epoch 25: \n",
      "{'exact_match': 4.201680672268908, 'f1': 12.03791802468802}\n"
     ]
    },
    {
     "data": {
      "text/html": [],
      "text/plain": [
       "<IPython.core.display.HTML object>"
      ]
     },
     "metadata": {},
     "output_type": "display_data"
    },
    {
     "data": {
      "application/vnd.jupyter.widget-view+json": {
       "model_id": "bade8243ab09451ea98532cc01f2cc01",
       "version_major": 2,
       "version_minor": 0
      },
      "text/plain": [
       "  0%|          | 0/119 [00:00<?, ?it/s]"
      ]
     },
     "metadata": {},
     "output_type": "display_data"
    },
    {
     "name": "stdout",
     "output_type": "stream",
     "text": [
      "Test for lr 1e-05 epoch 25: \n",
      "{'exact_match': 6.722689075630252, 'f1': 12.238219856353597}\n",
      "Training with lr=1e-05 and epoch=26\n"
     ]
    },
    {
     "data": {
      "text/html": [
       "\n",
       "    <div>\n",
       "      \n",
       "      <progress value='63' max='63' style='width:300px; height:20px; vertical-align: middle;'></progress>\n",
       "      [63/63 00:25, Epoch 1/1]\n",
       "    </div>\n",
       "    <table border=\"1\" class=\"dataframe\">\n",
       "  <thead>\n",
       " <tr style=\"text-align: left;\">\n",
       "      <th>Step</th>\n",
       "      <th>Training Loss</th>\n",
       "    </tr>\n",
       "  </thead>\n",
       "  <tbody>\n",
       "  </tbody>\n",
       "</table><p>"
      ],
      "text/plain": [
       "<IPython.core.display.HTML object>"
      ]
     },
     "metadata": {},
     "output_type": "display_data"
    },
    {
     "data": {
      "text/html": [],
      "text/plain": [
       "<IPython.core.display.HTML object>"
      ]
     },
     "metadata": {},
     "output_type": "display_data"
    },
    {
     "data": {
      "application/vnd.jupyter.widget-view+json": {
       "model_id": "77124d0bd95c42d6a5ee7d7c7b0e1f1c",
       "version_major": 2,
       "version_minor": 0
      },
      "text/plain": [
       "  0%|          | 0/119 [00:00<?, ?it/s]"
      ]
     },
     "metadata": {},
     "output_type": "display_data"
    },
    {
     "name": "stdout",
     "output_type": "stream",
     "text": [
      "Validation for lr 1e-05 epoch 26: \n",
      "{'exact_match': 5.882352941176471, 'f1': 13.949451868994972}\n"
     ]
    },
    {
     "data": {
      "text/html": [],
      "text/plain": [
       "<IPython.core.display.HTML object>"
      ]
     },
     "metadata": {},
     "output_type": "display_data"
    },
    {
     "data": {
      "application/vnd.jupyter.widget-view+json": {
       "model_id": "74c675f5965241458d2a373bc605e3a9",
       "version_major": 2,
       "version_minor": 0
      },
      "text/plain": [
       "  0%|          | 0/119 [00:00<?, ?it/s]"
      ]
     },
     "metadata": {},
     "output_type": "display_data"
    },
    {
     "name": "stdout",
     "output_type": "stream",
     "text": [
      "Test for lr 1e-05 epoch 26: \n",
      "{'exact_match': 5.882352941176471, 'f1': 12.382520000653741}\n",
      "Training with lr=1e-05 and epoch=27\n"
     ]
    },
    {
     "data": {
      "text/html": [
       "\n",
       "    <div>\n",
       "      \n",
       "      <progress value='63' max='63' style='width:300px; height:20px; vertical-align: middle;'></progress>\n",
       "      [63/63 00:25, Epoch 1/1]\n",
       "    </div>\n",
       "    <table border=\"1\" class=\"dataframe\">\n",
       "  <thead>\n",
       " <tr style=\"text-align: left;\">\n",
       "      <th>Step</th>\n",
       "      <th>Training Loss</th>\n",
       "    </tr>\n",
       "  </thead>\n",
       "  <tbody>\n",
       "  </tbody>\n",
       "</table><p>"
      ],
      "text/plain": [
       "<IPython.core.display.HTML object>"
      ]
     },
     "metadata": {},
     "output_type": "display_data"
    },
    {
     "data": {
      "text/html": [],
      "text/plain": [
       "<IPython.core.display.HTML object>"
      ]
     },
     "metadata": {},
     "output_type": "display_data"
    },
    {
     "data": {
      "application/vnd.jupyter.widget-view+json": {
       "model_id": "6447b11d1d0d4311ba72d5ba8b3b1e0a",
       "version_major": 2,
       "version_minor": 0
      },
      "text/plain": [
       "  0%|          | 0/119 [00:00<?, ?it/s]"
      ]
     },
     "metadata": {},
     "output_type": "display_data"
    },
    {
     "name": "stdout",
     "output_type": "stream",
     "text": [
      "Validation for lr 1e-05 epoch 27: \n",
      "{'exact_match': 5.042016806722689, 'f1': 12.068368801489969}\n"
     ]
    },
    {
     "data": {
      "text/html": [],
      "text/plain": [
       "<IPython.core.display.HTML object>"
      ]
     },
     "metadata": {},
     "output_type": "display_data"
    },
    {
     "data": {
      "application/vnd.jupyter.widget-view+json": {
       "model_id": "7474f559323549ea8a3c5d43e19da605",
       "version_major": 2,
       "version_minor": 0
      },
      "text/plain": [
       "  0%|          | 0/119 [00:00<?, ?it/s]"
      ]
     },
     "metadata": {},
     "output_type": "display_data"
    },
    {
     "name": "stdout",
     "output_type": "stream",
     "text": [
      "Test for lr 1e-05 epoch 27: \n",
      "{'exact_match': 6.722689075630252, 'f1': 13.067941205106086}\n",
      "Training with lr=1e-05 and epoch=28\n"
     ]
    },
    {
     "data": {
      "text/html": [
       "\n",
       "    <div>\n",
       "      \n",
       "      <progress value='63' max='63' style='width:300px; height:20px; vertical-align: middle;'></progress>\n",
       "      [63/63 00:25, Epoch 1/1]\n",
       "    </div>\n",
       "    <table border=\"1\" class=\"dataframe\">\n",
       "  <thead>\n",
       " <tr style=\"text-align: left;\">\n",
       "      <th>Step</th>\n",
       "      <th>Training Loss</th>\n",
       "    </tr>\n",
       "  </thead>\n",
       "  <tbody>\n",
       "  </tbody>\n",
       "</table><p>"
      ],
      "text/plain": [
       "<IPython.core.display.HTML object>"
      ]
     },
     "metadata": {},
     "output_type": "display_data"
    },
    {
     "data": {
      "text/html": [],
      "text/plain": [
       "<IPython.core.display.HTML object>"
      ]
     },
     "metadata": {},
     "output_type": "display_data"
    },
    {
     "data": {
      "application/vnd.jupyter.widget-view+json": {
       "model_id": "3f47df05940e4f3d8a238c92450e1b05",
       "version_major": 2,
       "version_minor": 0
      },
      "text/plain": [
       "  0%|          | 0/119 [00:00<?, ?it/s]"
      ]
     },
     "metadata": {},
     "output_type": "display_data"
    },
    {
     "name": "stdout",
     "output_type": "stream",
     "text": [
      "Validation for lr 1e-05 epoch 28: \n",
      "{'exact_match': 5.882352941176471, 'f1': 12.59268109050814}\n"
     ]
    },
    {
     "data": {
      "text/html": [],
      "text/plain": [
       "<IPython.core.display.HTML object>"
      ]
     },
     "metadata": {},
     "output_type": "display_data"
    },
    {
     "data": {
      "application/vnd.jupyter.widget-view+json": {
       "model_id": "fa69fb29f15149a0ba2cec05415ee291",
       "version_major": 2,
       "version_minor": 0
      },
      "text/plain": [
       "  0%|          | 0/119 [00:00<?, ?it/s]"
      ]
     },
     "metadata": {},
     "output_type": "display_data"
    },
    {
     "name": "stdout",
     "output_type": "stream",
     "text": [
      "Test for lr 1e-05 epoch 28: \n",
      "{'exact_match': 6.722689075630252, 'f1': 13.210069357614861}\n",
      "Training with lr=1e-05 and epoch=29\n"
     ]
    },
    {
     "data": {
      "text/html": [
       "\n",
       "    <div>\n",
       "      \n",
       "      <progress value='63' max='63' style='width:300px; height:20px; vertical-align: middle;'></progress>\n",
       "      [63/63 00:25, Epoch 1/1]\n",
       "    </div>\n",
       "    <table border=\"1\" class=\"dataframe\">\n",
       "  <thead>\n",
       " <tr style=\"text-align: left;\">\n",
       "      <th>Step</th>\n",
       "      <th>Training Loss</th>\n",
       "    </tr>\n",
       "  </thead>\n",
       "  <tbody>\n",
       "  </tbody>\n",
       "</table><p>"
      ],
      "text/plain": [
       "<IPython.core.display.HTML object>"
      ]
     },
     "metadata": {},
     "output_type": "display_data"
    },
    {
     "data": {
      "text/html": [],
      "text/plain": [
       "<IPython.core.display.HTML object>"
      ]
     },
     "metadata": {},
     "output_type": "display_data"
    },
    {
     "data": {
      "application/vnd.jupyter.widget-view+json": {
       "model_id": "848327c0b769479bbde9c4aea64f3e49",
       "version_major": 2,
       "version_minor": 0
      },
      "text/plain": [
       "  0%|          | 0/119 [00:00<?, ?it/s]"
      ]
     },
     "metadata": {},
     "output_type": "display_data"
    },
    {
     "name": "stdout",
     "output_type": "stream",
     "text": [
      "Validation for lr 1e-05 epoch 29: \n",
      "{'exact_match': 6.722689075630252, 'f1': 14.168311342608977}\n"
     ]
    },
    {
     "data": {
      "text/html": [],
      "text/plain": [
       "<IPython.core.display.HTML object>"
      ]
     },
     "metadata": {},
     "output_type": "display_data"
    },
    {
     "data": {
      "application/vnd.jupyter.widget-view+json": {
       "model_id": "73e309adfdc14550bfbf429f257379dc",
       "version_major": 2,
       "version_minor": 0
      },
      "text/plain": [
       "  0%|          | 0/119 [00:00<?, ?it/s]"
      ]
     },
     "metadata": {},
     "output_type": "display_data"
    },
    {
     "name": "stdout",
     "output_type": "stream",
     "text": [
      "Test for lr 1e-05 epoch 29: \n",
      "{'exact_match': 7.563025210084033, 'f1': 13.289698732584664}\n",
      "Training with lr=1e-05 and epoch=30\n"
     ]
    },
    {
     "data": {
      "text/html": [
       "\n",
       "    <div>\n",
       "      \n",
       "      <progress value='63' max='63' style='width:300px; height:20px; vertical-align: middle;'></progress>\n",
       "      [63/63 00:25, Epoch 1/1]\n",
       "    </div>\n",
       "    <table border=\"1\" class=\"dataframe\">\n",
       "  <thead>\n",
       " <tr style=\"text-align: left;\">\n",
       "      <th>Step</th>\n",
       "      <th>Training Loss</th>\n",
       "    </tr>\n",
       "  </thead>\n",
       "  <tbody>\n",
       "  </tbody>\n",
       "</table><p>"
      ],
      "text/plain": [
       "<IPython.core.display.HTML object>"
      ]
     },
     "metadata": {},
     "output_type": "display_data"
    },
    {
     "data": {
      "text/html": [],
      "text/plain": [
       "<IPython.core.display.HTML object>"
      ]
     },
     "metadata": {},
     "output_type": "display_data"
    },
    {
     "data": {
      "application/vnd.jupyter.widget-view+json": {
       "model_id": "60099f56fa464fc3ae2a73428f2ca3ac",
       "version_major": 2,
       "version_minor": 0
      },
      "text/plain": [
       "  0%|          | 0/119 [00:00<?, ?it/s]"
      ]
     },
     "metadata": {},
     "output_type": "display_data"
    },
    {
     "name": "stdout",
     "output_type": "stream",
     "text": [
      "Validation for lr 1e-05 epoch 30: \n",
      "{'exact_match': 6.722689075630252, 'f1': 13.655833624248904}\n"
     ]
    },
    {
     "data": {
      "text/html": [],
      "text/plain": [
       "<IPython.core.display.HTML object>"
      ]
     },
     "metadata": {},
     "output_type": "display_data"
    },
    {
     "data": {
      "application/vnd.jupyter.widget-view+json": {
       "model_id": "d1794b9d0aea4e5ca25f97f7a47fefba",
       "version_major": 2,
       "version_minor": 0
      },
      "text/plain": [
       "  0%|          | 0/119 [00:00<?, ?it/s]"
      ]
     },
     "metadata": {},
     "output_type": "display_data"
    },
    {
     "name": "stdout",
     "output_type": "stream",
     "text": [
      "Test for lr 1e-05 epoch 30: \n",
      "{'exact_match': 6.722689075630252, 'f1': 12.389293412999907}\n",
      "Training with lr=1e-05 and epoch=31\n"
     ]
    },
    {
     "data": {
      "text/html": [
       "\n",
       "    <div>\n",
       "      \n",
       "      <progress value='63' max='63' style='width:300px; height:20px; vertical-align: middle;'></progress>\n",
       "      [63/63 00:25, Epoch 1/1]\n",
       "    </div>\n",
       "    <table border=\"1\" class=\"dataframe\">\n",
       "  <thead>\n",
       " <tr style=\"text-align: left;\">\n",
       "      <th>Step</th>\n",
       "      <th>Training Loss</th>\n",
       "    </tr>\n",
       "  </thead>\n",
       "  <tbody>\n",
       "  </tbody>\n",
       "</table><p>"
      ],
      "text/plain": [
       "<IPython.core.display.HTML object>"
      ]
     },
     "metadata": {},
     "output_type": "display_data"
    },
    {
     "data": {
      "text/html": [],
      "text/plain": [
       "<IPython.core.display.HTML object>"
      ]
     },
     "metadata": {},
     "output_type": "display_data"
    },
    {
     "data": {
      "application/vnd.jupyter.widget-view+json": {
       "model_id": "e14ffd7f50424d8da68ecb3f33da005c",
       "version_major": 2,
       "version_minor": 0
      },
      "text/plain": [
       "  0%|          | 0/119 [00:00<?, ?it/s]"
      ]
     },
     "metadata": {},
     "output_type": "display_data"
    },
    {
     "name": "stdout",
     "output_type": "stream",
     "text": [
      "Validation for lr 1e-05 epoch 31: \n",
      "{'exact_match': 7.563025210084033, 'f1': 15.010189595886574}\n"
     ]
    },
    {
     "data": {
      "text/html": [],
      "text/plain": [
       "<IPython.core.display.HTML object>"
      ]
     },
     "metadata": {},
     "output_type": "display_data"
    },
    {
     "data": {
      "application/vnd.jupyter.widget-view+json": {
       "model_id": "3406dc941c3d49499330f1e0e34eb1bf",
       "version_major": 2,
       "version_minor": 0
      },
      "text/plain": [
       "  0%|          | 0/119 [00:00<?, ?it/s]"
      ]
     },
     "metadata": {},
     "output_type": "display_data"
    },
    {
     "name": "stdout",
     "output_type": "stream",
     "text": [
      "Test for lr 1e-05 epoch 31: \n",
      "{'exact_match': 8.403361344537815, 'f1': 14.21645554706741}\n",
      "Training with lr=1e-05 and epoch=32\n"
     ]
    },
    {
     "data": {
      "text/html": [
       "\n",
       "    <div>\n",
       "      \n",
       "      <progress value='63' max='63' style='width:300px; height:20px; vertical-align: middle;'></progress>\n",
       "      [63/63 00:25, Epoch 1/1]\n",
       "    </div>\n",
       "    <table border=\"1\" class=\"dataframe\">\n",
       "  <thead>\n",
       " <tr style=\"text-align: left;\">\n",
       "      <th>Step</th>\n",
       "      <th>Training Loss</th>\n",
       "    </tr>\n",
       "  </thead>\n",
       "  <tbody>\n",
       "  </tbody>\n",
       "</table><p>"
      ],
      "text/plain": [
       "<IPython.core.display.HTML object>"
      ]
     },
     "metadata": {},
     "output_type": "display_data"
    },
    {
     "data": {
      "text/html": [],
      "text/plain": [
       "<IPython.core.display.HTML object>"
      ]
     },
     "metadata": {},
     "output_type": "display_data"
    },
    {
     "data": {
      "application/vnd.jupyter.widget-view+json": {
       "model_id": "d2e2d2a2ae8b4e1b9c2398a0df59c5ed",
       "version_major": 2,
       "version_minor": 0
      },
      "text/plain": [
       "  0%|          | 0/119 [00:00<?, ?it/s]"
      ]
     },
     "metadata": {},
     "output_type": "display_data"
    },
    {
     "name": "stdout",
     "output_type": "stream",
     "text": [
      "Validation for lr 1e-05 epoch 32: \n",
      "{'exact_match': 8.403361344537815, 'f1': 15.564991226683818}\n"
     ]
    },
    {
     "data": {
      "text/html": [],
      "text/plain": [
       "<IPython.core.display.HTML object>"
      ]
     },
     "metadata": {},
     "output_type": "display_data"
    },
    {
     "data": {
      "application/vnd.jupyter.widget-view+json": {
       "model_id": "2801b38663a84431808cafdb84432420",
       "version_major": 2,
       "version_minor": 0
      },
      "text/plain": [
       "  0%|          | 0/119 [00:00<?, ?it/s]"
      ]
     },
     "metadata": {},
     "output_type": "display_data"
    },
    {
     "name": "stdout",
     "output_type": "stream",
     "text": [
      "Test for lr 1e-05 epoch 32: \n",
      "{'exact_match': 8.403361344537815, 'f1': 14.478261992759174}\n"
     ]
    }
   ],
   "source": [
    "tet_loop(lr_list=[1e-4, 1e-3, 1e-5], epochs=16, batch_size=16)"
   ]
  },
  {
   "cell_type": "code",
   "execution_count": 19,
   "metadata": {
    "execution": {
     "iopub.execute_input": "2025-01-05T06:11:56.447967Z",
     "iopub.status.busy": "2025-01-05T06:11:56.447728Z",
     "iopub.status.idle": "2025-01-05T06:11:56.462963Z",
     "shell.execute_reply": "2025-01-05T06:11:56.462297Z",
     "shell.execute_reply.started": "2025-01-05T06:11:56.447946Z"
    },
    "trusted": true
   },
   "outputs": [],
   "source": [
    "output_metrics_to_file(all_models_eval)"
   ]
  },
  {
   "cell_type": "code",
   "execution_count": 20,
   "metadata": {
    "execution": {
     "iopub.execute_input": "2025-01-05T06:11:56.463849Z",
     "iopub.status.busy": "2025-01-05T06:11:56.463646Z",
     "iopub.status.idle": "2025-01-05T06:11:56.647961Z",
     "shell.execute_reply": "2025-01-05T06:11:56.646831Z",
     "shell.execute_reply.started": "2025-01-05T06:11:56.463825Z"
    },
    "trusted": true
   },
   "outputs": [
    {
     "name": "stdout",
     "output_type": "stream",
     "text": [
      "  adding: results/distilbert-romanian-xquad.json (deflated 86%)\n",
      "  adding: results/distilbert-romanian-xquad-type_test-lr_0.0001-epoch_01.json (deflated 54%)\n",
      "  adding: results/distilbert-romanian-xquad-type_test-lr_0.0001-epoch_02.json (deflated 52%)\n",
      "  adding: results/distilbert-romanian-xquad-type_test-lr_0.0001-epoch_03.json (deflated 52%)\n",
      "  adding: results/distilbert-romanian-xquad-type_test-lr_0.0001-epoch_04.json (deflated 52%)\n",
      "  adding: results/distilbert-romanian-xquad-type_test-lr_0.0001-epoch_05.json (deflated 53%)\n",
      "  adding: results/distilbert-romanian-xquad-type_test-lr_0.0001-epoch_06.json (deflated 52%)\n",
      "  adding: results/distilbert-romanian-xquad-type_test-lr_0.0001-epoch_07.json (deflated 53%)\n",
      "  adding: results/distilbert-romanian-xquad-type_test-lr_0.0001-epoch_08.json (deflated 53%)\n",
      "  adding: results/distilbert-romanian-xquad-type_test-lr_0.0001-epoch_09.json (deflated 52%)\n",
      "  adding: results/distilbert-romanian-xquad-type_test-lr_0.0001-epoch_10.json (deflated 53%)\n",
      "  adding: results/distilbert-romanian-xquad-type_test-lr_0.0001-epoch_11.json (deflated 52%)\n",
      "  adding: results/distilbert-romanian-xquad-type_test-lr_0.0001-epoch_12.json (deflated 53%)\n",
      "  adding: results/distilbert-romanian-xquad-type_test-lr_0.0001-epoch_13.json (deflated 53%)\n",
      "  adding: results/distilbert-romanian-xquad-type_test-lr_0.0001-epoch_14.json (deflated 53%)\n",
      "  adding: results/distilbert-romanian-xquad-type_test-lr_0.0001-epoch_15.json (deflated 52%)\n",
      "  adding: results/distilbert-romanian-xquad-type_test-lr_0.0001-epoch_16.json (deflated 52%)\n",
      "  adding: results/distilbert-romanian-xquad-type_test-lr_0.0001-epoch_17.json (deflated 52%)\n",
      "  adding: results/distilbert-romanian-xquad-type_test-lr_0.0001-epoch_18.json (deflated 52%)\n",
      "  adding: results/distilbert-romanian-xquad-type_test-lr_0.0001-epoch_19.json (deflated 52%)\n",
      "  adding: results/distilbert-romanian-xquad-type_test-lr_0.0001-epoch_20.json (deflated 53%)\n",
      "  adding: results/distilbert-romanian-xquad-type_test-lr_0.0001-epoch_21.json (deflated 53%)\n",
      "  adding: results/distilbert-romanian-xquad-type_test-lr_0.0001-epoch_22.json (deflated 53%)\n",
      "  adding: results/distilbert-romanian-xquad-type_test-lr_0.0001-epoch_23.json (deflated 52%)\n",
      "  adding: results/distilbert-romanian-xquad-type_test-lr_0.0001-epoch_24.json (deflated 54%)\n",
      "  adding: results/distilbert-romanian-xquad-type_test-lr_0.0001-epoch_25.json (deflated 52%)\n",
      "  adding: results/distilbert-romanian-xquad-type_test-lr_0.0001-epoch_26.json (deflated 54%)\n",
      "  adding: results/distilbert-romanian-xquad-type_test-lr_0.0001-epoch_27.json (deflated 52%)\n",
      "  adding: results/distilbert-romanian-xquad-type_test-lr_0.0001-epoch_28.json (deflated 53%)\n",
      "  adding: results/distilbert-romanian-xquad-type_test-lr_0.0001-epoch_29.json (deflated 52%)\n",
      "  adding: results/distilbert-romanian-xquad-type_test-lr_0.0001-epoch_30.json (deflated 53%)\n",
      "  adding: results/distilbert-romanian-xquad-type_test-lr_0.0001-epoch_31.json (deflated 53%)\n",
      "  adding: results/distilbert-romanian-xquad-type_test-lr_0.0001-epoch_32.json (deflated 53%)\n",
      "  adding: results/distilbert-romanian-xquad-type_test-lr_0.001-epoch_01.json (deflated 53%)\n",
      "  adding: results/distilbert-romanian-xquad-type_test-lr_0.001-epoch_02.json (deflated 54%)\n",
      "  adding: results/distilbert-romanian-xquad-type_test-lr_0.001-epoch_03.json (deflated 52%)\n",
      "  adding: results/distilbert-romanian-xquad-type_test-lr_0.001-epoch_04.json (deflated 54%)\n",
      "  adding: results/distilbert-romanian-xquad-type_test-lr_0.001-epoch_05.json (deflated 53%)\n",
      "  adding: results/distilbert-romanian-xquad-type_test-lr_0.001-epoch_06.json (deflated 53%)\n",
      "  adding: results/distilbert-romanian-xquad-type_test-lr_0.001-epoch_07.json (deflated 52%)\n",
      "  adding: results/distilbert-romanian-xquad-type_test-lr_0.001-epoch_08.json (deflated 53%)\n",
      "  adding: results/distilbert-romanian-xquad-type_test-lr_0.001-epoch_09.json (deflated 53%)\n",
      "  adding: results/distilbert-romanian-xquad-type_test-lr_0.001-epoch_10.json (deflated 53%)\n",
      "  adding: results/distilbert-romanian-xquad-type_test-lr_0.001-epoch_11.json (deflated 53%)\n",
      "  adding: results/distilbert-romanian-xquad-type_test-lr_0.001-epoch_12.json (deflated 53%)\n",
      "  adding: results/distilbert-romanian-xquad-type_test-lr_0.001-epoch_13.json (deflated 52%)\n",
      "  adding: results/distilbert-romanian-xquad-type_test-lr_0.001-epoch_14.json (deflated 53%)\n",
      "  adding: results/distilbert-romanian-xquad-type_test-lr_0.001-epoch_15.json (deflated 52%)\n",
      "  adding: results/distilbert-romanian-xquad-type_test-lr_0.001-epoch_16.json (deflated 53%)\n",
      "  adding: results/distilbert-romanian-xquad-type_test-lr_0.001-epoch_17.json (deflated 52%)\n",
      "  adding: results/distilbert-romanian-xquad-type_test-lr_0.001-epoch_18.json (deflated 52%)\n",
      "  adding: results/distilbert-romanian-xquad-type_test-lr_0.001-epoch_19.json (deflated 52%)\n",
      "  adding: results/distilbert-romanian-xquad-type_test-lr_0.001-epoch_20.json (deflated 53%)\n",
      "  adding: results/distilbert-romanian-xquad-type_test-lr_0.001-epoch_21.json (deflated 53%)\n",
      "  adding: results/distilbert-romanian-xquad-type_test-lr_0.001-epoch_22.json (deflated 52%)\n",
      "  adding: results/distilbert-romanian-xquad-type_test-lr_0.001-epoch_23.json (deflated 54%)\n",
      "  adding: results/distilbert-romanian-xquad-type_test-lr_0.001-epoch_24.json (deflated 53%)\n",
      "  adding: results/distilbert-romanian-xquad-type_test-lr_0.001-epoch_25.json (deflated 53%)\n",
      "  adding: results/distilbert-romanian-xquad-type_test-lr_0.001-epoch_26.json (deflated 53%)\n",
      "  adding: results/distilbert-romanian-xquad-type_test-lr_0.001-epoch_27.json (deflated 53%)\n",
      "  adding: results/distilbert-romanian-xquad-type_test-lr_0.001-epoch_28.json (deflated 52%)\n",
      "  adding: results/distilbert-romanian-xquad-type_test-lr_0.001-epoch_29.json (deflated 52%)\n",
      "  adding: results/distilbert-romanian-xquad-type_test-lr_0.001-epoch_30.json (deflated 54%)\n",
      "  adding: results/distilbert-romanian-xquad-type_test-lr_0.001-epoch_31.json (deflated 55%)\n",
      "  adding: results/distilbert-romanian-xquad-type_test-lr_0.001-epoch_32.json (deflated 53%)\n",
      "  adding: results/distilbert-romanian-xquad-type_test-lr_1e-05-epoch_01.json (deflated 52%)\n",
      "  adding: results/distilbert-romanian-xquad-type_test-lr_1e-05-epoch_02.json (deflated 52%)\n",
      "  adding: results/distilbert-romanian-xquad-type_test-lr_1e-05-epoch_03.json (deflated 52%)\n",
      "  adding: results/distilbert-romanian-xquad-type_test-lr_1e-05-epoch_04.json (deflated 54%)\n",
      "  adding: results/distilbert-romanian-xquad-type_test-lr_1e-05-epoch_05.json (deflated 52%)\n",
      "  adding: results/distilbert-romanian-xquad-type_test-lr_1e-05-epoch_06.json (deflated 53%)\n",
      "  adding: results/distilbert-romanian-xquad-type_test-lr_1e-05-epoch_07.json (deflated 52%)\n",
      "  adding: results/distilbert-romanian-xquad-type_test-lr_1e-05-epoch_08.json (deflated 52%)\n",
      "  adding: results/distilbert-romanian-xquad-type_test-lr_1e-05-epoch_09.json (deflated 53%)\n",
      "  adding: results/distilbert-romanian-xquad-type_test-lr_1e-05-epoch_10.json (deflated 53%)\n",
      "  adding: results/distilbert-romanian-xquad-type_test-lr_1e-05-epoch_11.json (deflated 54%)\n",
      "  adding: results/distilbert-romanian-xquad-type_test-lr_1e-05-epoch_12.json (deflated 53%)\n",
      "  adding: results/distilbert-romanian-xquad-type_test-lr_1e-05-epoch_13.json (deflated 52%)\n",
      "  adding: results/distilbert-romanian-xquad-type_test-lr_1e-05-epoch_14.json (deflated 53%)\n",
      "  adding: results/distilbert-romanian-xquad-type_test-lr_1e-05-epoch_15.json (deflated 52%)\n",
      "  adding: results/distilbert-romanian-xquad-type_test-lr_1e-05-epoch_16.json (deflated 53%)\n",
      "  adding: results/distilbert-romanian-xquad-type_test-lr_1e-05-epoch_17.json (deflated 53%)\n",
      "  adding: results/distilbert-romanian-xquad-type_test-lr_1e-05-epoch_18.json (deflated 53%)\n",
      "  adding: results/distilbert-romanian-xquad-type_test-lr_1e-05-epoch_19.json (deflated 53%)\n",
      "  adding: results/distilbert-romanian-xquad-type_test-lr_1e-05-epoch_20.json (deflated 53%)\n",
      "  adding: results/distilbert-romanian-xquad-type_test-lr_1e-05-epoch_21.json (deflated 53%)\n",
      "  adding: results/distilbert-romanian-xquad-type_test-lr_1e-05-epoch_22.json (deflated 53%)\n",
      "  adding: results/distilbert-romanian-xquad-type_test-lr_1e-05-epoch_23.json (deflated 52%)\n",
      "  adding: results/distilbert-romanian-xquad-type_test-lr_1e-05-epoch_24.json (deflated 52%)\n",
      "  adding: results/distilbert-romanian-xquad-type_test-lr_1e-05-epoch_25.json (deflated 53%)\n",
      "  adding: results/distilbert-romanian-xquad-type_test-lr_1e-05-epoch_26.json (deflated 53%)\n",
      "  adding: results/distilbert-romanian-xquad-type_test-lr_1e-05-epoch_27.json (deflated 53%)\n",
      "  adding: results/distilbert-romanian-xquad-type_test-lr_1e-05-epoch_28.json (deflated 52%)\n",
      "  adding: results/distilbert-romanian-xquad-type_test-lr_1e-05-epoch_29.json (deflated 52%)\n",
      "  adding: results/distilbert-romanian-xquad-type_test-lr_1e-05-epoch_30.json (deflated 52%)\n",
      "  adding: results/distilbert-romanian-xquad-type_test-lr_1e-05-epoch_31.json (deflated 52%)\n",
      "  adding: results/distilbert-romanian-xquad-type_test-lr_1e-05-epoch_32.json (deflated 52%)\n",
      "  adding: results/distilbert-romanian-xquad-type_validation-lr_0.0001-epoch_01.json (deflated 53%)\n",
      "  adding: results/distilbert-romanian-xquad-type_validation-lr_0.0001-epoch_02.json (deflated 52%)\n",
      "  adding: results/distilbert-romanian-xquad-type_validation-lr_0.0001-epoch_03.json (deflated 53%)\n",
      "  adding: results/distilbert-romanian-xquad-type_validation-lr_0.0001-epoch_04.json (deflated 52%)\n",
      "  adding: results/distilbert-romanian-xquad-type_validation-lr_0.0001-epoch_05.json (deflated 53%)\n",
      "  adding: results/distilbert-romanian-xquad-type_validation-lr_0.0001-epoch_06.json (deflated 52%)\n",
      "  adding: results/distilbert-romanian-xquad-type_validation-lr_0.0001-epoch_07.json (deflated 52%)\n",
      "  adding: results/distilbert-romanian-xquad-type_validation-lr_0.0001-epoch_08.json (deflated 52%)\n",
      "  adding: results/distilbert-romanian-xquad-type_validation-lr_0.0001-epoch_09.json (deflated 52%)\n",
      "  adding: results/distilbert-romanian-xquad-type_validation-lr_0.0001-epoch_10.json (deflated 52%)\n",
      "  adding: results/distilbert-romanian-xquad-type_validation-lr_0.0001-epoch_11.json (deflated 52%)\n",
      "  adding: results/distilbert-romanian-xquad-type_validation-lr_0.0001-epoch_12.json (deflated 53%)\n",
      "  adding: results/distilbert-romanian-xquad-type_validation-lr_0.0001-epoch_13.json (deflated 52%)\n",
      "  adding: results/distilbert-romanian-xquad-type_validation-lr_0.0001-epoch_14.json (deflated 52%)\n",
      "  adding: results/distilbert-romanian-xquad-type_validation-lr_0.0001-epoch_15.json (deflated 53%)\n",
      "  adding: results/distilbert-romanian-xquad-type_validation-lr_0.0001-epoch_16.json (deflated 52%)\n",
      "  adding: results/distilbert-romanian-xquad-type_validation-lr_0.0001-epoch_17.json (deflated 53%)\n",
      "  adding: results/distilbert-romanian-xquad-type_validation-lr_0.0001-epoch_18.json (deflated 53%)\n",
      "  adding: results/distilbert-romanian-xquad-type_validation-lr_0.0001-epoch_19.json (deflated 53%)\n",
      "  adding: results/distilbert-romanian-xquad-type_validation-lr_0.0001-epoch_20.json (deflated 53%)\n",
      "  adding: results/distilbert-romanian-xquad-type_validation-lr_0.0001-epoch_21.json (deflated 53%)\n",
      "  adding: results/distilbert-romanian-xquad-type_validation-lr_0.0001-epoch_22.json (deflated 52%)\n",
      "  adding: results/distilbert-romanian-xquad-type_validation-lr_0.0001-epoch_23.json (deflated 52%)\n",
      "  adding: results/distilbert-romanian-xquad-type_validation-lr_0.0001-epoch_24.json (deflated 53%)\n",
      "  adding: results/distilbert-romanian-xquad-type_validation-lr_0.0001-epoch_25.json (deflated 52%)\n",
      "  adding: results/distilbert-romanian-xquad-type_validation-lr_0.0001-epoch_26.json (deflated 53%)\n",
      "  adding: results/distilbert-romanian-xquad-type_validation-lr_0.0001-epoch_27.json (deflated 54%)\n",
      "  adding: results/distilbert-romanian-xquad-type_validation-lr_0.0001-epoch_28.json (deflated 52%)\n",
      "  adding: results/distilbert-romanian-xquad-type_validation-lr_0.0001-epoch_29.json (deflated 52%)\n",
      "  adding: results/distilbert-romanian-xquad-type_validation-lr_0.0001-epoch_30.json (deflated 52%)\n",
      "  adding: results/distilbert-romanian-xquad-type_validation-lr_0.0001-epoch_31.json (deflated 52%)\n",
      "  adding: results/distilbert-romanian-xquad-type_validation-lr_0.0001-epoch_32.json (deflated 53%)\n",
      "  adding: results/distilbert-romanian-xquad-type_validation-lr_0.001-epoch_01.json (deflated 53%)\n",
      "  adding: results/distilbert-romanian-xquad-type_validation-lr_0.001-epoch_02.json (deflated 52%)\n",
      "  adding: results/distilbert-romanian-xquad-type_validation-lr_0.001-epoch_03.json (deflated 52%)\n",
      "  adding: results/distilbert-romanian-xquad-type_validation-lr_0.001-epoch_04.json (deflated 52%)\n",
      "  adding: results/distilbert-romanian-xquad-type_validation-lr_0.001-epoch_05.json (deflated 53%)\n",
      "  adding: results/distilbert-romanian-xquad-type_validation-lr_0.001-epoch_06.json (deflated 53%)\n",
      "  adding: results/distilbert-romanian-xquad-type_validation-lr_0.001-epoch_07.json (deflated 52%)\n",
      "  adding: results/distilbert-romanian-xquad-type_validation-lr_0.001-epoch_08.json (deflated 52%)\n",
      "  adding: results/distilbert-romanian-xquad-type_validation-lr_0.001-epoch_09.json (deflated 52%)\n",
      "  adding: results/distilbert-romanian-xquad-type_validation-lr_0.001-epoch_10.json (deflated 53%)\n",
      "  adding: results/distilbert-romanian-xquad-type_validation-lr_0.001-epoch_11.json (deflated 52%)\n",
      "  adding: results/distilbert-romanian-xquad-type_validation-lr_0.001-epoch_12.json (deflated 53%)\n",
      "  adding: results/distilbert-romanian-xquad-type_validation-lr_0.001-epoch_13.json (deflated 52%)\n",
      "  adding: results/distilbert-romanian-xquad-type_validation-lr_0.001-epoch_14.json (deflated 53%)\n",
      "  adding: results/distilbert-romanian-xquad-type_validation-lr_0.001-epoch_15.json (deflated 53%)\n",
      "  adding: results/distilbert-romanian-xquad-type_validation-lr_0.001-epoch_16.json (deflated 53%)\n",
      "  adding: results/distilbert-romanian-xquad-type_validation-lr_0.001-epoch_17.json (deflated 53%)\n",
      "  adding: results/distilbert-romanian-xquad-type_validation-lr_0.001-epoch_18.json (deflated 54%)\n",
      "  adding: results/distilbert-romanian-xquad-type_validation-lr_0.001-epoch_19.json (deflated 53%)\n",
      "  adding: results/distilbert-romanian-xquad-type_validation-lr_0.001-epoch_20.json (deflated 52%)\n",
      "  adding: results/distilbert-romanian-xquad-type_validation-lr_0.001-epoch_21.json (deflated 53%)\n",
      "  adding: results/distilbert-romanian-xquad-type_validation-lr_0.001-epoch_22.json (deflated 54%)\n",
      "  adding: results/distilbert-romanian-xquad-type_validation-lr_0.001-epoch_23.json (deflated 52%)\n",
      "  adding: results/distilbert-romanian-xquad-type_validation-lr_0.001-epoch_24.json (deflated 53%)\n",
      "  adding: results/distilbert-romanian-xquad-type_validation-lr_0.001-epoch_25.json (deflated 52%)\n",
      "  adding: results/distilbert-romanian-xquad-type_validation-lr_0.001-epoch_26.json (deflated 53%)\n",
      "  adding: results/distilbert-romanian-xquad-type_validation-lr_0.001-epoch_27.json (deflated 52%)\n",
      "  adding: results/distilbert-romanian-xquad-type_validation-lr_0.001-epoch_28.json (deflated 53%)\n",
      "  adding: results/distilbert-romanian-xquad-type_validation-lr_0.001-epoch_29.json (deflated 53%)\n",
      "  adding: results/distilbert-romanian-xquad-type_validation-lr_0.001-epoch_30.json (deflated 53%)\n",
      "  adding: results/distilbert-romanian-xquad-type_validation-lr_0.001-epoch_31.json (deflated 53%)\n",
      "  adding: results/distilbert-romanian-xquad-type_validation-lr_0.001-epoch_32.json (deflated 53%)\n",
      "  adding: results/distilbert-romanian-xquad-type_validation-lr_1e-05-epoch_01.json (deflated 53%)\n",
      "  adding: results/distilbert-romanian-xquad-type_validation-lr_1e-05-epoch_02.json (deflated 52%)\n",
      "  adding: results/distilbert-romanian-xquad-type_validation-lr_1e-05-epoch_03.json (deflated 52%)\n",
      "  adding: results/distilbert-romanian-xquad-type_validation-lr_1e-05-epoch_04.json (deflated 53%)\n",
      "  adding: results/distilbert-romanian-xquad-type_validation-lr_1e-05-epoch_05.json (deflated 52%)\n",
      "  adding: results/distilbert-romanian-xquad-type_validation-lr_1e-05-epoch_06.json (deflated 53%)\n",
      "  adding: results/distilbert-romanian-xquad-type_validation-lr_1e-05-epoch_07.json (deflated 53%)\n",
      "  adding: results/distilbert-romanian-xquad-type_validation-lr_1e-05-epoch_08.json (deflated 52%)\n",
      "  adding: results/distilbert-romanian-xquad-type_validation-lr_1e-05-epoch_09.json (deflated 52%)\n",
      "  adding: results/distilbert-romanian-xquad-type_validation-lr_1e-05-epoch_10.json (deflated 53%)\n",
      "  adding: results/distilbert-romanian-xquad-type_validation-lr_1e-05-epoch_11.json (deflated 52%)\n",
      "  adding: results/distilbert-romanian-xquad-type_validation-lr_1e-05-epoch_12.json (deflated 53%)\n",
      "  adding: results/distilbert-romanian-xquad-type_validation-lr_1e-05-epoch_13.json (deflated 52%)\n",
      "  adding: results/distilbert-romanian-xquad-type_validation-lr_1e-05-epoch_14.json (deflated 53%)\n",
      "  adding: results/distilbert-romanian-xquad-type_validation-lr_1e-05-epoch_15.json (deflated 53%)\n",
      "  adding: results/distilbert-romanian-xquad-type_validation-lr_1e-05-epoch_16.json (deflated 53%)\n",
      "  adding: results/distilbert-romanian-xquad-type_validation-lr_1e-05-epoch_17.json (deflated 52%)\n",
      "  adding: results/distilbert-romanian-xquad-type_validation-lr_1e-05-epoch_18.json (deflated 52%)\n",
      "  adding: results/distilbert-romanian-xquad-type_validation-lr_1e-05-epoch_19.json (deflated 53%)\n",
      "  adding: results/distilbert-romanian-xquad-type_validation-lr_1e-05-epoch_20.json (deflated 53%)\n",
      "  adding: results/distilbert-romanian-xquad-type_validation-lr_1e-05-epoch_21.json (deflated 54%)\n",
      "  adding: results/distilbert-romanian-xquad-type_validation-lr_1e-05-epoch_22.json (deflated 52%)\n",
      "  adding: results/distilbert-romanian-xquad-type_validation-lr_1e-05-epoch_23.json (deflated 53%)\n",
      "  adding: results/distilbert-romanian-xquad-type_validation-lr_1e-05-epoch_24.json (deflated 52%)\n",
      "  adding: results/distilbert-romanian-xquad-type_validation-lr_1e-05-epoch_25.json (deflated 53%)\n",
      "  adding: results/distilbert-romanian-xquad-type_validation-lr_1e-05-epoch_26.json (deflated 51%)\n",
      "  adding: results/distilbert-romanian-xquad-type_validation-lr_1e-05-epoch_27.json (deflated 52%)\n",
      "  adding: results/distilbert-romanian-xquad-type_validation-lr_1e-05-epoch_28.json (deflated 53%)\n",
      "  adding: results/distilbert-romanian-xquad-type_validation-lr_1e-05-epoch_29.json (deflated 52%)\n",
      "  adding: results/distilbert-romanian-xquad-type_validation-lr_1e-05-epoch_30.json (deflated 53%)\n",
      "  adding: results/distilbert-romanian-xquad-type_validation-lr_1e-05-epoch_31.json (deflated 52%)\n",
      "  adding: results/distilbert-romanian-xquad-type_validation-lr_1e-05-epoch_32.json (deflated 53%)\n"
     ]
    },
    {
     "name": "stderr",
     "output_type": "stream",
     "text": [
      "/usr/lib/python3.10/pty.py:89: RuntimeWarning: os.fork() was called. os.fork() is incompatible with multithreaded code, and JAX is multithreaded, so this will likely lead to a deadlock.\n",
      "  pid, fd = os.forkpty()\n"
     ]
    }
   ],
   "source": [
    "!zip results_ro.zip results/*.json"
   ]
  }
 ],
 "metadata": {
  "kaggle": {
   "accelerator": "gpu",
   "dataSources": [],
   "dockerImageVersionId": 30823,
   "isGpuEnabled": true,
   "isInternetEnabled": true,
   "language": "python",
   "sourceType": "notebook"
  },
  "kernelspec": {
   "display_name": "venv",
   "language": "python",
   "name": "python3"
  },
  "language_info": {
   "codemirror_mode": {
    "name": "ipython",
    "version": 3
   },
   "file_extension": ".py",
   "mimetype": "text/x-python",
   "name": "python",
   "nbconvert_exporter": "python",
   "pygments_lexer": "ipython3",
   "version": "3.10.12"
  }
 },
 "nbformat": 4,
 "nbformat_minor": 4
}
