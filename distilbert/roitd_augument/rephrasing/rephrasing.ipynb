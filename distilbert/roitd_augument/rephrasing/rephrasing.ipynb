{
 "cells": [
  {
   "cell_type": "code",
   "execution_count": 1,
   "metadata": {},
   "outputs": [],
   "source": [
    "from sentence_transformers import SentenceTransformer, util\n",
    "from datasets import load_dataset, Dataset\n",
    "from tqdm.auto import tqdm\n",
    "import json\n",
    "import pandas as pd\n",
    "import numpy as np\n",
    "from transformers import T5ForConditionalGeneration, T5TokenizerFast "
   ]
  },
  {
   "cell_type": "code",
   "execution_count": 18,
   "metadata": {},
   "outputs": [
    {
     "name": "stderr",
     "output_type": "stream",
     "text": [
      "huggingface/tokenizers: The current process just got forked, after parallelism has already been used. Disabling parallelism to avoid deadlocks...\n",
      "To disable this warning, you can either:\n",
      "\t- Avoid using `tokenizers` before the fork if possible\n",
      "\t- Explicitly set the environment variable TOKENIZERS_PARALLELISM=(true | false)\n"
     ]
    }
   ],
   "source": [
    "model = T5ForConditionalGeneration.from_pretrained(\"BlackKakapo/t5-base-paraphrase-ro\")\n",
    "tokenizer = T5TokenizerFast.from_pretrained(\"BlackKakapo/t5-base-paraphrase-ro\")"
   ]
  },
  {
   "cell_type": "code",
   "execution_count": 3,
   "metadata": {},
   "outputs": [
    {
     "data": {
      "text/html": [
       "<div>\n",
       "<style scoped>\n",
       "    .dataframe tbody tr th:only-of-type {\n",
       "        vertical-align: middle;\n",
       "    }\n",
       "\n",
       "    .dataframe tbody tr th {\n",
       "        vertical-align: top;\n",
       "    }\n",
       "\n",
       "    .dataframe thead th {\n",
       "        text-align: right;\n",
       "    }\n",
       "</style>\n",
       "<table border=\"1\" class=\"dataframe\">\n",
       "  <thead>\n",
       "    <tr style=\"text-align: right;\">\n",
       "      <th></th>\n",
       "      <th>id</th>\n",
       "      <th>context</th>\n",
       "      <th>question</th>\n",
       "      <th>answers</th>\n",
       "    </tr>\n",
       "  </thead>\n",
       "  <tbody>\n",
       "    <tr>\n",
       "      <th>0</th>\n",
       "      <td>YJ95VF1770</td>\n",
       "      <td>Aplicatii &amp; notificari (disponibil cand telefo...</td>\n",
       "      <td>Ce tip de ecran conduce la o încărcare mai rar...</td>\n",
       "      <td>{'text': ['Ecran always-on', 'Ecran always-o']...</td>\n",
       "    </tr>\n",
       "    <tr>\n",
       "      <th>1</th>\n",
       "      <td>YL83VU1211</td>\n",
       "      <td>Utilizati senzorul Pulse Ox pentru a verifica ...</td>\n",
       "      <td>Ce senzor este utilizat pentru observarea temp...</td>\n",
       "      <td>{'text': ['Pulse Ox', 'senzorul Pulse Ox '], '...</td>\n",
       "    </tr>\n",
       "    <tr>\n",
       "      <th>2</th>\n",
       "      <td>DA68SX6997</td>\n",
       "      <td>Poate fi scufundat pana la 50 de metri, de ase...</td>\n",
       "      <td>Câte moduri de exerciții profesioniste oferă d...</td>\n",
       "      <td>{'text': ['Amazfit GTR accepta 12 moduri de ex...</td>\n",
       "    </tr>\n",
       "    <tr>\n",
       "      <th>3</th>\n",
       "      <td>TP61GG6784</td>\n",
       "      <td>Combina frigoriﬁca independenta poate ﬁ acum i...</td>\n",
       "      <td>Ce sistem de închidere a ușilor are dispzoitivul?</td>\n",
       "      <td>{'text': ['la 90º ', 'Sistemul de deschidere a...</td>\n",
       "    </tr>\n",
       "    <tr>\n",
       "      <th>4</th>\n",
       "      <td>ZJ97KL5342</td>\n",
       "      <td>Frigiderele de sine statatoare de la Miele cu ...</td>\n",
       "      <td>Ce mecanism face mai ușoară închiderea ușilor?</td>\n",
       "      <td>{'text': ['Click2open', 'Mecanismul Click2open...</td>\n",
       "    </tr>\n",
       "    <tr>\n",
       "      <th>5</th>\n",
       "      <td>AF88XY3440</td>\n",
       "      <td>Sertarul Crispzone.Sertar mare pentru fructe s...</td>\n",
       "      <td>Care este denumirea sertarului care permite sc...</td>\n",
       "      <td>{'text': ['CrispZone', 'Sertarul Crispzone'], ...</td>\n",
       "    </tr>\n",
       "    <tr>\n",
       "      <th>6</th>\n",
       "      <td>PE47WS5286</td>\n",
       "      <td>DoorCooling+™.Racire cu pana la 32%* mai rapid...</td>\n",
       "      <td>Care este rolul aerisirilor din partea laterală?</td>\n",
       "      <td>{'text': ['mentin temperatura pentru a pastra ...</td>\n",
       "    </tr>\n",
       "    <tr>\n",
       "      <th>7</th>\n",
       "      <td>GZ22OI3120</td>\n",
       "      <td>WiFi: Control de la distanta, prin WiFi, cu aj...</td>\n",
       "      <td>Care este temperatura maximă exterioară la car...</td>\n",
       "      <td>{'text': ['-15°C', '-15oC'], 'answer_start': [...</td>\n",
       "    </tr>\n",
       "    <tr>\n",
       "      <th>8</th>\n",
       "      <td>ES30DU9549</td>\n",
       "      <td>Functia PacePro, prima de acest fel, va ajuta ...</td>\n",
       "      <td>Care este succesorul prmei funcții de menținer...</td>\n",
       "      <td>{'text': ['PacePro', 'Functia PacePro'], 'answ...</td>\n",
       "    </tr>\n",
       "    <tr>\n",
       "      <th>9</th>\n",
       "      <td>HL57XJ9615</td>\n",
       "      <td>Aplicatia de fitness din ceas va permite sa ur...</td>\n",
       "      <td>De unde este accesibilă aplicația meteo?</td>\n",
       "      <td>{'text': ['de pe ecranul de pornire al ceasulu...</td>\n",
       "    </tr>\n",
       "  </tbody>\n",
       "</table>\n",
       "</div>"
      ],
      "text/plain": [
       "           id                                            context  \\\n",
       "0  YJ95VF1770  Aplicatii & notificari (disponibil cand telefo...   \n",
       "1  YL83VU1211  Utilizati senzorul Pulse Ox pentru a verifica ...   \n",
       "2  DA68SX6997  Poate fi scufundat pana la 50 de metri, de ase...   \n",
       "3  TP61GG6784  Combina frigoriﬁca independenta poate ﬁ acum i...   \n",
       "4  ZJ97KL5342  Frigiderele de sine statatoare de la Miele cu ...   \n",
       "5  AF88XY3440  Sertarul Crispzone.Sertar mare pentru fructe s...   \n",
       "6  PE47WS5286  DoorCooling+™.Racire cu pana la 32%* mai rapid...   \n",
       "7  GZ22OI3120  WiFi: Control de la distanta, prin WiFi, cu aj...   \n",
       "8  ES30DU9549  Functia PacePro, prima de acest fel, va ajuta ...   \n",
       "9  HL57XJ9615  Aplicatia de fitness din ceas va permite sa ur...   \n",
       "\n",
       "                                            question  \\\n",
       "0  Ce tip de ecran conduce la o încărcare mai rar...   \n",
       "1  Ce senzor este utilizat pentru observarea temp...   \n",
       "2  Câte moduri de exerciții profesioniste oferă d...   \n",
       "3  Ce sistem de închidere a ușilor are dispzoitivul?   \n",
       "4     Ce mecanism face mai ușoară închiderea ușilor?   \n",
       "5  Care este denumirea sertarului care permite sc...   \n",
       "6   Care este rolul aerisirilor din partea laterală?   \n",
       "7  Care este temperatura maximă exterioară la car...   \n",
       "8  Care este succesorul prmei funcții de menținer...   \n",
       "9           De unde este accesibilă aplicația meteo?   \n",
       "\n",
       "                                             answers  \n",
       "0  {'text': ['Ecran always-on', 'Ecran always-o']...  \n",
       "1  {'text': ['Pulse Ox', 'senzorul Pulse Ox '], '...  \n",
       "2  {'text': ['Amazfit GTR accepta 12 moduri de ex...  \n",
       "3  {'text': ['la 90º ', 'Sistemul de deschidere a...  \n",
       "4  {'text': ['Click2open', 'Mecanismul Click2open...  \n",
       "5  {'text': ['CrispZone', 'Sertarul Crispzone'], ...  \n",
       "6  {'text': ['mentin temperatura pentru a pastra ...  \n",
       "7  {'text': ['-15°C', '-15oC'], 'answer_start': [...  \n",
       "8  {'text': ['PacePro', 'Functia PacePro'], 'answ...  \n",
       "9  {'text': ['de pe ecranul de pornire al ceasulu...  "
      ]
     },
     "execution_count": 3,
     "metadata": {},
     "output_type": "execute_result"
    }
   ],
   "source": [
    "with open('ds_roitd_ollama_final_sorted_2.json', 'r') as f:\n",
    "    data = json.load(f)\n",
    "    \n",
    "df = pd.DataFrame(data)\n",
    "df.head(10)"
   ]
  },
  {
   "cell_type": "code",
   "execution_count": 4,
   "metadata": {},
   "outputs": [],
   "source": [
    "eval_answer = SentenceTransformer(\"BlackKakapo/stsb-xlm-r-multilingual-ro\")"
   ]
  },
  {
   "cell_type": "code",
   "execution_count": 5,
   "metadata": {},
   "outputs": [
    {
     "name": "stdout",
     "output_type": "stream",
     "text": [
      "(4417, 4)\n",
      "4417\n"
     ]
    }
   ],
   "source": [
    "print(df.shape)\n",
    "print(len(data))"
   ]
  },
  {
   "cell_type": "code",
   "execution_count": 6,
   "metadata": {},
   "outputs": [
    {
     "data": {
      "application/vnd.jupyter.widget-view+json": {
       "model_id": "c2deae133d064183b8a3bc1c7b98e727",
       "version_major": 2,
       "version_minor": 0
      },
      "text/plain": [
       "  0%|          | 0/4417 [00:00<?, ?it/s]"
      ]
     },
     "metadata": {},
     "output_type": "display_data"
    }
   ],
   "source": [
    "scores = []\n",
    "for i in tqdm(range(len(data))):\n",
    "    try:\n",
    "        scores.append(util.pytorch_cos_sim(eval_answer.encode(df['answers'][i]['text'][0], convert_to_tensor=True), \n",
    "                                       eval_answer.encode(df['question'][i], convert_to_tensor=True)).item())\n",
    "    except:\n",
    "        print(type(df['answers'][i]))\n",
    "        print(df.iloc[i])\n",
    "        break"
   ]
  },
  {
   "cell_type": "code",
   "execution_count": 7,
   "metadata": {},
   "outputs": [
    {
     "name": "stdout",
     "output_type": "stream",
     "text": [
      "0.3584697827005635\n",
      "0.1850522423436764\n"
     ]
    }
   ],
   "source": [
    "scores = np.array(scores)\n",
    "print(scores.mean())\n",
    "print(scores.std())"
   ]
  },
  {
   "cell_type": "code",
   "execution_count": 8,
   "metadata": {},
   "outputs": [
    {
     "name": "stdout",
     "output_type": "stream",
     "text": [
      "(115,)\n"
     ]
    }
   ],
   "source": [
    "scores_filter = scores[(scores > scores.mean() + 2 * scores.std()) | (scores < scores.mean() - 2 * scores.std())]\n",
    "print(scores_filter.shape)"
   ]
  },
  {
   "cell_type": "code",
   "execution_count": 20,
   "metadata": {},
   "outputs": [
    {
     "data": {
      "application/vnd.jupyter.widget-view+json": {
       "model_id": "02fd9e6ddd8d43de9bd9cc7bc2f1f883",
       "version_major": 2,
       "version_minor": 0
      },
      "text/plain": [
       "  0%|          | 0/4417 [00:00<?, ?it/s]"
      ]
     },
     "metadata": {},
     "output_type": "display_data"
    },
    {
     "name": "stdout",
     "output_type": "stream",
     "text": [
      "Care este rolul aerisirilor din partea laterală?\n",
      "----\n",
      "Care este rolul respirației din partea următoare?\n",
      "Care este Rezolutia care  iti permite sa apropii imaginea oricat ai nevoie?\n",
      "----\n",
      "Care este Rezolutia care permite sa apropia imaginea oricata pe care o doriți?\n",
      "Câte zile de utilizare sunt permise printr-o încărcare de 1 oră?\n",
      "----\n",
      "Câte zile pot folosi într-o încărcare de o oră?\n",
      "Cât timp poate fi ținută ușa închisă fără a afecta calitatea alimentelor?\n",
      "----\n",
      "Cât de mult timp va fi ținută ușa închisă fără să afecteze calitatea alimentelor?\n",
      "Care este cel mai subțire ceas inteligent de pe piață?\n",
      "----\n",
      "Care este cel mai subțire ceasul inteligent din lume?\n",
      "Câte programe scurte are mașina?\n",
      "----\n",
      "Câte programe are această mașină?\n",
      "Care sunt elementele care nu pot fi afișate pe ecranul LED?\n",
      "----\n",
      "Elementele care nu pot fi afișate pe ecranul LED?\n",
      "Care este cel mai scurt program al mașinii?\n",
      "----\n",
      "Care este cel mai scurt program de mașină?\n",
      "Câte programe scurte are mașina?\n",
      "----\n",
      "Câte programe are această mașină?\n",
      "Câte programe scurte are mașina?\n",
      "----\n",
      "Când va fi scurtă mașina?\n",
      "În ce sens se rotește ventilatorul din dreapta?\n",
      "----\n",
      "Din ce motiv, se rotește ventilatorul din dreapta?\n",
      "Care este rata de curbură cea mai puțin confortabilă pentru ochiul uman?\n",
      "----\n",
      "Care este rata de curbură cea mai mică confortabilă pentru ochiul uman?\n",
      "Care este valoarea raportului ecran-corp?\n",
      "----\n",
      "Care este valoarea raportului de bord?\n",
      "Cu ce versiune de android este echipat Cubot, J5?\n",
      "----\n",
      "J5 este versiunea de android cu Cubot.\n",
      "Cum devine surprinzator de mare telefonul?\n",
      "----\n",
      "Cum devine surprinzător de mare telefonul, vă rog.\n",
      "Ce incarcare lenta are telefonul?\n",
      "----\n",
      "Există vreun entuziasm lent care are telefonul?\n",
      "Cum se realizeaza frezarea simultană periferică și frontală?\n",
      "----\n",
      "Cum se realizează frezarea simultană periferică și frontală?\n",
      "Din ce motiv nu pot fi utilizate frezele cu trei taisuri la prelucrarea canalelor cu tolerante mici?\n",
      "----\n",
      "De ce nu pot folosi frezele cu trei taisuri în prelucrarea canalelor cu tolerante mici?\n",
      "Ce este un nit?\n",
      "----\n",
      "Ce este o tickă?\n",
      "Cum influenteaza intensitatea curentului stratul de cupru?\n",
      "----\n",
      "Cum influent intensitatea fluxului de cupru pe stratul de cupru?\n",
      "ce parte consuma o cantitate mai mare de caldura?\n",
      "----\n",
      "Ce parte consumă mai mult de caldura?\n",
      "Ce garantie este oferita pentru calorifele de aluminiu?\n",
      "----\n",
      "Ce garantează că va fi oferit calorifele de aluminiu?\n",
      "In ce operatiuni consta procesul de emailare?\n",
      "----\n",
      "De ce operatiunile de faxare continuă?\n",
      "Ce dispozitive include switch-uri?\n",
      "----\n",
      "Ce dispozitive are switch-uri și alte mașini?\n",
      "Ce autonomie are acumulatorul Li-Ion al unui smartphone?\n",
      "----\n",
      "Această autonomie are acumulat Li-Ion al unui smartphone?\n",
      "Ce tipuri de poliesteri sunt biodegradabili?\n",
      "----\n",
      "Ce tipuri de polițeri sunt reci biodegradabile?\n",
      "Cum determina detectorul de gaz electrochimic concentratia de gaz?\n",
      "----\n",
      "De ce detectorul de gaz electrochimic concentratia de gaz este?\n",
      "Ce dispozitive pot rula sistemul de operare Windows XP?\n",
      "----\n",
      "Ce dispozitive pot conduce sistemul de operare Windows XP?\n",
      "Cine a scris scenariul omonim?\n",
      "----\n",
      "Cine a scris omonim?\n",
      "Ce fel de cip Apple are Apple iPhone SE 2?\n",
      "----\n",
      "Apple are iPhone SE 2?\n"
     ]
    }
   ],
   "source": [
    "final_data = []\n",
    "results = {\n",
    "    0.85: 0,\n",
    "    0.9: 0\n",
    "}\n",
    "good = 0\n",
    "\n",
    "for i in tqdm(range(len(data))):\n",
    "    final_data.append(data[i])\n",
    "    \n",
    "    if scores[i] not in scores_filter:\n",
    "        continue\n",
    "    \n",
    "    encq = tokenizer.encode_plus(df['question'][i], return_tensors=\"pt\", truncation=True, padding=\"max_length\")\n",
    "    input_ids, attn_masks = encq[\"input_ids\"], encq[\"attention_mask\"]\n",
    "    \n",
    "    outs85 = []\n",
    "    scores85 = []\n",
    "    outs9 = []\n",
    "    scores9 = []\n",
    "\n",
    "    generated_rephrasings = model.generate(\n",
    "        input_ids=input_ids,\n",
    "        attention_mask=attn_masks,\n",
    "        max_length=256,\n",
    "        early_stopping=True,\n",
    "        top_p=0.85,\n",
    "        top_k=30,\n",
    "        num_return_sequences=5,\n",
    "        num_beams=5,\n",
    "        do_sample=True\n",
    "    )\n",
    "    \n",
    "    for generated in generated_rephrasings:\n",
    "        tpara = tokenizer.decode(generated, skip_special_tokens=True, clean_up_tokenization_spaces=True)\n",
    "        \n",
    "        if df['question'][i].lower() != tpara.lower():\n",
    "            outs85.append(tpara)\n",
    "    \n",
    "    \n",
    "    generated_rephrasings = model.generate(\n",
    "        input_ids=input_ids,\n",
    "        attention_mask=attn_masks,\n",
    "        max_length=256,\n",
    "        early_stopping=True,\n",
    "        top_p=0.9,\n",
    "        top_k=30,\n",
    "        num_return_sequences=5,\n",
    "        num_beams=5,\n",
    "        do_sample=True\n",
    "        \n",
    "    )\n",
    "    \n",
    "    for generated in generated_rephrasings:\n",
    "        tpara = tokenizer.decode(generated, skip_special_tokens=True, clean_up_tokenization_spaces=True)\n",
    "        \n",
    "        if df['question'][i].lower() != tpara.lower():\n",
    "            outs9.append(tpara)\n",
    "        \n",
    "    \n",
    "    for out in outs85:\n",
    "        scores85.append(util.pytorch_cos_sim(eval_answer.encode(df['answers'][i]['text'][0], convert_to_tensor=True), \n",
    "                                       eval_answer.encode(out, convert_to_tensor=True)).item())\n",
    "        \n",
    "    for out in outs9:\n",
    "        scores9.append(util.pytorch_cos_sim(eval_answer.encode(df['answers'][i]['text'][0], convert_to_tensor=True), \n",
    "                                       eval_answer.encode(out, convert_to_tensor=True)).item())\n",
    "    \n",
    "    max85 = max(scores85)\n",
    "    max9 = max(scores9)\n",
    "    \n",
    "    newq = ''\n",
    "    if max85 > max9 and max85 < scores.mean() + 2 * scores.std() and max85 > scores.mean() - 2 * scores.std():\n",
    "        results[0.85] += 1\n",
    "        for j in range(len(scores85)):\n",
    "            if scores85[j] == max85:\n",
    "                newq = outs85[j]\n",
    "                break\n",
    "    elif max9 < scores.mean() + 2 * scores.std() and max9 > scores.mean() - 2 * scores.std():\n",
    "        results[0.9] += 1\n",
    "        for j in range(len(scores9)):\n",
    "            if scores9[j] == max9:\n",
    "                newq = outs9[j]\n",
    "                break\n",
    "    \n",
    "    if newq != '':\n",
    "        new_data = data[i].copy()\n",
    "        print(new_data['question'])\n",
    "        new_data['question'] = newq\n",
    "        print('----')\n",
    "        print(newq)\n",
    "        \n",
    "        final_data.append(new_data)\n",
    "        \n",
    "        good += 1"
   ]
  },
  {
   "cell_type": "code",
   "execution_count": 21,
   "metadata": {},
   "outputs": [
    {
     "name": "stdout",
     "output_type": "stream",
     "text": [
      "4417\n",
      "30\n",
      "4447\n"
     ]
    }
   ],
   "source": [
    "print(len(data))\n",
    "print(good)\n",
    "print(len(final_data))"
   ]
  },
  {
   "cell_type": "code",
   "execution_count": 23,
   "metadata": {},
   "outputs": [],
   "source": [
    "with open('ds_roitd_ollama_sorted_rephrased.json', 'w') as f:\n",
    "    json.dump(final_data, f, indent=4)"
   ]
  }
 ],
 "metadata": {
  "kernelspec": {
   "display_name": "venv",
   "language": "python",
   "name": "python3"
  },
  "language_info": {
   "codemirror_mode": {
    "name": "ipython",
    "version": 3
   },
   "file_extension": ".py",
   "mimetype": "text/x-python",
   "name": "python",
   "nbconvert_exporter": "python",
   "pygments_lexer": "ipython3",
   "version": "3.10.12"
  }
 },
 "nbformat": 4,
 "nbformat_minor": 2
}
