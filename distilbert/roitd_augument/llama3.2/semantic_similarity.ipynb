{
 "cells": [
  {
   "cell_type": "markdown",
   "metadata": {},
   "source": [
    "# Import libraries"
   ]
  },
  {
   "cell_type": "code",
   "execution_count": 105,
   "metadata": {},
   "outputs": [],
   "source": [
    "from sentence_transformers import SentenceTransformer, util\n",
    "from datasets import load_dataset, Dataset\n",
    "import json\n",
    "import pandas as pd"
   ]
  },
  {
   "cell_type": "markdown",
   "metadata": {},
   "source": [
    "# Get the dataset from local"
   ]
  },
  {
   "cell_type": "code",
   "execution_count": 2,
   "metadata": {},
   "outputs": [
    {
     "data": {
      "application/vnd.jupyter.widget-view+json": {
       "model_id": "b8b5315b599943c5890d7fe3d2cac5e3",
       "version_major": 2,
       "version_minor": 0
      },
      "text/plain": [
       "Generating train split: 0 examples [00:00, ? examples/s]"
      ]
     },
     "metadata": {},
     "output_type": "display_data"
    },
    {
     "data": {
      "text/plain": [
       "DatasetDict({\n",
       "    train: Dataset({\n",
       "        features: ['Unnamed: 0', 'id', 'context', 'question', 'answers'],\n",
       "        num_rows: 4417\n",
       "    })\n",
       "})"
      ]
     },
     "execution_count": 2,
     "metadata": {},
     "output_type": "execute_result"
    }
   ],
   "source": [
    "ds = load_dataset(\"csv\", data_files=\"ds_roitd_ollama_final.csv\")\n",
    "ds"
   ]
  },
  {
   "cell_type": "code",
   "execution_count": 3,
   "metadata": {},
   "outputs": [
    {
     "data": {
      "text/plain": [
       "{'text': ['niveluri acustice reduse'], 'answer_start': [49]}"
      ]
     },
     "execution_count": 3,
     "metadata": {},
     "output_type": "execute_result"
    }
   ],
   "source": [
    "json.loads(ds['train'][300]['answers'].replace(\"'\", '\"'))"
   ]
  },
  {
   "cell_type": "code",
   "execution_count": 101,
   "metadata": {},
   "outputs": [
    {
     "data": {
      "text/plain": [
       "[{'id': 'YJ95VF1770',\n",
       "  'context': 'Aplicatii & notificari (disponibil cand telefonul este in apropiere);\\nStocare si redare muzica;Ecran always-on (necesita o incarcare mai frecventa a bateriei);Autonomie baterie +5 zile (autonomnia bateriei variaza in functie de folosire si alti factori);Plata cu ceasul Fitbit Pay.',\n",
       "  'question': 'Ce tip de ecran conduce la o încărcare mai rară a dispozitivului?',\n",
       "  'answers': {'text': ['Ecran always-o', 'Ecran always-on'],\n",
       "   'answer_start': [96, 95]}},\n",
       " {'id': 'YL83VU1211',\n",
       "  'context': 'Utilizati senzorul Pulse Ox pentru a verifica saturatia de oxigen din sange in orice moment din zi, sau pentru o parte din noapte, in timpul somnului, pentru a arata cat de bine absoarbe corpul dvs. oxigen.\\n',\n",
       "  'question': 'Ce senzor este utilizat pentru observarea temperaturii corpului?',\n",
       "  'answers': {'text': ['senzorul Pulse Ox ', 'Pulse Ox'],\n",
       "   'answer_start': [11, 19]}},\n",
       " {'id': 'DA68SX6997',\n",
       "  'context': 'Poate fi scufundat pana la 50 de metri, de asemenea Amazfit GTR suporta diferite stiluri de inot.\\tAmazfit GTR accepta 12 moduri de exercitiu mainstream. Acestea sunt alergari in aer liber, mers, ciclism in aer liber, ciclism in interior, banda de alergare, antrenor eliptic, urcare, trasee, inot in piscina, inot in apa deschisa, schi, exercitii fizice.',\n",
       "  'question': 'Câte moduri de exerciții profesioniste oferă dispozitivul?',\n",
       "  'answers': {'text': ['12 moduri de exercitiu mainstream',\n",
       "    'Amazfit GTR accepta 12 moduri de exercitiu mainstream'],\n",
       "   'answer_start': [119, 98]}},\n",
       " {'id': 'TP61GG6784',\n",
       "  'context': 'Combina frigoriﬁca independenta poate ﬁ acum incorporata in mobila de bucatarie. Sistemul de deschidere a usii la 90º permite integrarea perfecta a combinei frigoriﬁce in bucataria ta, fara a iesi din linia mobilierului.Incastrarea  condensatorului in peretii laterali permite eﬁcientizarea spatiului in bucataria ta.\\t',\n",
       "  'question': 'Ce sistem de închidere a ușilor are dispzoitivul?',\n",
       "  'answers': {'text': ['la 90º ', 'Sistemul de deschidere a usii la 90º'],\n",
       "   'answer_start': [112, 81]}},\n",
       " {'id': 'ZJ97KL5342',\n",
       "  'context': 'Frigiderele de sine statatoare de la Miele cu tehnologia Click2open au un mecanism de deschidere deosebit de usor si elegant. Actiunea de deschidere asistata permite mai usor contracararea efectului de vid din frigider, ceea ce permite deschiderea mai usoara a aparatului. Mecanismul Click2open dispare in peretele lateral al usii, oferind mai mult spatiu pentru noul design exterior.\\t',\n",
       "  'question': 'Ce mecanism face mai ușoară închiderea ușilor?',\n",
       "  'answers': {'text': ['Click2open', 'Mecanismul Click2open'],\n",
       "   'answer_start': [58, 273]}},\n",
       " {'id': 'AF88XY3440',\n",
       "  'context': 'Sertarul Crispzone.Sertar mare pentru fructe si legume.Sertarul spatios CrispZone este proiectat pentru a pastra nutrientii si pentru a prelungi prospetimea alimentelor. Datorita temperaturii scazute produsele alimentare isi pastreaza calitatile pentru mai mult timp.',\n",
       "  'question': 'Care este denumirea sertarului care permite scăderea temperaturii pînă la 2 grade?',\n",
       "  'answers': {'text': ['Sertarul Crispzone', 'CrispZone'],\n",
       "   'answer_start': [1, 72]}},\n",
       " {'id': 'PE47WS5286',\n",
       "  'context': 'DoorCooling+™.Racire cu pana la 32%* mai rapida si mai uniforma.Aerisirile din partea frontala a frigiderului mentin temperatura pentru a pastra alimentele proaspete.',\n",
       "  'question': 'Care este rolul aerisirilor din partea laterală?',\n",
       "  'answers': {'text': ['mentin temperatura pentru a pastra alimentele proaspete',\n",
       "    'Aerisirile din partea frontala'],\n",
       "   'answer_start': [111, 64]}},\n",
       " {'id': 'GZ22OI3120',\n",
       "  'context': 'WiFi: Control de la distanta, prin WiFi, cu ajutorul aplicatiei specifice si telefonului mobil inteligent.-15°C Racire: Functionare in modul de racire pana la temperatura exterioara de -15oC.-15°C Incalzire: Functionare in modul de incalzire pana la temperatura exterioara de -15oC',\n",
       "  'question': 'Care este temperatura maximă exterioară la care dispozitivul funcționează în modul răcire?',\n",
       "  'answers': {'text': ['-15oC', '-15°C'], 'answer_start': [186, 106]}},\n",
       " {'id': 'ES30DU9549',\n",
       "  'context': 'Functia PacePro, prima de acest fel, va ajuta sa va mentineti ritmul prin indicatii in functie de gradient in timp ce alergati pe un anumit traseu.Vizualizati in ce mod afecteaza diversele setari si senzorii ceasului durata de viata a bateriei ceasului, astfel incat sa puteti efectua din mers modificari destinate prelungirii duratei de viata a bateriei.\\n\\n',\n",
       "  'question': 'Care este succesorul prmei funcții de menținere a ritmului în funcție de gradient?',\n",
       "  'answers': {'text': ['PacePro', 'Functia PacePro'], 'answer_start': [9, 0]}},\n",
       " {'id': 'HL57XJ9615',\n",
       "  'context': 'Aplicatia de fitness din ceas va permite sa urmariti in orice moment progresul dvs. catre obiectivele dvs. Aplicatia de fitness este accesibila de pe ecranul de pornire al ceasului dvs. si ofera o gazda o activitate urmarita. Alergarea, mersul cu bicicleta, mersul pe jos, inotul, inclusiv sporturile preferate, cum ar fi fotbalul, baschetul, voleiul si antrenamentul imens popular care cuprinde globul.',\n",
       "  'question': 'De unde este accesibilă aplicația meteo?',\n",
       "  'answers': {'text': ['de pe ecranul de pornire al ceasului',\n",
       "    'Aplicatia de fitness este accesibila de pe ecranul de pornire al ceasului'],\n",
       "   'answer_start': [145, 107]}}]"
      ]
     },
     "execution_count": 101,
     "metadata": {},
     "output_type": "execute_result"
    }
   ],
   "source": [
    "ds_new = []\n",
    "for i in range(len(ds['train'])):\n",
    "    try:\n",
    "        ds_new.append({\n",
    "            'id': ds['train'][i]['id'],\n",
    "            'context': ds['train'][i]['context'],\n",
    "            'question': ds['train'][i]['question'],\n",
    "            'answers': json.loads(ds['train'][i]['answers'].replace('\"N', '\\\\\"N').replace('0\"', '0\\\\\"').replace('1\"', '1\\\\\"').replace('1\"', '1\\\\\"').replace('\")', '\\\\\")').replace('\"B', '\\\\\"B').replace('\"D', '\\\\\"D')\n",
    "                                  .replace('5\"', '5\\\\\"').replace('3 \"', '3 \\\\\"').replace('8\"', '8\\\\\"').replace('4\"', '4\\\\\"').replace('\\\\xa03', ' 3').replace('\\\\xa0', ' ')\n",
    "                                  .replace('9\"', '9\\\\\"').replace('\"p\"', '\\\\\"p\\\\\"').replace('\"px\"', '\\\\\"px\\\\\"').replace('\"clișeu\"', '\\\\\"clișeu\\\\\"')\n",
    "                                  .replace('\"Indicator de poziție X-Y pentru un sistem de afișare\"', '\\\\\"Indicator de poziție X-Y pentru un sistem de afișare\\\\\"')\n",
    "                                  .replace('(\"', '(\\\\\"').replace('r\"', 'r\\\\\"').replace('\"s', '\\\\\"s').replace('(\\\\\\\\\"sursă\\\\\"', '(\\\\\"sursă\\\\\"')\n",
    "                                  .replace(\"'text'\", '\"text\"').replace(\"'answer_start'\", '\"answer_start\"').replace('e\"', 'e\\\\\"')\n",
    "                                  .replace('\"c', '\\\\\"c').replace('\"e', '\\\\\"e').replace('\"latent\"', '\\\\\"latent\\\\\"').replace('l\"', 'l\\\\\"')\n",
    "                                  .replace('\"în comutație\"', '\\\\\"în comutație\\\\\"').replace('\"InterNET\" și \"deskTOP\"', '\\\\\"InterNET\\\\\" și \\\\\"deskTOP\\\\\"')\n",
    "                                  .replace('scanare\"', 'scanare\\\\\"').replace('indigo\"', 'indigo\\\\\"').replace('\"ascunde\"', '\\\\\"ascunde\\\\\"')\n",
    "                                  .replace('ă\"', 'ă\\\\\"').replace('\"f', '\\\\\"f').replace('\"î', '\\\\\"î').replace('\"asc', '\\\\\"asc')\n",
    "                                  .replace('\"m', '\\\\\"m').replace('\"gâtului\"', '\\\\\"gâtului\\\\\"').replace('\"jumpy\"', '\\\\\"jumpy\\\\\"')\n",
    "                                  .replace('\"Start\"', '\\\\\"Start\\\\\"').replace('\"or', '\\\\\"or').replace('\"Aero\"', '\\\\\"Aero\\\\\"')\n",
    "                                  .replace('\"Tony The Ant\"', '\\\\\"Tony The Ant\\\\\"').replace('6,7\"', '6,7\\\\\"').replace('6.47\"', '6.47\\\\\"')\n",
    "                                  .replace('6.53\"', '6.53\\\\\"')\n",
    "                                  .replace('\"on demand\"', '\\\\\"on demand\\\\\"').replace('\"Timofonica\"', '\\\\\"Timofonica\\\\\"').replace('u\"', 'u\\\\\"')\n",
    "                                  .replace('[\\'', '[\"').replace('\\']', '\"]').replace(\"',\", '\",').replace(\", '\", ', \"').replace('\\\\\\\\', '\\\\')),\n",
    "        })\n",
    "    except Exception as e:\n",
    "        print(ds['train'][i]['answers'].replace('\"N', '\\\\\"N').replace('0\"', '0\\\\\"').replace('1\"', '1\\\\\"').replace('1\"', '1\\\\\"').replace('\")', '\\\\\")').replace('\"B', '\\\\\"B').replace('\"D', '\\\\\"D')\n",
    "                                  .replace('5\"', '5\\\\\"').replace('3 \"', '3 \\\\\"').replace('8\"', '8\\\\\"').replace('4\"', '4\\\\\"').replace('\\\\xa03', ' 3').replace('\\\\xa0', ' ')\n",
    "                                  .replace('9\"', '9\\\\\"').replace('\"p\"', '\\\\\"p\\\\\"').replace('\"px\"', '\\\\\"px\\\\\"').replace('\"clișeu\"', '\\\\\"clișeu\\\\\"')\n",
    "                                  .replace('\"Indicator de poziție X-Y pentru un sistem de afișare\"', '\\\\\"Indicator de poziție X-Y pentru un sistem de afișare\\\\\"')\n",
    "                                  .replace('(\"', '(\\\\\"').replace('r\"', 'r\\\\\"').replace('\"s', '\\\\\"s').replace('(\\\\\\\\\"sursă\\\\\"', '(\\\\\"sursă\\\\\"')\n",
    "                                  .replace(\"'text'\", '\"text\"').replace(\"'answer_start'\", '\"answer_start\"').replace('e\"', 'e\\\\\"')\n",
    "                                  .replace('\"c', '\\\\\"c').replace('\"e', '\\\\\"e').replace('\"latent\"', '\\\\\"latent\\\\\"').replace('l\"', 'l\\\\\"')\n",
    "                                  .replace('\"în comutație\"', '\\\\\"în comutație\\\\\"').replace('\"InterNET\" și \"deskTOP\"', '\\\\\"InterNET\\\\\" și \\\\\"deskTOP\\\\\"')\n",
    "                                  .replace('scanare\"', 'scanare\\\\\"').replace('indigo\"', 'indigo\\\\\"').replace('\"ascunde\"', '\\\\\"ascunde\\\\\"')\n",
    "                                  .replace('ă\"', 'ă\\\\\"').replace('\"f', '\\\\\"f').replace('\"î', '\\\\\"î').replace('\"asc', '\\\\\"asc')\n",
    "                                  .replace('\"m', '\\\\\"m').replace('\"gâtului\"', '\\\\\"gâtului\\\\\"').replace('\"jumpy\"', '\\\\\"jumpy\\\\\"')\n",
    "                                  .replace('\"Start\"', '\\\\\"Start\\\\\"').replace('\"or', '\\\\\"or').replace('\"Aero\"', '\\\\\"Aero\\\\\"')\n",
    "                                  .replace('\"Tony The Ant\"', '\\\\\"Tony The Ant\\\\\"').replace('6,7\"', '6,7\\\\\"').replace('6.47\"', '6.47\\\\\"')\n",
    "                                  .replace('6.53\"', '6.53\\\\\"')\n",
    "                                  .replace('\"on demand\"', '\\\\\"on demand\\\\\"').replace('\"Timofonica\"', '\\\\\"Timofonica\\\\\"').replace('u\"', 'u\\\\\"')\n",
    "                                  .replace('[\\'', '[\"').replace('\\']', '\"]').replace(\"',\", '\",').replace(\", '\", ', \"').replace('\\\\\\\\', '\\\\'))\n",
    "        print(ds['train'][i]['answers'])\n",
    "        print(ds['train'][i]['context'])\n",
    "        print(e)\n",
    "        break\n",
    "ds_new[:10]"
   ]
  },
  {
   "cell_type": "code",
   "execution_count": null,
   "metadata": {},
   "outputs": [],
   "source": [
    "df_new = pd.DataFrame(ds_new)\n",
    "df_new.head(1)\n",
    "\n",
    "df_new['answers'] = df_new['answers'].apply(lambda x: json.dumps(x))\n",
    "df_new.to_csv('ds_roitd_ollama_final_new.csv', index=False)"
   ]
  },
  {
   "cell_type": "code",
   "execution_count": 110,
   "metadata": {},
   "outputs": [],
   "source": [
    "with open('ds_roitd_ollama_final_new.json', 'w') as f:\n",
    "    json.dump(ds_new, f, indent=4)"
   ]
  },
  {
   "cell_type": "code",
   "execution_count": 112,
   "metadata": {},
   "outputs": [
    {
     "data": {
      "text/plain": [
       "[96, 95]"
      ]
     },
     "execution_count": 112,
     "metadata": {},
     "output_type": "execute_result"
    }
   ],
   "source": [
    "df_test = load_dataset(\"json\", data_files=\"ds_roitd_ollama_final_new.json\")\n",
    "df_test['train'][0]['answers']['answer_start']"
   ]
  },
  {
   "cell_type": "code",
   "execution_count": 113,
   "metadata": {},
   "outputs": [
    {
     "data": {
      "application/vnd.jupyter.widget-view+json": {
       "model_id": "d8ae099489394486a71533ea7a55533e",
       "version_major": 2,
       "version_minor": 0
      },
      "text/plain": [
       "Filter:   0%|          | 0/4417 [00:00<?, ? examples/s]"
      ]
     },
     "metadata": {},
     "output_type": "display_data"
    },
    {
     "data": {
      "text/plain": [
       "DatasetDict({\n",
       "    train: Dataset({\n",
       "        features: ['id', 'context', 'question', 'answers'],\n",
       "        num_rows: 154\n",
       "    })\n",
       "})"
      ]
     },
     "execution_count": 113,
     "metadata": {},
     "output_type": "execute_result"
    }
   ],
   "source": [
    "df_test = df_test.filter(lambda x: len(x[\"answers\"][\"text\"]) > 1)\n",
    "df_test"
   ]
  },
  {
   "cell_type": "code",
   "execution_count": 118,
   "metadata": {},
   "outputs": [],
   "source": [
    "df_sorted = []\n",
    "eval_answer = SentenceTransformer(\"BlackKakapo/stsb-xlm-r-multilingual-ro\")\n",
    "\n",
    "num_better_llm = 0\n",
    "\n",
    "for item in df_test['train']:\n",
    "    texts = item['answers']['text']\n",
    "    scores = []\n",
    "    \n",
    "    for text in texts:\n",
    "        scores.append(util.pytorch_cos_sim(eval_answer.encode(text[0], convert_to_tensor=True), eval_answer.encode(item['question'], convert_to_tensor=True)).item())\n",
    "    \n",
    "    if scores[0] == scores[1]:\n",
    "        scores[0] -= len(texts[0])\n",
    "        scores[1] -= len(texts[1])\n",
    "    \n",
    "    text_to_place = []\n",
    "    ans_start = []\n",
    "    if scores[0] < scores[1]:\n",
    "        text_to_place.append(texts[0])\n",
    "        ans_start.append(item['context'].find(texts[0]))\n",
    "        text_to_place.append(texts[1])\n",
    "        ans_start.append(item['context'].find(texts[1]))\n",
    "    else:\n",
    "        num_better_llm += 1\n",
    "        text_to_place.append(texts[1])\n",
    "        ans_start.append(item['context'].find(texts[1]))\n",
    "        text_to_place.append(texts[0])\n",
    "        ans_start.append(item['context'].find(texts[0]))\n",
    "        \n",
    "    df_sorted.append({\n",
    "        'id': item['id'],\n",
    "        'context': item['context'],\n",
    "        'question': item['question'],\n",
    "        'answers': {\n",
    "            'text': text_to_place,\n",
    "            'answer_start': ans_start\n",
    "        }\n",
    "    })\n",
    "    \n",
    "df_sorted[:10]\n",
    "\n",
    "df_sorted = pd.DataFrame(df_sorted)\n",
    "\n",
    "df_other_new = df_new[~df_new['id'].isin(df_sorted['id'])]\n",
    "\n",
    "df_sorted_final = pd.concat([df_sorted, df_other_new])\n",
    "# df_sorted_final.to_json('ds_roitd_ollama_final_sorted.json', index=False)"
   ]
  },
  {
   "cell_type": "code",
   "execution_count": 134,
   "metadata": {},
   "outputs": [],
   "source": [
    "ds_sorted_final = []\n",
    "ids = []\n",
    "for i in range(len(df_sorted)):\n",
    "    ds_sorted_final.append({\n",
    "        'id': df_sorted['id'][i],\n",
    "        'context': df_sorted['context'][i],\n",
    "        'question': df_sorted['question'][i],\n",
    "        'answers': df_sorted['answers'][i]\n",
    "    })\n",
    "    \n",
    "    ids.append(df_sorted['id'][i])\n",
    "    \n",
    "for i in range(len(ds_new)):\n",
    "    if ds_new[i]['id'] in ids:\n",
    "        continue\n",
    "    ds_sorted_final.append(ds_new[i])\n",
    "\n",
    "# with open('ds_roitd_ollama_final_sorted.json', 'w') as f:\n",
    "#     json.dump(ds_sorted_final, f, indent=4)"
   ]
  },
  {
   "cell_type": "code",
   "execution_count": 135,
   "metadata": {},
   "outputs": [
    {
     "data": {
      "text/plain": [
       "[{'id': 'PM67V3174',\n",
       "  'context': 'Telefon mobil Samsung Galaxy S20 Ultra, Dual SIM, 128GB, 12GB RAM, 5G, Cloud White\\xa0Rezolutia de 108 MP iti permite sa apropii imaginea oricat ai nevoie.\\xa0\\xa0Mult mai performant decat modele din categoria cu 12 megapixeli, Galaxy S20 Ultra iti ofera milioane de pixeli in plus in fiecare fotografie. Ceea ce inseamna ca, pentru prima oara, poti apropia imaginile pentru a vedea detalii pe care nu le-ai observat pana acum. Mareste imaginea de 100 de ori pentru a observa cadre pe care nici nu le-ai observat pana acum.\\xa0\\xa0',\n",
       "  'question': 'Ce iti ofera in plus Galaxy S20 Ultra in fiecare fotografie?',\n",
       "  'answers': {'text': ['milioane de pixeli'], 'answer_start': [246]}},\n",
       " {'id': 'BD33L1932',\n",
       "  'context': 'Telefon mobil Samsung Galaxy S20 Ultra, Dual SIM, 128GB, 12GB RAM, 5G, Cloud White\\xa0Rezolutia de 108 MP iti permite sa apropii imaginea oricat ai nevoie.\\xa0\\xa0Mult mai performant decat modele din categoria cu 12 megapixeli, Galaxy S20 Ultra iti ofera milioane de pixeli in plus in fiecare fotografie. Ceea ce inseamna ca, pentru prima oara, poti apropia imaginile pentru a vedea detalii pe care nu le-ai observat pana acum. Mareste imaginea de 100 de ori pentru a observa cadre pe care nici nu le-ai observat pana acum.\\xa0\\xa0',\n",
       "  'question': 'De cat cine este mai performant Galaxy S20 Ultra?',\n",
       "  'answers': {'text': ['decat modele din categoria cu 12 megapixeli'],\n",
       "   'answer_start': [174]}},\n",
       " {'id': 'NH43A3440',\n",
       "  'context': 'Telefon mobil Samsung Galaxy S10+, Dual SIM, 128GB, 8GB RAM, 4G, Black\\xa0Afisajul Cinema-Grade pe care trebuie sa-l vezi cu ochii tai. Ecranul Dynamic AMOLED de generatie urmatoare este certificat HDR10+ si prevazut cu cartografiere dinamica a culorii, pentru culori uimitor de reale si contrast la fiecare cadru chiar si la cele intunecate. Iar ecranul mai luminos iti permite sa vezi totul si mai clar chiar si in lumina puternica a zilei. Impreuna cu difuzoarele stereo si Dolby Atmos, iti ofera o experienta cu adevarat imersiva.\\xa0',\n",
       "  'question': 'Ce trebuie sa vezi cu ochii tai la Samsung Galaxy S10+?',\n",
       "  'answers': {'text': ['Afisajul Cinema-Grade'], 'answer_start': [71]}},\n",
       " {'id': 'FC34G7294',\n",
       "  'context': 'Telefon mobil Samsung Galaxy S10+, Dual SIM, 128GB, 8GB RAM, 4G, Black\\xa0Afisajul Cinema-Grade pe care trebuie sa-l vezi cu ochii tai. Ecranul Dynamic AMOLED de generatie urmatoare este certificat HDR10+ si prevazut cu cartografiere dinamica a culorii, pentru culori uimitor de reale si contrast la fiecare cadru chiar si la cele intunecate. Iar ecranul mai luminos iti permite sa vezi totul si mai clar chiar si in lumina puternica a zilei. Impreuna cu difuzoarele stereo si Dolby Atmos, iti ofera o experienta cu adevarat imersiva.\\xa0',\n",
       "  'question': 'Cu ce este prevazut Ecranul Dynamic AMOLED?',\n",
       "  'answers': {'text': ['cu cartografiere dinamica a culorii'],\n",
       "   'answer_start': [214]}},\n",
       " {'id': 'CJ26I2857',\n",
       "  'context': 'Telefon mobil Samsung Galaxy S10+, Dual SIM, 128GB, 8GB RAM, 4G, Black\\xa0Afisajul Cinema-Grade pe care trebuie sa-l vezi cu ochii tai. Ecranul Dynamic AMOLED de generatie urmatoare este certificat HDR10+ si prevazut cu cartografiere dinamica a culorii, pentru culori uimitor de reale si contrast la fiecare cadru chiar si la cele intunecate. Iar ecranul mai luminos iti permite sa vezi totul si mai clar chiar si in lumina puternica a zilei. Impreuna cu difuzoarele stereo si Dolby Atmos, iti ofera o experienta cu adevarat imersiva.\\xa0',\n",
       "  'question': 'Care este certificarea Ecranului Dynamic AMOLED la Samsung Galaxy S10+?',\n",
       "  'answers': {'text': ['HDR10+'], 'answer_start': [195]}},\n",
       " {'id': 'PP60L7739',\n",
       "  'context': 'Telefon mobil Samsung Galaxy Note 20 Ultra, Dual SIM, 256GB, 12GB RAM, 5G, Mystick Black S Pen ofera o latenta redusa inovatoare, pentru a genera o experienta de scriere incredibil de realista. Asociat cu versatilitatea Bluetooth, controlul gesturilor si multe altele, este cel mai puternic instrument de scris Galaxy.\\xa0\\xa0Transforma notele in text, apoi textul in PowerPoint, cu o usurinta incredibila\\xa0De la mazgaleli strambe la scriere dreapta, de mana, cu o simpla atingere',\n",
       "  'question': 'Ce ofera S Pen la Samsung Galaxy Note 20 Ultra?',\n",
       "  'answers': {'text': ['ofera o latenta redusa inovatoare, pentru a genera o experienta de scriere incredibil de realista'],\n",
       "   'answer_start': [95]}},\n",
       " {'id': 'GQ19E6328',\n",
       "  'context': 'Telefon mobil Samsung Galaxy Note 20 Ultra, Dual SIM, 256GB, 12GB RAM, 5G, Mystick Black S Pen ofera o latenta redusa inovatoare, pentru a genera o experienta de scriere incredibil de realista. Asociat cu versatilitatea Bluetooth, controlul gesturilor si multe altele, este cel mai puternic instrument de scris Galaxy.\\xa0\\xa0Transforma notele in text, apoi textul in PowerPoint, cu o usurinta incredibila\\xa0De la mazgaleli strambe la scriere dreapta, de mana, cu o simpla atingere',\n",
       "  'question': 'Care este cel mai puternic instrument de scris Galaxy?',\n",
       "  'answers': {'text': ['S Pen'], 'answer_start': [89]}},\n",
       " {'id': 'IU78Y2483',\n",
       "  'context': 'Telefon mobil Samsung Galaxy Note 20 Ultra, Dual SIM, 256GB, 12GB RAM, 5G, Mystick Black S Pen ofera o latenta redusa inovatoare, pentru a genera o experienta de scriere incredibil de realista. Asociat cu versatilitatea Bluetooth, controlul gesturilor si multe altele, este cel mai puternic instrument de scris Galaxy.\\xa0\\xa0Transforma notele in text, apoi textul in PowerPoint, cu o usurinta incredibila\\xa0De la mazgaleli strambe la scriere dreapta, de mana, cu o simpla atingere',\n",
       "  'question': 'Ce face cu o usurinta incredibila Samsung Galaxy Note 20 Ultra?',\n",
       "  'answers': {'text': ['Transforma notele in text, apoi textul in PowerPoint'],\n",
       "   'answer_start': [320]}},\n",
       " {'id': 'EP22N6368',\n",
       "  'context': 'Telefon mobil Apple iPhone SE 2, 64GB, 4G, Red. QuickTake, Atunci cand o poza grozava are sansa sa devina un videoclip extraordinar, poti inregistra instantaneu cu o apasare.\\xa0Cu Touch ID, poti sa deblochezi in siguranta iPhone-ul si sa te autentifici instant in aplicatii. Il poti folosi chiar si cu Apple Pay ca sa-ti cumperi o cafea, o aplicatie de yoga sau tenisii pe care ii gasesti doar online. Totul fara sa scoti cardul.\\xa0Toate mesajele iMessage pe care le trimiti sunt criptate. ',\n",
       "  'question': 'Ce poti sa faci cu Touch ID?',\n",
       "  'answers': {'text': ['sa deblochezi in siguranta iPhone-ul si sa te autentifici instant in aplicatii'],\n",
       "   'answer_start': [193]}},\n",
       " {'id': 'WL45B1789',\n",
       "  'context': 'Telefon mobil Apple iPhone SE 2, 64GB, 4G, Red. QuickTake, Atunci cand o poza grozava are sansa sa devina un videoclip extraordinar, poti inregistra instantaneu cu o apasare.\\xa0Cu Touch ID, poti sa deblochezi in siguranta iPhone-ul si sa te autentifici instant in aplicatii. Il poti folosi chiar si cu Apple Pay ca sa-ti cumperi o cafea, o aplicatie de yoga sau tenisii pe care ii gasesti doar online. Totul fara sa scoti cardul.\\xa0Toate mesajele iMessage pe care le trimiti sunt criptate. ',\n",
       "  'question': 'La ce oti folosi Apple Pay?',\n",
       "  'answers': {'text': ['ca sa-ti cumperi o cafea, o aplicatie de yoga sau tenisii pe care ii gasesti doar online'],\n",
       "   'answer_start': [310]}}]"
      ]
     },
     "execution_count": 135,
     "metadata": {},
     "output_type": "execute_result"
    }
   ],
   "source": [
    "ds_sorted_final[-10:]"
   ]
  },
  {
   "cell_type": "code",
   "execution_count": 136,
   "metadata": {},
   "outputs": [],
   "source": [
    "with open('ds_roitd_ollama_final_sorted_2.json', 'w') as f:\n",
    "    json.dump(ds_sorted_final, f, indent=4)"
   ]
  },
  {
   "cell_type": "code",
   "execution_count": 137,
   "metadata": {},
   "outputs": [
    {
     "name": "stdout",
     "output_type": "stream",
     "text": [
      "4417\n"
     ]
    }
   ],
   "source": [
    "print(len(ds_sorted_final))"
   ]
  },
  {
   "cell_type": "code",
   "execution_count": 120,
   "metadata": {},
   "outputs": [
    {
     "data": {
      "text/plain": [
       "56"
      ]
     },
     "execution_count": 120,
     "metadata": {},
     "output_type": "execute_result"
    }
   ],
   "source": [
    "num_better_llm"
   ]
  },
  {
   "cell_type": "code",
   "execution_count": 124,
   "metadata": {},
   "outputs": [
    {
     "data": {
      "text/plain": [
       "[{'id': 'PM67V3174',\n",
       "  'context': 'Telefon mobil Samsung Galaxy S20 Ultra, Dual SIM, 128GB, 12GB RAM, 5G, Cloud White\\xa0Rezolutia de 108 MP iti permite sa apropii imaginea oricat ai nevoie.\\xa0\\xa0Mult mai performant decat modele din categoria cu 12 megapixeli, Galaxy S20 Ultra iti ofera milioane de pixeli in plus in fiecare fotografie. Ceea ce inseamna ca, pentru prima oara, poti apropia imaginile pentru a vedea detalii pe care nu le-ai observat pana acum. Mareste imaginea de 100 de ori pentru a observa cadre pe care nici nu le-ai observat pana acum.\\xa0\\xa0',\n",
       "  'question': 'Ce iti ofera in plus Galaxy S20 Ultra in fiecare fotografie?',\n",
       "  'answers': '{\"text\": [\"milioane de pixeli\"], \"answer_start\": [246]}'},\n",
       " {'id': 'BD33L1932',\n",
       "  'context': 'Telefon mobil Samsung Galaxy S20 Ultra, Dual SIM, 128GB, 12GB RAM, 5G, Cloud White\\xa0Rezolutia de 108 MP iti permite sa apropii imaginea oricat ai nevoie.\\xa0\\xa0Mult mai performant decat modele din categoria cu 12 megapixeli, Galaxy S20 Ultra iti ofera milioane de pixeli in plus in fiecare fotografie. Ceea ce inseamna ca, pentru prima oara, poti apropia imaginile pentru a vedea detalii pe care nu le-ai observat pana acum. Mareste imaginea de 100 de ori pentru a observa cadre pe care nici nu le-ai observat pana acum.\\xa0\\xa0',\n",
       "  'question': 'De cat cine este mai performant Galaxy S20 Ultra?',\n",
       "  'answers': '{\"text\": [\"decat modele din categoria cu 12 megapixeli\"], \"answer_start\": [174]}'},\n",
       " {'id': 'NH43A3440',\n",
       "  'context': 'Telefon mobil Samsung Galaxy S10+, Dual SIM, 128GB, 8GB RAM, 4G, Black\\xa0Afisajul Cinema-Grade pe care trebuie sa-l vezi cu ochii tai. Ecranul Dynamic AMOLED de generatie urmatoare este certificat HDR10+ si prevazut cu cartografiere dinamica a culorii, pentru culori uimitor de reale si contrast la fiecare cadru chiar si la cele intunecate. Iar ecranul mai luminos iti permite sa vezi totul si mai clar chiar si in lumina puternica a zilei. Impreuna cu difuzoarele stereo si Dolby Atmos, iti ofera o experienta cu adevarat imersiva.\\xa0',\n",
       "  'question': 'Ce trebuie sa vezi cu ochii tai la Samsung Galaxy S10+?',\n",
       "  'answers': '{\"text\": [\"Afisajul Cinema-Grade\"], \"answer_start\": [71]}'},\n",
       " {'id': 'FC34G7294',\n",
       "  'context': 'Telefon mobil Samsung Galaxy S10+, Dual SIM, 128GB, 8GB RAM, 4G, Black\\xa0Afisajul Cinema-Grade pe care trebuie sa-l vezi cu ochii tai. Ecranul Dynamic AMOLED de generatie urmatoare este certificat HDR10+ si prevazut cu cartografiere dinamica a culorii, pentru culori uimitor de reale si contrast la fiecare cadru chiar si la cele intunecate. Iar ecranul mai luminos iti permite sa vezi totul si mai clar chiar si in lumina puternica a zilei. Impreuna cu difuzoarele stereo si Dolby Atmos, iti ofera o experienta cu adevarat imersiva.\\xa0',\n",
       "  'question': 'Cu ce este prevazut Ecranul Dynamic AMOLED?',\n",
       "  'answers': '{\"text\": [\"cu cartografiere dinamica a culorii\"], \"answer_start\": [214]}'},\n",
       " {'id': 'CJ26I2857',\n",
       "  'context': 'Telefon mobil Samsung Galaxy S10+, Dual SIM, 128GB, 8GB RAM, 4G, Black\\xa0Afisajul Cinema-Grade pe care trebuie sa-l vezi cu ochii tai. Ecranul Dynamic AMOLED de generatie urmatoare este certificat HDR10+ si prevazut cu cartografiere dinamica a culorii, pentru culori uimitor de reale si contrast la fiecare cadru chiar si la cele intunecate. Iar ecranul mai luminos iti permite sa vezi totul si mai clar chiar si in lumina puternica a zilei. Impreuna cu difuzoarele stereo si Dolby Atmos, iti ofera o experienta cu adevarat imersiva.\\xa0',\n",
       "  'question': 'Care este certificarea Ecranului Dynamic AMOLED la Samsung Galaxy S10+?',\n",
       "  'answers': '{\"text\": [\"HDR10+\"], \"answer_start\": [195]}'},\n",
       " {'id': 'PP60L7739',\n",
       "  'context': 'Telefon mobil Samsung Galaxy Note 20 Ultra, Dual SIM, 256GB, 12GB RAM, 5G, Mystick Black S Pen ofera o latenta redusa inovatoare, pentru a genera o experienta de scriere incredibil de realista. Asociat cu versatilitatea Bluetooth, controlul gesturilor si multe altele, este cel mai puternic instrument de scris Galaxy.\\xa0\\xa0Transforma notele in text, apoi textul in PowerPoint, cu o usurinta incredibila\\xa0De la mazgaleli strambe la scriere dreapta, de mana, cu o simpla atingere',\n",
       "  'question': 'Ce ofera S Pen la Samsung Galaxy Note 20 Ultra?',\n",
       "  'answers': '{\"text\": [\"ofera o latenta redusa inovatoare, pentru a genera o experienta de scriere incredibil de realista\"], \"answer_start\": [95]}'},\n",
       " {'id': 'GQ19E6328',\n",
       "  'context': 'Telefon mobil Samsung Galaxy Note 20 Ultra, Dual SIM, 256GB, 12GB RAM, 5G, Mystick Black S Pen ofera o latenta redusa inovatoare, pentru a genera o experienta de scriere incredibil de realista. Asociat cu versatilitatea Bluetooth, controlul gesturilor si multe altele, este cel mai puternic instrument de scris Galaxy.\\xa0\\xa0Transforma notele in text, apoi textul in PowerPoint, cu o usurinta incredibila\\xa0De la mazgaleli strambe la scriere dreapta, de mana, cu o simpla atingere',\n",
       "  'question': 'Care este cel mai puternic instrument de scris Galaxy?',\n",
       "  'answers': '{\"text\": [\"S Pen\"], \"answer_start\": [89]}'},\n",
       " {'id': 'IU78Y2483',\n",
       "  'context': 'Telefon mobil Samsung Galaxy Note 20 Ultra, Dual SIM, 256GB, 12GB RAM, 5G, Mystick Black S Pen ofera o latenta redusa inovatoare, pentru a genera o experienta de scriere incredibil de realista. Asociat cu versatilitatea Bluetooth, controlul gesturilor si multe altele, este cel mai puternic instrument de scris Galaxy.\\xa0\\xa0Transforma notele in text, apoi textul in PowerPoint, cu o usurinta incredibila\\xa0De la mazgaleli strambe la scriere dreapta, de mana, cu o simpla atingere',\n",
       "  'question': 'Ce face cu o usurinta incredibila Samsung Galaxy Note 20 Ultra?',\n",
       "  'answers': '{\"text\": [\"Transforma notele in text, apoi textul in PowerPoint\"], \"answer_start\": [320]}'},\n",
       " {'id': 'EP22N6368',\n",
       "  'context': 'Telefon mobil Apple iPhone SE 2, 64GB, 4G, Red. QuickTake, Atunci cand o poza grozava are sansa sa devina un videoclip extraordinar, poti inregistra instantaneu cu o apasare.\\xa0Cu Touch ID, poti sa deblochezi in siguranta iPhone-ul si sa te autentifici instant in aplicatii. Il poti folosi chiar si cu Apple Pay ca sa-ti cumperi o cafea, o aplicatie de yoga sau tenisii pe care ii gasesti doar online. Totul fara sa scoti cardul.\\xa0Toate mesajele iMessage pe care le trimiti sunt criptate. ',\n",
       "  'question': 'Ce poti sa faci cu Touch ID?',\n",
       "  'answers': '{\"text\": [\"sa deblochezi in siguranta iPhone-ul si sa te autentifici instant in aplicatii\"], \"answer_start\": [193]}'},\n",
       " {'id': 'WL45B1789',\n",
       "  'context': 'Telefon mobil Apple iPhone SE 2, 64GB, 4G, Red. QuickTake, Atunci cand o poza grozava are sansa sa devina un videoclip extraordinar, poti inregistra instantaneu cu o apasare.\\xa0Cu Touch ID, poti sa deblochezi in siguranta iPhone-ul si sa te autentifici instant in aplicatii. Il poti folosi chiar si cu Apple Pay ca sa-ti cumperi o cafea, o aplicatie de yoga sau tenisii pe care ii gasesti doar online. Totul fara sa scoti cardul.\\xa0Toate mesajele iMessage pe care le trimiti sunt criptate. ',\n",
       "  'question': 'La ce oti folosi Apple Pay?',\n",
       "  'answers': '{\"text\": [\"ca sa-ti cumperi o cafea, o aplicatie de yoga sau tenisii pe care ii gasesti doar online\"], \"answer_start\": [310]}'}]"
      ]
     },
     "execution_count": 124,
     "metadata": {},
     "output_type": "execute_result"
    }
   ],
   "source": [
    "# ds_test_json = None\n",
    "# with open('ds_roitd_ollama_final_sorted.json', 'r') as f:\n",
    "#     ds_test_json = json.load(f)\n",
    "# ds_test_json[-10:]"
   ]
  }
 ],
 "metadata": {
  "kernelspec": {
   "display_name": "venv",
   "language": "python",
   "name": "python3"
  },
  "language_info": {
   "codemirror_mode": {
    "name": "ipython",
    "version": 3
   },
   "file_extension": ".py",
   "mimetype": "text/x-python",
   "name": "python",
   "nbconvert_exporter": "python",
   "pygments_lexer": "ipython3",
   "version": "3.10.12"
  }
 },
 "nbformat": 4,
 "nbformat_minor": 2
}
