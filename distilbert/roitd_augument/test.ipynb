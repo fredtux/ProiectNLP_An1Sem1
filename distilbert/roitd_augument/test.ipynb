{
 "cells": [
  {
   "cell_type": "code",
   "execution_count": 1,
   "metadata": {},
   "outputs": [],
   "source": [
    "import json\n",
    "import pandas as pd\n",
    "from datasets import load_dataset"
   ]
  },
  {
   "cell_type": "code",
   "execution_count": 2,
   "metadata": {},
   "outputs": [
    {
     "data": {
      "text/plain": [
       "(4417, 4)"
      ]
     },
     "execution_count": 2,
     "metadata": {},
     "output_type": "execute_result"
    }
   ],
   "source": [
    "with open('ds_roitd_augumented.json') as f:\n",
    "    data = json.load(f)\n",
    "    \n",
    "df = pd.DataFrame(data)\n",
    "df.shape"
   ]
  },
  {
   "cell_type": "code",
   "execution_count": 3,
   "metadata": {},
   "outputs": [
    {
     "data": {
      "text/html": [
       "<div>\n",
       "<style scoped>\n",
       "    .dataframe tbody tr th:only-of-type {\n",
       "        vertical-align: middle;\n",
       "    }\n",
       "\n",
       "    .dataframe tbody tr th {\n",
       "        vertical-align: top;\n",
       "    }\n",
       "\n",
       "    .dataframe thead th {\n",
       "        text-align: right;\n",
       "    }\n",
       "</style>\n",
       "<table border=\"1\" class=\"dataframe\">\n",
       "  <thead>\n",
       "    <tr style=\"text-align: right;\">\n",
       "      <th></th>\n",
       "      <th>id</th>\n",
       "      <th>context</th>\n",
       "      <th>question</th>\n",
       "      <th>answers</th>\n",
       "    </tr>\n",
       "  </thead>\n",
       "  <tbody>\n",
       "    <tr>\n",
       "      <th>0</th>\n",
       "      <td>YJ95VF1770</td>\n",
       "      <td>Aplicatii &amp; notificari (disponibil cand telefo...</td>\n",
       "      <td>Ce tip de ecran conduce la o încărcare mai rar...</td>\n",
       "      <td>{'text': ['Ecran always-o', 'Ecran always-on']...</td>\n",
       "    </tr>\n",
       "    <tr>\n",
       "      <th>1</th>\n",
       "      <td>YL83VU1211</td>\n",
       "      <td>Utilizati senzorul Pulse Ox pentru a verifica ...</td>\n",
       "      <td>Ce senzor este utilizat pentru observarea temp...</td>\n",
       "      <td>{'text': ['senzorul Pulse Ox ', 'Pulse Ox'], '...</td>\n",
       "    </tr>\n",
       "  </tbody>\n",
       "</table>\n",
       "</div>"
      ],
      "text/plain": [
       "           id                                            context  \\\n",
       "0  YJ95VF1770  Aplicatii & notificari (disponibil cand telefo...   \n",
       "1  YL83VU1211  Utilizati senzorul Pulse Ox pentru a verifica ...   \n",
       "\n",
       "                                            question  \\\n",
       "0  Ce tip de ecran conduce la o încărcare mai rar...   \n",
       "1  Ce senzor este utilizat pentru observarea temp...   \n",
       "\n",
       "                                             answers  \n",
       "0  {'text': ['Ecran always-o', 'Ecran always-on']...  \n",
       "1  {'text': ['senzorul Pulse Ox ', 'Pulse Ox'], '...  "
      ]
     },
     "execution_count": 3,
     "metadata": {},
     "output_type": "execute_result"
    }
   ],
   "source": [
    "df.head(2)"
   ]
  },
  {
   "cell_type": "code",
   "execution_count": 4,
   "metadata": {},
   "outputs": [
    {
     "data": {
      "text/plain": [
       "{'version': ['v2.0', 'v2.0'],\n",
       " 'title': ['IT1', 'IT1'],\n",
       " 'paragraph': ['Watch GT introduce pentru prima oara arhitectura de chipset dublu in industrie si acest nou design ofera o autonomie a bateriei de doua saptamani, pentru a tine pasul cu tine, oriunde ai merge.',\n",
       "  'GPS-ul modern accepta trei sisteme de pozitionare prin satelit (GPS, GLONASS, GALILEO) in intreaga lume pentru a oferi o pozitionare mai precisa si mai rapida.'],\n",
       " 'question': ['Care este elementul introdus în premieră?',\n",
       "  'Care sunt sistemele de poziționare acceptate?'],\n",
       " 'id': ['DM73AK8339', 'KK33CS4577'],\n",
       " 'answer': [' arhitectura de chipset dublu', 'GPS, GLONASS, GALILEO'],\n",
       " 'answer_start': ['37', '65'],\n",
       " 'is_impossible': ['TRUE', 'TRUE'],\n",
       " 'Unnamed: 8': [None, None],\n",
       " 'Unnamed: 9': [None, None]}"
      ]
     },
     "execution_count": 4,
     "metadata": {},
     "output_type": "execute_result"
    }
   ],
   "source": [
    "ds_roitd = load_dataset(\"dragosnicolae555/RoITD\")\n",
    "ds_roitd['train'][:2]"
   ]
  },
  {
   "cell_type": "code",
   "execution_count": 5,
   "metadata": {},
   "outputs": [
    {
     "data": {
      "text/plain": [
       "{'version': 'v2.0',\n",
       " 'title': 'IT1',\n",
       " 'paragraph': 'Aplicatii & notificari (disponibil cand telefonul este in apropiere);\\nStocare si redare muzica;Ecran always-on (necesita o incarcare mai frecventa a bateriei);Autonomie baterie +5 zile (autonomnia bateriei variaza in functie de folosire si alti factori);Plata cu ceasul Fitbit Pay.',\n",
       " 'question': 'Ce tip de ecran conduce la o încărcare mai rară a dispozitivului?',\n",
       " 'id': 'YJ95VF1770',\n",
       " 'answer': 'Ecran always-o',\n",
       " 'answer_start': '96',\n",
       " 'is_impossible': 'FALSE',\n",
       " 'Unnamed: 8': None,\n",
       " 'Unnamed: 9': None}"
      ]
     },
     "execution_count": 5,
     "metadata": {},
     "output_type": "execute_result"
    }
   ],
   "source": [
    "ds_roitd.filter(lambda x: x['id'] == 'YJ95VF1770')['train'][0]"
   ]
  },
  {
   "cell_type": "code",
   "execution_count": 6,
   "metadata": {},
   "outputs": [
    {
     "data": {
      "text/plain": [
       "{'version': 'v2.0',\n",
       " 'title': 'IT1',\n",
       " 'paragraph': 'Utilizati senzorul Pulse Ox pentru a verifica saturatia de oxigen din sange in orice moment din zi, sau pentru o parte din noapte, in timpul somnului, pentru a arata cat de bine absoarbe corpul dvs. oxigen.\\n',\n",
       " 'question': 'Ce senzor este utilizat pentru observarea temperaturii corpului?',\n",
       " 'id': 'YL83VU1211',\n",
       " 'answer': 'senzorul Pulse Ox ',\n",
       " 'answer_start': '11',\n",
       " 'is_impossible': 'FALSE',\n",
       " 'Unnamed: 8': None,\n",
       " 'Unnamed: 9': None}"
      ]
     },
     "execution_count": 6,
     "metadata": {},
     "output_type": "execute_result"
    }
   ],
   "source": [
    "ds_roitd.filter(lambda x: x['id'] == 'YL83VU1211')['train'][0]"
   ]
  }
 ],
 "metadata": {
  "kernelspec": {
   "display_name": "venv",
   "language": "python",
   "name": "python3"
  },
  "language_info": {
   "codemirror_mode": {
    "name": "ipython",
    "version": 3
   },
   "file_extension": ".py",
   "mimetype": "text/x-python",
   "name": "python",
   "nbconvert_exporter": "python",
   "pygments_lexer": "ipython3",
   "version": "3.10.12"
  }
 },
 "nbformat": 4,
 "nbformat_minor": 2
}
